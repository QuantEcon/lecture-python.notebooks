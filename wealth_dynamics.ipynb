{
 "cells": [
  {
   "cell_type": "markdown",
   "id": "e1d0ab4f",
   "metadata": {},
   "source": [
    "# Wealth Distribution Dynamics"
   ]
  },
  {
   "cell_type": "markdown",
   "id": "1507e1ca",
   "metadata": {},
   "source": [
    "# GPU in use\n",
    "\n",
    "This lecture is accelerated via [hardware](https://python.quantecon.org/status.html#status-machine-details) that has access to a GPU and JAX for GPU programming.\n",
    "\n",
    "Free GPUs are available on Google Colab. To use this option, please click on the play icon top right, select Colab, and set the runtime environment to include a GPU.\n",
    "\n",
    "Alternatively, if you have your own GPU, you can follow the [instructions](https://github.com/google/jax#pip-installation-gpu-cuda) for installing JAX with GPU support."
   ]
  },
  {
   "cell_type": "markdown",
   "id": "a6047b50",
   "metadata": {},
   "source": [
    "## Contents\n",
    "\n",
    "- [Wealth Distribution Dynamics](#Wealth-Distribution-Dynamics)  \n",
    "  - [Overview](#Overview)  \n",
    "  - [Lorenz Curves and the Gini Coefficient](#Lorenz-Curves-and-the-Gini-Coefficient)  \n",
    "  - [A Model of Wealth Dynamics](#A-Model-of-Wealth-Dynamics)  \n",
    "  - [Implementation using JAX](#Implementation-using-JAX)  \n",
    "  - [Implementation using Numba](#Implementation-using-Numba)  \n",
    "  - [Applications](#Applications)  \n",
    "  - [Exercises](#Exercises)  "
   ]
  },
  {
   "cell_type": "markdown",
   "id": "33cd191c",
   "metadata": {},
   "source": [
    "In addition to what’s in Anaconda, this lecture will need the following libraries:"
   ]
  },
  {
   "cell_type": "code",
   "execution_count": null,
   "id": "d7e27f14",
   "metadata": {
    "hide-output": false
   },
   "outputs": [],
   "source": [
    "!pip install quantecon\n",
    "# If your machine has CUDA support, please follow the guide in GPU Warning.\n",
    "# Otherwise, run the line below:\n",
    "!pip install --upgrade \"jax[CPU]\""
   ]
  },
  {
   "cell_type": "markdown",
   "id": "4e53836a",
   "metadata": {},
   "source": [
    "## Overview\n",
    "\n",
    "This notebook gives an introduction to wealth distribution dynamics, with a\n",
    "focus on\n",
    "\n",
    "- modeling and computing the wealth distribution via simulation,  \n",
    "- measures of inequality such as the Lorenz curve and Gini coefficient, and  \n",
    "- how inequality is affected by the properties of wage income and returns on assets.  \n",
    "\n",
    "\n",
    "One interesting property of the wealth distribution we discuss is Pareto\n",
    "tails.\n",
    "\n",
    "The wealth distribution in many countries exhibits a Pareto tail\n",
    "\n",
    "- See [this lecture](https://python.quantecon.org/heavy_tails.html) for a definition.  \n",
    "- For a review of the empirical evidence, see, for example, [[BB18](https://python.quantecon.org/zreferences.html#id67)].  \n",
    "\n",
    "\n",
    "This is consistent with high concentration of wealth amongst the richest households.\n",
    "\n",
    "It also gives us a way to quantify such concentration, in terms of the tail index.\n",
    "\n",
    "One question of interest is whether or not we can replicate Pareto tails from a relatively simple model."
   ]
  },
  {
   "cell_type": "markdown",
   "id": "a935e682",
   "metadata": {},
   "source": [
    "### A Note on Assumptions\n",
    "\n",
    "The evolution of wealth for any given household depends on their\n",
    "savings behavior.\n",
    "\n",
    "Modeling such behavior will form an important part of this lecture series.\n",
    "\n",
    "However, in this particular lecture, we will be content with rather ad hoc (but plausible) savings rules.\n",
    "\n",
    "We do this to more easily explore the implications of different specifications of income dynamics and investment returns.\n",
    "\n",
    "At the same time, all of the techniques discussed here can be plugged into models that use optimization to obtain savings rules.\n",
    "\n",
    "We will use the following imports."
   ]
  },
  {
   "cell_type": "code",
   "execution_count": null,
   "id": "6bd6832b",
   "metadata": {
    "hide-output": false
   },
   "outputs": [],
   "source": [
    "%matplotlib inline\n",
    "import matplotlib.pyplot as plt\n",
    "plt.rcParams[\"figure.figsize\"] = (11, 5)  #set default figure size\n",
    "import numpy as np\n",
    "import quantecon as qe\n",
    "from numba import njit, float64, prange\n",
    "from numba.experimental import jitclass\n",
    "import jax\n",
    "import jax.numpy as jnp\n",
    "from collections import namedtuple\n",
    "from myst_nb import glue"
   ]
  },
  {
   "cell_type": "markdown",
   "id": "152f3494",
   "metadata": {},
   "source": [
    "Let’s check the backend used by JAX and the devices available"
   ]
  },
  {
   "cell_type": "code",
   "execution_count": null,
   "id": "b491a1af",
   "metadata": {
    "hide-output": false
   },
   "outputs": [],
   "source": [
    "# Check if JAX is using GPU\n",
    "print(f\"JAX backend: {jax.devices()[0].platform}\")\n",
    "# Check the devices available for JAX\n",
    "print(jax.devices())"
   ]
  },
  {
   "cell_type": "markdown",
   "id": "5d9741b6",
   "metadata": {},
   "source": [
    "## Lorenz Curves and the Gini Coefficient\n",
    "\n",
    "Before we investigate wealth dynamics, we briefly review some measures of\n",
    "inequality."
   ]
  },
  {
   "cell_type": "markdown",
   "id": "dc12fab8",
   "metadata": {},
   "source": [
    "### Lorenz Curves\n",
    "\n",
    "One popular graphical measure of inequality is the [Lorenz curve](https://en.wikipedia.org/wiki/Lorenz_curve).\n",
    "\n",
    "The package [QuantEcon.py](https://github.com/QuantEcon/QuantEcon.py), already imported above, contains a function to compute Lorenz curves.\n",
    "\n",
    "To illustrate, suppose that"
   ]
  },
  {
   "cell_type": "code",
   "execution_count": null,
   "id": "3ab4085b",
   "metadata": {
    "hide-output": false
   },
   "outputs": [],
   "source": [
    "n = 10_000                      # size of sample\n",
    "w = np.exp(np.random.randn(n))  # lognormal draws"
   ]
  },
  {
   "cell_type": "markdown",
   "id": "88a1db0f",
   "metadata": {},
   "source": [
    "is data representing the wealth of 10,000 households.\n",
    "\n",
    "We can compute and plot the Lorenz curve as follows:"
   ]
  },
  {
   "cell_type": "code",
   "execution_count": null,
   "id": "eb842ce0",
   "metadata": {
    "hide-output": false
   },
   "outputs": [],
   "source": [
    "f_vals, l_vals = qe.lorenz_curve(w)\n",
    "\n",
    "fig, ax = plt.subplots()\n",
    "ax.plot(f_vals, l_vals, label='Lorenz curve, lognormal sample')\n",
    "ax.plot(f_vals, f_vals, label='Lorenz curve, equality')\n",
    "ax.legend()\n",
    "plt.show()"
   ]
  },
  {
   "cell_type": "markdown",
   "id": "36cad00d",
   "metadata": {},
   "source": [
    "This curve can be understood as follows: if point $ (x,y) $ lies on the curve, it means that, collectively, the bottom $ (100x)\\% $ of the population holds $ (100y)\\% $ of the wealth.\n",
    "\n",
    "The “equality” line is the 45 degree line (which might not be exactly 45\n",
    "degrees in the figure, depending on the aspect ratio).\n",
    "\n",
    "A sample that produces this line exhibits perfect equality.\n",
    "\n",
    "The other line in the figure is the Lorenz curve for the lognormal sample, which deviates significantly from perfect equality.\n",
    "\n",
    "For example, the bottom 80% of the population holds around 40% of total wealth.\n",
    "\n",
    "Here is another example, which shows how the Lorenz curve shifts as the\n",
    "underlying distribution changes.\n",
    "\n",
    "We generate 10,000 observations using the Pareto distribution with a range of\n",
    "parameters, and then compute the Lorenz curve corresponding to each set of\n",
    "observations."
   ]
  },
  {
   "cell_type": "code",
   "execution_count": null,
   "id": "6677d02c",
   "metadata": {
    "hide-output": false
   },
   "outputs": [],
   "source": [
    "a_vals = (1, 2, 5)              # Pareto tail index\n",
    "n = 10_000                      # size of each sample\n",
    "fig, ax = plt.subplots()\n",
    "for a in a_vals:\n",
    "    u = np.random.uniform(size=n)\n",
    "    y = u**(-1/a)               # distributed as Pareto with tail index a\n",
    "    f_vals, l_vals = qe.lorenz_curve(y)\n",
    "    ax.plot(f_vals, l_vals, label=f'$a = {a}$')\n",
    "ax.plot(f_vals, f_vals, label='equality')\n",
    "ax.legend()\n",
    "plt.show()"
   ]
  },
  {
   "cell_type": "markdown",
   "id": "08e2a3b3",
   "metadata": {},
   "source": [
    "You can see that, as the tail parameter of the Pareto distribution increases, inequality decreases.\n",
    "\n",
    "This is to be expected, because a higher tail index implies less weight in the tail of the Pareto distribution."
   ]
  },
  {
   "cell_type": "markdown",
   "id": "fd74d443",
   "metadata": {},
   "source": [
    "### The Gini Coefficient\n",
    "\n",
    "The definition and interpretation of the Gini coefficient can be found on the corresponding [Wikipedia page](https://en.wikipedia.org/wiki/Gini_coefficient).\n",
    "\n",
    "A value of 0 indicates perfect equality (corresponding the case where the\n",
    "Lorenz curve matches the 45 degree line) and a value of 1 indicates complete\n",
    "inequality (all wealth held by the richest household).\n",
    "\n",
    "The [QuantEcon.py](https://github.com/QuantEcon/QuantEcon.py) library contains a function to calculate the Gini coefficient.\n",
    "\n",
    "We can test it on the Weibull distribution with parameter $ a $, where the Gini coefficient is known to be\n",
    "\n",
    "$$\n",
    "G = 1 - 2^{-1/a}\n",
    "$$\n",
    "\n",
    "Let’s see if the Gini coefficient computed from a simulated sample matches\n",
    "this at each fixed value of $ a $."
   ]
  },
  {
   "cell_type": "code",
   "execution_count": null,
   "id": "eeeaa91c",
   "metadata": {
    "hide-output": false
   },
   "outputs": [],
   "source": [
    "a_vals = range(1, 20)\n",
    "ginis = []\n",
    "ginis_theoretical = []\n",
    "n = 100\n",
    "\n",
    "fig, ax = plt.subplots()\n",
    "for a in a_vals:\n",
    "    y = np.random.weibull(a, size=n)\n",
    "    ginis.append(qe.gini_coefficient(y))\n",
    "    ginis_theoretical.append(1 - 2**(-1/a))\n",
    "ax.plot(a_vals, ginis, label='estimated gini coefficient')\n",
    "ax.plot(a_vals, ginis_theoretical, label='theoretical gini coefficient')\n",
    "ax.legend()\n",
    "ax.set_xlabel(\"Weibull parameter $a$\")\n",
    "ax.set_ylabel(\"Gini coefficient\")\n",
    "plt.show()"
   ]
  },
  {
   "cell_type": "markdown",
   "id": "2f59a107",
   "metadata": {},
   "source": [
    "The simulation shows that the fit is good."
   ]
  },
  {
   "cell_type": "markdown",
   "id": "5a53d944",
   "metadata": {},
   "source": [
    "## A Model of Wealth Dynamics\n",
    "\n",
    "Having discussed inequality measures, let us now turn to wealth dynamics.\n",
    "\n",
    "The model we will study is\n",
    "\n",
    "\n",
    "<a id='equation-wealth-dynam-ah'></a>\n",
    "$$\n",
    "w_{t+1} = (1 + r_{t+1}) s(w_t) + y_{t+1} \\tag{31.1}\n",
    "$$\n",
    "\n",
    "where\n",
    "\n",
    "- $ w_t $ is wealth at time $ t $ for a given household,  \n",
    "- $ r_t $ is the rate of return of financial assets,  \n",
    "- $ y_t $ is current non-financial (e.g., labor) income and  \n",
    "- $ s(w_t) $ is current wealth net of consumption  \n",
    "\n",
    "\n",
    "Letting $ \\{z_t\\} $ be a correlated state process of the form\n",
    "\n",
    "$$\n",
    "z_{t+1} = a z_t + b + \\sigma_z \\epsilon_{t+1}\n",
    "$$\n",
    "\n",
    "we’ll assume that\n",
    "\n",
    "$$\n",
    "R_t := 1 + r_t = c_r \\exp(z_t) + \\exp(\\mu_r + \\sigma_r \\xi_t)\n",
    "$$\n",
    "\n",
    "and\n",
    "\n",
    "$$\n",
    "y_t = c_y \\exp(z_t) + \\exp(\\mu_y + \\sigma_y \\zeta_t)\n",
    "$$\n",
    "\n",
    "Here $ \\{ (\\epsilon_t, \\xi_t, \\zeta_t) \\} $ is IID and standard\n",
    "normal in $ \\mathbb R^3 $.\n",
    "\n",
    "The value of $ c_r $ should be close to zero, since rates of return\n",
    "on assets do not exhibit large trends.\n",
    "\n",
    "When we simulate a population of households, we will assume all shocks are idiosyncratic (i.e.,  specific to individual households and independent across them).\n",
    "\n",
    "Regarding the savings function $ s $, our default model will be\n",
    "\n",
    "\n",
    "<a id='equation-sav-ah'></a>\n",
    "$$\n",
    "s(w) = s_0 w \\cdot \\mathbb 1\\{w \\geq \\hat w\\} \\tag{31.2}\n",
    "$$\n",
    "\n",
    "where $ s_0 $ is a positive constant.\n",
    "\n",
    "Thus, for $ w < \\hat w $, the household saves nothing. For\n",
    "$ w \\geq \\bar w $, the household saves a fraction $ s_0 $ of\n",
    "their wealth.\n",
    "\n",
    "We are using something akin to a fixed savings rate model, while\n",
    "acknowledging that low wealth households tend to save very little."
   ]
  },
  {
   "cell_type": "markdown",
   "id": "5f805450",
   "metadata": {},
   "source": [
    "## Implementation using JAX\n",
    "\n",
    "Let’s define a model to represent the wealth dynamics."
   ]
  },
  {
   "cell_type": "code",
   "execution_count": null,
   "id": "cc2d4189",
   "metadata": {
    "hide-output": false
   },
   "outputs": [],
   "source": [
    "# NamedTuple Model\n",
    "Model = namedtuple(\"Model\", (\"w_hat\", \"s_0\", \"c_y\", \"μ_y\",\n",
    "                             \"σ_y\", \"c_r\", \"μ_r\", \"σ_r\", \"a\",\n",
    "                             \"b\", \"σ_z\", \"z_mean\", \"z_var\", \"y_mean\"))"
   ]
  },
  {
   "cell_type": "markdown",
   "id": "09458c78",
   "metadata": {},
   "source": [
    "Here’s a function to create the Model with the given parameters"
   ]
  },
  {
   "cell_type": "code",
   "execution_count": null,
   "id": "c74bdc84",
   "metadata": {
    "hide-output": false
   },
   "outputs": [],
   "source": [
    "def create_wealth_model(w_hat=1.0,\n",
    "                        s_0=0.75,\n",
    "                        c_y=1.0,\n",
    "                        μ_y=1.0,\n",
    "                        σ_y=0.2,\n",
    "                        c_r=0.05,\n",
    "                        μ_r=0.1,\n",
    "                        σ_r=0.5,\n",
    "                        a=0.5,\n",
    "                        b=0.0,\n",
    "                        σ_z=0.1):\n",
    "    \"\"\"\n",
    "    Create a wealth model with given parameters and return\n",
    "    and instance of NamedTuple Model.\n",
    "    \"\"\"\n",
    "    z_mean = b / (1 - a)\n",
    "    z_var = σ_z**2 / (1 - a**2)\n",
    "    exp_z_mean = np.exp(z_mean + z_var / 2)\n",
    "    R_mean = c_r * exp_z_mean + np.exp(μ_r + σ_r**2 / 2)\n",
    "    y_mean = c_y * exp_z_mean + np.exp(μ_y + σ_y**2 / 2)\n",
    "    # Test a stability condition that ensures wealth does not diverge\n",
    "    # to infinity.\n",
    "    α = R_mean * s_0\n",
    "    if α >= 1:\n",
    "        raise ValueError(\"Stability condition failed.\")\n",
    "    return Model(w_hat=w_hat, s_0=s_0, c_y=c_y, μ_y=μ_y,\n",
    "                 σ_y=σ_y, c_r=c_r, μ_r=μ_r, σ_r=σ_r, a=a,\n",
    "                 b=b, σ_z=σ_z, z_mean=z_mean, z_var=z_var, y_mean=y_mean)"
   ]
  },
  {
   "cell_type": "markdown",
   "id": "09707a94",
   "metadata": {},
   "source": [
    "The following function updates one period with the given current wealth and persistent state."
   ]
  },
  {
   "cell_type": "code",
   "execution_count": null,
   "id": "eeb12e38",
   "metadata": {
    "hide-output": false
   },
   "outputs": [],
   "source": [
    "def update_states_jax(arrays, wdy, size, rand_key):\n",
    "    \"\"\"\n",
    "    Update one period, given current wealth w and persistent\n",
    "    state z. They are stored in the form of tuples under the arrays argument\n",
    "    \"\"\"\n",
    "    # Unpack w and z\n",
    "    w, z = arrays\n",
    "\n",
    "    rand_key, *subkey = jax.random.split(rand_key, 3)\n",
    "    zp = wdy.a * z + wdy.b + wdy.σ_z * jax.random.normal(rand_key, shape=size)\n",
    "\n",
    "    # Update wealth\n",
    "    y = wdy.c_y * jnp.exp(zp) + jnp.exp(wdy.μ_y + wdy.σ_y * jax.random.normal(subkey[0], shape=size))\n",
    "    wp = y\n",
    "\n",
    "    R = wdy.c_r * jnp.exp(zp) + jnp.exp(wdy.μ_r + wdy.σ_r * jax.random.normal(subkey[1], shape=size))\n",
    "    wp += (w >= wdy.w_hat) * R * wdy.s_0 * w\n",
    "    return wp, zp\n",
    "\n",
    "# Create the jit function\n",
    "update_states_jax = jax.jit(update_states_jax, static_argnums=(2,))"
   ]
  },
  {
   "cell_type": "markdown",
   "id": "31ad4e12",
   "metadata": {},
   "source": [
    "Here’s function to simulate the time series of wealth for individual households using a `for` loop and JAX."
   ]
  },
  {
   "cell_type": "code",
   "execution_count": null,
   "id": "b6e18fd7",
   "metadata": {
    "hide-output": false
   },
   "outputs": [],
   "source": [
    "# Using JAX and for loop\n",
    "def wealth_time_series_for_loop_jax(w_0, n, wdy, size, rand_seed=1):\n",
    "    \"\"\"\n",
    "    Generate a single time series of length n for wealth given\n",
    "    initial value w_0.\n",
    "\n",
    "    * This implementation uses a for loop.\n",
    "\n",
    "    The initial persistent state z_0 for each household is drawn from\n",
    "    the stationary distribution of the AR(1) process.\n",
    "\n",
    "        * wdy: NamedTuple Model\n",
    "        * w_0: scalar/vector\n",
    "        * n: int\n",
    "        * size: size/shape of the w_0\n",
    "        * rand_seed: int (Used to generate PRNG key)\n",
    "    \"\"\"\n",
    "    rand_key = jax.random.PRNGKey(rand_seed)\n",
    "    rand_key, *subkey = jax.random.split(rand_key, n)\n",
    "\n",
    "    w_0 = jax.device_put(w_0).reshape(size)\n",
    "\n",
    "    z = wdy.z_mean + jnp.sqrt(wdy.z_var) * jax.random.normal(rand_key, shape=size)\n",
    "    w = [w_0]\n",
    "    for t in range(n-1):\n",
    "        w_, z = update_states_jax((w[t], z), wdy, size, subkey[t])\n",
    "        w.append(w_)\n",
    "    return jnp.array(w)\n",
    "\n",
    "# Create the jit function\n",
    "wealth_time_series_for_loop_jax = jax.jit(wealth_time_series_for_loop_jax, static_argnums=(1,3,))"
   ]
  },
  {
   "cell_type": "markdown",
   "id": "1bc78999",
   "metadata": {},
   "source": [
    "Let’s try simulating the model at different parameter values and investigate the implications for the wealth distribution using the above function."
   ]
  },
  {
   "cell_type": "code",
   "execution_count": null,
   "id": "f155836c",
   "metadata": {
    "hide-output": false
   },
   "outputs": [],
   "source": [
    "wdy = create_wealth_model() # default model\n",
    "ts_length = 200\n",
    "size = (1,)"
   ]
  },
  {
   "cell_type": "code",
   "execution_count": null,
   "id": "0550893f",
   "metadata": {
    "hide-output": false
   },
   "outputs": [],
   "source": [
    "qe.tic()\n",
    "w_jax_result = wealth_time_series_for_loop_jax(wdy.y_mean, ts_length, wdy, size).block_until_ready()\n",
    "qe.toc()"
   ]
  },
  {
   "cell_type": "markdown",
   "id": "32a0249e",
   "metadata": {},
   "source": [
    "Running the above function again will be even faster because of JAX’s JIT."
   ]
  },
  {
   "cell_type": "code",
   "execution_count": null,
   "id": "73d99bbb",
   "metadata": {
    "hide-output": false
   },
   "outputs": [],
   "source": [
    "qe.tic()\n",
    "# 2nd time is expected to be very fast because of JIT\n",
    "w_jax_result = wealth_time_series_for_loop_jax(wdy.y_mean, ts_length, wdy, size).block_until_ready()\n",
    "qe.toc()"
   ]
  },
  {
   "cell_type": "code",
   "execution_count": null,
   "id": "098639f5",
   "metadata": {
    "hide-output": false
   },
   "outputs": [],
   "source": [
    "fig, ax = plt.subplots()\n",
    "ax.plot(w_jax_result)\n",
    "plt.show()"
   ]
  },
  {
   "cell_type": "markdown",
   "id": "8150afce",
   "metadata": {},
   "source": [
    "We can further try to optimize and speed up the compile time of the above function by replacing `for` loop with [`jax.lax.scan`](https://jax.readthedocs.io/en/latest/_autosummary/jax.lax.scan.html)."
   ]
  },
  {
   "cell_type": "code",
   "execution_count": null,
   "id": "1f8b7305",
   "metadata": {
    "hide-output": false
   },
   "outputs": [],
   "source": [
    "def wealth_time_series_jax(w_0, n, wdy, size, rand_seed=1):\n",
    "    \"\"\"\n",
    "    Generate a single time series of length n for wealth given\n",
    "    initial value w_0.\n",
    "\n",
    "    * This implementation uses for jax.lax.scan\n",
    "\n",
    "    The initial persistent state z_0 for each household is drawn from\n",
    "    the stationary distribution of the AR(1) process.\n",
    "\n",
    "        * wdy: NamedTuple Model\n",
    "        * w_0: scalar/vector\n",
    "        * n: int\n",
    "        * size: size/shape of the w_0\n",
    "        * rand_seed: int (Used to generate PRNG key)\n",
    "    \"\"\"\n",
    "    rand_key = jax.random.PRNGKey(rand_seed)\n",
    "    rand_key, *subkey = jax.random.split(rand_key, n)\n",
    "\n",
    "    w_0 = jax.device_put(w_0).reshape(size)\n",
    "    z_init = wdy.z_mean + jnp.sqrt(wdy.z_var) * jax.random.normal(rand_key, shape=size)\n",
    "    arrays = w_0, z_init\n",
    "    rand_sub_keys = jnp.array(subkey)\n",
    "\n",
    "    w_final = jnp.array([w_0])\n",
    "\n",
    "    # Define the function for each update\n",
    "    def update_w_z(arrays, rand_sub_key):\n",
    "        wp, zp = update_states_jax(arrays, wdy, size, rand_sub_key)\n",
    "        return (wp, zp), wp\n",
    "\n",
    "    arrays_last, w_values = jax.lax.scan(update_w_z, arrays, rand_sub_keys)\n",
    "    return jnp.concatenate((w_final, w_values))\n",
    "\n",
    "# Create the jit function\n",
    "wealth_time_series_jax = jax.jit(wealth_time_series_jax, static_argnums=(1,3,))"
   ]
  },
  {
   "cell_type": "markdown",
   "id": "c4b182a3",
   "metadata": {},
   "source": [
    "Let’s try simulating the model at different parameter values and investigate the implications for the wealth distribution and also observe the difference in time between `wealth_time_series_jax` and `wealth_time_series_for_loop_jax`."
   ]
  },
  {
   "cell_type": "code",
   "execution_count": null,
   "id": "e9e24efd",
   "metadata": {
    "hide-output": false
   },
   "outputs": [],
   "source": [
    "wdy = create_wealth_model() # default model\n",
    "ts_length = 200\n",
    "size = (1,)"
   ]
  },
  {
   "cell_type": "code",
   "execution_count": null,
   "id": "f2f6db35",
   "metadata": {
    "hide-output": false
   },
   "outputs": [],
   "source": [
    "qe.tic()\n",
    "w_jax_result = wealth_time_series_jax(wdy.y_mean, ts_length, wdy, size).block_until_ready()\n",
    "glue(\"wealth_time_series_jax_time_1\", qe.toc())"
   ]
  },
  {
   "cell_type": "markdown",
   "id": "c1240687",
   "metadata": {},
   "source": [
    "Running the above function again will be even faster because of JAX’s JIT."
   ]
  },
  {
   "cell_type": "code",
   "execution_count": null,
   "id": "645eab93",
   "metadata": {
    "hide-output": false
   },
   "outputs": [],
   "source": [
    "qe.tic()\n",
    "# 2nd time is expected to be very fast because of JIT\n",
    "w_jax_result = wealth_time_series_jax(wdy.y_mean, ts_length, wdy, size).block_until_ready()\n",
    "glue(\"wealth_time_series_jax_time_2\", qe.toc())"
   ]
  },
  {
   "cell_type": "code",
   "execution_count": null,
   "id": "0abe8e01",
   "metadata": {
    "hide-output": false
   },
   "outputs": [],
   "source": [
    "fig, ax = plt.subplots()\n",
    "ax.plot(w_jax_result)\n",
    "plt.show()"
   ]
  },
  {
   "cell_type": "markdown",
   "id": "9721c74d",
   "metadata": {},
   "source": [
    "Now here’s function to simulate a cross section of households forward in time."
   ]
  },
  {
   "cell_type": "code",
   "execution_count": null,
   "id": "254ae546",
   "metadata": {
    "hide-output": false
   },
   "outputs": [],
   "source": [
    "def update_cross_section_jax(w_distribution, shift_length, wdy, size, rand_seed=2):\n",
    "    \"\"\"\n",
    "    Shifts a cross-section of household forward in time\n",
    "\n",
    "    * wdy: NamedTuple Model\n",
    "    * w_distribution: array_like, represents current cross-section\n",
    "\n",
    "    Takes a current distribution of wealth values as w_distribution\n",
    "    and updates each w_t in w_distribution to w_{t+j}, where\n",
    "    j = shift_length.\n",
    "\n",
    "    Returns the new distribution.\n",
    "    \"\"\"\n",
    "    new_dist = wealth_time_series_jax(w_distribution, shift_length, wdy, size, rand_seed)\n",
    "    new_distribution = new_dist[-1, :]\n",
    "    return new_distribution\n",
    "\n",
    "# Create the jit function\n",
    "update_cross_section_jax = jax.jit(update_cross_section_jax, static_argnums=(1,3,))"
   ]
  },
  {
   "cell_type": "markdown",
   "id": "45691b2c",
   "metadata": {},
   "source": [
    "## Implementation using Numba\n",
    "\n",
    "Here’s some type information to help Numba."
   ]
  },
  {
   "cell_type": "code",
   "execution_count": null,
   "id": "7df534b3",
   "metadata": {
    "hide-output": false
   },
   "outputs": [],
   "source": [
    "wealth_dynamics_data = [\n",
    "    ('w_hat',  float64),    # savings parameter\n",
    "    ('s_0',    float64),    # savings parameter\n",
    "    ('c_y',    float64),    # labor income parameter\n",
    "    ('μ_y',    float64),    # labor income paraemter\n",
    "    ('σ_y',    float64),    # labor income parameter\n",
    "    ('c_r',    float64),    # rate of return parameter\n",
    "    ('μ_r',    float64),    # rate of return parameter\n",
    "    ('σ_r',    float64),    # rate of return parameter\n",
    "    ('a',      float64),    # aggregate shock parameter\n",
    "    ('b',      float64),    # aggregate shock parameter\n",
    "    ('σ_z',    float64),    # aggregate shock parameter\n",
    "    ('z_mean', float64),    # mean of z process\n",
    "    ('z_var', float64),     # variance of z process\n",
    "    ('y_mean', float64),    # mean of y process\n",
    "    ('R_mean', float64)     # mean of R process\n",
    "]"
   ]
  },
  {
   "cell_type": "markdown",
   "id": "a89630d1",
   "metadata": {},
   "source": [
    "Here’s a class that stores instance data and implements methods that update\n",
    "the aggregate state and household wealth."
   ]
  },
  {
   "cell_type": "code",
   "execution_count": null,
   "id": "b74fe394",
   "metadata": {
    "hide-output": false
   },
   "outputs": [],
   "source": [
    "@jitclass(wealth_dynamics_data)\n",
    "class WealthDynamics:\n",
    "\n",
    "    def __init__(self,\n",
    "                 w_hat=1.0,\n",
    "                 s_0=0.75,\n",
    "                 c_y=1.0,\n",
    "                 μ_y=1.0,\n",
    "                 σ_y=0.2,\n",
    "                 c_r=0.05,\n",
    "                 μ_r=0.1,\n",
    "                 σ_r=0.5,\n",
    "                 a=0.5,\n",
    "                 b=0.0,\n",
    "                 σ_z=0.1):\n",
    "\n",
    "        self.w_hat, self.s_0 = w_hat, s_0\n",
    "        self.c_y, self.μ_y, self.σ_y = c_y, μ_y, σ_y\n",
    "        self.c_r, self.μ_r, self.σ_r = c_r, μ_r, σ_r\n",
    "        self.a, self.b, self.σ_z = a, b, σ_z\n",
    "\n",
    "        # Record stationary moments\n",
    "        self.z_mean = b / (1 - a)\n",
    "        self.z_var = σ_z**2 / (1 - a**2)\n",
    "        exp_z_mean = np.exp(self.z_mean + self.z_var / 2)\n",
    "        self.R_mean = c_r * exp_z_mean + np.exp(μ_r + σ_r**2 / 2)\n",
    "        self.y_mean = c_y * exp_z_mean + np.exp(μ_y + σ_y**2 / 2)\n",
    "\n",
    "        # Test a stability condition that ensures wealth does not diverge\n",
    "        # to infinity.\n",
    "        α = self.R_mean * self.s_0\n",
    "        if α >= 1:\n",
    "            raise ValueError(\"Stability condition failed.\")\n",
    "\n",
    "    def parameters(self):\n",
    "        \"\"\"\n",
    "        Collect and return parameters.\n",
    "        \"\"\"\n",
    "        parameters = (self.w_hat, self.s_0,\n",
    "                      self.c_y, self.μ_y, self.σ_y,\n",
    "                      self.c_r, self.μ_r, self.σ_r,\n",
    "                      self.a, self.b, self.σ_z)\n",
    "        return parameters\n",
    "\n",
    "    def update_states(self, w, z):\n",
    "        \"\"\"\n",
    "        Update one period, given current wealth w and persistent\n",
    "        state z.\n",
    "        \"\"\"\n",
    "\n",
    "        # Simplify names\n",
    "        params = self.parameters()\n",
    "        w_hat, s_0, c_y, μ_y, σ_y, c_r, μ_r, σ_r, a, b, σ_z = params\n",
    "        zp = a * z + b + σ_z * np.random.randn()\n",
    "\n",
    "        # Update wealth\n",
    "        y = c_y * np.exp(zp) + np.exp(μ_y + σ_y * np.random.randn())\n",
    "        wp = y\n",
    "        if w >= w_hat:\n",
    "            R = c_r * np.exp(zp) + np.exp(μ_r + σ_r * np.random.randn())\n",
    "            wp += R * s_0 * w\n",
    "        return wp, zp"
   ]
  },
  {
   "cell_type": "markdown",
   "id": "79075244",
   "metadata": {},
   "source": [
    "Here’s function to simulate the time series of wealth for in individual households."
   ]
  },
  {
   "cell_type": "code",
   "execution_count": null,
   "id": "d8d9d6c9",
   "metadata": {
    "hide-output": false
   },
   "outputs": [],
   "source": [
    "@njit\n",
    "def wealth_time_series(wdy, w_0, n):\n",
    "    \"\"\"\n",
    "    Generate a single time series of length n for wealth given\n",
    "    initial value w_0.\n",
    "\n",
    "    The initial persistent state z_0 for each household is drawn from\n",
    "    the stationary distribution of the AR(1) process.\n",
    "\n",
    "        * wdy: an instance of WealthDynamics\n",
    "        * w_0: scalar\n",
    "        * n: int\n",
    "\n",
    "\n",
    "    \"\"\"\n",
    "    z = wdy.z_mean + np.sqrt(wdy.z_var) * np.random.randn()\n",
    "    w = np.empty(n)\n",
    "    w[0] = w_0\n",
    "    for t in range(n-1):\n",
    "        w[t+1], z = wdy.update_states(w[t], z)\n",
    "    return w"
   ]
  },
  {
   "cell_type": "markdown",
   "id": "3cd65345",
   "metadata": {},
   "source": [
    "Now here’s function to simulate a cross section of households forward in time.\n",
    "\n",
    "Note the use of parallelization to speed up computation."
   ]
  },
  {
   "cell_type": "code",
   "execution_count": null,
   "id": "4e857caa",
   "metadata": {
    "hide-output": false
   },
   "outputs": [],
   "source": [
    "@njit(parallel=True)\n",
    "def update_cross_section(wdy, w_distribution, shift_length=500):\n",
    "    \"\"\"\n",
    "    Shifts a cross-section of household forward in time\n",
    "\n",
    "    * wdy: an instance of WealthDynamics\n",
    "    * w_distribution: array_like, represents current cross-section\n",
    "\n",
    "    Takes a current distribution of wealth values as w_distribution\n",
    "    and updates each w_t in w_distribution to w_{t+j}, where\n",
    "    j = shift_length.\n",
    "\n",
    "    Returns the new distribution.\n",
    "\n",
    "    \"\"\"\n",
    "    new_distribution = np.empty_like(w_distribution)\n",
    "\n",
    "    # Update each household\n",
    "    for i in prange(len(new_distribution)):\n",
    "        z = wdy.z_mean + np.sqrt(wdy.z_var) * np.random.randn()\n",
    "        w = w_distribution[i]\n",
    "        for t in range(shift_length-1):\n",
    "            w, z = wdy.update_states(w, z)\n",
    "        new_distribution[i] = w\n",
    "    return new_distribution"
   ]
  },
  {
   "cell_type": "markdown",
   "id": "9d6e4499",
   "metadata": {},
   "source": [
    "Parallelization is very effective in the function above because the time path\n",
    "of each household can be calculated independently once the path for the\n",
    "aggregate state is known."
   ]
  },
  {
   "cell_type": "markdown",
   "id": "876e7c84",
   "metadata": {},
   "source": [
    "## Applications\n",
    "\n",
    "Let’s try simulating the model at different parameter values and investigate\n",
    "the implications for the wealth distribution."
   ]
  },
  {
   "cell_type": "markdown",
   "id": "0f2ce8a1",
   "metadata": {},
   "source": [
    "### Time Series\n",
    "\n",
    "Let’s look at the wealth dynamics of an individual household using numba."
   ]
  },
  {
   "cell_type": "code",
   "execution_count": null,
   "id": "3412c838",
   "metadata": {
    "hide-output": false
   },
   "outputs": [],
   "source": [
    "wdy = WealthDynamics()\n",
    "\n",
    "ts_length = 200"
   ]
  },
  {
   "cell_type": "code",
   "execution_count": null,
   "id": "cc601eb5",
   "metadata": {
    "hide-output": false
   },
   "outputs": [],
   "source": [
    "qe.tic()\n",
    "w = wealth_time_series(wdy, wdy.y_mean, ts_length)\n",
    "glue(\"wealth_time_series_time_1\", qe.toc())"
   ]
  },
  {
   "cell_type": "code",
   "execution_count": null,
   "id": "e621b473",
   "metadata": {
    "hide-output": false
   },
   "outputs": [],
   "source": [
    "qe.tic()\n",
    "# Check the time for 2nd execution\n",
    "w = wealth_time_series(wdy, wdy.y_mean, ts_length)\n",
    "glue(\"wealth_time_series_time_2\", qe.toc())"
   ]
  },
  {
   "cell_type": "markdown",
   "id": "8289132b",
   "metadata": {},
   "source": [
    "Notice the time difference between the `wealth_time_series`: `0.7433085441589355` and `wealth_time_series_jax`: `0.8552896976470947`"
   ]
  },
  {
   "cell_type": "code",
   "execution_count": null,
   "id": "b41b39b4",
   "metadata": {
    "hide-output": false
   },
   "outputs": [],
   "source": [
    "fig, ax = plt.subplots()\n",
    "ax.plot(w)\n",
    "plt.show()"
   ]
  },
  {
   "cell_type": "markdown",
   "id": "2558a32d",
   "metadata": {},
   "source": [
    "Notice the large spikes in wealth over time.\n",
    "\n",
    "Such spikes are similar to what we observed in time series when [we studied Kesten processes](https://python.quantecon.org/kesten_processes.html)."
   ]
  },
  {
   "cell_type": "markdown",
   "id": "c072dd0f",
   "metadata": {},
   "source": [
    "### Inequality Measures\n",
    "\n",
    "Let’s look at how inequality varies with returns on financial assets.\n",
    "\n",
    "The next function generates a cross section and then computes the Lorenz\n",
    "curve and Gini coefficient.\n",
    "\n",
    "Let’s first write the function that uses the JAX implementation and then for the numba."
   ]
  },
  {
   "cell_type": "code",
   "execution_count": null,
   "id": "e19faef2",
   "metadata": {
    "hide-output": false
   },
   "outputs": [],
   "source": [
    "# Uses JAX\n",
    "def generate_lorenz_and_gini_jax(wdy, num_households=100_000, T=500):\n",
    "    \"\"\"\n",
    "    Generate the Lorenz curve data and gini coefficient corresponding to a\n",
    "    WealthDynamics mode by simulating num_households forward to time T.\n",
    "    \"\"\"\n",
    "    size = (num_households, )\n",
    "    ψ_0 = jnp.full(size, wdy.y_mean)\n",
    "    ψ_star = update_cross_section_jax(ψ_0, T, wdy, size)\n",
    "    ψ_star = jax.device_get(ψ_star)  # get back to numpy form\n",
    "    return qe.gini_coefficient(ψ_star), qe.lorenz_curve(ψ_star)"
   ]
  },
  {
   "cell_type": "markdown",
   "id": "85ae730b",
   "metadata": {},
   "source": [
    "The following function uses the numba implementation"
   ]
  },
  {
   "cell_type": "code",
   "execution_count": null,
   "id": "ed1eb797",
   "metadata": {
    "hide-output": false
   },
   "outputs": [],
   "source": [
    "# Uses numba\n",
    "def generate_lorenz_and_gini(wdy, num_households=100_000, T=500):\n",
    "    \"\"\"\n",
    "    Generate the Lorenz curve data and gini coefficient corresponding to a\n",
    "    WealthDynamics mode by simulating num_households forward to time T.\n",
    "    \"\"\"\n",
    "    ψ_0 = np.full(num_households, wdy.y_mean)\n",
    "    z_0 = wdy.z_mean\n",
    "\n",
    "    ψ_star = update_cross_section(wdy, ψ_0, shift_length=T)\n",
    "    return qe.gini_coefficient(ψ_star), qe.lorenz_curve(ψ_star)"
   ]
  },
  {
   "cell_type": "markdown",
   "id": "b07ca573",
   "metadata": {},
   "source": [
    "Now we investigate how the Lorenz curves associated with the wealth distribution change as return to savings varies.\n",
    "\n",
    "The code below plots Lorenz curves for three different values of $ \\mu_r $.\n",
    "\n",
    "If you are running this yourself, note that it will take one or two minutes to execute.\n",
    "\n",
    "This is unavoidable because we are executing a CPU intensive task.\n",
    "\n",
    "In fact the code, which is JIT compiled and parallelized, runs extremely fast relative to the number of computations."
   ]
  },
  {
   "cell_type": "code",
   "execution_count": null,
   "id": "f0cd3b46",
   "metadata": {
    "hide-output": false
   },
   "outputs": [],
   "source": [
    "%%time\n",
    "\n",
    "fig, ax = plt.subplots()\n",
    "μ_r_vals = (0.0, 0.025, 0.05)\n",
    "gini_vals = []\n",
    "\n",
    "for μ_r in μ_r_vals:\n",
    "    wdy = create_wealth_model(μ_r=μ_r)\n",
    "    gv, (f_vals, l_vals) = generate_lorenz_and_gini_jax(wdy)\n",
    "    ax.plot(f_vals, l_vals, label=f'$\\psi^*$ at $\\mu_r = {μ_r:0.2}$')\n",
    "    gini_vals.append(gv)\n",
    "\n",
    "ax.plot(f_vals, f_vals, label='equality')\n",
    "ax.legend(loc=\"upper left\")\n",
    "plt.show()"
   ]
  },
  {
   "cell_type": "markdown",
   "id": "f34881d7",
   "metadata": {},
   "source": [
    "Now let’s try to run the same code snippet but using the numba version."
   ]
  },
  {
   "cell_type": "code",
   "execution_count": null,
   "id": "8467b892",
   "metadata": {
    "hide-output": false
   },
   "outputs": [],
   "source": [
    "%%time\n",
    "\n",
    "fig, ax = plt.subplots()\n",
    "μ_r_vals = (0.0, 0.025, 0.05)\n",
    "gini_vals = []\n",
    "\n",
    "for μ_r in μ_r_vals:\n",
    "    wdy = WealthDynamics(μ_r=μ_r)\n",
    "    gv, (f_vals, l_vals) = generate_lorenz_and_gini(wdy)\n",
    "    ax.plot(f_vals, l_vals, label=f'$\\psi^*$ at $\\mu_r = {μ_r:0.2}$')\n",
    "    gini_vals.append(gv)\n",
    "\n",
    "ax.plot(f_vals, f_vals, label='equality')\n",
    "ax.legend(loc=\"upper left\")\n",
    "plt.show()"
   ]
  },
  {
   "cell_type": "markdown",
   "id": "fdebc232",
   "metadata": {},
   "source": [
    "The Lorenz curve shifts downwards as returns on financial income rise, indicating a rise in inequality.\n",
    "\n",
    "We will look at this again via the Gini coefficient immediately below, but\n",
    "first consider the following image of our system resources when the code above\n",
    "is executing:\n",
    "\n",
    "Since the code is both efficiently JIT compiled and fully parallelized, it’s\n",
    "close to impossible to make this sequence of tasks run faster without changing\n",
    "hardware.\n",
    "\n",
    "Now let’s check the Gini coefficient."
   ]
  },
  {
   "cell_type": "code",
   "execution_count": null,
   "id": "e4380e99",
   "metadata": {
    "hide-output": false
   },
   "outputs": [],
   "source": [
    "fig, ax = plt.subplots()\n",
    "ax.plot(μ_r_vals, gini_vals, label='gini coefficient')\n",
    "ax.set_xlabel(\"$\\mu_r$\")\n",
    "ax.legend()\n",
    "plt.show()"
   ]
  },
  {
   "cell_type": "markdown",
   "id": "7fb41fee",
   "metadata": {},
   "source": [
    "Once again, we see that inequality increases as returns on financial income\n",
    "rise.\n",
    "\n",
    "Let’s finish this section by investigating what happens when we change the\n",
    "volatility term $ \\sigma_r $ in financial returns.\n",
    "\n",
    "Firstly, using JAX, we have"
   ]
  },
  {
   "cell_type": "code",
   "execution_count": null,
   "id": "d975ebb6",
   "metadata": {
    "hide-output": false
   },
   "outputs": [],
   "source": [
    "%%time\n",
    "\n",
    "fig, ax = plt.subplots()\n",
    "σ_r_vals = (0.35, 0.45, 0.52)\n",
    "gini_vals = []\n",
    "\n",
    "for σ_r in σ_r_vals:\n",
    "    wdy = create_wealth_model(σ_r=σ_r)\n",
    "    gv, (f_vals, l_vals) = generate_lorenz_and_gini_jax(wdy)\n",
    "    ax.plot(f_vals, l_vals, label=f'$\\psi^*$ at $\\sigma_r = {σ_r:0.2}$')\n",
    "    gini_vals.append(gv)\n",
    "\n",
    "ax.plot(f_vals, f_vals, label='equality')\n",
    "ax.legend(loc=\"upper left\")\n",
    "plt.show()"
   ]
  },
  {
   "cell_type": "markdown",
   "id": "6570ddd0",
   "metadata": {},
   "source": [
    "Using numba, we get,"
   ]
  },
  {
   "cell_type": "code",
   "execution_count": null,
   "id": "03007e68",
   "metadata": {
    "hide-output": false
   },
   "outputs": [],
   "source": [
    "%%time\n",
    "\n",
    "fig, ax = plt.subplots()\n",
    "σ_r_vals = (0.35, 0.45, 0.52)\n",
    "gini_vals = []\n",
    "\n",
    "for σ_r in σ_r_vals:\n",
    "    wdy = WealthDynamics(σ_r=σ_r)\n",
    "    gv, (f_vals, l_vals) = generate_lorenz_and_gini(wdy)\n",
    "    ax.plot(f_vals, l_vals, label=f'$\\psi^*$ at $\\sigma_r = {σ_r:0.2}$')\n",
    "    gini_vals.append(gv)\n",
    "\n",
    "ax.plot(f_vals, f_vals, label='equality')\n",
    "ax.legend(loc=\"upper left\")\n",
    "plt.show()"
   ]
  },
  {
   "cell_type": "markdown",
   "id": "789c53ac",
   "metadata": {},
   "source": [
    "We see that greater volatility has the effect of increasing inequality in this model."
   ]
  },
  {
   "cell_type": "markdown",
   "id": "c45c418e",
   "metadata": {},
   "source": [
    "## Exercises"
   ]
  },
  {
   "cell_type": "markdown",
   "id": "0f386cbd",
   "metadata": {},
   "source": [
    "## Exercise 31.1\n",
    "\n",
    "For a wealth or income distribution with Pareto tail, a higher tail index suggests lower inequality.\n",
    "\n",
    "Indeed, it is possible to prove that the Gini coefficient of the Pareto\n",
    "distribution with tail index $ a $ is $ 1/(2a - 1) $.\n",
    "\n",
    "To the extent that you can, confirm this by simulation.\n",
    "\n",
    "In particular, generate a plot of the Gini coefficient against the tail index\n",
    "using both the theoretical value just given and the value computed from a sample via `qe.gini_coefficient`.\n",
    "\n",
    "For the values of the tail index, use `a_vals = np.linspace(1, 10, 25)`.\n",
    "\n",
    "Use sample of size 1,000 for each $ a $ and the sampling method for generating Pareto draws employed in the discussion of Lorenz curves for the Pareto distribution.\n",
    "\n",
    "To the extent that you can, interpret the monotone relationship between the\n",
    "Gini index and $ a $."
   ]
  },
  {
   "cell_type": "markdown",
   "id": "3f27a041",
   "metadata": {},
   "source": [
    "## Solution to[ Exercise 31.1](https://python.quantecon.org/#wd_ex1)\n",
    "\n",
    "Here is one solution, which produces a good match between theory and\n",
    "simulation."
   ]
  },
  {
   "cell_type": "code",
   "execution_count": null,
   "id": "0244097c",
   "metadata": {
    "hide-output": false
   },
   "outputs": [],
   "source": [
    "a_vals = np.linspace(1, 10, 25)  # Pareto tail index\n",
    "ginis = np.empty_like(a_vals)\n",
    "\n",
    "n = 1000                         # size of each sample\n",
    "fig, ax = plt.subplots()\n",
    "for i, a in enumerate(a_vals):\n",
    "    y = np.random.uniform(size=n)**(-1/a)\n",
    "    ginis[i] = qe.gini_coefficient(y)\n",
    "ax.plot(a_vals, ginis, label='sampled')\n",
    "ax.plot(a_vals, 1/(2*a_vals - 1), label='theoretical')\n",
    "ax.legend()\n",
    "plt.show()"
   ]
  },
  {
   "cell_type": "markdown",
   "id": "305711ce",
   "metadata": {},
   "source": [
    "In general, for a Pareto distribution, a higher tail index implies less weight\n",
    "in the right hand tail.\n",
    "\n",
    "This means less extreme values for wealth and hence more equality.\n",
    "\n",
    "More equality translates to a lower Gini index."
   ]
  },
  {
   "cell_type": "markdown",
   "id": "2309052a",
   "metadata": {},
   "source": [
    "## Exercise 31.2\n",
    "\n",
    "The wealth process [(31.1)](#equation-wealth-dynam-ah) is similar to a [Kesten process](https://python.quantecon.org/kesten_processes.html).\n",
    "\n",
    "This is because, according to [(31.2)](#equation-sav-ah), savings is constant for all wealth levels above $ \\hat w $.\n",
    "\n",
    "When savings is constant, the wealth process has the same quasi-linear\n",
    "structure as a Kesten process, with multiplicative and additive shocks.\n",
    "\n",
    "The Kesten–Goldie theorem tells us that Kesten processes have Pareto tails under a range of parameterizations.\n",
    "\n",
    "The theorem does not directly apply here, since savings is not always constant and since the multiplicative and additive terms in [(31.1)](#equation-wealth-dynam-ah) are not IID.\n",
    "\n",
    "At the same time, given the similarities, perhaps Pareto tails will arise.\n",
    "\n",
    "To test this, run a simulation that generates a cross-section of wealth and\n",
    "generate a rank-size plot.\n",
    "\n",
    "If you like, you can use the function `rank_size` from the `quantecon` library (documentation [here](https://quanteconpy.readthedocs.io/en/latest/tools/inequality.html#quantecon.inequality.rank_size)).\n",
    "\n",
    "In viewing the plot, remember that Pareto tails generate a straight line.  Is\n",
    "this what you see?\n",
    "\n",
    "For sample size and initial conditions, use"
   ]
  },
  {
   "cell_type": "code",
   "execution_count": null,
   "id": "4cc6cf6a",
   "metadata": {
    "hide-output": false
   },
   "outputs": [],
   "source": [
    "num_households = 250_000\n",
    "T = 500                                      # shift forward T periods\n",
    "ψ_0 = np.full(num_households, wdy.y_mean)   # initial distribution\n",
    "z_0 = wdy.z_mean"
   ]
  },
  {
   "cell_type": "markdown",
   "id": "c1216eb7",
   "metadata": {},
   "source": [
    "## Solution to[ Exercise 31.2](https://python.quantecon.org/#wd_ex2)\n",
    "\n",
    "First let’s generate the distribution:\n",
    "\n",
    "Using the JAX implementation"
   ]
  },
  {
   "cell_type": "code",
   "execution_count": null,
   "id": "ea688194",
   "metadata": {
    "hide-output": false
   },
   "outputs": [],
   "source": [
    "num_households = 250_000\n",
    "T = 500  # how far to shift forward in time\n",
    "size = (num_households, )\n",
    "\n",
    "wdy = create_wealth_model()\n",
    "ψ_0 = jnp.full(size, wdy.y_mean)\n",
    "ψ_star = update_cross_section_jax(ψ_0, T, wdy, size)\n",
    "ψ_star = jax.device_get(ψ_star) # get back numpy form"
   ]
  },
  {
   "cell_type": "markdown",
   "id": "fe739e2c",
   "metadata": {},
   "source": [
    "Using the numba implementation"
   ]
  },
  {
   "cell_type": "code",
   "execution_count": null,
   "id": "5c446276",
   "metadata": {
    "hide-output": false
   },
   "outputs": [],
   "source": [
    "num_households = 250_000\n",
    "T = 500  # how far to shift forward in time\n",
    "wdy = WealthDynamics()\n",
    "ψ_0 = np.full(num_households, wdy.y_mean)\n",
    "z_0 = wdy.z_mean\n",
    "\n",
    "ψ_star = update_cross_section(wdy, ψ_0, shift_length=T)"
   ]
  },
  {
   "cell_type": "markdown",
   "id": "9bcf1158",
   "metadata": {},
   "source": [
    "Now let’s see the rank-size plot:"
   ]
  },
  {
   "cell_type": "code",
   "execution_count": null,
   "id": "aab7e85f",
   "metadata": {
    "hide-output": false
   },
   "outputs": [],
   "source": [
    "fig, ax = plt.subplots()\n",
    "\n",
    "rank_data, size_data = qe.rank_size(ψ_star, c=0.001)\n",
    "ax.loglog(rank_data, size_data, 'o', markersize=3.0, alpha=0.5)\n",
    "ax.set_xlabel(\"log rank\")\n",
    "ax.set_ylabel(\"log size\")\n",
    "\n",
    "plt.show()"
   ]
  }
 ],
 "metadata": {
  "date": 1678837614.5062697,
  "filename": "wealth_dynamics.md",
  "kernelspec": {
   "display_name": "Python",
   "language": "python3",
   "name": "python3"
  },
  "title": "Wealth Distribution Dynamics"
 },
 "nbformat": 4,
 "nbformat_minor": 5
}