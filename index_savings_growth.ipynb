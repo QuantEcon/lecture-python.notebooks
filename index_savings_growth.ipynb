{
 "cells": [
  {
   "cell_type": "markdown",
   "metadata": {},
   "source": [
    "<div id=\"qe-notebook-header\" align=\"right\" style=\"text-align:right;\">\n",
    "        <a href=\"https://quantecon.org/\" title=\"quantecon.org\">\n",
    "                <img style=\"width:250px;display:inline;\" width=\"250px\" src=\"https://assets.quantecon.org/img/qe-menubar-logo.svg\" alt=\"QuantEcon\">\n",
    "        </a>\n",
    "</div>"
   ]
  },
  {
   "cell_type": "markdown",
   "metadata": {},
   "source": [
    "# Consumption, Savings and Growth\n",
    "\n",
    "This section of the course contains foundational models for dynamic economic\n",
    "modeling.   Most are single agent problems that take the activities of other\n",
    "agents as given.  Later we will look at full equilibrium problems."
   ]
  },
  {
   "cell_type": "markdown",
   "metadata": {},
   "source": [
    "## Lectures\n",
    "\n",
    "- [Cake Eating I: Introduction to Optimal Saving](https://python-programming.quantecon.org/cake_eating_problem.html)\n",
    "  - [Overview](https://python-programming.quantecon.org/cake_eating_problem.html#overview)\n",
    "  - [The Model](https://python-programming.quantecon.org/cake_eating_problem.html#the-model)\n",
    "  - [The Value Function](https://python-programming.quantecon.org/cake_eating_problem.html#the-value-function)\n",
    "  - [The Optimal Policy](https://python-programming.quantecon.org/cake_eating_problem.html#the-optimal-policy)\n",
    "  - [The Euler Equation](https://python-programming.quantecon.org/cake_eating_problem.html#the-euler-equation)\n",
    "  - [Exercises](https://python-programming.quantecon.org/cake_eating_problem.html#exercises)\n",
    "  - [Solutions](https://python-programming.quantecon.org/cake_eating_problem.html#solutions)\n",
    "- [Cake Eating II: Numerical Methods](https://python-programming.quantecon.org/cake_eating_numerical.html)\n",
    "  - [Overview](https://python-programming.quantecon.org/cake_eating_numerical.html#overview)\n",
    "  - [Reviewing the Model](https://python-programming.quantecon.org/cake_eating_numerical.html#reviewing-the-model)\n",
    "  - [Value Function Iteration](https://python-programming.quantecon.org/cake_eating_numerical.html#value-function-iteration)\n",
    "  - [Time Iteration](https://python-programming.quantecon.org/cake_eating_numerical.html#time-iteration)\n",
    "  - [Exercises](https://python-programming.quantecon.org/cake_eating_numerical.html#exercises)\n",
    "  - [Solutions](https://python-programming.quantecon.org/cake_eating_numerical.html#solutions)\n",
    "- [Optimal Growth I: The Stochastic Optimal Growth Model](https://python-programming.quantecon.org/optgrowth.html)\n",
    "  - [Overview](https://python-programming.quantecon.org/optgrowth.html#overview)\n",
    "  - [The Model](https://python-programming.quantecon.org/optgrowth.html#the-model)\n",
    "  - [Computation](https://python-programming.quantecon.org/optgrowth.html#computation)\n",
    "  - [Exercises](https://python-programming.quantecon.org/optgrowth.html#exercises)\n",
    "  - [Solutions](https://python-programming.quantecon.org/optgrowth.html#solutions)\n",
    "- [Optimal Growth II: Accelerating the Code with Numba](https://python-programming.quantecon.org/optgrowth_fast.html)\n",
    "  - [Overview](https://python-programming.quantecon.org/optgrowth_fast.html#overview)\n",
    "  - [The Model](https://python-programming.quantecon.org/optgrowth_fast.html#the-model)\n",
    "  - [Computation](https://python-programming.quantecon.org/optgrowth_fast.html#computation)\n",
    "  - [Exercises](https://python-programming.quantecon.org/optgrowth_fast.html#exercises)\n",
    "  - [Solutions](https://python-programming.quantecon.org/optgrowth_fast.html#solutions)\n",
    "- [Optimal Growth III: Time Iteration](https://python-programming.quantecon.org/coleman_policy_iter.html)\n",
    "  - [Overview](https://python-programming.quantecon.org/coleman_policy_iter.html#overview)\n",
    "  - [The Euler Equation](https://python-programming.quantecon.org/coleman_policy_iter.html#the-euler-equation)\n",
    "  - [Implementation](https://python-programming.quantecon.org/coleman_policy_iter.html#implementation)\n",
    "  - [Exercises](https://python-programming.quantecon.org/coleman_policy_iter.html#exercises)\n",
    "  - [Solutions](https://python-programming.quantecon.org/coleman_policy_iter.html#solutions)\n",
    "- [Optimal Growth IV: The Endogenous Grid Method](https://python-programming.quantecon.org/egm_policy_iter.html)\n",
    "  - [Overview](https://python-programming.quantecon.org/egm_policy_iter.html#overview)\n",
    "  - [Key Idea](https://python-programming.quantecon.org/egm_policy_iter.html#key-idea)\n",
    "  - [Implementation](https://python-programming.quantecon.org/egm_policy_iter.html#implementation)\n",
    "- [The Income Fluctuation Problem I: Basic Model](https://python-programming.quantecon.org/ifp.html)\n",
    "  - [Overview](https://python-programming.quantecon.org/ifp.html#overview)\n",
    "  - [The Optimal Savings Problem](https://python-programming.quantecon.org/ifp.html#the-optimal-savings-problem)\n",
    "  - [Computation](https://python-programming.quantecon.org/ifp.html#computation)\n",
    "  - [Implementation](https://python-programming.quantecon.org/ifp.html#implementation)\n",
    "  - [Exercises](https://python-programming.quantecon.org/ifp.html#exercises)\n",
    "  - [Solutions](https://python-programming.quantecon.org/ifp.html#solutions)\n",
    "- [The Income Fluctuation Problem II: Stochastic Returns on Assets](https://python-programming.quantecon.org/ifp_advanced.html)\n",
    "  - [Overview](https://python-programming.quantecon.org/ifp_advanced.html#overview)\n",
    "  - [The Savings Problem](https://python-programming.quantecon.org/ifp_advanced.html#the-savings-problem)\n",
    "  - [Solution Algorithm](https://python-programming.quantecon.org/ifp_advanced.html#solution-algorithm)\n",
    "  - [Implementation](https://python-programming.quantecon.org/ifp_advanced.html#implementation)\n",
    "  - [Exercises](https://python-programming.quantecon.org/ifp_advanced.html#exercises)\n",
    "  - [Solutions](https://python-programming.quantecon.org/ifp_advanced.html#solutions)"
   ]
  }
 ],
 "metadata": {
  "date": 1614914737.3460178,
  "filename": "index_savings_growth.rst",
  "kernelspec": {
   "display_name": "Python",
   "language": "python3",
   "name": "python3"
  },
  "next_doc": {
   "link": "cake_eating_problem",
   "title": "Cake Eating I: Introduction to Optimal Saving"
  },
  "prev_doc": {
   "link": "jv",
   "title": "Job Search VI: On-the-Job Search"
  },
  "title": "Consumption, Savings and Growth"
 },
 "nbformat": 4,
 "nbformat_minor": 2
}