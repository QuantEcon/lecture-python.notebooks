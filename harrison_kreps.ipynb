{
 "cells": [
  {
   "cell_type": "markdown",
   "metadata": {},
   "source": [
    "\n",
    "<a id='harrison-kreps'></a>\n",
    "<div id=\"qe-notebook-header\" align=\"right\" style=\"text-align:right;\">\n",
    "        <a href=\"https://quantecon.org/\" title=\"quantecon.org\">\n",
    "                <img style=\"width:250px;display:inline;\" width=\"250px\" src=\"https://assets.quantecon.org/img/qe-menubar-logo.svg\" alt=\"QuantEcon\">\n",
    "        </a>\n",
    "</div>"
   ]
  },
  {
   "cell_type": "markdown",
   "metadata": {},
   "source": [
    "# Heterogeneous Beliefs and Bubbles\n",
    "\n",
    "\n",
    "<a id='index-0'></a>"
   ]
  },
  {
   "cell_type": "markdown",
   "metadata": {},
   "source": [
    "## Contents\n",
    "\n",
    "- [Heterogeneous Beliefs and Bubbles](#Heterogeneous-Beliefs-and-Bubbles)  \n",
    "  - [Overview](#Overview)  \n",
    "  - [Structure of the Model](#Structure-of-the-Model)  \n",
    "  - [Solving the Model](#Solving-the-Model)  \n",
    "  - [Exercises](#Exercises)  \n",
    "  - [Solutions](#Solutions)  "
   ]
  },
  {
   "cell_type": "markdown",
   "metadata": {},
   "source": [
    "In addition to what’s in Anaconda, this lecture uses following libraries:"
   ]
  },
  {
   "cell_type": "code",
   "execution_count": null,
   "metadata": {
    "hide-output": true
   },
   "outputs": [],
   "source": [
    "!pip install quantecon"
   ]
  },
  {
   "cell_type": "markdown",
   "metadata": {},
   "source": [
    "## Overview\n",
    "\n",
    "This lecture describes a version of a model of Harrison and Kreps [[HK78]](https://python-programming.quantecon.org/zreferences.html#harrkreps1978).\n",
    "\n",
    "The model determines the price of a dividend-yielding asset that is traded by two types of self-interested investors.\n",
    "\n",
    "The model features\n",
    "\n",
    "- heterogeneous beliefs  \n",
    "- incomplete markets  \n",
    "- short sales constraints, and possibly $ \\ldots $  \n",
    "- (leverage) limits on an investor’s ability to borrow in order to finance purchases of a risky asset  \n",
    "\n",
    "\n",
    "Let’s start with some standard imports:"
   ]
  },
  {
   "cell_type": "code",
   "execution_count": null,
   "metadata": {
    "hide-output": false
   },
   "outputs": [],
   "source": [
    "import numpy as np\n",
    "import quantecon as qe\n",
    "import scipy.linalg as la"
   ]
  },
  {
   "cell_type": "markdown",
   "metadata": {},
   "source": [
    "### References\n",
    "\n",
    "Prior to reading the following, you might like to review our lectures on\n",
    "\n",
    "- [Markov chains](https://python-programming.quantecon.org/finite_markov.html)  \n",
    "- [Asset pricing with finite state space](https://python-programming.quantecon.org/markov_asset.html)  "
   ]
  },
  {
   "cell_type": "markdown",
   "metadata": {},
   "source": [
    "### Bubbles\n",
    "\n",
    "Economists differ in how they define a *bubble*.\n",
    "\n",
    "The Harrison-Kreps model illustrates the following notion of a bubble that attracts many economists:\n",
    "\n",
    "> *A component of an asset price can be interpreted as a bubble when all investors agree that the current price of the asset exceeds what they believe the asset’s underlying dividend stream justifies*."
   ]
  },
  {
   "cell_type": "markdown",
   "metadata": {},
   "source": [
    "## Structure of the Model\n",
    "\n",
    "The model simplifies things  by ignoring alterations in the distribution of wealth\n",
    "among investors who have hard-wired different beliefs about the fundamentals that determine\n",
    "asset payouts.\n",
    "\n",
    "There is a fixed number $ A $ of shares of an asset.\n",
    "\n",
    "Each share entitles its owner to a stream of dividends $ \\{d_t\\} $ governed by a Markov chain defined on a state space $ S \\in \\{0, 1\\} $.\n",
    "\n",
    "Thus, the stock is traded **ex dividend**.\n",
    "\n",
    "The dividend obeys\n",
    "\n",
    "$$\n",
    "d_t =\n",
    "\\begin{cases}\n",
    "    0 & \\text{ if } s_t = 0 \\\\\n",
    "    1 & \\text{ if } s_t = 1\n",
    "\\end{cases}\n",
    "$$\n",
    "\n",
    "The owner of a share at the beginning of time $ t $ is entitled to the dividend paid at time $ t $.\n",
    "\n",
    "The owner of the share at the beginning of time $ t $ is also entitled to sell the share to another investor during time $ t $.\n",
    "\n",
    "Two types $ h=a, b $ of investors differ only in their beliefs about a Markov transition matrix $ P $ with typical element\n",
    "\n",
    "$$\n",
    "P(i,j) = \\mathbb P\\{s_{t+1} = j \\mid s_t = i\\}\n",
    "$$\n",
    "\n",
    "Investors of type $ a $ believe the transition matrix\n",
    "\n",
    "$$\n",
    "P_a =\n",
    "    \\begin{bmatrix}\n",
    "        \\frac{1}{2} & \\frac{1}{2} \\\\\n",
    "        \\frac{2}{3} & \\frac{1}{3}\n",
    "    \\end{bmatrix}\n",
    "$$\n",
    "\n",
    "Investors of  type $ b $ think the transition matrix is\n",
    "\n",
    "$$\n",
    "P_b =\n",
    "    \\begin{bmatrix}\n",
    "        \\frac{2}{3} & \\frac{1}{3} \\\\\n",
    "        \\frac{1}{4} & \\frac{3}{4}\n",
    "    \\end{bmatrix}\n",
    "$$\n",
    "\n",
    "Thus,  in state $ 0 $,  a type $ a $ investor is more optimistic  about next period’s dividend than is investor $ b $.\n",
    "\n",
    "But in state $ 1 $,  a type $ a $ investor is more pessimistic  about next period’s dividend than is investor $ b $.\n",
    "\n",
    "The stationary (i.e., invariant) distributions of these two matrices can be calculated as follows:"
   ]
  },
  {
   "cell_type": "code",
   "execution_count": null,
   "metadata": {
    "hide-output": false
   },
   "outputs": [],
   "source": [
    "qa = np.array([[1/2, 1/2], [2/3, 1/3]])\n",
    "qb = np.array([[2/3, 1/3], [1/4, 3/4]])\n",
    "mca = qe.MarkovChain(qa)\n",
    "mcb = qe.MarkovChain(qb)\n",
    "mca.stationary_distributions"
   ]
  },
  {
   "cell_type": "code",
   "execution_count": null,
   "metadata": {
    "hide-output": false
   },
   "outputs": [],
   "source": [
    "mcb.stationary_distributions"
   ]
  },
  {
   "cell_type": "markdown",
   "metadata": {},
   "source": [
    "The stationary distribution of $ P_a $ is approximately $ \\pi_a = \\begin{bmatrix} .57 & .43 \\end{bmatrix} $.\n",
    "\n",
    "The stationary distribution of $ P_b $ is approximately $ \\pi_b = \\begin{bmatrix} .43 & .57 \\end{bmatrix} $.\n",
    "\n",
    "Thus, a type $ a $ investor is more pessimistic on average."
   ]
  },
  {
   "cell_type": "markdown",
   "metadata": {},
   "source": [
    "### Ownership Rights\n",
    "\n",
    "An owner of the asset at the end of time $ t $ is entitled to the dividend at time $ t+1 $ and also has the right to sell the asset at time $ t+1 $.\n",
    "\n",
    "Both types of investors are risk-neutral and both have the same fixed discount factor $ \\beta \\in (0,1) $.\n",
    "\n",
    "In our numerical example, we’ll set $ \\beta = .75 $, just as Harrison and Kreps did.\n",
    "\n",
    "We’ll eventually study the consequences of two alternative assumptions about the number of shares $ A $ relative to the resources that our two types of investors can invest in the stock.\n",
    "\n",
    "1. Both types of investors have enough resources (either wealth or the capacity to borrow) so that they can purchase the entire available stock of the asset <sup><a href=#f1 id=f1-link>[1]</a></sup>.  \n",
    "1. No single type of investor has sufficient resources to purchase the entire stock.  \n",
    "\n",
    "\n",
    "Case 1 is the case studied in Harrison and Kreps.\n",
    "\n",
    "In case 2, both types of investors always hold at least some of the asset."
   ]
  },
  {
   "cell_type": "markdown",
   "metadata": {},
   "source": [
    "### Short Sales Prohibited\n",
    "\n",
    "No short sales are allowed.\n",
    "\n",
    "This matters because it limits how  pessimists can express their opinion.\n",
    "\n",
    "- They **can** express themselves by selling their shares.  \n",
    "- They **cannot** express themsevles  more loudly by artificially “manufacturing shares” – that is, they cannot borrow shares from more optimistic investors and then immediately sell them.  "
   ]
  },
  {
   "cell_type": "markdown",
   "metadata": {},
   "source": [
    "### Optimism and Pessimism\n",
    "\n",
    "The above specifications of the perceived transition matrices $ P_a $ and $ P_b $, taken directly from Harrison and Kreps, build in stochastically alternating temporary optimism and pessimism.\n",
    "\n",
    "Remember that state $ 1 $ is the high dividend state.\n",
    "\n",
    "- In state $ 0 $, a type $ a $ agent is more optimistic about next period’s dividend than a type $ b $ agent.  \n",
    "- In state $ 1 $, a type $ b $ agent is more optimistic about next period’s dividend.  \n",
    "\n",
    "\n",
    "However, the stationary distributions $ \\pi_a = \\begin{bmatrix} .57 & .43 \\end{bmatrix} $ and $ \\pi_b = \\begin{bmatrix} .43 & .57 \\end{bmatrix} $ tell us that a type $ B $ person is more optimistic about the dividend process in the long run than is a type $ A $ person."
   ]
  },
  {
   "cell_type": "markdown",
   "metadata": {},
   "source": [
    "### Information\n",
    "\n",
    "Investors know a price function mapping the state $ s_t $ at $ t $ into the equilibrium price $ p(s_t) $ that prevails in that state.\n",
    "\n",
    "This price function is endogenous and to be determined below.\n",
    "\n",
    "When investors choose whether to purchase or sell the asset at $ t $, they also know $ s_t $."
   ]
  },
  {
   "cell_type": "markdown",
   "metadata": {},
   "source": [
    "## Solving the Model\n",
    "\n",
    "Now let’s turn to solving the model.\n",
    "\n",
    "We’ll  determine equilibrium prices under a particular specification of beliefs and constraints on trading selected from one of the specifications described above.\n",
    "\n",
    "We shall compare equilibrium price functions under the following alternative\n",
    "assumptions about beliefs:\n",
    "\n",
    "1. There is only one type of agent, either $ a $ or $ b $.  \n",
    "1. There are two types of agents differentiated only by their beliefs. Each type of agent has sufficient resources to purchase all of the asset (Harrison and Kreps’s setting).  \n",
    "1. There are two types of agents with different beliefs, but because of limited wealth and/or limited leverage, both types of investors hold the asset each period.  "
   ]
  },
  {
   "cell_type": "markdown",
   "metadata": {},
   "source": [
    "### Summary Table\n",
    "\n",
    "The following table gives a summary of the findings obtained in the remainder of the lecture\n",
    "(in an exercise you will be asked to recreate  the  table and also reinterpret parts of it).\n",
    "\n",
    "The table reports  implications of Harrison and Kreps’s specifications of $ P_a, P_b, \\beta $.\n",
    "\n",
    "<div class=\"content-table\"></div>\n",
    "\n",
    "|$ s_t $|0|1|\n",
    "|:---------------------:|:----:|:----:|\n",
    "|$ p_a $|1.33|1.22|\n",
    "|$ p_b $|1.45|1.91|\n",
    "|$ p_o $|1.85|2.08|\n",
    "|$ p_p $|1|1|\n",
    "|$ \\hat{p}_a $|1.85|1.69|\n",
    "|$ \\hat{p}_b $|1.69|2.08|\n",
    "Here\n",
    "\n",
    "- $ p_a $ is the equilibrium price function  under homogeneous beliefs $ P_a $  \n",
    "- $ p_b $ is the equilibrium price function under homogeneous beliefs $ P_b $  \n",
    "- $ p_o $ is the equilibrium price function under heterogeneous beliefs with optimistic marginal investors  \n",
    "- $ p_p $ is the equilibrium price function under heterogeneous beliefs with pessimistic marginal investors  \n",
    "- $ \\hat{p}_a $ is the amount type $ a $ investors are willing to pay for the asset  \n",
    "- $ \\hat{p}_b $ is the amount type $ b $ investors are willing to pay for the asset  \n",
    "\n",
    "\n",
    "We’ll explain these values and how they are calculated one row at a time.\n",
    "\n",
    "The row corresponding to $ p_o $ applies when both types of investor have enough resources to purchse the entire stock of the asset and strict short sales constraints prevail so that  temporarily optimistic investors always price the asset.\n",
    "\n",
    "The row corresponding to $ p_p $ would apply if neither type of investor has enough resources to purchase the entire stock of the asset and both types must hold the asset.\n",
    "\n",
    "The row corresponding to $ p_p $ would also  apply if both types have enough resources to buy the entire stock of the asset but  short sales are also  possible so that   temporarily pessimistic   investors price the asset."
   ]
  },
  {
   "cell_type": "markdown",
   "metadata": {},
   "source": [
    "### Single Belief Prices\n",
    "\n",
    "We’ll start by pricing the asset under homogeneous beliefs.\n",
    "\n",
    "(This is the case treated in [the lecture](https://python-programming.quantecon.org/markov_asset.html) on asset pricing with finite Markov states)\n",
    "\n",
    "Suppose that there is only one type of investor, either of type $ a $ or $ b $, and that this investor always “prices the asset”.\n",
    "\n",
    "Let $ p_h = \\begin{bmatrix} p_h(0) \\cr p_h(1) \\end{bmatrix} $ be the equilibrium price vector when all investors are of type $ h $.\n",
    "\n",
    "The price today equals the expected discounted value of tomorrow’s dividend and tomorrow’s price of the asset:\n",
    "\n",
    "$$\n",
    "p_h(s) = \\beta \\left( P_h(s,0) (0 + p_h(0)) + P_h(s,1) ( 1 + p_h(1)) \\right), \\quad s = 0, 1\n",
    "$$\n",
    "\n",
    "These equations imply that the equilibrium price vector is\n",
    "\n",
    "\n",
    "<a id='equation-harrkrep1'></a>\n",
    "$$\n",
    "\\begin{bmatrix} p_h(0) \\cr p_h(1) \\end{bmatrix}\n",
    "= \\beta [I - \\beta P_h]^{-1} P_h \\begin{bmatrix} 0 \\cr 1 \\end{bmatrix} \\tag{1}\n",
    "$$\n",
    "\n",
    "The first two rows of the table report $ p_a(s) $ and $ p_b(s) $.\n",
    "\n",
    "Here’s a function that can be used to compute these values"
   ]
  },
  {
   "cell_type": "code",
   "execution_count": null,
   "metadata": {
    "hide-output": false
   },
   "outputs": [],
   "source": [
    "def price_single_beliefs(transition, dividend_payoff, β=.75):\n",
    "    \"\"\"\n",
    "    Function to Solve Single Beliefs\n",
    "    \"\"\"\n",
    "    # First compute inverse piece\n",
    "    imbq_inv = la.inv(np.eye(transition.shape[0]) - β * transition)\n",
    "\n",
    "    # Next compute prices\n",
    "    prices = β * imbq_inv @ transition @ dividend_payoff\n",
    "\n",
    "    return prices"
   ]
  },
  {
   "cell_type": "markdown",
   "metadata": {},
   "source": [
    "#### Single Belief Prices as Benchmarks\n",
    "\n",
    "These equilibrium prices under homogeneous beliefs are important benchmarks for the subsequent analysis.\n",
    "\n",
    "- $ p_h(s) $ tells what investor $ h $ thinks is the “fundamental value” of the asset.  \n",
    "- Here “fundamental value” means the expected discounted present value of future dividends.  \n",
    "\n",
    "\n",
    "We will compare these fundamental values of the asset with equilibrium values when traders have different beliefs."
   ]
  },
  {
   "cell_type": "markdown",
   "metadata": {},
   "source": [
    "### Pricing under Heterogeneous Beliefs\n",
    "\n",
    "There are several cases to consider.\n",
    "\n",
    "The first is when both types of agents have sufficient wealth to purchase all of the asset themselves.\n",
    "\n",
    "In this case, the marginal investor who prices the asset is the more optimistic type so that the equilibrium price $ \\bar p $ satisfies Harrison and Kreps’s key equation:\n",
    "\n",
    "\n",
    "<a id='equation-hakr2'></a>\n",
    "$$\n",
    "\\bar p(s) =\n",
    "\\beta\n",
    "\\max\n",
    "\\left\\{\n",
    "        P_a(s,0) \\bar p(0) + P_a(s,1) ( 1 +  \\bar p(1))\n",
    "        ,\\;\n",
    "        P_b(s,0) \\bar p(0) + P_b(s,1) ( 1 +  \\bar p(1))\n",
    "\\right\\} \\tag{2}\n",
    "$$\n",
    "\n",
    "for $ s=0,1 $.\n",
    "\n",
    "In the above equation, the $ max $ on the right side is evidently over two prospective values of next period’s payout\n",
    "from owning the asset.\n",
    "\n",
    "The marginal investor who prices the asset in state $ s $ is of type $ a $ if\n",
    "\n",
    "$$\n",
    "P_a(s,0)  \\bar p(0) + P_a(s,1) ( 1 +  \\bar p(1)) >\n",
    "P_b(s,0)  \\bar p(0) + P_b(s,1) ( 1 +  \\bar p(1))\n",
    "$$\n",
    "\n",
    "The marginal investor is of type  $ b $ if\n",
    "\n",
    "$$\n",
    "P_a(s,1)  \\bar p(0) + P_a(s,1) ( 1 +  \\bar  p(1)) <\n",
    "P_b(s,1)  \\bar p(0) + P_b(s,1) ( 1 +  \\bar  p(1))\n",
    "$$\n",
    "\n",
    "**Thus the marginal investor is the (temporarily) optimistic type**.\n",
    "\n",
    "Equation [(2)](#equation-hakr2) is a functional equation that, like a Bellman equation, can be solved by\n",
    "\n",
    "- starting with a guess for the price vector $ \\bar p $ and  \n",
    "- iterating to convergence on the operator that maps a guess $ \\bar p^j $ into an updated guess\n",
    "  $ \\bar p^{j+1} $ defined by the right side of [(2)](#equation-hakr2), namely  \n",
    "\n",
    "\n",
    "\n",
    "<a id='equation-harrkrep3'></a>\n",
    "$$\n",
    "\\bar  p^{j+1}(s)\n",
    " = \\beta \\max\n",
    " \\left\\{\n",
    "        P_a(s,0) \\bar p^j(0) + P_a(s,1) ( 1 + \\bar p^j(1))\n",
    "        ,\\;\n",
    "        P_b(s,0) \\bar p^j(0) + P_b(s,1) ( 1 + \\bar p^j(1))\n",
    "\\right\\} \\tag{3}\n",
    "$$\n",
    "\n",
    "for $ s=0,1 $.\n",
    "\n",
    "The third row of the table labeled $ p_o $ reports equilibrium prices that solve the functional equation when $ \\beta = .75 $.\n",
    "\n",
    "Here the type that is optimistic about $ s_{t+1} $ prices the asset in state $ s_t $.\n",
    "\n",
    "It is instructive to compare these prices with the equilibrium prices for the homogeneous belief economies that solve under beliefs $ P_a $ and $ P_b $ reported in the rows labeled $ p_a $ and $ p_b $, respectively.\n",
    "\n",
    "Equilibrium prices $ p_o $ in the heterogeneous beliefs economy evidently exceed what any prospective investor regards as the fundamental value of the asset in each possible state.\n",
    "\n",
    "Nevertheless, the economy recurrently visits a state that makes each investor want to\n",
    "purchase the asset for more than he believes its future dividends are\n",
    "worth.\n",
    "\n",
    "The reason that an investor is willing to pay more than what he believes is warranted by fundamental value of the prospective dividend stream is he expects to have the option to sell the asset later to another investor who will value the asset more highly than he will.\n",
    "\n",
    "- Investors of type $ a $ are willing to pay the following price for the asset  \n",
    "\n",
    "\n",
    "$$\n",
    "\\hat p_a(s) =\n",
    "\\begin{cases}\n",
    "\\bar p(0)  & \\text{ if } s_t = 0 \\\\\n",
    "\\beta(P_a(1,0) \\bar p(0) + P_a(1,1) ( 1 +  \\bar p(1))) & \\text{ if } s_t = 1\n",
    "\\end{cases}\n",
    "$$\n",
    "\n",
    "- Investors of type $ b $ are willing to pay the following price for the asset  \n",
    "\n",
    "\n",
    "$$\n",
    "\\hat p_b(s) =\n",
    "\\begin{cases}\n",
    "    \\beta(P_b(0,0) \\bar p(0) + P_b (0,1) ( 1 +  \\bar p(1)))  & \\text{ if } s_t = 0 \\\\\n",
    "    \\bar p(1)  & \\text{ if } s_t =1\n",
    "\\end{cases}\n",
    "$$\n",
    "\n",
    "Evidently, $ \\hat p_a(1) < \\bar p(1) $ and $ \\hat p_b(0) < \\bar p(0) $.\n",
    "\n",
    "Investors of type $ a $ want to sell the asset in state $ 1 $ while investors of type $ b $ want to sell it in state $ 0 $.\n",
    "\n",
    "- The asset changes hands whenever the state changes from $ 0 $ to $ 1 $ or from $ 1 $ to $ 0 $.  \n",
    "- The valuations $ \\hat p_a(s) $ and $ \\hat p_b(s) $ are displayed in the fourth and fifth rows of the table.  \n",
    "- Even the pessimistic investors who don’t buy the asset think that it is worth more than they think future dividends are worth.  \n",
    "\n",
    "\n",
    "Here’s code to solve for $ \\bar p $, $ \\hat p_a $ and $ \\hat p_b $ using the iterative method described above"
   ]
  },
  {
   "cell_type": "code",
   "execution_count": null,
   "metadata": {
    "hide-output": false
   },
   "outputs": [],
   "source": [
    "def price_optimistic_beliefs(transitions, dividend_payoff, β=.75,\n",
    "                            max_iter=50000, tol=1e-16):\n",
    "    \"\"\"\n",
    "    Function to Solve Optimistic Beliefs\n",
    "    \"\"\"\n",
    "    # We will guess an initial price vector of [0, 0]\n",
    "    p_new = np.array([[0], [0]])\n",
    "    p_old = np.array([[10.], [10.]])\n",
    "\n",
    "    # We know this is a contraction mapping, so we can iterate to conv\n",
    "    for i in range(max_iter):\n",
    "        p_old = p_new\n",
    "        p_new = β * np.max([q @ p_old\n",
    "                            + q @ dividend_payoff for q in transitions],\n",
    "                            1)\n",
    "\n",
    "        # If we succeed in converging, break out of for loop\n",
    "        if np.max(np.sqrt((p_new - p_old)**2)) < tol:\n",
    "            break\n",
    "\n",
    "    ptwiddle = β * np.min([q @ p_old\n",
    "                          + q @ dividend_payoff for q in transitions],\n",
    "                          1)\n",
    "\n",
    "    phat_a = np.array([p_new[0], ptwiddle[1]])\n",
    "    phat_b = np.array([ptwiddle[0], p_new[1]])\n",
    "\n",
    "    return p_new, phat_a, phat_b"
   ]
  },
  {
   "cell_type": "markdown",
   "metadata": {},
   "source": [
    "### Insufficient Funds\n",
    "\n",
    "Outcomes differ when the more optimistic type of investor has insufficient wealth — or insufficient ability to borrow enough — to hold the entire stock of the asset.\n",
    "\n",
    "In this case, the asset price must adjust to attract pessimistic investors.\n",
    "\n",
    "Instead of equation [(2)](#equation-hakr2), the equilibrium price satisfies\n",
    "\n",
    "\n",
    "<a id='equation-harrkrep4'></a>\n",
    "$$\n",
    "\\check p(s)\n",
    "= \\beta \\min\n",
    "\\left\\{\n",
    "    P_a(s,1)  \\check  p(0) + P_a(s,1) ( 1 +   \\check  p(1)) ,\\;\n",
    "    P_b(s,1)  \\check p(0) + P_b(s,1) ( 1 + \\check p(1))\n",
    "\\right\\} \\tag{4}\n",
    "$$\n",
    "\n",
    "and the marginal investor who prices the asset is always the one that values it *less* highly than does the other type.\n",
    "\n",
    "Now the marginal investor is always the (temporarily) pessimistic type.\n",
    "\n",
    "Notice from the sixth row of that the pessimistic price $ p_o $ is lower than the homogeneous belief prices $ p_a $ and $ p_b $ in both states.\n",
    "\n",
    "When pessimistic investors price the asset according to [(4)](#equation-harrkrep4), optimistic investors think that the asset is underpriced.\n",
    "\n",
    "If they could, optimistic investors would willingly borrow at a  one-period risk-free gross interest rate $ \\beta^{-1} $ to purchase more of the asset.\n",
    "\n",
    "Implicit constraints on leverage prohibit them from doing so.\n",
    "\n",
    "When optimistic investors price the asset as in equation [(2)](#equation-hakr2), pessimistic investors think that the asset is overpriced and would like to sell the asset short.\n",
    "\n",
    "Constraints on short sales prevent that.\n",
    "\n",
    "Here’s code to solve for $ \\check p $ using iteration"
   ]
  },
  {
   "cell_type": "code",
   "execution_count": null,
   "metadata": {
    "hide-output": false
   },
   "outputs": [],
   "source": [
    "def price_pessimistic_beliefs(transitions, dividend_payoff, β=.75,\n",
    "                            max_iter=50000, tol=1e-16):\n",
    "    \"\"\"\n",
    "    Function to Solve Pessimistic Beliefs\n",
    "    \"\"\"\n",
    "    # We will guess an initial price vector of [0, 0]\n",
    "    p_new = np.array([[0], [0]])\n",
    "    p_old = np.array([[10.], [10.]])\n",
    "\n",
    "    # We know this is a contraction mapping, so we can iterate to conv\n",
    "    for i in range(max_iter):\n",
    "        p_old = p_new\n",
    "        p_new = β * np.min([q @ p_old\n",
    "                            + q @ dividend_payoff for q in transitions],\n",
    "                           1)\n",
    "\n",
    "        # If we succeed in converging, break out of for loop\n",
    "        if np.max(np.sqrt((p_new - p_old)**2)) < tol:\n",
    "            break\n",
    "\n",
    "    return p_new"
   ]
  },
  {
   "cell_type": "markdown",
   "metadata": {},
   "source": [
    "### Further Interpretation\n",
    "\n",
    "[[Sch14]](https://python-programming.quantecon.org/zreferences.html#scheinkman2014) interprets the Harrison-Kreps model as a model of a bubble — a situation in which an asset price exceeds what every investor thinks is merited by his or her beliefs about the value of the asset’s underlying dividend stream.\n",
    "\n",
    "Scheinkman stresses these features of the Harrison-Kreps model:\n",
    "\n",
    "- Compared to the homogeneous beliefs setting leading to the pricing formula, high volume occurs when the Harrison-Kreps pricing formula prevails.  \n",
    "\n",
    "\n",
    "Type $ a $ investors sell the entire stock of the asset to type $ b $ investors every time the state switches from $ s_t =0 $ to $ s_t =1 $.\n",
    "\n",
    "Type $ b $ investors sell the asset to type $ a $ investors every time the state switches from $ s_t = 1 $ to $ s_t =0 $.\n",
    "\n",
    "Scheinkman takes this as a strength of the model because he observes high volume during *famous bubbles*.\n",
    "\n",
    "- If the *supply* of the asset is increased sufficiently either physically (more “houses” are built) or artificially (ways are invented to short sell “houses”), bubbles end when the supply has grown enough to outstrip optimistic investors’ resources for purchasing the asset.  \n",
    "- If optimistic investors finance their purchases by borrowing, tightening leverage constraints can extinguish a bubble.  \n",
    "\n",
    "\n",
    "Scheinkman extracts insights about the effects of financial regulations on bubbles.\n",
    "\n",
    "He emphasizes how limiting short sales and limiting leverage have opposite effects."
   ]
  },
  {
   "cell_type": "markdown",
   "metadata": {},
   "source": [
    "## Exercises"
   ]
  },
  {
   "cell_type": "markdown",
   "metadata": {},
   "source": [
    "### Exercise 1\n",
    "\n",
    "This exercise invites you to recreate the summary table using the functions we have built above.\n",
    "\n",
    "|$ s_t $|0|1|\n",
    "|:---------------------:|:----:|:----:|\n",
    "|$ p_a $|1.33|1.22|\n",
    "|$ p_b $|1.45|1.91|\n",
    "|$ p_o $|1.85|2.08|\n",
    "|$ p_p $|1|1|\n",
    "|$ \\hat{p}_a $|1.85|1.69|\n",
    "|$ \\hat{p}_b $|1.69|2.08|\n",
    "You will want first  to define the transition matrices and dividend payoff vector.\n",
    "\n",
    "In addition, below we’ll add an interpretation of the row corresponding to $ p_o $ by\n",
    "inventing two additional types of agents, one of whom is **permanently optimistic**, the other who\n",
    "is **permanently pessimistic**.\n",
    "\n",
    "We construct subjective transition probability matrices for our permanently  optimistic and permanently pessimistic investors as follows.\n",
    "\n",
    "The permanently optimistic investors(i.e., the investor with the most optimistic\n",
    "beliefs in each state) believes the transition matrix\n",
    "\n",
    "$$\n",
    "P_o =\n",
    "    \\begin{bmatrix}\n",
    "        \\frac{1}{2} & \\frac{1}{2} \\\\\n",
    "        \\frac{1}{4} & \\frac{3}{4}\n",
    "    \\end{bmatrix}\n",
    "$$\n",
    "\n",
    "The permanently pessimistic investor believes the transition matrix\n",
    "\n",
    "$$\n",
    "P_p =\n",
    "    \\begin{bmatrix}\n",
    "        \\frac{2}{3} & \\frac{1}{3} \\\\\n",
    "        \\frac{2}{3} & \\frac{1}{3}\n",
    "    \\end{bmatrix}\n",
    "$$\n",
    "\n",
    "We’ll use these transition matrices when we present our solution of exercise 1 below."
   ]
  },
  {
   "cell_type": "markdown",
   "metadata": {},
   "source": [
    "## Solutions"
   ]
  },
  {
   "cell_type": "markdown",
   "metadata": {},
   "source": [
    "### Exercise 1\n",
    "\n",
    "First, we will obtain equilibrium price vectors with homogeneous beliefs, including when all\n",
    "investors are optimistic or pessimistic."
   ]
  },
  {
   "cell_type": "code",
   "execution_count": null,
   "metadata": {
    "hide-output": false
   },
   "outputs": [],
   "source": [
    "qa = np.array([[1/2, 1/2], [2/3, 1/3]])    # Type a transition matrix\n",
    "qb = np.array([[2/3, 1/3], [1/4, 3/4]])    # Type b transition matrix\n",
    "# Optimistic investor transition matrix\n",
    "qopt = np.array([[1/2, 1/2], [1/4, 3/4]])\n",
    "# Pessimistic investor transition matrix\n",
    "qpess = np.array([[2/3, 1/3], [2/3, 1/3]])\n",
    "\n",
    "dividendreturn = np.array([[0], [1]])\n",
    "\n",
    "transitions = [qa, qb, qopt, qpess]\n",
    "labels = ['p_a', 'p_b', 'p_optimistic', 'p_pessimistic']\n",
    "\n",
    "for transition, label in zip(transitions, labels):\n",
    "    print(label)\n",
    "    print(\"=\" * 20)\n",
    "    s0, s1 = np.round(price_single_beliefs(transition, dividendreturn), 2)\n",
    "    print(f\"State 0: {s0}\")\n",
    "    print(f\"State 1: {s1}\")\n",
    "    print(\"-\" * 20)"
   ]
  },
  {
   "cell_type": "markdown",
   "metadata": {},
   "source": [
    "We will use the price_optimistic_beliefs function to find the price under\n",
    "heterogeneous beliefs."
   ]
  },
  {
   "cell_type": "code",
   "execution_count": null,
   "metadata": {
    "hide-output": false
   },
   "outputs": [],
   "source": [
    "opt_beliefs = price_optimistic_beliefs([qa, qb], dividendreturn)\n",
    "labels = ['p_optimistic', 'p_hat_a', 'p_hat_b']\n",
    "\n",
    "for p, label in zip(opt_beliefs, labels):\n",
    "    print(label)\n",
    "    print(\"=\" * 20)\n",
    "    s0, s1 = np.round(p, 2)\n",
    "    print(f\"State 0: {s0}\")\n",
    "    print(f\"State 1: {s1}\")\n",
    "    print(\"-\" * 20)"
   ]
  },
  {
   "cell_type": "markdown",
   "metadata": {},
   "source": [
    "Notice that the equilibrium price with heterogeneous beliefs is equal to the price under single beliefs\n",
    "with **permanently optimistic** investors - this is due to the marginal investor in the heterogeneous beliefs equilibrium always being the type who is  temporarily optimistic."
   ]
  },
  {
   "cell_type": "markdown",
   "metadata": {},
   "source": [
    "**Footnotes**\n",
    "\n",
    "<p><a id=f1 href=#f1-link><strong>[1]</strong></a> By assuming that both types of agents always have “deep enough pockets” to purchase all of the asset, the model takes wealth dynamics off the table. The Harrison-Kreps model generates high trading volume when the state changes either from 0 to 1 or from 1 to 0."
   ]
  }
 ],
 "metadata": {
  "date": 1615288251.8098493,
  "filename": "harrison_kreps.rst",
  "kernelspec": {
   "display_name": "Python",
   "language": "python3",
   "name": "python3"
  },
  "next_doc": {
   "link": "index_data_and_empirics",
   "title": "Data and Empirics"
  },
  "prev_doc": {
   "link": "markov_asset",
   "title": "Asset Pricing: Finite State Models"
  },
  "title": "Heterogeneous Beliefs and Bubbles"
 },
 "nbformat": 4,
 "nbformat_minor": 2
}