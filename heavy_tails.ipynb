{
 "cells": [
  {
   "cell_type": "markdown",
   "id": "e5165593",
   "metadata": {},
   "source": [
    "# Heavy-Tailed Distributions"
   ]
  },
  {
   "cell_type": "markdown",
   "id": "1867cd0e",
   "metadata": {},
   "source": [
    "# New website\n",
    "\n",
    "We have moved this lecture to a new lecture series.\n",
    "\n",
    "See [An Undergraduate Lecture Series for the Foundations of Computational Economics](https://intro.quantecon.org)"
   ]
  }
 ],
 "metadata": {
  "date": 1686621947.21273,
  "filename": "heavy_tails.md",
  "kernelspec": {
   "display_name": "Python",
   "language": "python3",
   "name": "python3"
  },
  "title": "Heavy-Tailed Distributions"
 },
 "nbformat": 4,
 "nbformat_minor": 5
}