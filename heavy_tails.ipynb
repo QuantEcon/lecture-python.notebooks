{
 "cells": [
  {
   "cell_type": "markdown",
   "id": "f563b3be",
   "metadata": {},
   "source": [
    "# Heavy-Tailed Distributions"
   ]
  },
  {
   "cell_type": "markdown",
   "id": "90505cc9",
   "metadata": {},
   "source": [
    "# New website\n",
    "\n",
    "We have moved this lecture to a new lecture series.\n",
    "\n",
    "See [An Undergraduate Lecture Series for the Foundations of Computational Economics](https://intro.quantecon.org)"
   ]
  }
 ],
 "metadata": {
  "date": 1695550175.556127,
  "filename": "heavy_tails.md",
  "kernelspec": {
   "display_name": "Python",
   "language": "python3",
   "name": "python3"
  },
  "title": "Heavy-Tailed Distributions"
 },
 "nbformat": 4,
 "nbformat_minor": 5
}