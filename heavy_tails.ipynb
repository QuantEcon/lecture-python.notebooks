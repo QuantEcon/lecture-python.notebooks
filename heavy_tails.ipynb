{
 "cells": [
  {
   "cell_type": "markdown",
   "id": "4a9de6c4",
   "metadata": {},
   "source": [
    "# Heavy-Tailed Distributions"
   ]
  },
  {
   "cell_type": "markdown",
   "id": "24606a3a",
   "metadata": {},
   "source": [
    "# New website\n",
    "\n",
    "We have moved this lecture to a new lecture series.\n",
    "\n",
    "See [An Undergraduate Lecture Series for the Foundations of Computational Economics](https://intro.quantecon.org)"
   ]
  }
 ],
 "metadata": {
  "date": 1697699430.7940605,
  "filename": "heavy_tails.md",
  "kernelspec": {
   "display_name": "Python",
   "language": "python3",
   "name": "python3"
  },
  "title": "Heavy-Tailed Distributions"
 },
 "nbformat": 4,
 "nbformat_minor": 5
}