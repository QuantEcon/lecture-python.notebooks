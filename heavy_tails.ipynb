{
 "cells": [
  {
   "cell_type": "markdown",
   "id": "af5d7c78",
   "metadata": {},
   "source": [
    "\n",
    "<a id='heavy-tails'></a>"
   ]
  },
  {
   "cell_type": "markdown",
   "id": "bb3df4ce",
   "metadata": {},
   "source": [
    "# Heavy-Tailed Distributions\n",
    "\n",
    "\n",
    "<a id='index-0'></a>"
   ]
  },
  {
   "cell_type": "markdown",
   "id": "8218f65d",
   "metadata": {},
   "source": [
    "## Contents\n",
    "\n",
    "- [Heavy-Tailed Distributions](#Heavy-Tailed-Distributions)  \n",
    "  - [Overview](#Overview)  \n",
    "  - [Visual Comparisons](#Visual-Comparisons)  \n",
    "  - [Classifying Tail Properties](#Classifying-Tail-Properties)  \n",
    "  - [Failure of the LLN](#Failure-of-the-LLN)  \n",
    "  - [Why Do Heavy Tails Matter?](#Why-Do-Heavy-Tails-Matter?)  \n",
    "  - [Exercises](#Exercises)  "
   ]
  },
  {
   "cell_type": "markdown",
   "id": "e9428852",
   "metadata": {},
   "source": [
    "In addition to what’s in Anaconda, this lecture will need the following libraries:"
   ]
  },
  {
   "cell_type": "code",
   "execution_count": null,
   "id": "0222766d",
   "metadata": {
    "hide-output": false
   },
   "outputs": [],
   "source": [
    "!pip install quantecon\n",
    "!pip install --upgrade yfinance"
   ]
  },
  {
   "cell_type": "markdown",
   "id": "ed625ee8",
   "metadata": {},
   "source": [
    "We run the following code to prepare for the lecture:"
   ]
  },
  {
   "cell_type": "code",
   "execution_count": null,
   "id": "cc8d9c99",
   "metadata": {
    "hide-output": false
   },
   "outputs": [],
   "source": [
    "%matplotlib inline\n",
    "import matplotlib.pyplot as plt\n",
    "plt.rcParams[\"figure.figsize\"] = (11, 5)  #set default figure size\n",
    "import numpy as np\n",
    "import quantecon as qe\n",
    "from scipy.stats import norm\n",
    "import yfinance as yf\n",
    "import pandas as pd\n",
    "from pandas.plotting import register_matplotlib_converters\n",
    "register_matplotlib_converters()"
   ]
  },
  {
   "cell_type": "markdown",
   "id": "24747973",
   "metadata": {},
   "source": [
    "## Overview\n",
    "\n",
    "In this section we give some motivation for the lecture."
   ]
  },
  {
   "cell_type": "markdown",
   "id": "b3a75ca7",
   "metadata": {},
   "source": [
    "### Introduction: Light Tails\n",
    "\n",
    "Most commonly used probability distributions in classical statistics and\n",
    "the natural sciences have “light tails.”\n",
    "\n",
    "To explain this concept, let’s look first at examples.\n",
    "\n",
    "The classic example is the [normal distribution](https://en.wikipedia.org/wiki/Normal_distribution), which has density\n",
    "\n",
    "$$\n",
    "f(x) = \\frac{1}{\\sqrt{2\\pi}\\sigma} \n",
    "    \\exp\\left( -\\frac{(x-\\mu)^2}{2 \\sigma^2} \\right)\n",
    "$$\n",
    "\n",
    "on the real line $ \\mathbb R = (-\\infty, \\infty) $.\n",
    "\n",
    "The two parameters $ \\mu $ and $ \\sigma $ are the mean and standard deviation\n",
    "respectively.\n",
    "\n",
    "As $ x $ deviates from $ \\mu $, the value of $ f(x) $ goes to zero extremely\n",
    "quickly.\n",
    "\n",
    "We can see this when we plot the density and show a histogram of observations,\n",
    "as with the following code (which assumes $ \\mu=0 $ and $ \\sigma=1 $)."
   ]
  },
  {
   "cell_type": "code",
   "execution_count": null,
   "id": "0ae80bd9",
   "metadata": {
    "hide-output": false
   },
   "outputs": [],
   "source": [
    "fig, ax = plt.subplots()\n",
    "X = norm.rvs(size=1_000_000)\n",
    "ax.hist(X, bins=40, alpha=0.4, label='histogram', density=True)\n",
    "x_grid = np.linspace(-4, 4, 400)\n",
    "ax.plot(x_grid, norm.pdf(x_grid), label='density')\n",
    "ax.legend()\n",
    "plt.show()"
   ]
  },
  {
   "cell_type": "markdown",
   "id": "fd9524dc",
   "metadata": {},
   "source": [
    "Notice how\n",
    "\n",
    "- the density’s tails converge quickly to zero in both directions and  \n",
    "- even with 1,000,000 draws, we get no very large or very small observations.  \n",
    "\n",
    "\n",
    "We can see the last point more clearly by executing"
   ]
  },
  {
   "cell_type": "code",
   "execution_count": null,
   "id": "967959e2",
   "metadata": {
    "hide-output": false
   },
   "outputs": [],
   "source": [
    "X.min(), X.max()"
   ]
  },
  {
   "cell_type": "markdown",
   "id": "95159c0c",
   "metadata": {},
   "source": [
    "Here’s another view of draws from the same distribution:"
   ]
  },
  {
   "cell_type": "code",
   "execution_count": null,
   "id": "c0ce0a22",
   "metadata": {
    "hide-output": false
   },
   "outputs": [],
   "source": [
    "n = 2000\n",
    "fig, ax = plt.subplots()\n",
    "data = norm.rvs(size=n)\n",
    "ax.plot(list(range(n)), data, linestyle='', marker='o', alpha=0.5, ms=4)\n",
    "ax.vlines(list(range(n)), 0, data, lw=0.2)\n",
    "ax.set_ylim(-15, 15)\n",
    "ax.set_xlabel('$i$')\n",
    "ax.set_ylabel('$X_i$', rotation=0)\n",
    "plt.show()"
   ]
  },
  {
   "cell_type": "markdown",
   "id": "1df4e75a",
   "metadata": {},
   "source": [
    "We have plotted each individual draw $ X_i $ against $ i $.\n",
    "\n",
    "None are very large or very small.\n",
    "\n",
    "In other words, extreme observations are rare and draws tend not to deviate\n",
    "too much from the mean.\n",
    "\n",
    "As a result, many statisticians and econometricians\n",
    "use rules of thumb such as “outcomes more than four or five\n",
    "standard deviations from the mean can safely be ignored.”"
   ]
  },
  {
   "cell_type": "markdown",
   "id": "3545b0e6",
   "metadata": {},
   "source": [
    "### When Are Light Tails Valid?\n",
    "\n",
    "Distributions that rarely generate extreme values are called light-tailed.\n",
    "\n",
    "For example, human height is light-tailed.\n",
    "\n",
    "Yes, it’s true that we see some very tall people.\n",
    "\n",
    "- For example, basketballer [Sun Mingming](https://en.wikipedia.org/wiki/Sun_Mingming) is 2.32 meters tall  \n",
    "\n",
    "\n",
    "But have you ever heard of someone who is 20 meters tall?  Or 200?  Or 2000?\n",
    "\n",
    "Have you ever wondered why not?\n",
    "\n",
    "After all, there are 8 billion people in the world!\n",
    "\n",
    "In essence, the reason we don’t see such draws is that the distribution of\n",
    "human high has very light tails.\n",
    "\n",
    "In fact human height is approximately normally distributed."
   ]
  },
  {
   "cell_type": "markdown",
   "id": "62252a4e",
   "metadata": {},
   "source": [
    "### Returns on Assets\n",
    "\n",
    "But now we have to ask: does economic data always look like this?\n",
    "\n",
    "Let’s look at some financial data first.\n",
    "\n",
    "Our aim is to plot the daily change in the price of Amazon (AMZN) stock for\n",
    "the period from 1st January 2015 to 1st July 2022.\n",
    "\n",
    "This equates to daily returns if we set dividends aside.\n",
    "\n",
    "The code below produces the desired plot using Yahoo financial data via the `yfinance` library."
   ]
  },
  {
   "cell_type": "code",
   "execution_count": null,
   "id": "6ec05152",
   "metadata": {
    "hide-output": false
   },
   "outputs": [],
   "source": [
    "s = yf.download('AMZN', '2015-1-1', '2022-7-1')['Adj Close']\n",
    "r = s.pct_change()\n",
    "\n",
    "fig, ax = plt.subplots()\n",
    "\n",
    "ax.plot(r, linestyle='', marker='o', alpha=0.5, ms=4)\n",
    "ax.vlines(r.index, 0, r.values, lw=0.2)\n",
    "ax.set_ylabel('returns', fontsize=12)\n",
    "ax.set_xlabel('date', fontsize=12)\n",
    "\n",
    "plt.show()"
   ]
  },
  {
   "cell_type": "markdown",
   "id": "8c212b20",
   "metadata": {},
   "source": [
    "This data looks different to the draws from the normal distribution.\n",
    "\n",
    "Several of observations are quite extreme.\n",
    "\n",
    "We get a similar picture if we look at other assets, such as Bitcoin"
   ]
  },
  {
   "cell_type": "code",
   "execution_count": null,
   "id": "45623fcd",
   "metadata": {
    "hide-output": false
   },
   "outputs": [],
   "source": [
    "s = yf.download('BTC-USD', '2015-1-1', '2022-7-1')['Adj Close']\n",
    "r = s.pct_change()\n",
    "\n",
    "fig, ax = plt.subplots()\n",
    "\n",
    "ax.plot(r, linestyle='', marker='o', alpha=0.5, ms=4)\n",
    "ax.vlines(r.index, 0, r.values, lw=0.2)\n",
    "ax.set_ylabel('returns', fontsize=12)\n",
    "ax.set_xlabel('date', fontsize=12)\n",
    "\n",
    "plt.show()"
   ]
  },
  {
   "cell_type": "markdown",
   "id": "559ba826",
   "metadata": {},
   "source": [
    "The histogram also looks different to the histogram of the normal\n",
    "distribution:"
   ]
  },
  {
   "cell_type": "code",
   "execution_count": null,
   "id": "48961a92",
   "metadata": {
    "hide-output": false
   },
   "outputs": [],
   "source": [
    "fig, ax = plt.subplots()\n",
    "ax.hist(r, bins=60, alpha=0.4, label='bitcoin returns', density=True)\n",
    "ax.set_xlabel('returns', fontsize=12)\n",
    "plt.show()"
   ]
  },
  {
   "cell_type": "markdown",
   "id": "2c6ebb20",
   "metadata": {},
   "source": [
    "If we look at higher frequency returns data (e.g., tick-by-tick), we often see even more\n",
    "extreme observations.\n",
    "\n",
    "See, for example, [[Man63](https://python.quantecon.org/zreferences.html#id64)] or [[Rac03](https://python.quantecon.org/zreferences.html#id63)]."
   ]
  },
  {
   "cell_type": "markdown",
   "id": "ca3d8e74",
   "metadata": {},
   "source": [
    "### Other Data\n",
    "\n",
    "The data we have just seen is said to be “heavy-tailed”.\n",
    "\n",
    "With heavy-tailed distributions, extreme outcomes occur relatively\n",
    "frequently.\n",
    "\n",
    "(A more careful definition is given below)\n",
    "\n",
    "Importantly, there are many examples of heavy-tailed distributions\n",
    "observed in economic and financial settings include\n",
    "\n",
    "For example, the income and the wealth distributions are heavy-tailed (see, e.g., [[Vil96](https://python.quantecon.org/zreferences.html#id68)], [[BB18](https://python.quantecon.org/zreferences.html#id67)]).\n",
    "\n",
    "- You can imagine this: most people have low or modest wealth but some people\n",
    "  are extremely rich.  \n",
    "\n",
    "\n",
    "The firm size distribution is also heavy-tailed ([[Axt01](https://python.quantecon.org/zreferences.html#id66)], [[Gab16](https://python.quantecon.org/zreferences.html#id65)]}).\n",
    "\n",
    "- You can imagine this too: most firms are small but some firms are enormous.  \n",
    "\n",
    "\n",
    "The distribution of town and city sizes is heavy-tailed ([[RRGM11](https://python.quantecon.org/zreferences.html#id62)], [[Gab16](https://python.quantecon.org/zreferences.html#id65)]).\n",
    "\n",
    "- Most towns and cities are small but some are very large.  "
   ]
  },
  {
   "cell_type": "markdown",
   "id": "78ddbf33",
   "metadata": {},
   "source": [
    "### Why Should We Care?\n",
    "\n",
    "Heavy tails are common in economic data but does that mean they are important?\n",
    "\n",
    "The answer to this question is affirmative!\n",
    "\n",
    "When distributions are heavy-tailed, we need to think carefully about issues\n",
    "like\n",
    "\n",
    "- diversification and risk  \n",
    "- forecasting  \n",
    "- taxation (across a heavy-tailed income distribution), etc.  \n",
    "\n",
    "\n",
    "We return to these points below."
   ]
  },
  {
   "cell_type": "markdown",
   "id": "2a1b5269",
   "metadata": {},
   "source": [
    "## Visual Comparisons\n",
    "\n",
    "Let’s do some more visual comparisons to help us build intuition on the\n",
    "difference between light and heavy tails.\n",
    "\n",
    "The figure below shows a simulation.  (You will be asked to replicate it in\n",
    "the exercises.)\n",
    "\n",
    "The top two subfigures each show 120 independent draws from the normal\n",
    "distribution, which is light-tailed.\n",
    "\n",
    "The bottom subfigure shows 120 independent draws from [the Cauchy\n",
    "distribution](https://en.wikipedia.org/wiki/Cauchy_distribution), which is\n",
    "heavy-tailed.\n",
    "\n",
    "\n",
    "<a id='light-heavy-fig1'></a>\n",
    "![https://python.quantecon.org/_static/lecture_specific/heavy_tails/light_heavy_fig1.png](https://python.quantecon.org/_static/lecture_specific/heavy_tails/light_heavy_fig1.png)\n",
    "\n",
    "  \n",
    "In the top subfigure, the standard deviation of the normal distribution is 2,\n",
    "and the draws are clustered around the mean.\n",
    "\n",
    "In the middle subfigure, the standard deviation is increased to 12 and, as\n",
    "expected, the amount of dispersion rises.\n",
    "\n",
    "The bottom subfigure, with the Cauchy draws, shows a different pattern: tight\n",
    "clustering around the mean for the great majority of observations, combined\n",
    "with a few sudden large deviations from the mean.\n",
    "\n",
    "This is typical of a heavy-tailed distribution.\n",
    "\n",
    "\n",
    "<a id='cltail'></a>"
   ]
  },
  {
   "cell_type": "markdown",
   "id": "4919df8f",
   "metadata": {},
   "source": [
    "## Classifying Tail Properties\n",
    "\n",
    "To keep our discussion precise, we need some definitions concerning tail\n",
    "properties.\n",
    "\n",
    "We will focus our attention on the right hand tails of\n",
    "nonnegative random variables and their distributions.\n",
    "\n",
    "The definitions for\n",
    "left hand tails are very similar and we omit them to simplify the exposition."
   ]
  },
  {
   "cell_type": "markdown",
   "id": "e636df09",
   "metadata": {},
   "source": [
    "### Light and Heavy Tails\n",
    "\n",
    "A distribution $ F $ with density $ f $ on $ \\mathbb R_+ $ is called **heavy-tailed** if\n",
    "\n",
    "\n",
    "<a id='equation-defht'></a>\n",
    "$$\n",
    "\\int_0^\\infty \\exp(tx) f(x) dx = \\infty \\; \\text{ for all } t > 0. \\tag{15.1}\n",
    "$$\n",
    "\n",
    "We say that a nonnegative random variable $ X $ is **heavy-tailed** if its density is heavy-tailed.\n",
    "\n",
    "This is equivalent to stating that its **moment generating function** $ m(t) :=\n",
    "\\mathbb E \\exp(t X) $ is infinite for all $ t > 0 $.\n",
    "\n",
    "For example, the [log-normal\n",
    "distribution](https://en.wikipedia.org/wiki/Log-normal_distribution) is\n",
    "heavy-tailed because its moment generating function is infinite everywhere on\n",
    "$ (0, \\infty) $.\n",
    "\n",
    "A distribution $ F $ on $ \\mathbb R_+ $ is called **light-tailed** if it is not heavy-tailed.\n",
    "\n",
    "A nonnegative random variable $ X $ is **light-tailed** if its distribution $ F $ is light-tailed.\n",
    "\n",
    "For example, every random variable with bounded support is light-tailed. (Why?)\n",
    "\n",
    "As another example, if $ X $ has the [exponential distribution](https://en.wikipedia.org/wiki/Exponential_distribution), with cdf $ F(x) = 1 - \\exp(-\\lambda x) $ for some $ \\lambda > 0 $, then its moment generating function is\n",
    "\n",
    "$$\n",
    "m(t) = \\frac{\\lambda}{\\lambda - t} \\quad \\text{when } t < \\lambda\n",
    "$$\n",
    "\n",
    "In particular, $ m(t) $ is finite whenever $ t < \\lambda $, so $ X $ is light-tailed.\n",
    "\n",
    "One can show that if $ X $ is light-tailed, then all of its\n",
    "[moments](https://en.wikipedia.org/wiki/Moment_%28mathematics%29) are finite.\n",
    "\n",
    "Conversely, if some moment is infinite, then $ X $ is heavy-tailed.\n",
    "\n",
    "The latter condition is not necessary, however.\n",
    "\n",
    "For example, the lognormal distribution is heavy-tailed but every moment is finite."
   ]
  },
  {
   "cell_type": "markdown",
   "id": "e79096e4",
   "metadata": {},
   "source": [
    "### Pareto Tails\n",
    "\n",
    "One specific class of heavy-tailed distributions has been found repeatedly in\n",
    "economic and social phenomena: the class of so-called power laws.\n",
    "\n",
    "Specifically, given $ \\alpha > 0 $, a nonnegative random variable $ X $ is said to\n",
    "have a **Pareto tail** with **tail index** $ \\alpha $ if\n",
    "\n",
    "\n",
    "<a id='equation-plrt'></a>\n",
    "$$\n",
    "\\lim_{x \\to \\infty} x^\\alpha \\, \\mathbb P\\{X > x\\} = c. \\tag{15.2}\n",
    "$$\n",
    "\n",
    "The limit [(15.2)](#equation-plrt) implies the existence of positive constants $ b $ and $ \\bar x $ such that $ \\mathbb P\\{X > x\\} \\geq b x^{- \\alpha} $ whenever $ x \\geq \\bar x $.\n",
    "\n",
    "The implication is that $ \\mathbb P\\{X > x\\} $ converges to zero no faster than $ x^{-\\alpha} $.\n",
    "\n",
    "In some sources, a random variable obeying [(15.2)](#equation-plrt) is said to have a **power law tail**.\n",
    "\n",
    "One example is the [Pareto distribution](https://en.wikipedia.org/wiki/Pareto_distribution).\n",
    "\n",
    "If $ X $ has the Pareto distribution, then there are positive constants $ \\bar x $\n",
    "and $ \\alpha $ such that\n",
    "\n",
    "\n",
    "<a id='equation-pareto'></a>\n",
    "$$\n",
    "\\mathbb P\\{X > x\\} =\n",
    "\\begin{cases}\n",
    "    \\left( \\bar x/x \\right)^{\\alpha}\n",
    "        & \\text{ if } x \\geq \\bar x\n",
    "    \\\\\n",
    "    1\n",
    "        & \\text{ if } x < \\bar x\n",
    "\\end{cases} \\tag{15.3}\n",
    "$$\n",
    "\n",
    "It is easy to see that $ \\mathbb P\\{X > x\\} $ satisfies [(15.2)](#equation-plrt).\n",
    "\n",
    "Thus, in line with the terminology, Pareto distributed random variables have a Pareto tail."
   ]
  },
  {
   "cell_type": "markdown",
   "id": "f444de09",
   "metadata": {},
   "source": [
    "### Rank-Size Plots\n",
    "\n",
    "One graphical technique for investigating Pareto tails and power laws is the so-called **rank-size plot**.\n",
    "\n",
    "This kind of figure plots log size against log rank of the population (i.e.,\n",
    "location in the population when sorted from smallest to largest).\n",
    "\n",
    "Often just the largest 5% or 10% of observations are plotted.\n",
    "\n",
    "For a sufficiently large number of draws from a Pareto distribution, the plot\n",
    "generates a straight line. For distributions with thinner tails, the data\n",
    "points are concave.\n",
    "\n",
    "A discussion of why this occurs can be found in [[NOM04](https://python.quantecon.org/zreferences.html#id57)].\n",
    "\n",
    "The figure below provides one example, using simulated data.\n",
    "\n",
    "The rank-size plots shows draws from three different distributions: folded normal, chi-squared with 1 degree of freedom and Pareto.\n",
    "\n",
    "The Pareto sample produces a straight line, while the lines produced by the other samples are concave.\n",
    "\n",
    "You are asked to reproduce this figure in the exercises.\n",
    "\n",
    "\n",
    "<a id='rank-size-fig1'></a>\n",
    "![https://python.quantecon.org/_static/lecture_specific/heavy_tails/rank_size_fig1.png](https://python.quantecon.org/_static/lecture_specific/heavy_tails/rank_size_fig1.png)"
   ]
  },
  {
   "cell_type": "markdown",
   "id": "1fb33411",
   "metadata": {},
   "source": [
    "## Failure of the LLN\n",
    "\n",
    "One impact of heavy tails is that sample averages can be poor estimators of\n",
    "the underlying mean of the distribution.\n",
    "\n",
    "To understand this point better, recall [our earlier discussion](https://python.quantecon.org/lln_clt.html)\n",
    "of the Law of Large Numbers, which considered IID $ X_1, \\ldots, X_n $ with common distribution $ F $\n",
    "\n",
    "If $ \\mathbb E |X_i| $ is finite, then\n",
    "the sample mean $ \\bar X_n := \\frac{1}{n} \\sum_{i=1}^n X_i $ satisfies\n",
    "\n",
    "\n",
    "<a id='equation-lln-as2'></a>\n",
    "$$\n",
    "\\mathbb P \\left\\{ \\bar X_n \\to \\mu \\text{ as } n \\to \\infty \\right\\} = 1 \\tag{15.4}\n",
    "$$\n",
    "\n",
    "where $ \\mu := \\mathbb E X_i = \\int x F(dx) $ is the common mean of the sample.\n",
    "\n",
    "The condition $ \\mathbb E | X_i | = \\int |x| F(dx) < \\infty $ holds\n",
    "in most cases but can fail if the distribution $ F $ is very heavy tailed.\n",
    "\n",
    "For example, it fails for the Cauchy distribution.\n",
    "\n",
    "Let’s have a look at the behavior of the sample mean in this case, and see\n",
    "whether or not the LLN is still valid."
   ]
  },
  {
   "cell_type": "code",
   "execution_count": null,
   "id": "515dce60",
   "metadata": {
    "hide-output": false
   },
   "outputs": [],
   "source": [
    "from scipy.stats import cauchy\n",
    "\n",
    "np.random.seed(1234)\n",
    "N = 1_000\n",
    "\n",
    "distribution = cauchy()\n",
    "\n",
    "fig, ax = plt.subplots()\n",
    "data = distribution.rvs(N)\n",
    "\n",
    "# Compute sample mean at each n\n",
    "sample_mean = np.empty(N)\n",
    "for n in range(1, N):\n",
    "    sample_mean[n] = np.mean(data[:n])\n",
    "\n",
    "# Plot\n",
    "ax.plot(range(N), sample_mean, alpha=0.6, label='$\\\\bar{X}_n$')\n",
    "\n",
    "ax.plot(range(N), np.zeros(N), 'k--', lw=0.5)\n",
    "ax.legend()\n",
    "\n",
    "plt.show()"
   ]
  },
  {
   "cell_type": "markdown",
   "id": "8b137bf3",
   "metadata": {},
   "source": [
    "The sequence shows no sign of converging.\n",
    "\n",
    "Will convergence occur if we take $ n $ even larger?\n",
    "\n",
    "The answer is no.\n",
    "\n",
    "To see this, recall that the [characteristic function](https://en.wikipedia.org/wiki/Characteristic_function_%28probability_theory%29) of the Cauchy distribution is\n",
    "\n",
    "\n",
    "<a id='equation-lln-cch'></a>\n",
    "$$\n",
    "\\phi(t) = \\mathbb E e^{itX} = \\int e^{i t x} f(x) dx = e^{-|t|} \\tag{15.5}\n",
    "$$\n",
    "\n",
    "Using independence, the characteristic function of the sample mean becomes\n",
    "\n",
    "$$\n",
    "\\begin{aligned}\n",
    "    \\mathbb E e^{i t \\bar X_n }\n",
    "    & = \\mathbb E \\exp \\left\\{ i \\frac{t}{n} \\sum_{j=1}^n X_j \\right\\}\n",
    "    \\\\\n",
    "    & = \\mathbb E \\prod_{j=1}^n \\exp \\left\\{ i \\frac{t}{n} X_j \\right\\}\n",
    "    \\\\\n",
    "    & = \\prod_{j=1}^n \\mathbb E \\exp \\left\\{ i \\frac{t}{n} X_j \\right\\}\n",
    "    = [\\phi(t/n)]^n\n",
    "\\end{aligned}\n",
    "$$\n",
    "\n",
    "In view of [(15.5)](#equation-lln-cch), this is just $ e^{-|t|} $.\n",
    "\n",
    "Thus, in the case of the Cauchy distribution, the sample mean itself has the very same Cauchy distribution, regardless of $ n $!\n",
    "\n",
    "In particular, the sequence $ \\bar X_n $ does not converge to any point."
   ]
  },
  {
   "cell_type": "markdown",
   "id": "5d46a10d",
   "metadata": {},
   "source": [
    "## Why Do Heavy Tails Matter?\n",
    "\n",
    "We have now seen that\n",
    "\n",
    "1. heavy tails are frequent in economics and  \n",
    "1. the Law of Large Numbers fails when tails are very heavy.  \n",
    "\n",
    "\n",
    "But what about in the real world?  Do heavy tails matter?\n",
    "\n",
    "Let’s briefly discuss why they do."
   ]
  },
  {
   "cell_type": "markdown",
   "id": "a2121382",
   "metadata": {},
   "source": [
    "### Diversification\n",
    "\n",
    "One of the most important ideas in investing is using diversification to\n",
    "reduce risk.\n",
    "\n",
    "This is a very old idea — consider, for example, the expression “don’t put all your eggs in one basket”.\n",
    "\n",
    "To illustrate, consider an investor with one dollar of wealth and a choice over\n",
    "$ n $ assets with payoffs $ X_1, \\ldots, X_n $.\n",
    "\n",
    "Suppose that returns on distinct  assets are\n",
    "independent and each return has  mean $ \\mu $ and variance $ \\sigma^2 $.\n",
    "\n",
    "If the investor puts all wealth in one asset, say, then the expected payoff of the\n",
    "portfolio is $ \\mu $ and the variance is $ \\sigma^2 $.\n",
    "\n",
    "If instead the investor puts share $ 1/n $ of her wealth in each asset, then the portfolio payoff is\n",
    "\n",
    "$$\n",
    "Y_n = \\sum_{i=1}^n \\frac{X_i}{n} = \\frac{1}{n} \\sum_{i=1}^n X_i.\n",
    "$$\n",
    "\n",
    "Try computing the mean and variance.\n",
    "\n",
    "You will find that\n",
    "\n",
    "- The mean is unchanged at $ \\mu $, while  \n",
    "- the variance of the portfolio has fallen to $ \\sigma^2 / n $.  \n",
    "\n",
    "\n",
    "Diversification reduces risk, as expected.\n",
    "\n",
    "But there is a hidden assumption here: the variance is of returns is finite.\n",
    "\n",
    "If the distribution is heavy-tailed and the variance is infinite, then this\n",
    "logic is incorrect.\n",
    "\n",
    "For example, we saw above that if every $ X_i $ is Cauchy, then so is $ Y_n $.\n",
    "\n",
    "This means that diversification doesn’t help at all!"
   ]
  },
  {
   "cell_type": "markdown",
   "id": "bb1fbe82",
   "metadata": {},
   "source": [
    "### Fiscal Policy\n",
    "\n",
    "The heaviness of the tail in the wealth distribution matters for taxation and redistribution policies.\n",
    "\n",
    "The same is true for the income distribution.\n",
    "\n",
    "For example, the heaviness of the tail of the income distribution helps\n",
    "determine how much revenue a given tax policy will raise."
   ]
  },
  {
   "cell_type": "markdown",
   "id": "b9362d0c",
   "metadata": {},
   "source": [
    "### Other Implications\n",
    "\n",
    "There are in fact many important implications for heavy tails.\n",
    "\n",
    "For example, heavy tails in income and wealth affect productivity growth, business cycles, and political economy.\n",
    "\n",
    "For further reading, see, for example, [[AR02](https://python.quantecon.org/zreferences.html#id61)], [[GSS03](https://python.quantecon.org/zreferences.html#id60)], [[BEGS18](https://python.quantecon.org/zreferences.html#id59)] or [[AKM+18](https://python.quantecon.org/zreferences.html#id58)]."
   ]
  },
  {
   "cell_type": "markdown",
   "id": "9ff177d2",
   "metadata": {},
   "source": [
    "## Exercises"
   ]
  },
  {
   "cell_type": "markdown",
   "id": "83db1ed4",
   "metadata": {},
   "source": [
    "## Exercise 15.1\n",
    "\n",
    "Replicate [the figure presented above](#light-heavy-fig1) that compares normal and Cauchy draws.\n",
    "\n",
    "Use `np.random.seed(11)` to set the seed."
   ]
  },
  {
   "cell_type": "markdown",
   "id": "49378369",
   "metadata": {},
   "source": [
    "## Solution to[ Exercise 15.1](https://python.quantecon.org/#ht_ex1)\n",
    "\n",
    "Here is one solution:"
   ]
  },
  {
   "cell_type": "code",
   "execution_count": null,
   "id": "2517aef8",
   "metadata": {
    "hide-output": false
   },
   "outputs": [],
   "source": [
    "n = 120\n",
    "np.random.seed(11)\n",
    "\n",
    "fig, axes = plt.subplots(3, 1, figsize=(6, 12))\n",
    "\n",
    "for ax in axes:\n",
    "    ax.set_ylim((-120, 120))\n",
    "\n",
    "s_vals = 2, 12\n",
    "\n",
    "for ax, s in zip(axes[:2], s_vals):\n",
    "    data = np.random.randn(n) * s\n",
    "    ax.plot(list(range(n)), data, linestyle='', marker='o', alpha=0.5, ms=4)\n",
    "    ax.vlines(list(range(n)), 0, data, lw=0.2)\n",
    "    ax.set_title(f\"draws from $N(0, \\sigma^2)$ with $\\sigma = {s}$\", fontsize=11)\n",
    "\n",
    "ax = axes[2]\n",
    "distribution = cauchy()\n",
    "data = distribution.rvs(n)\n",
    "ax.plot(list(range(n)), data, linestyle='', marker='o', alpha=0.5, ms=4)\n",
    "ax.vlines(list(range(n)), 0, data, lw=0.2)\n",
    "ax.set_title(f\"draws from the Cauchy distribution\", fontsize=11)\n",
    "\n",
    "plt.subplots_adjust(hspace=0.25)\n",
    "\n",
    "plt.show()"
   ]
  },
  {
   "cell_type": "markdown",
   "id": "cc569bb2",
   "metadata": {},
   "source": [
    "## Exercise 15.2\n",
    "\n",
    "Prove: If $ X $ has a Pareto tail with tail index $ \\alpha $, then\n",
    "$ \\mathbb E[X^r] = \\infty $ for all $ r \\geq \\alpha $."
   ]
  },
  {
   "cell_type": "markdown",
   "id": "ed1b624b",
   "metadata": {},
   "source": [
    "## Solution to[ Exercise 15.2](https://python.quantecon.org/#ht_ex2)\n",
    "\n",
    "Let $ X $ have a Pareto tail with tail index $ \\alpha $ and let $ F $ be its cdf.\n",
    "\n",
    "Fix $ r \\geq \\alpha $.\n",
    "\n",
    "As discussed after [(15.2)](#equation-plrt), we can take positive constants $ b $ and $ \\bar x $ such that\n",
    "\n",
    "$$\n",
    "\\mathbb P\\{X > x\\} \\geq b x^{- \\alpha} \\text{ whenever } x \\geq \\bar x\n",
    "$$\n",
    "\n",
    "But then\n",
    "\n",
    "$$\n",
    "\\mathbb E X^r = r \\int_0^\\infty x^{r-1} \\mathbb P\\{ X > x \\} x\n",
    "\\geq\n",
    "r \\int_0^{\\bar x} x^{r-1} \\mathbb P\\{ X > x \\} x\n",
    "+ r \\int_{\\bar x}^\\infty  x^{r-1} b x^{-\\alpha} x.\n",
    "$$\n",
    "\n",
    "We know that $ \\int_{\\bar x}^\\infty x^{r-\\alpha-1} x = \\infty $ whenever $ r - \\alpha - 1 \\geq -1 $.\n",
    "\n",
    "Since $ r \\geq \\alpha $, we have $ \\mathbb E X^r = \\infty $."
   ]
  },
  {
   "cell_type": "markdown",
   "id": "f0ae4ca7",
   "metadata": {},
   "source": [
    "## Exercise 15.3\n",
    "\n",
    "Repeat exercise 1, but replace the three distributions (two normal, one\n",
    "Cauchy) with three Pareto distributions using different choices of\n",
    "$ \\alpha $.\n",
    "\n",
    "For $ \\alpha $, try 1.15, 1.5 and 1.75.\n",
    "\n",
    "Use `np.random.seed(11)` to set the seed."
   ]
  },
  {
   "cell_type": "markdown",
   "id": "19a0ae87",
   "metadata": {},
   "source": [
    "## Solution to[ Exercise 15.3](https://python.quantecon.org/#ht_ex3)\n",
    "\n",
    "Here is one solution:"
   ]
  },
  {
   "cell_type": "code",
   "execution_count": null,
   "id": "b5b93b89",
   "metadata": {
    "hide-output": false
   },
   "outputs": [],
   "source": [
    "from scipy.stats import pareto\n",
    "\n",
    "np.random.seed(11)\n",
    "\n",
    "n = 120\n",
    "alphas = [1.15, 1.50, 1.75]\n",
    "\n",
    "fig, axes = plt.subplots(3, 1, figsize=(6, 8))\n",
    "\n",
    "for (a, ax) in zip(alphas, axes):\n",
    "    ax.set_ylim((-5, 50))\n",
    "    data = pareto.rvs(size=n, scale=1, b=a)\n",
    "    ax.plot(list(range(n)), data, linestyle='', marker='o', alpha=0.5, ms=4)\n",
    "    ax.vlines(list(range(n)), 0, data, lw=0.2)\n",
    "    ax.set_title(f\"Pareto draws with $\\\\alpha = {a}$\", fontsize=11)\n",
    "\n",
    "plt.subplots_adjust(hspace=0.4)\n",
    "\n",
    "plt.show()"
   ]
  },
  {
   "cell_type": "markdown",
   "id": "8be5403e",
   "metadata": {},
   "source": [
    "## Exercise 15.4\n",
    "\n",
    "Replicate the rank-size plot figure [presented above](#rank-size-fig1).\n",
    "\n",
    "If you like you can use the function `qe.rank_size` from the `quantecon` library to generate the plots.\n",
    "\n",
    "Use `np.random.seed(13)` to set the seed."
   ]
  },
  {
   "cell_type": "markdown",
   "id": "42f3bc69",
   "metadata": {},
   "source": [
    "## Solution to[ Exercise 15.4](https://python.quantecon.org/#ht_ex4)\n",
    "\n",
    "First let’s generate the data for the plots:"
   ]
  },
  {
   "cell_type": "code",
   "execution_count": null,
   "id": "18a49537",
   "metadata": {
    "hide-output": false
   },
   "outputs": [],
   "source": [
    "sample_size = 1000\n",
    "np.random.seed(13)\n",
    "z = np.random.randn(sample_size)\n",
    "\n",
    "data_1 = np.abs(z)\n",
    "data_2 = np.exp(z)\n",
    "data_3 = np.exp(np.random.exponential(scale=1.0, size=sample_size))\n",
    "\n",
    "data_list = [data_1, data_2, data_3]"
   ]
  },
  {
   "cell_type": "markdown",
   "id": "80f75709",
   "metadata": {},
   "source": [
    "Now we plot the data:"
   ]
  },
  {
   "cell_type": "code",
   "execution_count": null,
   "id": "6ea50f19",
   "metadata": {
    "hide-output": false
   },
   "outputs": [],
   "source": [
    "fig, axes = plt.subplots(3, 1, figsize=(6, 8))\n",
    "axes = axes.flatten()\n",
    "labels = ['$|z|$', '$\\exp(z)$', 'Pareto with tail index $1.0$']\n",
    "\n",
    "for data, label, ax in zip(data_list, labels, axes):\n",
    "\n",
    "    rank_data, size_data = qe.rank_size(data)\n",
    "\n",
    "    ax.loglog(rank_data, size_data, 'o', markersize=3.0, alpha=0.5, label=label)\n",
    "    ax.set_xlabel(\"log rank\")\n",
    "    ax.set_ylabel(\"log size\")\n",
    "\n",
    "    ax.legend()\n",
    "\n",
    "fig.subplots_adjust(hspace=0.4)\n",
    "\n",
    "plt.show()"
   ]
  },
  {
   "cell_type": "markdown",
   "id": "56a383f7",
   "metadata": {},
   "source": [
    "## Exercise 15.5\n",
    "\n",
    "There is an ongoing argument about whether the firm size distribution should\n",
    "be modeled as a Pareto distribution or a lognormal distribution (see, e.g.,\n",
    "[[FDGA+04](https://python.quantecon.org/zreferences.html#id51)], [[KLS18](https://python.quantecon.org/zreferences.html#id49)] or [[ST19a](https://python.quantecon.org/zreferences.html#id50)]).\n",
    "\n",
    "This sounds esoteric but has real implications for a variety of economic\n",
    "phenomena.\n",
    "\n",
    "To illustrate this fact in a simple way, let us consider an economy with\n",
    "100,000 firms, an interest rate of `r = 0.05` and a corporate tax rate of\n",
    "15%.\n",
    "\n",
    "Your task is to estimate the present discounted value of projected corporate\n",
    "tax revenue over the next 10 years.\n",
    "\n",
    "Because we are forecasting, we need a model.\n",
    "\n",
    "We will suppose that\n",
    "\n",
    "1. the number of firms and the firm size distribution (measured in profits) remain fixed and  \n",
    "1. the firm size distribution is either lognormal or Pareto.  \n",
    "\n",
    "\n",
    "Present discounted value of tax revenue will be estimated by\n",
    "\n",
    "1. generating 100,000 draws of firm profit from the firm size distribution,  \n",
    "1. multiplying by the tax rate, and  \n",
    "1. summing the results with discounting to obtain present value.  \n",
    "\n",
    "\n",
    "The Pareto distribution is assumed to take the form [(15.3)](#equation-pareto) with $ \\bar x = 1 $ and $ \\alpha = 1.05 $.\n",
    "\n",
    "(The value the tail index $ \\alpha $ is plausible given the data [[Gab16](https://python.quantecon.org/zreferences.html#id65)].)\n",
    "\n",
    "To make the lognormal option as similar as possible to the Pareto option, choose its parameters such that the mean and median of both distributions are the same.\n",
    "\n",
    "Note that, for each distribution, your estimate of tax revenue will be random because it is based on a finite number of draws.\n",
    "\n",
    "To take this into account, generate 100 replications (evaluations of tax revenue) for each of the two distributions and compare the two samples by\n",
    "\n",
    "- producing a [violin plot](https://en.wikipedia.org/wiki/Violin_plot) visualizing the two samples side-by-side and  \n",
    "- printing the mean and standard deviation of both samples.  \n",
    "\n",
    "\n",
    "For the seed use `np.random.seed(1234)`.\n",
    "\n",
    "What differences do you observe?\n",
    "\n",
    ">**Note**\n",
    ">\n",
    ">A better approach to this problem would be to model firm dynamics and\n",
    "try to track individual firms given the current distribution.  We will discuss\n",
    "firm dynamics in later lectures."
   ]
  },
  {
   "cell_type": "markdown",
   "id": "cfb680b2",
   "metadata": {},
   "source": [
    "## Solution to[ Exercise 15.5](https://python.quantecon.org/#ht_ex5)\n",
    "\n",
    "To do the exercise, we need to choose the parameters $ \\mu $\n",
    "and $ \\sigma $ of the lognormal distribution to match the mean and median\n",
    "of the Pareto distribution.\n",
    "\n",
    "Here we understand the lognormal distribution as that of the random variable\n",
    "$ \\exp(\\mu + \\sigma Z) $ when $ Z $ is standard normal.\n",
    "\n",
    "The mean and median of the Pareto distribution [(15.3)](#equation-pareto) with\n",
    "$ \\bar x = 1 $ are\n",
    "\n",
    "$$\n",
    "\\text{mean } = \\frac{\\alpha}{\\alpha - 1}\n",
    "\\quad \\text{and} \\quad\n",
    "\\text{median } = 2^{1/\\alpha}\n",
    "$$\n",
    "\n",
    "Using the corresponding expressions for the lognormal distribution leads us to\n",
    "the equations\n",
    "\n",
    "$$\n",
    "\\frac{\\alpha}{\\alpha - 1} = \\exp(\\mu + \\sigma^2/2)\n",
    "\\quad \\text{and} \\quad\n",
    "2^{1/\\alpha} = \\exp(\\mu)\n",
    "$$\n",
    "\n",
    "which we solve for $ \\mu $ and $ \\sigma $ given $ \\alpha = 1.05 $.\n",
    "\n",
    "Here is code that generates the two samples, produces the violin plot and\n",
    "prints the mean and standard deviation of the two samples."
   ]
  },
  {
   "cell_type": "code",
   "execution_count": null,
   "id": "9821f474",
   "metadata": {
    "hide-output": false
   },
   "outputs": [],
   "source": [
    "num_firms = 100_000\n",
    "num_years = 10\n",
    "tax_rate = 0.15\n",
    "r = 0.05\n",
    "\n",
    "β = 1 / (1 + r)    # discount factor\n",
    "\n",
    "x_bar = 1.0\n",
    "α = 1.05\n",
    "\n",
    "def pareto_rvs(n):\n",
    "    \"Uses a standard method to generate Pareto draws.\"\n",
    "    u = np.random.uniform(size=n)\n",
    "    y = x_bar / (u**(1/α))\n",
    "    return y"
   ]
  },
  {
   "cell_type": "markdown",
   "id": "3e07a022",
   "metadata": {},
   "source": [
    "Let’s compute the lognormal parameters:"
   ]
  },
  {
   "cell_type": "code",
   "execution_count": null,
   "id": "d76d401a",
   "metadata": {
    "hide-output": false
   },
   "outputs": [],
   "source": [
    "μ = np.log(2) / α\n",
    "σ_sq = 2 * (np.log(α/(α - 1)) - np.log(2)/α)\n",
    "σ = np.sqrt(σ_sq)"
   ]
  },
  {
   "cell_type": "markdown",
   "id": "d2559f18",
   "metadata": {},
   "source": [
    "Here’s a function to compute a single estimate of tax revenue for a particular\n",
    "choice of distribution `dist`."
   ]
  },
  {
   "cell_type": "code",
   "execution_count": null,
   "id": "c3c13796",
   "metadata": {
    "hide-output": false
   },
   "outputs": [],
   "source": [
    "def tax_rev(dist):\n",
    "    tax_raised = 0\n",
    "    for t in range(num_years):\n",
    "        if dist == 'pareto':\n",
    "            π = pareto_rvs(num_firms)\n",
    "        else:\n",
    "            π = np.exp(μ + σ * np.random.randn(num_firms))\n",
    "        tax_raised += β**t * np.sum(π * tax_rate)\n",
    "    return tax_raised"
   ]
  },
  {
   "cell_type": "markdown",
   "id": "dfc6312d",
   "metadata": {},
   "source": [
    "Now let’s generate the violin plot."
   ]
  },
  {
   "cell_type": "code",
   "execution_count": null,
   "id": "dc9b72b5",
   "metadata": {
    "hide-output": false
   },
   "outputs": [],
   "source": [
    "num_reps = 100\n",
    "np.random.seed(1234)\n",
    "\n",
    "tax_rev_lognorm = np.empty(num_reps)\n",
    "tax_rev_pareto = np.empty(num_reps)\n",
    "\n",
    "for i in range(num_reps):\n",
    "    tax_rev_pareto[i] = tax_rev('pareto')\n",
    "    tax_rev_lognorm[i] = tax_rev('lognorm')\n",
    "\n",
    "fig, ax = plt.subplots()\n",
    "\n",
    "data = tax_rev_pareto, tax_rev_lognorm\n",
    "\n",
    "ax.violinplot(data)\n",
    "\n",
    "plt.show()"
   ]
  },
  {
   "cell_type": "markdown",
   "id": "637b8fd9",
   "metadata": {},
   "source": [
    "Finally, let’s print the means and standard deviations."
   ]
  },
  {
   "cell_type": "code",
   "execution_count": null,
   "id": "17077c66",
   "metadata": {
    "hide-output": false
   },
   "outputs": [],
   "source": [
    "tax_rev_pareto.mean(), tax_rev_pareto.std()"
   ]
  },
  {
   "cell_type": "code",
   "execution_count": null,
   "id": "8e27e501",
   "metadata": {
    "hide-output": false
   },
   "outputs": [],
   "source": [
    "tax_rev_lognorm.mean(), tax_rev_lognorm.std()"
   ]
  },
  {
   "cell_type": "markdown",
   "id": "27a5867e",
   "metadata": {},
   "source": [
    "Looking at the output of the code, our main conclusion is that the Pareto\n",
    "assumption leads to a lower mean and greater dispersion."
   ]
  }
 ],
 "metadata": {
  "date": 1671447471.8799794,
  "filename": "heavy_tails.md",
  "kernelspec": {
   "display_name": "Python",
   "language": "python3",
   "name": "python3"
  },
  "title": "Heavy-Tailed Distributions"
 },
 "nbformat": 4,
 "nbformat_minor": 5
}