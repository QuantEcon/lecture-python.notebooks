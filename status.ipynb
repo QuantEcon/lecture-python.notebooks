{
 "cells": [
  {
   "cell_type": "markdown",
   "id": "646cfd07",
   "metadata": {},
   "source": [
    "# Execution Statistics\n",
    "\n",
    "This table contains the latest execution statistics.\n",
    "\n",
    "[](https://python.quantecon.org/aiyagari.html)[](https://python.quantecon.org/ak2.html)[](https://python.quantecon.org/ar1_bayes.html)[](https://python.quantecon.org/ar1_turningpts.html)[](https://python.quantecon.org/back_prop.html)[](https://python.quantecon.org/bayes_nonconj.html)[](https://python.quantecon.org/cake_eating_numerical.html)[](https://python.quantecon.org/cake_eating_problem.html)[](https://python.quantecon.org/career.html)[](https://python.quantecon.org/cass_koopmans_1.html)[](https://python.quantecon.org/cass_koopmans_2.html)[](https://python.quantecon.org/coleman_policy_iter.html)[](https://python.quantecon.org/cross_product_trick.html)[](https://python.quantecon.org/egm_policy_iter.html)[](https://python.quantecon.org/eig_circulant.html)[](https://python.quantecon.org/exchangeable.html)[](https://python.quantecon.org/finite_markov.html)[](https://python.quantecon.org/ge_arrow.html)[](https://python.quantecon.org/harrison_kreps.html)[](https://python.quantecon.org/hoist_failure.html)[](https://python.quantecon.org/house_auction.html)[](https://python.quantecon.org/ifp.html)[](https://python.quantecon.org/ifp_advanced.html)[](https://python.quantecon.org/imp_sample.html)[](https://python.quantecon.org/intro.html)[](https://python.quantecon.org/inventory_dynamics.html)[](https://python.quantecon.org/jv.html)[](https://python.quantecon.org/kalman.html)[](https://python.quantecon.org/kalman_2.html)[](https://python.quantecon.org/kesten_processes.html)[](https://python.quantecon.org/lagrangian_lqdp.html)[](https://python.quantecon.org/lake_model.html)[](https://python.quantecon.org/likelihood_bayes.html)[](https://python.quantecon.org/likelihood_ratio_process.html)[](https://python.quantecon.org/linear_algebra.html)[](https://python.quantecon.org/linear_models.html)[](https://python.quantecon.org/lln_clt.html)[](https://python.quantecon.org/lq_inventories.html)[](https://python.quantecon.org/lqcontrol.html)[](https://python.quantecon.org/markov_asset.html)[](https://python.quantecon.org/markov_perf.html)[](https://python.quantecon.org/mccall_correlated.html)[](https://python.quantecon.org/mccall_fitted_vfi.html)[](https://python.quantecon.org/mccall_model.html)[](https://python.quantecon.org/mccall_model_with_separation.html)[](https://python.quantecon.org/mccall_q.html)[](https://python.quantecon.org/mix_model.html)[](https://python.quantecon.org/mle.html)[](https://python.quantecon.org/multi_hyper.html)[](https://python.quantecon.org/multivariate_normal.html)[](https://python.quantecon.org/navy_captain.html)[](https://python.quantecon.org/newton_method.html)[](https://python.quantecon.org/odu.html)[](https://python.quantecon.org/ols.html)[](https://python.quantecon.org/opt_transport.html)[](https://python.quantecon.org/optgrowth.html)[](https://python.quantecon.org/optgrowth_fast.html)[](https://python.quantecon.org/pandas_panel.html)[](https://python.quantecon.org/perm_income.html)[](https://python.quantecon.org/perm_income_cons.html)[](https://python.quantecon.org/prob_matrix.html)[](https://python.quantecon.org/prob_meaning.html)[](https://python.quantecon.org/qr_decomp.html)[](https://python.quantecon.org/rand_resp.html)[](https://python.quantecon.org/rational_expectations.html)[](https://python.quantecon.org/re_with_feedback.html)[](https://python.quantecon.org/samuelson.html)[](https://python.quantecon.org/sir_model.html)[](https://python.quantecon.org/.html)[](https://python.quantecon.org/svd_intro.html)[](https://python.quantecon.org/troubleshooting.html)[](https://python.quantecon.org/two_auctions.html)[](https://python.quantecon.org/uncertainty_traps.html)[](https://python.quantecon.org/util_rand_resp.html)[](https://python.quantecon.org/var_dmd.html)[](https://python.quantecon.org/von_neumann_model.html)[](https://python.quantecon.org/wald_friedman.html)[](https://python.quantecon.org/wealth_dynamics.html)[](https://python.quantecon.org/zreferences.html)|Document|Modified|Method|Run Time (s)|Status|\n",
    "|:------------------:|:------------------:|:------------------:|:------------------:|:------------------:|\n",
    "|aiyagari|2024-10-03 02:21|cache|17.09|✅|\n",
    "|ak2|2024-10-03 02:21|cache|12.88|✅|\n",
    "|ar1_bayes|2024-10-03 02:25|cache|259.86|✅|\n",
    "|ar1_turningpts|2024-10-03 02:26|cache|23.83|✅|\n",
    "|back_prop|2024-10-03 02:27|cache|69.66|✅|\n",
    "|bayes_nonconj|2024-10-03 03:22|cache|3315.72|✅|\n",
    "|cake_eating_numerical|2024-10-03 03:23|cache|25.69|✅|\n",
    "|cake_eating_problem|2024-10-03 03:23|cache|1.75|✅|\n",
    "|career|2024-10-03 03:23|cache|12.09|✅|\n",
    "|cass_koopmans_1|2024-10-03 03:23|cache|10.22|✅|\n",
    "|cass_koopmans_2|2024-10-03 03:23|cache|6.17|✅|\n",
    "|coleman_policy_iter|2024-10-03 03:23|cache|11.23|✅|\n",
    "|cross_product_trick|2024-10-03 03:23|cache|1.03|✅|\n",
    "|egm_policy_iter|2024-10-03 03:24|cache|4.53|✅|\n",
    "|eig_circulant|2024-10-03 03:24|cache|3.65|✅|\n",
    "|exchangeable|2024-10-03 03:24|cache|7.57|✅|\n",
    "|finite_markov|2024-10-03 03:24|cache|7.29|✅|\n",
    "|ge_arrow|2024-10-03 03:24|cache|1.76|✅|\n",
    "|harrison_kreps|2024-10-03 03:24|cache|5.02|✅|\n",
    "|hoist_failure|2024-10-03 03:25|cache|36.04|✅|\n",
    "|house_auction|2024-10-03 03:25|cache|4.16|✅|\n",
    "|ifp|2024-10-03 03:25|cache|40.23|✅|\n",
    "|ifp_advanced|2024-10-03 03:26|cache|20.63|✅|\n",
    "|imp_sample|2024-10-03 03:30|cache|277.48|✅|\n",
    "|intro|2024-10-03 03:30|cache|0.92|✅|\n",
    "|inventory_dynamics|2024-10-03 03:30|cache|9.55|✅|\n",
    "|jv|2024-10-03 03:31|cache|13.7|✅|\n",
    "|kalman|2024-10-03 03:31|cache|7.71|✅|\n",
    "|kalman_2|2024-10-03 03:31|cache|24.81|✅|\n",
    "|kesten_processes|2024-10-03 03:32|cache|32.33|✅|\n",
    "|lagrangian_lqdp|2024-10-03 03:32|cache|24.06|✅|\n",
    "|lake_model|2024-10-03 03:32|cache|13.42|✅|\n",
    "|likelihood_bayes|2024-10-03 03:33|cache|39.37|✅|\n",
    "|likelihood_ratio_process|2024-10-03 03:33|cache|7.92|✅|\n",
    "|linear_algebra|2024-10-03 03:33|cache|2.35|✅|\n",
    "|linear_models|2024-10-03 03:33|cache|7.34|✅|\n",
    "|lln_clt|2024-10-03 03:34|cache|9.42|✅|\n",
    "|lq_inventories|2024-10-03 03:34|cache|13.34|✅|\n",
    "|lqcontrol|2024-10-03 03:34|cache|6.25|✅|\n",
    "|markov_asset|2024-10-03 03:34|cache|6.55|✅|\n",
    "|markov_perf|2024-10-03 03:34|cache|5.55|✅|\n",
    "|mccall_correlated|2024-10-03 03:35|cache|55.6|✅|\n",
    "|mccall_fitted_vfi|2024-10-03 03:35|cache|9.09|✅|\n",
    "|mccall_model|2024-10-03 03:35|cache|13.96|✅|\n",
    "|mccall_model_with_separation|2024-10-03 03:36|cache|7.58|✅|\n",
    "|mccall_q|2024-10-03 03:36|cache|15.52|✅|\n",
    "|mix_model|2024-10-03 03:37|cache|54.82|✅|\n",
    "|mle|2024-10-03 03:37|cache|4.57|✅|\n",
    "|multi_hyper|2024-10-03 03:37|cache|17.83|✅|\n",
    "|multivariate_normal|2024-10-03 03:37|cache|3.82|✅|\n",
    "|navy_captain|2024-10-03 03:38|cache|22.88|✅|\n",
    "|newton_method|2024-10-03 03:39|cache|94.28|✅|\n",
    "|odu|2024-10-03 03:40|cache|49.22|✅|\n",
    "|ols|2024-10-03 03:40|cache|11.24|✅|\n",
    "|opt_transport|2024-10-03 03:40|cache|16.05|✅|\n",
    "|optgrowth|2024-10-03 03:41|cache|51.89|✅|\n",
    "|optgrowth_fast|2024-10-03 03:42|cache|17.7|✅|\n",
    "|pandas_panel|2024-10-03 03:42|cache|4.43|✅|\n",
    "|perm_income|2024-10-03 03:42|cache|3.53|✅|\n",
    "|perm_income_cons|2024-10-03 03:42|cache|6.96|✅|\n",
    "|prob_matrix|2024-10-03 03:42|cache|11.31|✅|\n",
    "|prob_meaning|2024-10-03 03:43|cache|43.16|✅|\n",
    "|qr_decomp|2024-10-03 03:43|cache|1.25|✅|\n",
    "|rand_resp|2024-10-03 03:43|cache|2.5|✅|\n",
    "|rational_expectations|2024-10-03 03:43|cache|4.96|✅|\n",
    "|re_with_feedback|2024-10-03 03:43|cache|8.41|✅|\n",
    "|samuelson|2024-10-03 03:43|cache|11.14|✅|\n",
    "|sir_model|2024-10-03 03:43|cache|2.85|✅|\n",
    "|status|2024-10-03 03:43|cache|5.81|✅|\n",
    "|svd_intro|2024-10-03 03:43|cache|1.48|✅|\n",
    "|troubleshooting|2024-10-03 03:30|cache|0.92|✅|\n",
    "|two_auctions|2024-10-03 03:44|cache|14.65|✅|\n",
    "|uncertainty_traps|2024-10-03 03:44|cache|2.5|✅|\n",
    "|util_rand_resp|2024-10-03 03:44|cache|2.48|✅|\n",
    "|var_dmd|2024-10-03 03:30|cache|0.92|✅|\n",
    "|von_neumann_model|2024-10-03 03:44|cache|2.05|✅|\n",
    "|wald_friedman|2024-10-03 03:44|cache|12.66|✅|\n",
    "|wealth_dynamics|2024-10-03 03:45|cache|41.33|✅|\n",
    "|zreferences|2024-10-03 03:30|cache|0.92|✅|\n",
    "\n",
    "<a id='status-machine-details'></a>\n",
    "These lectures are built on `linux` instances through `github actions`.\n",
    "\n",
    "These lectures are using the following python version"
   ]
  },
  {
   "cell_type": "code",
   "execution_count": null,
   "id": "243ebb1c",
   "metadata": {
    "hide-output": false
   },
   "outputs": [],
   "source": [
    "!python --version"
   ]
  },
  {
   "cell_type": "markdown",
   "id": "7f9f4a3e",
   "metadata": {},
   "source": [
    "and the following package versions"
   ]
  },
  {
   "cell_type": "code",
   "execution_count": null,
   "id": "47c37d69",
   "metadata": {
    "hide-output": false
   },
   "outputs": [],
   "source": [
    "!conda list"
   ]
  }
 ],
 "metadata": {
  "date": 1727927328.8775272,
  "filename": "status.md",
  "kernelspec": {
   "display_name": "Python",
   "language": "python3",
   "name": "python3"
  },
  "title": "Execution Statistics"
 },
 "nbformat": 4,
 "nbformat_minor": 5
}