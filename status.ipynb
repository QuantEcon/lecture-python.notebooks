{
 "cells": [
  {
   "cell_type": "markdown",
   "id": "6177da95",
   "metadata": {},
   "source": [
    "# Execution Statistics\n",
    "\n",
    "This table contains the latest execution statistics.\n",
    "\n",
    "[](https://python.quantecon.org/aiyagari.html)[](https://python.quantecon.org/ak2.html)[](https://python.quantecon.org/ar1_bayes.html)[](https://python.quantecon.org/ar1_turningpts.html)[](https://python.quantecon.org/back_prop.html)[](https://python.quantecon.org/bayes_nonconj.html)[](https://python.quantecon.org/cake_eating_numerical.html)[](https://python.quantecon.org/cake_eating_problem.html)[](https://python.quantecon.org/career.html)[](https://python.quantecon.org/cass_fiscal.html)[](https://python.quantecon.org/cass_koopmans_1.html)[](https://python.quantecon.org/cass_koopmans_2.html)[](https://python.quantecon.org/coleman_policy_iter.html)[](https://python.quantecon.org/cross_product_trick.html)[](https://python.quantecon.org/egm_policy_iter.html)[](https://python.quantecon.org/eig_circulant.html)[](https://python.quantecon.org/exchangeable.html)[](https://python.quantecon.org/finite_markov.html)[](https://python.quantecon.org/ge_arrow.html)[](https://python.quantecon.org/harrison_kreps.html)[](https://python.quantecon.org/hoist_failure.html)[](https://python.quantecon.org/house_auction.html)[](https://python.quantecon.org/ifp.html)[](https://python.quantecon.org/ifp_advanced.html)[](https://python.quantecon.org/imp_sample.html)[](https://python.quantecon.org/intro.html)[](https://python.quantecon.org/inventory_dynamics.html)[](https://python.quantecon.org/jv.html)[](https://python.quantecon.org/kalman.html)[](https://python.quantecon.org/kalman_2.html)[](https://python.quantecon.org/kesten_processes.html)[](https://python.quantecon.org/lagrangian_lqdp.html)[](https://python.quantecon.org/lake_model.html)[](https://python.quantecon.org/likelihood_bayes.html)[](https://python.quantecon.org/likelihood_ratio_process.html)[](https://python.quantecon.org/linear_algebra.html)[](https://python.quantecon.org/linear_models.html)[](https://python.quantecon.org/lln_clt.html)[](https://python.quantecon.org/lq_inventories.html)[](https://python.quantecon.org/lqcontrol.html)[](https://python.quantecon.org/markov_asset.html)[](https://python.quantecon.org/markov_perf.html)[](https://python.quantecon.org/mccall_correlated.html)[](https://python.quantecon.org/mccall_fitted_vfi.html)[](https://python.quantecon.org/mccall_model.html)[](https://python.quantecon.org/mccall_model_with_separation.html)[](https://python.quantecon.org/mccall_q.html)[](https://python.quantecon.org/mix_model.html)[](https://python.quantecon.org/mle.html)[](https://python.quantecon.org/multi_hyper.html)[](https://python.quantecon.org/multivariate_normal.html)[](https://python.quantecon.org/navy_captain.html)[](https://python.quantecon.org/newton_method.html)[](https://python.quantecon.org/odu.html)[](https://python.quantecon.org/ols.html)[](https://python.quantecon.org/opt_transport.html)[](https://python.quantecon.org/optgrowth.html)[](https://python.quantecon.org/optgrowth_fast.html)[](https://python.quantecon.org/pandas_panel.html)[](https://python.quantecon.org/perm_income.html)[](https://python.quantecon.org/perm_income_cons.html)[](https://python.quantecon.org/prob_matrix.html)[](https://python.quantecon.org/prob_meaning.html)[](https://python.quantecon.org/qr_decomp.html)[](https://python.quantecon.org/rand_resp.html)[](https://python.quantecon.org/rational_expectations.html)[](https://python.quantecon.org/re_with_feedback.html)[](https://python.quantecon.org/samuelson.html)[](https://python.quantecon.org/sir_model.html)[](https://python.quantecon.org/.html)[](https://python.quantecon.org/svd_intro.html)[](https://python.quantecon.org/troubleshooting.html)[](https://python.quantecon.org/two_auctions.html)[](https://python.quantecon.org/uncertainty_traps.html)[](https://python.quantecon.org/util_rand_resp.html)[](https://python.quantecon.org/var_dmd.html)[](https://python.quantecon.org/von_neumann_model.html)[](https://python.quantecon.org/wald_friedman.html)[](https://python.quantecon.org/wealth_dynamics.html)[](https://python.quantecon.org/zreferences.html)|Document|Modified|Method|Run Time (s)|Status|\n",
    "|:------------------:|:------------------:|:------------------:|:------------------:|:------------------:|\n",
    "|aiyagari|2024-12-16 03:29|cache|16.77|✅|\n",
    "|ak2|2024-12-16 03:29|cache|10.6|✅|\n",
    "|ar1_bayes|2024-12-16 03:35|cache|316.09|✅|\n",
    "|ar1_turningpts|2024-12-16 03:35|cache|19.03|✅|\n",
    "|back_prop|2024-12-16 03:36|cache|77.47|✅|\n",
    "|bayes_nonconj|2024-12-16 04:38|cache|3705.8|✅|\n",
    "|cake_eating_numerical|2024-12-16 04:39|cache|24.49|✅|\n",
    "|cake_eating_problem|2024-12-16 04:39|cache|1.9|✅|\n",
    "|career|2024-12-16 04:39|cache|10.78|✅|\n",
    "|cass_fiscal|2025-01-10 23:37|cache|14.92|✅|\n",
    "|cass_koopmans_1|2024-12-16 04:39|cache|10.22|✅|\n",
    "|cass_koopmans_2|2024-12-16 04:39|cache|6.39|✅|\n",
    "|coleman_policy_iter|2024-12-16 04:39|cache|10.26|✅|\n",
    "|cross_product_trick|2024-12-16 04:39|cache|1.08|✅|\n",
    "|egm_policy_iter|2024-12-16 04:39|cache|4.84|✅|\n",
    "|eig_circulant|2024-12-16 04:39|cache|3.71|✅|\n",
    "|exchangeable|2024-12-16 04:39|cache|7.54|✅|\n",
    "|finite_markov|2024-12-16 04:40|cache|6.13|✅|\n",
    "|ge_arrow|2024-12-16 04:40|cache|2.09|✅|\n",
    "|harrison_kreps|2024-12-16 04:40|cache|3.7|✅|\n",
    "|hoist_failure|2024-12-16 04:40|cache|35.56|✅|\n",
    "|house_auction|2024-12-16 04:40|cache|3.03|✅|\n",
    "|ifp|2024-12-16 04:41|cache|37.88|✅|\n",
    "|ifp_advanced|2024-12-16 04:41|cache|19.56|✅|\n",
    "|imp_sample|2024-12-16 04:46|cache|293.74|✅|\n",
    "|intro|2024-12-16 04:46|cache|1.13|✅|\n",
    "|inventory_dynamics|2024-12-16 04:46|cache|9.92|✅|\n",
    "|jv|2024-12-16 04:47|cache|13.76|✅|\n",
    "|kalman|2024-12-16 04:47|cache|6.29|✅|\n",
    "|kalman_2|2024-12-16 04:47|cache|23.73|✅|\n",
    "|kesten_processes|2024-12-16 04:48|cache|33.28|✅|\n",
    "|lagrangian_lqdp|2024-12-16 04:48|cache|22.32|✅|\n",
    "|lake_model|2024-12-16 04:48|cache|11.32|✅|\n",
    "|likelihood_bayes|2024-12-16 04:49|cache|39.77|✅|\n",
    "|likelihood_ratio_process|2024-12-16 04:49|cache|8.04|✅|\n",
    "|linear_algebra|2024-12-16 04:49|cache|2.42|✅|\n",
    "|linear_models|2024-12-16 04:49|cache|5.84|✅|\n",
    "|lln_clt|2024-12-16 04:49|cache|9.41|✅|\n",
    "|lq_inventories|2024-12-16 04:50|cache|11.03|✅|\n",
    "|lqcontrol|2024-12-16 04:50|cache|4.75|✅|\n",
    "|markov_asset|2024-12-16 04:50|cache|5.22|✅|\n",
    "|markov_perf|2024-12-16 04:50|cache|4.34|✅|\n",
    "|mccall_correlated|2024-12-16 04:51|cache|55.15|✅|\n",
    "|mccall_fitted_vfi|2024-12-16 04:51|cache|9.66|✅|\n",
    "|mccall_model|2024-12-16 04:51|cache|12.64|✅|\n",
    "|mccall_model_with_separation|2024-12-16 04:51|cache|6.14|✅|\n",
    "|mccall_q|2024-12-16 04:51|cache|14.61|✅|\n",
    "|mix_model|2024-12-16 04:53|cache|68.86|✅|\n",
    "|mle|2024-12-16 04:53|cache|4.79|✅|\n",
    "|multi_hyper|2024-12-16 04:53|cache|18.17|✅|\n",
    "|multivariate_normal|2024-12-16 04:53|cache|4.38|✅|\n",
    "|navy_captain|2024-12-16 04:53|cache|23.49|✅|\n",
    "|newton_method|2024-12-16 04:55|cache|93.16|✅|\n",
    "|odu|2025-01-10 23:38|cache|49.03|✅|\n",
    "|ols|2024-12-16 04:56|cache|9.39|✅|\n",
    "|opt_transport|2024-12-16 04:56|cache|13.69|✅|\n",
    "|optgrowth|2024-12-16 04:57|cache|52.29|✅|\n",
    "|optgrowth_fast|2024-12-16 04:57|cache|16.72|✅|\n",
    "|pandas_panel|2024-12-16 04:57|cache|4.54|✅|\n",
    "|perm_income|2024-12-16 04:57|cache|3.6|✅|\n",
    "|perm_income_cons|2024-12-16 04:58|cache|5.41|✅|\n",
    "|prob_matrix|2024-12-16 04:58|cache|9.66|✅|\n",
    "|prob_meaning|2024-12-16 04:58|cache|42.78|✅|\n",
    "|qr_decomp|2024-12-16 04:58|cache|1.28|✅|\n",
    "|rand_resp|2024-12-16 04:59|cache|2.57|✅|\n",
    "|rational_expectations|2024-12-16 04:59|cache|3.8|✅|\n",
    "|re_with_feedback|2025-01-10 23:38|cache|9.26|✅|\n",
    "|samuelson|2024-12-16 04:59|cache|9.32|✅|\n",
    "|sir_model|2024-12-16 04:59|cache|2.93|✅|\n",
    "|status|2024-12-16 04:59|cache|7.05|✅|\n",
    "|svd_intro|2024-12-16 04:59|cache|1.4|✅|\n",
    "|troubleshooting|2024-12-16 04:46|cache|1.13|✅|\n",
    "|two_auctions|2024-12-16 04:59|cache|15.41|✅|\n",
    "|uncertainty_traps|2024-12-16 04:59|cache|2.54|✅|\n",
    "|util_rand_resp|2024-12-16 04:59|cache|2.73|✅|\n",
    "|var_dmd|2024-12-16 04:46|cache|1.13|✅|\n",
    "|von_neumann_model|2024-12-16 04:59|cache|2.3|✅|\n",
    "|wald_friedman|2024-12-16 05:00|cache|13.17|✅|\n",
    "|wealth_dynamics|2024-12-16 05:00|cache|40.16|✅|\n",
    "|zreferences|2024-12-16 04:46|cache|1.13|✅|\n",
    "\n",
    "<a id='status-machine-details'></a>\n",
    "These lectures are built on `linux` instances through `github actions`.\n",
    "\n",
    "These lectures are using the following python version"
   ]
  },
  {
   "cell_type": "code",
   "execution_count": null,
   "id": "d513e591",
   "metadata": {
    "hide-output": false
   },
   "outputs": [],
   "source": [
    "!python --version"
   ]
  },
  {
   "cell_type": "markdown",
   "id": "bc340570",
   "metadata": {},
   "source": [
    "and the following package versions"
   ]
  },
  {
   "cell_type": "code",
   "execution_count": null,
   "id": "47cb9fd8",
   "metadata": {
    "hide-output": false
   },
   "outputs": [],
   "source": [
    "!conda list"
   ]
  },
  {
   "cell_type": "markdown",
   "id": "e0b9c5d3",
   "metadata": {},
   "source": [
    "This lecture series also has access to the following GPU"
   ]
  },
  {
   "cell_type": "code",
   "execution_count": null,
   "id": "56b359b0",
   "metadata": {
    "hide-output": false
   },
   "outputs": [],
   "source": [
    "!nvidia-smi"
   ]
  }
 ],
 "metadata": {
  "date": 1736552531.1153266,
  "filename": "status.md",
  "kernelspec": {
   "display_name": "Python",
   "language": "python3",
   "name": "python3"
  },
  "title": "Execution Statistics"
 },
 "nbformat": 4,
 "nbformat_minor": 5
}