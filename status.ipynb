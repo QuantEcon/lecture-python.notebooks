{
 "cells": [
  {
   "cell_type": "markdown",
   "id": "e9f51a35",
   "metadata": {},
   "source": [
    "# Execution Statistics\n",
    "\n",
    "This table contains the latest execution statistics.\n",
    "\n",
    "[](https://python.quantecon.org/aiyagari.html)[](https://python.quantecon.org/ak2.html)[](https://python.quantecon.org/ar1_bayes.html)[](https://python.quantecon.org/ar1_turningpts.html)[](https://python.quantecon.org/back_prop.html)[](https://python.quantecon.org/bayes_nonconj.html)[](https://python.quantecon.org/cake_eating_numerical.html)[](https://python.quantecon.org/cake_eating_problem.html)[](https://python.quantecon.org/career.html)[](https://python.quantecon.org/cass_fiscal.html)[](https://python.quantecon.org/cass_koopmans_1.html)[](https://python.quantecon.org/cass_koopmans_2.html)[](https://python.quantecon.org/coleman_policy_iter.html)[](https://python.quantecon.org/cross_product_trick.html)[](https://python.quantecon.org/egm_policy_iter.html)[](https://python.quantecon.org/eig_circulant.html)[](https://python.quantecon.org/exchangeable.html)[](https://python.quantecon.org/finite_markov.html)[](https://python.quantecon.org/ge_arrow.html)[](https://python.quantecon.org/harrison_kreps.html)[](https://python.quantecon.org/hoist_failure.html)[](https://python.quantecon.org/house_auction.html)[](https://python.quantecon.org/ifp.html)[](https://python.quantecon.org/ifp_advanced.html)[](https://python.quantecon.org/imp_sample.html)[](https://python.quantecon.org/intro.html)[](https://python.quantecon.org/inventory_dynamics.html)[](https://python.quantecon.org/jv.html)[](https://python.quantecon.org/kalman.html)[](https://python.quantecon.org/kalman_2.html)[](https://python.quantecon.org/kesten_processes.html)[](https://python.quantecon.org/lagrangian_lqdp.html)[](https://python.quantecon.org/lake_model.html)[](https://python.quantecon.org/likelihood_bayes.html)[](https://python.quantecon.org/likelihood_ratio_process.html)[](https://python.quantecon.org/linear_algebra.html)[](https://python.quantecon.org/linear_models.html)[](https://python.quantecon.org/lln_clt.html)[](https://python.quantecon.org/lq_inventories.html)[](https://python.quantecon.org/lqcontrol.html)[](https://python.quantecon.org/markov_asset.html)[](https://python.quantecon.org/markov_perf.html)[](https://python.quantecon.org/mccall_correlated.html)[](https://python.quantecon.org/mccall_fitted_vfi.html)[](https://python.quantecon.org/mccall_model.html)[](https://python.quantecon.org/mccall_model_with_separation.html)[](https://python.quantecon.org/mccall_q.html)[](https://python.quantecon.org/mix_model.html)[](https://python.quantecon.org/mle.html)[](https://python.quantecon.org/multi_hyper.html)[](https://python.quantecon.org/multivariate_normal.html)[](https://python.quantecon.org/navy_captain.html)[](https://python.quantecon.org/newton_method.html)[](https://python.quantecon.org/odu.html)[](https://python.quantecon.org/ols.html)[](https://python.quantecon.org/opt_transport.html)[](https://python.quantecon.org/optgrowth.html)[](https://python.quantecon.org/optgrowth_fast.html)[](https://python.quantecon.org/pandas_panel.html)[](https://python.quantecon.org/perm_income.html)[](https://python.quantecon.org/perm_income_cons.html)[](https://python.quantecon.org/prob_matrix.html)[](https://python.quantecon.org/prob_meaning.html)[](https://python.quantecon.org/qr_decomp.html)[](https://python.quantecon.org/rand_resp.html)[](https://python.quantecon.org/rational_expectations.html)[](https://python.quantecon.org/re_with_feedback.html)[](https://python.quantecon.org/samuelson.html)[](https://python.quantecon.org/sir_model.html)[](https://python.quantecon.org/.html)[](https://python.quantecon.org/svd_intro.html)[](https://python.quantecon.org/troubleshooting.html)[](https://python.quantecon.org/two_auctions.html)[](https://python.quantecon.org/uncertainty_traps.html)[](https://python.quantecon.org/util_rand_resp.html)[](https://python.quantecon.org/var_dmd.html)[](https://python.quantecon.org/von_neumann_model.html)[](https://python.quantecon.org/wald_friedman.html)[](https://python.quantecon.org/wealth_dynamics.html)[](https://python.quantecon.org/zreferences.html)|Document|Modified|Method|Run Time (s)|Status|\n",
    "|:------------------:|:------------------:|:------------------:|:------------------:|:------------------:|\n",
    "|aiyagari|2025-05-08 23:29|cache|22.29|✅|\n",
    "|ak2|2025-05-08 23:30|cache|12.76|✅|\n",
    "|ar1_bayes|2025-05-08 23:36|cache|367.78|✅|\n",
    "|ar1_turningpts|2025-05-08 23:36|cache|38.54|✅|\n",
    "|back_prop|2025-05-08 23:38|cache|84.87|✅|\n",
    "|bayes_nonconj|2025-05-09 00:48|cache|4192.83|✅|\n",
    "|cake_eating_numerical|2025-05-09 00:48|cache|23.37|✅|\n",
    "|cake_eating_problem|2025-05-09 00:48|cache|1.96|✅|\n",
    "|career|2025-05-09 00:48|cache|12.19|✅|\n",
    "|cass_fiscal|2025-05-09 00:49|cache|14.38|✅|\n",
    "|cass_koopmans_1|2025-05-09 00:49|cache|12.44|✅|\n",
    "|cass_koopmans_2|2025-05-09 00:49|cache|7.34|✅|\n",
    "|coleman_policy_iter|2025-05-09 00:49|cache|12.08|✅|\n",
    "|cross_product_trick|2025-05-09 00:49|cache|1.17|✅|\n",
    "|egm_policy_iter|2025-05-09 00:49|cache|5.99|✅|\n",
    "|eig_circulant|2025-05-09 00:49|cache|4.4|✅|\n",
    "|exchangeable|2025-05-09 00:49|cache|8.74|✅|\n",
    "|finite_markov|2025-05-09 00:50|cache|6.45|✅|\n",
    "|ge_arrow|2025-05-09 00:50|cache|2.27|✅|\n",
    "|harrison_kreps|2025-05-09 00:50|cache|4.1|✅|\n",
    "|hoist_failure|2025-05-09 00:51|cache|53.47|✅|\n",
    "|house_auction|2025-05-09 00:51|cache|3.33|✅|\n",
    "|ifp|2025-05-09 00:51|cache|37.33|✅|\n",
    "|ifp_advanced|2025-05-09 00:52|cache|22.83|✅|\n",
    "|imp_sample|2025-05-09 00:56|cache|251.92|✅|\n",
    "|intro|2025-05-09 00:56|cache|1.05|✅|\n",
    "|inventory_dynamics|2025-05-09 00:56|cache|10.3|✅|\n",
    "|jv|2025-05-09 00:56|cache|16.31|✅|\n",
    "|kalman|2025-05-09 00:56|cache|7.02|✅|\n",
    "|kalman_2|2025-05-09 00:57|cache|41.92|✅|\n",
    "|kesten_processes|2025-05-09 00:58|cache|32.73|✅|\n",
    "|lagrangian_lqdp|2025-05-09 00:58|cache|26.16|✅|\n",
    "|lake_model|2025-05-09 00:58|cache|13.41|✅|\n",
    "|likelihood_bayes|2025-05-09 00:59|cache|43.0|✅|\n",
    "|likelihood_ratio_process|2025-05-09 00:59|cache|8.86|✅|\n",
    "|linear_algebra|2025-05-09 00:59|cache|2.69|✅|\n",
    "|linear_models|2025-05-09 00:59|cache|6.56|✅|\n",
    "|lln_clt|2025-05-09 01:00|cache|11.16|✅|\n",
    "|lq_inventories|2025-05-09 01:00|cache|13.14|✅|\n",
    "|lqcontrol|2025-05-09 01:00|cache|5.25|✅|\n",
    "|markov_asset|2025-05-09 01:00|cache|5.44|✅|\n",
    "|markov_perf|2025-05-09 01:00|cache|4.77|✅|\n",
    "|mccall_correlated|2025-05-09 01:01|cache|78.38|✅|\n",
    "|mccall_fitted_vfi|2025-05-09 01:02|cache|11.22|✅|\n",
    "|mccall_model|2025-05-09 01:02|cache|13.51|✅|\n",
    "|mccall_model_with_separation|2025-05-09 01:02|cache|6.78|✅|\n",
    "|mccall_q|2025-05-09 01:02|cache|16.69|✅|\n",
    "|mix_model|2025-05-09 01:03|cache|64.91|✅|\n",
    "|mle|2025-05-09 01:03|cache|5.01|✅|\n",
    "|multi_hyper|2025-05-09 01:04|cache|19.96|✅|\n",
    "|multivariate_normal|2025-05-09 01:04|cache|4.66|✅|\n",
    "|navy_captain|2025-05-09 01:04|cache|29.21|✅|\n",
    "|newton_method|2025-05-09 01:05|cache|70.79|✅|\n",
    "|odu|2025-05-09 01:06|cache|53.26|✅|\n",
    "|ols|2025-05-09 01:07|cache|9.69|✅|\n",
    "|opt_transport|2025-05-09 01:07|cache|15.18|✅|\n",
    "|optgrowth|2025-05-09 01:08|cache|64.27|✅|\n",
    "|optgrowth_fast|2025-05-09 01:08|cache|20.5|✅|\n",
    "|pandas_panel|2025-05-09 01:08|cache|4.93|✅|\n",
    "|perm_income|2025-05-09 01:08|cache|4.01|✅|\n",
    "|perm_income_cons|2025-05-09 01:08|cache|6.07|✅|\n",
    "|prob_matrix|2025-05-09 01:09|cache|11.23|✅|\n",
    "|prob_meaning|2025-05-09 01:10|cache|57.85|✅|\n",
    "|qr_decomp|2025-05-09 01:10|cache|1.41|✅|\n",
    "|rand_resp|2025-05-09 01:10|cache|2.8|✅|\n",
    "|rational_expectations|2025-05-09 01:10|cache|3.76|✅|\n",
    "|re_with_feedback|2025-05-09 01:10|cache|9.18|✅|\n",
    "|samuelson|2025-05-09 01:10|cache|11.17|✅|\n",
    "|sir_model|2025-05-09 01:10|cache|3.2|✅|\n",
    "|status|2025-05-09 01:10|cache|7.32|✅|\n",
    "|svd_intro|2025-05-09 01:10|cache|1.53|✅|\n",
    "|troubleshooting|2025-05-09 00:56|cache|1.05|✅|\n",
    "|two_auctions|2025-05-09 01:11|cache|25.36|✅|\n",
    "|uncertainty_traps|2025-05-09 01:11|cache|2.55|✅|\n",
    "|util_rand_resp|2025-05-09 01:11|cache|3.11|✅|\n",
    "|var_dmd|2025-05-09 00:56|cache|1.05|✅|\n",
    "|von_neumann_model|2025-05-09 01:11|cache|2.61|✅|\n",
    "|wald_friedman|2025-05-09 01:11|cache|15.38|✅|\n",
    "|wealth_dynamics|2025-05-09 01:12|cache|30.42|✅|\n",
    "|zreferences|2025-05-09 00:56|cache|1.05|✅|\n",
    "\n",
    "<a id='status-machine-details'></a>\n",
    "These lectures are built on `linux` instances through `github actions`.\n",
    "\n",
    "These lectures are using the following python version"
   ]
  },
  {
   "cell_type": "code",
   "execution_count": null,
   "id": "25a4957a",
   "metadata": {
    "hide-output": false
   },
   "outputs": [],
   "source": [
    "!python --version"
   ]
  },
  {
   "cell_type": "markdown",
   "id": "f8b1a6a5",
   "metadata": {},
   "source": [
    "and the following package versions"
   ]
  },
  {
   "cell_type": "code",
   "execution_count": null,
   "id": "9031c626",
   "metadata": {
    "hide-output": false
   },
   "outputs": [],
   "source": [
    "!conda list"
   ]
  },
  {
   "cell_type": "markdown",
   "id": "a7cf1a2f",
   "metadata": {},
   "source": [
    "This lecture series also has access to the following GPU"
   ]
  },
  {
   "cell_type": "code",
   "execution_count": null,
   "id": "56b9a9a2",
   "metadata": {
    "hide-output": false
   },
   "outputs": [],
   "source": [
    "!nvidia-smi"
   ]
  }
 ],
 "metadata": {
  "date": 1747004342.9017756,
  "filename": "status.md",
  "kernelspec": {
   "display_name": "Python",
   "language": "python3",
   "name": "python3"
  },
  "title": "Execution Statistics"
 },
 "nbformat": 4,
 "nbformat_minor": 5
}