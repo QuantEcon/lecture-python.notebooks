{
 "cells": [
  {
   "cell_type": "markdown",
   "id": "4aca8254",
   "metadata": {},
   "source": [
    "# Execution Statistics\n",
    "\n",
    "This table contains the latest execution statistics.\n",
    "\n",
    "[](https://python.quantecon.org/aiyagari.html)[](https://python.quantecon.org/ak2.html)[](https://python.quantecon.org/ar1_bayes.html)[](https://python.quantecon.org/ar1_turningpts.html)[](https://python.quantecon.org/back_prop.html)[](https://python.quantecon.org/bayes_nonconj.html)[](https://python.quantecon.org/cake_eating_numerical.html)[](https://python.quantecon.org/cake_eating_problem.html)[](https://python.quantecon.org/career.html)[](https://python.quantecon.org/cass_koopmans_1.html)[](https://python.quantecon.org/cass_koopmans_2.html)[](https://python.quantecon.org/coleman_policy_iter.html)[](https://python.quantecon.org/cross_product_trick.html)[](https://python.quantecon.org/egm_policy_iter.html)[](https://python.quantecon.org/eig_circulant.html)[](https://python.quantecon.org/exchangeable.html)[](https://python.quantecon.org/finite_markov.html)[](https://python.quantecon.org/ge_arrow.html)[](https://python.quantecon.org/harrison_kreps.html)[](https://python.quantecon.org/hoist_failure.html)[](https://python.quantecon.org/house_auction.html)[](https://python.quantecon.org/ifp.html)[](https://python.quantecon.org/ifp_advanced.html)[](https://python.quantecon.org/imp_sample.html)[](https://python.quantecon.org/intro.html)[](https://python.quantecon.org/inventory_dynamics.html)[](https://python.quantecon.org/jv.html)[](https://python.quantecon.org/kalman.html)[](https://python.quantecon.org/kalman_2.html)[](https://python.quantecon.org/kesten_processes.html)[](https://python.quantecon.org/lagrangian_lqdp.html)[](https://python.quantecon.org/lake_model.html)[](https://python.quantecon.org/likelihood_bayes.html)[](https://python.quantecon.org/likelihood_ratio_process.html)[](https://python.quantecon.org/linear_algebra.html)[](https://python.quantecon.org/linear_models.html)[](https://python.quantecon.org/lln_clt.html)[](https://python.quantecon.org/lq_inventories.html)[](https://python.quantecon.org/lqcontrol.html)[](https://python.quantecon.org/markov_asset.html)[](https://python.quantecon.org/markov_perf.html)[](https://python.quantecon.org/mccall_correlated.html)[](https://python.quantecon.org/mccall_fitted_vfi.html)[](https://python.quantecon.org/mccall_model.html)[](https://python.quantecon.org/mccall_model_with_separation.html)[](https://python.quantecon.org/mccall_q.html)[](https://python.quantecon.org/mix_model.html)[](https://python.quantecon.org/mle.html)[](https://python.quantecon.org/multi_hyper.html)[](https://python.quantecon.org/multivariate_normal.html)[](https://python.quantecon.org/navy_captain.html)[](https://python.quantecon.org/newton_method.html)[](https://python.quantecon.org/odu.html)[](https://python.quantecon.org/ols.html)[](https://python.quantecon.org/opt_transport.html)[](https://python.quantecon.org/optgrowth.html)[](https://python.quantecon.org/optgrowth_fast.html)[](https://python.quantecon.org/pandas_panel.html)[](https://python.quantecon.org/perm_income.html)[](https://python.quantecon.org/perm_income_cons.html)[](https://python.quantecon.org/prob_matrix.html)[](https://python.quantecon.org/prob_meaning.html)[](https://python.quantecon.org/qr_decomp.html)[](https://python.quantecon.org/rand_resp.html)[](https://python.quantecon.org/rational_expectations.html)[](https://python.quantecon.org/re_with_feedback.html)[](https://python.quantecon.org/samuelson.html)[](https://python.quantecon.org/sir_model.html)[](https://python.quantecon.org/.html)[](https://python.quantecon.org/svd_intro.html)[](https://python.quantecon.org/troubleshooting.html)[](https://python.quantecon.org/two_auctions.html)[](https://python.quantecon.org/uncertainty_traps.html)[](https://python.quantecon.org/util_rand_resp.html)[](https://python.quantecon.org/var_dmd.html)[](https://python.quantecon.org/von_neumann_model.html)[](https://python.quantecon.org/wald_friedman.html)[](https://python.quantecon.org/wealth_dynamics.html)[](https://python.quantecon.org/zreferences.html)|Document|Modified|Method|Run Time (s)|Status|\n",
    "|:------------------:|:------------------:|:------------------:|:------------------:|:------------------:|\n",
    "|aiyagari|2024-11-12 21:31|cache|16.0|✅|\n",
    "|ak2|2024-11-12 21:31|cache|10.16|✅|\n",
    "|ar1_bayes|2024-11-12 21:36|cache|336.96|✅|\n",
    "|ar1_turningpts|2024-11-12 21:37|cache|21.47|✅|\n",
    "|back_prop|2024-11-12 21:38|cache|73.22|✅|\n",
    "|bayes_nonconj|2024-11-12 22:35|cache|3441.62|✅|\n",
    "|cake_eating_numerical|2024-11-12 22:36|cache|24.49|✅|\n",
    "|cake_eating_problem|2024-11-12 22:36|cache|1.81|✅|\n",
    "|career|2024-11-12 22:36|cache|10.19|✅|\n",
    "|cass_koopmans_1|2024-11-12 22:36|cache|9.8|✅|\n",
    "|cass_koopmans_2|2024-11-12 22:36|cache|5.98|✅|\n",
    "|coleman_policy_iter|2024-11-12 22:36|cache|9.5|✅|\n",
    "|cross_product_trick|2024-11-12 22:36|cache|1.08|✅|\n",
    "|egm_policy_iter|2024-11-12 22:37|cache|4.79|✅|\n",
    "|eig_circulant|2024-11-12 22:37|cache|3.56|✅|\n",
    "|exchangeable|2024-11-12 22:37|cache|7.31|✅|\n",
    "|finite_markov|2024-11-12 22:37|cache|5.82|✅|\n",
    "|ge_arrow|2024-11-12 22:37|cache|1.87|✅|\n",
    "|harrison_kreps|2024-11-12 22:37|cache|3.24|✅|\n",
    "|hoist_failure|2024-11-12 22:37|cache|34.48|✅|\n",
    "|house_auction|2024-11-12 22:38|cache|2.61|✅|\n",
    "|ifp|2024-11-12 22:38|cache|37.51|✅|\n",
    "|ifp_advanced|2024-11-12 22:38|cache|18.95|✅|\n",
    "|imp_sample|2024-11-12 22:43|cache|259.83|✅|\n",
    "|intro|2024-11-12 22:43|cache|1.16|✅|\n",
    "|inventory_dynamics|2024-11-12 22:43|cache|9.94|✅|\n",
    "|jv|2024-11-12 22:43|cache|13.62|✅|\n",
    "|kalman|2024-11-12 22:43|cache|5.75|✅|\n",
    "|kalman_2|2024-11-12 22:44|cache|22.67|✅|\n",
    "|kesten_processes|2024-11-12 22:44|cache|31.08|✅|\n",
    "|lagrangian_lqdp|2024-11-12 22:45|cache|22.17|✅|\n",
    "|lake_model|2024-11-12 22:45|cache|11.03|✅|\n",
    "|likelihood_bayes|2024-11-12 22:45|cache|39.55|✅|\n",
    "|likelihood_ratio_process|2024-11-12 22:46|cache|7.67|✅|\n",
    "|linear_algebra|2024-11-12 22:46|cache|2.34|✅|\n",
    "|linear_models|2024-11-12 22:46|cache|5.51|✅|\n",
    "|lln_clt|2024-11-12 22:46|cache|9.28|✅|\n",
    "|lq_inventories|2024-11-12 22:46|cache|10.53|✅|\n",
    "|lqcontrol|2024-11-12 22:46|cache|4.25|✅|\n",
    "|markov_asset|2024-11-12 22:46|cache|4.68|✅|\n",
    "|markov_perf|2024-11-12 22:46|cache|4.02|✅|\n",
    "|mccall_correlated|2024-11-12 22:47|cache|54.03|✅|\n",
    "|mccall_fitted_vfi|2024-11-12 22:47|cache|9.1|✅|\n",
    "|mccall_model|2024-11-12 22:48|cache|12.35|✅|\n",
    "|mccall_model_with_separation|2024-11-12 22:48|cache|5.81|✅|\n",
    "|mccall_q|2024-11-12 22:48|cache|13.71|✅|\n",
    "|mix_model|2024-11-12 22:49|cache|62.19|✅|\n",
    "|mle|2024-11-12 22:49|cache|4.71|✅|\n",
    "|multi_hyper|2024-11-12 22:49|cache|17.66|✅|\n",
    "|multivariate_normal|2024-11-12 22:49|cache|4.01|✅|\n",
    "|navy_captain|2024-11-12 22:50|cache|22.29|✅|\n",
    "|newton_method|2024-11-12 22:51|cache|93.06|✅|\n",
    "|odu|2024-11-12 22:52|cache|46.51|✅|\n",
    "|ols|2024-11-12 22:52|cache|8.51|✅|\n",
    "|opt_transport|2024-11-12 22:52|cache|12.74|✅|\n",
    "|optgrowth|2024-11-12 22:53|cache|51.66|✅|\n",
    "|optgrowth_fast|2024-11-12 22:54|cache|16.13|✅|\n",
    "|pandas_panel|2024-11-12 22:54|cache|4.38|✅|\n",
    "|perm_income|2024-11-12 22:54|cache|3.36|✅|\n",
    "|perm_income_cons|2024-11-12 22:54|cache|5.03|✅|\n",
    "|prob_matrix|2024-11-12 22:54|cache|9.32|✅|\n",
    "|prob_meaning|2024-11-12 22:55|cache|41.58|✅|\n",
    "|qr_decomp|2024-11-12 22:55|cache|1.25|✅|\n",
    "|rand_resp|2024-11-12 22:55|cache|2.56|✅|\n",
    "|rational_expectations|2024-11-12 22:55|cache|3.28|✅|\n",
    "|re_with_feedback|2024-11-12 22:55|cache|6.72|✅|\n",
    "|samuelson|2024-11-12 22:55|cache|8.6|✅|\n",
    "|sir_model|2024-11-12 22:55|cache|2.6|✅|\n",
    "|status|2024-11-12 22:55|cache|6.11|✅|\n",
    "|svd_intro|2024-11-12 22:55|cache|1.52|✅|\n",
    "|troubleshooting|2024-11-12 22:43|cache|1.16|✅|\n",
    "|two_auctions|2024-11-12 22:55|cache|14.3|✅|\n",
    "|uncertainty_traps|2024-11-12 22:55|cache|2.42|✅|\n",
    "|util_rand_resp|2024-11-12 22:56|cache|2.68|✅|\n",
    "|var_dmd|2024-11-12 22:43|cache|1.16|✅|\n",
    "|von_neumann_model|2024-11-12 22:56|cache|2.0|✅|\n",
    "|wald_friedman|2024-11-12 22:56|cache|12.67|✅|\n",
    "|wealth_dynamics|2024-11-12 22:56|cache|39.41|✅|\n",
    "|zreferences|2024-11-12 22:43|cache|1.16|✅|\n",
    "\n",
    "<a id='status-machine-details'></a>\n",
    "These lectures are built on `linux` instances through `github actions`.\n",
    "\n",
    "These lectures are using the following python version"
   ]
  },
  {
   "cell_type": "code",
   "execution_count": null,
   "id": "a0c5063b",
   "metadata": {
    "hide-output": false
   },
   "outputs": [],
   "source": [
    "!python --version"
   ]
  },
  {
   "cell_type": "markdown",
   "id": "ca399e4a",
   "metadata": {},
   "source": [
    "and the following package versions"
   ]
  },
  {
   "cell_type": "code",
   "execution_count": null,
   "id": "7c5e55b2",
   "metadata": {
    "hide-output": false
   },
   "outputs": [],
   "source": [
    "!conda list"
   ]
  }
 ],
 "metadata": {
  "date": 1731454849.750363,
  "filename": "status.md",
  "kernelspec": {
   "display_name": "Python",
   "language": "python3",
   "name": "python3"
  },
  "title": "Execution Statistics"
 },
 "nbformat": 4,
 "nbformat_minor": 5
}