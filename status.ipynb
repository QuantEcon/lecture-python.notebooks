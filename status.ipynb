{
 "cells": [
  {
   "cell_type": "markdown",
   "id": "e15702a3",
   "metadata": {},
   "source": [
    "# Execution Statistics\n",
    "\n",
    "This table contains the latest execution statistics.\n",
    "\n",
    "[](https://python.quantecon.org/aiyagari.html)[](https://python.quantecon.org/ak2.html)[](https://python.quantecon.org/ar1_bayes.html)[](https://python.quantecon.org/ar1_turningpts.html)[](https://python.quantecon.org/back_prop.html)[](https://python.quantecon.org/bayes_nonconj.html)[](https://python.quantecon.org/cake_eating_numerical.html)[](https://python.quantecon.org/cake_eating_problem.html)[](https://python.quantecon.org/career.html)[](https://python.quantecon.org/cass_koopmans_1.html)[](https://python.quantecon.org/cass_koopmans_2.html)[](https://python.quantecon.org/coleman_policy_iter.html)[](https://python.quantecon.org/cross_product_trick.html)[](https://python.quantecon.org/egm_policy_iter.html)[](https://python.quantecon.org/eig_circulant.html)[](https://python.quantecon.org/exchangeable.html)[](https://python.quantecon.org/finite_markov.html)[](https://python.quantecon.org/ge_arrow.html)[](https://python.quantecon.org/harrison_kreps.html)[](https://python.quantecon.org/hoist_failure.html)[](https://python.quantecon.org/house_auction.html)[](https://python.quantecon.org/ifp.html)[](https://python.quantecon.org/ifp_advanced.html)[](https://python.quantecon.org/imp_sample.html)[](https://python.quantecon.org/intro.html)[](https://python.quantecon.org/inventory_dynamics.html)[](https://python.quantecon.org/jv.html)[](https://python.quantecon.org/kalman.html)[](https://python.quantecon.org/kalman_2.html)[](https://python.quantecon.org/kesten_processes.html)[](https://python.quantecon.org/lagrangian_lqdp.html)[](https://python.quantecon.org/lake_model.html)[](https://python.quantecon.org/likelihood_bayes.html)[](https://python.quantecon.org/likelihood_ratio_process.html)[](https://python.quantecon.org/linear_algebra.html)[](https://python.quantecon.org/linear_models.html)[](https://python.quantecon.org/lln_clt.html)[](https://python.quantecon.org/lq_inventories.html)[](https://python.quantecon.org/lqcontrol.html)[](https://python.quantecon.org/markov_asset.html)[](https://python.quantecon.org/markov_perf.html)[](https://python.quantecon.org/mccall_correlated.html)[](https://python.quantecon.org/mccall_fitted_vfi.html)[](https://python.quantecon.org/mccall_model.html)[](https://python.quantecon.org/mccall_model_with_separation.html)[](https://python.quantecon.org/mccall_q.html)[](https://python.quantecon.org/mix_model.html)[](https://python.quantecon.org/mle.html)[](https://python.quantecon.org/multi_hyper.html)[](https://python.quantecon.org/multivariate_normal.html)[](https://python.quantecon.org/navy_captain.html)[](https://python.quantecon.org/newton_method.html)[](https://python.quantecon.org/odu.html)[](https://python.quantecon.org/ols.html)[](https://python.quantecon.org/opt_transport.html)[](https://python.quantecon.org/optgrowth.html)[](https://python.quantecon.org/optgrowth_fast.html)[](https://python.quantecon.org/pandas_panel.html)[](https://python.quantecon.org/perm_income.html)[](https://python.quantecon.org/perm_income_cons.html)[](https://python.quantecon.org/prob_matrix.html)[](https://python.quantecon.org/prob_meaning.html)[](https://python.quantecon.org/qr_decomp.html)[](https://python.quantecon.org/rand_resp.html)[](https://python.quantecon.org/rational_expectations.html)[](https://python.quantecon.org/re_with_feedback.html)[](https://python.quantecon.org/samuelson.html)[](https://python.quantecon.org/sir_model.html)[](https://python.quantecon.org/.html)[](https://python.quantecon.org/svd_intro.html)[](https://python.quantecon.org/troubleshooting.html)[](https://python.quantecon.org/two_auctions.html)[](https://python.quantecon.org/uncertainty_traps.html)[](https://python.quantecon.org/util_rand_resp.html)[](https://python.quantecon.org/var_dmd.html)[](https://python.quantecon.org/von_neumann_model.html)[](https://python.quantecon.org/wald_friedman.html)[](https://python.quantecon.org/wealth_dynamics.html)[](https://python.quantecon.org/zreferences.html)|Document|Modified|Method|Run Time (s)|Status|\n",
    "|:------------------:|:------------------:|:------------------:|:------------------:|:------------------:|\n",
    "|aiyagari|2024-08-16 01:52|cache|24.88|✅|\n",
    "|ak2|2024-08-16 01:52|cache|19.37|✅|\n",
    "|ar1_bayes|2024-08-16 02:02|cache|583.9|✅|\n",
    "|ar1_turningpts|2024-08-16 02:03|cache|66.0|✅|\n",
    "|back_prop|2024-08-16 02:04|cache|67.19|✅|\n",
    "|bayes_nonconj|2024-08-16 03:12|cache|4065.12|✅|\n",
    "|cake_eating_numerical|2024-08-16 03:12|cache|27.77|✅|\n",
    "|cake_eating_problem|2024-08-16 03:12|cache|2.03|✅|\n",
    "|career|2024-08-16 03:12|cache|17.06|✅|\n",
    "|cass_koopmans_1|2024-08-16 03:13|cache|9.81|✅|\n",
    "|cass_koopmans_2|2024-08-16 03:13|cache|8.44|✅|\n",
    "|coleman_policy_iter|2024-08-16 03:13|cache|17.22|✅|\n",
    "|cross_product_trick|2024-08-16 03:13|cache|1.26|✅|\n",
    "|egm_policy_iter|2024-08-16 03:13|cache|6.34|✅|\n",
    "|eig_circulant|2024-08-16 03:13|cache|4.87|✅|\n",
    "|exchangeable|2024-08-16 03:13|cache|10.51|✅|\n",
    "|finite_markov|2024-08-16 03:14|cache|10.52|✅|\n",
    "|ge_arrow|2024-08-16 03:14|cache|2.39|✅|\n",
    "|harrison_kreps|2024-08-16 03:14|cache|7.67|✅|\n",
    "|hoist_failure|2024-08-16 03:15|cache|74.44|✅|\n",
    "|house_auction|2024-08-16 03:15|cache|6.93|✅|\n",
    "|ifp|2024-08-16 03:16|cache|50.8|✅|\n",
    "|ifp_advanced|2024-08-16 03:16|cache|29.94|✅|\n",
    "|imp_sample|2024-08-16 03:21|cache|277.66|✅|\n",
    "|intro|2024-08-16 03:21|cache|1.2|✅|\n",
    "|inventory_dynamics|2024-08-16 03:21|cache|11.97|✅|\n",
    "|jv|2024-08-16 03:22|cache|19.21|✅|\n",
    "|kalman|2024-08-16 03:22|cache|11.18|✅|\n",
    "|kalman_2|2024-08-16 03:22|cache|37.05|✅|\n",
    "|kesten_processes|2024-08-16 03:23|cache|41.94|✅|\n",
    "|lagrangian_lqdp|2024-08-16 03:24|cache|20.7|✅|\n",
    "|lake_model|2024-08-16 03:24|cache|19.23|✅|\n",
    "|likelihood_bayes|2024-08-16 03:25|cache|48.54|✅|\n",
    "|likelihood_ratio_process|2024-08-16 03:25|cache|10.48|✅|\n",
    "|linear_algebra|2024-08-16 03:25|cache|2.88|✅|\n",
    "|linear_models|2024-08-16 03:25|cache|10.63|✅|\n",
    "|lln_clt|2024-08-16 03:25|cache|14.03|✅|\n",
    "|lq_inventories|2024-08-16 03:26|cache|19.97|✅|\n",
    "|lqcontrol|2024-08-16 03:26|cache|9.12|✅|\n",
    "|markov_asset|2024-08-16 03:26|cache|9.75|✅|\n",
    "|markov_perf|2024-08-16 03:26|cache|8.49|✅|\n",
    "|mccall_correlated|2024-08-16 03:28|cache|88.37|✅|\n",
    "|mccall_fitted_vfi|2024-08-16 03:28|cache|12.26|✅|\n",
    "|mccall_model|2024-08-16 03:28|cache|19.18|✅|\n",
    "|mccall_model_with_separation|2024-08-16 03:28|cache|11.38|✅|\n",
    "|mccall_q|2024-08-16 03:29|cache|24.52|✅|\n",
    "|mix_model|2024-08-16 03:29|cache|33.84|✅|\n",
    "|mle|2024-08-16 03:29|cache|5.66|✅|\n",
    "|multi_hyper|2024-08-16 03:30|cache|25.11|✅|\n",
    "|multivariate_normal|2024-08-16 03:30|cache|5.55|✅|\n",
    "|navy_captain|2024-08-16 03:30|cache|34.28|✅|\n",
    "|newton_method|2024-08-16 03:32|cache|86.76|✅|\n",
    "|odu|2024-08-16 03:33|cache|69.09|✅|\n",
    "|ols|2024-08-16 03:33|cache|15.38|✅|\n",
    "|opt_transport|2024-08-16 03:34|cache|28.29|✅|\n",
    "|optgrowth|2024-08-16 03:35|cache|80.25|✅|\n",
    "|optgrowth_fast|2024-08-16 03:36|cache|28.35|✅|\n",
    "|pandas_panel|2024-08-16 03:36|cache|5.44|✅|\n",
    "|perm_income|2024-08-16 03:36|cache|4.64|✅|\n",
    "|perm_income_cons|2024-08-16 03:36|cache|10.72|✅|\n",
    "|prob_matrix|2024-08-16 03:36|cache|16.11|✅|\n",
    "|prob_meaning|2024-08-16 03:38|cache|73.96|✅|\n",
    "|qr_decomp|2024-08-16 03:38|cache|1.67|✅|\n",
    "|rand_resp|2024-08-16 03:38|cache|3.2|✅|\n",
    "|rational_expectations|2024-08-16 03:38|cache|7.69|✅|\n",
    "|re_with_feedback|2024-08-16 03:38|cache|12.63|✅|\n",
    "|samuelson|2024-08-16 03:38|cache|16.67|✅|\n",
    "|sir_model|2024-08-16 03:38|cache|3.77|✅|\n",
    "|status|2024-08-16 03:38|cache|9.4|✅|\n",
    "|svd_intro|2024-08-16 03:38|cache|1.78|✅|\n",
    "|troubleshooting|2024-08-16 03:21|cache|1.2|✅|\n",
    "|two_auctions|2024-08-16 03:39|cache|20.14|✅|\n",
    "|uncertainty_traps|2024-08-16 03:39|cache|3.06|✅|\n",
    "|util_rand_resp|2024-08-16 03:39|cache|3.24|✅|\n",
    "|var_dmd|2024-08-16 03:21|cache|1.2|✅|\n",
    "|von_neumann_model|2024-08-16 03:39|cache|2.68|✅|\n",
    "|wald_friedman|2024-08-16 03:39|cache|18.92|✅|\n",
    "|wealth_dynamics|2024-08-16 03:40|cache|43.23|✅|\n",
    "|zreferences|2024-08-16 03:21|cache|1.2|✅|\n",
    "\n",
    "<a id='status-machine-details'></a>\n",
    "These lectures are built on `linux` instances through `github actions`.\n",
    "\n",
    "These lectures are using the following python version"
   ]
  },
  {
   "cell_type": "code",
   "execution_count": null,
   "id": "fc6e6b05",
   "metadata": {
    "hide-output": false
   },
   "outputs": [],
   "source": [
    "!python --version"
   ]
  },
  {
   "cell_type": "markdown",
   "id": "4f0f2230",
   "metadata": {},
   "source": [
    "and the following package versions"
   ]
  },
  {
   "cell_type": "code",
   "execution_count": null,
   "id": "157eb9f6",
   "metadata": {
    "hide-output": false
   },
   "outputs": [],
   "source": [
    "!conda list"
   ]
  }
 ],
 "metadata": {
  "date": 1723784956.9147575,
  "filename": "status.md",
  "kernelspec": {
   "display_name": "Python",
   "language": "python3",
   "name": "python3"
  },
  "title": "Execution Statistics"
 },
 "nbformat": 4,
 "nbformat_minor": 5
}