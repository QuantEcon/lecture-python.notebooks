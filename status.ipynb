{
 "cells": [
  {
   "cell_type": "markdown",
   "id": "6376c0f6",
   "metadata": {},
   "source": [
    "# Execution Statistics\n",
    "\n",
    "This table contains the latest execution statistics.\n",
    "\n",
    "[](https://python.quantecon.org/aiyagari.html)[](https://python.quantecon.org/ak2.html)[](https://python.quantecon.org/ak_aiyagari.html)[](https://python.quantecon.org/ar1_bayes.html)[](https://python.quantecon.org/ar1_turningpts.html)[](https://python.quantecon.org/back_prop.html)[](https://python.quantecon.org/bayes_nonconj.html)[](https://python.quantecon.org/cake_eating_numerical.html)[](https://python.quantecon.org/cake_eating_problem.html)[](https://python.quantecon.org/career.html)[](https://python.quantecon.org/cass_fiscal.html)[](https://python.quantecon.org/cass_fiscal_2.html)[](https://python.quantecon.org/cass_koopmans_1.html)[](https://python.quantecon.org/cass_koopmans_2.html)[](https://python.quantecon.org/coleman_policy_iter.html)[](https://python.quantecon.org/cross_product_trick.html)[](https://python.quantecon.org/divergence_measures.html)[](https://python.quantecon.org/egm_policy_iter.html)[](https://python.quantecon.org/eig_circulant.html)[](https://python.quantecon.org/exchangeable.html)[](https://python.quantecon.org/finite_markov.html)[](https://python.quantecon.org/ge_arrow.html)[](https://python.quantecon.org/harrison_kreps.html)[](https://python.quantecon.org/hoist_failure.html)[](https://python.quantecon.org/house_auction.html)[](https://python.quantecon.org/ifp.html)[](https://python.quantecon.org/ifp_advanced.html)[](https://python.quantecon.org/imp_sample.html)[](https://python.quantecon.org/intro.html)[](https://python.quantecon.org/inventory_dynamics.html)[](https://python.quantecon.org/jv.html)[](https://python.quantecon.org/kalman.html)[](https://python.quantecon.org/kalman_2.html)[](https://python.quantecon.org/kesten_processes.html)[](https://python.quantecon.org/lagrangian_lqdp.html)[](https://python.quantecon.org/lake_model.html)[](https://python.quantecon.org/likelihood_bayes.html)[](https://python.quantecon.org/likelihood_ratio_process.html)[](https://python.quantecon.org/likelihood_ratio_process_2.html)[](https://python.quantecon.org/likelihood_var.html)[](https://python.quantecon.org/linear_algebra.html)[](https://python.quantecon.org/linear_models.html)[](https://python.quantecon.org/lln_clt.html)[](https://python.quantecon.org/lq_inventories.html)[](https://python.quantecon.org/lqcontrol.html)[](https://python.quantecon.org/markov_asset.html)[](https://python.quantecon.org/markov_perf.html)[](https://python.quantecon.org/mccall_correlated.html)[](https://python.quantecon.org/mccall_fitted_vfi.html)[](https://python.quantecon.org/mccall_model.html)[](https://python.quantecon.org/mccall_model_with_separation.html)[](https://python.quantecon.org/mccall_q.html)[](https://python.quantecon.org/mix_model.html)[](https://python.quantecon.org/mle.html)[](https://python.quantecon.org/morris_learn.html)[](https://python.quantecon.org/multi_hyper.html)[](https://python.quantecon.org/multivariate_normal.html)[](https://python.quantecon.org/navy_captain.html)[](https://python.quantecon.org/newton_method.html)[](https://python.quantecon.org/odu.html)[](https://python.quantecon.org/ols.html)[](https://python.quantecon.org/opt_transport.html)[](https://python.quantecon.org/optgrowth.html)[](https://python.quantecon.org/optgrowth_fast.html)[](https://python.quantecon.org/pandas_panel.html)[](https://python.quantecon.org/perm_income.html)[](https://python.quantecon.org/perm_income_cons.html)[](https://python.quantecon.org/prob_matrix.html)[](https://python.quantecon.org/prob_meaning.html)[](https://python.quantecon.org/qr_decomp.html)[](https://python.quantecon.org/rand_resp.html)[](https://python.quantecon.org/rational_expectations.html)[](https://python.quantecon.org/re_with_feedback.html)[](https://python.quantecon.org/samuelson.html)[](https://python.quantecon.org/sir_model.html)[](https://python.quantecon.org/stats_examples.html)[](https://python.quantecon.org/.html)[](https://python.quantecon.org/svd_intro.html)[](https://python.quantecon.org/troubleshooting.html)[](https://python.quantecon.org/two_auctions.html)[](https://python.quantecon.org/uncertainty_traps.html)[](https://python.quantecon.org/util_rand_resp.html)[](https://python.quantecon.org/var_dmd.html)[](https://python.quantecon.org/von_neumann_model.html)[](https://python.quantecon.org/wald_friedman.html)[](https://python.quantecon.org/wald_friedman_2.html)[](https://python.quantecon.org/wealth_dynamics.html)[](https://python.quantecon.org/zreferences.html)|Document|Modified|Method|Run Time (s)|Status|\n",
    "|:------------------:|:------------------:|:------------------:|:------------------:|:------------------:|\n",
    "|aiyagari|2025-10-27 03:39|cache|72.39|✅|\n",
    "|ak2|2025-10-27 03:39|cache|12.6|✅|\n",
    "|ak_aiyagari|2025-10-27 03:39|cache|41.6|✅|\n",
    "|ar1_bayes|2025-10-27 03:45|cache|343.37|✅|\n",
    "|ar1_turningpts|2025-10-27 03:46|cache|37.95|✅|\n",
    "|back_prop|2025-10-27 03:48|cache|101.2|✅|\n",
    "|bayes_nonconj|2025-10-27 04:05|cache|1071.34|✅|\n",
    "|cake_eating_numerical|2025-10-27 04:06|cache|23.99|✅|\n",
    "|cake_eating_problem|2025-10-27 04:06|cache|2.03|✅|\n",
    "|career|2025-10-27 04:06|cache|12.51|✅|\n",
    "|cass_fiscal|2025-10-27 04:06|cache|18.18|✅|\n",
    "|cass_fiscal_2|2025-10-27 04:06|cache|6.0|✅|\n",
    "|cass_koopmans_1|2025-10-27 04:07|cache|13.31|✅|\n",
    "|cass_koopmans_2|2025-10-27 04:07|cache|7.2|✅|\n",
    "|coleman_policy_iter|2025-10-27 04:07|cache|10.79|✅|\n",
    "|cross_product_trick|2025-10-27 04:07|cache|1.11|✅|\n",
    "|divergence_measures|2025-10-27 04:07|cache|14.83|✅|\n",
    "|egm_policy_iter|2025-10-27 04:07|cache|5.26|✅|\n",
    "|eig_circulant|2025-10-27 04:07|cache|6.5|✅|\n",
    "|exchangeable|2025-10-27 04:08|cache|8.12|✅|\n",
    "|finite_markov|2025-10-27 04:08|cache|6.23|✅|\n",
    "|ge_arrow|2025-10-27 04:08|cache|2.14|✅|\n",
    "|harrison_kreps|2025-10-27 04:08|cache|3.83|✅|\n",
    "|hoist_failure|2025-10-27 04:09|cache|54.6|✅|\n",
    "|house_auction|2025-10-27 04:09|cache|3.2|✅|\n",
    "|ifp|2025-10-27 04:09|cache|39.57|✅|\n",
    "|ifp_advanced|2025-10-27 04:10|cache|24.93|✅|\n",
    "|imp_sample|2025-10-27 04:14|cache|250.32|✅|\n",
    "|intro|2025-10-27 04:14|cache|0.91|✅|\n",
    "|inventory_dynamics|2025-10-27 04:14|cache|10.36|✅|\n",
    "|jv|2025-10-27 04:15|cache|15.98|✅|\n",
    "|kalman|2025-10-27 04:15|cache|9.34|✅|\n",
    "|kalman_2|2025-10-27 04:15|cache|43.2|✅|\n",
    "|kesten_processes|2025-10-27 04:16|cache|31.65|✅|\n",
    "|lagrangian_lqdp|2025-10-27 04:16|cache|28.37|✅|\n",
    "|lake_model|2025-10-27 04:17|cache|35.96|✅|\n",
    "|likelihood_bayes|2025-10-27 04:18|cache|43.23|✅|\n",
    "|likelihood_ratio_process|2025-10-27 04:18|cache|23.34|✅|\n",
    "|likelihood_ratio_process_2|2025-10-27 04:19|cache|30.61|✅|\n",
    "|likelihood_var|2025-10-27 04:19|cache|21.59|✅|\n",
    "|linear_algebra|2025-10-27 04:19|cache|2.59|✅|\n",
    "|linear_models|2025-10-27 04:19|cache|8.97|✅|\n",
    "|lln_clt|2025-10-27 04:19|cache|11.66|✅|\n",
    "|lq_inventories|2025-10-27 04:20|cache|13.14|✅|\n",
    "|lqcontrol|2025-10-27 04:20|cache|5.36|✅|\n",
    "|markov_asset|2025-10-27 04:20|cache|5.58|✅|\n",
    "|markov_perf|2025-10-27 04:20|cache|4.6|✅|\n",
    "|mccall_correlated|2025-10-27 04:21|cache|79.33|✅|\n",
    "|mccall_fitted_vfi|2025-10-27 04:21|cache|5.88|✅|\n",
    "|mccall_model|2025-10-27 04:22|cache|15.5|✅|\n",
    "|mccall_model_with_separation|2025-10-27 04:22|cache|7.74|✅|\n",
    "|mccall_q|2025-10-27 04:22|cache|18.45|✅|\n",
    "|mix_model|2025-10-27 04:23|cache|77.41|✅|\n",
    "|mle|2025-10-27 04:23|cache|10.68|✅|\n",
    "|morris_learn|2025-10-27 04:24|cache|17.46|✅|\n",
    "|multi_hyper|2025-10-27 04:24|cache|19.0|✅|\n",
    "|multivariate_normal|2025-10-27 04:24|cache|4.61|✅|\n",
    "|navy_captain|2025-10-27 04:25|cache|30.6|✅|\n",
    "|newton_method|2025-10-27 04:26|cache|54.63|✅|\n",
    "|odu|2025-10-27 04:26|cache|51.59|✅|\n",
    "|ols|2025-10-27 04:27|cache|8.53|✅|\n",
    "|opt_transport|2025-10-27 04:27|cache|16.02|✅|\n",
    "|optgrowth|2025-10-27 04:28|cache|65.89|✅|\n",
    "|optgrowth_fast|2025-10-27 04:28|cache|18.4|✅|\n",
    "|pandas_panel|2025-10-27 04:28|cache|4.72|✅|\n",
    "|perm_income|2025-10-27 04:28|cache|3.85|✅|\n",
    "|perm_income_cons|2025-10-27 04:29|cache|8.19|✅|\n",
    "|prob_matrix|2025-10-27 04:29|cache|9.53|✅|\n",
    "|prob_meaning|2025-10-27 04:30|cache|61.94|✅|\n",
    "|qr_decomp|2025-10-27 04:30|cache|1.22|✅|\n",
    "|rand_resp|2025-10-27 04:30|cache|2.91|✅|\n",
    "|rational_expectations|2025-10-27 04:30|cache|3.83|✅|\n",
    "|re_with_feedback|2025-10-27 04:30|cache|11.27|✅|\n",
    "|samuelson|2025-10-27 04:30|cache|12.19|✅|\n",
    "|sir_model|2025-10-27 04:30|cache|3.13|✅|\n",
    "|stats_examples|2025-10-27 04:30|cache|4.5|✅|\n",
    "|status|2025-10-27 04:31|cache|7.77|✅|\n",
    "|svd_intro|2025-10-27 04:31|cache|1.42|✅|\n",
    "|troubleshooting|2025-10-27 04:14|cache|0.91|✅|\n",
    "|two_auctions|2025-10-27 04:31|cache|25.53|✅|\n",
    "|uncertainty_traps|2025-10-27 04:31|cache|2.71|✅|\n",
    "|util_rand_resp|2025-10-27 04:31|cache|2.94|✅|\n",
    "|var_dmd|2025-10-27 04:14|cache|0.91|✅|\n",
    "|von_neumann_model|2025-10-27 04:31|cache|2.91|✅|\n",
    "|wald_friedman|2025-10-27 04:32|cache|20.72|✅|\n",
    "|wald_friedman_2|2025-10-27 04:32|cache|14.53|✅|\n",
    "|wealth_dynamics|2025-10-27 04:32|cache|32.33|✅|\n",
    "|zreferences|2025-10-27 04:14|cache|0.91|✅|\n",
    "\n",
    "<a id='status-machine-details'></a>\n",
    "These lectures are built on `linux` instances through `github actions`.\n",
    "\n",
    "These lectures are using the following python version"
   ]
  },
  {
   "cell_type": "code",
   "execution_count": null,
   "id": "007bf253",
   "metadata": {
    "hide-output": false
   },
   "outputs": [],
   "source": [
    "!python --version"
   ]
  },
  {
   "cell_type": "markdown",
   "id": "16c244ff",
   "metadata": {},
   "source": [
    "and the following package versions"
   ]
  },
  {
   "cell_type": "code",
   "execution_count": null,
   "id": "f6d19b1d",
   "metadata": {
    "hide-output": false
   },
   "outputs": [],
   "source": [
    "!conda list"
   ]
  },
  {
   "cell_type": "markdown",
   "id": "f475465b",
   "metadata": {},
   "source": [
    "This lecture series has access to the following GPU"
   ]
  },
  {
   "cell_type": "code",
   "execution_count": null,
   "id": "79ae57bb",
   "metadata": {
    "hide-output": false
   },
   "outputs": [],
   "source": [
    "!nvidia-smi"
   ]
  },
  {
   "cell_type": "markdown",
   "id": "eaf56522",
   "metadata": {},
   "source": [
    "You can check the backend used by JAX using:"
   ]
  },
  {
   "cell_type": "code",
   "execution_count": null,
   "id": "3048eec3",
   "metadata": {
    "hide-output": false
   },
   "outputs": [],
   "source": [
    "import jax\n",
    "# Check if JAX is using GPU\n",
    "print(f\"JAX backend: {jax.devices()[0].platform}\")"
   ]
  }
 ],
 "metadata": {
  "date": 1761785062.7339208,
  "filename": "status.md",
  "kernelspec": {
   "display_name": "Python",
   "language": "python3",
   "name": "python3"
  },
  "title": "Execution Statistics"
 },
 "nbformat": 4,
 "nbformat_minor": 5
}