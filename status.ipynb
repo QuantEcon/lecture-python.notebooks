{
 "cells": [
  {
   "cell_type": "markdown",
   "id": "0e0a7552",
   "metadata": {},
   "source": [
    "# Execution Statistics\n",
    "\n",
    "This table contains the latest execution statistics.\n",
    "\n",
    "[](https://python.quantecon.org/aiyagari.html)[](https://python.quantecon.org/ak2.html)[](https://python.quantecon.org/ar1_bayes.html)[](https://python.quantecon.org/ar1_turningpts.html)[](https://python.quantecon.org/back_prop.html)[](https://python.quantecon.org/bayes_nonconj.html)[](https://python.quantecon.org/cake_eating_numerical.html)[](https://python.quantecon.org/cake_eating_problem.html)[](https://python.quantecon.org/career.html)[](https://python.quantecon.org/cass_fiscal.html)[](https://python.quantecon.org/cass_fiscal_2.html)[](https://python.quantecon.org/cass_koopmans_1.html)[](https://python.quantecon.org/cass_koopmans_2.html)[](https://python.quantecon.org/coleman_policy_iter.html)[](https://python.quantecon.org/cross_product_trick.html)[](https://python.quantecon.org/divergence_measures.html)[](https://python.quantecon.org/egm_policy_iter.html)[](https://python.quantecon.org/eig_circulant.html)[](https://python.quantecon.org/exchangeable.html)[](https://python.quantecon.org/finite_markov.html)[](https://python.quantecon.org/ge_arrow.html)[](https://python.quantecon.org/harrison_kreps.html)[](https://python.quantecon.org/hoist_failure.html)[](https://python.quantecon.org/house_auction.html)[](https://python.quantecon.org/ifp.html)[](https://python.quantecon.org/ifp_advanced.html)[](https://python.quantecon.org/imp_sample.html)[](https://python.quantecon.org/intro.html)[](https://python.quantecon.org/inventory_dynamics.html)[](https://python.quantecon.org/jv.html)[](https://python.quantecon.org/kalman.html)[](https://python.quantecon.org/kalman_2.html)[](https://python.quantecon.org/kesten_processes.html)[](https://python.quantecon.org/lagrangian_lqdp.html)[](https://python.quantecon.org/lake_model.html)[](https://python.quantecon.org/likelihood_bayes.html)[](https://python.quantecon.org/likelihood_ratio_process.html)[](https://python.quantecon.org/likelihood_ratio_process_2.html)[](https://python.quantecon.org/likelihood_var.html)[](https://python.quantecon.org/linear_algebra.html)[](https://python.quantecon.org/linear_models.html)[](https://python.quantecon.org/lln_clt.html)[](https://python.quantecon.org/lq_inventories.html)[](https://python.quantecon.org/lqcontrol.html)[](https://python.quantecon.org/markov_asset.html)[](https://python.quantecon.org/markov_perf.html)[](https://python.quantecon.org/mccall_correlated.html)[](https://python.quantecon.org/mccall_fitted_vfi.html)[](https://python.quantecon.org/mccall_model.html)[](https://python.quantecon.org/mccall_model_with_separation.html)[](https://python.quantecon.org/mccall_q.html)[](https://python.quantecon.org/mix_model.html)[](https://python.quantecon.org/mle.html)[](https://python.quantecon.org/multi_hyper.html)[](https://python.quantecon.org/multivariate_normal.html)[](https://python.quantecon.org/navy_captain.html)[](https://python.quantecon.org/newton_method.html)[](https://python.quantecon.org/odu.html)[](https://python.quantecon.org/ols.html)[](https://python.quantecon.org/opt_transport.html)[](https://python.quantecon.org/optgrowth.html)[](https://python.quantecon.org/optgrowth_fast.html)[](https://python.quantecon.org/pandas_panel.html)[](https://python.quantecon.org/perm_income.html)[](https://python.quantecon.org/perm_income_cons.html)[](https://python.quantecon.org/prob_matrix.html)[](https://python.quantecon.org/prob_meaning.html)[](https://python.quantecon.org/qr_decomp.html)[](https://python.quantecon.org/rand_resp.html)[](https://python.quantecon.org/rational_expectations.html)[](https://python.quantecon.org/re_with_feedback.html)[](https://python.quantecon.org/samuelson.html)[](https://python.quantecon.org/sir_model.html)[](https://python.quantecon.org/stats_examples.html)[](https://python.quantecon.org/.html)[](https://python.quantecon.org/svd_intro.html)[](https://python.quantecon.org/troubleshooting.html)[](https://python.quantecon.org/two_auctions.html)[](https://python.quantecon.org/uncertainty_traps.html)[](https://python.quantecon.org/util_rand_resp.html)[](https://python.quantecon.org/var_dmd.html)[](https://python.quantecon.org/von_neumann_model.html)[](https://python.quantecon.org/wald_friedman.html)[](https://python.quantecon.org/wald_friedman_2.html)[](https://python.quantecon.org/wealth_dynamics.html)[](https://python.quantecon.org/zreferences.html)|Document|Modified|Method|Run Time (s)|Status|\n",
    "|:------------------:|:------------------:|:------------------:|:------------------:|:------------------:|\n",
    "|aiyagari|2025-08-25 03:33|cache|21.1|✅|\n",
    "|ak2|2025-08-25 03:33|cache|12.58|✅|\n",
    "|ar1_bayes|2025-08-25 03:39|cache|340.61|✅|\n",
    "|ar1_turningpts|2025-08-25 03:40|cache|36.76|✅|\n",
    "|back_prop|2025-08-25 03:41|cache|97.02|✅|\n",
    "|bayes_nonconj|2025-08-25 04:49|cache|4080.01|✅|\n",
    "|cake_eating_numerical|2025-08-25 04:50|cache|22.09|✅|\n",
    "|cake_eating_problem|2025-08-25 04:50|cache|1.86|✅|\n",
    "|career|2025-08-25 04:50|cache|11.5|✅|\n",
    "|cass_fiscal|2025-08-25 04:50|cache|19.18|✅|\n",
    "|cass_fiscal_2|2025-08-25 04:50|cache|5.6|✅|\n",
    "|cass_koopmans_1|2025-08-25 04:50|cache|13.8|✅|\n",
    "|cass_koopmans_2|2025-08-25 04:51|cache|6.96|✅|\n",
    "|coleman_policy_iter|2025-08-25 04:51|cache|11.4|✅|\n",
    "|cross_product_trick|2025-08-25 04:51|cache|0.91|✅|\n",
    "|divergence_measures|2025-08-25 04:51|cache|12.82|✅|\n",
    "|egm_policy_iter|2025-08-25 04:51|cache|5.4|✅|\n",
    "|eig_circulant|2025-08-25 04:51|cache|4.03|✅|\n",
    "|exchangeable|2025-08-25 04:51|cache|8.29|✅|\n",
    "|finite_markov|2025-08-25 04:51|cache|6.23|✅|\n",
    "|ge_arrow|2025-08-25 04:51|cache|2.21|✅|\n",
    "|harrison_kreps|2025-08-25 04:52|cache|3.6|✅|\n",
    "|hoist_failure|2025-08-25 04:52|cache|53.37|✅|\n",
    "|house_auction|2025-08-25 04:52|cache|3.17|✅|\n",
    "|ifp|2025-08-25 04:53|cache|37.4|✅|\n",
    "|ifp_advanced|2025-08-25 04:53|cache|22.12|✅|\n",
    "|imp_sample|2025-08-25 04:58|cache|250.44|✅|\n",
    "|intro|2025-08-25 04:58|cache|0.85|✅|\n",
    "|inventory_dynamics|2025-08-25 04:58|cache|9.85|✅|\n",
    "|jv|2025-08-25 04:58|cache|15.59|✅|\n",
    "|kalman|2025-08-25 04:58|cache|6.65|✅|\n",
    "|kalman_2|2025-08-25 04:59|cache|42.22|✅|\n",
    "|kesten_processes|2025-08-25 04:59|cache|31.48|✅|\n",
    "|lagrangian_lqdp|2025-08-25 05:00|cache|26.08|✅|\n",
    "|lake_model|2025-08-25 05:00|cache|13.1|✅|\n",
    "|likelihood_bayes|2025-08-25 05:01|cache|43.2|✅|\n",
    "|likelihood_ratio_process|2025-08-25 05:01|cache|21.36|✅|\n",
    "|likelihood_ratio_process_2|2025-08-25 11:47|cache|38.03|✅|\n",
    "|likelihood_var|2025-08-25 05:02|cache|21.14|✅|\n",
    "|linear_algebra|2025-08-25 05:02|cache|2.41|✅|\n",
    "|linear_models|2025-08-25 05:02|cache|6.13|✅|\n",
    "|lln_clt|2025-08-25 05:02|cache|11.0|✅|\n",
    "|lq_inventories|2025-08-25 05:02|cache|12.75|✅|\n",
    "|lqcontrol|2025-08-25 05:02|cache|4.9|✅|\n",
    "|markov_asset|2025-08-25 05:02|cache|5.31|✅|\n",
    "|markov_perf|2025-08-25 05:02|cache|4.4|✅|\n",
    "|mccall_correlated|2025-08-25 05:04|cache|78.99|✅|\n",
    "|mccall_fitted_vfi|2025-08-25 05:04|cache|5.41|✅|\n",
    "|mccall_model|2025-08-25 05:04|cache|12.62|✅|\n",
    "|mccall_model_with_separation|2025-08-25 05:04|cache|7.4|✅|\n",
    "|mccall_q|2025-08-25 05:05|cache|16.29|✅|\n",
    "|mix_model|2025-08-25 05:06|cache|74.22|✅|\n",
    "|mle|2025-08-25 05:06|cache|4.82|✅|\n",
    "|multi_hyper|2025-08-25 05:06|cache|19.84|✅|\n",
    "|multivariate_normal|2025-08-25 05:06|cache|4.62|✅|\n",
    "|navy_captain|2025-08-25 05:07|cache|28.61|✅|\n",
    "|newton_method|2025-08-25 05:08|cache|69.48|✅|\n",
    "|odu|2025-08-25 05:09|cache|50.75|✅|\n",
    "|ols|2025-08-25 05:09|cache|9.07|✅|\n",
    "|opt_transport|2025-08-25 05:09|cache|13.71|✅|\n",
    "|optgrowth|2025-08-25 05:10|cache|63.74|✅|\n",
    "|optgrowth_fast|2025-08-25 05:11|cache|19.67|✅|\n",
    "|pandas_panel|2025-08-25 05:11|cache|4.28|✅|\n",
    "|perm_income|2025-08-25 05:11|cache|3.82|✅|\n",
    "|perm_income_cons|2025-08-25 05:11|cache|5.74|✅|\n",
    "|prob_matrix|2025-08-25 05:11|cache|9.39|✅|\n",
    "|prob_meaning|2025-08-25 05:12|cache|57.23|✅|\n",
    "|qr_decomp|2025-08-25 05:12|cache|1.33|✅|\n",
    "|rand_resp|2025-08-25 05:12|cache|2.77|✅|\n",
    "|rational_expectations|2025-08-25 05:12|cache|3.62|✅|\n",
    "|re_with_feedback|2025-08-25 05:12|cache|8.82|✅|\n",
    "|samuelson|2025-08-25 05:12|cache|10.58|✅|\n",
    "|sir_model|2025-08-25 05:12|cache|2.95|✅|\n",
    "|stats_examples|2025-08-25 05:12|cache|4.37|✅|\n",
    "|status|2025-08-25 05:13|cache|7.64|✅|\n",
    "|svd_intro|2025-08-25 05:13|cache|1.62|✅|\n",
    "|troubleshooting|2025-08-25 04:58|cache|0.85|✅|\n",
    "|two_auctions|2025-08-25 05:13|cache|23.91|✅|\n",
    "|uncertainty_traps|2025-08-25 05:13|cache|2.64|✅|\n",
    "|util_rand_resp|2025-08-25 05:13|cache|2.9|✅|\n",
    "|var_dmd|2025-08-25 04:58|cache|0.85|✅|\n",
    "|von_neumann_model|2025-08-25 05:13|cache|2.2|✅|\n",
    "|wald_friedman|2025-08-25 05:14|cache|20.21|✅|\n",
    "|wald_friedman_2|2025-08-25 05:14|cache|14.19|✅|\n",
    "|wealth_dynamics|2025-08-25 05:14|cache|29.18|✅|\n",
    "|zreferences|2025-08-25 04:58|cache|0.85|✅|\n",
    "\n",
    "<a id='status-machine-details'></a>\n",
    "These lectures are built on `linux` instances through `github actions`.\n",
    "\n",
    "These lectures are using the following python version"
   ]
  },
  {
   "cell_type": "code",
   "execution_count": null,
   "id": "af1dbb0d",
   "metadata": {
    "hide-output": false
   },
   "outputs": [],
   "source": [
    "!python --version"
   ]
  },
  {
   "cell_type": "markdown",
   "id": "65dec124",
   "metadata": {},
   "source": [
    "and the following package versions"
   ]
  },
  {
   "cell_type": "code",
   "execution_count": null,
   "id": "b44965a4",
   "metadata": {
    "hide-output": false
   },
   "outputs": [],
   "source": [
    "!conda list"
   ]
  },
  {
   "cell_type": "markdown",
   "id": "bf22dac7",
   "metadata": {},
   "source": [
    "This lecture series has access to the following GPU"
   ]
  },
  {
   "cell_type": "code",
   "execution_count": null,
   "id": "475b67f5",
   "metadata": {
    "hide-output": false
   },
   "outputs": [],
   "source": [
    "!nvidia-smi"
   ]
  },
  {
   "cell_type": "markdown",
   "id": "32a617f5",
   "metadata": {},
   "source": [
    "You can check the backend used by JAX using:"
   ]
  },
  {
   "cell_type": "code",
   "execution_count": null,
   "id": "c3f9270b",
   "metadata": {
    "hide-output": false
   },
   "outputs": [],
   "source": [
    "import jax\n",
    "# Check if JAX is using GPU\n",
    "print(f\"JAX backend: {jax.devices()[0].platform}\")"
   ]
  }
 ],
 "metadata": {
  "date": 1756122755.7943985,
  "filename": "status.md",
  "kernelspec": {
   "display_name": "Python",
   "language": "python3",
   "name": "python3"
  },
  "title": "Execution Statistics"
 },
 "nbformat": 4,
 "nbformat_minor": 5
}