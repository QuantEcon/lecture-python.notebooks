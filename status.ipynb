{
 "cells": [
  {
   "cell_type": "markdown",
   "id": "0358cc9d",
   "metadata": {},
   "source": [
    "# Execution Statistics\n",
    "\n",
    "This table contains the latest execution statistics.\n",
    "\n",
    "[](https://python.quantecon.org/aiyagari.html)[](https://python.quantecon.org/ak2.html)[](https://python.quantecon.org/ar1_bayes.html)[](https://python.quantecon.org/ar1_turningpts.html)[](https://python.quantecon.org/back_prop.html)[](https://python.quantecon.org/bayes_nonconj.html)[](https://python.quantecon.org/cake_eating_numerical.html)[](https://python.quantecon.org/cake_eating_problem.html)[](https://python.quantecon.org/career.html)[](https://python.quantecon.org/cass_koopmans_1.html)[](https://python.quantecon.org/cass_koopmans_2.html)[](https://python.quantecon.org/coleman_policy_iter.html)[](https://python.quantecon.org/cross_product_trick.html)[](https://python.quantecon.org/egm_policy_iter.html)[](https://python.quantecon.org/eig_circulant.html)[](https://python.quantecon.org/exchangeable.html)[](https://python.quantecon.org/finite_markov.html)[](https://python.quantecon.org/ge_arrow.html)[](https://python.quantecon.org/harrison_kreps.html)[](https://python.quantecon.org/hoist_failure.html)[](https://python.quantecon.org/house_auction.html)[](https://python.quantecon.org/ifp.html)[](https://python.quantecon.org/ifp_advanced.html)[](https://python.quantecon.org/imp_sample.html)[](https://python.quantecon.org/intro.html)[](https://python.quantecon.org/inventory_dynamics.html)[](https://python.quantecon.org/jv.html)[](https://python.quantecon.org/kalman.html)[](https://python.quantecon.org/kalman_2.html)[](https://python.quantecon.org/kesten_processes.html)[](https://python.quantecon.org/lagrangian_lqdp.html)[](https://python.quantecon.org/lake_model.html)[](https://python.quantecon.org/likelihood_bayes.html)[](https://python.quantecon.org/likelihood_ratio_process.html)[](https://python.quantecon.org/linear_algebra.html)[](https://python.quantecon.org/linear_models.html)[](https://python.quantecon.org/lln_clt.html)[](https://python.quantecon.org/lq_inventories.html)[](https://python.quantecon.org/lqcontrol.html)[](https://python.quantecon.org/markov_asset.html)[](https://python.quantecon.org/markov_perf.html)[](https://python.quantecon.org/mccall_correlated.html)[](https://python.quantecon.org/mccall_fitted_vfi.html)[](https://python.quantecon.org/mccall_model.html)[](https://python.quantecon.org/mccall_model_with_separation.html)[](https://python.quantecon.org/mccall_q.html)[](https://python.quantecon.org/mix_model.html)[](https://python.quantecon.org/mle.html)[](https://python.quantecon.org/multi_hyper.html)[](https://python.quantecon.org/multivariate_normal.html)[](https://python.quantecon.org/navy_captain.html)[](https://python.quantecon.org/newton_method.html)[](https://python.quantecon.org/odu.html)[](https://python.quantecon.org/ols.html)[](https://python.quantecon.org/opt_transport.html)[](https://python.quantecon.org/optgrowth.html)[](https://python.quantecon.org/optgrowth_fast.html)[](https://python.quantecon.org/pandas_panel.html)[](https://python.quantecon.org/perm_income.html)[](https://python.quantecon.org/perm_income_cons.html)[](https://python.quantecon.org/prob_matrix.html)[](https://python.quantecon.org/prob_meaning.html)[](https://python.quantecon.org/qr_decomp.html)[](https://python.quantecon.org/rand_resp.html)[](https://python.quantecon.org/rational_expectations.html)[](https://python.quantecon.org/re_with_feedback.html)[](https://python.quantecon.org/samuelson.html)[](https://python.quantecon.org/sir_model.html)[](https://python.quantecon.org/.html)[](https://python.quantecon.org/svd_intro.html)[](https://python.quantecon.org/troubleshooting.html)[](https://python.quantecon.org/two_auctions.html)[](https://python.quantecon.org/uncertainty_traps.html)[](https://python.quantecon.org/util_rand_resp.html)[](https://python.quantecon.org/var_dmd.html)[](https://python.quantecon.org/von_neumann_model.html)[](https://python.quantecon.org/wald_friedman.html)[](https://python.quantecon.org/wealth_dynamics.html)[](https://python.quantecon.org/zreferences.html)|Document|Modified|Method|Run Time (s)|Status|\n",
    "|:------------------:|:------------------:|:------------------:|:------------------:|:------------------:|\n",
    "|aiyagari|2024-08-18 09:52|cache|17.37|✅|\n",
    "|ak2|2024-08-18 09:52|cache|12.63|✅|\n",
    "|ar1_bayes|2024-08-18 09:57|cache|259.96|✅|\n",
    "|ar1_turningpts|2024-08-18 09:57|cache|22.93|✅|\n",
    "|back_prop|2024-08-18 09:58|cache|68.42|✅|\n",
    "|bayes_nonconj|2024-08-18 10:56|cache|3455.77|✅|\n",
    "|cake_eating_numerical|2024-08-18 10:56|cache|23.98|✅|\n",
    "|cake_eating_problem|2024-08-18 10:56|cache|1.67|✅|\n",
    "|career|2024-08-18 10:56|cache|11.93|✅|\n",
    "|cass_koopmans_1|2024-08-18 10:57|cache|10.27|✅|\n",
    "|cass_koopmans_2|2024-08-18 10:57|cache|6.05|✅|\n",
    "|coleman_policy_iter|2024-08-18 10:57|cache|11.24|✅|\n",
    "|cross_product_trick|2024-08-18 10:57|cache|1.07|✅|\n",
    "|egm_policy_iter|2024-08-18 10:57|cache|4.78|✅|\n",
    "|eig_circulant|2024-08-18 10:57|cache|3.42|✅|\n",
    "|exchangeable|2024-08-18 10:57|cache|7.69|✅|\n",
    "|finite_markov|2024-08-18 10:57|cache|7.27|✅|\n",
    "|ge_arrow|2024-08-18 10:57|cache|1.75|✅|\n",
    "|harrison_kreps|2024-08-18 10:57|cache|4.86|✅|\n",
    "|hoist_failure|2024-08-18 10:58|cache|36.14|✅|\n",
    "|house_auction|2024-08-18 10:58|cache|4.32|✅|\n",
    "|ifp|2024-08-18 10:59|cache|38.29|✅|\n",
    "|ifp_advanced|2024-08-18 10:59|cache|20.71|✅|\n",
    "|imp_sample|2024-08-18 11:04|cache|277.77|✅|\n",
    "|intro|2024-08-18 11:04|cache|0.92|✅|\n",
    "|inventory_dynamics|2024-08-18 11:04|cache|9.53|✅|\n",
    "|jv|2024-08-18 11:04|cache|14.12|✅|\n",
    "|kalman|2024-08-18 11:04|cache|7.66|✅|\n",
    "|kalman_2|2024-08-18 11:05|cache|24.91|✅|\n",
    "|kesten_processes|2024-08-18 11:05|cache|33.6|✅|\n",
    "|lagrangian_lqdp|2024-08-18 11:06|cache|23.17|✅|\n",
    "|lake_model|2024-08-18 11:06|cache|12.85|✅|\n",
    "|likelihood_bayes|2024-08-18 11:07|cache|39.11|✅|\n",
    "|likelihood_ratio_process|2024-08-18 11:07|cache|8.0|✅|\n",
    "|linear_algebra|2024-08-18 11:07|cache|2.35|✅|\n",
    "|linear_models|2024-08-18 11:07|cache|7.24|✅|\n",
    "|lln_clt|2024-08-18 11:07|cache|9.19|✅|\n",
    "|lq_inventories|2024-08-18 11:07|cache|13.23|✅|\n",
    "|lqcontrol|2024-08-18 11:07|cache|5.93|✅|\n",
    "|markov_asset|2024-08-18 11:07|cache|6.4|✅|\n",
    "|markov_perf|2024-08-18 11:08|cache|5.59|✅|\n",
    "|mccall_correlated|2024-08-18 11:08|cache|55.55|✅|\n",
    "|mccall_fitted_vfi|2024-08-18 11:09|cache|9.11|✅|\n",
    "|mccall_model|2024-08-18 11:09|cache|13.93|✅|\n",
    "|mccall_model_with_separation|2024-08-18 11:09|cache|7.69|✅|\n",
    "|mccall_q|2024-08-18 11:09|cache|15.44|✅|\n",
    "|mix_model|2024-08-18 11:10|cache|55.97|✅|\n",
    "|mle|2024-08-18 11:10|cache|4.53|✅|\n",
    "|multi_hyper|2024-08-18 11:11|cache|18.49|✅|\n",
    "|multivariate_normal|2024-08-18 11:11|cache|4.01|✅|\n",
    "|navy_captain|2024-08-18 11:11|cache|23.6|✅|\n",
    "|newton_method|2024-08-18 11:13|cache|95.4|✅|\n",
    "|odu|2024-08-18 11:13|cache|47.91|✅|\n",
    "|ols|2024-08-18 11:14|cache|11.25|✅|\n",
    "|opt_transport|2024-08-18 11:14|cache|16.02|✅|\n",
    "|optgrowth|2024-08-18 11:15|cache|52.42|✅|\n",
    "|optgrowth_fast|2024-08-18 11:15|cache|18.0|✅|\n",
    "|pandas_panel|2024-08-18 11:15|cache|4.64|✅|\n",
    "|perm_income|2024-08-18 11:15|cache|3.5|✅|\n",
    "|perm_income_cons|2024-08-18 11:15|cache|6.8|✅|\n",
    "|prob_matrix|2024-08-18 11:16|cache|11.28|✅|\n",
    "|prob_meaning|2024-08-18 11:16|cache|44.52|✅|\n",
    "|qr_decomp|2024-08-18 11:16|cache|1.18|✅|\n",
    "|rand_resp|2024-08-18 11:16|cache|2.51|✅|\n",
    "|rational_expectations|2024-08-18 11:16|cache|5.09|✅|\n",
    "|re_with_feedback|2024-08-18 11:17|cache|8.55|✅|\n",
    "|samuelson|2024-08-18 11:17|cache|11.02|✅|\n",
    "|sir_model|2024-08-18 11:17|cache|2.69|✅|\n",
    "|status|2024-08-18 11:17|cache|5.94|✅|\n",
    "|svd_intro|2024-08-18 11:17|cache|1.25|✅|\n",
    "|troubleshooting|2024-08-18 11:04|cache|0.92|✅|\n",
    "|two_auctions|2024-08-18 11:17|cache|14.59|✅|\n",
    "|uncertainty_traps|2024-08-18 11:17|cache|2.29|✅|\n",
    "|util_rand_resp|2024-08-18 11:17|cache|2.79|✅|\n",
    "|var_dmd|2024-08-18 11:04|cache|0.92|✅|\n",
    "|von_neumann_model|2024-08-18 11:17|cache|1.91|✅|\n",
    "|wald_friedman|2024-08-18 11:17|cache|12.66|✅|\n",
    "|wealth_dynamics|2024-08-18 11:18|cache|41.32|✅|\n",
    "|zreferences|2024-08-18 11:04|cache|0.92|✅|\n",
    "\n",
    "<a id='status-machine-details'></a>\n",
    "These lectures are built on `linux` instances through `github actions`.\n",
    "\n",
    "These lectures are using the following python version"
   ]
  },
  {
   "cell_type": "code",
   "execution_count": null,
   "id": "e6fefb51",
   "metadata": {
    "hide-output": false
   },
   "outputs": [],
   "source": [
    "!python --version"
   ]
  },
  {
   "cell_type": "markdown",
   "id": "10b3a74d",
   "metadata": {},
   "source": [
    "and the following package versions"
   ]
  },
  {
   "cell_type": "code",
   "execution_count": null,
   "id": "272ecc3b",
   "metadata": {
    "hide-output": false
   },
   "outputs": [],
   "source": [
    "!conda list"
   ]
  }
 ],
 "metadata": {
  "date": 1724022911.1929972,
  "filename": "status.md",
  "kernelspec": {
   "display_name": "Python",
   "language": "python3",
   "name": "python3"
  },
  "title": "Execution Statistics"
 },
 "nbformat": 4,
 "nbformat_minor": 5
}