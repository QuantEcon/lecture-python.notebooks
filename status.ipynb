{
 "cells": [
  {
   "cell_type": "markdown",
   "id": "27d7b180",
   "metadata": {},
   "source": [
    "# Execution Statistics\n",
    "\n",
    "This table contains the latest execution statistics.\n",
    "\n",
    "[](https://python.quantecon.org/aiyagari.html)[](https://python.quantecon.org/ak2.html)[](https://python.quantecon.org/ar1_bayes.html)[](https://python.quantecon.org/ar1_turningpts.html)[](https://python.quantecon.org/back_prop.html)[](https://python.quantecon.org/bayes_nonconj.html)[](https://python.quantecon.org/cake_eating_numerical.html)[](https://python.quantecon.org/cake_eating_problem.html)[](https://python.quantecon.org/career.html)[](https://python.quantecon.org/cass_koopmans_1.html)[](https://python.quantecon.org/cass_koopmans_2.html)[](https://python.quantecon.org/coleman_policy_iter.html)[](https://python.quantecon.org/cross_product_trick.html)[](https://python.quantecon.org/egm_policy_iter.html)[](https://python.quantecon.org/eig_circulant.html)[](https://python.quantecon.org/exchangeable.html)[](https://python.quantecon.org/finite_markov.html)[](https://python.quantecon.org/ge_arrow.html)[](https://python.quantecon.org/harrison_kreps.html)[](https://python.quantecon.org/hoist_failure.html)[](https://python.quantecon.org/house_auction.html)[](https://python.quantecon.org/ifp.html)[](https://python.quantecon.org/ifp_advanced.html)[](https://python.quantecon.org/imp_sample.html)[](https://python.quantecon.org/intro.html)[](https://python.quantecon.org/inventory_dynamics.html)[](https://python.quantecon.org/jv.html)[](https://python.quantecon.org/kalman.html)[](https://python.quantecon.org/kalman_2.html)[](https://python.quantecon.org/kesten_processes.html)[](https://python.quantecon.org/lagrangian_lqdp.html)[](https://python.quantecon.org/lake_model.html)[](https://python.quantecon.org/likelihood_bayes.html)[](https://python.quantecon.org/likelihood_ratio_process.html)[](https://python.quantecon.org/linear_algebra.html)[](https://python.quantecon.org/linear_models.html)[](https://python.quantecon.org/lln_clt.html)[](https://python.quantecon.org/lq_inventories.html)[](https://python.quantecon.org/lqcontrol.html)[](https://python.quantecon.org/markov_asset.html)[](https://python.quantecon.org/markov_perf.html)[](https://python.quantecon.org/mccall_correlated.html)[](https://python.quantecon.org/mccall_fitted_vfi.html)[](https://python.quantecon.org/mccall_model.html)[](https://python.quantecon.org/mccall_model_with_separation.html)[](https://python.quantecon.org/mccall_q.html)[](https://python.quantecon.org/mix_model.html)[](https://python.quantecon.org/mle.html)[](https://python.quantecon.org/multi_hyper.html)[](https://python.quantecon.org/multivariate_normal.html)[](https://python.quantecon.org/navy_captain.html)[](https://python.quantecon.org/newton_method.html)[](https://python.quantecon.org/odu.html)[](https://python.quantecon.org/ols.html)[](https://python.quantecon.org/opt_transport.html)[](https://python.quantecon.org/optgrowth.html)[](https://python.quantecon.org/optgrowth_fast.html)[](https://python.quantecon.org/pandas_panel.html)[](https://python.quantecon.org/perm_income.html)[](https://python.quantecon.org/perm_income_cons.html)[](https://python.quantecon.org/prob_matrix.html)[](https://python.quantecon.org/prob_meaning.html)[](https://python.quantecon.org/qr_decomp.html)[](https://python.quantecon.org/rand_resp.html)[](https://python.quantecon.org/rational_expectations.html)[](https://python.quantecon.org/re_with_feedback.html)[](https://python.quantecon.org/samuelson.html)[](https://python.quantecon.org/sir_model.html)[](https://python.quantecon.org/.html)[](https://python.quantecon.org/svd_intro.html)[](https://python.quantecon.org/troubleshooting.html)[](https://python.quantecon.org/two_auctions.html)[](https://python.quantecon.org/uncertainty_traps.html)[](https://python.quantecon.org/util_rand_resp.html)[](https://python.quantecon.org/var_dmd.html)[](https://python.quantecon.org/von_neumann_model.html)[](https://python.quantecon.org/wald_friedman.html)[](https://python.quantecon.org/wealth_dynamics.html)[](https://python.quantecon.org/zreferences.html)|Document|Modified|Method|Run Time (s)|Status|\n",
    "|:------------------:|:------------------:|:------------------:|:------------------:|:------------------:|\n",
    "|aiyagari|2024-12-05 00:35|cache|16.86|✅|\n",
    "|ak2|2024-12-05 00:35|cache|10.58|✅|\n",
    "|ar1_bayes|2024-12-05 00:40|cache|313.94|✅|\n",
    "|ar1_turningpts|2024-12-05 00:40|cache|18.99|✅|\n",
    "|back_prop|2024-12-05 00:42|cache|74.94|✅|\n",
    "|bayes_nonconj|2024-12-05 01:42|cache|3621.07|✅|\n",
    "|cake_eating_numerical|2024-12-05 01:42|cache|24.36|✅|\n",
    "|cake_eating_problem|2024-12-05 01:42|cache|1.97|✅|\n",
    "|career|2024-12-05 01:43|cache|10.61|✅|\n",
    "|cass_koopmans_1|2024-12-05 01:43|cache|10.12|✅|\n",
    "|cass_koopmans_2|2024-12-05 01:43|cache|6.34|✅|\n",
    "|coleman_policy_iter|2024-12-05 01:43|cache|10.03|✅|\n",
    "|cross_product_trick|2024-12-05 01:43|cache|1.15|✅|\n",
    "|egm_policy_iter|2024-12-05 01:43|cache|4.9|✅|\n",
    "|eig_circulant|2024-12-05 01:43|cache|3.74|✅|\n",
    "|exchangeable|2024-12-05 01:43|cache|7.6|✅|\n",
    "|finite_markov|2024-12-05 01:43|cache|6.03|✅|\n",
    "|ge_arrow|2024-12-05 01:43|cache|2.11|✅|\n",
    "|harrison_kreps|2024-12-05 01:44|cache|3.74|✅|\n",
    "|hoist_failure|2024-12-05 01:44|cache|35.43|✅|\n",
    "|house_auction|2024-12-05 01:44|cache|2.89|✅|\n",
    "|ifp|2024-12-05 01:45|cache|38.48|✅|\n",
    "|ifp_advanced|2024-12-05 01:45|cache|19.57|✅|\n",
    "|imp_sample|2024-12-05 01:50|cache|290.91|✅|\n",
    "|intro|2024-12-05 01:50|cache|0.99|✅|\n",
    "|inventory_dynamics|2024-12-05 01:50|cache|9.96|✅|\n",
    "|jv|2024-12-05 01:50|cache|14.32|✅|\n",
    "|kalman|2024-12-05 01:51|cache|6.38|✅|\n",
    "|kalman_2|2024-12-05 01:51|cache|24.77|✅|\n",
    "|kesten_processes|2024-12-05 01:51|cache|32.29|✅|\n",
    "|lagrangian_lqdp|2024-12-05 01:52|cache|22.9|✅|\n",
    "|lake_model|2024-12-05 01:52|cache|11.52|✅|\n",
    "|likelihood_bayes|2024-12-05 01:53|cache|39.82|✅|\n",
    "|likelihood_ratio_process|2024-12-05 01:53|cache|8.05|✅|\n",
    "|linear_algebra|2024-12-05 01:53|cache|2.36|✅|\n",
    "|linear_models|2024-12-05 01:53|cache|5.84|✅|\n",
    "|lln_clt|2024-12-05 01:53|cache|9.68|✅|\n",
    "|lq_inventories|2024-12-05 01:53|cache|11.17|✅|\n",
    "|lqcontrol|2024-12-05 01:53|cache|4.75|✅|\n",
    "|markov_asset|2024-12-05 01:54|cache|4.99|✅|\n",
    "|markov_perf|2024-12-05 01:54|cache|4.26|✅|\n",
    "|mccall_correlated|2024-12-05 01:55|cache|54.93|✅|\n",
    "|mccall_fitted_vfi|2024-12-05 01:55|cache|9.58|✅|\n",
    "|mccall_model|2024-12-05 01:55|cache|12.75|✅|\n",
    "|mccall_model_with_separation|2024-12-05 01:55|cache|6.27|✅|\n",
    "|mccall_q|2024-12-05 01:55|cache|14.76|✅|\n",
    "|mix_model|2024-12-05 01:56|cache|64.22|✅|\n",
    "|mle|2024-12-05 03:21|cache|7.42|✅|\n",
    "|multi_hyper|2024-12-05 01:57|cache|17.97|✅|\n",
    "|multivariate_normal|2024-12-05 01:57|cache|4.44|✅|\n",
    "|navy_captain|2024-12-05 01:57|cache|23.43|✅|\n",
    "|newton_method|2024-12-05 01:59|cache|93.08|✅|\n",
    "|odu|2024-12-05 02:00|cache|47.31|✅|\n",
    "|ols|2024-12-05 02:00|cache|8.88|✅|\n",
    "|opt_transport|2024-12-05 02:00|cache|13.69|✅|\n",
    "|optgrowth|2024-12-05 02:01|cache|53.95|✅|\n",
    "|optgrowth_fast|2024-12-05 02:01|cache|16.61|✅|\n",
    "|pandas_panel|2024-12-05 02:01|cache|4.7|✅|\n",
    "|perm_income|2024-12-05 02:01|cache|3.61|✅|\n",
    "|perm_income_cons|2024-12-05 02:01|cache|5.62|✅|\n",
    "|prob_matrix|2024-12-05 02:02|cache|9.88|✅|\n",
    "|prob_meaning|2024-12-05 02:02|cache|42.69|✅|\n",
    "|qr_decomp|2024-12-05 02:02|cache|1.33|✅|\n",
    "|rand_resp|2024-12-05 02:02|cache|2.59|✅|\n",
    "|rational_expectations|2024-12-05 02:02|cache|3.61|✅|\n",
    "|re_with_feedback|2024-12-05 03:21|cache|9.28|✅|\n",
    "|samuelson|2024-12-05 02:03|cache|9.31|✅|\n",
    "|sir_model|2024-12-05 02:03|cache|2.92|✅|\n",
    "|status|2024-12-05 02:03|cache|7.17|✅|\n",
    "|svd_intro|2024-12-05 02:03|cache|1.44|✅|\n",
    "|troubleshooting|2024-12-05 01:50|cache|0.99|✅|\n",
    "|two_auctions|2024-12-05 02:03|cache|15.44|✅|\n",
    "|uncertainty_traps|2024-12-05 02:03|cache|2.46|✅|\n",
    "|util_rand_resp|2024-12-05 02:03|cache|2.75|✅|\n",
    "|var_dmd|2024-12-05 01:50|cache|0.99|✅|\n",
    "|von_neumann_model|2024-12-05 02:03|cache|2.31|✅|\n",
    "|wald_friedman|2024-12-05 02:03|cache|13.32|✅|\n",
    "|wealth_dynamics|2024-12-05 02:04|cache|40.31|✅|\n",
    "|zreferences|2024-12-05 01:50|cache|0.99|✅|\n",
    "\n",
    "<a id='status-machine-details'></a>\n",
    "These lectures are built on `linux` instances through `github actions`.\n",
    "\n",
    "These lectures are using the following python version"
   ]
  },
  {
   "cell_type": "code",
   "execution_count": null,
   "id": "bb3f9e7c",
   "metadata": {
    "hide-output": false
   },
   "outputs": [],
   "source": [
    "!python --version"
   ]
  },
  {
   "cell_type": "markdown",
   "id": "0cfac973",
   "metadata": {},
   "source": [
    "and the following package versions"
   ]
  },
  {
   "cell_type": "code",
   "execution_count": null,
   "id": "e2c7018d",
   "metadata": {
    "hide-output": false
   },
   "outputs": [],
   "source": [
    "!conda list"
   ]
  },
  {
   "cell_type": "markdown",
   "id": "90a02728",
   "metadata": {},
   "source": [
    "This lecture series also has access to the following GPU"
   ]
  },
  {
   "cell_type": "code",
   "execution_count": null,
   "id": "f2ac4d99",
   "metadata": {
    "hide-output": false
   },
   "outputs": [],
   "source": [
    "!nvidia-smi"
   ]
  }
 ],
 "metadata": {
  "date": 1733369123.5953183,
  "filename": "status.md",
  "kernelspec": {
   "display_name": "Python",
   "language": "python3",
   "name": "python3"
  },
  "title": "Execution Statistics"
 },
 "nbformat": 4,
 "nbformat_minor": 5
}