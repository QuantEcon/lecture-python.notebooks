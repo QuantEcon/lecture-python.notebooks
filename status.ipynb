{
 "cells": [
  {
   "cell_type": "markdown",
   "id": "3ef1c987",
   "metadata": {},
   "source": [
    "# Execution Statistics\n",
    "\n",
    "This table contains the latest execution statistics.\n",
    "\n",
    "[](https://python.quantecon.org/aiyagari.html)[](https://python.quantecon.org/ak2.html)[](https://python.quantecon.org/ak_aiyagari.html)[](https://python.quantecon.org/ar1_bayes.html)[](https://python.quantecon.org/ar1_turningpts.html)[](https://python.quantecon.org/back_prop.html)[](https://python.quantecon.org/bayes_nonconj.html)[](https://python.quantecon.org/cake_eating_numerical.html)[](https://python.quantecon.org/cake_eating_problem.html)[](https://python.quantecon.org/career.html)[](https://python.quantecon.org/cass_fiscal.html)[](https://python.quantecon.org/cass_fiscal_2.html)[](https://python.quantecon.org/cass_koopmans_1.html)[](https://python.quantecon.org/cass_koopmans_2.html)[](https://python.quantecon.org/coleman_policy_iter.html)[](https://python.quantecon.org/cross_product_trick.html)[](https://python.quantecon.org/divergence_measures.html)[](https://python.quantecon.org/egm_policy_iter.html)[](https://python.quantecon.org/eig_circulant.html)[](https://python.quantecon.org/exchangeable.html)[](https://python.quantecon.org/finite_markov.html)[](https://python.quantecon.org/ge_arrow.html)[](https://python.quantecon.org/harrison_kreps.html)[](https://python.quantecon.org/hoist_failure.html)[](https://python.quantecon.org/house_auction.html)[](https://python.quantecon.org/ifp.html)[](https://python.quantecon.org/ifp_advanced.html)[](https://python.quantecon.org/imp_sample.html)[](https://python.quantecon.org/intro.html)[](https://python.quantecon.org/inventory_dynamics.html)[](https://python.quantecon.org/jv.html)[](https://python.quantecon.org/kalman.html)[](https://python.quantecon.org/kalman_2.html)[](https://python.quantecon.org/kesten_processes.html)[](https://python.quantecon.org/lagrangian_lqdp.html)[](https://python.quantecon.org/lake_model.html)[](https://python.quantecon.org/likelihood_bayes.html)[](https://python.quantecon.org/likelihood_ratio_process.html)[](https://python.quantecon.org/likelihood_ratio_process_2.html)[](https://python.quantecon.org/likelihood_var.html)[](https://python.quantecon.org/linear_algebra.html)[](https://python.quantecon.org/linear_models.html)[](https://python.quantecon.org/lln_clt.html)[](https://python.quantecon.org/lq_inventories.html)[](https://python.quantecon.org/lqcontrol.html)[](https://python.quantecon.org/markov_asset.html)[](https://python.quantecon.org/markov_perf.html)[](https://python.quantecon.org/mccall_correlated.html)[](https://python.quantecon.org/mccall_fitted_vfi.html)[](https://python.quantecon.org/mccall_model.html)[](https://python.quantecon.org/mccall_model_with_separation.html)[](https://python.quantecon.org/mccall_q.html)[](https://python.quantecon.org/mix_model.html)[](https://python.quantecon.org/mle.html)[](https://python.quantecon.org/multi_hyper.html)[](https://python.quantecon.org/multivariate_normal.html)[](https://python.quantecon.org/navy_captain.html)[](https://python.quantecon.org/newton_method.html)[](https://python.quantecon.org/odu.html)[](https://python.quantecon.org/ols.html)[](https://python.quantecon.org/opt_transport.html)[](https://python.quantecon.org/optgrowth.html)[](https://python.quantecon.org/optgrowth_fast.html)[](https://python.quantecon.org/pandas_panel.html)[](https://python.quantecon.org/perm_income.html)[](https://python.quantecon.org/perm_income_cons.html)[](https://python.quantecon.org/prob_matrix.html)[](https://python.quantecon.org/prob_meaning.html)[](https://python.quantecon.org/qr_decomp.html)[](https://python.quantecon.org/rand_resp.html)[](https://python.quantecon.org/rational_expectations.html)[](https://python.quantecon.org/re_with_feedback.html)[](https://python.quantecon.org/samuelson.html)[](https://python.quantecon.org/sir_model.html)[](https://python.quantecon.org/stats_examples.html)[](https://python.quantecon.org/.html)[](https://python.quantecon.org/svd_intro.html)[](https://python.quantecon.org/troubleshooting.html)[](https://python.quantecon.org/two_auctions.html)[](https://python.quantecon.org/uncertainty_traps.html)[](https://python.quantecon.org/util_rand_resp.html)[](https://python.quantecon.org/var_dmd.html)[](https://python.quantecon.org/von_neumann_model.html)[](https://python.quantecon.org/wald_friedman.html)[](https://python.quantecon.org/wald_friedman_2.html)[](https://python.quantecon.org/wealth_dynamics.html)[](https://python.quantecon.org/zreferences.html)|Document|Modified|Method|Run Time (s)|Status|\n",
    "|:------------------:|:------------------:|:------------------:|:------------------:|:------------------:|\n",
    "|aiyagari|2025-09-08 03:28|cache|14.47|✅|\n",
    "|ak2|2025-09-08 03:29|cache|12.07|✅|\n",
    "|ak_aiyagari|2025-09-12 03:14|cache|47.26|✅|\n",
    "|ar1_bayes|2025-09-08 03:34|cache|348.64|✅|\n",
    "|ar1_turningpts|2025-09-08 03:35|cache|36.11|✅|\n",
    "|back_prop|2025-09-08 03:37|cache|98.19|✅|\n",
    "|bayes_nonconj|2025-09-12 03:31|cache|1038.72|✅|\n",
    "|cake_eating_numerical|2025-09-08 04:44|cache|23.25|✅|\n",
    "|cake_eating_problem|2025-09-08 04:44|cache|1.66|✅|\n",
    "|career|2025-09-08 04:44|cache|11.5|✅|\n",
    "|cass_fiscal|2025-09-08 04:45|cache|17.65|✅|\n",
    "|cass_fiscal_2|2025-09-08 04:45|cache|5.44|✅|\n",
    "|cass_koopmans_1|2025-09-08 04:45|cache|12.65|✅|\n",
    "|cass_koopmans_2|2025-09-08 04:45|cache|6.61|✅|\n",
    "|coleman_policy_iter|2025-09-08 04:45|cache|10.32|✅|\n",
    "|cross_product_trick|2025-09-08 04:45|cache|1.14|✅|\n",
    "|divergence_measures|2025-09-12 03:31|cache|12.84|✅|\n",
    "|egm_policy_iter|2025-09-08 04:46|cache|4.82|✅|\n",
    "|eig_circulant|2025-09-08 04:46|cache|6.2|✅|\n",
    "|exchangeable|2025-09-08 04:46|cache|7.73|✅|\n",
    "|finite_markov|2025-09-08 04:46|cache|6.12|✅|\n",
    "|ge_arrow|2025-09-08 04:46|cache|1.99|✅|\n",
    "|harrison_kreps|2025-09-08 04:46|cache|3.64|✅|\n",
    "|hoist_failure|2025-09-08 04:47|cache|52.39|✅|\n",
    "|house_auction|2025-09-08 04:47|cache|3.11|✅|\n",
    "|ifp|2025-09-08 04:48|cache|38.03|✅|\n",
    "|ifp_advanced|2025-09-08 04:48|cache|23.96|✅|\n",
    "|imp_sample|2025-09-12 03:35|cache|249.33|✅|\n",
    "|intro|2025-09-08 04:52|cache|0.88|✅|\n",
    "|inventory_dynamics|2025-09-08 04:52|cache|9.98|✅|\n",
    "|jv|2025-09-08 04:52|cache|15.47|✅|\n",
    "|kalman|2025-09-08 04:53|cache|8.86|✅|\n",
    "|kalman_2|2025-09-08 04:53|cache|44.38|✅|\n",
    "|kesten_processes|2025-09-08 04:54|cache|30.83|✅|\n",
    "|lagrangian_lqdp|2025-09-08 04:54|cache|27.7|✅|\n",
    "|lake_model|2025-09-08 04:55|cache|12.89|✅|\n",
    "|likelihood_bayes|2025-09-08 04:55|cache|42.08|✅|\n",
    "|likelihood_ratio_process|2025-09-12 03:36|cache|24.29|✅|\n",
    "|likelihood_ratio_process_2|2025-09-08 04:56|cache|29.41|✅|\n",
    "|likelihood_var|2025-09-08 04:56|cache|20.85|✅|\n",
    "|linear_algebra|2025-09-08 04:57|cache|2.46|✅|\n",
    "|linear_models|2025-09-08 04:57|cache|8.3|✅|\n",
    "|lln_clt|2025-09-08 04:57|cache|10.64|✅|\n",
    "|lq_inventories|2025-09-08 04:57|cache|12.54|✅|\n",
    "|lqcontrol|2025-09-08 04:57|cache|4.85|✅|\n",
    "|markov_asset|2025-09-08 04:57|cache|5.16|✅|\n",
    "|markov_perf|2025-09-08 04:57|cache|4.3|✅|\n",
    "|mccall_correlated|2025-09-08 04:59|cache|79.07|✅|\n",
    "|mccall_fitted_vfi|2025-09-08 04:59|cache|5.41|✅|\n",
    "|mccall_model|2025-09-08 04:59|cache|14.75|✅|\n",
    "|mccall_model_with_separation|2025-09-08 04:59|cache|7.29|✅|\n",
    "|mccall_q|2025-09-08 04:59|cache|17.24|✅|\n",
    "|mix_model|2025-09-08 05:01|cache|73.68|✅|\n",
    "|mle|2025-09-12 03:36|cache|9.54|✅|\n",
    "|multi_hyper|2025-09-08 05:01|cache|18.21|✅|\n",
    "|multivariate_normal|2025-09-08 05:01|cache|4.33|✅|\n",
    "|navy_captain|2025-09-08 05:02|cache|29.33|✅|\n",
    "|newton_method|2025-09-08 05:03|cache|69.76|✅|\n",
    "|odu|2025-09-08 05:04|cache|48.73|✅|\n",
    "|ols|2025-09-08 05:04|cache|9.35|✅|\n",
    "|opt_transport|2025-09-08 05:04|cache|24.98|✅|\n",
    "|optgrowth|2025-09-08 05:05|cache|63.65|✅|\n",
    "|optgrowth_fast|2025-09-08 05:05|cache|17.92|✅|\n",
    "|pandas_panel|2025-09-08 05:06|cache|4.54|✅|\n",
    "|perm_income|2025-09-08 05:06|cache|3.84|✅|\n",
    "|perm_income_cons|2025-09-08 05:06|cache|8.36|✅|\n",
    "|prob_matrix|2025-09-08 05:06|cache|9.44|✅|\n",
    "|prob_meaning|2025-09-08 05:07|cache|57.59|✅|\n",
    "|qr_decomp|2025-09-08 05:07|cache|1.23|✅|\n",
    "|rand_resp|2025-09-08 05:07|cache|2.6|✅|\n",
    "|rational_expectations|2025-09-08 05:07|cache|3.94|✅|\n",
    "|re_with_feedback|2025-09-08 05:07|cache|11.02|✅|\n",
    "|samuelson|2025-09-08 05:07|cache|12.36|✅|\n",
    "|sir_model|2025-09-08 05:07|cache|2.86|✅|\n",
    "|stats_examples|2025-09-08 05:08|cache|4.26|✅|\n",
    "|status|2025-09-08 05:08|cache|7.63|✅|\n",
    "|svd_intro|2025-09-08 05:08|cache|1.36|✅|\n",
    "|troubleshooting|2025-09-08 04:52|cache|0.88|✅|\n",
    "|two_auctions|2025-09-08 05:08|cache|24.6|✅|\n",
    "|uncertainty_traps|2025-09-08 05:08|cache|2.36|✅|\n",
    "|util_rand_resp|2025-09-08 05:08|cache|2.84|✅|\n",
    "|var_dmd|2025-09-08 04:52|cache|0.88|✅|\n",
    "|von_neumann_model|2025-09-08 05:08|cache|2.66|✅|\n",
    "|wald_friedman|2025-09-08 05:09|cache|19.92|✅|\n",
    "|wald_friedman_2|2025-09-08 05:09|cache|13.88|✅|\n",
    "|wealth_dynamics|2025-09-08 05:09|cache|31.16|✅|\n",
    "|zreferences|2025-09-08 04:52|cache|0.88|✅|\n",
    "\n",
    "<a id='status-machine-details'></a>\n",
    "These lectures are built on `linux` instances through `github actions`.\n",
    "\n",
    "These lectures are using the following python version"
   ]
  },
  {
   "cell_type": "code",
   "execution_count": null,
   "id": "e9a1c465",
   "metadata": {
    "hide-output": false
   },
   "outputs": [],
   "source": [
    "!python --version"
   ]
  },
  {
   "cell_type": "markdown",
   "id": "b62713aa",
   "metadata": {},
   "source": [
    "and the following package versions"
   ]
  },
  {
   "cell_type": "code",
   "execution_count": null,
   "id": "547f4dfe",
   "metadata": {
    "hide-output": false
   },
   "outputs": [],
   "source": [
    "!conda list"
   ]
  },
  {
   "cell_type": "markdown",
   "id": "132feee9",
   "metadata": {},
   "source": [
    "This lecture series has access to the following GPU"
   ]
  },
  {
   "cell_type": "code",
   "execution_count": null,
   "id": "7a06553b",
   "metadata": {
    "hide-output": false
   },
   "outputs": [],
   "source": [
    "!nvidia-smi"
   ]
  },
  {
   "cell_type": "markdown",
   "id": "8d47f610",
   "metadata": {},
   "source": [
    "You can check the backend used by JAX using:"
   ]
  },
  {
   "cell_type": "code",
   "execution_count": null,
   "id": "14b319e3",
   "metadata": {
    "hide-output": false
   },
   "outputs": [],
   "source": [
    "import jax\n",
    "# Check if JAX is using GPU\n",
    "print(f\"JAX backend: {jax.devices()[0].platform}\")"
   ]
  }
 ],
 "metadata": {
  "date": 1757648512.2622204,
  "filename": "status.md",
  "kernelspec": {
   "display_name": "Python",
   "language": "python3",
   "name": "python3"
  },
  "title": "Execution Statistics"
 },
 "nbformat": 4,
 "nbformat_minor": 5
}