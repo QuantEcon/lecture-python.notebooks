{
 "cells": [
  {
   "cell_type": "markdown",
   "id": "8d0c5caa",
   "metadata": {},
   "source": [
    "# Execution Statistics\n",
    "\n",
    "This table contains the latest execution statistics.\n",
    "\n",
    "[](https://python.quantecon.org/aiyagari.html)[](https://python.quantecon.org/ar1_bayes.html)[](https://python.quantecon.org/ar1_turningpts.html)[](https://python.quantecon.org/back_prop.html)[](https://python.quantecon.org/bayes_nonconj.html)[](https://python.quantecon.org/cake_eating_numerical.html)[](https://python.quantecon.org/cake_eating_problem.html)[](https://python.quantecon.org/career.html)[](https://python.quantecon.org/cass_koopmans_1.html)[](https://python.quantecon.org/cass_koopmans_2.html)[](https://python.quantecon.org/coleman_policy_iter.html)[](https://python.quantecon.org/cross_product_trick.html)[](https://python.quantecon.org/egm_policy_iter.html)[](https://python.quantecon.org/eig_circulant.html)[](https://python.quantecon.org/exchangeable.html)[](https://python.quantecon.org/finite_markov.html)[](https://python.quantecon.org/ge_arrow.html)[](https://python.quantecon.org/harrison_kreps.html)[](https://python.quantecon.org/hoist_failure.html)[](https://python.quantecon.org/house_auction.html)[](https://python.quantecon.org/ifp.html)[](https://python.quantecon.org/ifp_advanced.html)[](https://python.quantecon.org/imp_sample.html)[](https://python.quantecon.org/intro.html)[](https://python.quantecon.org/inventory_dynamics.html)[](https://python.quantecon.org/jv.html)[](https://python.quantecon.org/kalman.html)[](https://python.quantecon.org/kalman_2.html)[](https://python.quantecon.org/kesten_processes.html)[](https://python.quantecon.org/lagrangian_lqdp.html)[](https://python.quantecon.org/lake_model.html)[](https://python.quantecon.org/likelihood_bayes.html)[](https://python.quantecon.org/likelihood_ratio_process.html)[](https://python.quantecon.org/linear_algebra.html)[](https://python.quantecon.org/linear_models.html)[](https://python.quantecon.org/lln_clt.html)[](https://python.quantecon.org/lq_inventories.html)[](https://python.quantecon.org/lqcontrol.html)[](https://python.quantecon.org/markov_asset.html)[](https://python.quantecon.org/markov_perf.html)[](https://python.quantecon.org/mccall_correlated.html)[](https://python.quantecon.org/mccall_fitted_vfi.html)[](https://python.quantecon.org/mccall_model.html)[](https://python.quantecon.org/mccall_model_with_separation.html)[](https://python.quantecon.org/mccall_q.html)[](https://python.quantecon.org/mix_model.html)[](https://python.quantecon.org/mle.html)[](https://python.quantecon.org/multi_hyper.html)[](https://python.quantecon.org/multivariate_normal.html)[](https://python.quantecon.org/navy_captain.html)[](https://python.quantecon.org/newton_method.html)[](https://python.quantecon.org/odu.html)[](https://python.quantecon.org/ols.html)[](https://python.quantecon.org/opt_transport.html)[](https://python.quantecon.org/optgrowth.html)[](https://python.quantecon.org/optgrowth_fast.html)[](https://python.quantecon.org/pandas_panel.html)[](https://python.quantecon.org/perm_income.html)[](https://python.quantecon.org/perm_income_cons.html)[](https://python.quantecon.org/prob_matrix.html)[](https://python.quantecon.org/prob_meaning.html)[](https://python.quantecon.org/qr_decomp.html)[](https://python.quantecon.org/rand_resp.html)[](https://python.quantecon.org/rational_expectations.html)[](https://python.quantecon.org/re_with_feedback.html)[](https://python.quantecon.org/samuelson.html)[](https://python.quantecon.org/sir_model.html)[](https://python.quantecon.org/.html)[](https://python.quantecon.org/svd_intro.html)[](https://python.quantecon.org/troubleshooting.html)[](https://python.quantecon.org/two_auctions.html)[](https://python.quantecon.org/uncertainty_traps.html)[](https://python.quantecon.org/util_rand_resp.html)[](https://python.quantecon.org/var_dmd.html)[](https://python.quantecon.org/von_neumann_model.html)[](https://python.quantecon.org/wald_friedman.html)[](https://python.quantecon.org/wealth_dynamics.html)[](https://python.quantecon.org/zreferences.html)|Document|Modified|Method|Run Time (s)|Status|\n",
    "|:------------------:|:------------------:|:------------------:|:------------------:|:------------------:|\n",
    "|aiyagari|2024-04-29 22:59|cache|26.24|✅|\n",
    "|ar1_bayes|2024-04-29 23:06|cache|407.78|✅|\n",
    "|ar1_turningpts|2024-04-29 23:06|cache|43.41|✅|\n",
    "|back_prop|2024-04-29 23:07|cache|65.17|✅|\n",
    "|bayes_nonconj|2024-04-30 00:15|cache|4031.25|✅|\n",
    "|cake_eating_numerical|2024-04-30 00:15|cache|27.83|✅|\n",
    "|cake_eating_problem|2024-04-30 00:15|cache|2.18|✅|\n",
    "|career|2024-04-30 00:15|cache|17.43|✅|\n",
    "|cass_koopmans_1|2024-04-30 00:16|cache|10.17|✅|\n",
    "|cass_koopmans_2|2024-04-30 00:16|cache|8.72|✅|\n",
    "|coleman_policy_iter|2024-04-30 00:16|cache|17.32|✅|\n",
    "|cross_product_trick|2024-04-30 00:16|cache|1.05|✅|\n",
    "|egm_policy_iter|2024-04-30 00:16|cache|6.54|✅|\n",
    "|eig_circulant|2024-04-30 00:16|cache|4.83|✅|\n",
    "|exchangeable|2024-04-30 00:16|cache|10.37|✅|\n",
    "|finite_markov|2024-04-30 00:17|cache|10.86|✅|\n",
    "|ge_arrow|2024-04-30 00:17|cache|2.43|✅|\n",
    "|harrison_kreps|2024-04-30 00:17|cache|7.74|✅|\n",
    "|hoist_failure|2024-04-30 00:18|cache|76.53|✅|\n",
    "|house_auction|2024-04-30 00:18|cache|6.89|✅|\n",
    "|ifp|2024-04-30 00:19|cache|48.72|✅|\n",
    "|ifp_advanced|2024-04-30 00:19|cache|30.78|✅|\n",
    "|imp_sample|2024-04-30 00:24|cache|279.77|✅|\n",
    "|intro|2024-04-30 00:24|cache|4.02|✅|\n",
    "|inventory_dynamics|2024-04-30 00:24|cache|12.15|✅|\n",
    "|jv|2024-04-30 00:25|cache|19.95|✅|\n",
    "|kalman|2024-04-30 00:25|cache|11.52|✅|\n",
    "|kalman_2|2024-04-30 00:26|cache|35.19|✅|\n",
    "|kesten_processes|2024-04-30 00:26|cache|47.58|✅|\n",
    "|lagrangian_lqdp|2024-04-30 00:27|cache|20.5|✅|\n",
    "|lake_model|2024-04-30 00:27|cache|19.97|✅|\n",
    "|likelihood_bayes|2024-04-30 00:28|cache|49.8|✅|\n",
    "|likelihood_ratio_process|2024-04-30 00:28|cache|10.79|✅|\n",
    "|linear_algebra|2024-04-30 00:28|cache|2.85|✅|\n",
    "|linear_models|2024-04-30 00:28|cache|11.05|✅|\n",
    "|lln_clt|2024-04-30 00:29|cache|13.96|✅|\n",
    "|lq_inventories|2024-04-30 00:29|cache|20.38|✅|\n",
    "|lqcontrol|2024-04-30 00:29|cache|9.43|✅|\n",
    "|markov_asset|2024-04-30 00:29|cache|9.94|✅|\n",
    "|markov_perf|2024-04-30 00:29|cache|8.76|✅|\n",
    "|mccall_correlated|2024-04-30 00:31|cache|90.58|✅|\n",
    "|mccall_fitted_vfi|2024-04-30 00:31|cache|12.41|✅|\n",
    "|mccall_model|2024-04-30 00:31|cache|19.69|✅|\n",
    "|mccall_model_with_separation|2024-04-30 00:32|cache|11.8|✅|\n",
    "|mccall_q|2024-04-30 00:32|cache|24.58|✅|\n",
    "|mix_model|2024-04-30 00:33|cache|35.12|✅|\n",
    "|mle|2024-04-30 00:33|cache|5.7|✅|\n",
    "|multi_hyper|2024-04-30 00:33|cache|25.28|✅|\n",
    "|multivariate_normal|2024-04-30 00:33|cache|5.59|✅|\n",
    "|navy_captain|2024-04-30 00:34|cache|34.93|✅|\n",
    "|newton_method|2024-04-30 00:35|cache|86.8|✅|\n",
    "|odu|2024-04-30 00:36|cache|65.96|✅|\n",
    "|ols|2024-04-30 00:37|cache|15.36|✅|\n",
    "|opt_transport|2024-04-30 00:37|cache|27.16|✅|\n",
    "|optgrowth|2024-04-30 00:38|cache|80.91|✅|\n",
    "|optgrowth_fast|2024-04-30 00:39|cache|26.98|✅|\n",
    "|pandas_panel|2024-04-30 00:39|cache|5.75|✅|\n",
    "|perm_income|2024-04-30 00:39|cache|4.77|✅|\n",
    "|perm_income_cons|2024-04-30 00:39|cache|10.81|✅|\n",
    "|prob_matrix|2024-04-30 00:40|cache|16.38|✅|\n",
    "|prob_meaning|2024-04-30 00:41|cache|75.45|✅|\n",
    "|qr_decomp|2024-04-30 00:41|cache|1.55|✅|\n",
    "|rand_resp|2024-04-30 00:41|cache|3.27|✅|\n",
    "|rational_expectations|2024-04-30 00:41|cache|7.76|✅|\n",
    "|re_with_feedback|2024-04-30 00:41|cache|12.69|✅|\n",
    "|samuelson|2024-04-30 00:42|cache|16.93|✅|\n",
    "|sir_model|2024-04-30 00:42|cache|3.61|✅|\n",
    "|status|2024-04-30 00:42|cache|9.27|✅|\n",
    "|svd_intro|2024-04-30 00:42|cache|1.81|✅|\n",
    "|troubleshooting|2024-04-30 00:24|cache|4.02|✅|\n",
    "|two_auctions|2024-04-30 00:42|cache|20.61|✅|\n",
    "|uncertainty_traps|2024-04-30 00:42|cache|3.29|✅|\n",
    "|util_rand_resp|2024-04-30 00:42|cache|3.51|✅|\n",
    "|var_dmd|2024-04-30 00:24|cache|4.02|✅|\n",
    "|von_neumann_model|2024-04-30 00:42|cache|2.68|✅|\n",
    "|wald_friedman|2024-04-30 00:43|cache|17.67|✅|\n",
    "|wealth_dynamics|2024-04-30 00:43|cache|42.21|✅|\n",
    "|zreferences|2024-04-30 00:24|cache|4.02|✅|\n",
    "\n",
    "<a id='status-machine-details'></a>\n",
    "These lectures are built on `linux` instances through `github actions`.\n",
    "\n",
    "These lectures are using the following python version"
   ]
  },
  {
   "cell_type": "code",
   "execution_count": null,
   "id": "3b5b539c",
   "metadata": {
    "hide-output": false
   },
   "outputs": [],
   "source": [
    "!python --version"
   ]
  },
  {
   "cell_type": "markdown",
   "id": "198b5bf5",
   "metadata": {},
   "source": [
    "and the following package versions"
   ]
  },
  {
   "cell_type": "code",
   "execution_count": null,
   "id": "2f817c47",
   "metadata": {
    "hide-output": false
   },
   "outputs": [],
   "source": [
    "!conda list"
   ]
  }
 ],
 "metadata": {
  "date": 1714442510.132321,
  "filename": "status.md",
  "kernelspec": {
   "display_name": "Python",
   "language": "python3",
   "name": "python3"
  },
  "title": "Execution Statistics"
 },
 "nbformat": 4,
 "nbformat_minor": 5
}