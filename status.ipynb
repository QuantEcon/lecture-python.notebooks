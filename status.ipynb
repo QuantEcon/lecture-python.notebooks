{
 "cells": [
  {
   "cell_type": "markdown",
   "id": "4aeca1b3",
   "metadata": {},
   "source": [
    "# Execution Statistics\n",
    "\n",
    "This table contains the latest execution statistics.\n",
    "\n",
    "[](https://python.quantecon.org/aiyagari.html)[](https://python.quantecon.org/ak2.html)[](https://python.quantecon.org/ar1_bayes.html)[](https://python.quantecon.org/ar1_turningpts.html)[](https://python.quantecon.org/back_prop.html)[](https://python.quantecon.org/bayes_nonconj.html)[](https://python.quantecon.org/cake_eating_numerical.html)[](https://python.quantecon.org/cake_eating_problem.html)[](https://python.quantecon.org/career.html)[](https://python.quantecon.org/cass_fiscal.html)[](https://python.quantecon.org/cass_fiscal_2.html)[](https://python.quantecon.org/cass_koopmans_1.html)[](https://python.quantecon.org/cass_koopmans_2.html)[](https://python.quantecon.org/coleman_policy_iter.html)[](https://python.quantecon.org/cross_product_trick.html)[](https://python.quantecon.org/egm_policy_iter.html)[](https://python.quantecon.org/eig_circulant.html)[](https://python.quantecon.org/exchangeable.html)[](https://python.quantecon.org/finite_markov.html)[](https://python.quantecon.org/ge_arrow.html)[](https://python.quantecon.org/harrison_kreps.html)[](https://python.quantecon.org/hoist_failure.html)[](https://python.quantecon.org/house_auction.html)[](https://python.quantecon.org/ifp.html)[](https://python.quantecon.org/ifp_advanced.html)[](https://python.quantecon.org/imp_sample.html)[](https://python.quantecon.org/intro.html)[](https://python.quantecon.org/inventory_dynamics.html)[](https://python.quantecon.org/jv.html)[](https://python.quantecon.org/kalman.html)[](https://python.quantecon.org/kalman_2.html)[](https://python.quantecon.org/kesten_processes.html)[](https://python.quantecon.org/lagrangian_lqdp.html)[](https://python.quantecon.org/lake_model.html)[](https://python.quantecon.org/likelihood_bayes.html)[](https://python.quantecon.org/likelihood_ratio_process.html)[](https://python.quantecon.org/linear_algebra.html)[](https://python.quantecon.org/linear_models.html)[](https://python.quantecon.org/lln_clt.html)[](https://python.quantecon.org/lq_inventories.html)[](https://python.quantecon.org/lqcontrol.html)[](https://python.quantecon.org/markov_asset.html)[](https://python.quantecon.org/markov_perf.html)[](https://python.quantecon.org/mccall_correlated.html)[](https://python.quantecon.org/mccall_fitted_vfi.html)[](https://python.quantecon.org/mccall_model.html)[](https://python.quantecon.org/mccall_model_with_separation.html)[](https://python.quantecon.org/mccall_q.html)[](https://python.quantecon.org/mix_model.html)[](https://python.quantecon.org/mle.html)[](https://python.quantecon.org/multi_hyper.html)[](https://python.quantecon.org/multivariate_normal.html)[](https://python.quantecon.org/navy_captain.html)[](https://python.quantecon.org/newton_method.html)[](https://python.quantecon.org/odu.html)[](https://python.quantecon.org/ols.html)[](https://python.quantecon.org/opt_transport.html)[](https://python.quantecon.org/optgrowth.html)[](https://python.quantecon.org/optgrowth_fast.html)[](https://python.quantecon.org/pandas_panel.html)[](https://python.quantecon.org/perm_income.html)[](https://python.quantecon.org/perm_income_cons.html)[](https://python.quantecon.org/prob_matrix.html)[](https://python.quantecon.org/prob_meaning.html)[](https://python.quantecon.org/qr_decomp.html)[](https://python.quantecon.org/rand_resp.html)[](https://python.quantecon.org/rational_expectations.html)[](https://python.quantecon.org/re_with_feedback.html)[](https://python.quantecon.org/samuelson.html)[](https://python.quantecon.org/sir_model.html)[](https://python.quantecon.org/stats_examples.html)[](https://python.quantecon.org/.html)[](https://python.quantecon.org/svd_intro.html)[](https://python.quantecon.org/troubleshooting.html)[](https://python.quantecon.org/two_auctions.html)[](https://python.quantecon.org/uncertainty_traps.html)[](https://python.quantecon.org/util_rand_resp.html)[](https://python.quantecon.org/var_dmd.html)[](https://python.quantecon.org/von_neumann_model.html)[](https://python.quantecon.org/wald_friedman.html)[](https://python.quantecon.org/wald_friedman_2.html)[](https://python.quantecon.org/wealth_dynamics.html)[](https://python.quantecon.org/zreferences.html)|Document|Modified|Method|Run Time (s)|Status|\n",
    "|:------------------:|:------------------:|:------------------:|:------------------:|:------------------:|\n",
    "|aiyagari|2025-08-04 09:09|cache|26.78|✅|\n",
    "|ak2|2025-06-16 03:39|cache|13.41|✅|\n",
    "|ar1_bayes|2025-06-16 03:45|cache|361.48|✅|\n",
    "|ar1_turningpts|2025-06-16 03:46|cache|40.19|✅|\n",
    "|back_prop|2025-06-16 03:47|cache|85.33|✅|\n",
    "|bayes_nonconj|2025-06-16 04:55|cache|4101.08|✅|\n",
    "|cake_eating_numerical|2025-06-16 04:56|cache|23.16|✅|\n",
    "|cake_eating_problem|2025-06-16 04:56|cache|2.04|✅|\n",
    "|career|2025-06-16 04:56|cache|11.53|✅|\n",
    "|cass_fiscal|2025-08-04 09:09|cache|19.57|✅|\n",
    "|cass_fiscal_2|2025-08-04 09:09|cache|5.54|✅|\n",
    "|cass_koopmans_1|2025-08-04 09:10|cache|13.99|✅|\n",
    "|cass_koopmans_2|2025-08-04 09:10|cache|6.93|✅|\n",
    "|coleman_policy_iter|2025-08-04 09:10|cache|11.62|✅|\n",
    "|cross_product_trick|2025-06-16 04:57|cache|1.04|✅|\n",
    "|egm_policy_iter|2025-06-16 04:57|cache|5.45|✅|\n",
    "|eig_circulant|2025-06-16 04:57|cache|4.1|✅|\n",
    "|exchangeable|2025-08-04 09:10|cache|8.29|✅|\n",
    "|finite_markov|2025-08-04 09:10|cache|6.3|✅|\n",
    "|ge_arrow|2025-08-04 09:10|cache|2.16|✅|\n",
    "|harrison_kreps|2025-06-16 04:57|cache|3.75|✅|\n",
    "|hoist_failure|2025-06-16 04:58|cache|51.93|✅|\n",
    "|house_auction|2025-06-16 04:58|cache|3.12|✅|\n",
    "|ifp|2025-06-16 04:59|cache|37.25|✅|\n",
    "|ifp_advanced|2025-06-16 04:59|cache|22.28|✅|\n",
    "|imp_sample|2025-08-04 09:14|cache|251.21|✅|\n",
    "|intro|2025-06-16 05:04|cache|1.06|✅|\n",
    "|inventory_dynamics|2025-06-16 05:04|cache|9.94|✅|\n",
    "|jv|2025-08-04 09:15|cache|15.98|✅|\n",
    "|kalman|2025-06-16 05:04|cache|6.65|✅|\n",
    "|kalman_2|2025-08-04 09:15|cache|41.63|✅|\n",
    "|kesten_processes|2025-06-16 05:05|cache|31.27|✅|\n",
    "|lagrangian_lqdp|2025-06-16 05:06|cache|26.2|✅|\n",
    "|lake_model|2025-08-04 09:16|cache|13.31|✅|\n",
    "|likelihood_bayes|2025-08-04 09:16|cache|43.21|✅|\n",
    "|likelihood_ratio_process|2025-08-04 09:17|cache|49.82|✅|\n",
    "|linear_algebra|2025-06-16 05:07|cache|2.49|✅|\n",
    "|linear_models|2025-06-16 05:07|cache|6.35|✅|\n",
    "|lln_clt|2025-08-04 09:17|cache|11.12|✅|\n",
    "|lq_inventories|2025-06-16 05:07|cache|12.9|✅|\n",
    "|lqcontrol|2025-08-04 09:17|cache|5.13|✅|\n",
    "|markov_asset|2025-06-16 05:08|cache|5.52|✅|\n",
    "|markov_perf|2025-06-16 05:08|cache|4.57|✅|\n",
    "|mccall_correlated|2025-06-16 05:09|cache|77.92|✅|\n",
    "|mccall_fitted_vfi|2025-06-16 05:09|cache|10.86|✅|\n",
    "|mccall_model|2025-08-04 09:18|cache|13.01|✅|\n",
    "|mccall_model_with_separation|2025-08-04 09:18|cache|7.59|✅|\n",
    "|mccall_q|2025-08-04 09:18|cache|16.92|✅|\n",
    "|mix_model|2025-08-04 09:19|cache|74.33|✅|\n",
    "|mle|2025-08-04 09:19|cache|4.81|✅|\n",
    "|multi_hyper|2025-06-16 05:11|cache|19.96|✅|\n",
    "|multivariate_normal|2025-08-04 09:19|cache|4.79|✅|\n",
    "|navy_captain|2025-08-04 09:20|cache|28.79|✅|\n",
    "|newton_method|2025-06-16 05:13|cache|69.95|✅|\n",
    "|odu|2025-06-16 05:14|cache|52.29|✅|\n",
    "|ols|2025-06-16 05:14|cache|9.93|✅|\n",
    "|opt_transport|2025-08-04 09:20|cache|13.92|✅|\n",
    "|optgrowth|2025-06-16 05:15|cache|64.25|✅|\n",
    "|optgrowth_fast|2025-06-16 05:16|cache|20.67|✅|\n",
    "|pandas_panel|2025-06-16 05:16|cache|5.02|✅|\n",
    "|perm_income|2025-06-16 05:16|cache|4.09|✅|\n",
    "|perm_income_cons|2025-06-16 05:16|cache|6.46|✅|\n",
    "|prob_matrix|2025-08-04 09:20|cache|9.89|✅|\n",
    "|prob_meaning|2025-06-16 05:17|cache|59.08|✅|\n",
    "|qr_decomp|2025-06-16 05:17|cache|1.36|✅|\n",
    "|rand_resp|2025-06-16 05:17|cache|3.24|✅|\n",
    "|rational_expectations|2025-06-16 05:17|cache|3.99|✅|\n",
    "|re_with_feedback|2025-06-16 05:17|cache|9.47|✅|\n",
    "|samuelson|2025-06-16 05:18|cache|11.64|✅|\n",
    "|sir_model|2025-06-16 05:18|cache|3.17|✅|\n",
    "|stats_examples|2025-08-04 09:20|cache|4.52|✅|\n",
    "|status|2025-06-16 05:18|cache|8.41|✅|\n",
    "|svd_intro|2025-08-04 09:21|cache|1.68|✅|\n",
    "|troubleshooting|2025-06-16 05:04|cache|1.06|✅|\n",
    "|two_auctions|2025-06-16 05:18|cache|25.8|✅|\n",
    "|uncertainty_traps|2025-06-16 05:18|cache|2.77|✅|\n",
    "|util_rand_resp|2025-06-16 05:18|cache|2.98|✅|\n",
    "|var_dmd|2025-06-16 05:04|cache|1.06|✅|\n",
    "|von_neumann_model|2025-08-04 09:21|cache|2.31|✅|\n",
    "|wald_friedman|2025-08-04 09:21|cache|14.36|✅|\n",
    "|wald_friedman_2|2025-08-04 09:21|cache|14.59|✅|\n",
    "|wealth_dynamics|2025-06-16 05:19|cache|30.45|✅|\n",
    "|zreferences|2025-06-16 05:04|cache|1.06|✅|\n",
    "\n",
    "<a id='status-machine-details'></a>\n",
    "These lectures are built on `linux` instances through `github actions`.\n",
    "\n",
    "These lectures are using the following python version"
   ]
  },
  {
   "cell_type": "code",
   "execution_count": null,
   "id": "a1403e27",
   "metadata": {
    "hide-output": false
   },
   "outputs": [],
   "source": [
    "!python --version"
   ]
  },
  {
   "cell_type": "markdown",
   "id": "8d8b4b47",
   "metadata": {},
   "source": [
    "and the following package versions"
   ]
  },
  {
   "cell_type": "code",
   "execution_count": null,
   "id": "aaf56a02",
   "metadata": {
    "hide-output": false
   },
   "outputs": [],
   "source": [
    "!conda list"
   ]
  },
  {
   "cell_type": "markdown",
   "id": "8fdf13f1",
   "metadata": {},
   "source": [
    "You can check the backend used by JAX using:"
   ]
  },
  {
   "cell_type": "code",
   "execution_count": null,
   "id": "21357ff0",
   "metadata": {
    "hide-output": false
   },
   "outputs": [],
   "source": [
    "import jax\n",
    "# Check if JAX is using GPU\n",
    "print(f\"JAX backend: {jax.devices()[0].platform}\")"
   ]
  },
  {
   "cell_type": "markdown",
   "id": "dcee311d",
   "metadata": {},
   "source": [
    "and this lecture series also has access to the following GPU"
   ]
  },
  {
   "cell_type": "code",
   "execution_count": null,
   "id": "ad4d86d8",
   "metadata": {
    "hide-output": false
   },
   "outputs": [],
   "source": [
    "!nvidia-smi"
   ]
  }
 ],
 "metadata": {
  "date": 1754299595.1173434,
  "filename": "status.md",
  "kernelspec": {
   "display_name": "Python",
   "language": "python3",
   "name": "python3"
  },
  "title": "Execution Statistics"
 },
 "nbformat": 4,
 "nbformat_minor": 5
}