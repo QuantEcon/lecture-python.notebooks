{
 "cells": [
  {
   "cell_type": "markdown",
   "id": "76d443e3",
   "metadata": {},
   "source": [
    "# Execution Statistics\n",
    "\n",
    "This table contains the latest execution statistics.\n",
    "\n",
    "[](https://python.quantecon.org/aiyagari.html)[](https://python.quantecon.org/ak2.html)[](https://python.quantecon.org/ar1_bayes.html)[](https://python.quantecon.org/ar1_turningpts.html)[](https://python.quantecon.org/back_prop.html)[](https://python.quantecon.org/bayes_nonconj.html)[](https://python.quantecon.org/cake_eating_numerical.html)[](https://python.quantecon.org/cake_eating_problem.html)[](https://python.quantecon.org/career.html)[](https://python.quantecon.org/cass_fiscal.html)[](https://python.quantecon.org/cass_koopmans_1.html)[](https://python.quantecon.org/cass_koopmans_2.html)[](https://python.quantecon.org/coleman_policy_iter.html)[](https://python.quantecon.org/cross_product_trick.html)[](https://python.quantecon.org/egm_policy_iter.html)[](https://python.quantecon.org/eig_circulant.html)[](https://python.quantecon.org/exchangeable.html)[](https://python.quantecon.org/finite_markov.html)[](https://python.quantecon.org/ge_arrow.html)[](https://python.quantecon.org/harrison_kreps.html)[](https://python.quantecon.org/hoist_failure.html)[](https://python.quantecon.org/house_auction.html)[](https://python.quantecon.org/ifp.html)[](https://python.quantecon.org/ifp_advanced.html)[](https://python.quantecon.org/imp_sample.html)[](https://python.quantecon.org/intro.html)[](https://python.quantecon.org/inventory_dynamics.html)[](https://python.quantecon.org/jv.html)[](https://python.quantecon.org/kalman.html)[](https://python.quantecon.org/kalman_2.html)[](https://python.quantecon.org/kesten_processes.html)[](https://python.quantecon.org/lagrangian_lqdp.html)[](https://python.quantecon.org/lake_model.html)[](https://python.quantecon.org/likelihood_bayes.html)[](https://python.quantecon.org/likelihood_ratio_process.html)[](https://python.quantecon.org/linear_algebra.html)[](https://python.quantecon.org/linear_models.html)[](https://python.quantecon.org/lln_clt.html)[](https://python.quantecon.org/lq_inventories.html)[](https://python.quantecon.org/lqcontrol.html)[](https://python.quantecon.org/markov_asset.html)[](https://python.quantecon.org/markov_perf.html)[](https://python.quantecon.org/mccall_correlated.html)[](https://python.quantecon.org/mccall_fitted_vfi.html)[](https://python.quantecon.org/mccall_model.html)[](https://python.quantecon.org/mccall_model_with_separation.html)[](https://python.quantecon.org/mccall_q.html)[](https://python.quantecon.org/mix_model.html)[](https://python.quantecon.org/mle.html)[](https://python.quantecon.org/multi_hyper.html)[](https://python.quantecon.org/multivariate_normal.html)[](https://python.quantecon.org/navy_captain.html)[](https://python.quantecon.org/newton_method.html)[](https://python.quantecon.org/odu.html)[](https://python.quantecon.org/ols.html)[](https://python.quantecon.org/opt_transport.html)[](https://python.quantecon.org/optgrowth.html)[](https://python.quantecon.org/optgrowth_fast.html)[](https://python.quantecon.org/pandas_panel.html)[](https://python.quantecon.org/perm_income.html)[](https://python.quantecon.org/perm_income_cons.html)[](https://python.quantecon.org/prob_matrix.html)[](https://python.quantecon.org/prob_meaning.html)[](https://python.quantecon.org/qr_decomp.html)[](https://python.quantecon.org/rand_resp.html)[](https://python.quantecon.org/rational_expectations.html)[](https://python.quantecon.org/re_with_feedback.html)[](https://python.quantecon.org/samuelson.html)[](https://python.quantecon.org/sir_model.html)[](https://python.quantecon.org/.html)[](https://python.quantecon.org/svd_intro.html)[](https://python.quantecon.org/troubleshooting.html)[](https://python.quantecon.org/two_auctions.html)[](https://python.quantecon.org/uncertainty_traps.html)[](https://python.quantecon.org/util_rand_resp.html)[](https://python.quantecon.org/var_dmd.html)[](https://python.quantecon.org/von_neumann_model.html)[](https://python.quantecon.org/wald_friedman.html)[](https://python.quantecon.org/wealth_dynamics.html)[](https://python.quantecon.org/zreferences.html)|Document|Modified|Method|Run Time (s)|Status|\n",
    "|:------------------:|:------------------:|:------------------:|:------------------:|:------------------:|\n",
    "|aiyagari|2025-05-26 03:33|cache|21.9|✅|\n",
    "|ak2|2025-05-26 03:33|cache|12.87|✅|\n",
    "|ar1_bayes|2025-05-26 03:39|cache|368.97|✅|\n",
    "|ar1_turningpts|2025-05-26 03:40|cache|38.23|✅|\n",
    "|back_prop|2025-05-26 03:41|cache|80.31|✅|\n",
    "|bayes_nonconj|2025-05-26 04:50|cache|4148.98|✅|\n",
    "|cake_eating_numerical|2025-05-26 04:51|cache|22.61|✅|\n",
    "|cake_eating_problem|2025-05-26 04:51|cache|1.97|✅|\n",
    "|career|2025-05-26 04:51|cache|11.86|✅|\n",
    "|cass_fiscal|2025-05-30 01:39|cache|28.81|✅|\n",
    "|cass_koopmans_1|2025-05-26 04:51|cache|12.35|✅|\n",
    "|cass_koopmans_2|2025-05-26 04:51|cache|7.08|✅|\n",
    "|coleman_policy_iter|2025-05-26 04:52|cache|12.12|✅|\n",
    "|cross_product_trick|2025-05-26 04:52|cache|1.11|✅|\n",
    "|egm_policy_iter|2025-05-26 04:52|cache|5.8|✅|\n",
    "|eig_circulant|2025-05-26 04:52|cache|4.32|✅|\n",
    "|exchangeable|2025-05-26 04:52|cache|8.6|✅|\n",
    "|finite_markov|2025-05-26 04:52|cache|6.49|✅|\n",
    "|ge_arrow|2025-05-26 04:52|cache|1.97|✅|\n",
    "|harrison_kreps|2025-05-26 04:52|cache|3.89|✅|\n",
    "|hoist_failure|2025-05-26 04:53|cache|53.12|✅|\n",
    "|house_auction|2025-05-26 04:53|cache|3.4|✅|\n",
    "|ifp|2025-05-26 04:54|cache|37.42|✅|\n",
    "|ifp_advanced|2025-05-26 04:54|cache|22.18|✅|\n",
    "|imp_sample|2025-05-26 04:58|cache|250.65|✅|\n",
    "|intro|2025-05-26 04:58|cache|1.02|✅|\n",
    "|inventory_dynamics|2025-05-26 04:59|cache|10.17|✅|\n",
    "|jv|2025-05-26 04:59|cache|16.13|✅|\n",
    "|kalman|2025-05-26 04:59|cache|6.87|✅|\n",
    "|kalman_2|2025-05-26 05:00|cache|41.62|✅|\n",
    "|kesten_processes|2025-05-26 05:00|cache|31.22|✅|\n",
    "|lagrangian_lqdp|2025-05-26 05:01|cache|26.41|✅|\n",
    "|lake_model|2025-05-26 05:01|cache|13.33|✅|\n",
    "|likelihood_bayes|2025-05-26 05:02|cache|42.84|✅|\n",
    "|likelihood_ratio_process|2025-05-26 05:02|cache|8.75|✅|\n",
    "|linear_algebra|2025-05-26 05:02|cache|2.52|✅|\n",
    "|linear_models|2025-05-26 05:02|cache|6.46|✅|\n",
    "|lln_clt|2025-05-26 05:02|cache|11.27|✅|\n",
    "|lq_inventories|2025-05-26 05:02|cache|13.15|✅|\n",
    "|lqcontrol|2025-05-26 05:02|cache|5.09|✅|\n",
    "|markov_asset|2025-05-26 05:02|cache|5.7|✅|\n",
    "|markov_perf|2025-05-26 05:03|cache|4.52|✅|\n",
    "|mccall_correlated|2025-05-26 05:04|cache|78.9|✅|\n",
    "|mccall_fitted_vfi|2025-05-26 05:04|cache|11.21|✅|\n",
    "|mccall_model|2025-05-26 05:04|cache|13.68|✅|\n",
    "|mccall_model_with_separation|2025-05-26 05:04|cache|7.0|✅|\n",
    "|mccall_q|2025-05-26 05:05|cache|17.08|✅|\n",
    "|mix_model|2025-05-26 05:06|cache|64.25|✅|\n",
    "|mle|2025-05-26 05:06|cache|5.3|✅|\n",
    "|multi_hyper|2025-05-26 05:06|cache|20.17|✅|\n",
    "|multivariate_normal|2025-05-26 05:06|cache|4.88|✅|\n",
    "|navy_captain|2025-05-26 05:07|cache|29.22|✅|\n",
    "|newton_method|2025-05-26 05:08|cache|72.2|✅|\n",
    "|odu|2025-05-26 05:09|cache|51.37|✅|\n",
    "|ols|2025-05-26 05:09|cache|9.88|✅|\n",
    "|opt_transport|2025-05-26 05:09|cache|15.25|✅|\n",
    "|optgrowth|2025-05-26 05:10|cache|62.86|✅|\n",
    "|optgrowth_fast|2025-05-26 05:11|cache|19.84|✅|\n",
    "|pandas_panel|2025-05-26 05:11|cache|4.73|✅|\n",
    "|perm_income|2025-05-26 05:11|cache|3.98|✅|\n",
    "|perm_income_cons|2025-05-26 05:11|cache|5.94|✅|\n",
    "|prob_matrix|2025-05-26 05:11|cache|11.4|✅|\n",
    "|prob_meaning|2025-05-26 05:12|cache|58.2|✅|\n",
    "|qr_decomp|2025-05-26 05:12|cache|1.42|✅|\n",
    "|rand_resp|2025-05-26 05:12|cache|3.24|✅|\n",
    "|rational_expectations|2025-05-26 05:12|cache|4.12|✅|\n",
    "|re_with_feedback|2025-05-26 05:12|cache|9.36|✅|\n",
    "|samuelson|2025-05-26 05:13|cache|11.21|✅|\n",
    "|sir_model|2025-05-26 05:13|cache|3.08|✅|\n",
    "|status|2025-05-26 05:13|cache|8.38|✅|\n",
    "|svd_intro|2025-05-26 05:13|cache|1.7|✅|\n",
    "|troubleshooting|2025-05-26 04:58|cache|1.02|✅|\n",
    "|two_auctions|2025-05-26 05:13|cache|24.96|✅|\n",
    "|uncertainty_traps|2025-05-26 05:13|cache|2.67|✅|\n",
    "|util_rand_resp|2025-05-26 05:13|cache|2.96|✅|\n",
    "|var_dmd|2025-05-26 04:58|cache|1.02|✅|\n",
    "|von_neumann_model|2025-05-26 05:13|cache|2.42|✅|\n",
    "|wald_friedman|2025-05-26 05:14|cache|14.91|✅|\n",
    "|wealth_dynamics|2025-05-26 05:14|cache|29.97|✅|\n",
    "|zreferences|2025-05-26 04:58|cache|1.02|✅|\n",
    "\n",
    "<a id='status-machine-details'></a>\n",
    "These lectures are built on `linux` instances through `github actions`.\n",
    "\n",
    "These lectures are using the following python version"
   ]
  },
  {
   "cell_type": "code",
   "execution_count": null,
   "id": "361b9b7b",
   "metadata": {
    "hide-output": false
   },
   "outputs": [],
   "source": [
    "!python --version"
   ]
  },
  {
   "cell_type": "markdown",
   "id": "aecdd642",
   "metadata": {},
   "source": [
    "and the following package versions"
   ]
  },
  {
   "cell_type": "code",
   "execution_count": null,
   "id": "572707a8",
   "metadata": {
    "hide-output": false
   },
   "outputs": [],
   "source": [
    "!conda list"
   ]
  },
  {
   "cell_type": "markdown",
   "id": "d16d0031",
   "metadata": {},
   "source": [
    "You can check the backend used by JAX using:"
   ]
  },
  {
   "cell_type": "code",
   "execution_count": null,
   "id": "ce9a7a64",
   "metadata": {
    "hide-output": false
   },
   "outputs": [],
   "source": [
    "import jax\n",
    "# Check if JAX is using GPU\n",
    "print(f\"JAX backend: {jax.devices()[0].platform}\")"
   ]
  },
  {
   "cell_type": "markdown",
   "id": "ccb65315",
   "metadata": {},
   "source": [
    "and this lecture series also has access to the following GPU"
   ]
  },
  {
   "cell_type": "code",
   "execution_count": null,
   "id": "0a9410ed",
   "metadata": {
    "hide-output": false
   },
   "outputs": [],
   "source": [
    "!nvidia-smi"
   ]
  }
 ],
 "metadata": {
  "date": 1748569461.947427,
  "filename": "status.md",
  "kernelspec": {
   "display_name": "Python",
   "language": "python3",
   "name": "python3"
  },
  "title": "Execution Statistics"
 },
 "nbformat": 4,
 "nbformat_minor": 5
}