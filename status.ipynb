{
 "cells": [
  {
   "cell_type": "markdown",
   "id": "6c4eff16",
   "metadata": {},
   "source": [
    "# Execution Statistics\n",
    "\n",
    "This table contains the latest execution statistics.\n",
    "\n",
    "[](https://python.quantecon.org/aiyagari.html)[](https://python.quantecon.org/ak2.html)[](https://python.quantecon.org/ar1_bayes.html)[](https://python.quantecon.org/ar1_turningpts.html)[](https://python.quantecon.org/back_prop.html)[](https://python.quantecon.org/bayes_nonconj.html)[](https://python.quantecon.org/cake_eating_numerical.html)[](https://python.quantecon.org/cake_eating_problem.html)[](https://python.quantecon.org/career.html)[](https://python.quantecon.org/cass_fiscal.html)[](https://python.quantecon.org/cass_koopmans_1.html)[](https://python.quantecon.org/cass_koopmans_2.html)[](https://python.quantecon.org/coleman_policy_iter.html)[](https://python.quantecon.org/cross_product_trick.html)[](https://python.quantecon.org/egm_policy_iter.html)[](https://python.quantecon.org/eig_circulant.html)[](https://python.quantecon.org/exchangeable.html)[](https://python.quantecon.org/finite_markov.html)[](https://python.quantecon.org/ge_arrow.html)[](https://python.quantecon.org/harrison_kreps.html)[](https://python.quantecon.org/hoist_failure.html)[](https://python.quantecon.org/house_auction.html)[](https://python.quantecon.org/ifp.html)[](https://python.quantecon.org/ifp_advanced.html)[](https://python.quantecon.org/imp_sample.html)[](https://python.quantecon.org/intro.html)[](https://python.quantecon.org/inventory_dynamics.html)[](https://python.quantecon.org/jv.html)[](https://python.quantecon.org/kalman.html)[](https://python.quantecon.org/kalman_2.html)[](https://python.quantecon.org/kesten_processes.html)[](https://python.quantecon.org/lagrangian_lqdp.html)[](https://python.quantecon.org/lake_model.html)[](https://python.quantecon.org/likelihood_bayes.html)[](https://python.quantecon.org/likelihood_ratio_process.html)[](https://python.quantecon.org/linear_algebra.html)[](https://python.quantecon.org/linear_models.html)[](https://python.quantecon.org/lln_clt.html)[](https://python.quantecon.org/lq_inventories.html)[](https://python.quantecon.org/lqcontrol.html)[](https://python.quantecon.org/markov_asset.html)[](https://python.quantecon.org/markov_perf.html)[](https://python.quantecon.org/mccall_correlated.html)[](https://python.quantecon.org/mccall_fitted_vfi.html)[](https://python.quantecon.org/mccall_model.html)[](https://python.quantecon.org/mccall_model_with_separation.html)[](https://python.quantecon.org/mccall_q.html)[](https://python.quantecon.org/mix_model.html)[](https://python.quantecon.org/mle.html)[](https://python.quantecon.org/multi_hyper.html)[](https://python.quantecon.org/multivariate_normal.html)[](https://python.quantecon.org/navy_captain.html)[](https://python.quantecon.org/newton_method.html)[](https://python.quantecon.org/odu.html)[](https://python.quantecon.org/ols.html)[](https://python.quantecon.org/opt_transport.html)[](https://python.quantecon.org/optgrowth.html)[](https://python.quantecon.org/optgrowth_fast.html)[](https://python.quantecon.org/pandas_panel.html)[](https://python.quantecon.org/perm_income.html)[](https://python.quantecon.org/perm_income_cons.html)[](https://python.quantecon.org/prob_matrix.html)[](https://python.quantecon.org/prob_meaning.html)[](https://python.quantecon.org/qr_decomp.html)[](https://python.quantecon.org/rand_resp.html)[](https://python.quantecon.org/rational_expectations.html)[](https://python.quantecon.org/re_with_feedback.html)[](https://python.quantecon.org/samuelson.html)[](https://python.quantecon.org/sir_model.html)[](https://python.quantecon.org/.html)[](https://python.quantecon.org/svd_intro.html)[](https://python.quantecon.org/troubleshooting.html)[](https://python.quantecon.org/two_auctions.html)[](https://python.quantecon.org/uncertainty_traps.html)[](https://python.quantecon.org/util_rand_resp.html)[](https://python.quantecon.org/var_dmd.html)[](https://python.quantecon.org/von_neumann_model.html)[](https://python.quantecon.org/wald_friedman.html)[](https://python.quantecon.org/wealth_dynamics.html)[](https://python.quantecon.org/zreferences.html)|Document|Modified|Method|Run Time (s)|Status|\n",
    "|:------------------:|:------------------:|:------------------:|:------------------:|:------------------:|\n",
    "|aiyagari|2025-05-19 03:34|cache|22.05|✅|\n",
    "|ak2|2025-05-19 03:34|cache|13.08|✅|\n",
    "|ar1_bayes|2025-05-19 03:40|cache|372.09|✅|\n",
    "|ar1_turningpts|2025-05-19 03:41|cache|39.75|✅|\n",
    "|back_prop|2025-05-19 06:01|cache|86.96|✅|\n",
    "|bayes_nonconj|2025-05-19 04:54|cache|4310.11|✅|\n",
    "|cake_eating_numerical|2025-05-19 04:55|cache|22.06|✅|\n",
    "|cake_eating_problem|2025-05-19 04:55|cache|2.04|✅|\n",
    "|career|2025-05-19 04:55|cache|11.86|✅|\n",
    "|cass_fiscal|2025-05-19 06:01|cache|16.59|✅|\n",
    "|cass_koopmans_1|2025-05-19 04:55|cache|11.98|✅|\n",
    "|cass_koopmans_2|2025-05-19 04:55|cache|7.31|✅|\n",
    "|coleman_policy_iter|2025-05-19 04:56|cache|11.95|✅|\n",
    "|cross_product_trick|2025-05-19 04:56|cache|0.96|✅|\n",
    "|egm_policy_iter|2025-05-19 04:56|cache|5.88|✅|\n",
    "|eig_circulant|2025-05-19 04:56|cache|4.23|✅|\n",
    "|exchangeable|2025-05-19 04:56|cache|8.9|✅|\n",
    "|finite_markov|2025-05-19 04:56|cache|6.36|✅|\n",
    "|ge_arrow|2025-05-19 04:56|cache|2.12|✅|\n",
    "|harrison_kreps|2025-05-19 04:56|cache|3.91|✅|\n",
    "|hoist_failure|2025-05-19 04:57|cache|52.1|✅|\n",
    "|house_auction|2025-05-19 04:57|cache|3.26|✅|\n",
    "|ifp|2025-05-19 04:58|cache|37.6|✅|\n",
    "|ifp_advanced|2025-05-19 04:58|cache|22.46|✅|\n",
    "|imp_sample|2025-05-19 05:02|cache|249.57|✅|\n",
    "|intro|2025-05-19 05:02|cache|1.13|✅|\n",
    "|inventory_dynamics|2025-05-19 05:02|cache|10.24|✅|\n",
    "|jv|2025-05-19 05:03|cache|15.93|✅|\n",
    "|kalman|2025-05-19 06:01|cache|9.08|✅|\n",
    "|kalman_2|2025-05-19 06:02|cache|42.11|✅|\n",
    "|kesten_processes|2025-05-19 06:03|cache|31.22|✅|\n",
    "|lagrangian_lqdp|2025-05-19 05:04|cache|25.81|✅|\n",
    "|lake_model|2025-05-19 05:05|cache|13.27|✅|\n",
    "|likelihood_bayes|2025-05-19 05:05|cache|42.73|✅|\n",
    "|likelihood_ratio_process|2025-05-19 05:06|cache|8.71|✅|\n",
    "|linear_algebra|2025-05-19 05:06|cache|2.46|✅|\n",
    "|linear_models|2025-05-19 06:03|cache|6.14|✅|\n",
    "|lln_clt|2025-05-19 05:06|cache|10.99|✅|\n",
    "|lq_inventories|2025-05-19 05:06|cache|12.57|✅|\n",
    "|lqcontrol|2025-05-19 05:06|cache|4.97|✅|\n",
    "|markov_asset|2025-05-19 05:06|cache|5.38|✅|\n",
    "|markov_perf|2025-05-19 06:03|cache|4.51|✅|\n",
    "|mccall_correlated|2025-05-19 05:08|cache|76.24|✅|\n",
    "|mccall_fitted_vfi|2025-05-19 05:08|cache|10.93|✅|\n",
    "|mccall_model|2025-05-19 05:08|cache|13.48|✅|\n",
    "|mccall_model_with_separation|2025-05-19 05:08|cache|6.55|✅|\n",
    "|mccall_q|2025-05-19 05:08|cache|16.72|✅|\n",
    "|mix_model|2025-05-19 05:09|cache|64.44|✅|\n",
    "|mle|2025-05-19 05:10|cache|5.23|✅|\n",
    "|multi_hyper|2025-05-19 05:10|cache|19.84|✅|\n",
    "|multivariate_normal|2025-05-19 05:10|cache|4.83|✅|\n",
    "|navy_captain|2025-05-19 05:10|cache|29.2|✅|\n",
    "|newton_method|2025-05-19 05:12|cache|71.14|✅|\n",
    "|odu|2025-05-19 05:13|cache|52.5|✅|\n",
    "|ols|2025-05-19 05:13|cache|9.7|✅|\n",
    "|opt_transport|2025-05-19 05:13|cache|15.35|✅|\n",
    "|optgrowth|2025-05-19 05:14|cache|64.56|✅|\n",
    "|optgrowth_fast|2025-05-19 05:14|cache|20.34|✅|\n",
    "|pandas_panel|2025-05-19 06:03|cache|4.68|✅|\n",
    "|perm_income|2025-05-19 05:15|cache|4.08|✅|\n",
    "|perm_income_cons|2025-05-19 06:03|cache|5.82|✅|\n",
    "|prob_matrix|2025-05-19 05:15|cache|10.97|✅|\n",
    "|prob_meaning|2025-05-19 05:16|cache|57.96|✅|\n",
    "|qr_decomp|2025-05-19 05:16|cache|1.39|✅|\n",
    "|rand_resp|2025-05-19 05:16|cache|2.86|✅|\n",
    "|rational_expectations|2025-05-19 05:16|cache|3.98|✅|\n",
    "|re_with_feedback|2025-05-19 05:16|cache|9.1|✅|\n",
    "|samuelson|2025-05-19 05:16|cache|11.0|✅|\n",
    "|sir_model|2025-05-19 05:16|cache|3.19|✅|\n",
    "|status|2025-05-19 06:03|cache|8.09|✅|\n",
    "|svd_intro|2025-05-19 05:17|cache|1.59|✅|\n",
    "|troubleshooting|2025-05-19 05:02|cache|1.13|✅|\n",
    "|two_auctions|2025-05-19 05:17|cache|24.89|✅|\n",
    "|uncertainty_traps|2025-05-19 05:17|cache|2.81|✅|\n",
    "|util_rand_resp|2025-05-19 05:17|cache|3.03|✅|\n",
    "|var_dmd|2025-05-19 05:02|cache|1.13|✅|\n",
    "|von_neumann_model|2025-05-19 05:17|cache|2.58|✅|\n",
    "|wald_friedman|2025-05-19 05:17|cache|14.52|✅|\n",
    "|wealth_dynamics|2025-05-19 05:18|cache|29.73|✅|\n",
    "|zreferences|2025-05-19 05:02|cache|1.13|✅|\n",
    "\n",
    "<a id='status-machine-details'></a>\n",
    "These lectures are built on `linux` instances through `github actions`.\n",
    "\n",
    "These lectures are using the following python version"
   ]
  },
  {
   "cell_type": "code",
   "execution_count": null,
   "id": "5430da84",
   "metadata": {
    "hide-output": false
   },
   "outputs": [],
   "source": [
    "!python --version"
   ]
  },
  {
   "cell_type": "markdown",
   "id": "bedbb8a8",
   "metadata": {},
   "source": [
    "and the following package versions"
   ]
  },
  {
   "cell_type": "code",
   "execution_count": null,
   "id": "1ca6bd96",
   "metadata": {
    "hide-output": false
   },
   "outputs": [],
   "source": [
    "!conda list"
   ]
  },
  {
   "cell_type": "markdown",
   "id": "0dd0b206",
   "metadata": {},
   "source": [
    "You can check the backend used by JAX using:"
   ]
  },
  {
   "cell_type": "code",
   "execution_count": null,
   "id": "0cebe1bc",
   "metadata": {
    "hide-output": false
   },
   "outputs": [],
   "source": [
    "import jax\n",
    "# Check if JAX is using GPU\n",
    "print(f\"JAX backend: {jax.devices()[0].platform}\")"
   ]
  },
  {
   "cell_type": "markdown",
   "id": "dce47680",
   "metadata": {},
   "source": [
    "and this lecture series also has access to the following GPU"
   ]
  },
  {
   "cell_type": "code",
   "execution_count": null,
   "id": "27a88b79",
   "metadata": {
    "hide-output": false
   },
   "outputs": [],
   "source": [
    "!nvidia-smi"
   ]
  }
 ],
 "metadata": {
  "date": 1747634886.0431087,
  "filename": "status.md",
  "kernelspec": {
   "display_name": "Python",
   "language": "python3",
   "name": "python3"
  },
  "title": "Execution Statistics"
 },
 "nbformat": 4,
 "nbformat_minor": 5
}