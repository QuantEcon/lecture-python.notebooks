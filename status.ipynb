{
 "cells": [
  {
   "cell_type": "markdown",
   "id": "a247483c",
   "metadata": {},
   "source": [
    "# Execution Statistics\n",
    "\n",
    "This table contains the latest execution statistics.\n",
    "\n",
    "[](https://python.quantecon.org/aiyagari.html)[](https://python.quantecon.org/ak2.html)[](https://python.quantecon.org/ak_aiyagari.html)[](https://python.quantecon.org/ar1_bayes.html)[](https://python.quantecon.org/ar1_turningpts.html)[](https://python.quantecon.org/back_prop.html)[](https://python.quantecon.org/bayes_nonconj.html)[](https://python.quantecon.org/cake_eating_numerical.html)[](https://python.quantecon.org/cake_eating_problem.html)[](https://python.quantecon.org/career.html)[](https://python.quantecon.org/cass_fiscal.html)[](https://python.quantecon.org/cass_fiscal_2.html)[](https://python.quantecon.org/cass_koopmans_1.html)[](https://python.quantecon.org/cass_koopmans_2.html)[](https://python.quantecon.org/coleman_policy_iter.html)[](https://python.quantecon.org/cross_product_trick.html)[](https://python.quantecon.org/divergence_measures.html)[](https://python.quantecon.org/egm_policy_iter.html)[](https://python.quantecon.org/eig_circulant.html)[](https://python.quantecon.org/exchangeable.html)[](https://python.quantecon.org/finite_markov.html)[](https://python.quantecon.org/ge_arrow.html)[](https://python.quantecon.org/harrison_kreps.html)[](https://python.quantecon.org/hoist_failure.html)[](https://python.quantecon.org/house_auction.html)[](https://python.quantecon.org/ifp.html)[](https://python.quantecon.org/ifp_advanced.html)[](https://python.quantecon.org/imp_sample.html)[](https://python.quantecon.org/intro.html)[](https://python.quantecon.org/inventory_dynamics.html)[](https://python.quantecon.org/jv.html)[](https://python.quantecon.org/kalman.html)[](https://python.quantecon.org/kalman_2.html)[](https://python.quantecon.org/kesten_processes.html)[](https://python.quantecon.org/lagrangian_lqdp.html)[](https://python.quantecon.org/lake_model.html)[](https://python.quantecon.org/likelihood_bayes.html)[](https://python.quantecon.org/likelihood_ratio_process.html)[](https://python.quantecon.org/likelihood_ratio_process_2.html)[](https://python.quantecon.org/likelihood_var.html)[](https://python.quantecon.org/linear_algebra.html)[](https://python.quantecon.org/linear_models.html)[](https://python.quantecon.org/lln_clt.html)[](https://python.quantecon.org/lq_inventories.html)[](https://python.quantecon.org/lqcontrol.html)[](https://python.quantecon.org/markov_asset.html)[](https://python.quantecon.org/markov_perf.html)[](https://python.quantecon.org/mccall_correlated.html)[](https://python.quantecon.org/mccall_fitted_vfi.html)[](https://python.quantecon.org/mccall_model.html)[](https://python.quantecon.org/mccall_model_with_separation.html)[](https://python.quantecon.org/mccall_q.html)[](https://python.quantecon.org/mix_model.html)[](https://python.quantecon.org/mle.html)[](https://python.quantecon.org/multi_hyper.html)[](https://python.quantecon.org/multivariate_normal.html)[](https://python.quantecon.org/navy_captain.html)[](https://python.quantecon.org/newton_method.html)[](https://python.quantecon.org/odu.html)[](https://python.quantecon.org/ols.html)[](https://python.quantecon.org/opt_transport.html)[](https://python.quantecon.org/optgrowth.html)[](https://python.quantecon.org/optgrowth_fast.html)[](https://python.quantecon.org/pandas_panel.html)[](https://python.quantecon.org/perm_income.html)[](https://python.quantecon.org/perm_income_cons.html)[](https://python.quantecon.org/prob_matrix.html)[](https://python.quantecon.org/prob_meaning.html)[](https://python.quantecon.org/qr_decomp.html)[](https://python.quantecon.org/rand_resp.html)[](https://python.quantecon.org/rational_expectations.html)[](https://python.quantecon.org/re_with_feedback.html)[](https://python.quantecon.org/samuelson.html)[](https://python.quantecon.org/sir_model.html)[](https://python.quantecon.org/stats_examples.html)[](https://python.quantecon.org/.html)[](https://python.quantecon.org/svd_intro.html)[](https://python.quantecon.org/troubleshooting.html)[](https://python.quantecon.org/two_auctions.html)[](https://python.quantecon.org/uncertainty_traps.html)[](https://python.quantecon.org/util_rand_resp.html)[](https://python.quantecon.org/var_dmd.html)[](https://python.quantecon.org/von_neumann_model.html)[](https://python.quantecon.org/wald_friedman.html)[](https://python.quantecon.org/wald_friedman_2.html)[](https://python.quantecon.org/wealth_dynamics.html)[](https://python.quantecon.org/zreferences.html)|Document|Modified|Method|Run Time (s)|Status|\n",
    "|:------------------:|:------------------:|:------------------:|:------------------:|:------------------:|\n",
    "|aiyagari|2025-10-13 03:32|cache|72.86|✅|\n",
    "|ak2|2025-10-13 03:32|cache|12.98|✅|\n",
    "|ak_aiyagari|2025-10-13 03:32|cache|41.61|✅|\n",
    "|ar1_bayes|2025-10-13 03:38|cache|358.89|✅|\n",
    "|ar1_turningpts|2025-10-13 03:39|cache|37.61|✅|\n",
    "|back_prop|2025-10-13 03:41|cache|104.22|✅|\n",
    "|bayes_nonconj|2025-10-13 03:59|cache|1069.54|✅|\n",
    "|cake_eating_numerical|2025-10-13 03:59|cache|23.38|✅|\n",
    "|cake_eating_problem|2025-10-13 03:59|cache|1.68|✅|\n",
    "|career|2025-10-13 03:59|cache|11.32|✅|\n",
    "|cass_fiscal|2025-10-13 04:00|cache|17.88|✅|\n",
    "|cass_fiscal_2|2025-10-13 04:00|cache|5.48|✅|\n",
    "|cass_koopmans_1|2025-10-13 04:00|cache|12.9|✅|\n",
    "|cass_koopmans_2|2025-10-13 04:00|cache|6.48|✅|\n",
    "|coleman_policy_iter|2025-10-13 04:00|cache|10.12|✅|\n",
    "|cross_product_trick|2025-10-13 04:00|cache|1.0|✅|\n",
    "|divergence_measures|2025-10-13 04:00|cache|12.53|✅|\n",
    "|egm_policy_iter|2025-10-13 04:00|cache|5.02|✅|\n",
    "|eig_circulant|2025-10-13 04:01|cache|6.15|✅|\n",
    "|exchangeable|2025-10-13 04:01|cache|7.8|✅|\n",
    "|finite_markov|2025-10-13 04:01|cache|6.32|✅|\n",
    "|ge_arrow|2025-10-13 04:01|cache|1.83|✅|\n",
    "|harrison_kreps|2025-10-15 22:57|cache|6.08|✅|\n",
    "|hoist_failure|2025-10-13 04:02|cache|52.94|✅|\n",
    "|house_auction|2025-10-13 04:02|cache|2.97|✅|\n",
    "|ifp|2025-10-13 04:02|cache|36.95|✅|\n",
    "|ifp_advanced|2025-10-13 04:03|cache|24.3|✅|\n",
    "|imp_sample|2025-10-13 04:07|cache|251.53|✅|\n",
    "|intro|2025-10-13 04:07|cache|1.11|✅|\n",
    "|inventory_dynamics|2025-10-13 04:07|cache|10.32|✅|\n",
    "|jv|2025-10-13 04:08|cache|15.43|✅|\n",
    "|kalman|2025-10-13 04:08|cache|9.03|✅|\n",
    "|kalman_2|2025-10-13 04:08|cache|46.56|✅|\n",
    "|kesten_processes|2025-10-13 04:09|cache|31.04|✅|\n",
    "|lagrangian_lqdp|2025-10-13 04:09|cache|29.15|✅|\n",
    "|lake_model|2025-10-13 04:10|cache|35.27|✅|\n",
    "|likelihood_bayes|2025-10-13 04:11|cache|42.93|✅|\n",
    "|likelihood_ratio_process|2025-10-13 04:11|cache|22.7|✅|\n",
    "|likelihood_ratio_process_2|2025-10-13 04:12|cache|31.24|✅|\n",
    "|likelihood_var|2025-10-13 04:12|cache|21.27|✅|\n",
    "|linear_algebra|2025-10-13 04:12|cache|2.62|✅|\n",
    "|linear_models|2025-10-13 04:12|cache|8.47|✅|\n",
    "|lln_clt|2025-10-13 04:12|cache|10.67|✅|\n",
    "|lq_inventories|2025-10-13 04:13|cache|12.82|✅|\n",
    "|lqcontrol|2025-10-13 04:13|cache|4.78|✅|\n",
    "|markov_asset|2025-10-13 04:13|cache|5.21|✅|\n",
    "|markov_perf|2025-10-13 04:13|cache|4.4|✅|\n",
    "|mccall_correlated|2025-10-13 04:14|cache|78.61|✅|\n",
    "|mccall_fitted_vfi|2025-10-13 04:14|cache|5.5|✅|\n",
    "|mccall_model|2025-10-13 04:15|cache|15.0|✅|\n",
    "|mccall_model_with_separation|2025-10-13 04:15|cache|7.39|✅|\n",
    "|mccall_q|2025-10-13 04:15|cache|17.21|✅|\n",
    "|mix_model|2025-10-13 04:16|cache|74.62|✅|\n",
    "|mle|2025-10-13 04:16|cache|9.67|✅|\n",
    "|multi_hyper|2025-10-13 04:17|cache|18.51|✅|\n",
    "|multivariate_normal|2025-10-13 04:17|cache|4.38|✅|\n",
    "|navy_captain|2025-10-13 04:17|cache|29.12|✅|\n",
    "|newton_method|2025-10-13 04:18|cache|53.24|✅|\n",
    "|odu|2025-10-13 04:19|cache|49.68|✅|\n",
    "|ols|2025-10-13 04:19|cache|9.72|✅|\n",
    "|opt_transport|2025-10-13 04:19|cache|14.35|✅|\n",
    "|optgrowth|2025-10-13 04:20|cache|63.96|✅|\n",
    "|optgrowth_fast|2025-10-13 04:21|cache|18.26|✅|\n",
    "|pandas_panel|2025-10-13 04:21|cache|4.7|✅|\n",
    "|perm_income|2025-10-13 04:21|cache|3.72|✅|\n",
    "|perm_income_cons|2025-10-13 04:21|cache|8.1|✅|\n",
    "|prob_matrix|2025-10-13 04:21|cache|9.7|✅|\n",
    "|prob_meaning|2025-10-13 04:22|cache|57.8|✅|\n",
    "|qr_decomp|2025-10-13 04:22|cache|1.44|✅|\n",
    "|rand_resp|2025-10-13 04:22|cache|2.56|✅|\n",
    "|rational_expectations|2025-10-13 04:22|cache|3.61|✅|\n",
    "|re_with_feedback|2025-10-13 04:22|cache|11.28|✅|\n",
    "|samuelson|2025-10-13 04:23|cache|11.67|✅|\n",
    "|sir_model|2025-10-13 04:23|cache|2.91|✅|\n",
    "|stats_examples|2025-10-13 04:23|cache|4.29|✅|\n",
    "|status|2025-10-13 04:23|cache|7.91|✅|\n",
    "|svd_intro|2025-10-13 04:23|cache|1.35|✅|\n",
    "|troubleshooting|2025-10-13 04:07|cache|1.11|✅|\n",
    "|two_auctions|2025-10-13 04:23|cache|24.44|✅|\n",
    "|uncertainty_traps|2025-10-13 04:23|cache|2.52|✅|\n",
    "|util_rand_resp|2025-10-13 04:23|cache|2.99|✅|\n",
    "|var_dmd|2025-10-13 04:07|cache|1.11|✅|\n",
    "|von_neumann_model|2025-10-13 04:23|cache|2.55|✅|\n",
    "|wald_friedman|2025-10-13 04:24|cache|19.8|✅|\n",
    "|wald_friedman_2|2025-10-13 04:24|cache|14.3|✅|\n",
    "|wealth_dynamics|2025-10-13 04:25|cache|32.22|✅|\n",
    "|zreferences|2025-10-13 04:07|cache|1.11|✅|\n",
    "\n",
    "<a id='status-machine-details'></a>\n",
    "These lectures are built on `linux` instances through `github actions`.\n",
    "\n",
    "These lectures are using the following python version"
   ]
  },
  {
   "cell_type": "code",
   "execution_count": null,
   "id": "a611ba2a",
   "metadata": {
    "hide-output": false
   },
   "outputs": [],
   "source": [
    "!python --version"
   ]
  },
  {
   "cell_type": "markdown",
   "id": "b8ef5d3f",
   "metadata": {},
   "source": [
    "and the following package versions"
   ]
  },
  {
   "cell_type": "code",
   "execution_count": null,
   "id": "69f502c2",
   "metadata": {
    "hide-output": false
   },
   "outputs": [],
   "source": [
    "!conda list"
   ]
  },
  {
   "cell_type": "markdown",
   "id": "071c8992",
   "metadata": {},
   "source": [
    "This lecture series has access to the following GPU"
   ]
  },
  {
   "cell_type": "code",
   "execution_count": null,
   "id": "932edf6b",
   "metadata": {
    "hide-output": false
   },
   "outputs": [],
   "source": [
    "!nvidia-smi"
   ]
  },
  {
   "cell_type": "markdown",
   "id": "add2941b",
   "metadata": {},
   "source": [
    "You can check the backend used by JAX using:"
   ]
  },
  {
   "cell_type": "code",
   "execution_count": null,
   "id": "8ca67c01",
   "metadata": {
    "hide-output": false
   },
   "outputs": [],
   "source": [
    "import jax\n",
    "# Check if JAX is using GPU\n",
    "print(f\"JAX backend: {jax.devices()[0].platform}\")"
   ]
  }
 ],
 "metadata": {
  "date": 1760569391.265321,
  "filename": "status.md",
  "kernelspec": {
   "display_name": "Python",
   "language": "python3",
   "name": "python3"
  },
  "title": "Execution Statistics"
 },
 "nbformat": 4,
 "nbformat_minor": 5
}