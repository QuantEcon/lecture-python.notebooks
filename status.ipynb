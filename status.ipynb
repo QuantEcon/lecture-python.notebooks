{
 "cells": [
  {
   "cell_type": "markdown",
   "id": "1c40d5d5",
   "metadata": {},
   "source": [
    "# Execution Statistics\n",
    "\n",
    "This table contains the latest execution statistics.\n",
    "\n",
    "[](https://python.quantecon.org/aiyagari.html)[](https://python.quantecon.org/ak2.html)[](https://python.quantecon.org/ak_aiyagari.html)[](https://python.quantecon.org/ar1_bayes.html)[](https://python.quantecon.org/ar1_turningpts.html)[](https://python.quantecon.org/back_prop.html)[](https://python.quantecon.org/bayes_nonconj.html)[](https://python.quantecon.org/cake_eating_numerical.html)[](https://python.quantecon.org/cake_eating_problem.html)[](https://python.quantecon.org/career.html)[](https://python.quantecon.org/cass_fiscal.html)[](https://python.quantecon.org/cass_fiscal_2.html)[](https://python.quantecon.org/cass_koopmans_1.html)[](https://python.quantecon.org/cass_koopmans_2.html)[](https://python.quantecon.org/coleman_policy_iter.html)[](https://python.quantecon.org/cross_product_trick.html)[](https://python.quantecon.org/divergence_measures.html)[](https://python.quantecon.org/egm_policy_iter.html)[](https://python.quantecon.org/eig_circulant.html)[](https://python.quantecon.org/exchangeable.html)[](https://python.quantecon.org/finite_markov.html)[](https://python.quantecon.org/ge_arrow.html)[](https://python.quantecon.org/harrison_kreps.html)[](https://python.quantecon.org/hoist_failure.html)[](https://python.quantecon.org/house_auction.html)[](https://python.quantecon.org/ifp.html)[](https://python.quantecon.org/ifp_advanced.html)[](https://python.quantecon.org/imp_sample.html)[](https://python.quantecon.org/intro.html)[](https://python.quantecon.org/inventory_dynamics.html)[](https://python.quantecon.org/jv.html)[](https://python.quantecon.org/kalman.html)[](https://python.quantecon.org/kalman_2.html)[](https://python.quantecon.org/kesten_processes.html)[](https://python.quantecon.org/lagrangian_lqdp.html)[](https://python.quantecon.org/lake_model.html)[](https://python.quantecon.org/likelihood_bayes.html)[](https://python.quantecon.org/likelihood_ratio_process.html)[](https://python.quantecon.org/likelihood_ratio_process_2.html)[](https://python.quantecon.org/likelihood_var.html)[](https://python.quantecon.org/linear_algebra.html)[](https://python.quantecon.org/linear_models.html)[](https://python.quantecon.org/lln_clt.html)[](https://python.quantecon.org/lq_inventories.html)[](https://python.quantecon.org/lqcontrol.html)[](https://python.quantecon.org/markov_asset.html)[](https://python.quantecon.org/markov_perf.html)[](https://python.quantecon.org/mccall_correlated.html)[](https://python.quantecon.org/mccall_fitted_vfi.html)[](https://python.quantecon.org/mccall_model.html)[](https://python.quantecon.org/mccall_model_with_separation.html)[](https://python.quantecon.org/mccall_q.html)[](https://python.quantecon.org/mix_model.html)[](https://python.quantecon.org/mle.html)[](https://python.quantecon.org/morris_learn.html)[](https://python.quantecon.org/multi_hyper.html)[](https://python.quantecon.org/multivariate_normal.html)[](https://python.quantecon.org/navy_captain.html)[](https://python.quantecon.org/newton_method.html)[](https://python.quantecon.org/odu.html)[](https://python.quantecon.org/ols.html)[](https://python.quantecon.org/opt_transport.html)[](https://python.quantecon.org/optgrowth.html)[](https://python.quantecon.org/optgrowth_fast.html)[](https://python.quantecon.org/pandas_panel.html)[](https://python.quantecon.org/perm_income.html)[](https://python.quantecon.org/perm_income_cons.html)[](https://python.quantecon.org/prob_matrix.html)[](https://python.quantecon.org/prob_meaning.html)[](https://python.quantecon.org/qr_decomp.html)[](https://python.quantecon.org/rand_resp.html)[](https://python.quantecon.org/rational_expectations.html)[](https://python.quantecon.org/re_with_feedback.html)[](https://python.quantecon.org/samuelson.html)[](https://python.quantecon.org/sir_model.html)[](https://python.quantecon.org/stats_examples.html)[](https://python.quantecon.org/.html)[](https://python.quantecon.org/svd_intro.html)[](https://python.quantecon.org/troubleshooting.html)[](https://python.quantecon.org/two_auctions.html)[](https://python.quantecon.org/uncertainty_traps.html)[](https://python.quantecon.org/util_rand_resp.html)[](https://python.quantecon.org/var_dmd.html)[](https://python.quantecon.org/von_neumann_model.html)[](https://python.quantecon.org/wald_friedman.html)[](https://python.quantecon.org/wald_friedman_2.html)[](https://python.quantecon.org/wealth_dynamics.html)[](https://python.quantecon.org/zreferences.html)|Document|Modified|Method|Run Time (s)|Status|\n",
    "|:------------------:|:------------------:|:------------------:|:------------------:|:------------------:|\n",
    "|aiyagari|2025-10-20 03:35|cache|72.29|✅|\n",
    "|ak2|2025-10-20 03:35|cache|12.29|✅|\n",
    "|ak_aiyagari|2025-10-20 03:36|cache|40.88|✅|\n",
    "|ar1_bayes|2025-10-20 03:42|cache|340.86|✅|\n",
    "|ar1_turningpts|2025-10-20 03:42|cache|36.68|✅|\n",
    "|back_prop|2025-10-20 03:44|cache|100.42|✅|\n",
    "|bayes_nonconj|2025-10-20 04:01|cache|1055.76|✅|\n",
    "|cake_eating_numerical|2025-10-20 04:02|cache|23.18|✅|\n",
    "|cake_eating_problem|2025-10-20 04:02|cache|1.77|✅|\n",
    "|career|2025-10-20 04:02|cache|11.79|✅|\n",
    "|cass_fiscal|2025-10-20 04:02|cache|17.96|✅|\n",
    "|cass_fiscal_2|2025-10-20 04:03|cache|5.59|✅|\n",
    "|cass_koopmans_1|2025-10-20 04:03|cache|13.11|✅|\n",
    "|cass_koopmans_2|2025-10-20 04:03|cache|6.75|✅|\n",
    "|coleman_policy_iter|2025-10-20 04:03|cache|10.39|✅|\n",
    "|cross_product_trick|2025-10-20 04:03|cache|0.95|✅|\n",
    "|divergence_measures|2025-10-20 04:03|cache|12.8|✅|\n",
    "|egm_policy_iter|2025-10-20 04:03|cache|5.04|✅|\n",
    "|eig_circulant|2025-10-20 04:03|cache|6.36|✅|\n",
    "|exchangeable|2025-10-20 04:04|cache|8.32|✅|\n",
    "|finite_markov|2025-10-20 04:04|cache|6.58|✅|\n",
    "|ge_arrow|2025-10-20 04:04|cache|2.14|✅|\n",
    "|harrison_kreps|2025-10-22 04:54|cache|5.64|✅|\n",
    "|hoist_failure|2025-10-20 04:05|cache|53.05|✅|\n",
    "|house_auction|2025-10-20 04:05|cache|3.19|✅|\n",
    "|ifp|2025-10-20 04:05|cache|37.95|✅|\n",
    "|ifp_advanced|2025-10-20 04:06|cache|25.02|✅|\n",
    "|imp_sample|2025-10-20 04:10|cache|252.17|✅|\n",
    "|intro|2025-10-20 04:10|cache|0.92|✅|\n",
    "|inventory_dynamics|2025-10-20 04:10|cache|10.31|✅|\n",
    "|jv|2025-10-20 04:10|cache|15.68|✅|\n",
    "|kalman|2025-10-20 04:11|cache|9.23|✅|\n",
    "|kalman_2|2025-10-20 04:11|cache|46.9|✅|\n",
    "|kesten_processes|2025-10-20 04:12|cache|31.25|✅|\n",
    "|lagrangian_lqdp|2025-10-20 04:12|cache|28.35|✅|\n",
    "|lake_model|2025-10-20 04:13|cache|35.78|✅|\n",
    "|likelihood_bayes|2025-10-20 04:14|cache|42.93|✅|\n",
    "|likelihood_ratio_process|2025-10-20 04:14|cache|22.84|✅|\n",
    "|likelihood_ratio_process_2|2025-10-20 04:15|cache|30.72|✅|\n",
    "|likelihood_var|2025-10-20 04:15|cache|20.69|✅|\n",
    "|linear_algebra|2025-10-20 04:15|cache|2.66|✅|\n",
    "|linear_models|2025-10-20 04:15|cache|8.53|✅|\n",
    "|lln_clt|2025-10-20 04:15|cache|11.05|✅|\n",
    "|lq_inventories|2025-10-20 04:16|cache|13.04|✅|\n",
    "|lqcontrol|2025-10-20 04:16|cache|5.1|✅|\n",
    "|markov_asset|2025-10-20 04:16|cache|5.55|✅|\n",
    "|markov_perf|2025-10-20 04:16|cache|4.71|✅|\n",
    "|mccall_correlated|2025-10-20 04:17|cache|78.85|✅|\n",
    "|mccall_fitted_vfi|2025-10-20 04:17|cache|5.51|✅|\n",
    "|mccall_model|2025-10-20 04:18|cache|15.33|✅|\n",
    "|mccall_model_with_separation|2025-10-20 04:18|cache|7.52|✅|\n",
    "|mccall_q|2025-10-20 04:18|cache|17.73|✅|\n",
    "|mix_model|2025-10-20 04:19|cache|76.27|✅|\n",
    "|mle|2025-10-20 04:19|cache|10.14|✅|\n",
    "|morris_learn|2025-10-22 04:54|cache|21.79|✅|\n",
    "|multi_hyper|2025-10-20 04:20|cache|18.62|✅|\n",
    "|multivariate_normal|2025-10-20 04:20|cache|4.81|✅|\n",
    "|navy_captain|2025-10-20 04:20|cache|30.09|✅|\n",
    "|newton_method|2025-10-20 04:21|cache|53.56|✅|\n",
    "|odu|2025-10-20 04:22|cache|51.35|✅|\n",
    "|ols|2025-10-20 04:22|cache|9.83|✅|\n",
    "|opt_transport|2025-10-20 04:22|cache|16.02|✅|\n",
    "|optgrowth|2025-10-20 04:24|cache|65.29|✅|\n",
    "|optgrowth_fast|2025-10-20 04:24|cache|18.27|✅|\n",
    "|pandas_panel|2025-10-20 04:24|cache|4.82|✅|\n",
    "|perm_income|2025-10-20 04:24|cache|3.68|✅|\n",
    "|perm_income_cons|2025-10-20 04:24|cache|8.45|✅|\n",
    "|prob_matrix|2025-10-20 04:24|cache|9.72|✅|\n",
    "|prob_meaning|2025-10-20 04:25|cache|57.86|✅|\n",
    "|qr_decomp|2025-10-20 04:25|cache|1.32|✅|\n",
    "|rand_resp|2025-10-20 04:25|cache|2.99|✅|\n",
    "|rational_expectations|2025-10-20 04:25|cache|4.03|✅|\n",
    "|re_with_feedback|2025-10-20 04:26|cache|11.59|✅|\n",
    "|samuelson|2025-10-20 04:26|cache|11.89|✅|\n",
    "|sir_model|2025-10-20 04:26|cache|2.91|✅|\n",
    "|stats_examples|2025-10-20 04:26|cache|4.62|✅|\n",
    "|status|2025-10-20 04:26|cache|7.77|✅|\n",
    "|svd_intro|2025-10-20 04:26|cache|1.4|✅|\n",
    "|troubleshooting|2025-10-20 04:10|cache|0.92|✅|\n",
    "|two_auctions|2025-10-22 04:54|cache|24.86|✅|\n",
    "|uncertainty_traps|2025-10-20 04:27|cache|2.57|✅|\n",
    "|util_rand_resp|2025-10-20 04:27|cache|3.03|✅|\n",
    "|var_dmd|2025-10-20 04:10|cache|0.92|✅|\n",
    "|von_neumann_model|2025-10-20 04:27|cache|2.63|✅|\n",
    "|wald_friedman|2025-10-20 04:27|cache|20.15|✅|\n",
    "|wald_friedman_2|2025-10-20 04:27|cache|13.96|✅|\n",
    "|wealth_dynamics|2025-10-20 04:28|cache|31.98|✅|\n",
    "|zreferences|2025-10-20 04:10|cache|0.92|✅|\n",
    "\n",
    "<a id='status-machine-details'></a>\n",
    "These lectures are built on `linux` instances through `github actions`.\n",
    "\n",
    "These lectures are using the following python version"
   ]
  },
  {
   "cell_type": "code",
   "execution_count": null,
   "id": "5cdcd276",
   "metadata": {
    "hide-output": false
   },
   "outputs": [],
   "source": [
    "!python --version"
   ]
  },
  {
   "cell_type": "markdown",
   "id": "b6c46e9b",
   "metadata": {},
   "source": [
    "and the following package versions"
   ]
  },
  {
   "cell_type": "code",
   "execution_count": null,
   "id": "dc829227",
   "metadata": {
    "hide-output": false
   },
   "outputs": [],
   "source": [
    "!conda list"
   ]
  },
  {
   "cell_type": "markdown",
   "id": "1592f65a",
   "metadata": {},
   "source": [
    "This lecture series has access to the following GPU"
   ]
  },
  {
   "cell_type": "code",
   "execution_count": null,
   "id": "7353a211",
   "metadata": {
    "hide-output": false
   },
   "outputs": [],
   "source": [
    "!nvidia-smi"
   ]
  },
  {
   "cell_type": "markdown",
   "id": "afc5d30c",
   "metadata": {},
   "source": [
    "You can check the backend used by JAX using:"
   ]
  },
  {
   "cell_type": "code",
   "execution_count": null,
   "id": "392fe543",
   "metadata": {
    "hide-output": false
   },
   "outputs": [],
   "source": [
    "import jax\n",
    "# Check if JAX is using GPU\n",
    "print(f\"JAX backend: {jax.devices()[0].platform}\")"
   ]
  }
 ],
 "metadata": {
  "date": 1761109217.0830193,
  "filename": "status.md",
  "kernelspec": {
   "display_name": "Python",
   "language": "python3",
   "name": "python3"
  },
  "title": "Execution Statistics"
 },
 "nbformat": 4,
 "nbformat_minor": 5
}