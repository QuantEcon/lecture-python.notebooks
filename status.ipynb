{
 "cells": [
  {
   "cell_type": "markdown",
   "id": "0e081426",
   "metadata": {},
   "source": [
    "# Execution Statistics\n",
    "\n",
    "This table contains the latest execution statistics.\n",
    "\n",
    "[](https://python.quantecon.org/aiyagari.html)[](https://python.quantecon.org/ak2.html)[](https://python.quantecon.org/ar1_bayes.html)[](https://python.quantecon.org/ar1_turningpts.html)[](https://python.quantecon.org/back_prop.html)[](https://python.quantecon.org/bayes_nonconj.html)[](https://python.quantecon.org/cake_eating_numerical.html)[](https://python.quantecon.org/cake_eating_problem.html)[](https://python.quantecon.org/career.html)[](https://python.quantecon.org/cass_fiscal.html)[](https://python.quantecon.org/cass_koopmans_1.html)[](https://python.quantecon.org/cass_koopmans_2.html)[](https://python.quantecon.org/coleman_policy_iter.html)[](https://python.quantecon.org/cross_product_trick.html)[](https://python.quantecon.org/egm_policy_iter.html)[](https://python.quantecon.org/eig_circulant.html)[](https://python.quantecon.org/exchangeable.html)[](https://python.quantecon.org/finite_markov.html)[](https://python.quantecon.org/ge_arrow.html)[](https://python.quantecon.org/harrison_kreps.html)[](https://python.quantecon.org/hoist_failure.html)[](https://python.quantecon.org/house_auction.html)[](https://python.quantecon.org/ifp.html)[](https://python.quantecon.org/ifp_advanced.html)[](https://python.quantecon.org/imp_sample.html)[](https://python.quantecon.org/intro.html)[](https://python.quantecon.org/inventory_dynamics.html)[](https://python.quantecon.org/jv.html)[](https://python.quantecon.org/kalman.html)[](https://python.quantecon.org/kalman_2.html)[](https://python.quantecon.org/kesten_processes.html)[](https://python.quantecon.org/lagrangian_lqdp.html)[](https://python.quantecon.org/lake_model.html)[](https://python.quantecon.org/likelihood_bayes.html)[](https://python.quantecon.org/likelihood_ratio_process.html)[](https://python.quantecon.org/linear_algebra.html)[](https://python.quantecon.org/linear_models.html)[](https://python.quantecon.org/lln_clt.html)[](https://python.quantecon.org/lq_inventories.html)[](https://python.quantecon.org/lqcontrol.html)[](https://python.quantecon.org/markov_asset.html)[](https://python.quantecon.org/markov_perf.html)[](https://python.quantecon.org/mccall_correlated.html)[](https://python.quantecon.org/mccall_fitted_vfi.html)[](https://python.quantecon.org/mccall_model.html)[](https://python.quantecon.org/mccall_model_with_separation.html)[](https://python.quantecon.org/mccall_q.html)[](https://python.quantecon.org/mix_model.html)[](https://python.quantecon.org/mle.html)[](https://python.quantecon.org/multi_hyper.html)[](https://python.quantecon.org/multivariate_normal.html)[](https://python.quantecon.org/navy_captain.html)[](https://python.quantecon.org/newton_method.html)[](https://python.quantecon.org/odu.html)[](https://python.quantecon.org/ols.html)[](https://python.quantecon.org/opt_transport.html)[](https://python.quantecon.org/optgrowth.html)[](https://python.quantecon.org/optgrowth_fast.html)[](https://python.quantecon.org/pandas_panel.html)[](https://python.quantecon.org/perm_income.html)[](https://python.quantecon.org/perm_income_cons.html)[](https://python.quantecon.org/prob_matrix.html)[](https://python.quantecon.org/prob_meaning.html)[](https://python.quantecon.org/qr_decomp.html)[](https://python.quantecon.org/rand_resp.html)[](https://python.quantecon.org/rational_expectations.html)[](https://python.quantecon.org/re_with_feedback.html)[](https://python.quantecon.org/samuelson.html)[](https://python.quantecon.org/sir_model.html)[](https://python.quantecon.org/.html)[](https://python.quantecon.org/svd_intro.html)[](https://python.quantecon.org/troubleshooting.html)[](https://python.quantecon.org/two_auctions.html)[](https://python.quantecon.org/uncertainty_traps.html)[](https://python.quantecon.org/util_rand_resp.html)[](https://python.quantecon.org/var_dmd.html)[](https://python.quantecon.org/von_neumann_model.html)[](https://python.quantecon.org/wald_friedman.html)[](https://python.quantecon.org/wealth_dynamics.html)[](https://python.quantecon.org/zreferences.html)|Document|Modified|Method|Run Time (s)|Status|\n",
    "|:------------------:|:------------------:|:------------------:|:------------------:|:------------------:|\n",
    "|aiyagari|2025-04-28 03:33|cache|16.42|✅|\n",
    "|ak2|2025-04-28 03:33|cache|10.62|✅|\n",
    "|ar1_bayes|2025-04-28 03:37|cache|227.57|✅|\n",
    "|ar1_turningpts|2025-04-28 03:37|cache|18.24|✅|\n",
    "|back_prop|2025-04-28 03:38|cache|78.03|✅|\n",
    "|bayes_nonconj|2025-04-28 04:33|cache|3318.75|✅|\n",
    "|cake_eating_numerical|2025-04-28 04:34|cache|24.18|✅|\n",
    "|cake_eating_problem|2025-04-28 04:34|cache|1.86|✅|\n",
    "|career|2025-04-28 04:34|cache|10.84|✅|\n",
    "|cass_fiscal|2025-04-28 04:34|cache|12.33|✅|\n",
    "|cass_koopmans_1|2025-04-28 04:34|cache|10.16|✅|\n",
    "|cass_koopmans_2|2025-04-28 04:35|cache|6.38|✅|\n",
    "|coleman_policy_iter|2025-04-28 04:35|cache|10.16|✅|\n",
    "|cross_product_trick|2025-04-28 04:35|cache|1.13|✅|\n",
    "|egm_policy_iter|2025-04-28 04:35|cache|4.96|✅|\n",
    "|eig_circulant|2025-04-28 04:35|cache|3.51|✅|\n",
    "|exchangeable|2025-04-28 04:35|cache|7.73|✅|\n",
    "|finite_markov|2025-04-28 04:35|cache|5.96|✅|\n",
    "|ge_arrow|2025-04-28 04:35|cache|1.98|✅|\n",
    "|harrison_kreps|2025-04-28 04:35|cache|3.73|✅|\n",
    "|hoist_failure|2025-04-28 04:36|cache|35.35|✅|\n",
    "|house_auction|2025-04-28 04:36|cache|3.03|✅|\n",
    "|ifp|2025-04-28 04:37|cache|38.1|✅|\n",
    "|ifp_advanced|2025-04-28 04:37|cache|19.37|✅|\n",
    "|imp_sample|2025-04-28 04:42|cache|279.13|✅|\n",
    "|intro|2025-04-28 04:42|cache|0.93|✅|\n",
    "|inventory_dynamics|2025-04-28 04:42|cache|10.04|✅|\n",
    "|jv|2025-04-28 04:42|cache|13.67|✅|\n",
    "|kalman|2025-04-28 04:42|cache|6.14|✅|\n",
    "|kalman_2|2025-04-28 04:43|cache|34.85|✅|\n",
    "|kesten_processes|2025-04-28 04:43|cache|31.53|✅|\n",
    "|lagrangian_lqdp|2025-04-28 04:44|cache|22.55|✅|\n",
    "|lake_model|2025-04-28 04:44|cache|11.55|✅|\n",
    "|likelihood_bayes|2025-04-28 04:44|cache|39.2|✅|\n",
    "|likelihood_ratio_process|2025-04-28 04:45|cache|7.87|✅|\n",
    "|linear_algebra|2025-04-28 04:45|cache|2.44|✅|\n",
    "|linear_models|2025-04-28 04:45|cache|5.86|✅|\n",
    "|lln_clt|2025-04-28 04:45|cache|9.4|✅|\n",
    "|lq_inventories|2025-04-28 04:45|cache|11.01|✅|\n",
    "|lqcontrol|2025-04-28 04:45|cache|4.72|✅|\n",
    "|markov_asset|2025-04-28 04:45|cache|5.08|✅|\n",
    "|markov_perf|2025-04-28 04:45|cache|4.28|✅|\n",
    "|mccall_correlated|2025-04-28 04:46|cache|54.32|✅|\n",
    "|mccall_fitted_vfi|2025-04-28 04:46|cache|9.85|✅|\n",
    "|mccall_model|2025-04-28 04:47|cache|12.66|✅|\n",
    "|mccall_model_with_separation|2025-04-28 04:47|cache|6.18|✅|\n",
    "|mccall_q|2025-04-28 04:47|cache|14.25|✅|\n",
    "|mix_model|2025-04-28 04:48|cache|61.17|✅|\n",
    "|mle|2025-04-28 04:48|cache|4.73|✅|\n",
    "|multi_hyper|2025-04-28 04:48|cache|18.02|✅|\n",
    "|multivariate_normal|2025-04-28 04:48|cache|4.27|✅|\n",
    "|navy_captain|2025-04-28 04:49|cache|23.23|✅|\n",
    "|newton_method|2025-04-28 04:50|cache|91.58|✅|\n",
    "|odu|2025-04-28 04:51|cache|48.92|✅|\n",
    "|ols|2025-04-28 04:51|cache|10.49|✅|\n",
    "|opt_transport|2025-04-28 04:52|cache|13.7|✅|\n",
    "|optgrowth|2025-04-28 04:52|cache|52.9|✅|\n",
    "|optgrowth_fast|2025-04-28 04:53|cache|16.54|✅|\n",
    "|pandas_panel|2025-04-28 04:53|cache|4.56|✅|\n",
    "|perm_income|2025-04-28 04:53|cache|3.51|✅|\n",
    "|perm_income_cons|2025-04-28 04:53|cache|5.52|✅|\n",
    "|prob_matrix|2025-04-28 04:53|cache|9.74|✅|\n",
    "|prob_meaning|2025-04-28 04:54|cache|42.4|✅|\n",
    "|qr_decomp|2025-04-28 04:54|cache|1.36|✅|\n",
    "|rand_resp|2025-04-28 04:54|cache|2.61|✅|\n",
    "|rational_expectations|2025-04-28 04:54|cache|3.54|✅|\n",
    "|re_with_feedback|2025-04-28 04:54|cache|7.95|✅|\n",
    "|samuelson|2025-04-28 04:54|cache|9.35|✅|\n",
    "|sir_model|2025-04-28 04:54|cache|2.81|✅|\n",
    "|status|2025-04-28 04:54|cache|7.45|✅|\n",
    "|svd_intro|2025-04-28 04:54|cache|1.41|✅|\n",
    "|troubleshooting|2025-04-28 04:42|cache|0.93|✅|\n",
    "|two_auctions|2025-04-28 04:55|cache|20.15|✅|\n",
    "|uncertainty_traps|2025-04-28 04:55|cache|2.6|✅|\n",
    "|util_rand_resp|2025-04-28 04:55|cache|2.87|✅|\n",
    "|var_dmd|2025-04-28 04:42|cache|0.93|✅|\n",
    "|von_neumann_model|2025-04-28 04:55|cache|2.29|✅|\n",
    "|wald_friedman|2025-04-28 04:55|cache|13.01|✅|\n",
    "|wealth_dynamics|2025-04-28 04:56|cache|37.04|✅|\n",
    "|zreferences|2025-04-28 04:42|cache|0.93|✅|\n",
    "\n",
    "<a id='status-machine-details'></a>\n",
    "These lectures are built on `linux` instances through `github actions`.\n",
    "\n",
    "These lectures are using the following python version"
   ]
  },
  {
   "cell_type": "code",
   "execution_count": null,
   "id": "f6f54f00",
   "metadata": {
    "hide-output": false
   },
   "outputs": [],
   "source": [
    "!python --version"
   ]
  },
  {
   "cell_type": "markdown",
   "id": "285579bf",
   "metadata": {},
   "source": [
    "and the following package versions"
   ]
  },
  {
   "cell_type": "code",
   "execution_count": null,
   "id": "e13c9bcb",
   "metadata": {
    "hide-output": false
   },
   "outputs": [],
   "source": [
    "!conda list"
   ]
  },
  {
   "cell_type": "markdown",
   "id": "74424829",
   "metadata": {},
   "source": [
    "This lecture series also has access to the following GPU"
   ]
  },
  {
   "cell_type": "code",
   "execution_count": null,
   "id": "ee18f62b",
   "metadata": {
    "hide-output": false
   },
   "outputs": [],
   "source": [
    "!nvidia-smi"
   ]
  }
 ],
 "metadata": {
  "date": 1746081589.4613552,
  "filename": "status.md",
  "kernelspec": {
   "display_name": "Python",
   "language": "python3",
   "name": "python3"
  },
  "title": "Execution Statistics"
 },
 "nbformat": 4,
 "nbformat_minor": 5
}