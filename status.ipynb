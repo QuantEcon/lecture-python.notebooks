{
 "cells": [
  {
   "cell_type": "markdown",
   "id": "b7dcc4a6",
   "metadata": {},
   "source": [
    "# Execution Statistics\n",
    "\n",
    "This table contains the latest execution statistics.\n",
    "\n",
    "[](https://python.quantecon.org/aiyagari.html)[](https://python.quantecon.org/ak2.html)[](https://python.quantecon.org/ar1_bayes.html)[](https://python.quantecon.org/ar1_turningpts.html)[](https://python.quantecon.org/back_prop.html)[](https://python.quantecon.org/bayes_nonconj.html)[](https://python.quantecon.org/cake_eating_numerical.html)[](https://python.quantecon.org/cake_eating_problem.html)[](https://python.quantecon.org/career.html)[](https://python.quantecon.org/cass_fiscal.html)[](https://python.quantecon.org/cass_koopmans_1.html)[](https://python.quantecon.org/cass_koopmans_2.html)[](https://python.quantecon.org/coleman_policy_iter.html)[](https://python.quantecon.org/cross_product_trick.html)[](https://python.quantecon.org/egm_policy_iter.html)[](https://python.quantecon.org/eig_circulant.html)[](https://python.quantecon.org/exchangeable.html)[](https://python.quantecon.org/finite_markov.html)[](https://python.quantecon.org/ge_arrow.html)[](https://python.quantecon.org/harrison_kreps.html)[](https://python.quantecon.org/hoist_failure.html)[](https://python.quantecon.org/house_auction.html)[](https://python.quantecon.org/ifp.html)[](https://python.quantecon.org/ifp_advanced.html)[](https://python.quantecon.org/imp_sample.html)[](https://python.quantecon.org/intro.html)[](https://python.quantecon.org/inventory_dynamics.html)[](https://python.quantecon.org/jv.html)[](https://python.quantecon.org/kalman.html)[](https://python.quantecon.org/kalman_2.html)[](https://python.quantecon.org/kesten_processes.html)[](https://python.quantecon.org/lagrangian_lqdp.html)[](https://python.quantecon.org/lake_model.html)[](https://python.quantecon.org/likelihood_bayes.html)[](https://python.quantecon.org/likelihood_ratio_process.html)[](https://python.quantecon.org/linear_algebra.html)[](https://python.quantecon.org/linear_models.html)[](https://python.quantecon.org/lln_clt.html)[](https://python.quantecon.org/lq_inventories.html)[](https://python.quantecon.org/lqcontrol.html)[](https://python.quantecon.org/markov_asset.html)[](https://python.quantecon.org/markov_perf.html)[](https://python.quantecon.org/mccall_correlated.html)[](https://python.quantecon.org/mccall_fitted_vfi.html)[](https://python.quantecon.org/mccall_model.html)[](https://python.quantecon.org/mccall_model_with_separation.html)[](https://python.quantecon.org/mccall_q.html)[](https://python.quantecon.org/mix_model.html)[](https://python.quantecon.org/mle.html)[](https://python.quantecon.org/multi_hyper.html)[](https://python.quantecon.org/multivariate_normal.html)[](https://python.quantecon.org/navy_captain.html)[](https://python.quantecon.org/newton_method.html)[](https://python.quantecon.org/odu.html)[](https://python.quantecon.org/ols.html)[](https://python.quantecon.org/opt_transport.html)[](https://python.quantecon.org/optgrowth.html)[](https://python.quantecon.org/optgrowth_fast.html)[](https://python.quantecon.org/pandas_panel.html)[](https://python.quantecon.org/perm_income.html)[](https://python.quantecon.org/perm_income_cons.html)[](https://python.quantecon.org/prob_matrix.html)[](https://python.quantecon.org/prob_meaning.html)[](https://python.quantecon.org/qr_decomp.html)[](https://python.quantecon.org/rand_resp.html)[](https://python.quantecon.org/rational_expectations.html)[](https://python.quantecon.org/re_with_feedback.html)[](https://python.quantecon.org/samuelson.html)[](https://python.quantecon.org/sir_model.html)[](https://python.quantecon.org/.html)[](https://python.quantecon.org/svd_intro.html)[](https://python.quantecon.org/troubleshooting.html)[](https://python.quantecon.org/two_auctions.html)[](https://python.quantecon.org/uncertainty_traps.html)[](https://python.quantecon.org/util_rand_resp.html)[](https://python.quantecon.org/var_dmd.html)[](https://python.quantecon.org/von_neumann_model.html)[](https://python.quantecon.org/wald_friedman.html)[](https://python.quantecon.org/wealth_dynamics.html)[](https://python.quantecon.org/zreferences.html)|Document|Modified|Method|Run Time (s)|Status|\n",
    "|:------------------:|:------------------:|:------------------:|:------------------:|:------------------:|\n",
    "|aiyagari|2025-03-31 03:37|cache|17.01|✅|\n",
    "|ak2|2025-03-31 03:37|cache|10.72|✅|\n",
    "|ar1_bayes|2025-03-31 03:41|cache|228.8|✅|\n",
    "|ar1_turningpts|2025-03-31 03:41|cache|18.96|✅|\n",
    "|back_prop|2025-03-31 03:43|cache|71.54|✅|\n",
    "|bayes_nonconj|2025-03-31 04:41|cache|3479.73|✅|\n",
    "|cake_eating_numerical|2025-03-31 04:41|cache|24.23|✅|\n",
    "|cake_eating_problem|2025-03-31 04:41|cache|1.78|✅|\n",
    "|career|2025-03-31 04:41|cache|10.69|✅|\n",
    "|cass_fiscal|2025-03-31 04:41|cache|12.33|✅|\n",
    "|cass_koopmans_1|2025-03-31 04:42|cache|10.25|✅|\n",
    "|cass_koopmans_2|2025-03-31 04:42|cache|6.18|✅|\n",
    "|coleman_policy_iter|2025-03-31 04:42|cache|10.17|✅|\n",
    "|cross_product_trick|2025-03-31 04:42|cache|1.13|✅|\n",
    "|egm_policy_iter|2025-03-31 04:42|cache|5.09|✅|\n",
    "|eig_circulant|2025-03-31 04:42|cache|3.63|✅|\n",
    "|exchangeable|2025-03-31 04:42|cache|7.76|✅|\n",
    "|finite_markov|2025-03-31 04:42|cache|6.09|✅|\n",
    "|ge_arrow|2025-03-31 04:42|cache|2.08|✅|\n",
    "|harrison_kreps|2025-03-31 04:42|cache|3.84|✅|\n",
    "|hoist_failure|2025-03-31 04:43|cache|35.81|✅|\n",
    "|house_auction|2025-03-31 04:43|cache|3.12|✅|\n",
    "|ifp|2025-03-31 04:44|cache|38.83|✅|\n",
    "|ifp_advanced|2025-03-31 04:44|cache|19.46|✅|\n",
    "|imp_sample|2025-03-31 04:49|cache|294.64|✅|\n",
    "|intro|2025-03-31 04:49|cache|1.18|✅|\n",
    "|inventory_dynamics|2025-03-31 04:49|cache|9.88|✅|\n",
    "|jv|2025-03-31 04:49|cache|14.01|✅|\n",
    "|kalman|2025-03-31 04:50|cache|6.41|✅|\n",
    "|kalman_2|2025-03-31 04:50|cache|33.36|✅|\n",
    "|kesten_processes|2025-03-31 04:51|cache|30.87|✅|\n",
    "|lagrangian_lqdp|2025-03-31 04:51|cache|23.47|✅|\n",
    "|lake_model|2025-03-31 04:51|cache|11.64|✅|\n",
    "|likelihood_bayes|2025-03-31 04:52|cache|39.36|✅|\n",
    "|likelihood_ratio_process|2025-03-31 04:52|cache|7.93|✅|\n",
    "|linear_algebra|2025-03-31 04:52|cache|2.53|✅|\n",
    "|linear_models|2025-03-31 04:52|cache|5.83|✅|\n",
    "|lln_clt|2025-03-31 04:52|cache|9.68|✅|\n",
    "|lq_inventories|2025-03-31 04:52|cache|10.98|✅|\n",
    "|lqcontrol|2025-03-31 04:53|cache|4.78|✅|\n",
    "|markov_asset|2025-03-31 04:53|cache|5.05|✅|\n",
    "|markov_perf|2025-03-31 04:53|cache|4.38|✅|\n",
    "|mccall_correlated|2025-03-31 04:54|cache|54.64|✅|\n",
    "|mccall_fitted_vfi|2025-03-31 04:54|cache|9.84|✅|\n",
    "|mccall_model|2025-03-31 04:54|cache|12.6|✅|\n",
    "|mccall_model_with_separation|2025-03-31 04:54|cache|6.39|✅|\n",
    "|mccall_q|2025-03-31 04:54|cache|14.09|✅|\n",
    "|mix_model|2025-03-31 04:55|cache|59.32|✅|\n",
    "|mle|2025-03-31 04:55|cache|4.34|✅|\n",
    "|multi_hyper|2025-03-31 04:56|cache|18.01|✅|\n",
    "|multivariate_normal|2025-03-31 04:56|cache|4.4|✅|\n",
    "|navy_captain|2025-03-31 04:56|cache|23.09|✅|\n",
    "|newton_method|2025-03-31 04:58|cache|92.38|✅|\n",
    "|odu|2025-03-31 04:59|cache|49.83|✅|\n",
    "|ols|2025-03-31 04:59|cache|7.66|✅|\n",
    "|opt_transport|2025-03-31 04:59|cache|13.58|✅|\n",
    "|optgrowth|2025-03-31 05:00|cache|54.61|✅|\n",
    "|optgrowth_fast|2025-03-31 05:00|cache|16.72|✅|\n",
    "|pandas_panel|2025-03-31 05:00|cache|4.15|✅|\n",
    "|perm_income|2025-03-31 05:00|cache|3.63|✅|\n",
    "|perm_income_cons|2025-03-31 05:00|cache|5.65|✅|\n",
    "|prob_matrix|2025-03-31 05:01|cache|9.9|✅|\n",
    "|prob_meaning|2025-03-31 05:01|cache|42.58|✅|\n",
    "|qr_decomp|2025-03-31 05:01|cache|1.52|✅|\n",
    "|rand_resp|2025-03-31 05:01|cache|2.49|✅|\n",
    "|rational_expectations|2025-03-31 05:01|cache|3.74|✅|\n",
    "|re_with_feedback|2025-03-31 05:02|cache|7.94|✅|\n",
    "|samuelson|2025-03-31 05:02|cache|9.48|✅|\n",
    "|sir_model|2025-03-31 05:02|cache|2.78|✅|\n",
    "|status|2025-03-31 05:02|cache|7.22|✅|\n",
    "|svd_intro|2025-03-31 05:02|cache|1.56|✅|\n",
    "|troubleshooting|2025-03-31 04:49|cache|1.18|✅|\n",
    "|two_auctions|2025-03-31 05:02|cache|20.22|✅|\n",
    "|uncertainty_traps|2025-03-31 05:02|cache|2.41|✅|\n",
    "|util_rand_resp|2025-03-31 05:02|cache|2.92|✅|\n",
    "|var_dmd|2025-03-31 04:49|cache|1.18|✅|\n",
    "|von_neumann_model|2025-03-31 05:02|cache|2.39|✅|\n",
    "|wald_friedman|2025-03-31 05:03|cache|13.31|✅|\n",
    "|wealth_dynamics|2025-03-31 05:03|cache|37.49|✅|\n",
    "|zreferences|2025-03-31 04:49|cache|1.18|✅|\n",
    "\n",
    "<a id='status-machine-details'></a>\n",
    "These lectures are built on `linux` instances through `github actions`.\n",
    "\n",
    "These lectures are using the following python version"
   ]
  },
  {
   "cell_type": "code",
   "execution_count": null,
   "id": "e98262c5",
   "metadata": {
    "hide-output": false
   },
   "outputs": [],
   "source": [
    "!python --version"
   ]
  },
  {
   "cell_type": "markdown",
   "id": "bdbff73b",
   "metadata": {},
   "source": [
    "and the following package versions"
   ]
  },
  {
   "cell_type": "code",
   "execution_count": null,
   "id": "38cd4979",
   "metadata": {
    "hide-output": false
   },
   "outputs": [],
   "source": [
    "!conda list"
   ]
  },
  {
   "cell_type": "markdown",
   "id": "22eb3a4d",
   "metadata": {},
   "source": [
    "This lecture series also has access to the following GPU"
   ]
  },
  {
   "cell_type": "code",
   "execution_count": null,
   "id": "bae29309",
   "metadata": {
    "hide-output": false
   },
   "outputs": [],
   "source": [
    "!nvidia-smi"
   ]
  }
 ],
 "metadata": {
  "date": 1743467470.2505214,
  "filename": "status.md",
  "kernelspec": {
   "display_name": "Python",
   "language": "python3",
   "name": "python3"
  },
  "title": "Execution Statistics"
 },
 "nbformat": 4,
 "nbformat_minor": 5
}