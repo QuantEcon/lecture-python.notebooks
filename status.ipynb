{
 "cells": [
  {
   "cell_type": "markdown",
   "id": "fe247e7f",
   "metadata": {},
   "source": [
    "# Execution Statistics\n",
    "\n",
    "This table contains the latest execution statistics.\n",
    "\n",
    "[](https://python.quantecon.org/aiyagari.html)[](https://python.quantecon.org/ak2.html)[](https://python.quantecon.org/ar1_bayes.html)[](https://python.quantecon.org/ar1_turningpts.html)[](https://python.quantecon.org/back_prop.html)[](https://python.quantecon.org/bayes_nonconj.html)[](https://python.quantecon.org/cake_eating_numerical.html)[](https://python.quantecon.org/cake_eating_problem.html)[](https://python.quantecon.org/career.html)[](https://python.quantecon.org/cass_koopmans_1.html)[](https://python.quantecon.org/cass_koopmans_2.html)[](https://python.quantecon.org/coleman_policy_iter.html)[](https://python.quantecon.org/cross_product_trick.html)[](https://python.quantecon.org/egm_policy_iter.html)[](https://python.quantecon.org/eig_circulant.html)[](https://python.quantecon.org/exchangeable.html)[](https://python.quantecon.org/finite_markov.html)[](https://python.quantecon.org/ge_arrow.html)[](https://python.quantecon.org/harrison_kreps.html)[](https://python.quantecon.org/hoist_failure.html)[](https://python.quantecon.org/house_auction.html)[](https://python.quantecon.org/ifp.html)[](https://python.quantecon.org/ifp_advanced.html)[](https://python.quantecon.org/imp_sample.html)[](https://python.quantecon.org/intro.html)[](https://python.quantecon.org/inventory_dynamics.html)[](https://python.quantecon.org/jv.html)[](https://python.quantecon.org/kalman.html)[](https://python.quantecon.org/kalman_2.html)[](https://python.quantecon.org/kesten_processes.html)[](https://python.quantecon.org/lagrangian_lqdp.html)[](https://python.quantecon.org/lake_model.html)[](https://python.quantecon.org/likelihood_bayes.html)[](https://python.quantecon.org/likelihood_ratio_process.html)[](https://python.quantecon.org/linear_algebra.html)[](https://python.quantecon.org/linear_models.html)[](https://python.quantecon.org/lln_clt.html)[](https://python.quantecon.org/lq_inventories.html)[](https://python.quantecon.org/lqcontrol.html)[](https://python.quantecon.org/markov_asset.html)[](https://python.quantecon.org/markov_perf.html)[](https://python.quantecon.org/mccall_correlated.html)[](https://python.quantecon.org/mccall_fitted_vfi.html)[](https://python.quantecon.org/mccall_model.html)[](https://python.quantecon.org/mccall_model_with_separation.html)[](https://python.quantecon.org/mccall_q.html)[](https://python.quantecon.org/mix_model.html)[](https://python.quantecon.org/mle.html)[](https://python.quantecon.org/multi_hyper.html)[](https://python.quantecon.org/multivariate_normal.html)[](https://python.quantecon.org/navy_captain.html)[](https://python.quantecon.org/newton_method.html)[](https://python.quantecon.org/odu.html)[](https://python.quantecon.org/ols.html)[](https://python.quantecon.org/opt_transport.html)[](https://python.quantecon.org/optgrowth.html)[](https://python.quantecon.org/optgrowth_fast.html)[](https://python.quantecon.org/pandas_panel.html)[](https://python.quantecon.org/perm_income.html)[](https://python.quantecon.org/perm_income_cons.html)[](https://python.quantecon.org/prob_matrix.html)[](https://python.quantecon.org/prob_meaning.html)[](https://python.quantecon.org/qr_decomp.html)[](https://python.quantecon.org/rand_resp.html)[](https://python.quantecon.org/rational_expectations.html)[](https://python.quantecon.org/re_with_feedback.html)[](https://python.quantecon.org/samuelson.html)[](https://python.quantecon.org/sir_model.html)[](https://python.quantecon.org/.html)[](https://python.quantecon.org/svd_intro.html)[](https://python.quantecon.org/troubleshooting.html)[](https://python.quantecon.org/two_auctions.html)[](https://python.quantecon.org/uncertainty_traps.html)[](https://python.quantecon.org/util_rand_resp.html)[](https://python.quantecon.org/var_dmd.html)[](https://python.quantecon.org/von_neumann_model.html)[](https://python.quantecon.org/wald_friedman.html)[](https://python.quantecon.org/wealth_dynamics.html)[](https://python.quantecon.org/zreferences.html)|Document|Modified|Method|Run Time (s)|Status|\n",
    "|:------------------:|:------------------:|:------------------:|:------------------:|:------------------:|\n",
    "|aiyagari|2024-11-18 05:52|cache|15.31|✅|\n",
    "|ak2|2024-11-18 05:53|cache|10.32|✅|\n",
    "|ar1_bayes|2024-11-18 05:58|cache|335.44|✅|\n",
    "|ar1_turningpts|2024-11-18 05:59|cache|22.6|✅|\n",
    "|back_prop|2024-11-18 06:00|cache|71.63|✅|\n",
    "|bayes_nonconj|2024-11-18 06:58|cache|3507.25|✅|\n",
    "|cake_eating_numerical|2024-11-18 06:59|cache|24.75|✅|\n",
    "|cake_eating_problem|2024-11-18 06:59|cache|1.63|✅|\n",
    "|career|2024-11-18 06:59|cache|10.01|✅|\n",
    "|cass_koopmans_1|2024-11-18 06:59|cache|9.81|✅|\n",
    "|cass_koopmans_2|2024-11-18 06:59|cache|5.9|✅|\n",
    "|coleman_policy_iter|2024-11-18 06:59|cache|9.34|✅|\n",
    "|cross_product_trick|2024-11-18 06:59|cache|0.92|✅|\n",
    "|egm_policy_iter|2024-11-18 06:59|cache|4.62|✅|\n",
    "|eig_circulant|2024-11-18 06:59|cache|3.43|✅|\n",
    "|exchangeable|2024-11-18 07:00|cache|7.41|✅|\n",
    "|finite_markov|2024-11-18 07:00|cache|5.57|✅|\n",
    "|ge_arrow|2024-11-18 07:00|cache|1.78|✅|\n",
    "|harrison_kreps|2024-11-18 07:00|cache|3.37|✅|\n",
    "|hoist_failure|2024-11-18 07:00|cache|33.96|✅|\n",
    "|house_auction|2024-11-18 07:00|cache|2.45|✅|\n",
    "|ifp|2024-11-18 07:01|cache|37.87|✅|\n",
    "|ifp_advanced|2024-11-18 07:01|cache|18.81|✅|\n",
    "|imp_sample|2024-11-18 07:06|cache|279.97|✅|\n",
    "|intro|2024-11-18 07:06|cache|0.95|✅|\n",
    "|inventory_dynamics|2024-11-18 07:06|cache|9.86|✅|\n",
    "|jv|2024-11-18 07:06|cache|13.67|✅|\n",
    "|kalman|2024-11-18 07:06|cache|5.94|✅|\n",
    "|kalman_2|2024-11-18 07:07|cache|22.93|✅|\n",
    "|kesten_processes|2024-11-18 07:07|cache|31.28|✅|\n",
    "|lagrangian_lqdp|2024-11-18 07:08|cache|22.05|✅|\n",
    "|lake_model|2024-11-18 07:08|cache|11.34|✅|\n",
    "|likelihood_bayes|2024-11-18 07:09|cache|39.41|✅|\n",
    "|likelihood_ratio_process|2024-11-18 07:09|cache|7.7|✅|\n",
    "|linear_algebra|2024-11-18 07:09|cache|2.2|✅|\n",
    "|linear_models|2024-11-18 07:09|cache|5.31|✅|\n",
    "|lln_clt|2024-11-18 07:09|cache|9.54|✅|\n",
    "|lq_inventories|2024-11-18 07:09|cache|10.38|✅|\n",
    "|lqcontrol|2024-11-18 07:09|cache|4.23|✅|\n",
    "|markov_asset|2024-11-18 07:09|cache|4.59|✅|\n",
    "|markov_perf|2024-11-18 07:09|cache|3.81|✅|\n",
    "|mccall_correlated|2024-11-18 07:10|cache|53.76|✅|\n",
    "|mccall_fitted_vfi|2024-11-18 07:10|cache|9.18|✅|\n",
    "|mccall_model|2024-11-18 07:11|cache|12.23|✅|\n",
    "|mccall_model_with_separation|2024-11-18 07:11|cache|5.75|✅|\n",
    "|mccall_q|2024-11-18 07:11|cache|13.6|✅|\n",
    "|mix_model|2024-11-18 07:12|cache|62.18|✅|\n",
    "|mle|2024-11-18 07:12|cache|4.26|✅|\n",
    "|multi_hyper|2024-11-18 07:12|cache|17.46|✅|\n",
    "|multivariate_normal|2024-11-18 07:12|cache|4.23|✅|\n",
    "|navy_captain|2024-11-18 07:13|cache|22.96|✅|\n",
    "|newton_method|2024-11-18 07:14|cache|88.91|✅|\n",
    "|odu|2024-11-18 07:15|cache|47.2|✅|\n",
    "|ols|2024-11-18 07:15|cache|7.34|✅|\n",
    "|opt_transport|2024-11-18 07:15|cache|12.57|✅|\n",
    "|optgrowth|2024-11-18 07:16|cache|52.04|✅|\n",
    "|optgrowth_fast|2024-11-18 07:17|cache|16.11|✅|\n",
    "|pandas_panel|2024-11-18 07:17|cache|4.0|✅|\n",
    "|perm_income|2024-11-18 07:17|cache|3.33|✅|\n",
    "|perm_income_cons|2024-11-18 07:17|cache|5.12|✅|\n",
    "|prob_matrix|2024-11-18 07:17|cache|9.39|✅|\n",
    "|prob_meaning|2024-11-18 07:18|cache|40.91|✅|\n",
    "|qr_decomp|2024-11-18 07:18|cache|1.26|✅|\n",
    "|rand_resp|2024-11-18 07:18|cache|2.31|✅|\n",
    "|rational_expectations|2024-11-18 07:18|cache|3.17|✅|\n",
    "|re_with_feedback|2024-11-18 07:18|cache|6.49|✅|\n",
    "|samuelson|2024-11-18 07:18|cache|8.64|✅|\n",
    "|sir_model|2024-11-18 07:18|cache|2.73|✅|\n",
    "|status|2024-11-18 07:18|cache|6.07|✅|\n",
    "|svd_intro|2024-11-18 07:18|cache|1.35|✅|\n",
    "|troubleshooting|2024-11-18 07:06|cache|0.95|✅|\n",
    "|two_auctions|2024-11-18 07:18|cache|14.49|✅|\n",
    "|uncertainty_traps|2024-11-18 07:19|cache|2.4|✅|\n",
    "|util_rand_resp|2024-11-18 07:19|cache|2.59|✅|\n",
    "|var_dmd|2024-11-18 07:06|cache|0.95|✅|\n",
    "|von_neumann_model|2024-11-18 07:19|cache|2.2|✅|\n",
    "|wald_friedman|2024-11-18 07:19|cache|12.61|✅|\n",
    "|wealth_dynamics|2024-11-18 07:19|cache|39.51|✅|\n",
    "|zreferences|2024-11-18 07:06|cache|0.95|✅|\n",
    "\n",
    "<a id='status-machine-details'></a>\n",
    "These lectures are built on `linux` instances through `github actions`.\n",
    "\n",
    "These lectures are using the following python version"
   ]
  },
  {
   "cell_type": "code",
   "execution_count": null,
   "id": "de13d3bb",
   "metadata": {
    "hide-output": false
   },
   "outputs": [],
   "source": [
    "!python --version"
   ]
  },
  {
   "cell_type": "markdown",
   "id": "3657f315",
   "metadata": {},
   "source": [
    "and the following package versions"
   ]
  },
  {
   "cell_type": "code",
   "execution_count": null,
   "id": "1cb2a473",
   "metadata": {
    "hide-output": false
   },
   "outputs": [],
   "source": [
    "!conda list"
   ]
  }
 ],
 "metadata": {
  "date": 1731921902.85248,
  "filename": "status.md",
  "kernelspec": {
   "display_name": "Python",
   "language": "python3",
   "name": "python3"
  },
  "title": "Execution Statistics"
 },
 "nbformat": 4,
 "nbformat_minor": 5
}