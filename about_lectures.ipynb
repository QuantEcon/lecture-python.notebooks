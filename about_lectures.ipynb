{
 "cells": [
  {
   "cell_type": "markdown",
   "metadata": {},
   "source": [
    "\n",
    "<a id='about-lectures'></a>\n",
    "<div id=\"qe-notebook-header\" align=\"right\" style=\"text-align:right;\">\n",
    "        <a href=\"https://quantecon.org/\" title=\"quantecon.org\">\n",
    "                <img style=\"width:250px;display:inline;\" width=\"250px\" src=\"https://assets.quantecon.org/img/qe-menubar-logo.svg\" alt=\"QuantEcon\">\n",
    "        </a>\n",
    "</div>"
   ]
  },
  {
   "cell_type": "markdown",
   "metadata": {},
   "source": [
    "# About these Lectures\n",
    "\n",
    "This is one of a series of online texts on modern quantitative\n",
    "economics and programming with Python. This is the second text\n",
    "in the series, which focuses on introductory material.\n",
    "\n",
    "For an overview of the series, see [this page](https://quantecon.org/python-lectures/)"
   ]
  }
 ],
 "metadata": {
  "date": 1614914733.782547,
  "filename": "about_lectures.rst",
  "kernelspec": {
   "display_name": "Python",
   "language": "python3",
   "name": "python3"
  },
  "next_doc": {
   "link": "index_tools_and_techniques",
   "title": "Tools and Techniques"
  },
  "prev_doc": {
   "link": "index_toc",
   "title": "Table of Contents"
  },
  "title": "About these Lectures"
 },
 "nbformat": 4,
 "nbformat_minor": 2
}