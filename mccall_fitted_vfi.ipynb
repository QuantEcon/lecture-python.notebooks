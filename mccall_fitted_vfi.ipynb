{
 "cells": [
  {
   "cell_type": "markdown",
   "id": "7b5839ea",
   "metadata": {},
   "source": [
    "<div id=\"qe-notebook-header\" align=\"right\" style=\"text-align:right;\">\n",
    "        <a href=\"https://quantecon.org/\" title=\"quantecon.org\">\n",
    "                <img style=\"width:250px;display:inline;\" width=\"250px\" src=\"https://assets.quantecon.org/img/qe-menubar-logo.svg\" alt=\"QuantEcon\">\n",
    "        </a>\n",
    "</div>"
   ]
  },
  {
   "cell_type": "markdown",
   "id": "4fe3d16e",
   "metadata": {},
   "source": [
    "# Job Search III: Fitted Value Function Iteration"
   ]
  },
  {
   "cell_type": "markdown",
   "id": "c78ec42e",
   "metadata": {},
   "source": [
    "## Contents\n",
    "\n",
    "- [Job Search III: Fitted Value Function Iteration](#Job-Search-III:-Fitted-Value-Function-Iteration)  \n",
    "  - [Overview](#Overview)  \n",
    "  - [The algorithm](#The-algorithm)  \n",
    "  - [Implementation](#Implementation)  \n",
    "  - [Exercises](#Exercises)  "
   ]
  },
  {
   "cell_type": "markdown",
   "id": "5663e409",
   "metadata": {},
   "source": [
    "## Overview\n",
    "\n",
    "In this lecture we again study the [McCall job search model with separation](https://python.quantecon.org/mccall_model_with_separation.html), but now with a continuous wage distribution.\n",
    "\n",
    "While we already considered continuous wage distributions briefly in the\n",
    "exercises of the [first job search lecture](https://python.quantecon.org/mccall_model.html),\n",
    "the change was relatively trivial in that case.\n",
    "\n",
    "This is because we were able to reduce the problem to solving for a single\n",
    "scalar value (the continuation value).\n",
    "\n",
    "Here, with separation, the change is less trivial, since a continuous wage distribution leads to an uncountably infinite state space.\n",
    "\n",
    "The infinite state space leads to additional challenges, particularly when it\n",
    "comes to applying value function iteration (VFI).\n",
    "\n",
    "These challenges will lead us to modify VFI by adding an interpolation step.\n",
    "\n",
    "The combination of VFI and this interpolation step is called **fitted value function iteration** (fitted VFI).\n",
    "\n",
    "Fitted VFI is very common in practice, so we will take some time to work through the details.\n",
    "\n",
    "We will use the following imports:"
   ]
  },
  {
   "cell_type": "code",
   "execution_count": null,
   "id": "a5632de4",
   "metadata": {
    "hide-output": false
   },
   "outputs": [],
   "source": [
    "import matplotlib.pyplot as plt\n",
    "import jax\n",
    "import jax.numpy as jnp\n",
    "from typing import NamedTuple\n",
    "import quantecon as qe\n",
    "\n",
    "# Set JAX to use CPU\n",
    "jax.config.update('jax_platform_name', 'cpu')"
   ]
  },
  {
   "cell_type": "markdown",
   "id": "286dbc07",
   "metadata": {},
   "source": [
    "## The algorithm\n",
    "\n",
    "The model is the same as the McCall model with job separation that we [studied before](https://python.quantecon.org/mccall_model_with_separation.html), except that the wage offer distribution is continuous.\n",
    "\n",
    "We are going to start with the two Bellman equations we obtained for the model with job separation after [a simplifying transformation](https://python.quantecon.org/mccall_model_with_separation.html#ast-mcm).\n",
    "\n",
    "Modified to accommodate continuous wage draws, they take the following form:\n",
    "\n",
    "\n",
    "<a id='equation-bell1mcmc'></a>\n",
    "$$\n",
    "d = \\int \\max \\left\\{ v(w'), \\,  u(c) + \\beta d \\right\\} q(w') d w' \\tag{44.1}\n",
    "$$\n",
    "\n",
    "and\n",
    "\n",
    "\n",
    "<a id='equation-bell2mcmc'></a>\n",
    "$$\n",
    "v(w) = u(w) + \\beta\n",
    "    \\left[\n",
    "        (1-\\alpha)v(w) + \\alpha d\n",
    "    \\right] \\tag{44.2}\n",
    "$$\n",
    "\n",
    "The unknowns here are the function $ v $ and the scalar $ d $.\n",
    "\n",
    "The differences between these and the pair of Bellman equations we previously worked on are\n",
    "\n",
    "1. In [(44.1)](#equation-bell1mcmc), what used to be a sum over a finite number of wage values is an integral over an infinite set.  \n",
    "1. The function $ v $ in [(44.2)](#equation-bell2mcmc) is defined over all $ w \\in \\mathbb R_+ $.  \n",
    "\n",
    "\n",
    "The function $ q $ in [(44.1)](#equation-bell1mcmc) is the density of the wage offer distribution.\n",
    "\n",
    "Its support is taken as equal to $ \\mathbb R_+ $."
   ]
  },
  {
   "cell_type": "markdown",
   "id": "6c38ee5a",
   "metadata": {},
   "source": [
    "### Value function iteration\n",
    "\n",
    "In theory, we should now proceed as follows:\n",
    "\n",
    "1. Begin with a guess $ v, d $ for the solutions to [(44.1)](#equation-bell1mcmc)–[(44.2)](#equation-bell2mcmc).  \n",
    "1. Plug $ v, d $ into the right hand side of [(44.1)](#equation-bell1mcmc)–[(44.2)](#equation-bell2mcmc) and\n",
    "  compute the left hand side to obtain updates $ v', d' $  \n",
    "1. Unless some stopping condition is satisfied, set $ (v, d) = (v', d') $\n",
    "  and go to step 2.  \n",
    "\n",
    "\n",
    "However, there is a problem we must confront before we implement this procedure:\n",
    "The iterates of the value function can neither be calculated exactly nor stored on a computer.\n",
    "\n",
    "To see the issue, consider [(44.2)](#equation-bell2mcmc).\n",
    "\n",
    "Even if $ v $ is a known function, the only way to store its update $ v' $\n",
    "is to record its value $ v'(w) $ for every $ w \\in \\mathbb R_+ $.\n",
    "\n",
    "Clearly, this is impossible."
   ]
  },
  {
   "cell_type": "markdown",
   "id": "151965ce",
   "metadata": {},
   "source": [
    "### Fitted value function iteration\n",
    "\n",
    "What we will do instead is use **fitted value function iteration**.\n",
    "\n",
    "The procedure is as follows:\n",
    "\n",
    "Let a current guess $ v $ be given.\n",
    "\n",
    "Now we record the value of the function $ v' $ at only\n",
    "finitely many “grid” points $ w_1 < w_2 < \\cdots < w_I $ and then reconstruct $ v' $ from this information when required.\n",
    "\n",
    "More precisely, the algorithm will be\n",
    "\n",
    "\n",
    "<a id='fvi-alg'></a>\n",
    "1. Begin with an array $ \\mathbf v $ representing the values of an initial guess of the value function on some grid points $ \\{w_i\\} $.  \n",
    "1. Build a function $ v $ on the state space $ \\mathbb R_+ $ by interpolation or approximation, based on $ \\mathbf v $ and $ \\{ w_i\\} $.  \n",
    "1. Obtain and record the samples of the updated function $ v'(w_i) $ on each grid point $ w_i $.  \n",
    "1. Unless some stopping condition is satisfied, take this as the new array and go to step 1.  \n",
    "\n",
    "\n",
    "How should we go about step 2?\n",
    "\n",
    "This is a problem of function approximation, and there are many ways to approach it.\n",
    "\n",
    "What’s important here is that the function approximation scheme must not only\n",
    "produce a good approximation to each $ v $, but also that it combines well with the broader iteration algorithm described above.\n",
    "\n",
    "One good choice from both respects is continuous piecewise linear interpolation.\n",
    "\n",
    "This method\n",
    "\n",
    "1. combines well with value function iteration (see, e.g.,\n",
    "  [[Gordon, 1995](https://python.quantecon.org/zreferences.html#id58)] or [[Stachurski, 2008](https://python.quantecon.org/zreferences.html#id57)]) and  \n",
    "1. preserves useful shape properties such as monotonicity and concavity/convexity.  \n",
    "\n",
    "\n",
    "Linear interpolation will be implemented using JAX’s interpolation function `jnp.interp`.\n",
    "\n",
    "The next figure illustrates piecewise linear interpolation of an arbitrary\n",
    "function on grid points $ 0, 0.2, 0.4, 0.6, 0.8, 1 $."
   ]
  },
  {
   "cell_type": "code",
   "execution_count": null,
   "id": "c26a65f7",
   "metadata": {
    "hide-output": false
   },
   "outputs": [],
   "source": [
    "def f(x):\n",
    "    y1 = 2 * jnp.cos(6 * x) + jnp.sin(14 * x)\n",
    "    return y1 + 2.5\n",
    "\n",
    "c_grid = jnp.linspace(0, 1, 6)\n",
    "f_grid = jnp.linspace(0, 1, 150)\n",
    "\n",
    "def Af(x):\n",
    "    return jnp.interp(x, c_grid, f(c_grid))\n",
    "\n",
    "fig, ax = plt.subplots()\n",
    "\n",
    "ax.plot(f_grid, f(f_grid), 'b-', label='true function')\n",
    "ax.plot(f_grid, Af(f_grid), 'g-', label='linear approximation')\n",
    "ax.vlines(c_grid, c_grid * 0, f(c_grid), linestyle='dashed', alpha=0.5)\n",
    "\n",
    "ax.legend(loc=\"upper center\")\n",
    "\n",
    "ax.set(xlim=(0, 1), ylim=(0, 6))\n",
    "plt.show()"
   ]
  },
  {
   "cell_type": "markdown",
   "id": "6d717394",
   "metadata": {},
   "source": [
    "## Implementation\n",
    "\n",
    "The first step is to build a JAX-compatible structure for the McCall model with separation and a continuous wage offer distribution.\n",
    "\n",
    "We will take the utility function to be the log function for this application, with $ u(c) = \\ln c $.\n",
    "\n",
    "We will adopt the lognormal distribution for wages, with $ w = \\exp(\\mu + \\sigma z) $\n",
    "when $ z $ is standard normal and $ \\mu, \\sigma $ are parameters."
   ]
  },
  {
   "cell_type": "code",
   "execution_count": null,
   "id": "aa9fe43f",
   "metadata": {
    "hide-output": false
   },
   "outputs": [],
   "source": [
    "def lognormal_draws(n=1000, μ=2.5, σ=0.5, seed=1234):\n",
    "    key = jax.random.PRNGKey(seed)\n",
    "    z = jax.random.normal(key, (n,))\n",
    "    w_draws = jnp.exp(μ + σ * z)\n",
    "    return w_draws"
   ]
  },
  {
   "cell_type": "markdown",
   "id": "50d65f8f",
   "metadata": {},
   "source": [
    "Here’s our model structure using a NamedTuple."
   ]
  },
  {
   "cell_type": "code",
   "execution_count": null,
   "id": "47bdaff4",
   "metadata": {
    "hide-output": false
   },
   "outputs": [],
   "source": [
    "class McCallModelContinuous(NamedTuple):\n",
    "    c: float              # unemployment compensation\n",
    "    α: float              # job separation rate\n",
    "    β: float              # discount factor\n",
    "    w_grid: jnp.ndarray   # grid of points for fitted VFI\n",
    "    w_draws: jnp.ndarray  # draws of wages for Monte Carlo\n",
    "\n",
    "def create_mccall_model(c=1,\n",
    "                        α=0.1,\n",
    "                        β=0.96,\n",
    "                        grid_min=1e-10,\n",
    "                        grid_max=5,\n",
    "                        grid_size=100,\n",
    "                        μ=2.5,\n",
    "                        σ=0.5,\n",
    "                        mc_size=1000,\n",
    "                        seed=1234,\n",
    "                        w_draws=None):\n",
    "    \"\"\"Factory function to create a McCall model instance.\"\"\"\n",
    "    if w_draws is None:\n",
    "\n",
    "        # Generate wage draws if not provided\n",
    "        w_draws = lognormal_draws(n=mc_size, μ=μ, σ=σ, seed=seed)\n",
    "\n",
    "    w_grid = jnp.linspace(grid_min, grid_max, grid_size)\n",
    "    return McCallModelContinuous(c=c, α=α, β=β, w_grid=w_grid, w_draws=w_draws)\n",
    "\n",
    "@jax.jit\n",
    "def update(model, v, d):\n",
    "    \"\"\"Update value function and continuation value.\"\"\"\n",
    "\n",
    "    # Unpack model parameters\n",
    "    c, α, β, w_grid, w_draws = model\n",
    "    u = jnp.log\n",
    "    \n",
    "    # Interpolate array represented value function\n",
    "    vf = lambda x: jnp.interp(x, w_grid, v)\n",
    "    \n",
    "    # Update d using Monte Carlo to evaluate integral\n",
    "    d_new = jnp.mean(jnp.maximum(vf(w_draws), u(c) + β * d))\n",
    "    \n",
    "    # Update v\n",
    "    v_new = u(w_grid) + β * ((1 - α) * v + α * d)\n",
    "    \n",
    "    return v_new, d_new"
   ]
  },
  {
   "cell_type": "markdown",
   "id": "0934e39c",
   "metadata": {},
   "source": [
    "We then return the current iterate as an approximate solution."
   ]
  },
  {
   "cell_type": "code",
   "execution_count": null,
   "id": "4d7b175a",
   "metadata": {
    "hide-output": false
   },
   "outputs": [],
   "source": [
    "@jax.jit\n",
    "def solve_model(model, tol=1e-5, max_iter=2000):\n",
    "    \"\"\"\n",
    "    Iterates to convergence on the Bellman equations\n",
    "\n",
    "    * model is an instance of McCallModelContinuous\n",
    "    \"\"\"\n",
    "    \n",
    "    # Initial guesses\n",
    "    v = jnp.ones_like(model.w_grid)\n",
    "    d = 1.0\n",
    "    \n",
    "    def body_fun(state):\n",
    "        v, d, i, error = state\n",
    "        v_new, d_new = update(model, v, d)\n",
    "        error_1 = jnp.max(jnp.abs(v_new - v))\n",
    "        error_2 = jnp.abs(d_new - d)\n",
    "        error = jnp.maximum(error_1, error_2)\n",
    "        return v_new, d_new, i + 1, error\n",
    "    \n",
    "    def cond_fun(state):\n",
    "        _, _, i, error = state\n",
    "        return (error > tol) & (i < max_iter)\n",
    "    \n",
    "    initial_state = (v, d, 0, tol + 1)\n",
    "    v_final, d_final, _, _ = jax.lax.while_loop(cond_fun, body_fun, initial_state)\n",
    "    \n",
    "    return v_final, d_final"
   ]
  },
  {
   "cell_type": "markdown",
   "id": "eab98448",
   "metadata": {},
   "source": [
    "Here’s a function `compute_reservation_wage` that takes an instance of `McCallModelContinuous`\n",
    "and returns the associated reservation wage.\n",
    "\n",
    "If $ v(w) < h $ for all $ w $, then the function returns `jnp.inf`"
   ]
  },
  {
   "cell_type": "code",
   "execution_count": null,
   "id": "44789688",
   "metadata": {
    "hide-output": false
   },
   "outputs": [],
   "source": [
    "@jax.jit\n",
    "def compute_reservation_wage(model):\n",
    "    \"\"\"\n",
    "    Computes the reservation wage of an instance of the McCall model\n",
    "    by finding the smallest w such that v(w) >= h.\n",
    "\n",
    "    If no such w exists, then w_bar is set to inf.\n",
    "    \"\"\"\n",
    "    c, α, β, w_grid, w_draws = model\n",
    "    u = jnp.log\n",
    "    \n",
    "    v, d = solve_model(model)\n",
    "    h = u(c) + β * d\n",
    "    \n",
    "    # Find the first wage where v(w) >= h\n",
    "    indices = jnp.where(v >= h, size=1, fill_value=-1)\n",
    "    w_bar = jnp.where(indices[0] >= 0, w_grid[indices[0]], jnp.inf)\n",
    "    \n",
    "    return w_bar"
   ]
  },
  {
   "cell_type": "markdown",
   "id": "c87da75b",
   "metadata": {},
   "source": [
    "The exercises ask you to explore the solution and how it changes with parameters."
   ]
  },
  {
   "cell_type": "markdown",
   "id": "1d95d272",
   "metadata": {},
   "source": [
    "## Exercises"
   ]
  },
  {
   "cell_type": "markdown",
   "id": "ae601ef6",
   "metadata": {},
   "source": [
    "## Exercise 44.1\n",
    "\n",
    "Use the code above to explore what happens to the reservation wage when the wage parameter $ \\mu $\n",
    "changes.\n",
    "\n",
    "Use the default parameters and $ \\mu $ in `μ_vals = jnp.linspace(0.0, 2.0, 15)`.\n",
    "\n",
    "Is the impact on the reservation wage as you expected?"
   ]
  },
  {
   "cell_type": "markdown",
   "id": "725fdd56",
   "metadata": {},
   "source": [
    "## Solution to[ Exercise 44.1](https://python.quantecon.org/#mfv_ex1)\n",
    "\n",
    "Here is one solution"
   ]
  },
  {
   "cell_type": "code",
   "execution_count": null,
   "id": "5df84953",
   "metadata": {
    "hide-output": false
   },
   "outputs": [],
   "source": [
    "def compute_res_wage_given_μ(μ):\n",
    "    model = create_mccall_model(μ=μ)\n",
    "    w_bar = compute_reservation_wage(model)\n",
    "    return w_bar\n",
    "\n",
    "μ_vals = jnp.linspace(0.0, 2.0, 15)\n",
    "w_bar_vals = jax.vmap(compute_res_wage_given_μ)(μ_vals)\n",
    "\n",
    "fig, ax = plt.subplots()\n",
    "ax.set(xlabel='mean', ylabel='reservation wage')\n",
    "ax.plot(μ_vals, w_bar_vals, label=r'$\\bar w$ as a function of $\\mu$')\n",
    "ax.legend()\n",
    "plt.show()"
   ]
  },
  {
   "cell_type": "markdown",
   "id": "27a64458",
   "metadata": {},
   "source": [
    "Not surprisingly, the agent is more inclined to wait when the distribution of\n",
    "offers shifts to the right."
   ]
  },
  {
   "cell_type": "markdown",
   "id": "0e464cda",
   "metadata": {},
   "source": [
    "## Exercise 44.2\n",
    "\n",
    "Let us now consider how the agent responds to an increase in volatility.\n",
    "\n",
    "To try to understand this, compute the reservation wage when the wage offer\n",
    "distribution is uniform on $ (m - s, m + s) $ and $ s $ varies.\n",
    "\n",
    "The idea here is that we are holding the mean constant and spreading the\n",
    "support.\n",
    "\n",
    "(This is a form of *mean-preserving spread*.)\n",
    "\n",
    "Use `s_vals = jnp.linspace(1.0, 2.0, 15)` and `m = 2.0`.\n",
    "\n",
    "State how you expect the reservation wage to vary with $ s $.\n",
    "\n",
    "Now compute it - is this as you expected?"
   ]
  },
  {
   "cell_type": "markdown",
   "id": "f49ce1de",
   "metadata": {},
   "source": [
    "## Solution to[ Exercise 44.2](https://python.quantecon.org/#mfv_ex2)\n",
    "\n",
    "Here is one solution"
   ]
  },
  {
   "cell_type": "code",
   "execution_count": null,
   "id": "80522480",
   "metadata": {
    "hide-output": false
   },
   "outputs": [],
   "source": [
    "def compute_res_wage_given_s(s, m=2.0, seed=1234):\n",
    "    a, b = m - s, m + s\n",
    "    key = jax.random.PRNGKey(seed)\n",
    "    uniform_draws = jax.random.uniform(key, shape=(10_000,), minval=a, maxval=b)\n",
    "\n",
    "    # Create model with default parameters but replace wage draws\n",
    "    model = create_mccall_model(w_draws=uniform_draws)\n",
    "    w_bar = compute_reservation_wage(model)\n",
    "    return w_bar\n",
    "\n",
    "s_vals = jnp.linspace(1.0, 2.0, 15)\n",
    "\n",
    "# Use vmap with different seeds for each s value\n",
    "seeds = jnp.arange(len(s_vals))\n",
    "compute_vectorized = jax.vmap(compute_res_wage_given_s, in_axes=(0, None, 0))\n",
    "w_bar_vals = compute_vectorized(s_vals, 2.0, seeds)\n",
    "\n",
    "fig, ax = plt.subplots()\n",
    "ax.set(xlabel='volatility', ylabel='reservation wage')\n",
    "ax.plot(s_vals, w_bar_vals, label=r'$\\bar w$ as a function of wage volatility')\n",
    "ax.legend()\n",
    "plt.show()"
   ]
  },
  {
   "cell_type": "markdown",
   "id": "f23d6ec4",
   "metadata": {},
   "source": [
    "The reservation wage increases with volatility.\n",
    "\n",
    "One might think that higher volatility would make the agent more inclined to\n",
    "take a given offer, since doing so represents certainty and waiting represents\n",
    "risk.\n",
    "\n",
    "But job search is like holding an option: the worker is only exposed to upside risk (since, in a free market, no one can force them to take a bad offer).\n",
    "\n",
    "More volatility means higher upside potential, which encourages the agent to wait."
   ]
  }
 ],
 "metadata": {
  "date": 1756122751.90476,
  "filename": "mccall_fitted_vfi.md",
  "kernelspec": {
   "display_name": "Python",
   "language": "python3",
   "name": "python3"
  },
  "title": "Job Search III: Fitted Value Function Iteration"
 },
 "nbformat": 4,
 "nbformat_minor": 5
}