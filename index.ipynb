{
 "cells": [
  {
   "cell_type": "markdown",
   "metadata": {},
   "source": [
    "\n",
    "<a id='index'></a>"
   ]
  },
  {
   "cell_type": "markdown",
   "metadata": {},
   "source": [
    "# Quantitative Economics with Python\n",
    "\n",
    "<div><style type=\"text/css\">h1,.breadcrumbs{display:none;}</style></div>\n",
    "<h1 class=\"sr-only\" style=\"display:block;\">Quantitative Economics with Python</h1>\n",
    "<div class=\"home-intro\">\n",
    "    <div class=\"home-detail\">\n",
    "        <div class=\"home-blurb\">\n",
    "            <p>This website presents a set of lectures on quantitative economic modeling, designed and written by <a href=\"http://www.tomsargent.com\" target=\"_blank\">Thomas J. Sargent</a> and <a href=\"http://johnstachurski.net\" target=\"_blank\">John Stachurski</a>.</p>\n",
    "            <p>Last compiled: <span id=\"compiled_date\"></span><br>\n",
    "                <a href=\"https://github.com/QuantEcon/lecture-python\">View source</a> |\n",
    "                <a href=\"https://github.com/QuantEcon/lecture-python/commits/\">View commits</a> | <a href=\"https://quantecon.org/about-python-lectures/#credits\">See all contributors</a></p>\n",
    "        </div>\n",
    "        <div class=\"web-version\">\n",
    "            <a href=\"/index_toc.html\">\n",
    "                <span class=\"thumb\"><img src=\"/_static/img/py-logo.png\"></span>\n",
    "                <h2>Web Version</h2>\n",
    "                <p>The recommended way to read the lectures</p>\n",
    "            </a>\n",
    "        </div>\n",
    "    </div>\n",
    "    <ul class=\"sponsor\">\n",
    "        <li><a href=\"http://www.sloan.org/\" title=\"Alfred P. Sloan Foundation\"><img src=\"/_static/sloan_logo.png\" alt=\"Sponsored by the Alfred P. Sloan Foundation\"></a></li>\n",
    "        <li><a href=\"https://quantecon.org/\"><img src=\"/_static/img/qe-logo.png\" width=\"150\"></a></li>\n",
    "    </ul>\n",
    "</div>\n",
    "<div class=\"home-alternatives\">\n",
    "    <h2>Other ways to access the lectures</h2>\n",
    "    <ul>\n",
    "                    <li>\n",
    "                            <a href=\"/_downloads/pdf/quantitative_economics_with_python.pdf\">\n",
    "                                    <i class=\"fas fa-file-pdf\"></i>\n",
    "                                    <h3>PDF Version</h3>\n",
    "                                    <p>A print-ready version for viewing offline</p>\n",
    "                            </a>\n",
    "                    </li>\n",
    "        <li>\n",
    "            <a href=\"https://github.com/QuantEcon/lecture-python.notebooks\">\n",
    "                <i class=\"fas fa-file-download\"></i>\n",
    "                <h3>Notebooks</h3>\n",
    "                <p>Get the full set of Jupyter notebooks</p>\n",
    "            </a>\n",
    "        </li>\n",
    "    </ul>\n",
    "</div>"
   ]
  }
 ],
 "metadata": {
  "date": 1614914737.090158,
  "filename": "index.rst",
  "kernelspec": {
   "display_name": "Python",
   "language": "python3",
   "name": "python3"
  },
  "next_doc": {
   "link": "index_toc",
   "title": "Table of Contents"
  },
  "title": "Quantitative Economics with Python"
 },
 "nbformat": 4,
 "nbformat_minor": 2
}