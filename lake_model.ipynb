{
 "cells": [
  {
   "cell_type": "markdown",
   "id": "af9c37ba",
   "metadata": {},
   "source": [
    "\n",
    "<a id='lake-model'></a>\n",
    "<div id=\"qe-notebook-header\" align=\"right\" style=\"text-align:right;\">\n",
    "        <a href=\"https://quantecon.org/\" title=\"quantecon.org\">\n",
    "                <img style=\"width:250px;display:inline;\" width=\"250px\" src=\"https://assets.quantecon.org/img/qe-menubar-logo.svg\" alt=\"QuantEcon\">\n",
    "        </a>\n",
    "</div>"
   ]
  },
  {
   "cell_type": "markdown",
   "id": "bd20a6a9",
   "metadata": {},
   "source": [
    "# A Lake Model of Employment and Unemployment\n",
    "\n",
    "\n",
    "<a id='index-0'></a>"
   ]
  },
  {
   "cell_type": "markdown",
   "id": "e3b219dc",
   "metadata": {},
   "source": [
    "## Contents\n",
    "\n",
    "- [A Lake Model of Employment and Unemployment](#A-Lake-Model-of-Employment-and-Unemployment)  \n",
    "  - [Overview](#Overview)  \n",
    "  - [The model](#The-model)  \n",
    "  - [Implementation](#Implementation)  \n",
    "  - [Dynamics of an individual worker](#Dynamics-of-an-individual-worker)  \n",
    "  - [Endogenous job finding rate](#Endogenous-job-finding-rate)  \n",
    "  - [Exercises](#Exercises)  "
   ]
  },
  {
   "cell_type": "markdown",
   "id": "dda764f9",
   "metadata": {},
   "source": [
    "In addition to what’s in Anaconda, this lecture will need the following libraries:"
   ]
  },
  {
   "cell_type": "code",
   "execution_count": null,
   "id": "6abc45d6",
   "metadata": {
    "hide-output": false
   },
   "outputs": [],
   "source": [
    "!pip install quantecon jax"
   ]
  },
  {
   "cell_type": "markdown",
   "id": "b50308e6",
   "metadata": {},
   "source": [
    "## Overview\n",
    "\n",
    "This lecture describes what has come to be called a *lake model*.\n",
    "\n",
    "The lake model is a basic tool for modeling unemployment.\n",
    "\n",
    "It allows us to analyze\n",
    "\n",
    "- flows between unemployment and employment  \n",
    "- how these flows influence steady state employment and unemployment rates  \n",
    "\n",
    "\n",
    "It is a good model for interpreting monthly labor department reports on gross and net jobs created and destroyed.\n",
    "\n",
    "The “lakes” in the model are the pools of employed and unemployed.\n",
    "\n",
    "The “flows” between the lakes are caused by\n",
    "\n",
    "- firing and hiring  \n",
    "- entry and exit from the labor force  \n",
    "\n",
    "\n",
    "For the first part of this lecture, the parameters governing transitions into\n",
    "and out of unemployment and employment are exogenous.\n",
    "\n",
    "Later, we’ll determine some of these transition rates endogenously using the [McCall search model](https://python.quantecon.org/mccall_model.html).\n",
    "\n",
    "We’ll also use some nifty concepts like ergodicity, which provides a fundamental link between *cross-sectional* and *long run time series* distributions.\n",
    "\n",
    "These concepts will help us build an equilibrium model of ex-ante homogeneous workers whose different luck generates variations in their ex post experiences.\n",
    "\n",
    "Let’s start with some imports:"
   ]
  },
  {
   "cell_type": "code",
   "execution_count": null,
   "id": "2db38227",
   "metadata": {
    "hide-output": false
   },
   "outputs": [],
   "source": [
    "import matplotlib.pyplot as plt\n",
    "import jax\n",
    "import jax.numpy as jnp\n",
    "from typing import NamedTuple\n",
    "from quantecon.distributions import BetaBinomial\n",
    "from functools import partial\n",
    "import jax.scipy.stats as stats"
   ]
  },
  {
   "cell_type": "markdown",
   "id": "5a9c1321",
   "metadata": {},
   "source": [
    "### Prerequisites\n",
    "\n",
    "Before working through what follows, we recommend you read the\n",
    "[lecture on finite Markov chains](https://python.quantecon.org/finite_markov.html).\n",
    "\n",
    "You will also need some basic [linear algebra](https://python.quantecon.org/linear_algebra.html) and probability."
   ]
  },
  {
   "cell_type": "markdown",
   "id": "32af0642",
   "metadata": {},
   "source": [
    "## The model\n",
    "\n",
    "The economy is inhabited by a very large number of ex-ante identical workers.\n",
    "\n",
    "The workers live forever, spending their lives moving between unemployment and employment.\n",
    "\n",
    "Their rates of  transition between employment and unemployment are  governed by the following parameters:\n",
    "\n",
    "- $ \\lambda $, the job finding rate for currently unemployed workers  \n",
    "- $ \\alpha $, the dismissal rate for currently employed workers  \n",
    "- $ b $, the entry rate into the labor force  \n",
    "- $ d $, the exit rate from the labor force  \n",
    "\n",
    "\n",
    "The growth rate of the labor force evidently equals $ g=b-d $."
   ]
  },
  {
   "cell_type": "markdown",
   "id": "3d37675a",
   "metadata": {},
   "source": [
    "### Aggregate variables\n",
    "\n",
    "We want to derive the dynamics of the following aggregates:\n",
    "\n",
    "- $ E_t $, the total number of employed workers at date $ t $  \n",
    "- $ U_t $, the total number of unemployed workers at $ t $  \n",
    "- $ N_t $, the number of workers in the labor force at $ t $  \n",
    "\n",
    "\n",
    "We also want to know the values of the following objects:\n",
    "\n",
    "- The employment rate $ e_t := E_t/N_t $.  \n",
    "- The unemployment rate $ u_t := U_t/N_t $.  \n",
    "\n",
    "\n",
    "(Here and below, capital letters represent aggregates and lowercase letters represent rates)"
   ]
  },
  {
   "cell_type": "markdown",
   "id": "d5f209e3",
   "metadata": {},
   "source": [
    "### Laws of motion for stock variables\n",
    "\n",
    "We begin by constructing laws of motion for the aggregate variables $ E_t,U_t, N_t $.\n",
    "\n",
    "Of the mass of workers $ E_t $ who are employed at date $ t $,\n",
    "\n",
    "- $ (1-d)E_t $ will remain in the labor force  \n",
    "- of these, $ (1-\\alpha)(1-d)E_t $ will remain employed  \n",
    "\n",
    "\n",
    "Of the mass of workers $ U_t $ workers who are currently unemployed,\n",
    "\n",
    "- $ (1-d)U_t $ will remain in the labor force  \n",
    "- of these, $ (1-d) \\lambda U_t $ will become employed  \n",
    "\n",
    "\n",
    "Therefore,  the number of workers who will be employed at date $ t+1 $ will be\n",
    "\n",
    "$$\n",
    "E_{t+1} = (1-d)(1-\\alpha)E_t + (1-d)\\lambda U_t\n",
    "$$\n",
    "\n",
    "A similar analysis implies\n",
    "\n",
    "$$\n",
    "U_{t+1} = (1-d)\\alpha E_t + (1-d)(1-\\lambda)U_t + b (E_t+U_t)\n",
    "$$\n",
    "\n",
    "The value $ b(E_t+U_t) $ is the mass of new workers entering the labor force unemployed.\n",
    "\n",
    "The total stock of workers $ N_t=E_t+U_t $ evolves as\n",
    "\n",
    "$$\n",
    "N_{t+1} = (1+b-d)N_t = (1+g)N_t\n",
    "$$\n",
    "\n",
    "Letting $ X_t := \\left(\\begin{matrix}U_t\\\\E_t\\end{matrix}\\right) $, the law of motion for $ X $  is\n",
    "\n",
    "$$\n",
    "X_{t+1} = A X_t\n",
    "\\quad \\text{where} \\quad\n",
    "A :=\n",
    "\\begin{bmatrix}\n",
    "    (1-d)(1-\\lambda) + b & (1-d)\\alpha + b  \\\\\n",
    "    (1-d)\\lambda & (1-d)(1-\\alpha)\n",
    "\\end{bmatrix}\n",
    "$$\n",
    "\n",
    "This law tells us how total employment and unemployment evolve over time."
   ]
  },
  {
   "cell_type": "markdown",
   "id": "48089969",
   "metadata": {},
   "source": [
    "### Laws of motion for rates\n",
    "\n",
    "Now let’s derive the law of motion for rates.\n",
    "\n",
    "To get these we can divide both sides of $ X_{t+1} = A X_t $ by  $ N_{t+1} $ to get\n",
    "\n",
    "$$\n",
    "\\begin{bmatrix}\n",
    "    U_{t+1}/N_{t+1} \\\\\n",
    "    E_{t+1}/N_{t+1}\n",
    "\\end{bmatrix} =\n",
    "\\frac1{1+g} A\n",
    "\\begin{bmatrix}\n",
    "    U_{t}/N_{t}\n",
    "    \\\\\n",
    "    E_{t}/N_{t}\n",
    "\\end{bmatrix}\n",
    "$$\n",
    "\n",
    "Letting\n",
    "\n",
    "$$\n",
    "x_t :=\n",
    "\\left(\\begin{matrix}\n",
    "    u_t\\\\ e_t\n",
    "\\end{matrix}\\right) =\n",
    "\\left(\\begin{matrix}\n",
    "    U_t/N_t\\\\ E_t/N_t\n",
    "\\end{matrix}\\right)\n",
    "$$\n",
    "\n",
    "we can also write this as\n",
    "\n",
    "$$\n",
    "x_{t+1} = \\hat A x_t\n",
    "\\quad \\text{where} \\quad\n",
    "\\hat A := \\frac{1}{1 + g} A\n",
    "$$\n",
    "\n",
    "You can check that $ e_t + u_t = 1 $ implies that $ e_{t+1}+u_{t+1} = 1 $.\n",
    "\n",
    "This follows from the fact that the columns of $ \\hat A $ sum to 1."
   ]
  },
  {
   "cell_type": "markdown",
   "id": "ae1eba14",
   "metadata": {},
   "source": [
    "## Implementation\n",
    "\n",
    "Let’s code up these equations.\n",
    "\n",
    "To do this we’re going to use a class that we’ll call `LakeModel` that stores the primitives $ \\alpha, \\lambda, b, d $"
   ]
  },
  {
   "cell_type": "code",
   "execution_count": null,
   "id": "c3439545",
   "metadata": {
    "hide-output": false
   },
   "outputs": [],
   "source": [
    "class LakeModel(NamedTuple):\n",
    "    \"\"\"\n",
    "    Parameters for the lake model\n",
    "    \"\"\"\n",
    "    λ: float = 0.283\n",
    "    α: float = 0.013\n",
    "    b: float = 0.0124\n",
    "    d: float = 0.00822"
   ]
  },
  {
   "cell_type": "markdown",
   "id": "64fcfbcf",
   "metadata": {},
   "source": [
    "We will also use a specialized function to generate time series in an efficient\n",
    "JAX-compatible manner.\n",
    "\n",
    "(Iteratively generating time series is somewhat nontrivial in JAX because arrays\n",
    "are immutable.)"
   ]
  },
  {
   "cell_type": "code",
   "execution_count": null,
   "id": "f086e26f",
   "metadata": {
    "hide-output": false
   },
   "outputs": [],
   "source": [
    "@partial(jax.jit, static_argnames=['f', 'num_steps'])\n",
    "def generate_path(f, initial_state, num_steps, **kwargs):\n",
    "    \"\"\"\n",
    "    Generate a time series by repeatedly applying an update rule.\n",
    "\n",
    "    Given a map f, initial state x_0, and a set of model parameter θ, this\n",
    "    function computes and returns the sequence {x_t}_{t=0}^{T-1} when\n",
    "\n",
    "        x_{t+1} = f(x_t, t, θ) \n",
    "\n",
    "    Args:\n",
    "        f: Update function mapping (x_t, t, θ) -> x_{t+1}\n",
    "        initial_state: Initial state x_0\n",
    "        num_steps: Number of time steps T to simulate\n",
    "        **kwargs: Optional extra arguments passed to f\n",
    "\n",
    "    Returns:\n",
    "        Array of shape (dim(x), T) containing the time series path\n",
    "        [x_0, x_1, x_2, ..., x_{T-1}]\n",
    "    \"\"\"\n",
    "\n",
    "    def update_wrapper(state, t):\n",
    "        \"\"\"\n",
    "        Wrapper function that adapts f for use with JAX scan.\n",
    "        \"\"\"\n",
    "        next_state = f(state, t, **kwargs)\n",
    "        return next_state, state\n",
    "\n",
    "    _, path = jax.lax.scan(update_wrapper,\n",
    "                    initial_state, jnp.arange(num_steps))\n",
    "    return path.T"
   ]
  },
  {
   "cell_type": "markdown",
   "id": "410078f9",
   "metadata": {},
   "source": [
    "Now we can compute the matrices and simulate the dynamics."
   ]
  },
  {
   "cell_type": "code",
   "execution_count": null,
   "id": "6dd86bdd",
   "metadata": {
    "hide-output": false
   },
   "outputs": [],
   "source": [
    "@jax.jit\n",
    "def compute_matrices(model: LakeModel):\n",
    "    \"\"\"Compute the transition matrices A and A_hat for the model.\"\"\"\n",
    "    λ, α, b, d = model.λ, model.α, model.b, model.d\n",
    "    g = b - d\n",
    "    A = jnp.array([[(1-d) * (1-λ) + b,      (1 - d) * α + b],\n",
    "                   [        (1-d) * λ,      (1 - d) * (1 - α)]])\n",
    "    A_hat = A / (1 + g)\n",
    "    return A, A_hat, g\n",
    "\n",
    "\n",
    "@jax.jit\n",
    "def stock_update(current_stocks, time_step, model):\n",
    "    \"\"\"\n",
    "    Apply transition matrix to get next period's stocks.\n",
    "    \"\"\"\n",
    "    A, A_hat, g = compute_matrices(model)\n",
    "    next_stocks = A @ current_stocks\n",
    "    return next_stocks\n",
    "\n",
    "@jax.jit\n",
    "def rate_update(current_rates, time_step, model):\n",
    "    \"\"\"\n",
    "    Apply normalized transition matrix for next period's rates.\n",
    "    \"\"\"\n",
    "    A, A_hat, g = compute_matrices(model)\n",
    "    next_rates = A_hat @ current_rates\n",
    "    return next_rates"
   ]
  },
  {
   "cell_type": "markdown",
   "id": "fde4f790",
   "metadata": {},
   "source": [
    "We create two instances, one with $ α=0.013 $ and another with $ α=0.03 $"
   ]
  },
  {
   "cell_type": "code",
   "execution_count": null,
   "id": "b253f9c7",
   "metadata": {
    "hide-output": false
   },
   "outputs": [],
   "source": [
    "model = LakeModel()\n",
    "model_new = LakeModel(α=0.03)\n",
    "\n",
    "print(f\"Default α: {model.α}\")\n",
    "A, A_hat, g = compute_matrices(model)\n",
    "print(f\"A matrix:\\n{A}\")"
   ]
  },
  {
   "cell_type": "code",
   "execution_count": null,
   "id": "b0b270bd",
   "metadata": {
    "hide-output": false
   },
   "outputs": [],
   "source": [
    "A_new, A_hat_new, g_new = compute_matrices(model_new)\n",
    "print(f\"New α: {model_new.α}\")\n",
    "print(f\"New A matrix:\\n{A_new}\")"
   ]
  },
  {
   "cell_type": "markdown",
   "id": "2f2437ed",
   "metadata": {},
   "source": [
    "### Aggregate dynamics\n",
    "\n",
    "Let’s run a simulation under the default parameters (see above) starting from $ X_0 = (12, 138) $."
   ]
  },
  {
   "cell_type": "code",
   "execution_count": null,
   "id": "a0d2723d",
   "metadata": {
    "hide-output": false
   },
   "outputs": [],
   "source": [
    "N_0 = 150      # Population\n",
    "e_0 = 0.92     # Initial employment rate\n",
    "u_0 = 1 - e_0  # Initial unemployment rate\n",
    "T = 50         # Simulation length\n",
    "\n",
    "U_0 = u_0 * N_0\n",
    "E_0 = e_0 * N_0\n",
    "\n",
    "fig, axes = plt.subplots(3, 1, figsize=(10, 8))\n",
    "X_0 = jnp.array([U_0, E_0])\n",
    "X_path = generate_path(stock_update, X_0, T, model=model)\n",
    "\n",
    "axes[0].plot(X_path[0, :], lw=2)\n",
    "axes[0].set_title('unemployment')\n",
    "\n",
    "axes[1].plot(X_path[1, :], lw=2)\n",
    "axes[1].set_title('employment')\n",
    "\n",
    "axes[2].plot(X_path.sum(0), lw=2)\n",
    "axes[2].set_title('labor force')\n",
    "\n",
    "plt.tight_layout()\n",
    "plt.show()"
   ]
  },
  {
   "cell_type": "markdown",
   "id": "008c8ca1",
   "metadata": {},
   "source": [
    "The aggregates $ E_t $ and $ U_t $ don’t converge because their sum $ E_t + U_t $ grows at rate $ g $.\n",
    "\n",
    "On the other hand, the vector of employment and unemployment rates $ x_t $ can be in a steady state $ \\bar x $ if\n",
    "there exists an $ \\bar x $  such that\n",
    "\n",
    "- $ \\bar x = \\hat A \\bar x $  \n",
    "- the components satisfy $ \\bar e + \\bar u = 1 $  \n",
    "\n",
    "\n",
    "This equation tells us that a steady state level $ \\bar x $ is an eigenvector of $ \\hat A $ associated with a unit eigenvalue.\n",
    "\n",
    "The following function can be used to compute the steady state."
   ]
  },
  {
   "cell_type": "code",
   "execution_count": null,
   "id": "7b9922cb",
   "metadata": {
    "hide-output": false
   },
   "outputs": [],
   "source": [
    "@jax.jit\n",
    "def rate_steady_state(model: LakeModel):\n",
    "    r\"\"\"\n",
    "    Finds the steady state of the system :math:`x_{t+1} = \\hat A x_{t}`\n",
    "    by computing the eigenvector corresponding to the unit eigenvalue.\n",
    "    \"\"\"\n",
    "    A, A_hat, g = compute_matrices(model)\n",
    "    eigenvals, eigenvec = jnp.linalg.eig(A_hat)\n",
    "    \n",
    "    # Find the eigenvector corresponding to eigenvalue 1\n",
    "    unit_idx = jnp.argmin(jnp.abs(eigenvals - 1.0))\n",
    "\n",
    "    # Get the corresponding eigenvector\n",
    "    steady_state = jnp.real(eigenvec[:, unit_idx])\n",
    "    \n",
    "    # Normalize to ensure positive values and sum to 1\n",
    "    steady_state = jnp.abs(steady_state)\n",
    "    steady_state = steady_state / jnp.sum(steady_state)\n",
    "    \n",
    "    return steady_state"
   ]
  },
  {
   "cell_type": "markdown",
   "id": "c55e5b92",
   "metadata": {},
   "source": [
    "We also have $ x_t \\to \\bar x $ as $ t \\to \\infty $ provided that the remaining\n",
    "eigenvalue of $ \\hat A $ has modulus less than 1.\n",
    "\n",
    "This is the case for our default parameters:"
   ]
  },
  {
   "cell_type": "code",
   "execution_count": null,
   "id": "28cc74ee",
   "metadata": {
    "hide-output": false
   },
   "outputs": [],
   "source": [
    "A, A_hat, g = compute_matrices(model)\n",
    "e, f = jnp.linalg.eigvals(A_hat)\n",
    "print(f\"Eigenvalue magnitudes: {abs(e):.2f}, {abs(f):.2f}\")"
   ]
  },
  {
   "cell_type": "markdown",
   "id": "79c90a73",
   "metadata": {},
   "source": [
    "Let’s look at the convergence of the unemployment and employment rates to steady state levels (dashed black line)"
   ]
  },
  {
   "cell_type": "code",
   "execution_count": null,
   "id": "594ff5af",
   "metadata": {
    "hide-output": false
   },
   "outputs": [],
   "source": [
    "xbar = rate_steady_state(model)\n",
    "\n",
    "fig, axes = plt.subplots(2, 1, figsize=(10, 8))\n",
    "x_0 = jnp.array([u_0, e_0])\n",
    "x_path = generate_path(rate_update, x_0, T, model=model)\n",
    "\n",
    "titles = ['unemployment rate', 'employment rate']\n",
    "\n",
    "for i, title in enumerate(titles):\n",
    "    axes[i].plot(x_path[i, :], lw=2, alpha=0.5)\n",
    "    axes[i].hlines(xbar[i], 0, T, 'black', '--')\n",
    "    axes[i].set_title(title)\n",
    "\n",
    "plt.tight_layout()\n",
    "plt.show()"
   ]
  },
  {
   "cell_type": "markdown",
   "id": "e273ae2f",
   "metadata": {},
   "source": [
    "\n",
    "<a id='dynamics-workers'></a>"
   ]
  },
  {
   "cell_type": "markdown",
   "id": "2df15a5b",
   "metadata": {},
   "source": [
    "## Dynamics of an individual worker\n",
    "\n",
    "An individual worker’s employment dynamics are governed by a [finite state Markov process](https://python.quantecon.org/finite_markov.html).\n",
    "\n",
    "The worker can be in one of two states:\n",
    "\n",
    "- $ s_t=0 $ means unemployed  \n",
    "- $ s_t=1 $ means employed  \n",
    "\n",
    "\n",
    "Let’s start off under the assumption that $ b = d = 0 $.\n",
    "\n",
    "The associated transition matrix is then\n",
    "\n",
    "$$\n",
    "P = \\left(\n",
    "        \\begin{matrix}\n",
    "            1 - \\lambda & \\lambda \\\\\n",
    "            \\alpha & 1 - \\alpha\n",
    "        \\end{matrix}\n",
    "    \\right)\n",
    "$$\n",
    "\n",
    "Let $ \\psi_t $ denote the [marginal distribution](https://python.quantecon.org/finite_markov.html#mc-md) over employment/unemployment states for the worker at time $ t $.\n",
    "\n",
    "As usual, we regard it as a row vector.\n",
    "\n",
    "We know [from an earlier discussion](https://python.quantecon.org/finite_markov.html#mc-md) that $ \\psi_t $ follows the law of motion\n",
    "\n",
    "$$\n",
    "\\psi_{t+1} = \\psi_t P\n",
    "$$\n",
    "\n",
    "We also know from the [lecture on finite Markov chains](https://python.quantecon.org/finite_markov.html)\n",
    "that if $ \\alpha \\in (0, 1) $ and $ \\lambda \\in (0, 1) $, then\n",
    "$ P $ has a unique stationary distribution, denoted here by $ \\psi^* $.\n",
    "\n",
    "The unique stationary distribution satisfies\n",
    "\n",
    "$$\n",
    "\\psi^*[0] = \\frac{\\alpha}{\\alpha + \\lambda}\n",
    "$$\n",
    "\n",
    "Not surprisingly, probability mass on the unemployment state increases with\n",
    "the dismissal rate and falls with the job finding rate."
   ]
  },
  {
   "cell_type": "markdown",
   "id": "b0ffaf3c",
   "metadata": {},
   "source": [
    "### Ergodicity\n",
    "\n",
    "Let’s look at a typical lifetime of employment-unemployment spells.\n",
    "\n",
    "We want to compute the average amounts of time an infinitely lived worker would spend employed and unemployed.\n",
    "\n",
    "Let\n",
    "\n",
    "$$\n",
    "\\bar s_{u,T} := \\frac1{T} \\sum_{t=1}^T \\mathbb 1\\{s_t = 0\\}\n",
    "$$\n",
    "\n",
    "and\n",
    "\n",
    "$$\n",
    "\\bar s_{e,T} := \\frac1{T} \\sum_{t=1}^T \\mathbb 1\\{s_t = 1\\}\n",
    "$$\n",
    "\n",
    "(As usual, $ \\mathbb 1\\{Q\\} = 1 $ if statement $ Q $ is true and 0 otherwise)\n",
    "\n",
    "These are the fraction of time a worker spends unemployed and employed, respectively, up until period $ T $.\n",
    "\n",
    "If $ \\alpha \\in (0, 1) $ and $ \\lambda \\in (0, 1) $, then $ P $ is [ergodic](https://python.quantecon.org/finite_markov.html#ergodicity), and hence we have\n",
    "\n",
    "$$\n",
    "\\lim_{T \\to \\infty} \\bar s_{u, T} = \\psi^*[0]\n",
    "\\quad \\text{and} \\quad\n",
    "\\lim_{T \\to \\infty} \\bar s_{e, T} = \\psi^*[1]\n",
    "$$\n",
    "\n",
    "with probability one.\n",
    "\n",
    "Inspection tells us that $ P $ is exactly the transpose of $ \\hat A $ under the assumption $ b=d=0 $.\n",
    "\n",
    "Thus, the percentages of time that an infinitely lived worker spends employed and unemployed equal the fractions of workers employed and unemployed in the steady state distribution."
   ]
  },
  {
   "cell_type": "markdown",
   "id": "2de91545",
   "metadata": {},
   "source": [
    "### Convergence rate\n",
    "\n",
    "How long does it take for time series sample averages to converge to cross-sectional averages?\n",
    "\n",
    "We can investigate this by simulating the Markov chain.\n",
    "\n",
    "Let’s plot the path of the sample averages over 5,000 periods"
   ]
  },
  {
   "cell_type": "code",
   "execution_count": null,
   "id": "b0a9a1f5",
   "metadata": {
    "hide-output": false
   },
   "outputs": [],
   "source": [
    "@jax.jit\n",
    "def markov_update(state, t, P, keys):\n",
    "    \"\"\"\n",
    "    Sample next state from transition probabilities.\n",
    "    \"\"\"\n",
    "    probs = P[state]\n",
    "    state_new = jax.random.choice(keys[t],\n",
    "                        a=jnp.arange(len(probs)),\n",
    "                        p=probs)\n",
    "    return state_new\n",
    "\n",
    "model_markov = LakeModel(d=0, b=0)\n",
    "T = 5000  # Simulation length\n",
    "\n",
    "α, λ = model_markov.α, model_markov.λ\n",
    "\n",
    "P = jnp.array([[1 - λ,        λ],\n",
    "              [    α,    1 - α]])\n",
    "\n",
    "xbar = rate_steady_state(model_markov)\n",
    "\n",
    "# Simulate the Markov chain\n",
    "key = jax.random.PRNGKey(0)\n",
    "keys = jax.random.split(key, T)\n",
    "s_path = generate_path(markov_update, 1, T, P=P, keys=keys)\n",
    "\n",
    "fig, axes = plt.subplots(2, 1, figsize=(10, 8))\n",
    "s_bar_e = jnp.cumsum(s_path) / jnp.arange(1, T+1)\n",
    "s_bar_u = 1 - s_bar_e\n",
    "\n",
    "to_plot = [s_bar_u, s_bar_e]\n",
    "titles = ['percent of time unemployed', 'percent of time employed']\n",
    "\n",
    "for i, plot in enumerate(to_plot):\n",
    "    axes[i].plot(plot, lw=2, alpha=0.5)\n",
    "    axes[i].hlines(xbar[i], 0, T, 'r', '--')\n",
    "    axes[i].set_title(titles[i])\n",
    "\n",
    "plt.tight_layout()\n",
    "plt.show()"
   ]
  },
  {
   "cell_type": "markdown",
   "id": "fad316c1",
   "metadata": {},
   "source": [
    "The stationary probabilities are given by the dashed red line.\n",
    "\n",
    "In this case it takes much of the sample for these two objects to converge.\n",
    "\n",
    "This is largely due to the high persistence in the Markov chain."
   ]
  },
  {
   "cell_type": "markdown",
   "id": "4d984c5b",
   "metadata": {},
   "source": [
    "## Endogenous job finding rate\n",
    "\n",
    "We now make the hiring rate endogenous.\n",
    "\n",
    "The transition rate from unemployment to employment will be determined by the McCall search model [[McCall, 1970](https://python.quantecon.org/zreferences.html#id208)].\n",
    "\n",
    "All details relevant to the following discussion can be found in [our treatment](https://python.quantecon.org/mccall_model.html) of that model."
   ]
  },
  {
   "cell_type": "markdown",
   "id": "6c8f07dd",
   "metadata": {},
   "source": [
    "### Reservation wage\n",
    "\n",
    "The most important thing to remember about the model is that optimal decisions\n",
    "are characterized by a reservation wage $ \\bar w $\n",
    "\n",
    "- If the wage offer $ w $ in hand is greater than or equal to $ \\bar w $, then the worker accepts.  \n",
    "- Otherwise, the worker rejects.  \n",
    "\n",
    "\n",
    "As we saw in [our discussion of the model](https://python.quantecon.org/mccall_model.html), the reservation wage depends on the wage offer distribution and the parameters\n",
    "\n",
    "- $ \\alpha $, the separation rate  \n",
    "- $ \\beta $, the discount factor  \n",
    "- $ \\gamma $, the offer arrival rate  \n",
    "- $ c $, unemployment compensation  "
   ]
  },
  {
   "cell_type": "markdown",
   "id": "b0dc4d31",
   "metadata": {},
   "source": [
    "### Linking the McCall search model to the lake model\n",
    "\n",
    "Suppose that all workers inside a lake model behave according to the McCall search model.\n",
    "\n",
    "The exogenous probability of leaving employment remains $ \\alpha $.\n",
    "\n",
    "But their optimal decision rules determine the probability $ \\lambda $ of leaving unemployment.\n",
    "\n",
    "This is now\n",
    "\n",
    "\n",
    "<a id='equation-lake-lamda'></a>\n",
    "$$\n",
    "\\lambda\n",
    "= \\gamma \\mathbb P \\{ w_t \\geq \\bar w\\}\n",
    "= \\gamma \\sum_{w' \\geq \\bar w} p(w') \\tag{69.1}\n",
    "$$"
   ]
  },
  {
   "cell_type": "markdown",
   "id": "c7b8f3c4",
   "metadata": {},
   "source": [
    "### Fiscal policy\n",
    "\n",
    "We can use the McCall search version of the Lake Model to find an optimal level of unemployment insurance.\n",
    "\n",
    "We assume that the government sets unemployment compensation $ c $.\n",
    "\n",
    "The government imposes a lump-sum tax $ \\tau $ sufficient to finance total unemployment payments.\n",
    "\n",
    "To attain a balanced budget at a steady state, taxes, the steady state unemployment rate $ u $, and the unemployment compensation rate must satisfy\n",
    "\n",
    "$$\n",
    "\\tau = u c\n",
    "$$\n",
    "\n",
    "The lump-sum tax applies to everyone, including unemployed workers.\n",
    "\n",
    "Thus, the post-tax income of an employed worker with wage $ w $ is $ w - \\tau $.\n",
    "\n",
    "The post-tax income of an unemployed worker is $ c - \\tau $.\n",
    "\n",
    "For each specification $ (c, \\tau) $ of government policy, we can solve for the worker’s optimal reservation wage.\n",
    "\n",
    "This determines $ \\lambda $ via [(69.1)](#equation-lake-lamda) evaluated at post tax wages, which in turn determines a steady state unemployment rate $ u(c, \\tau) $.\n",
    "\n",
    "For a given level of unemployment benefit $ c $, we can solve for a tax that balances the budget in the steady state\n",
    "\n",
    "$$\n",
    "\\tau = u(c, \\tau) c\n",
    "$$\n",
    "\n",
    "To evaluate alternative government tax-unemployment compensation pairs, we require a welfare criterion.\n",
    "\n",
    "We use a steady state welfare criterion\n",
    "\n",
    "$$\n",
    "W := e \\,  {\\mathbb E} [V \\, | \\,  \\text{employed}] + u \\,  U\n",
    "$$\n",
    "\n",
    "where the notation $ V $ and $ U $ is as defined in the [McCall search model lecture](https://python.quantecon.org/mccall_model.html).\n",
    "\n",
    "The wage offer distribution will be a discretized version of the lognormal distribution $ LN(\\log(20),1) $, as shown in the next figure"
   ]
  },
  {
   "cell_type": "code",
   "execution_count": null,
   "id": "59eed564",
   "metadata": {
    "hide-output": false
   },
   "outputs": [],
   "source": [
    "def create_wage_distribution(max_wage: float, \n",
    "                             wage_grid_size: int, \n",
    "                             log_wage_mean: float):\n",
    "    \"\"\"Create wage distribution\"\"\"\n",
    "    w_vec_temp = jnp.linspace(1e-8, max_wage, \n",
    "                                wage_grid_size + 1)\n",
    "    cdf = stats.norm.cdf(jnp.log(w_vec_temp), \n",
    "                            loc=jnp.log(log_wage_mean), scale=1)\n",
    "    pdf = cdf[1:] - cdf[:-1]\n",
    "    p_vec = pdf / pdf.sum()\n",
    "    w_vec = (w_vec_temp[1:] + w_vec_temp[:-1]) / 2\n",
    "    return w_vec, p_vec\n",
    "\n",
    "w_vec, p_vec = create_wage_distribution(170, 200, 20)\n",
    "\n",
    "# Plot the wage distribution\n",
    "fig, ax = plt.subplots()\n",
    "\n",
    "ax.plot(w_vec, p_vec)\n",
    "ax.set_xlabel('wages')\n",
    "ax.set_ylabel('probability')\n",
    "\n",
    "plt.tight_layout()\n",
    "plt.show()"
   ]
  },
  {
   "cell_type": "markdown",
   "id": "73f92a62",
   "metadata": {},
   "source": [
    "We take a period to be a month.\n",
    "\n",
    "We set $ b $ and $ d $ to match monthly [birth](https://www.cdc.gov/nchs/fastats/births.htm) and [death rates](https://www.cdc.gov/nchs/fastats/deaths.htm), respectively, in the U.S. population\n",
    "\n",
    "- $ b = 0.0124 $  \n",
    "- $ d = 0.00822 $  \n",
    "\n",
    "\n",
    "Following [[Davis *et al.*, 2006](https://python.quantecon.org/zreferences.html#id154)], we set $ \\alpha $, the hazard rate of leaving employment, to\n",
    "\n",
    "- $ \\alpha = 0.013 $  "
   ]
  },
  {
   "cell_type": "markdown",
   "id": "0a514c33",
   "metadata": {},
   "source": [
    "### Fiscal policy code\n",
    "\n",
    "We will make use of techniques from the [McCall model lecture](https://python.quantecon.org/mccall_model.html)\n",
    "\n",
    "The first piece of code implements value function iteration"
   ]
  },
  {
   "cell_type": "code",
   "execution_count": null,
   "id": "4b52fb7a",
   "metadata": {
    "hide-output": false
   },
   "outputs": [],
   "source": [
    "@jax.jit\n",
    "def u(c, σ=2.0):\n",
    "    return jnp.where(c > 0, (c**(1 - σ) - 1) / (1 - σ), -10e6)\n",
    "\n",
    "\n",
    "class McCallModel(NamedTuple):\n",
    "    \"\"\"\n",
    "    Stores the parameters for the McCall search model\n",
    "    \"\"\"\n",
    "    α: float            # Job separation rate\n",
    "    β: float            # Discount rate\n",
    "    γ: float            # Job offer rate\n",
    "    c: float            # Unemployment compensation\n",
    "    σ: float            # Utility parameter\n",
    "    w_vec: jnp.ndarray  # Possible wage values\n",
    "    p_vec: jnp.ndarray  # Probabilities over w_vec\n",
    "\n",
    "\n",
    "def create_mccall_model(α=0.2, β=0.98, γ=0.7, c=6.0, σ=2.0, \n",
    "                            w_vec=None, p_vec=None) -> McCallModel:\n",
    "    \"\"\"\n",
    "    Create a McCallModel.\n",
    "    \"\"\"\n",
    "    if w_vec is None:\n",
    "        n = 60  # Number of possible outcomes for wage\n",
    "\n",
    "        # Wages between 10 and 20\n",
    "        w_vec = jnp.linspace(10, 20, n)\n",
    "        a, b = 600, 400  # Shape parameters\n",
    "        dist = BetaBinomial(n-1, a, b)\n",
    "        p_vec = jnp.array(dist.pdf())\n",
    "    return McCallModel(α=α, β=β, γ=γ, c=c, σ=σ, w_vec=w_vec, p_vec=p_vec)\n",
    "\n",
    "\n",
    "@jax.jit\n",
    "def bellman(mcm: McCallModel, V, U):\n",
    "    \"\"\"\n",
    "    Update the Bellman equations.\n",
    "    \"\"\"\n",
    "    α, β, γ, c, σ = mcm.α, mcm.β, mcm.γ, mcm.c, mcm.σ\n",
    "    w_vec, p_vec = mcm.w_vec, mcm.p_vec\n",
    "\n",
    "    V_new = u(w_vec, σ) + β * ((1 - α) * V + α * U)\n",
    "    U_new = u(c, σ) + β * (1 - γ) * U + β * γ * (jnp.maximum(U, V) @ p_vec)\n",
    "    \n",
    "    return V_new, U_new\n",
    "\n",
    "\n",
    "@jax.jit\n",
    "def solve_mccall_model(mcm: McCallModel, tol=1e-5, max_iter=2000):\n",
    "    \"\"\"\n",
    "    Iterates to convergence on the Bellman equations.\n",
    "    \"\"\"\n",
    "    def cond_fun(state):\n",
    "        V, U, i, error = state\n",
    "        return jnp.logical_and(error > tol, i < max_iter)\n",
    "    \n",
    "    def body_fun(state):\n",
    "        V, U, i, error = state\n",
    "        V_new, U_new = bellman(mcm, V, U)\n",
    "        error_1 = jnp.max(jnp.abs(V_new - V))\n",
    "        error_2 = jnp.abs(U_new - U)\n",
    "        error_new = jnp.maximum(error_1, error_2)\n",
    "        return V_new, U_new, i + 1, error_new\n",
    "    \n",
    "    # Initial state\n",
    "    V_init = jnp.ones(len(mcm.w_vec))\n",
    "    U_init = 1.0\n",
    "    i_init = 0\n",
    "    error_init = tol + 1\n",
    "    \n",
    "    init_state = (V_init, U_init, i_init, error_init)\n",
    "    V_final, U_final, _, _ = jax.lax.while_loop(\n",
    "                                cond_fun, body_fun, init_state)\n",
    "    \n",
    "    return V_final, U_final"
   ]
  },
  {
   "cell_type": "markdown",
   "id": "078f2c97",
   "metadata": {},
   "source": [
    "Now let’s compute and plot welfare, employment, unemployment, and tax revenue as a\n",
    "function of the unemployment compensation rate"
   ]
  },
  {
   "cell_type": "code",
   "execution_count": null,
   "id": "d222f560",
   "metadata": {
    "hide-output": false
   },
   "outputs": [],
   "source": [
    "class EconomyParameters(NamedTuple):\n",
    "    \"\"\"Parameters for the economy\"\"\"\n",
    "    α: float\n",
    "    α_q: float  # Quarterly (α is monthly)\n",
    "    b: float\n",
    "    d: float\n",
    "    β: float\n",
    "    γ: float\n",
    "    σ: float\n",
    "    log_wage_mean: float\n",
    "    wage_grid_size: int\n",
    "    max_wage: float\n",
    "\n",
    "def create_economy_params(α=0.013, b=0.0124, d=0.00822, \n",
    "                          β=0.98, γ=1.0, σ=2.0,\n",
    "                          log_wage_mean=20, \n",
    "                          wage_grid_size=200, \n",
    "                          max_wage=170) -> EconomyParameters:\n",
    "    \"\"\"Create economy parameters with default values\"\"\"\n",
    "    α_q = (1-(1-α)**3)   # Convert monthly to quarterly\n",
    "    return EconomyParameters(α=α, α_q=α_q, b=b, d=d, β=β, γ=γ, σ=σ,\n",
    "                           log_wage_mean=log_wage_mean, \n",
    "                           wage_grid_size=wage_grid_size, \n",
    "                           max_wage=max_wage)\n",
    "\n",
    "\n",
    "@jax.jit\n",
    "def compute_optimal_quantities(c, τ, \n",
    "                    params: EconomyParameters, w_vec, p_vec):\n",
    "    \"\"\"\n",
    "    Compute the reservation wage, job finding rate and value functions\n",
    "    of the workers given c and τ.\n",
    "    \"\"\"\n",
    "    mcm = create_mccall_model(\n",
    "        α=params.α_q,\n",
    "        β=params.β,\n",
    "        γ=params.γ,\n",
    "        c=c-τ,          # Post tax compensation\n",
    "        σ=params.σ,\n",
    "        w_vec=w_vec-τ,  # Post tax wages\n",
    "        p_vec=p_vec\n",
    "    )\n",
    "    \n",
    "    V, U = solve_mccall_model(mcm)\n",
    "    w_idx = jnp.searchsorted(V - U, 0)\n",
    "    w_bar = jnp.where(w_idx == len(V), jnp.inf, mcm.w_vec[w_idx])\n",
    "    \n",
    "    λ = params.γ * jnp.sum(p_vec * (w_vec - τ > w_bar))\n",
    "    return w_bar, λ, V, U\n",
    "\n",
    "\n",
    "@jax.jit\n",
    "def compute_steady_state_quantities(c, τ, \n",
    "                    params: EconomyParameters, w_vec, p_vec):\n",
    "    \"\"\"\n",
    "    Compute the steady state unemployment rate given c and τ using optimal\n",
    "    quantities from the McCall model and computing corresponding steady\n",
    "    state quantities\n",
    "    \"\"\"\n",
    "    w_bar, λ, V, U = compute_optimal_quantities(c, τ, \n",
    "                                        params, w_vec, p_vec)\n",
    "    \n",
    "    # Compute steady state employment and unemployment rates\n",
    "    model = LakeModel(α=params.α_q, λ=λ, b=params.b, d=params.d)\n",
    "    u, e = rate_steady_state(model)\n",
    "    \n",
    "    # Compute steady state welfare\n",
    "    mask = (w_vec - τ > w_bar)\n",
    "    w = jnp.sum(V * p_vec * mask) / jnp.sum(p_vec * mask)\n",
    "    welfare = e * w + u * U\n",
    "    \n",
    "    return e, u, welfare\n",
    "\n",
    "\n",
    "def find_balanced_budget_tax(c, params: EconomyParameters, \n",
    "                             w_vec, p_vec):\n",
    "    \"\"\"\n",
    "    Find the tax level that will induce a balanced budget\n",
    "    \"\"\"\n",
    "    def steady_state_budget(t):\n",
    "        e, u, w = compute_steady_state_quantities(c, t, \n",
    "                                            params, w_vec, p_vec)\n",
    "        return t - u * c\n",
    "    \n",
    "    # Use a simple bisection method\n",
    "    t_low, t_high = 0.0, 0.9 * c\n",
    "    tol = 1e-6\n",
    "    max_iter = 100\n",
    "    \n",
    "    for i in range(max_iter):\n",
    "        t_mid = (t_low + t_high) / 2\n",
    "        budget = steady_state_budget(t_mid)\n",
    "        \n",
    "        if abs(budget) < tol:\n",
    "            return t_mid\n",
    "        elif budget < 0:\n",
    "            t_low = t_mid\n",
    "        else:\n",
    "            t_high = t_mid\n",
    "    \n",
    "    return t_mid\n",
    "\n",
    "\n",
    "# Create economy parameters and wage distribution\n",
    "params = create_economy_params()\n",
    "w_vec, p_vec = create_wage_distribution(params.max_wage, \n",
    "                                        params.wage_grid_size, \n",
    "                                        params.log_wage_mean)\n",
    "\n",
    "# Levels of unemployment insurance we wish to study\n",
    "c_vec = jnp.linspace(5, 140, 60)\n",
    "\n",
    "tax_vec = []\n",
    "unempl_vec = []\n",
    "empl_vec = []\n",
    "welfare_vec = []\n",
    "\n",
    "for c in c_vec:\n",
    "    t = find_balanced_budget_tax(c, params, w_vec, p_vec)\n",
    "    e_rate, u_rate, welfare = compute_steady_state_quantities(c, t, params, \n",
    "                                        w_vec, p_vec)\n",
    "    tax_vec.append(t)\n",
    "    unempl_vec.append(u_rate)\n",
    "    empl_vec.append(e_rate)\n",
    "    welfare_vec.append(welfare)\n",
    "\n",
    "fig, axes = plt.subplots(2, 2, figsize=(12, 10))\n",
    "\n",
    "plots = [unempl_vec, empl_vec, tax_vec, welfare_vec]\n",
    "titles = ['unemployment', 'employment', 'tax', 'welfare']\n",
    "\n",
    "for ax, plot, title in zip(axes.flatten(), plots, titles):\n",
    "    ax.plot(c_vec, plot, lw=2, alpha=0.7)\n",
    "    ax.set_title(title)\n",
    "\n",
    "plt.tight_layout()\n",
    "plt.show()"
   ]
  },
  {
   "cell_type": "markdown",
   "id": "0c205524",
   "metadata": {},
   "source": [
    "Welfare first increases and then decreases as unemployment benefits rise.\n",
    "\n",
    "The level that maximizes steady state welfare is approximately 62."
   ]
  },
  {
   "cell_type": "markdown",
   "id": "1d6d62a7",
   "metadata": {},
   "source": [
    "## Exercises"
   ]
  },
  {
   "cell_type": "markdown",
   "id": "3d396ac9",
   "metadata": {},
   "source": [
    "## Exercise 69.1\n",
    "\n",
    "In the JAX implementation of the Lake Model, we use a `NamedTuple` for parameters and separate functions for computations.\n",
    "\n",
    "This approach has several advantages:\n",
    "\n",
    "1. It’s immutable, which aligns with JAX’s functional programming paradigm  \n",
    "1. Functions can be JIT-compiled for better performance  \n",
    "\n",
    "\n",
    "In this exercise, your task is to:\n",
    "\n",
    "1. Update parameters by creating a new instance of the model with the parameters (`α=0.02, λ=0.3`).  \n",
    "1. Use JAX’s `vmap` to compute steady states for different parameter values  \n",
    "1. Plot how the steady-state unemployment rate varies with the job finding rate $ \\lambda $  "
   ]
  },
  {
   "cell_type": "markdown",
   "id": "1a39ed85",
   "metadata": {},
   "source": [
    "## Solution to[ Exercise 69.1](https://python.quantecon.org/#model_ex1)\n",
    "\n",
    "Here is one solution"
   ]
  },
  {
   "cell_type": "code",
   "execution_count": null,
   "id": "5123cce2",
   "metadata": {
    "hide-output": false
   },
   "outputs": [],
   "source": [
    "@jax.jit\n",
    "def compute_unemployment_rate(λ_val):\n",
    "    \"\"\"Computes steady-state unemployment for a given λ\"\"\"\n",
    "    model = LakeModel(λ=λ_val)\n",
    "    steady_state = rate_steady_state(model)\n",
    "    return steady_state[0]\n",
    "\n",
    "# Use vmap to compute for multiple λ values\n",
    "λ_values = jnp.linspace(0.1, 0.5, 50)\n",
    "unemployment_rates = jax.vmap(compute_unemployment_rate)(λ_values)\n",
    "\n",
    "# Plot the results\n",
    "fig, ax = plt.subplots(figsize=(10, 6))\n",
    "ax.plot(λ_values, unemployment_rates, lw=2)\n",
    "ax.set_xlabel(r'$\\lambda$')\n",
    "ax.set_ylabel('steady-state unemployment rate')\n",
    "plt.show()\n",
    "\n",
    "model_base = LakeModel()\n",
    "model_ex1 = LakeModel(α=0.02, λ=0.3)\n",
    "\n",
    "print(f\"Base model α: {model_base.α}\")\n",
    "print(f\"New model α: {model_ex1.α}, λ: {model_ex1.λ}\")\n",
    "\n",
    "# Compute steady states for both\n",
    "base_steady_state = rate_steady_state(model_base)\n",
    "new_steady_state = rate_steady_state(model_ex1)\n",
    "\n",
    "print(f\"Base unemployment rate: {base_steady_state[0]:.4f}\")\n",
    "print(f\"New unemployment rate: {new_steady_state[0]:.4f}\")"
   ]
  },
  {
   "cell_type": "markdown",
   "id": "953ab3dd",
   "metadata": {},
   "source": [
    "## Exercise 69.2\n",
    "\n",
    "Consider an economy with an initial stock of workers $ N_0 = 100 $ at the\n",
    "steady state level of employment in the baseline parameterization\n",
    "\n",
    "- $ \\alpha = 0.013 $  \n",
    "- $ \\lambda = 0.283 $  \n",
    "- $ b = 0.0124 $  \n",
    "- $ d = 0.00822 $  \n",
    "\n",
    "\n",
    "(The values for $ \\alpha $ and $ \\lambda $ follow [[Davis *et al.*, 2006](https://python.quantecon.org/zreferences.html#id154)])\n",
    "\n",
    "Suppose that in response to new legislation the hiring rate reduces to $ \\lambda = 0.2 $.\n",
    "\n",
    "Plot the transition dynamics of the unemployment and employment stocks for 50 periods.\n",
    "\n",
    "Plot the transition dynamics for the rates.\n",
    "\n",
    "How long does the economy take to converge to its new steady state?\n",
    "\n",
    "What is the new steady state level of employment?"
   ]
  },
  {
   "cell_type": "markdown",
   "id": "92d66fed",
   "metadata": {},
   "source": [
    "## Solution to[ Exercise 69.2](https://python.quantecon.org/#model_ex2)\n",
    "\n",
    "We begin by constructing the model with default parameters and finding the\n",
    "initial steady state"
   ]
  },
  {
   "cell_type": "code",
   "execution_count": null,
   "id": "8fb2e0bf",
   "metadata": {
    "hide-output": false
   },
   "outputs": [],
   "source": [
    "model_initial = LakeModel()\n",
    "x0 = rate_steady_state(model_initial)\n",
    "print(f\"Initial Steady State: {x0}\")"
   ]
  },
  {
   "cell_type": "markdown",
   "id": "7706f7a2",
   "metadata": {},
   "source": [
    "Initialize the simulation values"
   ]
  },
  {
   "cell_type": "code",
   "execution_count": null,
   "id": "08535e7a",
   "metadata": {
    "hide-output": false
   },
   "outputs": [],
   "source": [
    "N0 = 100\n",
    "T = 50"
   ]
  },
  {
   "cell_type": "markdown",
   "id": "4278183c",
   "metadata": {},
   "source": [
    "New legislation changes $ \\lambda $ to $ 0.2 $"
   ]
  },
  {
   "cell_type": "code",
   "execution_count": null,
   "id": "d2ca4b69",
   "metadata": {
    "hide-output": false
   },
   "outputs": [],
   "source": [
    "model_ex2 = LakeModel(λ=0.2)\n",
    "xbar = rate_steady_state(model_ex2)  # new steady state\n",
    "\n",
    "# Simulate paths\n",
    "X_path = generate_path(stock_update, x0 * N0, T, model=model_ex2)\n",
    "x_path = generate_path(rate_update, x0, T, model=model_ex2)\n",
    "print(f\"New Steady State: {xbar}\")"
   ]
  },
  {
   "cell_type": "markdown",
   "id": "f27a6b57",
   "metadata": {},
   "source": [
    "Now plot stocks"
   ]
  },
  {
   "cell_type": "code",
   "execution_count": null,
   "id": "fe6e5068",
   "metadata": {
    "hide-output": false
   },
   "outputs": [],
   "source": [
    "fig, axes = plt.subplots(3, 1, figsize=[10, 9])\n",
    "\n",
    "axes[0].plot(X_path[0, :])\n",
    "axes[0].set_title('unemployment')\n",
    "\n",
    "axes[1].plot(X_path[1, :])\n",
    "axes[1].set_title('employment')\n",
    "\n",
    "axes[2].plot(X_path.sum(0))\n",
    "axes[2].set_title('labor force')\n",
    "\n",
    "plt.tight_layout()\n",
    "plt.show()"
   ]
  },
  {
   "cell_type": "markdown",
   "id": "9fdc7b49",
   "metadata": {},
   "source": [
    "And how the rates evolve"
   ]
  },
  {
   "cell_type": "code",
   "execution_count": null,
   "id": "51acf228",
   "metadata": {
    "hide-output": false
   },
   "outputs": [],
   "source": [
    "fig, axes = plt.subplots(2, 1, figsize=(10, 8))\n",
    "\n",
    "titles = ['unemployment rate', 'employment rate']\n",
    "\n",
    "for i, title in enumerate(titles):\n",
    "    axes[i].plot(x_path[i, :])\n",
    "    axes[i].hlines(xbar[i], 0, T, 'r', '--')\n",
    "    axes[i].set_title(title)\n",
    "\n",
    "plt.tight_layout()\n",
    "plt.show()"
   ]
  },
  {
   "cell_type": "markdown",
   "id": "da42caee",
   "metadata": {},
   "source": [
    "We see that it takes 20 periods for the economy to converge to its new\n",
    "steady state levels."
   ]
  },
  {
   "cell_type": "markdown",
   "id": "6aad48f6",
   "metadata": {},
   "source": [
    "## Exercise 69.3\n",
    "\n",
    "Consider an economy with an initial stock of workers $ N_0 = 100 $ at the\n",
    "steady state level of employment in the baseline parameterization.\n",
    "\n",
    "Suppose that for 20 periods the birth rate was temporarily high ($ b = 0.025 $) and then returned to its original level.\n",
    "\n",
    "Plot the transition dynamics of the unemployment and employment stocks for 50 periods.\n",
    "\n",
    "Plot the transition dynamics for the rates.\n",
    "\n",
    "How long does the economy take to return to its original steady state?"
   ]
  },
  {
   "cell_type": "markdown",
   "id": "62494bbf",
   "metadata": {},
   "source": [
    "## Solution to[ Exercise 69.3](https://python.quantecon.org/#model_ex3)\n",
    "\n",
    "This exercise has the economy experiencing a boom in entrances to\n",
    "the labor market and then later returning to the original levels.\n",
    "\n",
    "For 20 periods the economy has a new entry rate into the labor market.\n",
    "\n",
    "Let’s start off at the baseline parameterization and record the steady\n",
    "state"
   ]
  },
  {
   "cell_type": "code",
   "execution_count": null,
   "id": "e253208d",
   "metadata": {
    "hide-output": false
   },
   "outputs": [],
   "source": [
    "model_baseline = LakeModel()\n",
    "x0 = rate_steady_state(model_baseline)\n",
    "N0 = 100\n",
    "T = 50"
   ]
  },
  {
   "cell_type": "markdown",
   "id": "272d925e",
   "metadata": {},
   "source": [
    "Here are the other parameters:"
   ]
  },
  {
   "cell_type": "code",
   "execution_count": null,
   "id": "94e1ec30",
   "metadata": {
    "hide-output": false
   },
   "outputs": [],
   "source": [
    "b_hat = 0.025\n",
    "T_hat = 20"
   ]
  },
  {
   "cell_type": "markdown",
   "id": "998571bd",
   "metadata": {},
   "source": [
    "Let’s increase $ b $ to the new value and simulate for 20 periods"
   ]
  },
  {
   "cell_type": "code",
   "execution_count": null,
   "id": "404121c9",
   "metadata": {
    "hide-output": false
   },
   "outputs": [],
   "source": [
    "model_high_b = LakeModel(b=b_hat)\n",
    "\n",
    "# Simulate stocks and rates for first 20 periods\n",
    "X_path1 = generate_path(stock_update, x0 * N0, T_hat, model=model_high_b)\n",
    "x_path1 = generate_path(rate_update, x0, T_hat, model=model_high_b)"
   ]
  },
  {
   "cell_type": "markdown",
   "id": "50fd3f73",
   "metadata": {},
   "source": [
    "Now we reset $ b $ to the original value and then, using the state\n",
    "after 20 periods for the new initial conditions, we simulate for the\n",
    "additional 30 periods"
   ]
  },
  {
   "cell_type": "code",
   "execution_count": null,
   "id": "c7b8a18e",
   "metadata": {
    "hide-output": false
   },
   "outputs": [],
   "source": [
    "# Use final state from period 20 as initial condition\n",
    "X_path2 = generate_path(stock_update, X_path1[:, -1], T-T_hat, \n",
    "                            model=model_baseline)\n",
    "x_path2 = generate_path(rate_update, x_path1[:, -1], T-T_hat, \n",
    "                            model=model_baseline)"
   ]
  },
  {
   "cell_type": "markdown",
   "id": "c24507a4",
   "metadata": {},
   "source": [
    "Finally, we combine these two paths and plot"
   ]
  },
  {
   "cell_type": "code",
   "execution_count": null,
   "id": "b87c24a7",
   "metadata": {
    "hide-output": false
   },
   "outputs": [],
   "source": [
    "# Combine paths\n",
    "X_path = jnp.hstack([X_path1, X_path2[:, 1:]])\n",
    "x_path = jnp.hstack([x_path1, x_path2[:, 1:]])\n",
    "\n",
    "fig, axes = plt.subplots(3, 1, figsize=[10, 9])\n",
    "\n",
    "axes[0].plot(X_path[0, :])\n",
    "axes[0].set_title('unemployment')\n",
    "\n",
    "axes[1].plot(X_path[1, :])\n",
    "axes[1].set_title('employment')\n",
    "\n",
    "axes[2].plot(X_path.sum(0))\n",
    "axes[2].set_title('labor force')\n",
    "\n",
    "plt.tight_layout()\n",
    "plt.show()"
   ]
  },
  {
   "cell_type": "markdown",
   "id": "5a995cde",
   "metadata": {},
   "source": [
    "And the rates"
   ]
  },
  {
   "cell_type": "code",
   "execution_count": null,
   "id": "97087282",
   "metadata": {
    "hide-output": false
   },
   "outputs": [],
   "source": [
    "fig, axes = plt.subplots(2, 1, figsize=[10, 6])\n",
    "\n",
    "titles = ['unemployment rate', 'employment rate']\n",
    "\n",
    "for i, title in enumerate(titles):\n",
    "    axes[i].plot(x_path[i, :])\n",
    "    axes[i].hlines(x0[i], 0, T, 'r', '--')\n",
    "    axes[i].set_title(title)\n",
    "\n",
    "plt.tight_layout()\n",
    "plt.show()"
   ]
  }
 ],
 "metadata": {
  "date": 1761109212.5446382,
  "filename": "lake_model.md",
  "kernelspec": {
   "display_name": "Python",
   "language": "python3",
   "name": "python3"
  },
  "title": "A Lake Model of Employment and Unemployment"
 },
 "nbformat": 4,
 "nbformat_minor": 5
}