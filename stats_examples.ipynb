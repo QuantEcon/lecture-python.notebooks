{
 "cells": [
  {
   "cell_type": "markdown",
   "id": "a44d21de",
   "metadata": {},
   "source": [
    "# Some Probability Distributions\n",
    "\n",
    "This lecture is a supplement to [this lecture on statistics with matrices](https://python.quantecon.org/prob_matrix.html).\n",
    "\n",
    "It describes some popular distributions and uses Python to sample from them.\n",
    "\n",
    "It also describes a way to sample from an arbitrary probability distribution that you make up by\n",
    "transforming a sample from a uniform probability distribution.\n",
    "\n",
    "In addition to what’s in Anaconda, this lecture will need the following libraries:"
   ]
  },
  {
   "cell_type": "code",
   "execution_count": null,
   "id": "a6dc583e",
   "metadata": {
    "hide-output": false
   },
   "outputs": [],
   "source": [
    "!pip install prettytable"
   ]
  },
  {
   "cell_type": "markdown",
   "id": "a5afe977",
   "metadata": {},
   "source": [
    "As usual, we’ll start with some imports"
   ]
  },
  {
   "cell_type": "code",
   "execution_count": null,
   "id": "6a91db53",
   "metadata": {
    "hide-output": false
   },
   "outputs": [],
   "source": [
    "import numpy as np\n",
    "import matplotlib.pyplot as plt\n",
    "import prettytable as pt\n",
    "from mpl_toolkits.mplot3d import Axes3D\n",
    "from matplotlib_inline.backend_inline import set_matplotlib_formats\n",
    "set_matplotlib_formats('retina')"
   ]
  },
  {
   "cell_type": "markdown",
   "id": "cb934c6f",
   "metadata": {},
   "source": [
    "## Some Discrete Probability Distributions\n",
    "\n",
    "Let’s write some Python code to compute   means and variances of some  univariate random variables.\n",
    "\n",
    "We’ll use our code to\n",
    "\n",
    "- compute population means and variances from the probability distribution  \n",
    "- generate  a sample  of $ N $ independently and identically distributed draws and compute sample means and variances  \n",
    "- compare population and sample means and variances  "
   ]
  },
  {
   "cell_type": "markdown",
   "id": "8388399c",
   "metadata": {},
   "source": [
    "## Geometric distribution\n",
    "\n",
    "A discrete geometric distribution has probability  mass function\n",
    "\n",
    "$$\n",
    "\\textrm{Prob}(X=k)=(1-p)^{k-1}p,k=1,2, \\ldots,  \\quad p \\in (0,1)\n",
    "$$\n",
    "\n",
    "where $ k = 1, 2, \\ldots $ is the number of trials before the first success.\n",
    "\n",
    "The mean and variance of this one-parameter probability distribution are\n",
    "\n",
    "$$\n",
    "\\begin{aligned}\n",
    "\\mathbb{E}(X) & =\\frac{1}{p}\\\\\\mathbb{Var}(X) & =\\frac{1-p}{p^2}\n",
    "\\end{aligned}\n",
    "$$\n",
    "\n",
    "Let’s use Python  draw observations from the distribution and compare the sample mean and variance with the theoretical results."
   ]
  },
  {
   "cell_type": "code",
   "execution_count": null,
   "id": "1f25064a",
   "metadata": {
    "hide-output": false
   },
   "outputs": [],
   "source": [
    "# specify parameters\n",
    "p, n = 0.3, 1_000_000\n",
    "\n",
    "# draw observations from the distribution\n",
    "x = np.random.geometric(p, n)\n",
    "\n",
    "# compute sample mean and variance\n",
    "μ_hat = np.mean(x)\n",
    "σ2_hat = np.var(x)\n",
    "\n",
    "print(\"The sample mean is: \", μ_hat, \"\\nThe sample variance is: \", σ2_hat)\n",
    "\n",
    "# compare with theoretical results\n",
    "print(\"\\nThe population mean is: \", 1/p)\n",
    "print(\"The population variance is: \", (1-p)/(p**2))"
   ]
  },
  {
   "cell_type": "markdown",
   "id": "14ba83a6",
   "metadata": {},
   "source": [
    "## Pascal (negative binomial) distribution\n",
    "\n",
    "Consider a sequence of independent Bernoulli trials.\n",
    "\n",
    "Let $ p $ be the probability of success.\n",
    "\n",
    "Let $ X $ be a random variable that represents the number of failures before we get $ r $ successes.\n",
    "\n",
    "Its distribution is\n",
    "\n",
    "$$\n",
    "\\begin{aligned}\n",
    "X  & \\sim NB(r,p) \\\\\n",
    "\\textrm{Prob}(X=k;r,p) & = \\begin{bmatrix}k+r-1 \\\\ r-1 \\end{bmatrix}p^r(1-p)^{k}\n",
    "\\end{aligned}\n",
    "$$\n",
    "\n",
    "Here, we choose from among $ k+r-1 $ possible outcomes  because the last draw is by definition a success.\n",
    "\n",
    "We compute the mean and variance to be\n",
    "\n",
    "$$\n",
    "\\begin{aligned}\n",
    "\\mathbb{E}(X) & = \\frac{k(1-p)}{p} \\\\\n",
    "\\mathbb{V}(X) & = \\frac{k(1-p)}{p^2}\n",
    "\\end{aligned}\n",
    "$$"
   ]
  },
  {
   "cell_type": "code",
   "execution_count": null,
   "id": "74079b64",
   "metadata": {
    "hide-output": false
   },
   "outputs": [],
   "source": [
    "# specify parameters\n",
    "r, p, n = 10, 0.3, 1_000_000\n",
    "\n",
    "# draw observations from the distribution\n",
    "x = np.random.negative_binomial(r, p, n)\n",
    "\n",
    "# compute sample mean and variance\n",
    "μ_hat = np.mean(x)\n",
    "σ2_hat = np.var(x)\n",
    "\n",
    "print(\"The sample mean is: \", μ_hat, \"\\nThe sample variance is: \", σ2_hat)\n",
    "print(\"\\nThe population mean is: \", r*(1-p)/p)\n",
    "print(\"The population variance is: \", r*(1-p)/p**2)"
   ]
  },
  {
   "cell_type": "markdown",
   "id": "d6cf52e2",
   "metadata": {},
   "source": [
    "## Newcomb–Benford distribution\n",
    "\n",
    "The **Newcomb–Benford law** fits  many data sets, e.g., reports of incomes to tax authorities, in which\n",
    "the leading digit is more likely to be small than large.\n",
    "\n",
    "See [https://en.wikipedia.org/wiki/Benford’s_law](https://en.wikipedia.org/wiki/Benford%27s_law)\n",
    "\n",
    "A Benford probability distribution is\n",
    "\n",
    "$$\n",
    "\\textrm{Prob}\\{X=d\\}=\\log _{10}(d+1)-\\log _{10}(d)=\\log _{10}\\left(1+\\frac{1}{d}\\right)\n",
    "$$\n",
    "\n",
    "where $ d\\in\\{1,2,\\cdots,9\\} $ can be thought of as a **first digit** in a sequence of digits.\n",
    "\n",
    "This is a well defined discrete distribution since we can verify that probabilities are nonnegative and sum to $ 1 $.\n",
    "\n",
    "$$\n",
    "\\log_{10}\\left(1+\\frac{1}{d}\\right)\\geq0,\\quad\\sum_{d=1}^{9}\\log_{10}\\left(1+\\frac{1}{d}\\right)=1\n",
    "$$\n",
    "\n",
    "The mean and variance of a Benford distribution are\n",
    "\n",
    "$$\n",
    "\\begin{aligned}\n",
    "\\mathbb{E}\\left[X\\right]\t &=\\sum_{d=1}^{9}d\\log_{10}\\left(1+\\frac{1}{d}\\right)\\simeq3.4402 \\\\\n",
    "\\mathbb{V}\\left[X\\right]\t & =\\sum_{d=1}^{9}\\left(d-\\mathbb{E}\\left[X\\right]\\right)^{2}\\log_{10}\\left(1+\\frac{1}{d}\\right)\\simeq6.0565\n",
    "\\end{aligned}\n",
    "$$\n",
    "\n",
    "We verify the above and compute the mean and variance using `numpy`."
   ]
  },
  {
   "cell_type": "code",
   "execution_count": null,
   "id": "e1f9c26a",
   "metadata": {
    "hide-output": false
   },
   "outputs": [],
   "source": [
    "Benford_pmf = np.array([np.log10(1+1/d) for d in range(1,10)])\n",
    "k = np.arange(1, 10)\n",
    "\n",
    "# mean\n",
    "mean = k @ Benford_pmf\n",
    "\n",
    "# variance\n",
    "var = ((k - mean) ** 2) @ Benford_pmf\n",
    "\n",
    "# verify sum to 1\n",
    "print(np.sum(Benford_pmf))\n",
    "print(mean)\n",
    "print(var)"
   ]
  },
  {
   "cell_type": "code",
   "execution_count": null,
   "id": "130c82c3",
   "metadata": {
    "hide-output": false
   },
   "outputs": [],
   "source": [
    "# plot distribution\n",
    "plt.plot(range(1,10), Benford_pmf, 'o')\n",
    "plt.title('Benford\\'s distribution')\n",
    "plt.show()"
   ]
  },
  {
   "cell_type": "markdown",
   "id": "9bf1c65c",
   "metadata": {},
   "source": [
    "Now let’s turn to some continuous random variables."
   ]
  },
  {
   "cell_type": "markdown",
   "id": "b539a2b1",
   "metadata": {},
   "source": [
    "## Univariate Gaussian distribution\n",
    "\n",
    "We write\n",
    "\n",
    "$$\n",
    "X \\sim N(\\mu,\\sigma^2)\n",
    "$$\n",
    "\n",
    "to indicate the probability distribution\n",
    "\n",
    "$$\n",
    "f(x|u,\\sigma^2)=\\frac{1}{\\sqrt{2\\pi \\sigma^2}}e^{[-\\frac{1}{2\\sigma^2}(x-u)^2]}\n",
    "$$\n",
    "\n",
    "In the below example, we set $ \\mu = 0, \\sigma = 0.1 $."
   ]
  },
  {
   "cell_type": "code",
   "execution_count": null,
   "id": "08d30745",
   "metadata": {
    "hide-output": false
   },
   "outputs": [],
   "source": [
    "# specify parameters\n",
    "μ, σ = 0, 0.1\n",
    "\n",
    "# specify number of draws\n",
    "n = 1_000_000\n",
    "\n",
    "# draw observations from the distribution\n",
    "x = np.random.normal(μ, σ, n)\n",
    "\n",
    "# compute sample mean and variance\n",
    "μ_hat = np.mean(x)\n",
    "σ_hat = np.std(x)\n",
    "\n",
    "print(\"The sample mean is: \", μ_hat)\n",
    "print(\"The sample standard deviation is: \", σ_hat)"
   ]
  },
  {
   "cell_type": "code",
   "execution_count": null,
   "id": "7f1d0948",
   "metadata": {
    "hide-output": false
   },
   "outputs": [],
   "source": [
    "# compare\n",
    "print(μ-μ_hat < 1e-3)\n",
    "print(σ-σ_hat < 1e-3)"
   ]
  },
  {
   "cell_type": "markdown",
   "id": "6d63d6ac",
   "metadata": {},
   "source": [
    "## Uniform Distribution\n",
    "\n",
    "$$\n",
    "\\begin{aligned}\n",
    "X & \\sim U[a,b] \\\\\n",
    "f(x)& = \\begin{cases} \\frac{1}{b-a}, & a \\leq x \\leq b \\\\ \\quad0, & \\text{otherwise}  \\end{cases}\n",
    "\\end{aligned}\n",
    "$$\n",
    "\n",
    "The population mean and variance are\n",
    "\n",
    "$$\n",
    "\\begin{aligned}\n",
    "\\mathbb{E}(X) & = \\frac{a+b}{2} \\\\\n",
    "\\mathbb{V}(X) & = \\frac{(b-a)^2}{12}\n",
    "\\end{aligned}\n",
    "$$"
   ]
  },
  {
   "cell_type": "code",
   "execution_count": null,
   "id": "9f509d1f",
   "metadata": {
    "hide-output": false
   },
   "outputs": [],
   "source": [
    "# specify parameters\n",
    "a, b = 10, 20\n",
    "\n",
    "# specify number of draws\n",
    "n = 1_000_000\n",
    "\n",
    "# draw observations from the distribution\n",
    "x = a + (b-a)*np.random.rand(n)\n",
    "\n",
    "# compute sample mean and variance\n",
    "μ_hat = np.mean(x)\n",
    "σ2_hat = np.var(x)\n",
    "\n",
    "print(\"The sample mean is: \", μ_hat, \"\\nThe sample variance is: \", σ2_hat)\n",
    "print(\"\\nThe population mean is: \", (a+b)/2)\n",
    "print(\"The population variance is: \", (b-a)**2/12)"
   ]
  },
  {
   "cell_type": "markdown",
   "id": "dd3979b5",
   "metadata": {},
   "source": [
    "## A Mixed Discrete-Continuous Distribution\n",
    "\n",
    "We’ll motivate this example with  a little story.\n",
    "\n",
    "Suppose that  to apply for a job  you take an interview and either pass or fail it.\n",
    "\n",
    "You have $ 5\\% $ chance to pass an interview and you know your salary will uniformly distributed in the interval 300~400 a day only if you pass.\n",
    "\n",
    "We can describe your daily salary as  a discrete-continuous variable with the following probabilities:\n",
    "\n",
    "$$\n",
    "P(X=0)=0.95\n",
    "$$\n",
    "\n",
    "$$\n",
    "P(300\\le X \\le 400)=\\int_{300}^{400} f(x)\\, dx=0.05\n",
    "$$\n",
    "\n",
    "$$\n",
    "f(x) = 0.0005\n",
    "$$\n",
    "\n",
    "Let’s start by generating a random sample and computing sample moments."
   ]
  },
  {
   "cell_type": "code",
   "execution_count": null,
   "id": "01423caa",
   "metadata": {
    "hide-output": false
   },
   "outputs": [],
   "source": [
    "x = np.random.rand(1_000_000)\n",
    "# x[x > 0.95] = 100*x[x > 0.95]+300\n",
    "x[x > 0.95] = 100*np.random.rand(len(x[x > 0.95]))+300\n",
    "x[x <= 0.95] = 0\n",
    "\n",
    "μ_hat = np.mean(x)\n",
    "σ2_hat = np.var(x)\n",
    "\n",
    "print(\"The sample mean is: \", μ_hat, \"\\nThe sample variance is: \", σ2_hat)"
   ]
  },
  {
   "cell_type": "markdown",
   "id": "d4666bb7",
   "metadata": {},
   "source": [
    "The analytical mean and variance can be computed:\n",
    "\n",
    "$$\n",
    "\\begin{aligned}\n",
    "\\mu &= \\int_{300}^{400}xf(x)dx \\\\\n",
    "&= 0.0005\\int_{300}^{400}xdx \\\\\n",
    "&= 0.0005 \\times \\frac{1}{2}x^2\\bigg|_{300}^{400}\n",
    "\\end{aligned}\n",
    "$$\n",
    "\n",
    "$$\n",
    "\\begin{aligned}\n",
    "\\sigma^2 &= 0.95\\times(0-17.5)^2+\\int_{300}^{400}(x-17.5)^2f(x)dx \\\\\n",
    "&= 0.95\\times17.5^2+0.0005\\int_{300}^{400}(x-17.5)^2dx \\\\\n",
    "&= 0.95\\times17.5^2+0.0005 \\times \\frac{1}{3}(x-17.5)^3 \\bigg|_{300}^{400}\n",
    "\\end{aligned}\n",
    "$$"
   ]
  },
  {
   "cell_type": "code",
   "execution_count": null,
   "id": "d4a8a74a",
   "metadata": {
    "hide-output": false
   },
   "outputs": [],
   "source": [
    "mean = 0.0005*0.5*(400**2 - 300**2)\n",
    "var = 0.95*17.5**2+0.0005/3*((400-17.5)**3-(300-17.5)**3)\n",
    "print(\"mean: \", mean)\n",
    "print(\"variance: \", var)"
   ]
  },
  {
   "cell_type": "markdown",
   "id": "10a5ad4a",
   "metadata": {},
   "source": [
    "## Drawing a  Random Number from a Particular Distribution\n",
    "\n",
    "Suppose we have at our disposal a pseudo random number that draws a uniform random variable, i.e., one with probability distribution\n",
    "\n",
    "$$\n",
    "\\textrm{Prob}\\{\\tilde{X}=i\\}=\\frac{1}{I},\\quad i=0,\\ldots,I-1\n",
    "$$\n",
    "\n",
    "How can we transform $ \\tilde{X} $ to get a random variable $ X $ for which $ \\textrm{Prob}\\{X=i\\}=f_i,\\quad i=0,\\ldots,I-1 $,\n",
    "where $ f_i $ is an arbitary discrete probability distribution on $ i=0,1,\\dots,I-1 $?\n",
    "\n",
    "The key tool is the inverse of a cumulative distribution function (CDF).\n",
    "\n",
    "Observe that the CDF of a distribution is monotone and non-decreasing, taking values between $ 0 $ and $ 1 $.\n",
    "\n",
    "We can draw a sample of a random variable $ X $ with a known CDF as follows:\n",
    "\n",
    "- draw a random variable  $ u $ from a uniform distribution on $ [0,1] $  \n",
    "- pass the sample value of $ u $ into the **“inverse”** target  CDF for $ X $  \n",
    "- $ X $ has the target CDF  \n",
    "\n",
    "\n",
    "Thus, knowing the **“inverse”** CDF of a distribution is enough to simulate from this distribution.\n",
    "\n",
    ">**Note**\n",
    ">\n",
    ">The “inverse” CDF needs to exist for this method to work.\n",
    "\n",
    "The inverse CDF is\n",
    "\n",
    "$$\n",
    "F^{-1}(u)\\equiv\\inf \\{x\\in \\mathbb{R}: F(x) \\geq u\\} \\quad(0<u<1)\n",
    "$$\n",
    "\n",
    "Here  we use infimum because a CDF is a non-decreasing and right-continuous function.\n",
    "\n",
    "Thus, suppose that\n",
    "\n",
    "- $ U $ is a uniform random variable $ U\\in[0,1] $  \n",
    "- We want to sample a random variable $ X $ whose  CDF is  $ F $.  \n",
    "\n",
    "\n",
    "It turns out that if we use draw uniform random numbers $ U $ and then compute  $ X $ from\n",
    "\n",
    "$$\n",
    "X=F^{-1}(U),\n",
    "$$\n",
    "\n",
    "then $ X $ is a random variable  with CDF $ F_X(x)=F(x)=\\textrm{Prob}\\{X\\le x\\} $.\n",
    "\n",
    "We’ll verify this in  the special case in which  $ F $ is continuous and bijective so that its inverse function exists and  can be  denoted by $ F^{-1} $.\n",
    "\n",
    "Note that\n",
    "\n",
    "$$\n",
    "\\begin{aligned}\n",
    "F_{X}\\left(x\\right)\t& =\\textrm{Prob}\\left\\{ X\\leq x\\right\\} \\\\\n",
    "\t& =\\textrm{Prob}\\left\\{ F^{-1}\\left(U\\right)\\leq x\\right\\} \\\\\n",
    "\t& =\\textrm{Prob}\\left\\{ U\\leq F\\left(x\\right)\\right\\} \\\\\n",
    "\t& =F\\left(x\\right)\n",
    "\\end{aligned}\n",
    "$$\n",
    "\n",
    "where the last equality occurs  because $ U $ is distributed uniformly on $ [0,1] $ while $ F(x) $ is a constant given $ x $ that also lies on $ [0,1] $.\n",
    "\n",
    "Let’s use  `numpy` to compute some examples.\n",
    "\n",
    "**Example: A continuous geometric (exponential) distribution**\n",
    "\n",
    "Let $ X $ follow a geometric distribution, with parameter $ \\lambda>0 $.\n",
    "\n",
    "Its density function is\n",
    "\n",
    "$$\n",
    "\\quad f(x)=\\lambda e^{-\\lambda x}\n",
    "$$\n",
    "\n",
    "Its CDF is\n",
    "\n",
    "$$\n",
    "F(x)=\\int_{0}^{\\infty}\\lambda e^{-\\lambda x}=1-e^{-\\lambda x}\n",
    "$$\n",
    "\n",
    "Let $ U $ follow a uniform distribution on $ [0,1] $.\n",
    "\n",
    "$ X $ is a random variable such that $ U=F(X) $.\n",
    "\n",
    "The distribution $ X $ can be deduced from\n",
    "\n",
    "$$\n",
    "\\begin{aligned}\n",
    "U& =F(X)=1-e^{-\\lambda X}\\qquad\\\\\n",
    "\\implies & \\quad -U=e^{-\\lambda X}\\\\\n",
    "\\implies&  \\quad \\log(1-U)=-\\lambda X\\\\\n",
    "\\implies & \\quad X=\\frac{(1-U)}{-\\lambda}\n",
    "\\end{aligned}\n",
    "$$\n",
    "\n",
    "Let’s draw $ u $ from $ U[0,1] $ and calculate $ x=\\frac{log(1-U)}{-\\lambda} $.\n",
    "\n",
    "We’ll check whether  $ X $  seems to follow a **continuous geometric** (exponential) distribution.\n",
    "\n",
    "Let’s check with `numpy`."
   ]
  },
  {
   "cell_type": "code",
   "execution_count": null,
   "id": "9565698d",
   "metadata": {
    "hide-output": false
   },
   "outputs": [],
   "source": [
    "n, λ = 1_000_000, 0.3\n",
    "\n",
    "# draw uniform numbers\n",
    "u = np.random.rand(n)\n",
    "\n",
    "# transform\n",
    "x = -np.log(1-u)/λ\n",
    "\n",
    "# draw geometric distributions\n",
    "x_g = np.random.exponential(1 / λ, n)\n",
    "\n",
    "# plot and compare\n",
    "plt.hist(x, bins=100, density=True)\n",
    "plt.show()"
   ]
  },
  {
   "cell_type": "code",
   "execution_count": null,
   "id": "d45040c7",
   "metadata": {
    "hide-output": false
   },
   "outputs": [],
   "source": [
    "plt.hist(x_g, bins=100, density=True, alpha=0.6)\n",
    "plt.show()"
   ]
  },
  {
   "cell_type": "markdown",
   "id": "bf0f2b85",
   "metadata": {},
   "source": [
    "**Geometric distribution**\n",
    "\n",
    "Let $ X $ distributed geometrically, that is\n",
    "\n",
    "$$\n",
    "\\begin{aligned}\n",
    "\\textrm{Prob}(X=i) & =(1-\\lambda)\\lambda^i,\\quad\\lambda\\in(0,1), \\quad  i=0,1,\\dots \\\\\n",
    " & \\sum_{i=0}^{\\infty}\\textrm{Prob}(X=i)=1\\longleftrightarrow(1- \\lambda)\\sum_{i=0}^{\\infty}\\lambda^i=\\frac{1-\\lambda}{1-\\lambda}=1\n",
    "\\end{aligned}\n",
    "$$\n",
    "\n",
    "Its CDF is given by\n",
    "\n",
    "$$\n",
    "\\begin{aligned}\n",
    "\\textrm{Prob}(X\\le i)& =(1-\\lambda)\\sum_{j=0}^{i}\\lambda^i\\\\\n",
    "& =(1-\\lambda)[\\frac{1-\\lambda^{i+1}}{1-\\lambda}]\\\\\n",
    "& =1-\\lambda^{i+1}\\\\\n",
    "& =F(X)=F_i \\quad\n",
    "\\end{aligned}\n",
    "$$\n",
    "\n",
    "Again, let $ \\tilde{U} $ follow a uniform distribution and we want to find $ X $ such that $ F(X)=\\tilde{U} $.\n",
    "\n",
    "Let’s deduce the distribution of $ X $ from\n",
    "\n",
    "$$\n",
    "\\begin{aligned}\n",
    "\\tilde{U} & =F(X)=1-\\lambda^{x+1}\\\\\n",
    "1-\\tilde{U} & =\\lambda^{x+1}\\\\\n",
    "\\log(1-\\tilde{U})& =(x+1)\\log\\lambda\\\\\n",
    "\\frac{\\log(1-\\tilde{U})}{\\log\\lambda}& =x+1\\\\\n",
    "\\frac{\\log(1-\\tilde{U})}{\\log\\lambda}-1 &=x\n",
    "\\end{aligned}\n",
    "$$\n",
    "\n",
    "However, $ \\tilde{U}=F^{-1}(X) $ may not be an integer for any $ x\\geq0 $.\n",
    "\n",
    "So let\n",
    "\n",
    "$$\n",
    "x=\\lceil\\frac{\\log(1-\\tilde{U})}{\\log\\lambda}-1\\rceil\n",
    "$$\n",
    "\n",
    "where $ \\lceil . \\rceil $ is the ceiling function.\n",
    "\n",
    "Thus $ x $ is the smallest integer such that the discrete geometric CDF is greater than or equal to $ \\tilde{U} $.\n",
    "\n",
    "We can verify that $ x $ is indeed geometrically distributed by the following `numpy` program.\n",
    "\n",
    ">**Note**\n",
    ">\n",
    ">The exponential distribution is the continuous analog of geometric distribution."
   ]
  },
  {
   "cell_type": "code",
   "execution_count": null,
   "id": "210ecab3",
   "metadata": {
    "hide-output": false
   },
   "outputs": [],
   "source": [
    "n, λ = 1_000_000, 0.8\n",
    "\n",
    "# draw uniform numbers\n",
    "u = np.random.rand(n)\n",
    "\n",
    "# transform\n",
    "x = np.ceil(np.log(1-u)/np.log(λ) - 1)\n",
    "\n",
    "# draw geometric distributions\n",
    "x_g = np.random.geometric(1-λ, n)\n",
    "\n",
    "# plot and compare\n",
    "plt.hist(x, bins=150, density=True)\n",
    "plt.show()"
   ]
  },
  {
   "cell_type": "code",
   "execution_count": null,
   "id": "14181aaf",
   "metadata": {
    "hide-output": false
   },
   "outputs": [],
   "source": [
    "np.random.geometric(1-λ, n).max()"
   ]
  },
  {
   "cell_type": "code",
   "execution_count": null,
   "id": "90cac343",
   "metadata": {
    "hide-output": false
   },
   "outputs": [],
   "source": [
    "np.log(0.4)/np.log(0.3)"
   ]
  },
  {
   "cell_type": "code",
   "execution_count": null,
   "id": "2bc8cbe5",
   "metadata": {
    "hide-output": false
   },
   "outputs": [],
   "source": [
    "plt.hist(x_g, bins=150, density=True, alpha=0.6)\n",
    "plt.show()"
   ]
  }
 ],
 "metadata": {
  "date": 1761109217.0391996,
  "filename": "stats_examples.md",
  "kernelspec": {
   "display_name": "Python",
   "language": "python3",
   "name": "python3"
  },
  "title": "Some Probability Distributions"
 },
 "nbformat": 4,
 "nbformat_minor": 5
}