{
 "cells": [
  {
   "cell_type": "markdown",
   "metadata": {},
   "source": [
    "\n",
    "<a id='multi-agent-models'></a>\n",
    "<div id=\"qe-notebook-header\" align=\"right\" style=\"text-align:right;\">\n",
    "        <a href=\"https://quantecon.org/\" title=\"quantecon.org\">\n",
    "                <img style=\"width:250px;display:inline;\" width=\"250px\" src=\"https://assets.quantecon.org/img/qe-menubar-logo.svg\" alt=\"QuantEcon\">\n",
    "        </a>\n",
    "</div>"
   ]
  },
  {
   "cell_type": "markdown",
   "metadata": {},
   "source": [
    "# Multiple Agent Models\n",
    "\n",
    "These lectures look at important economic models that also illustrate common\n",
    "equilibrium concepts."
   ]
  },
  {
   "cell_type": "markdown",
   "metadata": {},
   "source": [
    "## Lectures\n",
    "\n",
    "- [Schelling’s Segregation Model](https://python-programming.quantecon.org/schelling.html)\n",
    "  - [Outline](https://python-programming.quantecon.org/schelling.html#outline)\n",
    "  - [The Model](https://python-programming.quantecon.org/schelling.html#the-model)\n",
    "  - [Results](https://python-programming.quantecon.org/schelling.html#results)\n",
    "  - [Exercises](https://python-programming.quantecon.org/schelling.html#exercises)\n",
    "  - [Solutions](https://python-programming.quantecon.org/schelling.html#solutions)\n",
    "- [A Lake Model of Employment and Unemployment](https://python-programming.quantecon.org/lake_model.html)\n",
    "  - [Overview](https://python-programming.quantecon.org/lake_model.html#overview)\n",
    "  - [The Model](https://python-programming.quantecon.org/lake_model.html#the-model)\n",
    "  - [Implementation](https://python-programming.quantecon.org/lake_model.html#implementation)\n",
    "  - [Dynamics of an Individual Worker](https://python-programming.quantecon.org/lake_model.html#dynamics-of-an-individual-worker)\n",
    "  - [Endogenous Job Finding Rate](https://python-programming.quantecon.org/lake_model.html#endogenous-job-finding-rate)\n",
    "  - [Exercises](https://python-programming.quantecon.org/lake_model.html#exercises)\n",
    "  - [Solutions](https://python-programming.quantecon.org/lake_model.html#solutions)\n",
    "- [Rational Expectations Equilibrium](https://python-programming.quantecon.org/rational_expectations.html)\n",
    "  - [Overview](https://python-programming.quantecon.org/rational_expectations.html#overview)\n",
    "  - [Defining Rational Expectations Equilibrium](https://python-programming.quantecon.org/rational_expectations.html#defining-rational-expectations-equilibrium)\n",
    "  - [Computation of an Equilibrium](https://python-programming.quantecon.org/rational_expectations.html#computation-of-an-equilibrium)\n",
    "  - [Exercises](https://python-programming.quantecon.org/rational_expectations.html#exercises)\n",
    "  - [Solutions](https://python-programming.quantecon.org/rational_expectations.html#solutions)\n",
    "- [Stability in Linear Rational Expectations Models](https://python-programming.quantecon.org/re_with_feedback.html)\n",
    "  - [Overview](https://python-programming.quantecon.org/re_with_feedback.html#overview)\n",
    "  - [Linear difference equations](https://python-programming.quantecon.org/re_with_feedback.html#linear-difference-equations)\n",
    "  - [Illustration: Cagan’s Model](https://python-programming.quantecon.org/re_with_feedback.html#illustration-cagan-s-model)\n",
    "  - [Some Python code](https://python-programming.quantecon.org/re_with_feedback.html#some-python-code)\n",
    "  - [Alternative code](https://python-programming.quantecon.org/re_with_feedback.html#alternative-code)\n",
    "  - [Another perspective](https://python-programming.quantecon.org/re_with_feedback.html#another-perspective)\n",
    "  - [Log money supply feeds back on log price level](https://python-programming.quantecon.org/re_with_feedback.html#log-money-supply-feeds-back-on-log-price-level)\n",
    "  - [Big $ P $, little $ p $ interpretation](https://python-programming.quantecon.org/re_with_feedback.html#big-p-little-p-interpretation)\n",
    "  - [Fun with SymPy code](https://python-programming.quantecon.org/re_with_feedback.html#fun-with-sympy-code)\n",
    "- [Markov Perfect Equilibrium](https://python-programming.quantecon.org/markov_perf.html)\n",
    "  - [Overview](https://python-programming.quantecon.org/markov_perf.html#overview)\n",
    "  - [Background](https://python-programming.quantecon.org/markov_perf.html#background)\n",
    "  - [Linear Markov Perfect Equilibria](https://python-programming.quantecon.org/markov_perf.html#linear-markov-perfect-equilibria)\n",
    "  - [Application](https://python-programming.quantecon.org/markov_perf.html#application)\n",
    "  - [Exercises](https://python-programming.quantecon.org/markov_perf.html#exercises)\n",
    "  - [Solutions](https://python-programming.quantecon.org/markov_perf.html#solutions)\n",
    "- [Uncertainty Traps](https://python-programming.quantecon.org/uncertainty_traps.html)\n",
    "  - [Overview](https://python-programming.quantecon.org/uncertainty_traps.html#overview)\n",
    "  - [The Model](https://python-programming.quantecon.org/uncertainty_traps.html#the-model)\n",
    "  - [Implementation](https://python-programming.quantecon.org/uncertainty_traps.html#implementation)\n",
    "  - [Results](https://python-programming.quantecon.org/uncertainty_traps.html#results)\n",
    "  - [Exercises](https://python-programming.quantecon.org/uncertainty_traps.html#exercises)\n",
    "  - [Solutions](https://python-programming.quantecon.org/uncertainty_traps.html#solutions)\n",
    "- [The Aiyagari Model](https://python-programming.quantecon.org/aiyagari.html)\n",
    "  - [Overview](https://python-programming.quantecon.org/aiyagari.html#overview)\n",
    "  - [The Economy](https://python-programming.quantecon.org/aiyagari.html#the-economy)\n",
    "  - [Firms](https://python-programming.quantecon.org/aiyagari.html#firms)\n",
    "  - [Code](https://python-programming.quantecon.org/aiyagari.html#code)"
   ]
  }
 ],
 "metadata": {
  "date": 1615288252.7957783,
  "filename": "index_multi_agent_models.rst",
  "kernelspec": {
   "display_name": "Python",
   "language": "python3",
   "name": "python3"
  },
  "next_doc": {
   "link": "schelling",
   "title": "Schelling’s Segregation Model"
  },
  "prev_doc": {
   "link": "lq_inventories",
   "title": "Production Smoothing via Inventories"
  },
  "title": "Multiple Agent Models"
 },
 "nbformat": 4,
 "nbformat_minor": 2
}