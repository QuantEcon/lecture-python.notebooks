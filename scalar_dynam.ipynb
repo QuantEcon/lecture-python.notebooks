{
 "cells": [
  {
   "cell_type": "markdown",
   "id": "7b65cf7e",
   "metadata": {},
   "source": [
    "# Dynamics in One Dimension"
   ]
  },
  {
   "cell_type": "markdown",
   "id": "bb40aa6b",
   "metadata": {},
   "source": [
    "## Contents\n",
    "\n",
    "- [Dynamics in One Dimension](#Dynamics-in-One-Dimension)  \n",
    "  - [Overview](#Overview)  \n",
    "  - [Some Definitions](#Some-Definitions)  \n",
    "  - [Graphical Analysis](#Graphical-Analysis)  \n",
    "  - [Exercises](#Exercises)  \n",
    "  - [Solutions](#Solutions)  "
   ]
  },
  {
   "cell_type": "markdown",
   "id": "7f2d69c8",
   "metadata": {},
   "source": [
    "## Overview\n",
    "\n",
    "In this lecture we give a quick introduction to discrete time dynamics in one\n",
    "dimension.\n",
    "\n",
    "In one-dimensional models, the state of the system is described by a single variable.\n",
    "\n",
    "Although most interesting dynamic models have two or more state variables, the\n",
    "one-dimensional setting is a good place to learn the foundations of dynamics and build\n",
    "intuition.\n",
    "\n",
    "Let’s start with some standard imports:"
   ]
  },
  {
   "cell_type": "code",
   "execution_count": null,
   "id": "9eddfd70",
   "metadata": {
    "hide-output": false
   },
   "outputs": [],
   "source": [
    "%matplotlib inline\n",
    "import matplotlib.pyplot as plt\n",
    "plt.rcParams[\"figure.figsize\"] = (11, 5)  #set default figure size\n",
    "import numpy as np"
   ]
  },
  {
   "cell_type": "markdown",
   "id": "ef52f001",
   "metadata": {},
   "source": [
    "## Some Definitions\n",
    "\n",
    "This section sets out the objects of interest and the kinds of properties we study."
   ]
  },
  {
   "cell_type": "markdown",
   "id": "de9b35c4",
   "metadata": {},
   "source": [
    "### Difference Equations\n",
    "\n",
    "A **time homogeneous first order difference equation** is an equation of the\n",
    "form\n",
    "\n",
    "\n",
    "<a id='equation-sdsod'></a>\n",
    "$$\n",
    "x_{t+1} = g(x_t) \\tag{16.1}\n",
    "$$\n",
    "\n",
    "where $ g $ is a function from some subset $ S $ of $ \\mathbb R $ to itself.\n",
    "\n",
    "Here $ S $ is called the **state space** and $ x $ is called the **state variable**.\n",
    "\n",
    "In the definition,\n",
    "\n",
    "- time homogeneity means that $ g $ is the same at each time $ t $  \n",
    "- first order means dependence on only one lag (i.e., earlier states such as $ x_{t-1} $ do not enter into [(16.1)](#equation-sdsod)).  \n",
    "\n",
    "\n",
    "If $ x_0 \\in S $ is given, then [(16.1)](#equation-sdsod) recursively defines the sequence\n",
    "\n",
    "\n",
    "<a id='equation-sdstraj'></a>\n",
    "$$\n",
    "x_0, \\quad\n",
    "x_1 = g(x_0), \\quad\n",
    "x_2 = g(x_1) = g(g(x_0)), \\quad \\text{etc.} \\tag{16.2}\n",
    "$$\n",
    "\n",
    "This sequence is called the **trajectory** of $ x_0 $ under $ g $.\n",
    "\n",
    "If we define $ g^n $ to be $ n $ compositions of $ g $ with itself, then we can write the trajectory more simply as $ x_t = g^t(x_0) $ for $ t \\geq 0 $."
   ]
  },
  {
   "cell_type": "markdown",
   "id": "a74ed9d1",
   "metadata": {},
   "source": [
    "### Example: A Linear Model\n",
    "\n",
    "One simple example is the **linear difference equation**\n",
    "\n",
    "$$\n",
    "x_{t+1} = a x_t + b, \\qquad S = \\mathbb R\n",
    "$$\n",
    "\n",
    "where $ a, b $ are fixed constants.\n",
    "\n",
    "In this case, given $ x_0 $, the trajectory [(16.2)](#equation-sdstraj) is\n",
    "\n",
    "\n",
    "<a id='equation-sdslinmodpath'></a>\n",
    "$$\n",
    "x_0, \\quad\n",
    "a x_0 + b, \\quad\n",
    "a^2 x_0 + a b + b, \\quad \\text{etc.} \\tag{16.3}\n",
    "$$\n",
    "\n",
    "Continuing in this way, and using our knowledge of [geometric series](https://python.quantecon.org/geom_series.html), we find that, for any $ t \\geq 0 $,\n",
    "\n",
    "\n",
    "<a id='equation-sdslinmod'></a>\n",
    "$$\n",
    "x_t = a^t x_0 + b \\frac{1 - a^t}{1 - a} \\tag{16.4}\n",
    "$$\n",
    "\n",
    "This is about all we need to know about the linear model.\n",
    "\n",
    "We have an exact expression for $ x_t $ for all $ t $ and hence a full\n",
    "understanding of the dynamics.\n",
    "\n",
    "Notice in particular that $ |a| < 1 $, then, by [(16.4)](#equation-sdslinmod), we have\n",
    "\n",
    "\n",
    "<a id='equation-sdslinmodc'></a>\n",
    "$$\n",
    "x_t \\to  \\frac{b}{1 - a} \\text{ as } t \\to \\infty \\tag{16.5}\n",
    "$$\n",
    "\n",
    "regardless of $ x_0 $\n",
    "\n",
    "This is an example of what is called global stability, a topic we return to\n",
    "below."
   ]
  },
  {
   "cell_type": "markdown",
   "id": "ab4f10b4",
   "metadata": {},
   "source": [
    "### Example: A Nonlinear Model\n",
    "\n",
    "In the linear example above, we obtained an exact analytical expression for $ x_t $\n",
    "in terms of arbitrary $ t $ and $ x_0 $.\n",
    "\n",
    "This made analysis of dynamics very easy.\n",
    "\n",
    "When models are nonlinear, however, the situation can be quite different.\n",
    "\n",
    "For example, recall how we [previously studied](https://python-programming.quantecon.org/python_oop.html#example-the-solow-growth-model) the law of motion for the Solow growth model, a simplified version of which is\n",
    "\n",
    "\n",
    "<a id='equation-solow-lom2'></a>\n",
    "$$\n",
    "k_{t+1} = s z k_t^{\\alpha} + (1 - \\delta) k_t \\tag{16.6}\n",
    "$$\n",
    "\n",
    "Here $ k $ is capital stock and $ s, z, \\alpha, \\delta $ are positive\n",
    "parameters with $ 0 < \\alpha, \\delta < 1 $.\n",
    "\n",
    "If you try to iterate like we did in [(16.3)](#equation-sdslinmodpath), you will find that\n",
    "the algebra gets messy quickly.\n",
    "\n",
    "Analyzing the dynamics of this model requires a different method (see below)."
   ]
  },
  {
   "cell_type": "markdown",
   "id": "b0c58aa3",
   "metadata": {},
   "source": [
    "### Stability\n",
    "\n",
    "A **steady state** of the difference equation $ x_{t+1} = g(x_t) $ is a\n",
    "point $ x^* $ in $ S $ such that $ x^* = g(x^*) $.\n",
    "\n",
    "In other words, $ x^* $ is a **fixed point** of the function $ g $ in\n",
    "$ S $.\n",
    "\n",
    "For example, for the linear model $ x_{t+1} = a x_t + b $, you can use the\n",
    "definition to check that\n",
    "\n",
    "- $ x^* := b/(1-a) $ is a steady state whenever $ a \\not= 1 $.  \n",
    "- if $ a = 1 $ and $ b=0 $, then every $ x \\in \\mathbb R $ is a\n",
    "  steady state.  \n",
    "- if $ a = 1 $ and $ b \\not= 0 $, then the linear model has no steady\n",
    "  state in $ \\mathbb R $.  \n",
    "\n",
    "\n",
    "A steady state $ x^* $ of $ x_{t+1} = g(x_t) $ is called\n",
    "**globally stable** if, for all $ x_0 \\in S $,\n",
    "\n",
    "$$\n",
    "x_t = g^t(x_0) \\to x^* \\text{ as } t \\to \\infty\n",
    "$$\n",
    "\n",
    "For example, in the linear model $ x_{t+1} = a x_t + b $ with $ a\n",
    "\\not= 1 $, the steady state $ x^* $\n",
    "\n",
    "- is globally stable if $ |a| < 1 $ and  \n",
    "- fails to be globally stable otherwise.  \n",
    "\n",
    "\n",
    "This follows directly from [(16.4)](#equation-sdslinmod).\n",
    "\n",
    "A steady state $ x^* $ of $ x_{t+1} = g(x_t) $ is called\n",
    "**locally stable** if there exists an $ \\epsilon > 0 $ such that\n",
    "\n",
    "$$\n",
    "| x_0 - x^* | < \\epsilon\n",
    "\\; \\implies \\;\n",
    "x_t = g^t(x_0) \\to x^* \\text{ as } t \\to \\infty\n",
    "$$\n",
    "\n",
    "Obviously every globally stable steady state is also locally stable.\n",
    "\n",
    "We will see examples below where the converse is not true."
   ]
  },
  {
   "cell_type": "markdown",
   "id": "428379da",
   "metadata": {},
   "source": [
    "## Graphical Analysis\n",
    "\n",
    "As we saw above, analyzing the dynamics for nonlinear models is nontrivial.\n",
    "\n",
    "There is no single way to tackle all nonlinear models.\n",
    "\n",
    "However, there is one technique for one-dimensional models that provides a\n",
    "great deal of intuition.\n",
    "\n",
    "This is a graphical approach based on **45 degree diagrams**.\n",
    "\n",
    "Let’s look at an example: the Solow model with dynamics given in [(16.6)](#equation-solow-lom2).\n",
    "\n",
    "We begin with some plotting code that you can ignore at first reading.\n",
    "\n",
    "The function of the code is to produce 45 degree diagrams and time series\n",
    "plots."
   ]
  },
  {
   "cell_type": "code",
   "execution_count": null,
   "id": "6bdbd135",
   "metadata": {
    "hide-output": false
   },
   "outputs": [],
   "source": [
    "def subplots(fs):\n",
    "    \"Custom subplots with axes throught the origin\"\n",
    "    fig, ax = plt.subplots(figsize=fs)\n",
    "\n",
    "    # Set the axes through the origin\n",
    "    for spine in ['left', 'bottom']:\n",
    "        ax.spines[spine].set_position('zero')\n",
    "        ax.spines[spine].set_color('green')\n",
    "    for spine in ['right', 'top']:\n",
    "        ax.spines[spine].set_color('none')\n",
    "\n",
    "    return fig, ax\n",
    "\n",
    "\n",
    "def plot45(g, xmin, xmax, x0, num_arrows=6, var='x'):\n",
    "\n",
    "    xgrid = np.linspace(xmin, xmax, 200)\n",
    "\n",
    "    fig, ax = subplots((6.5, 6))\n",
    "    ax.set_xlim(xmin, xmax)\n",
    "    ax.set_ylim(xmin, xmax)\n",
    "\n",
    "    hw = (xmax - xmin) * 0.01\n",
    "    hl = 2 * hw\n",
    "    arrow_args = dict(fc=\"k\", ec=\"k\", head_width=hw,\n",
    "            length_includes_head=True, lw=1,\n",
    "            alpha=0.6, head_length=hl)\n",
    "\n",
    "    ax.plot(xgrid, g(xgrid), 'b-', lw=2, alpha=0.6, label='g')\n",
    "    ax.plot(xgrid, xgrid, 'k-', lw=1, alpha=0.7, label='45')\n",
    "\n",
    "    x = x0\n",
    "    xticks = [xmin]\n",
    "    xtick_labels = [xmin]\n",
    "\n",
    "    for i in range(num_arrows):\n",
    "        if i == 0:\n",
    "            ax.arrow(x, 0.0, 0.0, g(x), **arrow_args) # x, y, dx, dy\n",
    "        else:\n",
    "            ax.arrow(x, x, 0.0, g(x) - x, **arrow_args)\n",
    "            ax.plot((x, x), (0, x), 'k', ls='dotted')\n",
    "\n",
    "        ax.arrow(x, g(x), g(x) - x, 0, **arrow_args)\n",
    "        xticks.append(x)\n",
    "        xtick_labels.append(r'${}_{}$'.format(var, str(i)))\n",
    "\n",
    "        x = g(x)\n",
    "        xticks.append(x)\n",
    "        xtick_labels.append(r'${}_{}$'.format(var, str(i+1)))\n",
    "        ax.plot((x, x), (0, x), 'k-', ls='dotted')\n",
    "\n",
    "    xticks.append(xmax)\n",
    "    xtick_labels.append(xmax)\n",
    "    ax.set_xticks(xticks)\n",
    "    ax.set_yticks(xticks)\n",
    "    ax.set_xticklabels(xtick_labels)\n",
    "    ax.set_yticklabels(xtick_labels)\n",
    "\n",
    "    bbox = (0., 1.04, 1., .104)\n",
    "    legend_args = {'bbox_to_anchor': bbox, 'loc': 'upper right'}\n",
    "\n",
    "    ax.legend(ncol=2, frameon=False, **legend_args, fontsize=14)\n",
    "    plt.show()\n",
    "\n",
    "def ts_plot(g, xmin, xmax, x0, ts_length=6, var='x'):\n",
    "    fig, ax = subplots((7, 5.5))\n",
    "    ax.set_ylim(xmin, xmax)\n",
    "    ax.set_xlabel(r'$t$', fontsize=14)\n",
    "    ax.set_ylabel(r'${}_t$'.format(var), fontsize=14)\n",
    "    x = np.empty(ts_length)\n",
    "    x[0] = x0\n",
    "    for t in range(ts_length-1):\n",
    "        x[t+1] = g(x[t])\n",
    "    ax.plot(range(ts_length),\n",
    "            x,\n",
    "            'bo-',\n",
    "            alpha=0.6,\n",
    "            lw=2,\n",
    "            label=r'${}_t$'.format(var))\n",
    "    ax.legend(loc='best', fontsize=14)\n",
    "    ax.set_xticks(range(ts_length))\n",
    "    plt.show()"
   ]
  },
  {
   "cell_type": "markdown",
   "id": "c86f76a8",
   "metadata": {},
   "source": [
    "Let’s create a 45 degree diagram for the Solow model with a fixed set of\n",
    "parameters"
   ]
  },
  {
   "cell_type": "code",
   "execution_count": null,
   "id": "53fcdafa",
   "metadata": {
    "hide-output": false
   },
   "outputs": [],
   "source": [
    "A, s, alpha, delta = 2, 0.3, 0.3, 0.4"
   ]
  },
  {
   "cell_type": "markdown",
   "id": "a17d65ea",
   "metadata": {},
   "source": [
    "Here’s the update function corresponding to the model."
   ]
  },
  {
   "cell_type": "code",
   "execution_count": null,
   "id": "aeebecf9",
   "metadata": {
    "hide-output": false
   },
   "outputs": [],
   "source": [
    "def g(k):\n",
    "    return A * s * k**alpha + (1 - delta) * k"
   ]
  },
  {
   "cell_type": "markdown",
   "id": "ea3bd376",
   "metadata": {},
   "source": [
    "Here is the 45 degree plot."
   ]
  },
  {
   "cell_type": "code",
   "execution_count": null,
   "id": "5d3e0e19",
   "metadata": {
    "hide-output": false
   },
   "outputs": [],
   "source": [
    "xmin, xmax = 0, 4  # Suitable plotting region.\n",
    "\n",
    "plot45(g, xmin, xmax, 0, num_arrows=0)"
   ]
  },
  {
   "cell_type": "markdown",
   "id": "807e204a",
   "metadata": {},
   "source": [
    "The plot shows the function $ g $ and the 45 degree line.\n",
    "\n",
    "Think of $ k_t $ as a value on the horizontal axis.\n",
    "\n",
    "To calculate $ k_{t+1} $, we can use the graph of $ g $ to see its\n",
    "value on the vertical axis.\n",
    "\n",
    "Clearly,\n",
    "\n",
    "- If $ g $ lies above the 45 degree line at this point, then we have $ k_{t+1} > k_t $.  \n",
    "- If $ g $ lies below the 45 degree line at this point, then we have $ k_{t+1} < k_t $.  \n",
    "- If $ g $ hits the 45 degree line at this point, then we have $ k_{t+1} = k_t $, so $ k_t $ is a steady state.  \n",
    "\n",
    "\n",
    "For the Solow model, there are two steady states when $ S = \\mathbb R_+ =\n",
    "[0, \\infty) $.\n",
    "\n",
    "- the origin $ k=0 $  \n",
    "- the unique positive number such that $ k = s z k^{\\alpha} + (1 - \\delta) k $.  \n",
    "\n",
    "\n",
    "By using some algebra, we can show that in the second case, the steady state is\n",
    "\n",
    "$$\n",
    "k^* = \\left( \\frac{sz}{\\delta} \\right)^{1/(1-\\alpha)}\n",
    "$$"
   ]
  },
  {
   "cell_type": "markdown",
   "id": "3909b43d",
   "metadata": {},
   "source": [
    "### Trajectories\n",
    "\n",
    "By the preceding discussion, in regions where $ g $ lies above the 45 degree line, we know that the trajectory is increasing.\n",
    "\n",
    "The next figure traces out a trajectory in such a region so we can see this more clearly.\n",
    "\n",
    "The initial condition is $ k_0 = 0.25 $."
   ]
  },
  {
   "cell_type": "code",
   "execution_count": null,
   "id": "b5d8f873",
   "metadata": {
    "hide-output": false
   },
   "outputs": [],
   "source": [
    "k0 = 0.25\n",
    "\n",
    "plot45(g, xmin, xmax, k0, num_arrows=5, var='k')"
   ]
  },
  {
   "cell_type": "markdown",
   "id": "ddbb4daf",
   "metadata": {},
   "source": [
    "We can plot the time series of capital corresponding to the figure above as\n",
    "follows:"
   ]
  },
  {
   "cell_type": "code",
   "execution_count": null,
   "id": "02d70d97",
   "metadata": {
    "hide-output": false
   },
   "outputs": [],
   "source": [
    "ts_plot(g, xmin, xmax, k0, var='k')"
   ]
  },
  {
   "cell_type": "markdown",
   "id": "169d9fea",
   "metadata": {},
   "source": [
    "Here’s a somewhat longer view:"
   ]
  },
  {
   "cell_type": "code",
   "execution_count": null,
   "id": "e3a701ef",
   "metadata": {
    "hide-output": false
   },
   "outputs": [],
   "source": [
    "ts_plot(g, xmin, xmax, k0, ts_length=20, var='k')"
   ]
  },
  {
   "cell_type": "markdown",
   "id": "36eca70f",
   "metadata": {},
   "source": [
    "When capital stock is higher than the unique positive steady state, we see that\n",
    "it declines:"
   ]
  },
  {
   "cell_type": "code",
   "execution_count": null,
   "id": "572ab731",
   "metadata": {
    "hide-output": false
   },
   "outputs": [],
   "source": [
    "k0 = 2.95\n",
    "\n",
    "plot45(g, xmin, xmax, k0, num_arrows=5, var='k')"
   ]
  },
  {
   "cell_type": "markdown",
   "id": "7d5ce216",
   "metadata": {},
   "source": [
    "Here is the time series:"
   ]
  },
  {
   "cell_type": "code",
   "execution_count": null,
   "id": "d389d965",
   "metadata": {
    "hide-output": false
   },
   "outputs": [],
   "source": [
    "ts_plot(g, xmin, xmax, k0, var='k')"
   ]
  },
  {
   "cell_type": "markdown",
   "id": "515a85b0",
   "metadata": {},
   "source": [
    "### Complex Dynamics\n",
    "\n",
    "The Solow model is nonlinear but still generates very regular dynamics.\n",
    "\n",
    "One model that generates irregular dynamics is the **quadratic map**\n",
    "\n",
    "$$\n",
    "g(x) = 4 x (1 - x),\n",
    "\\qquad x \\in [0, 1]\n",
    "$$\n",
    "\n",
    "Let’s have a look at the 45 degree diagram."
   ]
  },
  {
   "cell_type": "code",
   "execution_count": null,
   "id": "1ded6a05",
   "metadata": {
    "hide-output": false
   },
   "outputs": [],
   "source": [
    "xmin, xmax = 0, 1\n",
    "g = lambda x: 4 * x * (1 - x)\n",
    "\n",
    "x0 = 0.3\n",
    "plot45(g, xmin, xmax, x0, num_arrows=0)"
   ]
  },
  {
   "cell_type": "markdown",
   "id": "6ba0d50e",
   "metadata": {},
   "source": [
    "Now let’s look at a typical trajectory."
   ]
  },
  {
   "cell_type": "code",
   "execution_count": null,
   "id": "d4b04671",
   "metadata": {
    "hide-output": false
   },
   "outputs": [],
   "source": [
    "plot45(g, xmin, xmax, x0, num_arrows=6)"
   ]
  },
  {
   "cell_type": "markdown",
   "id": "63f30b0c",
   "metadata": {},
   "source": [
    "Notice how irregular it is.\n",
    "\n",
    "Here is the corresponding time series plot."
   ]
  },
  {
   "cell_type": "code",
   "execution_count": null,
   "id": "52afc269",
   "metadata": {
    "hide-output": false
   },
   "outputs": [],
   "source": [
    "ts_plot(g, xmin, xmax, x0, ts_length=6)"
   ]
  },
  {
   "cell_type": "markdown",
   "id": "b962cd3b",
   "metadata": {},
   "source": [
    "The irregularity is even clearer over a longer time horizon:"
   ]
  },
  {
   "cell_type": "code",
   "execution_count": null,
   "id": "246eb09d",
   "metadata": {
    "hide-output": false
   },
   "outputs": [],
   "source": [
    "ts_plot(g, xmin, xmax, x0, ts_length=20)"
   ]
  },
  {
   "cell_type": "markdown",
   "id": "7c174560",
   "metadata": {},
   "source": [
    "## Exercises"
   ]
  },
  {
   "cell_type": "markdown",
   "id": "bd25e6da",
   "metadata": {},
   "source": [
    "### Exercise 1\n",
    "\n",
    "Consider again the linear model $ x_{t+1} = a x_t + b $ with $ a\n",
    "\\not=1 $.\n",
    "\n",
    "The unique steady state is $ b / (1 - a) $.\n",
    "\n",
    "The steady state is globally stable if $ |a| < 1 $.\n",
    "\n",
    "Try to illustrate this graphically by looking at a range of initial conditions.\n",
    "\n",
    "What differences do you notice in the cases $ a \\in (-1, 0) $ and $ a\n",
    "\\in (0, 1) $?\n",
    "\n",
    "Use $ a=0.5 $ and then $ a=-0.5 $ and study the trajectories\n",
    "\n",
    "Set $ b=1 $ throughout."
   ]
  },
  {
   "cell_type": "markdown",
   "id": "18f36f2d",
   "metadata": {},
   "source": [
    "## Solutions"
   ]
  },
  {
   "cell_type": "markdown",
   "id": "8ceea1d6",
   "metadata": {},
   "source": [
    "### Exercise 1\n",
    "\n",
    "We will start with the case $ a=0.5 $.\n",
    "\n",
    "Let’s set up the model and plotting region:"
   ]
  },
  {
   "cell_type": "code",
   "execution_count": null,
   "id": "8600feef",
   "metadata": {
    "hide-output": false
   },
   "outputs": [],
   "source": [
    "a, b = 0.5, 1\n",
    "xmin, xmax = -1, 3\n",
    "g = lambda x: a * x + b"
   ]
  },
  {
   "cell_type": "markdown",
   "id": "392361c4",
   "metadata": {},
   "source": [
    "Now let’s plot a trajectory:"
   ]
  },
  {
   "cell_type": "code",
   "execution_count": null,
   "id": "22a80994",
   "metadata": {
    "hide-output": false
   },
   "outputs": [],
   "source": [
    "x0 = -0.5\n",
    "plot45(g, xmin, xmax, x0, num_arrows=5)"
   ]
  },
  {
   "cell_type": "markdown",
   "id": "d205f354",
   "metadata": {},
   "source": [
    "Here is the corresponding time series, which converges towards the steady\n",
    "state."
   ]
  },
  {
   "cell_type": "code",
   "execution_count": null,
   "id": "ac04deb8",
   "metadata": {
    "hide-output": false
   },
   "outputs": [],
   "source": [
    "ts_plot(g, xmin, xmax, x0, ts_length=10)"
   ]
  },
  {
   "cell_type": "markdown",
   "id": "84a9fd3b",
   "metadata": {},
   "source": [
    "Now let’s try $ a=-0.5 $ and see what differences we observe.\n",
    "\n",
    "Let’s set up the model and plotting region:"
   ]
  },
  {
   "cell_type": "code",
   "execution_count": null,
   "id": "d4a1c010",
   "metadata": {
    "hide-output": false
   },
   "outputs": [],
   "source": [
    "a, b = -0.5, 1\n",
    "xmin, xmax = -1, 3\n",
    "g = lambda x: a * x + b"
   ]
  },
  {
   "cell_type": "markdown",
   "id": "b15b1b6e",
   "metadata": {},
   "source": [
    "Now let’s plot a trajectory:"
   ]
  },
  {
   "cell_type": "code",
   "execution_count": null,
   "id": "02bbc428",
   "metadata": {
    "hide-output": false
   },
   "outputs": [],
   "source": [
    "x0 = -0.5\n",
    "plot45(g, xmin, xmax, x0, num_arrows=5)"
   ]
  },
  {
   "cell_type": "markdown",
   "id": "681e40c2",
   "metadata": {},
   "source": [
    "Here is the corresponding time series, which converges towards the steady\n",
    "state."
   ]
  },
  {
   "cell_type": "code",
   "execution_count": null,
   "id": "7ce08378",
   "metadata": {
    "hide-output": false
   },
   "outputs": [],
   "source": [
    "ts_plot(g, xmin, xmax, x0, ts_length=10)"
   ]
  },
  {
   "cell_type": "markdown",
   "id": "47392299",
   "metadata": {},
   "source": [
    "Once again, we have convergence to the steady state but the nature of\n",
    "convergence differs.\n",
    "\n",
    "In particular, the time series jumps from above the steady state to below it\n",
    "and back again.\n",
    "\n",
    "In the current context, the series is said to exhibit **damped oscillations**."
   ]
  }
 ],
 "metadata": {
  "date": 1643278496.414448,
  "filename": "scalar_dynam.md",
  "kernelspec": {
   "display_name": "Python",
   "language": "python3",
   "name": "python3"
  },
  "title": "Dynamics in One Dimension"
 },
 "nbformat": 4,
 "nbformat_minor": 5
}