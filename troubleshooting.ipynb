{
 "cells": [
  {
   "cell_type": "markdown",
   "metadata": {},
   "source": [
    "\n",
    "<a id='troubleshooting'></a>"
   ]
  },
  {
   "cell_type": "markdown",
   "metadata": {},
   "source": [
    "# Troubleshooting"
   ]
  },
  {
   "cell_type": "markdown",
   "metadata": {},
   "source": [
    "## Contents\n",
    "\n",
    "- [Troubleshooting](#Troubleshooting)  \n",
    "  - [Fixing Your Local Environment](#Fixing-Your-Local-Environment)  \n",
    "  - [Reporting an Issue](#Reporting-an-Issue)  "
   ]
  },
  {
   "cell_type": "markdown",
   "metadata": {},
   "source": [
    "This page is for readers experiencing errors when running the code from the lectures."
   ]
  },
  {
   "cell_type": "markdown",
   "metadata": {},
   "source": [
    "## Fixing Your Local Environment\n",
    "\n",
    "The basic assumption of the lectures is that code in a lecture should execute whenever\n",
    "\n",
    "1. it is executed in a Jupyter notebook and  \n",
    "1. the notebook is running on a machine with the latest version of Anaconda Python.  \n",
    "\n",
    "\n",
    "You have installed Anaconda, haven’t you, following the instructions in [this lecture](https://python-programming.quantecon.org/getting_started.html)?\n",
    "\n",
    "Assuming that you have, the most common source of problems for our readers is that their Anaconda distribution is not up to date.\n",
    "\n",
    "[Here’s a useful article](https://www.anaconda.com/keeping-anaconda-date/)\n",
    "on how to update Anaconda.\n",
    "\n",
    "Another option is to simply remove Anaconda and reinstall.\n",
    "\n",
    "You also need to keep the external code libraries, such as [QuantEcon.py](https://quantecon.org/quantecon-py) up to date.\n",
    "\n",
    "For this task you can either\n",
    "\n",
    "- use conda install -y quantecon on the command line, or  \n",
    "- execute !conda install -y quantecon within a Jupyter notebook.  \n",
    "\n",
    "\n",
    "If your local environment is still not working you can do two things.\n",
    "\n",
    "First, you can use a remote machine instead, by clicking on the Launch Notebook icon available for each lecture\n",
    "\n",
    "![https://python.quantecon.org/_static/lecture_specific/troubleshooting/launch.png](https://python.quantecon.org/_static/lecture_specific/troubleshooting/launch.png)\n",
    "\n",
    "Second, you can report an issue, so we can try to fix your local set up.\n",
    "\n",
    "We like getting feedback on the lectures so please don’t hesitate to get in\n",
    "touch."
   ]
  },
  {
   "cell_type": "markdown",
   "metadata": {},
   "source": [
    "## Reporting an Issue\n",
    "\n",
    "One way to give feedback is to raise an issue through our [issue tracker](https://github.com/QuantEcon/lecture-python/issues).\n",
    "\n",
    "Please be as specific as possible.  Tell us where the problem is and as much\n",
    "detail about your local set up as you can provide.\n",
    "\n",
    "Another feedback option is to use our [discourse forum](https://discourse.quantecon.org/).\n",
    "\n",
    "Finally, you can provide direct feedback to [contact@quantecon.org](mailto:contact@quantecon.org)"
   ]
  }
 ],
 "metadata": {
  "date": 1619590837.741412,
  "filename": "troubleshooting.md",
  "kernelspec": {
   "display_name": "Python",
   "language": "python3",
   "name": "python3"
  },
  "title": "Troubleshooting"
 },
 "nbformat": 4,
 "nbformat_minor": 4
}