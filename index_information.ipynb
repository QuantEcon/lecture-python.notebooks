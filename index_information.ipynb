{
 "cells": [
  {
   "cell_type": "markdown",
   "metadata": {},
   "source": [
    "<div id=\"qe-notebook-header\" align=\"right\" style=\"text-align:right;\">\n",
    "        <a href=\"https://quantecon.org/\" title=\"quantecon.org\">\n",
    "                <img style=\"width:250px;display:inline;\" width=\"250px\" src=\"https://assets.quantecon.org/img/qe-menubar-logo.svg\" alt=\"QuantEcon\">\n",
    "        </a>\n",
    "</div>"
   ]
  },
  {
   "cell_type": "markdown",
   "metadata": {},
   "source": [
    "# Information\n",
    "\n",
    "This section of the course contains foundational models for dynamic economic\n",
    "modeling.   Most are single agent problems that take the activities of other\n",
    "agents as given.  Later we will look at full equilibrium problems."
   ]
  },
  {
   "cell_type": "markdown",
   "metadata": {},
   "source": [
    "## Lectures\n",
    "\n",
    "- [Job Search VII: Search with Learning](https://python-programming.quantecon.org/odu.html)\n",
    "  - [Overview](https://python-programming.quantecon.org/odu.html#overview)\n",
    "  - [Model](https://python-programming.quantecon.org/odu.html#model)\n",
    "  - [Take 1: Solution by VFI](https://python-programming.quantecon.org/odu.html#take-1-solution-by-vfi)\n",
    "  - [Take 2: A More Efficient Method](https://python-programming.quantecon.org/odu.html#take-2-a-more-efficient-method)\n",
    "  - [Another Functional Equation](https://python-programming.quantecon.org/odu.html#another-functional-equation)\n",
    "  - [Solving the RWFE](https://python-programming.quantecon.org/odu.html#solving-the-rwfe)\n",
    "  - [Implementation](https://python-programming.quantecon.org/odu.html#implementation)\n",
    "  - [Exercises](https://python-programming.quantecon.org/odu.html#exercises)\n",
    "  - [Solutions](https://python-programming.quantecon.org/odu.html#solutions)\n",
    "  - [Appendix A](https://python-programming.quantecon.org/odu.html#appendix-a)\n",
    "  - [Appendix B](https://python-programming.quantecon.org/odu.html#appendix-b)\n",
    "  - [Examples](https://python-programming.quantecon.org/odu.html#examples)\n",
    "- [Likelihood Ratio Processes](https://python-programming.quantecon.org/likelihood_ratio_process.html)\n",
    "  - [Overview](https://python-programming.quantecon.org/likelihood_ratio_process.html#overview)\n",
    "  - [Likelihood Ratio Process](https://python-programming.quantecon.org/likelihood_ratio_process.html#id1)\n",
    "  - [Nature Permanently Draws from Density g](https://python-programming.quantecon.org/likelihood_ratio_process.html#nature-permanently-draws-from-density-g)\n",
    "  - [Nature Permanently Draws from Density f](https://python-programming.quantecon.org/likelihood_ratio_process.html#nature-permanently-draws-from-density-f)\n",
    "  - [Likelihood Ratio Test](https://python-programming.quantecon.org/likelihood_ratio_process.html#likelihood-ratio-test)\n",
    "  - [Kullback–Leibler divergence](https://python-programming.quantecon.org/likelihood_ratio_process.html#kullbackleibler-divergence)\n",
    "  - [Sequels](https://python-programming.quantecon.org/likelihood_ratio_process.html#sequels)\n",
    "- [A Problem that Stumped Milton Friedman](https://python-programming.quantecon.org/wald_friedman.html)\n",
    "  - [Overview](https://python-programming.quantecon.org/wald_friedman.html#overview)\n",
    "  - [Origin of the Problem](https://python-programming.quantecon.org/wald_friedman.html#origin-of-the-problem)\n",
    "  - [A Dynamic Programming Approach](https://python-programming.quantecon.org/wald_friedman.html#a-dynamic-programming-approach)\n",
    "  - [Implementation](https://python-programming.quantecon.org/wald_friedman.html#implementation)\n",
    "  - [Analysis](https://python-programming.quantecon.org/wald_friedman.html#analysis)\n",
    "  - [Comparison with Neyman-Pearson Formulation](https://python-programming.quantecon.org/wald_friedman.html#comparison-with-neyman-pearson-formulation)\n",
    "  - [Sequels](https://python-programming.quantecon.org/wald_friedman.html#sequels)\n",
    "- [Exchangeability and Bayesian Updating](https://python-programming.quantecon.org/exchangeable.html)\n",
    "  - [Overview](https://python-programming.quantecon.org/exchangeable.html#overview)\n",
    "  - [Independently and Identically Distributed](https://python-programming.quantecon.org/exchangeable.html#independently-and-identically-distributed)\n",
    "  - [A Setting in Which Past Observations Are Informative](https://python-programming.quantecon.org/exchangeable.html#a-setting-in-which-past-observations-are-informative)\n",
    "  - [Relationship Between IID and Exchangeable](https://python-programming.quantecon.org/exchangeable.html#relationship-between-iid-and-exchangeable)\n",
    "  - [Exchangeability](https://python-programming.quantecon.org/exchangeable.html#exchangeability)\n",
    "  - [Bayes’ Law](https://python-programming.quantecon.org/exchangeable.html#bayes-law)\n",
    "  - [More Details about Bayesian Updating](https://python-programming.quantecon.org/exchangeable.html#more-details-about-bayesian-updating)\n",
    "  - [Appendix](https://python-programming.quantecon.org/exchangeable.html#appendix)\n",
    "  - [Sequels](https://python-programming.quantecon.org/exchangeable.html#sequels)\n",
    "- [Likelihood Ratio Processes and Bayesian Learning](https://python-programming.quantecon.org/likelihood_bayes.html)\n",
    "  - [Overview](https://python-programming.quantecon.org/likelihood_bayes.html#overview)\n",
    "  - [The Setting](https://python-programming.quantecon.org/likelihood_bayes.html#the-setting)\n",
    "  - [Likelihood Ratio Process and Bayes’ Law](https://python-programming.quantecon.org/likelihood_bayes.html#likelihood-ratio-process-and-bayes-law)\n",
    "  - [Sequels](https://python-programming.quantecon.org/likelihood_bayes.html#sequels)\n",
    "- [Bayesian versus Frequentist Decision Rules](https://python-programming.quantecon.org/navy_captain.html)\n",
    "  - [Overview](https://python-programming.quantecon.org/navy_captain.html#overview)\n",
    "  - [Setup](https://python-programming.quantecon.org/navy_captain.html#setup)\n",
    "  - [Frequentist Decision Rule](https://python-programming.quantecon.org/navy_captain.html#frequentist-decision-rule)\n",
    "  - [Bayesian Decision Rule](https://python-programming.quantecon.org/navy_captain.html#bayesian-decision-rule)\n",
    "  - [Was the Navy Captain’s hunch correct?](https://python-programming.quantecon.org/navy_captain.html#was-the-navy-captains-hunch-correct)\n",
    "  - [More details](https://python-programming.quantecon.org/navy_captain.html#more-details)"
   ]
  }
 ],
 "metadata": {
  "date": 1614914737.1764152,
  "filename": "index_information.rst",
  "kernelspec": {
   "display_name": "Python",
   "language": "python3",
   "name": "python3"
  },
  "next_doc": {
   "link": "odu",
   "title": "Job Search VII: Search with Learning"
  },
  "prev_doc": {
   "link": "ifp_advanced",
   "title": "The Income Fluctuation Problem II: Stochastic Returns on Assets"
  },
  "title": "Information"
 },
 "nbformat": 4,
 "nbformat_minor": 2
}