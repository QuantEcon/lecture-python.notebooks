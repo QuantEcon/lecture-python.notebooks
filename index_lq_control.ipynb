{
 "cells": [
  {
   "cell_type": "markdown",
   "metadata": {},
   "source": [
    "\n",
    "<a id='lq-dynamic-programming'></a>\n",
    "<div id=\"qe-notebook-header\" align=\"right\" style=\"text-align:right;\">\n",
    "        <a href=\"https://quantecon.org/\" title=\"quantecon.org\">\n",
    "                <img style=\"width:250px;display:inline;\" width=\"250px\" src=\"https://assets.quantecon.org/img/qe-menubar-logo.svg\" alt=\"QuantEcon\">\n",
    "        </a>\n",
    "</div>"
   ]
  },
  {
   "cell_type": "markdown",
   "metadata": {},
   "source": [
    "# LQ Control"
   ]
  },
  {
   "cell_type": "markdown",
   "metadata": {},
   "source": [
    "## Lectures\n",
    "\n",
    "- [LQ Control: Foundations](https://python-programming.quantecon.org/lqcontrol.html)\n",
    "  - [Overview](https://python-programming.quantecon.org/lqcontrol.html#overview)\n",
    "  - [Introduction](https://python-programming.quantecon.org/lqcontrol.html#introduction)\n",
    "  - [Optimality – Finite Horizon](https://python-programming.quantecon.org/lqcontrol.html#optimality-finite-horizon)\n",
    "  - [Implementation](https://python-programming.quantecon.org/lqcontrol.html#implementation)\n",
    "  - [Extensions and Comments](https://python-programming.quantecon.org/lqcontrol.html#extensions-and-comments)\n",
    "  - [Further Applications](https://python-programming.quantecon.org/lqcontrol.html#further-applications)\n",
    "  - [Exercises](https://python-programming.quantecon.org/lqcontrol.html#exercises)\n",
    "  - [Solutions](https://python-programming.quantecon.org/lqcontrol.html#solutions)\n",
    "- [The Permanent Income Model](https://python-programming.quantecon.org/perm_income.html)\n",
    "  - [Overview](https://python-programming.quantecon.org/perm_income.html#overview)\n",
    "  - [The Savings Problem](https://python-programming.quantecon.org/perm_income.html#the-savings-problem)\n",
    "  - [Alternative Representations](https://python-programming.quantecon.org/perm_income.html#alternative-representations)\n",
    "  - [Two Classic Examples](https://python-programming.quantecon.org/perm_income.html#two-classic-examples)\n",
    "  - [Further Reading](https://python-programming.quantecon.org/perm_income.html#further-reading)\n",
    "  - [Appendix: The Euler Equation](https://python-programming.quantecon.org/perm_income.html#appendix-the-euler-equation)\n",
    "- [Permanent Income II: LQ Techniques](https://python-programming.quantecon.org/perm_income_cons.html)\n",
    "  - [Overview](https://python-programming.quantecon.org/perm_income_cons.html#overview)\n",
    "  - [Setup](https://python-programming.quantecon.org/perm_income_cons.html#setup)\n",
    "  - [The LQ Approach](https://python-programming.quantecon.org/perm_income_cons.html#the-lq-approach)\n",
    "  - [Implementation](https://python-programming.quantecon.org/perm_income_cons.html#implementation)\n",
    "  - [Two Example Economies](https://python-programming.quantecon.org/perm_income_cons.html#two-example-economies)\n",
    "- [Production Smoothing via Inventories](https://python-programming.quantecon.org/lq_inventories.html)\n",
    "  - [Overview](https://python-programming.quantecon.org/lq_inventories.html#overview)\n",
    "  - [Example 1](https://python-programming.quantecon.org/lq_inventories.html#example-1)\n",
    "  - [Inventories Not Useful](https://python-programming.quantecon.org/lq_inventories.html#inventories-not-useful)\n",
    "  - [Inventories Useful but are Hardwired to be Zero Always](https://python-programming.quantecon.org/lq_inventories.html#inventories-useful-but-are-hardwired-to-be-zero-always)\n",
    "  - [Example 2](https://python-programming.quantecon.org/lq_inventories.html#example-2)\n",
    "  - [Example 3](https://python-programming.quantecon.org/lq_inventories.html#example-3)\n",
    "  - [Example 4](https://python-programming.quantecon.org/lq_inventories.html#example-4)\n",
    "  - [Example 5](https://python-programming.quantecon.org/lq_inventories.html#example-5)\n",
    "  - [Example 6](https://python-programming.quantecon.org/lq_inventories.html#example-6)\n",
    "  - [Exercises](https://python-programming.quantecon.org/lq_inventories.html#exercises)"
   ]
  }
 ],
 "metadata": {
  "date": 1615288252.768128,
  "filename": "index_lq_control.rst",
  "kernelspec": {
   "display_name": "Python",
   "language": "python3",
   "name": "python3"
  },
  "next_doc": {
   "link": "lqcontrol",
   "title": "LQ Control: Foundations"
  },
  "prev_doc": {
   "link": "navy_captain",
   "title": "Bayesian versus Frequentist Decision Rules"
  },
  "title": "LQ Control"
 },
 "nbformat": 4,
 "nbformat_minor": 2
}