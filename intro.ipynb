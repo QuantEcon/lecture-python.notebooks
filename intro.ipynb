{
 "cells": [
  {
   "cell_type": "markdown",
   "id": "e629f5fa",
   "metadata": {},
   "source": [
    "# Quantitative Economics with Python\n",
    "\n",
    "This website presents a set of lectures on quantitative economic modeling, designed and written by\n",
    "[Thomas J. Sargent](http://www.tomsargent.com/) and [John Stachurski](http://johnstachurski.net/).\n",
    "\n",
    "For an overview of the series, see [this page](https://quantecon.org/python-lectures/)"
   ]
  },
  {
   "cell_type": "markdown",
   "id": "1615e0c3",
   "metadata": {},
   "source": [
    "# Tools and Techniques\n",
    "\n",
    "- [Geometric Series for Elementary Economics](https://python.quantecon.org/geom_series.html)\n",
    "- [Multivariate Hypergeometric Distribution](https://python.quantecon.org/multi_hyper.html)\n",
    "- [Modeling COVID 19](https://python.quantecon.org/sir_model.html)\n",
    "- [Linear Algebra](https://python.quantecon.org/linear_algebra.html)\n",
    "- [QR Decomposition](https://python.quantecon.org/qr_decomp.html)\n",
    "- [Singular Value Decomposition (SVD)](https://python.quantecon.org/svd_intro.html)\n",
    "- [Complex Numbers and Trigonometry](https://python.quantecon.org/complex_and_trig.html)\n",
    "- [Circulant Matrices](https://python.quantecon.org/eig_circulant.html)\n",
    "- [LLN and CLT](https://python.quantecon.org/lln_clt.html)\n",
    "- [Two Meanings of Probability](https://python.quantecon.org/prob_meaning.html)\n",
    "- [Heavy-Tailed Distributions](https://python.quantecon.org/heavy_tails.html)\n",
    "- [Multivariate Normal Distribution](https://python.quantecon.org/multivariate_normal.html)\n",
    "- [Fault Tree Uncertainties](https://python.quantecon.org/hoist_failure.html)\n",
    "- [Univariate Time Series with Matrix Algebra](https://python.quantecon.org/time_series_with_matrices.html)\n",
    "- [Introduction to Artificial Neural Networks](https://python.quantecon.org/back_prop.html)"
   ]
  },
  {
   "cell_type": "markdown",
   "id": "0c486d11",
   "metadata": {},
   "source": [
    "# Linear Programming\n",
    "\n",
    "- [Linear Programming](https://python.quantecon.org/lp_intro.html)\n",
    "- [Optimal Transport](https://python.quantecon.org/opt_transport.html)\n",
    "- [Von Neumann Growth Model (and a Generalization)](https://python.quantecon.org/von_neumann_model.html)"
   ]
  },
  {
   "cell_type": "markdown",
   "id": "d77cff7f",
   "metadata": {},
   "source": [
    "# Introduction to Dynamics\n",
    "\n",
    "- [Dynamics in One Dimension](https://python.quantecon.org/scalar_dynam.html)\n",
    "- [AR1 Processes](https://python.quantecon.org/ar1_processes.html)\n",
    "- [Finite Markov Chains](https://python.quantecon.org/finite_markov.html)\n",
    "- [Inventory Dynamics](https://python.quantecon.org/inventory_dynamics.html)\n",
    "- [Linear State Space Models](https://python.quantecon.org/linear_models.html)\n",
    "- [Application: The Samuelson Multiplier-Accelerator](https://python.quantecon.org/samuelson.html)\n",
    "- [Kesten Processes and Firm Dynamics](https://python.quantecon.org/kesten_processes.html)\n",
    "- [Wealth Distribution Dynamics](https://python.quantecon.org/wealth_dynamics.html)\n",
    "- [A First Look at the Kalman Filter](https://python.quantecon.org/kalman.html)\n",
    "- [Shortest Paths](https://python.quantecon.org/short_path.html)\n",
    "- [Cass-Koopmans Planning Problem](https://python.quantecon.org/cass_koopmans_1.html)\n",
    "- [Cass-Koopmans Competitive Equilibrium](https://python.quantecon.org/cass_koopmans_2.html)"
   ]
  },
  {
   "cell_type": "markdown",
   "id": "73bfd92f",
   "metadata": {},
   "source": [
    "# Search\n",
    "\n",
    "- [Job Search I: The McCall Search Model](https://python.quantecon.org/mccall_model.html)\n",
    "- [Job Search II: Search and Separation](https://python.quantecon.org/mccall_model_with_separation.html)\n",
    "- [Job Search III: Fitted Value Function Iteration](https://python.quantecon.org/mccall_fitted_vfi.html)\n",
    "- [Job Search IV: Correlated Wage Offers](https://python.quantecon.org/mccall_correlated.html)\n",
    "- [Job Search V: Modeling Career Choice](https://python.quantecon.org/career.html)\n",
    "- [Job Search VI: On-the-Job Search](https://python.quantecon.org/jv.html)"
   ]
  },
  {
   "cell_type": "markdown",
   "id": "f728d9b0",
   "metadata": {},
   "source": [
    "# Consumption, Savings and Growth\n",
    "\n",
    "- [Cake Eating I: Introduction to Optimal Saving](https://python.quantecon.org/cake_eating_problem.html)\n",
    "- [Cake Eating II: Numerical Methods](https://python.quantecon.org/cake_eating_numerical.html)\n",
    "- [Optimal Growth I: The Stochastic Optimal Growth Model](https://python.quantecon.org/optgrowth.html)\n",
    "- [Optimal Growth II: Accelerating the Code with Numba](https://python.quantecon.org/optgrowth_fast.html)\n",
    "- [Optimal Growth III: Time Iteration](https://python.quantecon.org/coleman_policy_iter.html)\n",
    "- [Optimal Growth IV: The Endogenous Grid Method](https://python.quantecon.org/egm_policy_iter.html)\n",
    "- [The Income Fluctuation Problem I: Basic Model](https://python.quantecon.org/ifp.html)\n",
    "- [The Income Fluctuation Problem II: Stochastic Returns on Assets](https://python.quantecon.org/ifp_advanced.html)"
   ]
  },
  {
   "cell_type": "markdown",
   "id": "7596148c",
   "metadata": {},
   "source": [
    "# Information\n",
    "\n",
    "- [Job Search VII: Search with Learning](https://python.quantecon.org/odu.html)\n",
    "- [Likelihood Ratio Processes](https://python.quantecon.org/likelihood_ratio_process.html)\n",
    "- [Computing Mean of a Likelihood Ratio Process](https://python.quantecon.org/imp_sample.html)\n",
    "- [A Problem that Stumped Milton Friedman](https://python.quantecon.org/wald_friedman.html)\n",
    "- [Exchangeability and Bayesian Updating](https://python.quantecon.org/exchangeable.html)\n",
    "- [Likelihood Ratio Processes and Bayesian Learning](https://python.quantecon.org/likelihood_bayes.html)\n",
    "- [Bayesian versus Frequentist Decision Rules](https://python.quantecon.org/navy_captain.html)"
   ]
  },
  {
   "cell_type": "markdown",
   "id": "f880ea37",
   "metadata": {},
   "source": [
    "# LQ Control\n",
    "\n",
    "- [LQ Control: Foundations](https://python.quantecon.org/lqcontrol.html)\n",
    "- [Lagrangian for LQ Control](https://python.quantecon.org/lagrangian_lqdp.html)\n",
    "- [Eliminating Cross Products](https://python.quantecon.org/cross_product_trick.html)\n",
    "- [The Permanent Income Model](https://python.quantecon.org/perm_income.html)\n",
    "- [Permanent Income II: LQ Techniques](https://python.quantecon.org/perm_income_cons.html)\n",
    "- [Production Smoothing via Inventories](https://python.quantecon.org/lq_inventories.html)"
   ]
  },
  {
   "cell_type": "markdown",
   "id": "bbf4f97c",
   "metadata": {},
   "source": [
    "# Multiple Agent Models\n",
    "\n",
    "- [Schelling’s Segregation Model](https://python.quantecon.org/schelling.html)\n",
    "- [A Lake Model of Employment and Unemployment](https://python.quantecon.org/lake_model.html)\n",
    "- [Rational Expectations Equilibrium](https://python.quantecon.org/rational_expectations.html)\n",
    "- [Stability in Linear Rational Expectations Models](https://python.quantecon.org/re_with_feedback.html)\n",
    "- [Markov Perfect Equilibrium](https://python.quantecon.org/markov_perf.html)\n",
    "- [Uncertainty Traps](https://python.quantecon.org/uncertainty_traps.html)\n",
    "- [The Aiyagari Model](https://python.quantecon.org/aiyagari.html)"
   ]
  },
  {
   "cell_type": "markdown",
   "id": "c4f450d5",
   "metadata": {},
   "source": [
    "# Asset Pricing and Finance\n",
    "\n",
    "- [Asset Pricing: Finite State Models](https://python.quantecon.org/markov_asset.html)\n",
    "- [Competitive Equilibria with Arrow Securities](https://python.quantecon.org/ge_arrow.html)\n",
    "- [Heterogeneous Beliefs and Bubbles](https://python.quantecon.org/harrison_kreps.html)"
   ]
  },
  {
   "cell_type": "markdown",
   "id": "816dc7ce",
   "metadata": {},
   "source": [
    "# Data and Empirics\n",
    "\n",
    "- [Pandas for Panel Data](https://python.quantecon.org/pandas_panel.html)\n",
    "- [Linear Regression in Python](https://python.quantecon.org/ols.html)\n",
    "- [Maximum Likelihood Estimation](https://python.quantecon.org/mle.html)"
   ]
  },
  {
   "cell_type": "markdown",
   "id": "40734f14",
   "metadata": {},
   "source": [
    "# Auctions\n",
    "\n",
    "- [First-Price and Second-Price Auctions](https://python.quantecon.org/two_auctions.html)\n",
    "- [Multiple Good Allocation Mechanisms](https://python.quantecon.org/house_auction.html)"
   ]
  },
  {
   "cell_type": "markdown",
   "id": "dc5d8786",
   "metadata": {},
   "source": [
    "# Other\n",
    "\n",
    "- [Troubleshooting](https://python.quantecon.org/troubleshooting.html)\n",
    "- [References](https://python.quantecon.org/zreferences.html)\n",
    "- [Execution Statistics](https://python.quantecon.org/status.html)"
   ]
  },
  {
   "cell_type": "markdown",
   "id": "62a45eb8",
   "metadata": {},
   "source": [
    "# Previous website\n",
    "\n",
    "While this new site will receive all future updates, you may still view the [old site here](http://rst-python.quantecon.org) for the next month."
   ]
  }
 ],
 "metadata": {
  "date": 1644726728.9257958,
  "filename": "intro.md",
  "kernelspec": {
   "display_name": "Python",
   "language": "python3",
   "name": "python3"
  },
  "title": "Quantitative Economics with Python"
 },
 "nbformat": 4,
 "nbformat_minor": 5
}