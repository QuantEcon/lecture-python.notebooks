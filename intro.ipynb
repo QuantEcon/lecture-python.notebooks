{
 "cells": [
  {
   "cell_type": "markdown",
   "metadata": {},
   "source": [
    "# Quantitative Economics with Python\n",
    "\n",
    "For an overview of the series, see [this page](https://quantecon.org/python-lectures/)"
   ]
  },
  {
   "cell_type": "markdown",
   "metadata": {},
   "source": [
    "# Previous website\n",
    "\n",
    "While this new site will receive all future updates, you may still view the [old site here](http://rst-python.quantecon.org) for the next month."
   ]
  }
 ],
 "metadata": {
  "date": 1627367669.4308176,
  "filename": "intro.md",
  "kernelspec": {
   "display_name": "Python",
   "language": "python3",
   "name": "python3"
  },
  "title": "Quantitative Economics with Python"
 },
 "nbformat": 4,
 "nbformat_minor": 4
}