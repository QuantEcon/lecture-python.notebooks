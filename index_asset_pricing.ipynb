{
 "cells": [
  {
   "cell_type": "markdown",
   "metadata": {},
   "source": [
    "\n",
    "<a id='asset-pricing'></a>\n",
    "<div id=\"qe-notebook-header\" align=\"right\" style=\"text-align:right;\">\n",
    "        <a href=\"https://quantecon.org/\" title=\"quantecon.org\">\n",
    "                <img style=\"width:250px;display:inline;\" width=\"250px\" src=\"https://assets.quantecon.org/img/qe-menubar-logo.svg\" alt=\"QuantEcon\">\n",
    "        </a>\n",
    "</div>"
   ]
  },
  {
   "cell_type": "markdown",
   "metadata": {},
   "source": [
    "# Asset Pricing and Finance"
   ]
  },
  {
   "cell_type": "markdown",
   "metadata": {},
   "source": [
    "## Lectures\n",
    "\n",
    "- [Asset Pricing: Finite State Models](https://python-programming.quantecon.org/markov_asset.html)\n",
    "  - [Overview](https://python-programming.quantecon.org/markov_asset.html#overview)\n",
    "  - [Pricing Models](https://python-programming.quantecon.org/markov_asset.html#pricing-models)\n",
    "  - [Prices in the Risk-Neutral Case](https://python-programming.quantecon.org/markov_asset.html#prices-in-the-risk-neutral-case)\n",
    "  - [Risk Aversion and Asset Prices](https://python-programming.quantecon.org/markov_asset.html#risk-aversion-and-asset-prices)\n",
    "  - [Exercises](https://python-programming.quantecon.org/markov_asset.html#exercises)\n",
    "  - [Solutions](https://python-programming.quantecon.org/markov_asset.html#solutions)\n",
    "- [Heterogeneous Beliefs and Bubbles](https://python-programming.quantecon.org/harrison_kreps.html)\n",
    "  - [Overview](https://python-programming.quantecon.org/harrison_kreps.html#overview)\n",
    "  - [Structure of the Model](https://python-programming.quantecon.org/harrison_kreps.html#structure-of-the-model)\n",
    "  - [Solving the Model](https://python-programming.quantecon.org/harrison_kreps.html#solving-the-model)\n",
    "  - [Exercises](https://python-programming.quantecon.org/harrison_kreps.html#exercises)\n",
    "  - [Solutions](https://python-programming.quantecon.org/harrison_kreps.html#solutions)"
   ]
  }
 ],
 "metadata": {
  "date": 1615140164.0862298,
  "filename": "index_asset_pricing.rst",
  "kernelspec": {
   "display_name": "Python",
   "language": "python3",
   "name": "python3"
  },
  "next_doc": {
   "link": "markov_asset",
   "title": "Asset Pricing: Finite State Models"
  },
  "prev_doc": {
   "link": "aiyagari",
   "title": "The Aiyagari Model"
  },
  "title": "Asset Pricing and Finance"
 },
 "nbformat": 4,
 "nbformat_minor": 2
}