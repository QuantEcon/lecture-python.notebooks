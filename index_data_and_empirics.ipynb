{
 "cells": [
  {
   "cell_type": "markdown",
   "metadata": {},
   "source": [
    "<div id=\"qe-notebook-header\" align=\"right\" style=\"text-align:right;\">\n",
    "        <a href=\"https://quantecon.org/\" title=\"quantecon.org\">\n",
    "                <img style=\"width:250px;display:inline;\" width=\"250px\" src=\"https://assets.quantecon.org/img/qe-menubar-logo.svg\" alt=\"QuantEcon\">\n",
    "        </a>\n",
    "</div>"
   ]
  },
  {
   "cell_type": "markdown",
   "metadata": {},
   "source": [
    "# Data and Empirics\n",
    "\n",
    "This part of the course provides a set of lectures focused on Data and\n",
    "Empirics using Python"
   ]
  },
  {
   "cell_type": "markdown",
   "metadata": {},
   "source": [
    "## Lectures\n",
    "\n",
    "- [Pandas for Panel Data](https://python-programming.quantecon.org/pandas_panel.html)\n",
    "  - [Overview](https://python-programming.quantecon.org/pandas_panel.html#overview)\n",
    "  - [Slicing and Reshaping Data](https://python-programming.quantecon.org/pandas_panel.html#slicing-and-reshaping-data)\n",
    "  - [Merging Dataframes and Filling NaNs](https://python-programming.quantecon.org/pandas_panel.html#merging-dataframes-and-filling-nans)\n",
    "  - [Grouping and Summarizing Data](https://python-programming.quantecon.org/pandas_panel.html#grouping-and-summarizing-data)\n",
    "  - [Final Remarks](https://python-programming.quantecon.org/pandas_panel.html#final-remarks)\n",
    "  - [Exercises](https://python-programming.quantecon.org/pandas_panel.html#exercises)\n",
    "  - [Solutions](https://python-programming.quantecon.org/pandas_panel.html#solutions)\n",
    "- [Linear Regression in Python](https://python-programming.quantecon.org/ols.html)\n",
    "  - [Overview](https://python-programming.quantecon.org/ols.html#overview)\n",
    "  - [Simple Linear Regression](https://python-programming.quantecon.org/ols.html#simple-linear-regression)\n",
    "  - [Extending the Linear Regression Model](https://python-programming.quantecon.org/ols.html#extending-the-linear-regression-model)\n",
    "  - [Endogeneity](https://python-programming.quantecon.org/ols.html#endogeneity)\n",
    "  - [Summary](https://python-programming.quantecon.org/ols.html#summary)\n",
    "  - [Exercises](https://python-programming.quantecon.org/ols.html#exercises)\n",
    "  - [Solutions](https://python-programming.quantecon.org/ols.html#solutions)\n",
    "- [Maximum Likelihood Estimation](https://python-programming.quantecon.org/mle.html)\n",
    "  - [Overview](https://python-programming.quantecon.org/mle.html#overview)\n",
    "  - [Set Up and Assumptions](https://python-programming.quantecon.org/mle.html#set-up-and-assumptions)\n",
    "  - [Conditional Distributions](https://python-programming.quantecon.org/mle.html#conditional-distributions)\n",
    "  - [Maximum Likelihood Estimation](https://python-programming.quantecon.org/mle.html#id2)\n",
    "  - [MLE with Numerical Methods](https://python-programming.quantecon.org/mle.html#mle-with-numerical-methods)\n",
    "  - [Maximum Likelihood Estimation with `statsmodels`](https://python-programming.quantecon.org/mle.html#maximum-likelihood-estimation-with-statsmodels)\n",
    "  - [Summary](https://python-programming.quantecon.org/mle.html#summary)\n",
    "  - [Exercises](https://python-programming.quantecon.org/mle.html#exercises)\n",
    "  - [Solutions](https://python-programming.quantecon.org/mle.html#solutions)"
   ]
  }
 ],
 "metadata": {
  "date": 1615081140.0844676,
  "filename": "index_data_and_empirics.rst",
  "kernelspec": {
   "display_name": "Python",
   "language": "python3",
   "name": "python3"
  },
  "next_doc": {
   "link": "pandas_panel",
   "title": "Pandas for Panel Data"
  },
  "prev_doc": {
   "link": "harrison_kreps",
   "title": "Heterogeneous Beliefs and Bubbles"
  },
  "title": "Data and Empirics"
 },
 "nbformat": 4,
 "nbformat_minor": 2
}