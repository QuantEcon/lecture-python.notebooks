{
 "cells": [
  {
   "cell_type": "markdown",
   "id": "e19e3830",
   "metadata": {},
   "source": [
    "\n",
    "<a id='morris-learn'></a>\n",
    "<div id=\"qe-notebook-header\" align=\"right\" style=\"text-align:right;\">\n",
    "        <a href=\"https://quantecon.org/\" title=\"quantecon.org\">\n",
    "                <img style=\"width:250px;display:inline;\" width=\"250px\" src=\"https://assets.quantecon.org/img/qe-menubar-logo.svg\" alt=\"QuantEcon\">\n",
    "        </a>\n",
    "</div>"
   ]
  },
  {
   "cell_type": "markdown",
   "id": "5dae3373",
   "metadata": {},
   "source": [
    "# Speculative Behavior with Bayesian Learning\n",
    "\n",
    "\n",
    "<a id='index-0'></a>"
   ]
  },
  {
   "cell_type": "markdown",
   "id": "42438944",
   "metadata": {},
   "source": [
    "## Contents\n",
    "\n",
    "- [Speculative Behavior with Bayesian Learning](#Speculative-Behavior-with-Bayesian-Learning)  \n",
    "  - [Overview](#Overview)  \n",
    "  - [Structure of the model](#Structure-of-the-model)  \n",
    "  - [Information and beliefs](#Information-and-beliefs)  \n",
    "  - [Source of heterogeneous priors](#Source-of-heterogeneous-priors)  \n",
    "  - [Beta priors](#Beta-priors)  \n",
    "  - [Market prices with learning](#Market-prices-with-learning)  \n",
    "  - [Two Traders](#Two-Traders)  \n",
    "  - [Concluding remarks](#Concluding-remarks)  \n",
    "  - [Exercise](#Exercise)  "
   ]
  },
  {
   "cell_type": "markdown",
   "id": "11a11ec8",
   "metadata": {},
   "source": [
    "## Overview\n",
    "\n",
    "This lecture describes how Morris [[1996](https://python.quantecon.org/zreferences.html#id144)] extended the Harrison–Kreps model [[Harrison and Kreps, 1978](https://python.quantecon.org/zreferences.html#id143)] of speculative asset pricing.\n",
    "\n",
    "Like Harrison and Kreps’s model, Morris’s model determines the price of a dividend-yielding asset that is traded by risk-neutral investors who have heterogeneous beliefs.\n",
    "\n",
    "The Harrison-Kreps model assumes that the traders have dogmatic, hard-wired beliefs about the asset’s dividend stream.\n",
    "\n",
    "Morris replaced Harrison and Kreps’s traders with  hard-wired beliefs about the dividend stream with traders who use Bayes’ Law to update their beliefs about prospective dividends as new dividend data arrive.\n",
    "\n",
    ">**Note**\n",
    ">\n",
    ">Morris’s traders don’t use data on past prices of the asset to update their beliefs about the\n",
    "dividend process.\n",
    "\n",
    "Key features of the environment in Morris’s model include:\n",
    "\n",
    "- All traders share a set  of statistical models for prospective dividends  \n",
    "- A single parameter indexes the set of statistical models  \n",
    "- All traders observe the same dividend history  \n",
    "- All traders use Bayes’ Law to update beliefs  \n",
    "- Traders have different initial *prior distributions* over the parameter  \n",
    "- Traders’  *posterior distributions* over the parameter eventually merge  \n",
    "- Before their posterior distributions merge,  traders disagree about the  predictive density over prospective dividends  \n",
    "  - therefore they disagree  about the value of the asset  \n",
    "\n",
    "\n",
    "Just as in the hard-wired beliefs model of Harrison and Kreps, those differences of opinion induce  investors to  engage in *speculative behavior* in the following sense:\n",
    "\n",
    "- sometimes they are willing to pay more for the asset than what they think is its “fundamental” value, i.e., the expected discounted value of its prospective dividend stream  \n",
    "\n",
    "\n",
    "Prior to reading this lecture, you might want to review the following quantecon lectures:\n",
    "\n",
    "- [Harrison-Kreps model](https://python.quantecon.org/harrison_kreps.html)  \n",
    "- [Likelihood ratio processes](https://python.quantecon.org/likelihood_ratio_process.html)  \n",
    "- [Bayesian versus frequentist statistics](https://python.quantecon.org/likelihood_bayes.html)  \n",
    "\n",
    "\n",
    "Let’s start with some standard imports:"
   ]
  },
  {
   "cell_type": "code",
   "execution_count": null,
   "id": "276d7f55",
   "metadata": {
    "hide-output": false
   },
   "outputs": [],
   "source": [
    "import numpy as np\n",
    "import matplotlib.pyplot as plt"
   ]
  },
  {
   "cell_type": "markdown",
   "id": "09528d69",
   "metadata": {},
   "source": [
    "## Structure of the model\n",
    "\n",
    "There is a fixed supply of shares of an asset.\n",
    "\n",
    "Each share entitles its owner to a stream of *binary* i.i.d. dividends $ \\{d_t\\} $ where\n",
    "\n",
    "$$\n",
    "d_{t+1} \\in \\{0,1\\}\n",
    "$$\n",
    "\n",
    "The dividend at time $ t $ equals $ 1 $ with unknown probability $ \\theta \\in (0,1) $ and equals $ 0 $ with probability $ 1-\\theta $.\n",
    "\n",
    "Unlike [[Harrison and Kreps, 1978](https://python.quantecon.org/zreferences.html#id143)] where traders have hard-wired beliefs about a Markov transition matrix, in Morris’s model:\n",
    "\n",
    "- The true dividend probability $ \\theta $ is unknown  \n",
    "- Traders have *prior beliefs* about $ \\theta $  \n",
    "- Traders observe dividend realizations and update beliefs via Bayes’ Law  \n",
    "\n",
    "\n",
    "There is a finite set $ \\mathcal{I} $ of *risk-neutral* traders.\n",
    "\n",
    "All traders have the same discount factor $ \\beta \\in (0,1) $.\n",
    "\n",
    "- You can think of $ \\beta $ as being related to a net risk-free interest rate $ r $ by $ \\beta = 1/(1+r) $.  \n",
    "\n",
    "\n",
    "Owning the asset at the end of period $ t $ entitles the owner to dividends at time $ t+1, t+2, \\ldots $.\n",
    "\n",
    "Because the dividend process is i.i.d.,  trader $ i $ thinks that  the fundamental value of the asset is the capitalized value of the dividend stream, namely,  $ \\sum_{j=1}^\\infty \\beta^j \\hat \\theta_i \n",
    "= \\frac{\\hat \\theta_i}{r} $, where $ \\hat \\theta_i $ is the mean of the  trader’s posterior distribution over $ \\theta $."
   ]
  },
  {
   "cell_type": "markdown",
   "id": "554b05b9",
   "metadata": {},
   "source": [
    "### Possible trades\n",
    "\n",
    "Traders buy and sell the risky asset in competitive markets each period $ t = 0, 1, 2, \\ldots $ after dividends are paid.\n",
    "\n",
    "As in Harrison-Kreps:\n",
    "\n",
    "- The asset is traded *ex dividend*  \n",
    "- An owner of a share at the end of time $ t $ is entitled to the dividend at time $ t+1 $  \n",
    "- An owner of a share at the end of period $ t $ also has the right to sell the share at time $ t+1 $ after having received the dividend at time $ t+1 $.  \n",
    "\n",
    "\n",
    "*Short sales are prohibited*.\n",
    "\n",
    "This matters because it limits how pessimists can express their opinions:\n",
    "\n",
    "- They *can* express themselves by selling their shares  \n",
    "- They *cannot* express themselves more emphatically by borrowing shares and immediately selling them  \n",
    "\n",
    "\n",
    "All traders have sufficient wealth to purchase the risky asset."
   ]
  },
  {
   "cell_type": "markdown",
   "id": "bca83e78",
   "metadata": {},
   "source": [
    "## Information and beliefs\n",
    "\n",
    "At time $ t \\geq 1 $, all traders observe  $ (d_1, d_2, \\ldots, d_t) $.\n",
    "\n",
    "All traders update their subjective distribution over $ \\theta $ by applying Bayes’ rule.\n",
    "\n",
    "Traders have *heterogeneous priors* over the unknown dividend probability $ \\theta $.\n",
    "\n",
    "This heterogeneity in priors produces heterogeneous posterior beliefs."
   ]
  },
  {
   "cell_type": "markdown",
   "id": "0ecdb9ec",
   "metadata": {},
   "source": [
    "## Source of heterogeneous priors\n",
    "\n",
    "Imputing different statistical models to agents inside a model is controversial.\n",
    "\n",
    "Many  game theorists and rational expectations applied economists think it is a bad idea.\n",
    "\n",
    "While these economists often construct models in which agents have different *information*, they prefer to assume that all of the agents inside their model always share the same statistical model – i.e., the same joint probability distribution over the random process being modeled.\n",
    "\n",
    "For a statistician or an economic theorist, a statistical model is a joint probability distribution that is characterized  by a known parameter vector.\n",
    "\n",
    "When working with  a *set* of statistical models swept out  by  parameters, say $ \\theta $ in a known set $ \\Theta $, economic theorists\n",
    "reduce the set of models to a single model by imputing to all agents inside the model the same prior probability distribution over $ \\theta $.\n",
    "\n",
    ">**Note**\n",
    ">\n",
    ">A set of statistical models that has a particular geometric structure is called a [manifold](https://en.wikipedia.org/wiki/Manifold)  of statistical models. Morris endows traders with a shared  manifold of statistical models.\n",
    "\n",
    "Proceeding in this way adheres to  the *Harsanyi Common Priors Doctrine*.\n",
    "\n",
    "[[Harsanyi, 1967](https://python.quantecon.org/zreferences.html#id5)],  [[Harsanyi, 1968](https://python.quantecon.org/zreferences.html#id3)],  [[Harsanyi, 1968](https://python.quantecon.org/zreferences.html#id4)] argued that if two rational agents have\n",
    "the same information and the same reasoning capabilities, they will have the same joint probability distribution over outcomes of interest.\n",
    "\n",
    "Harsanyi interpreted disagreements about prospective outcomes  as arising from differences in agents’  information sets,  not  differences in their  statistical models.\n",
    "\n",
    "Evidently,  [[Harrison and Kreps, 1978](https://python.quantecon.org/zreferences.html#id143)] departed from the  Harsanyi common statistical model assumption when they  hard-wired dogmatic disparate beliefs.\n",
    "\n",
    "Morris [[1996](https://python.quantecon.org/zreferences.html#id144)]  abandons the Harsanyi doctrine less completely  than Harrison and Kreps had.\n",
    "\n",
    "- Morris does assume that agents share the same set of statistical models, but $ \\ldots $  \n",
    "- Morris assumes that they have different initial prior distributions over the parameter that indexes the  models  \n",
    "\n",
    "\n",
    "Morris’s agents  express their initial ignorance about the parameter differently – they have different priors.\n",
    "\n",
    "Morris defends his assumption by alluding to the apparent ‘‘mispricing’’ of initial public offerings presented by [[Miller, 1977](https://python.quantecon.org/zreferences.html#id6)].\n",
    "\n",
    "Miller described  a situation in which agents have access to  little or no data about a new enterprise.\n",
    "\n",
    "Morris wanted his traders to be open to changing their opinions as information about the parameter  arrives.\n",
    "\n",
    "Knowledgeable statisticians have been known to disagree about an appropriate prior.\n",
    "\n",
    "For example, Morris described   *different* respectable ways to express ‘‘maximal ignorance’’ about the parameter of a Bernoulli distribution\n",
    "\n",
    "- a uniform distribution on $ [0, 1] $  \n",
    "- a Jeffreys prior [[Jeffreys, 1946](https://python.quantecon.org/zreferences.html#id7)] that is invariant to reparameterization; in the present situation, the Jeffreys prior takes the form of a Beta distribution with parameters  $ .5, .5 $  \n",
    "\n",
    "\n",
    "Is one of these priors more ‘‘rational’’ than the other?\n",
    "\n",
    "Morris thinks not."
   ]
  },
  {
   "cell_type": "markdown",
   "id": "c96d0155",
   "metadata": {},
   "source": [
    "## Beta priors\n",
    "\n",
    "For tractability, assume trader $ i $ has a Beta prior over the dividend probability\n",
    "\n",
    "$$\n",
    "\\theta \\sim \\text{Beta}(a_i, b_i)\n",
    "$$\n",
    "\n",
    "where $ a_i, b_i > 0 $ are the prior parameters.\n",
    "\n",
    ">**Note**\n",
    ">\n",
    ">The  Beta distribution also appears in these  quantecon lectures [Statistical Divergence Measures](https://python.quantecon.org/divergence_measures.html),  [Likelihood Ratio Processes](https://python.quantecon.org/likelihood_ratio_process.html),  [Job Search VII: Search with Learning](https://python.quantecon.org/odu.html).\n",
    "\n",
    "Suppose trader $ i $ observes a history of $ t $ periods in which a total of $ s $ dividends are paid\n",
    "(i.e., $ s $ successes with dividend and $ t-s $ failures without dividend).\n",
    "\n",
    "By Bayes’ rule, the posterior density over $ \\theta $ is:\n",
    "\n",
    "$$\n",
    "\\pi_i(\\theta \\mid s, t) = \\frac{\\theta^s (1-\\theta)^{t-s} \\pi_i(\\theta)}{\\int_0^1 \\theta^s (1-\\theta)^{t-s} \\pi_i(\\theta) d\\theta}\n",
    "$$\n",
    "\n",
    "where $ \\pi_i(\\theta) $ is trader $ i $’s prior density.\n",
    "\n",
    ">**Note**\n",
    ">\n",
    ">The Beta distribution is the conjugate prior for the Binomial likelihood. This means that when the prior is $ \\text{Beta}(a_i, b_i) $ and we observe $ s $ successes in $ t $ trials, the posterior is $ \\text{Beta}(a_i+s, b_i+t-s) $.\n",
    "\n",
    "The posterior mean (or expected dividend probability) is:\n",
    "\n",
    "$$\n",
    "\\mu_i(s,t) = \\int_0^1 \\theta \\pi_i(\\theta \\mid s, t) d\\theta \n",
    "= \\mathbb{E}[\\text{Beta}(a_i+s, b_i+t-s)] = \\frac{a_i + s}{a_i + b_i + t}\n",
    "$$\n",
    "\n",
    "Morris refers to $ \\mu_i(s,t) $ as trader $ i $’s **fundamental valuation** of the asset after history $ (s,t) $.\n",
    "\n",
    "This is the probability trader $ i $ assigns to receiving a dividend next period.\n",
    "\n",
    "It embeds trader $ i $’s updated belief about $ \\theta $."
   ]
  },
  {
   "cell_type": "markdown",
   "id": "3b06ff6e",
   "metadata": {},
   "source": [
    "## Market prices with learning\n",
    "\n",
    "Fundamental valuations equal expected present values of dividends that our heterogeneous traders\n",
    "attach to the option of holding the asset *forever*.\n",
    "\n",
    "The equilibrium price process is determined by the condition that the asset is held at time $ t $ by the trader who attaches the highest valuation to the asset at time $ t $.\n",
    "\n",
    "An owner of the asset has the option to sell it after receiving that period’s dividend.\n",
    "\n",
    "Traders take that into account.\n",
    "\n",
    "That opens the possibility that  a trader will be willing to pay more for the asset than that trader’s fundamental valuation."
   ]
  },
  {
   "cell_type": "markdown",
   "id": "29a06245",
   "metadata": {},
   "source": [
    "##  (Most Optimistic Valuation)\n",
    "\n",
    "After history $ (s,t) $, the *most optimistic fundamental valuation* is:\n",
    "\n",
    "$$\n",
    "\\mu^*(s,t) = \\max_{i \\in \\mathcal{I}} \\mu_i(s,t)\n",
    "$$"
   ]
  },
  {
   "cell_type": "markdown",
   "id": "3aaea925",
   "metadata": {},
   "source": [
    "##  (Equilibrium Asset Price)\n",
    "\n",
    "Write $ \\tilde{p}(s,t,r) $ for the competitive equilibrium price of the risky asset (in current dollars) after history $ (s,t) $ when the interest rate is $ r $.\n",
    "\n",
    "The equilibrium price satisfies:\n",
    "\n",
    "$$\n",
    "\\tilde{p}(s,t,r) = \\frac{1}{1+r} \\Bigl[ \\mu^*(s,t) \\{1 + \\tilde{p}(s+1,t+1,r)\\} \n",
    "+ (1 - \\mu^*(s,t)) \\tilde{p}(s,t+1,r) \\Bigr]\n",
    "$$\n",
    "\n",
    "The equilibrium price equals the highest expected discounted return among all traders from holding the asset to the next period."
   ]
  },
  {
   "cell_type": "markdown",
   "id": "7ec0d887",
   "metadata": {},
   "source": [
    "##  (Normalized Price)\n",
    "\n",
    "Define the normalized price as:\n",
    "\n",
    "$$\n",
    "p(s,t,r) = r \\tilde{p}(s,t,r)\n",
    "$$\n",
    "\n",
    "Since the current “dollar” price of the riskless asset is $ 1/r $, this represents the price of the risky asset in terms of the riskless asset.\n",
    "\n",
    "Substituting the preceding formula into the equilibrium condition gives:\n",
    "\n",
    "$$\n",
    "p(s,t,r) = \\frac{r}{1+r} \\mu^*(s,t) + \\frac{1}{1+r} \n",
    "\\Bigl[ \\mu^*(s,t) p(s+1,t+1,r) + (1 - \\mu^*(s,t)) p(s,t+1,r) \\Bigr]\n",
    "$$\n",
    "\n",
    "or equivalently:\n",
    "\n",
    "$$\n",
    "p(s,t,r) = \\mu^*(s,t) + \\frac{r}{1+r} \n",
    "\\Bigl[ \\mu^*(s,t) p(s+1,t+1,r) + (1 - \\mu^*(s,t)) p(s,t+1,r) - \\mu^*(s,t) \\Bigr]\n",
    "$$\n",
    "\n",
    "A price function that satisfies the equilibrium condition can be computed recursively.\n",
    "\n",
    "Set $ p^0(s,t,r) = 0 $ for all $ (s,t,r) $, and define $ p^{n+1}(s,t,r) $ by:\n",
    "\n",
    "$$\n",
    "p^{n+1}(s,t,r) = \\frac{r}{1+r} \\mu^*(s,t) + \\frac{1}{1+r} \n",
    "\\Bigl[ \\mu^*(s,t) p^n(s+1,t+1,r) + (1 - \\mu^*(s,t)) p^n(s,t+1,r) \\Bigr]\n",
    "$$\n",
    "\n",
    "The sequence $ \\{p^n(s,t,r)\\} $ converges to the equilibrium price $ p(s,t,r) $."
   ]
  },
  {
   "cell_type": "markdown",
   "id": "709a7688",
   "metadata": {},
   "source": [
    "##  (Speculative Premium)\n",
    "\n",
    "When the identity of the most optimistic trader can switch with future dividend realizations, the market price exceeds *every* trader’s fundamental valuation.\n",
    "\n",
    "In normalized units:\n",
    "\n",
    "$$\n",
    "p(s,t,r) > \\mu_i(s,t) \\quad \\text{for all } i \\in \\mathcal{I}\n",
    "$$\n",
    "\n",
    "Define the **speculative premium** as:\n",
    "\n",
    "$$\n",
    "p(s,t,r) - \\mu^*(s,t) > 0\n",
    "$$"
   ]
  },
  {
   "cell_type": "markdown",
   "id": "51ca1ba1",
   "metadata": {},
   "source": [
    "## Two Traders\n",
    "\n",
    "We now focus on an example with two traders with Beta  priors with parameters $ (a_1,b_1) $ and $ (a_2,b_2) $."
   ]
  },
  {
   "cell_type": "markdown",
   "id": "c200c9dd",
   "metadata": {},
   "source": [
    "##  (Rate Dominance (Beta Priors))\n",
    "\n",
    "Trader 1 **rate-dominates** trader 2 if:\n",
    "\n",
    "$$\n",
    "a_1 \\geq a_2 \\quad \\text{and} \\quad b_1 \\leq b_2\n",
    "$$"
   ]
  },
  {
   "cell_type": "markdown",
   "id": "1bc9bda5",
   "metadata": {},
   "source": [
    "##  (Global Optimist (Two Traders))\n",
    "\n",
    "For two traders with Beta priors:\n",
    "\n",
    "1. If trader 1 rate-dominates trader 2, then trader 1 is a **global optimist**: $ \\mu_1(s,t) \\geq \\mu_2(s,t) $ for all histories $ (s,t) $  \n",
    "1. In this case where $ p(s,t,r) = \\mu_1(s,t) $ for all $ (s,t,r) $, there is *no speculative premium*.  \n",
    "\n",
    "\n",
    "When neither trader rate-dominates the other, the identity of the most optimistic trader can switch as dividends accrue.\n",
    "\n",
    "Along a history in which perpetual switching occurs, the price of the asset strictly exceeds both traders’ fundamental valuations so long as traders continue to disagree:\n",
    "\n",
    "$$\n",
    "p(s,t,r) > \\max\\{\\mu_1(s,t), \\mu_2(s,t)\\}\n",
    "$$\n",
    "\n",
    "Thus, along such a history, there is a persistent speculative premium."
   ]
  },
  {
   "cell_type": "markdown",
   "id": "f20c7249",
   "metadata": {},
   "source": [
    "### Implementation\n",
    "\n",
    "For computational tractability, let’s work with a finite horizon $ T $ and solve by backward induction.\n",
    "\n",
    ">**Note**\n",
    ">\n",
    ">On page 1122, Morris [[1996](https://python.quantecon.org/zreferences.html#id144)]  provides an argument that the limit as $ T\\rightarrow + \\infty $ of such finite-horizon economies provides a useful\n",
    "selection algorithm that excludes additional equilibria that involve a Ponzi-scheme price component that Morris dismisses as fragile.\n",
    "\n",
    "Following [Definition 79.2](#equilibrium_asset_price), we use the discount factor parameterization $ \\beta = 1/(1+r) $ and compute dollar prices $ \\tilde{p}(s,t) $ via:\n",
    "\n",
    "$$\n",
    "\\tilde{p}(s,t) = \\beta \\max_{i\\in\\{1,2\\}} \\Bigl[ \\mu_i(s,t) \\{1 + \\tilde{p}(s+1,t+1)\\} + (1-\\mu_i(s,t)) \\tilde{p}(s,t+1) \\Bigr]\n",
    "$$\n",
    "\n",
    "We set the terminal price $ \\tilde{p}(s,T) $ equal to the perpetuity value under the most optimistic belief."
   ]
  },
  {
   "cell_type": "code",
   "execution_count": null,
   "id": "83b17898",
   "metadata": {
    "hide-output": false
   },
   "outputs": [],
   "source": [
    "def posterior_mean(a, b, s, t):\n",
    "    \"\"\"\n",
    "    Compute posterior mean μ_i(s,t) for Beta(a, b) prior.\n",
    "    \"\"\"\n",
    "    return (a + s) / (a + b + t)\n",
    "\n",
    "def perpetuity_value(a, b, s, t, β=.75):\n",
    "    \"\"\"\n",
    "    Compute perpetuity value (β/(1-β)) * μ_i(s,t).\n",
    "    \"\"\"\n",
    "    return (β / (1 - β)) * posterior_mean(a, b, s, t)\n",
    "\n",
    "def price_learning_two_agents(prior1, prior2, β=.75, T=200):\n",
    "    \"\"\"\n",
    "    Compute \\tilde p(s,t) for two Beta-prior traders via backward induction.\n",
    "    \"\"\"\n",
    "    a1, b1 = prior1\n",
    "    a2, b2 = prior2\n",
    "    price_array = np.zeros((T+1, T+1))\n",
    "\n",
    "    # Terminal condition: set to perpetuity value under max belief\n",
    "    for s in range(T+1):\n",
    "        perp1 = perpetuity_value(a1, b1, s, T, β)\n",
    "        perp2 = perpetuity_value(a2, b2, s, T, β)\n",
    "        price_array[s, T] = max(perp1, perp2)\n",
    "\n",
    "    # Backward induction\n",
    "    for t in range(T-1, -1, -1):\n",
    "        for s in range(t, -1, -1):\n",
    "            μ1 = posterior_mean(a1, b1, s, t)\n",
    "            μ2 = posterior_mean(a2, b2, s, t)\n",
    "            \n",
    "            # One-step continuation values under each trader's beliefs\n",
    "            cont1 = μ1 * (1.0 + price_array[s+1, t+1]) \\\n",
    "                    + (1.0 - μ1) * price_array[s, t+1]\n",
    "            cont2 = μ2 * (1.0 + price_array[s+1, t+1]) \\\n",
    "                    + (1.0 - μ2) * price_array[s, t+1]\n",
    "            price_array[s, t] = β * max(cont1, cont2)\n",
    "\n",
    "    def μ1_fun(s, t):\n",
    "        return posterior_mean(a1, b1, s, t)\n",
    "    def μ2_fun(s, t):\n",
    "        return posterior_mean(a2, b2, s, t)\n",
    "\n",
    "    return price_array, μ1_fun, μ2_fun"
   ]
  },
  {
   "cell_type": "markdown",
   "id": "76fbee2a",
   "metadata": {},
   "source": [
    "\n",
    "<a id='hk-go'></a>"
   ]
  },
  {
   "cell_type": "markdown",
   "id": "85dc5d18",
   "metadata": {},
   "source": [
    "### Case A: global optimist (no premium)\n",
    "\n",
    "Pick priors with rate dominance, e.g., trader 1: $ \\text{Beta}(a_1,b_1)=(2,1) $ and trader 2: $ (a_2,b_2)=(1,2) $.\n",
    "\n",
    "Trader 1 is the global optimist, so the normalized price equals trader 1’s fundamental valuation: $ p(s,t,r) = \\mu_1(s,t) $."
   ]
  },
  {
   "cell_type": "code",
   "execution_count": null,
   "id": "fdd8f0ca",
   "metadata": {
    "hide-output": false
   },
   "outputs": [],
   "source": [
    "β = 0.75\n",
    "price_go, μ1_go, μ2_go = price_learning_two_agents(\n",
    "        (2,1), (1,2), β=β, T=200)\n",
    "\n",
    "perpetuity_1 = (β / (1 - β)) * μ1_go(0, 0)\n",
    "perpetuity_2 = (β / (1 - β)) * μ2_go(0, 0)\n",
    "\n",
    "print(\"Price at (0, 0) =\", price_go[0,0])\n",
    "print(\"Valuation of trader 1 at (0, 0) =\", perpetuity_1)\n",
    "print(\"Valuation of trader 2 at (0, 0) =\", perpetuity_2)"
   ]
  },
  {
   "cell_type": "markdown",
   "id": "81cd5ac7",
   "metadata": {},
   "source": [
    "The price equals trader 1’s perpetuity value."
   ]
  },
  {
   "cell_type": "markdown",
   "id": "3b0b2306",
   "metadata": {},
   "source": [
    "### Case B: perpetual switching (positive premium)\n",
    "\n",
    "Now assume trader 1 has $ \\text{Beta}(1,1) $, trader 2 has $ \\text{Beta}(1/2,1/2) $.\n",
    "\n",
    "These produce crossing posteriors, so there is no global optimist and the price exceeds both fundamentals early on."
   ]
  },
  {
   "cell_type": "code",
   "execution_count": null,
   "id": "ef587fe1",
   "metadata": {
    "hide-output": false
   },
   "outputs": [],
   "source": [
    "price_ps, μ1_ps, μ2_ps = price_learning_two_agents(\n",
    "                                (1,1), (0.5,0.5), β=β, T=200)\n",
    "\n",
    "price_00 = price_ps[0,0]\n",
    "μ1_00 = μ1_ps(0,0)\n",
    "μ2_00 = μ2_ps(0,0)\n",
    "\n",
    "perpetuity_1 = (β / (1 - β)) * μ1_ps(0, 0)\n",
    "perpetuity_2 = (β / (1 - β)) * μ2_ps(0, 0)\n",
    "\n",
    "print(\"Price at (0, 0) =\", np.round(price_00, 6))\n",
    "print(\"Valuation of trader 1 at (0, 0) =\", perpetuity_1)\n",
    "print(\"Valuation of trader 2 at (0, 0) =\", perpetuity_2)"
   ]
  },
  {
   "cell_type": "markdown",
   "id": "8ee2552c",
   "metadata": {},
   "source": [
    "The resulting premium reflects the option value of reselling to whichever trader becomes temporarily more optimistic as dividends arrive sequentially.\n",
    "\n",
    "Within this setting, we can reproduce two key figures reported in Morris [[1996](https://python.quantecon.org/zreferences.html#id144)]"
   ]
  },
  {
   "cell_type": "code",
   "execution_count": null,
   "id": "17b2565c",
   "metadata": {
    "hide-output": false
   },
   "outputs": [],
   "source": [
    "def normalized_price_two_agents(prior1, prior2, r, T=250):\n",
    "    \"\"\"Return p(s,t,r) = r \\tilde p(s,t,r) for two traders.\"\"\"\n",
    "    β = 1.0 / (1.0 + r)\n",
    "    price_array, *_ = price_learning_two_agents(prior1, prior2, β=β, T=T)\n",
    "    return r * price_array\n",
    "\n",
    "# Figure I: p*(0,0,r) as a function of r\n",
    "r_grid = np.linspace(1e-3, 5.0, 200)\n",
    "priors = ((1,1), (0.5,0.5))\n",
    "p00 = np.array([normalized_price_two_agents(\n",
    "                priors[0], priors[1], r, T=300)[0,0]\n",
    "                for r in r_grid])\n",
    "\n",
    "fig, ax = plt.subplots()\n",
    "ax.plot(r_grid, p00, lw=2)\n",
    "ax.set_xlabel(r'$r$')\n",
    "ax.set_ylabel(r'$p^*(0,0,r)$')\n",
    "ax.axhline(0.5, color='C1', linestyle='--')\n",
    "plt.show()"
   ]
  },
  {
   "cell_type": "markdown",
   "id": "8ed94bcf",
   "metadata": {},
   "source": [
    "In the first figure, notice that:\n",
    "\n",
    "- The resale option pushes the normalized price $ p^*(0,0,r) $ above fundamentals $ (0.5) $ for any finite $ r $.  \n",
    "- As $ r $ increases ($ \\beta $ decreases), the option value fades and $ p^*(0,0,r) \\to 0.5 $.  \n",
    "- At $ r = 0.05 $ the premium is about $ 8–9\\% $, consistent with Morris (1996, Section IV).  "
   ]
  },
  {
   "cell_type": "code",
   "execution_count": null,
   "id": "5a17dd00",
   "metadata": {
    "hide-output": false
   },
   "outputs": [],
   "source": [
    "# Figure II: p*(t/2,t,0.05) as a function of t\n",
    "r = 0.05\n",
    "T = 60\n",
    "p_mat = normalized_price_two_agents(priors[0], priors[1], r, T=T)\n",
    "t_vals = np.arange(0, 54, 2)\n",
    "s_vals = t_vals // 2\n",
    "y = np.array([p_mat[s, t] for s, t in zip(s_vals, t_vals)])\n",
    "\n",
    "fig, ax = plt.subplots()\n",
    "ax.plot(t_vals, y, lw=2)\n",
    "ax.set_xlabel(r'$t$')\n",
    "ax.set_ylabel(r'$p^*(t/2,t,0.05)$')\n",
    "ax.axhline(0.5, color='C1', linestyle='--')\n",
    "plt.show()\n",
    "\n",
    "p0 = p_mat[0,0]\n",
    "μ0 = 0.5\n",
    "print(\"Initial normalized premium at r=0.05 (%):\",\n",
    "      np.round(100 * (p0 / μ0 - 1.0), 2))"
   ]
  },
  {
   "cell_type": "markdown",
   "id": "d7675441",
   "metadata": {},
   "source": [
    "In the second figure, notice that:\n",
    "\n",
    "- Along the symmetric path $ s = t/2 $, both traders’ fundamental valuations equal $ 0.5 $ at every $ t $, yet the price starts above $ 0.5 $ and declines toward $ 0.5 $ as learning reduces disagreement and the resale option loses value.  "
   ]
  },
  {
   "cell_type": "markdown",
   "id": "55e5f69f",
   "metadata": {},
   "source": [
    "### General N–trader extension\n",
    "\n",
    "The same recursion extends to any finite set of Beta priors $ \\{(a_i,b_i)\\}_{i=1}^N $ by taking a max over $ i $ each period."
   ]
  },
  {
   "cell_type": "code",
   "execution_count": null,
   "id": "ed0878d9",
   "metadata": {
    "hide-output": false
   },
   "outputs": [],
   "source": [
    "def price_learning(priors, β=0.75, T=200):\n",
    "    \"\"\"\n",
    "    N-trader version with heterogeneous Beta priors.\n",
    "    \"\"\"\n",
    "    price_array = np.zeros((T+1, T+1))\n",
    "\n",
    "    def perp_i(i, s, t):\n",
    "        a, b = priors[i]\n",
    "        return perpetuity_value(a, b, s, t, β)\n",
    "\n",
    "    # Terminal condition\n",
    "    for s in range(T+1):\n",
    "        price_array[s, T] = max(\n",
    "            perp_i(i, s, T) for i in range(len(priors)))\n",
    "\n",
    "    # Backward induction\n",
    "    for t in range(T-1, -1, -1):\n",
    "        for s in range(t, -1, -1):\n",
    "            conts = []\n",
    "            for (a, b) in priors:\n",
    "                μ = posterior_mean(a, b, s, t)\n",
    "                conts.append(μ * \n",
    "                (1.0 + price_array[s+1, t+1]) \n",
    "                     + (1.0 - μ) * price_array[s, t+1])\n",
    "            price_array[s, t] = β * max(conts)\n",
    "\n",
    "    return price_array\n",
    "\n",
    "β = 0.75\n",
    "priors = [(1,1), (0.5,0.5), (3,2)]\n",
    "price_N = price_learning(priors, β=β, T=150)\n",
    "\n",
    "# Compute valuations for each trader at (0,0)\n",
    "μ_vals = [posterior_mean(a, b, 0, 0) for a, b in priors]\n",
    "perp_vals = [(β / (1 - β)) * μ for μ in μ_vals]\n",
    "\n",
    "print(\"Three-trader example at (s,t)=(0,0):\")\n",
    "print(f\"Price at (0,0) = {np.round(price_N[0,0], 6)}\")\n",
    "print(f\"\\nTrader valuations:\")\n",
    "for i, (μ, perp) in enumerate(zip(μ_vals, perp_vals), 1):\n",
    "    print(f\"  Trader {i} = {np.round(perp, 6)}\")"
   ]
  },
  {
   "cell_type": "markdown",
   "id": "7409caf7",
   "metadata": {},
   "source": [
    "Note that the asset price is above all traders’ valuations.\n",
    "\n",
    "Morris tells us that no rate dominance exists in this case.\n",
    "\n",
    "Let’s verify this using the code below"
   ]
  },
  {
   "cell_type": "code",
   "execution_count": null,
   "id": "5f9bcb8c",
   "metadata": {
    "hide-output": false
   },
   "outputs": [],
   "source": [
    "dominant = None\n",
    "for i in range(len(priors)):\n",
    "    is_dom = all(\n",
    "        priors[i][0] >= priors[j][0] and priors[i][1] <= priors[j][1]\n",
    "                 for j in range(len(priors)) if i != j)\n",
    "    if is_dom:\n",
    "        dominant = i\n",
    "        break\n",
    "\n",
    "if dominant is not None:\n",
    "    print(f\"\\nTrader {dominant+1} is the global optimist (rate-dominant)\")\n",
    "else:\n",
    "    print(f\"\\nNo global optimist and speculative premium exists\")"
   ]
  },
  {
   "cell_type": "markdown",
   "id": "d50ae118",
   "metadata": {},
   "source": [
    "Indeed, there is no global optimist and a speculative premium exists."
   ]
  },
  {
   "cell_type": "markdown",
   "id": "9c53efc6",
   "metadata": {},
   "source": [
    "## Concluding remarks\n",
    "\n",
    "Morris [[1996](https://python.quantecon.org/zreferences.html#id144)] uses his model to interpret a ‘‘hot issue’’ anomaly described by [[Miller, 1977](https://python.quantecon.org/zreferences.html#id6)] according to which opening market prices of initial public offerings seem higher than values  prices that emerge later."
   ]
  },
  {
   "cell_type": "markdown",
   "id": "49acfba6",
   "metadata": {},
   "source": [
    "## Exercise"
   ]
  },
  {
   "cell_type": "markdown",
   "id": "bc3db6ee",
   "metadata": {},
   "source": [
    "## Exercise 79.1\n",
    "\n",
    "Morris [[Morris, 1996](https://python.quantecon.org/zreferences.html#id144)] provides a sharp characterization of when speculative bubbles arise.\n",
    "\n",
    "The key condition is that there is no *global optimist*.\n",
    "\n",
    "In this exercise, you will verify this condition for the following sets of traders with Beta priors:\n",
    "\n",
    "1. Trader 1: $ \\text{Beta}(2,1) $, Trader 2: $ \\text{Beta}(1,2) $  \n",
    "1. Trader 1: $ \\text{Beta}(1,1) $, Trader 2: $ \\text{Beta}(1/2,1/2) $  \n",
    "1. Trader 1: $ \\text{Beta}(3,1) $, Trader 2: $ \\text{Beta}(2,1) $, Trader 3: $ \\text{Beta}(1,2) $  \n",
    "1. Trader 1: $ \\text{Beta}(1,1) $, Trader 2: $ \\text{Beta}(1/2,1/2) $, Trader 3: $ \\text{Beta}(3/2,3/2) $  "
   ]
  },
  {
   "cell_type": "markdown",
   "id": "4809c044",
   "metadata": {},
   "source": [
    "## Solution to[ Exercise 79.1](https://python.quantecon.org/#hk_ex3)\n",
    "\n",
    "Here is one solution:"
   ]
  },
  {
   "cell_type": "code",
   "execution_count": null,
   "id": "69fa8020",
   "metadata": {
    "hide-output": false
   },
   "outputs": [],
   "source": [
    "def check_rate_dominance(priors):\n",
    "    \"\"\"\n",
    "    Check if any trader rate-dominates all others.\n",
    "    \"\"\"\n",
    "    N = len(priors)\n",
    "\n",
    "    for i in range(N):\n",
    "        a_i, b_i = priors[i]\n",
    "        is_dominant = True\n",
    "\n",
    "        for j in range(N):\n",
    "            if i == j:\n",
    "                continue\n",
    "            a_j, b_j = priors[j]\n",
    "\n",
    "            # Check rate dominance condition\n",
    "            if not (a_i >= a_j and b_i <= b_j):\n",
    "                is_dominant = False\n",
    "                break\n",
    "\n",
    "        if is_dominant:\n",
    "            return i\n",
    "\n",
    "    return None\n",
    "\n",
    "# Test cases\n",
    "test_cases = [\n",
    "    ([(2, 1), (1, 2)], \"Global optimist exists\"),\n",
    "    ([(1, 1), (0.5, 0.5)], \"Perpetual switching\"),\n",
    "    ([(3, 1), (2, 1), (1, 2)], \"Three traders with dominant\"),\n",
    "    ([(1, 1), (0.5, 0.5), (1.5, 1.5)], \"Three traders, no dominant\")\n",
    "]\n",
    "\n",
    "for priors, description in test_cases:\n",
    "    dominant = check_rate_dominance(priors)\n",
    "\n",
    "    print(f\"\\n{description}\")\n",
    "    print(f\"Priors: {priors}\")\n",
    "    print(\"==\"*8)\n",
    "    if dominant is not None:\n",
    "        print(f\"Trader {dominant+1} is the global optimist (rate-dominant)\")\n",
    "    else:\n",
    "        print(f\"No global optimist exists\")\n",
    "    print(\"==\"*8 + \"\\n\")"
   ]
  }
 ],
 "metadata": {
  "date": 1761109214.3633552,
  "filename": "morris_learn.md",
  "kernelspec": {
   "display_name": "Python",
   "language": "python3",
   "name": "python3"
  },
  "title": "Speculative Behavior with Bayesian Learning"
 },
 "nbformat": 4,
 "nbformat_minor": 5
}