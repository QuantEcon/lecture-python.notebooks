{
 "cells": [
  {
   "cell_type": "markdown",
   "metadata": {},
   "source": [
    "<div id=\"qe-notebook-header\" align=\"right\" style=\"text-align:right;\">\n",
    "        <a href=\"https://quantecon.org/\" title=\"quantecon.org\">\n",
    "                <img style=\"width:250px;display:inline;\" width=\"250px\" src=\"https://assets.quantecon.org/img/qe-menubar-logo.svg\" alt=\"QuantEcon\">\n",
    "        </a>\n",
    "</div>"
   ]
  },
  {
   "cell_type": "markdown",
   "metadata": {},
   "source": [
    "# Search\n",
    "\n",
    "This section of the course contains foundational models for dynamic economic\n",
    "modeling.   Most are single agent problems that take the activities of other\n",
    "agents as given.  Later we will look at full equilibrium problems."
   ]
  },
  {
   "cell_type": "markdown",
   "metadata": {},
   "source": [
    "## Lectures\n",
    "\n",
    "- [Job Search I: The McCall Search Model](https://python-programming.quantecon.org/mccall_model.html)\n",
    "  - [Overview](https://python-programming.quantecon.org/mccall_model.html#overview)\n",
    "  - [The McCall Model](https://python-programming.quantecon.org/mccall_model.html#the-mccall-model)\n",
    "  - [Computing the Optimal Policy: Take 1](https://python-programming.quantecon.org/mccall_model.html#computing-the-optimal-policy-take-1)\n",
    "  - [Computing the Optimal Policy: Take 2](https://python-programming.quantecon.org/mccall_model.html#computing-the-optimal-policy-take-2)\n",
    "  - [Exercises](https://python-programming.quantecon.org/mccall_model.html#exercises)\n",
    "  - [Solutions](https://python-programming.quantecon.org/mccall_model.html#solutions)\n",
    "- [Job Search II: Search and Separation](https://python-programming.quantecon.org/mccall_model_with_separation.html)\n",
    "  - [Overview](https://python-programming.quantecon.org/mccall_model_with_separation.html#overview)\n",
    "  - [The Model](https://python-programming.quantecon.org/mccall_model_with_separation.html#the-model)\n",
    "  - [Solving the Model](https://python-programming.quantecon.org/mccall_model_with_separation.html#solving-the-model)\n",
    "  - [Implementation](https://python-programming.quantecon.org/mccall_model_with_separation.html#implementation)\n",
    "  - [Impact of Parameters](https://python-programming.quantecon.org/mccall_model_with_separation.html#impact-of-parameters)\n",
    "  - [Exercises](https://python-programming.quantecon.org/mccall_model_with_separation.html#exercises)\n",
    "  - [Solutions](https://python-programming.quantecon.org/mccall_model_with_separation.html#solutions)\n",
    "- [Job Search III: Fitted Value Function Iteration](https://python-programming.quantecon.org/mccall_fitted_vfi.html)\n",
    "  - [Overview](https://python-programming.quantecon.org/mccall_fitted_vfi.html#overview)\n",
    "  - [The Algorithm](https://python-programming.quantecon.org/mccall_fitted_vfi.html#the-algorithm)\n",
    "  - [Implementation](https://python-programming.quantecon.org/mccall_fitted_vfi.html#implementation)\n",
    "  - [Exercises](https://python-programming.quantecon.org/mccall_fitted_vfi.html#exercises)\n",
    "  - [Solutions](https://python-programming.quantecon.org/mccall_fitted_vfi.html#solutions)\n",
    "- [Job Search IV: Correlated Wage Offers](https://python-programming.quantecon.org/mccall_correlated.html)\n",
    "  - [Overview](https://python-programming.quantecon.org/mccall_correlated.html#overview)\n",
    "  - [The Model](https://python-programming.quantecon.org/mccall_correlated.html#the-model)\n",
    "  - [Implementation](https://python-programming.quantecon.org/mccall_correlated.html#implementation)\n",
    "  - [Unemployment Duration](https://python-programming.quantecon.org/mccall_correlated.html#unemployment-duration)\n",
    "  - [Exercises](https://python-programming.quantecon.org/mccall_correlated.html#exercises)\n",
    "  - [Solutions](https://python-programming.quantecon.org/mccall_correlated.html#solutions)\n",
    "- [Job Search V: Modeling Career Choice](https://python-programming.quantecon.org/career.html)\n",
    "  - [Overview](https://python-programming.quantecon.org/career.html#overview)\n",
    "  - [Model](https://python-programming.quantecon.org/career.html#model)\n",
    "  - [Implementation](https://python-programming.quantecon.org/career.html#implementation)\n",
    "  - [Exercises](https://python-programming.quantecon.org/career.html#exercises)\n",
    "  - [Solutions](https://python-programming.quantecon.org/career.html#solutions)\n",
    "- [Job Search VI: On-the-Job Search](https://python-programming.quantecon.org/jv.html)\n",
    "  - [Overview](https://python-programming.quantecon.org/jv.html#overview)\n",
    "  - [Model](https://python-programming.quantecon.org/jv.html#model)\n",
    "  - [Implementation](https://python-programming.quantecon.org/jv.html#implementation)\n",
    "  - [Solving for Policies](https://python-programming.quantecon.org/jv.html#solving-for-policies)\n",
    "  - [Exercises](https://python-programming.quantecon.org/jv.html#exercises)\n",
    "  - [Solutions](https://python-programming.quantecon.org/jv.html#solutions)"
   ]
  }
 ],
 "metadata": {
  "date": 1615081140.5394974,
  "filename": "index_search.rst",
  "kernelspec": {
   "display_name": "Python",
   "language": "python3",
   "name": "python3"
  },
  "next_doc": {
   "link": "mccall_model",
   "title": "Job Search I: The McCall Search Model"
  },
  "prev_doc": {
   "link": "cass_koopmans_2",
   "title": "Cass-Koopmans Competitive Equilibrium"
  },
  "title": "Search"
 },
 "nbformat": 4,
 "nbformat_minor": 2
}