{
 "cells": [
  {
   "cell_type": "markdown",
   "metadata": {},
   "source": [
    "\n",
    "<a id='tools-and-techniques'></a>\n",
    "<div id=\"qe-notebook-header\" align=\"right\" style=\"text-align:right;\">\n",
    "        <a href=\"https://quantecon.org/\" title=\"quantecon.org\">\n",
    "                <img style=\"width:250px;display:inline;\" width=\"250px\" src=\"https://assets.quantecon.org/img/qe-menubar-logo.svg\" alt=\"QuantEcon\">\n",
    "        </a>\n",
    "</div>"
   ]
  },
  {
   "cell_type": "markdown",
   "metadata": {},
   "source": [
    "# Tools and Techniques\n",
    "\n",
    "This section of the course contains foundational mathematical and statistical\n",
    "tools and techniques"
   ]
  },
  {
   "cell_type": "markdown",
   "metadata": {},
   "source": [
    "## Lectures\n",
    "\n",
    "- [Geometric Series for Elementary Economics](https://python-programming.quantecon.org/geom_series.html)\n",
    "  - [Overview](https://python-programming.quantecon.org/geom_series.html#overview)\n",
    "  - [Key Formulas](https://python-programming.quantecon.org/geom_series.html#key-formulas)\n",
    "  - [Example: The Money Multiplier in Fractional Reserve Banking](https://python-programming.quantecon.org/geom_series.html#example-the-money-multiplier-in-fractional-reserve-banking)\n",
    "  - [Example: The Keynesian Multiplier](https://python-programming.quantecon.org/geom_series.html#example-the-keynesian-multiplier)\n",
    "  - [Example: Interest Rates and Present Values](https://python-programming.quantecon.org/geom_series.html#example-interest-rates-and-present-values)\n",
    "  - [Back to the Keynesian Multiplier](https://python-programming.quantecon.org/geom_series.html#back-to-the-keynesian-multiplier)\n",
    "- [Multivariate Hypergeometric Distribution](https://python-programming.quantecon.org/multi_hyper.html)\n",
    "  - [Overview](https://python-programming.quantecon.org/multi_hyper.html#overview)\n",
    "  - [The Administrator’s Problem](https://python-programming.quantecon.org/multi_hyper.html#the-administrator-s-problem)\n",
    "  - [Usage](https://python-programming.quantecon.org/multi_hyper.html#usage)\n",
    "- [Modeling COVID 19](https://python-programming.quantecon.org/sir_model.html)\n",
    "  - [Overview](https://python-programming.quantecon.org/sir_model.html#overview)\n",
    "  - [The SIR Model](https://python-programming.quantecon.org/sir_model.html#the-sir-model)\n",
    "  - [Implementation](https://python-programming.quantecon.org/sir_model.html#implementation)\n",
    "  - [Experiments](https://python-programming.quantecon.org/sir_model.html#experiments)\n",
    "  - [Ending Lockdown](https://python-programming.quantecon.org/sir_model.html#ending-lockdown)\n",
    "- [Linear Algebra](https://python-programming.quantecon.org/linear_algebra.html)\n",
    "  - [Overview](https://python-programming.quantecon.org/linear_algebra.html#overview)\n",
    "  - [Vectors](https://python-programming.quantecon.org/linear_algebra.html#vectors)\n",
    "  - [Matrices](https://python-programming.quantecon.org/linear_algebra.html#matrices)\n",
    "  - [Solving Systems of Equations](https://python-programming.quantecon.org/linear_algebra.html#solving-systems-of-equations)\n",
    "  - [Eigenvalues and Eigenvectors](https://python-programming.quantecon.org/linear_algebra.html#eigenvalues-and-eigenvectors)\n",
    "  - [Further Topics](https://python-programming.quantecon.org/linear_algebra.html#further-topics)\n",
    "  - [Exercises](https://python-programming.quantecon.org/linear_algebra.html#exercises)\n",
    "  - [Solutions](https://python-programming.quantecon.org/linear_algebra.html#solutions)\n",
    "- [Complex Numbers and Trigonometry](https://python-programming.quantecon.org/complex_and_trig.html)\n",
    "  - [Overview](https://python-programming.quantecon.org/complex_and_trig.html#overview)\n",
    "  - [De Moivre’s Theorem](https://python-programming.quantecon.org/complex_and_trig.html#de-moivre-s-theorem)\n",
    "  - [Applications of de Moivre’s Theorem](https://python-programming.quantecon.org/complex_and_trig.html#applications-of-de-moivre-s-theorem)\n",
    "- [LLN and CLT](https://python-programming.quantecon.org/lln_clt.html)\n",
    "  - [Overview](https://python-programming.quantecon.org/lln_clt.html#overview)\n",
    "  - [Relationships](https://python-programming.quantecon.org/lln_clt.html#relationships)\n",
    "  - [LLN](https://python-programming.quantecon.org/lln_clt.html#lln)\n",
    "  - [CLT](https://python-programming.quantecon.org/lln_clt.html#clt)\n",
    "  - [Exercises](https://python-programming.quantecon.org/lln_clt.html#exercises)\n",
    "  - [Solutions](https://python-programming.quantecon.org/lln_clt.html#solutions)\n",
    "- [Heavy-Tailed Distributions](https://python-programming.quantecon.org/heavy_tails.html)\n",
    "  - [Overview](https://python-programming.quantecon.org/heavy_tails.html#overview)\n",
    "  - [Visual Comparisons](https://python-programming.quantecon.org/heavy_tails.html#visual-comparisons)\n",
    "  - [Failure of the LLN](https://python-programming.quantecon.org/heavy_tails.html#failure-of-the-lln)\n",
    "  - [Classifying Tail Properties](https://python-programming.quantecon.org/heavy_tails.html#classifying-tail-properties)\n",
    "  - [Exercises](https://python-programming.quantecon.org/heavy_tails.html#exercises)\n",
    "  - [Solutions](https://python-programming.quantecon.org/heavy_tails.html#solutions)\n",
    "- [Multivariate Normal Distribution](https://python-programming.quantecon.org/multivariate_normal.html)\n",
    "  - [Overview](https://python-programming.quantecon.org/multivariate_normal.html#overview)\n",
    "  - [The Multivariate Normal Distribution](https://python-programming.quantecon.org/multivariate_normal.html#the-multivariate-normal-distribution)\n",
    "  - [Bivariate Example](https://python-programming.quantecon.org/multivariate_normal.html#bivariate-example)\n",
    "  - [Trivariate Example](https://python-programming.quantecon.org/multivariate_normal.html#trivariate-example)\n",
    "  - [One Dimensional Intelligence (IQ)](https://python-programming.quantecon.org/multivariate_normal.html#one-dimensional-intelligence-iq)\n",
    "  - [Another representation](https://python-programming.quantecon.org/multivariate_normal.html#another-representation)\n",
    "  - [Magic of the Cholesky factorization](https://python-programming.quantecon.org/multivariate_normal.html#magic-of-the-cholesky-factorization)\n",
    "  - [Math and Verbal Components of Intelligence](https://python-programming.quantecon.org/multivariate_normal.html#math-and-verbal-components-of-intelligence)\n",
    "  - [Univariate Time Series Analysis](https://python-programming.quantecon.org/multivariate_normal.html#univariate-time-series-analysis)\n",
    "  - [Classic Factor Analysis Model](https://python-programming.quantecon.org/multivariate_normal.html#classic-factor-analysis-model)\n",
    "  - [PCA as Approximation to Factor Analytic Model](https://python-programming.quantecon.org/multivariate_normal.html#pca-as-approximation-to-factor-analytic-model)\n",
    "  - [Stochastic Difference Equation](https://python-programming.quantecon.org/multivariate_normal.html#stochastic-difference-equation)\n",
    "  - [Application to Stock Price Model](https://python-programming.quantecon.org/multivariate_normal.html#application-to-stock-price-model)\n",
    "  - [Filtering Foundations](https://python-programming.quantecon.org/multivariate_normal.html#filtering-foundations)\n",
    "- [Univariate Time Series with Matrix Algebra](https://python-programming.quantecon.org/time_series_with_matrices.html)\n",
    "  - [Overview](https://python-programming.quantecon.org/time_series_with_matrices.html#overview)\n",
    "  - [Samuelson’s model](https://python-programming.quantecon.org/time_series_with_matrices.html#samuelson-s-model)\n",
    "  - [Adding a random term](https://python-programming.quantecon.org/time_series_with_matrices.html#adding-a-random-term)\n",
    "  - [A forward looking model](https://python-programming.quantecon.org/time_series_with_matrices.html#a-forward-looking-model)"
   ]
  }
 ],
 "metadata": {
  "date": 1615288252.9633746,
  "filename": "index_tools_and_techniques.rst",
  "kernelspec": {
   "display_name": "Python",
   "language": "python3",
   "name": "python3"
  },
  "next_doc": {
   "link": "geom_series",
   "title": "Geometric Series for Elementary Economics"
  },
  "prev_doc": {
   "link": "about_lectures",
   "title": "About these Lectures"
  },
  "title": "Tools and Techniques"
 },
 "nbformat": 4,
 "nbformat_minor": 2
}