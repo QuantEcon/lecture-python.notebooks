{
 "cells": [
  {
   "cell_type": "markdown",
   "id": "e1d17199",
   "metadata": {},
   "source": [
    "# Cass-Koopmans Model with Distorting Taxes"
   ]
  },
  {
   "cell_type": "markdown",
   "id": "71ac691f",
   "metadata": {},
   "source": [
    "## Overview\n",
    "\n",
    "This lecture studies effects of foreseen   fiscal and technology shocks on competitive equilibrium prices and quantities in a nonstochastic version of a Cass-Koopmans  growth model with features described in this QuantEcon lecture [Cass-Koopmans Competitive Equilibrium](https://python.quantecon.org/cass_koopmans_2.html).\n",
    "\n",
    "This model is discussed in more  detail  in chapter 11 of   [[Ljungqvist and Sargent, 2018](https://python.quantecon.org/zreferences.html#id190)].\n",
    "\n",
    "We use the model as a laboratory to experiment with  numerical techniques for approximating equilibria and to display the structure of dynamic models in which decision makers have perfect foresight about future government decisions.\n",
    "\n",
    "Following a classic paper by Robert E. Hall [[Hall, 1971](https://python.quantecon.org/zreferences.html#id265)], we augment a nonstochastic version of the Cass-Koopmans optimal  growth model with a government that purchases a stream of goods and that finances its purchases  with an sequences of several  distorting flat-rate taxes.\n",
    "\n",
    "Distorting taxes prevent a competitive equilibrium allocation from solving a planning problem.\n",
    "\n",
    "Therefore, to compute an equilibrium allocation and price system, we solve a system of nonlinear difference equations consisting of the first-order conditions for decision makers and the other equilibrium conditions.\n",
    "\n",
    "We present two ways to approximate an equilibrium:\n",
    "\n",
    "- The first is a shooting algorithm like the one that we deployed  in [Cass-Koopmans Competitive Equilibrium](https://python.quantecon.org/cass_koopmans_2.html).  \n",
    "- The second method is a root-finding algorithm that  minimizes residuals from the  first-order conditions of the consumer and   representative firm.  \n",
    "\n",
    "\n",
    "\n",
    "<a id='cs-fs-model'></a>"
   ]
  },
  {
   "cell_type": "markdown",
   "id": "00af04af",
   "metadata": {},
   "source": [
    "## The Economy"
   ]
  },
  {
   "cell_type": "markdown",
   "id": "3a8622ed",
   "metadata": {},
   "source": [
    "### Technology\n",
    "\n",
    "Feasible allocations satisfy\n",
    "\n",
    "\n",
    "<a id='equation-eq-tech-capital'></a>\n",
    "$$\n",
    "g_t + c_t + x_t \\leq F(k_t, n_t), \\tag{49.1}\n",
    "$$\n",
    "\n",
    "where\n",
    "\n",
    "- $ g_t $ is government purchases of the time $ t $ good  \n",
    "- $ x_t $ is gross investment, and  \n",
    "- $ F(k_t, n_t) $ is a linearly homogeneous production function with positive and decreasing marginal products of capital $ k_t $ and labor $ n_t $.  \n",
    "\n",
    "\n",
    "Physical capital evolves according to\n",
    "\n",
    "$$\n",
    "k_{t+1} = (1 - \\delta)k_t + x_t,\n",
    "$$\n",
    "\n",
    "where $ \\delta \\in (0, 1) $ is a depreciation rate.\n",
    "\n",
    "It is sometimes convenient to eliminate $ x_t $ from [(49.1)](#equation-eq-tech-capital) and to represent it as\n",
    "as\n",
    "\n",
    "$$\n",
    "g_t + c_t + k_{t+1} \\leq F(k_t, n_t) + (1 - \\delta)k_t.\n",
    "$$"
   ]
  },
  {
   "cell_type": "markdown",
   "id": "f91b968b",
   "metadata": {},
   "source": [
    "### Components of a competitive equilibrium\n",
    "\n",
    "All trades occurring at time $ 0 $.\n",
    "\n",
    "The representative  household owns capital, makes investment decisions, and rents capital and labor to a representative production firm.\n",
    "\n",
    "The representative firm uses capital and labor to produce goods with the production function $ F(k_t, n_t) $.\n",
    "\n",
    "A **price system** is a triple of sequences $ \\{q_t, \\eta_t, w_t\\}_{t=0}^\\infty $, where\n",
    "\n",
    "- $ q_t $ is the time $ 0 $ pretax price of one unit of investment or consumption at time $ t $ ($ x_t $ or $ c_t $),  \n",
    "- $ \\eta_t $ is the pretax price at time $ t $ that the household receives from the firm for renting capital at time $ t $, and  \n",
    "- $ w_t $ is the pretax price at time $ t $ that the household receives for renting labor to the firm at time $ t $.  \n",
    "\n",
    "\n",
    "The prices $ w_t $ and $ \\eta_t $ are expressed in terms of time $ t $ goods, while $ q_t $ is expressed in terms of a numeraire at time $ 0 $, as in [Cass-Koopmans Competitive Equilibrium](https://python.quantecon.org/cass_koopmans_2.html).\n",
    "\n",
    "The presence of a government  distinguishes this lecture from\n",
    "[Cass-Koopmans Competitive Equilibrium](https://python.quantecon.org/cass_koopmans_2.html).\n",
    "\n",
    "Government purchases of goods at time $ t $ are $ g_t \\geq 0 $.\n",
    "\n",
    "A government expenditure plan is a sequence $ g = \\{g_t\\}_{t=0}^\\infty $.\n",
    "\n",
    "A government tax plan is a $ 4 $-tuple of sequences $ \\{\\tau_{ct}, \\tau_{kt}, \\tau_{nt}, \\tau_{ht}\\}_{t=0}^\\infty $,\n",
    "where\n",
    "\n",
    "- $ \\tau_{ct} $ is a tax rate on consumption at time $ t $,  \n",
    "- $ \\tau_{kt} $ is a tax rate on rentals of capital at time $ t $,  \n",
    "- $ \\tau_{nt} $ is a tax rate on wage earnings at time $ t $, and  \n",
    "- $ \\tau_{ht} $ is a lump sum tax on a consumer at time $ t $.  \n",
    "\n",
    "\n",
    "Because  lump-sum taxes $ \\tau_{ht} $ are available, the government actually should not\n",
    "use any distorting taxes.\n",
    "\n",
    "Nevertheless, we include all of these taxes because, like [[Hall, 1971](https://python.quantecon.org/zreferences.html#id265)],\n",
    "they allow us to analyze how various taxes distort production and consumption decisions.\n",
    "\n",
    "In the [experiment section](#cf-experiments), we shall see how variations in government tax plan affect\n",
    "the transition path and equilibrium."
   ]
  },
  {
   "cell_type": "markdown",
   "id": "442e53f1",
   "metadata": {},
   "source": [
    "### Representative Household\n",
    "\n",
    "A representative household has preferences over nonnegative streams of a single consumption good $ c_t $ and leisure $ 1-n_t $ that are ordered by:\n",
    "\n",
    "\n",
    "<a id='equation-eq-utility'></a>\n",
    "$$\n",
    "\\sum_{t=0}^{\\infty} \\beta^t U(c_t, 1-n_t), \\quad \\beta \\in (0, 1), \\tag{49.2}\n",
    "$$\n",
    "\n",
    "where\n",
    "\n",
    "- $ U $ is strictly increasing in $ c_t $, twice continuously differentiable, and strictly concave with $ c_t \\geq 0 $ and $ n_t \\in [0, 1] $.  \n",
    "\n",
    "\n",
    "The representative hßousehold maximizes [(49.2)](#equation-eq-utility) subject to  the single budget constraint:\n",
    "\n",
    "\n",
    "<a id='equation-eq-house-budget'></a>\n",
    "$$\n",
    "\\begin{aligned}\n",
    "    \\sum_{t=0}^\\infty& q_t \\left\\{ (1 + \\tau_{ct})c_t + \\underbrace{[k_{t+1} - (1 - \\delta)k_t]}_{\\text{no tax when investing}} \\right\\} \\\\\n",
    "    &\\leq \\sum_{t=0}^\\infty q_t \\left\\{ \\eta_t k_t - \\underbrace{\\tau_{kt}(\\eta_t - \\delta)k_t}_{\\text{tax on rental return}} + (1 - \\tau_{nt})w_t n_t - \\tau_{ht} \\right\\}.\n",
    "\\end{aligned} \\tag{49.3}\n",
    "$$\n",
    "\n",
    "Here we have assumed that the government gives a depreciation allowance $ \\delta k_t $\n",
    "from the gross rentals on capital $ \\eta_t k_t $ and so collects taxes $ \\tau_{kt} (\\eta_t - \\delta) k_t $\n",
    "on rentals from capital."
   ]
  },
  {
   "cell_type": "markdown",
   "id": "8a0aeba3",
   "metadata": {},
   "source": [
    "### Government\n",
    "\n",
    "Government plans $ \\{ g_t \\}_{t=0}^\\infty $ for government purchases and taxes $ \\{\\tau_{ct}, \\tau_{kt}, \\tau_{nt}, \\tau_{ht}\\}_{t=0}^\\infty $ must respect the budget constraint\n",
    "\n",
    "\n",
    "<a id='equation-eq-gov-budget'></a>\n",
    "$$\n",
    "\\sum_{t=0}^\\infty q_t g_t \\leq \\sum_{t=0}^\\infty q_t \\left\\{ \\tau_{ct}c_t + \\tau_{kt}(\\eta_t - \\delta)k_t + \\tau_{nt}w_t n_t + \\tau_{ht} \\right\\}. \\tag{49.4}\n",
    "$$\n",
    "\n",
    "Given a budget-feasible government policy $ \\{g_t\\}_{t=0}^\\infty $ and $ \\{\\tau_{ct}, \\tau_{kt}, \\tau_{nt}, \\tau_{ht}\\}_{t=0}^\\infty $ subject to [(49.4)](#equation-eq-gov-budget),\n",
    "\n",
    "- *Household* chooses $ \\{c_t\\}_{t=0}^\\infty $, $ \\{n_t\\}_{t=0}^\\infty $, and $ \\{k_{t+1}\\}_{t=0}^\\infty $ to maximize utility[(49.2)](#equation-eq-utility) subject to budget constraint[(49.3)](#equation-eq-house-budget), and  \n",
    "- *Frim* chooses sequences of capital $ \\{k_t\\}_{t=0}^\\infty $ and $ \\{n_t\\}_{t=0}^\\infty $ to maximize profits  \n",
    "  $$\n",
    "  \\sum_{t=0}^\\infty q_t [F(k_t, n_t) - \\eta_t k_t - w_t n_t] \\tag{49.5}\n",
    "  $$\n",
    "- A **feasible allocation** is a sequence $ \\{c_t, x_t, n_t, k_t\\}_{t=0}^\\infty $ that satisfies feasibility condition [(49.1)](#equation-eq-tech-capital).  "
   ]
  },
  {
   "cell_type": "markdown",
   "id": "cb8ce57a",
   "metadata": {},
   "source": [
    "## Equilibrium"
   ]
  },
  {
   "cell_type": "markdown",
   "id": "a7c3bb5f",
   "metadata": {},
   "source": [
    "## \n",
    "\n",
    "A **competitive equilibrium with distorting taxes** is a **budget-feasible government policy**,\n",
    "**a feasible allocation**, and **a price system** for which, given the price system and the government\n",
    "policy, the allocation solves the household’s problem and the firm’s problem."
   ]
  },
  {
   "cell_type": "markdown",
   "id": "c0c2fdde",
   "metadata": {},
   "source": [
    "## No-arbitrage Condition\n",
    "\n",
    "A no-arbitrage argument implies a restriction on prices and tax rates across time.\n",
    "\n",
    "By rearranging [(49.3)](#equation-eq-house-budget) and group $ k_t $ at the same $ t $, we can get\n",
    "\n",
    "\n",
    "<a id='equation-eq-constrant-house'></a>\n",
    "$$\n",
    "\\begin{aligned}\n",
    "    \\sum_{t=0}^\\infty q_t \\left[(1 + \\tau_{ct})c_t \\right] &\\leq \\sum_{t=0}^\\infty q_t(1 - \\tau_{nt})w_t n_t - \\sum_{t=0}^\\infty q_t \\tau_{ht} \\\\\n",
    "    &+ \\sum_{t=1}^\\infty\\left\\{ \\left[(1 - \\tau_{kt})(\\eta_t - \\delta) + 1\\right]q_t - q_{t-1}\\right\\}k_t \\\\\n",
    "    &+ \\left[(1 - \\tau_{k0})(\\eta_0 - \\delta) + 1\\right]q_0k_0 - \\lim_{T \\to \\infty} q_T k_{T+1}\n",
    "    \\end{aligned} \\tag{49.6}\n",
    "$$\n",
    "\n",
    "The household inherits a given $ k_0 $ that it takes as initial condition and is free to choose $ \\{ c_t, n_t, k_{t+1} \\}_{t=0}^\\infty $.\n",
    "\n",
    "The household’s budget constraint [(49.3)](#equation-eq-house-budget) must be bounded in equilibrium due to finite resources.\n",
    "\n",
    "This imposes a restriction on price and tax sequences.\n",
    "\n",
    "Specifically, for  $ t \\geq 1 $, the terms multiplying $ k_t $ must equal zero.\n",
    "\n",
    "If they were strictly positive (negative), the household could arbitrarily increase (decrease) the right-hand side of [(49.3)](#equation-eq-house-budget) by selecting an arbitrarily large positive (negative) $ k_t $, leading to unbounded profit or arbitrage opportunities:\n",
    "\n",
    "- For strictly positive terms, the household could purchase large capital stocks $ k_t $ and profit from their rental services and undepreciated value.  \n",
    "- For strictly negative terms, the household could engage in “short selling” synthetic units of capital. Both cases would make [(49.3)](#equation-eq-house-budget) unbounded.  \n",
    "\n",
    "\n",
    "Hence, by setting the terms multiplying $ k_t $ to $ 0 $ we have the non-arbitrage condition:\n",
    "\n",
    "\n",
    "<a id='equation-eq-no-arb'></a>\n",
    "$$\n",
    "\\frac{q_t}{q_{t+1}} = \\left[(1 - \\tau_{kt+1})(\\eta_{t+1} - \\delta) + 1\\right]. \\tag{49.7}\n",
    "$$\n",
    "\n",
    "Moreover, we have terminal condition:\n",
    "\n",
    "\n",
    "<a id='equation-eq-terminal'></a>\n",
    "$$\n",
    "-\\lim_{T \\to \\infty} q_T k_{T+1} = 0. \\tag{49.8}\n",
    "$$\n",
    "\n",
    "Zero-profit conditions for the representative firm impose additional restrictions on equilibrium prices and quantities.\n",
    "\n",
    "The present value of the firm’s profits is\n",
    "\n",
    "$$\n",
    "\\sum_{t=0}^\\infty q_t \\left[ F(k_t, n_t) - w_t n_t - \\eta_t k_t \\right].\n",
    "$$\n",
    "\n",
    "Applying Euler’s theorem on linearly homogeneous functions to $ F(k, n) $, the firm’s present value is:\n",
    "\n",
    "$$\n",
    "\\sum_{t=0}^\\infty q_t \\left[ (F_{kt} - \\eta_t)k_t + (F_{nt} - w_t)n_t \\right].\n",
    "$$\n",
    "\n",
    "No-arbitrage (or zero-profit) conditions are:\n",
    "\n",
    "\n",
    "<a id='equation-eq-no-arb-firms'></a>\n",
    "$$\n",
    "\\eta_t = F_{kt}, \\quad w_t = F_{nt}. \\tag{49.9}\n",
    "$$"
   ]
  },
  {
   "cell_type": "markdown",
   "id": "4d019a47",
   "metadata": {},
   "source": [
    "## Household’s First Order Condition\n",
    "\n",
    "Household maximize [(49.2)](#equation-eq-utility) under [(49.3)](#equation-eq-house-budget).\n",
    "\n",
    "Let $ U_1 = \\frac{\\partial U}{\\partial c}, U_2 = \\frac{\\partial U}{\\partial (1-n)} = -\\frac{\\partial U}{\\partial n}. $, we can derive FOC from the Lagrangian\n",
    "\n",
    "$$\n",
    "\\mathcal{L} = \\sum_{t=0}^\\infty \\beta^t U(c_t, 1 - n_t) + \\mu \\left( \\sum_{t=0}^\\infty q_t \\left[(1 + \\tau_{ct})c_t - (1 - \\tau_{nt})w_t n_t + \\ldots \\right] \\right),\n",
    "$$\n",
    "\n",
    "First-order necessary conditions for the representative household’s problem are\n",
    "\n",
    "\n",
    "<a id='equation-eq-foc-c-1'></a>\n",
    "$$\n",
    "\\frac{\\partial \\mathcal{L}}{\\partial c_t} = \\beta^t U_{1}(c_t, 1 - n_t) - \\mu q_t (1 + \\tau_{ct}) = 0 \\tag{49.10}\n",
    "$$\n",
    "\n",
    "and\n",
    "\n",
    "\n",
    "<a id='equation-eq-foc-n-1'></a>\n",
    "$$\n",
    "\\frac{\\partial \\mathcal{L}}{\\partial n_t} = \\beta^t \\left(-U_{2t}(c_t, 1 - n_t)\\right) - \\mu q_t (1 - \\tau_{nt}) w_t = 0 \\tag{49.11}\n",
    "$$\n",
    "\n",
    "Rearranging [(49.10)](#equation-eq-foc-c-1) and [(49.11)](#equation-eq-foc-n-1), we have\n",
    "\n",
    "\n",
    "<a id='equation-eq-foc-c'></a>\n",
    "$$\n",
    "\\begin{aligned}\n",
    "\\beta^t U_1(c_t, 1 - n_t)  = \\beta^t U_{1t} = \\mu q_t (1 + \\tau_{ct}),\n",
    "\\end{aligned} \\tag{49.12}\n",
    "$$\n",
    "\n",
    "\n",
    "<a id='equation-eq-foc-n'></a>\n",
    "$$\n",
    "\\begin{aligned}\n",
    "\\beta^t U_2(c_t, 1 - n_t) = \\beta^t U_{2t} = \\mu q_t (1 - \\tau_{nt}) w_t.\n",
    "\\end{aligned} \\tag{49.13}\n",
    "$$\n",
    "\n",
    "Plugging [(49.12)](#equation-eq-foc-c) into [(49.8)](#equation-eq-terminal) and replacing $ q_t $, we get terminal condition\n",
    "\n",
    "\n",
    "<a id='equation-eq-terminal-final'></a>\n",
    "$$\n",
    "-\\lim_{T \\to \\infty} \\beta^T \\frac{U_{1T}}{(1 + \\tau_{cT})} k_{T+1} = 0. \\tag{49.14}\n",
    "$$"
   ]
  },
  {
   "cell_type": "markdown",
   "id": "3fa3631c",
   "metadata": {},
   "source": [
    "## Computing Equilibria\n",
    "\n",
    "To compute an equilibrium,  we seek a  price system $ \\{q_t, \\eta_t, w_t\\} $, a budget feasible government policy $ \\{g_t, \\tau_t\\} \\equiv \\{g_t, \\tau_{ct}, \\tau_{nt}, \\tau_{kt}, \\tau_{ht}\\} $, and an allocation $ \\{c_t, n_t, k_{t+1}\\} $ that solve a system of nonlinear difference equations consisting of\n",
    "\n",
    "- feasibility condition [(49.1)](#equation-eq-tech-capital), no-arbitrage condition for household [(49.7)](#equation-eq-no-arb) and firms [(49.9)](#equation-eq-no-arb-firms), household’s first order conditions [(49.12)](#equation-eq-foc-c) and [(49.13)](#equation-eq-foc-n).  \n",
    "- an initial condition $ k_0 $ and a terminal condition [(49.14)](#equation-eq-terminal-final).  \n",
    "\n",
    "\n",
    "\n",
    "<a id='cass-fiscal-shooting'></a>"
   ]
  },
  {
   "cell_type": "markdown",
   "id": "c36dc5f5",
   "metadata": {},
   "source": [
    "## Python Code\n",
    "\n",
    "We require the following imports"
   ]
  },
  {
   "cell_type": "code",
   "execution_count": null,
   "id": "42231f84",
   "metadata": {
    "hide-output": false
   },
   "outputs": [],
   "source": [
    "import numpy as np\n",
    "from scipy.optimize import root\n",
    "import matplotlib.pyplot as plt\n",
    "from collections import namedtuple\n",
    "from mpmath import mp, mpf\n",
    "from warnings import warn\n",
    "\n",
    "# Set the precision\n",
    "mp.dps = 40\n",
    "mp.pretty = True"
   ]
  },
  {
   "cell_type": "markdown",
   "id": "ee805011",
   "metadata": {},
   "source": [
    "We  use the `mpmath` library to perform high-precision arithmetic in the shooting algorithm in cases where the solution diverges due to numerical instability.\n",
    "\n",
    ">**Note**\n",
    ">\n",
    ">In the functions below, we include routines to handle the growth component, which will be discussed further in the section [Exogenous growth](#growth-model).\n",
    "\n",
    "We include them here to avoid code duplication.\n",
    "\n",
    "We set the following parameters"
   ]
  },
  {
   "cell_type": "code",
   "execution_count": null,
   "id": "7dd11501",
   "metadata": {
    "hide-output": false
   },
   "outputs": [],
   "source": [
    "# Create a namedtuple to store the model parameters\n",
    "Model = namedtuple(\"Model\", \n",
    "            [\"β\", \"γ\", \"δ\", \"α\", \"A\"])\n",
    "\n",
    "def create_model(β=0.95, # discount factor\n",
    "                 γ=2.0,  # relative risk aversion coefficient\n",
    "                 δ=0.2,  # depreciation rate\n",
    "                 α=0.33, # capital share\n",
    "                 A=1.0   # TFP\n",
    "                 ):\n",
    "    \"\"\"Create a model instance.\"\"\"\n",
    "    return Model(β=β, γ=γ, δ=δ, α=α, A=A)\n",
    "\n",
    "model = create_model()\n",
    "\n",
    "# Total number of periods\n",
    "S = 100"
   ]
  },
  {
   "cell_type": "markdown",
   "id": "e9b8c39a",
   "metadata": {},
   "source": [
    "### Inelastic Labor Supply\n",
    "\n",
    "In this lecture, we consider the special case where $ U(c, 1-n) = u(c) $ and $ f(k) := F(k, 1) $.\n",
    "\n",
    "We rewrite [(49.1)](#equation-eq-tech-capital) with $ f(k) := F(k, 1) $,\n",
    "\n",
    "\n",
    "<a id='equation-eq-feasi-capital'></a>\n",
    "$$\n",
    "k_{t+1} = f(k_t) + (1 - \\delta) k_t - g_t - c_t. \\tag{49.15}\n",
    "$$"
   ]
  },
  {
   "cell_type": "code",
   "execution_count": null,
   "id": "e4a9dca9",
   "metadata": {
    "hide-output": false
   },
   "outputs": [],
   "source": [
    "def next_k(k_t, g_t, c_t, model, μ_t=1):\n",
    "    \"\"\"\n",
    "    Capital next period: k_{t+1} = f(k_t) + (1 - δ) * k_t - c_t - g_t\n",
    "    with optional growth adjustment: k_{t+1} = (f(k_t) + (1 - δ) * k_t - c_t - g_t) / μ_{t+1}\n",
    "    \"\"\"\n",
    "    return (f(k_t, model) + (1 - model.δ) * k_t - g_t - c_t) / μ_t"
   ]
  },
  {
   "cell_type": "markdown",
   "id": "22c13332",
   "metadata": {},
   "source": [
    "By the properties of a linearly homogeneous production function, we have $ F_k(k, n) = f'(k) $ and $ F_n(k, 1) = f(k, 1) - f'(k)k $.\n",
    "\n",
    "Substituting [(49.12)](#equation-eq-foc-c), [(49.9)](#equation-eq-no-arb-firms), and [(49.15)](#equation-eq-feasi-capital) into [(49.7)](#equation-eq-no-arb), we obtain the Euler equation\n",
    "\n",
    "\n",
    "<a id='equation-eq-euler-house'></a>\n",
    "$$\n",
    "\\begin{aligned}\n",
    "&\\frac{u'(f(k_t) + (1 - \\delta) k_t - g_t - k_{t+1})}{(1 + \\tau_{ct})} \\\\\n",
    "&- \\beta \\frac{u'(f(k_{t+1}) + (1 - \\delta) k_{t+1} - g_{t+1} - k_{t+2})}{(1 + \\tau_{ct+1})} \\\\\n",
    "&\\times [(1 - \\tau_{kt+1})(f'(k_{t+1}) - \\delta) + 1] = 0.\n",
    "\\end{aligned} \\tag{49.16}\n",
    "$$\n",
    "\n",
    "This can be simplified to:\n",
    "\n",
    "\n",
    "<a id='equation-eq-diff-second'></a>\n",
    "$$\n",
    "\\begin{aligned}\n",
    "u'(c_t) = \\beta u'(c_{t+1}) \\frac{(1 + \\tau_{ct})}{(1 + \\tau_{ct+1})} [(1 - \\tau_{kt+1})(f'(k_{t+1}) - \\delta) + 1].\n",
    "\\end{aligned} \\tag{49.17}\n",
    "$$\n",
    "\n",
    "Equation [(49.17)](#equation-eq-diff-second) will appear prominently in our equilibrium computation algorithms."
   ]
  },
  {
   "cell_type": "markdown",
   "id": "7916b818",
   "metadata": {},
   "source": [
    "### Steady state\n",
    "\n",
    "Tax rates and government expenditures act as **forcing functions** for  difference equations [(49.15)](#equation-eq-feasi-capital) and [(49.17)](#equation-eq-diff-second).\n",
    "\n",
    "Define $ z_t = [g_t, \\tau_{kt}, \\tau_{ct}]' $.\n",
    "\n",
    "Represent  the second-order difference equation as:\n",
    "\n",
    "\n",
    "<a id='equation-eq-second-ord-diff'></a>\n",
    "$$\n",
    "H(k_t, k_{t+1}, k_{t+2}; z_t, z_{t+1}) = 0. \\tag{49.18}\n",
    "$$\n",
    "\n",
    "We assume that a government policy reaches a steady state such that $ \\lim_{t \\to \\infty} z_t = \\bar z $ and that the steady state prevails for $ t > T $.\n",
    "\n",
    "The terminal steady-state capital stock $ \\bar{k} $ satisfies:\n",
    "\n",
    "$$\n",
    "H(\\bar{k}, \\bar{k}, \\bar{k}, \\bar{z}, \\bar{z}) = 0.\n",
    "$$\n",
    "\n",
    "From  difference equation [(49.17)](#equation-eq-diff-second), we can infer a restriction on  the steady-state:\n",
    "\n",
    "\n",
    "<a id='equation-eq-diff-second-steady'></a>\n",
    "$$\n",
    "\\begin{aligned}\n",
    "u'(\\bar{c}) &= \\beta u'(\\bar{c}) \\frac{(1 + \\bar{\\tau}_{c})}{(1 + \\bar{\\tau}_{c})} [(1 - \\bar{\\tau}_{k})(f'(\\bar{k}) - \\delta) + 1]. \\\\\n",
    "&\\implies 1 = \\beta[(1 - \\bar{\\tau}_{k})(f'(\\bar{k}) - \\delta) + 1].\n",
    "\\end{aligned} \\tag{49.19}\n",
    "$$"
   ]
  },
  {
   "cell_type": "markdown",
   "id": "388d0bd3",
   "metadata": {},
   "source": [
    "### Other equilibrium quantities and prices\n",
    "\n",
    "*Price:*\n",
    "\n",
    "\n",
    "<a id='equation-eq-equil-q'></a>\n",
    "$$\n",
    "q_t = \\frac{\\beta^t u'(c_t)}{u'(c_0)} \\tag{49.20}\n",
    "$$"
   ]
  },
  {
   "cell_type": "code",
   "execution_count": null,
   "id": "9614f850",
   "metadata": {
    "hide-output": false
   },
   "outputs": [],
   "source": [
    "def compute_q_path(c_path, model, S=100, A_path=None):\n",
    "    \"\"\"\n",
    "    Compute q path: q_t = (β^t * u'(c_t)) / u'(c_0)\n",
    "    with optional A_path for growth models.\n",
    "    \"\"\"\n",
    "    A = np.ones_like(c_path) if A_path is None else np.asarray(A_path)\n",
    "    q_path = np.zeros_like(c_path)\n",
    "    for t in range(S):\n",
    "        q_path[t] = (model.β ** t * \n",
    "                         u_prime(c_path[t], model, A[t])) / u_prime(c_path[0], model, A[0])\n",
    "    return q_path"
   ]
  },
  {
   "cell_type": "markdown",
   "id": "ff1244f6",
   "metadata": {},
   "source": [
    "*Capital rental rate*\n",
    "\n",
    "$$\n",
    "\\eta_t = f'(k_t)\n",
    "$$"
   ]
  },
  {
   "cell_type": "code",
   "execution_count": null,
   "id": "9211f13d",
   "metadata": {
    "hide-output": false
   },
   "outputs": [],
   "source": [
    "def compute_η_path(k_path, model, S=100, A_path=None):\n",
    "    \"\"\"\n",
    "    Compute η path: η_t = f'(k_t)\n",
    "    with optional A_path for growth models.\n",
    "    \"\"\"\n",
    "    A = np.ones_like(k_path) if A_path is None else np.asarray(A_path)\n",
    "    η_path = np.zeros_like(k_path)\n",
    "    for t in range(S):\n",
    "        η_path[t] = f_prime(k_path[t], model, A[t])\n",
    "    return η_path"
   ]
  },
  {
   "cell_type": "markdown",
   "id": "a0e94582",
   "metadata": {},
   "source": [
    "*Labor rental rate:*\n",
    "\n",
    "$$\n",
    "w_t = f(k_t) - k_t f'(k_t)\n",
    "$$"
   ]
  },
  {
   "cell_type": "code",
   "execution_count": null,
   "id": "da669a09",
   "metadata": {
    "hide-output": false
   },
   "outputs": [],
   "source": [
    "def compute_w_path(k_path, η_path, model, S=100, A_path=None):\n",
    "    \"\"\"\n",
    "    Compute w path: w_t = f(k_t) - k_t * f'(k_t)\n",
    "    with optional A_path for growth models.\n",
    "    \"\"\"\n",
    "    A = np.ones_like(k_path) if A_path is None else np.asarray(A_path)\n",
    "    w_path = np.zeros_like(k_path)\n",
    "    for t in range(S):\n",
    "        w_path[t] = f(k_path[t], model, A[t]) - k_path[t] * η_path[t]\n",
    "    return w_path"
   ]
  },
  {
   "cell_type": "markdown",
   "id": "fe3581b4",
   "metadata": {},
   "source": [
    "*Gross one-period return on capital:*\n",
    "\n",
    "\n",
    "<a id='equation-eq-gross-rate'></a>\n",
    "$$\n",
    "\\bar{R}_{t+1} = \\frac{(1 + \\tau_{ct})}{(1 + \\tau_{ct+1})} \\left[(1 - \\tau_{kt+1})(f'(k_{t+1}) - \\delta) + 1\\right] =  \\frac{(1 + \\tau_{ct})}{(1 + \\tau_{ct+1})} R_{t, t+1} \\tag{49.21}\n",
    "$$"
   ]
  },
  {
   "cell_type": "code",
   "execution_count": null,
   "id": "ed729479",
   "metadata": {
    "hide-output": false
   },
   "outputs": [],
   "source": [
    "def compute_R_bar(τ_ct, τ_ctp1, τ_ktp1, k_tp1, model):\n",
    "    \"\"\"\n",
    "    Gross one-period return on capital:\n",
    "    R_bar = [(1 + τ_c_t) / (1 + τ_c_{t+1})] \n",
    "        * { [1 - τ_k_{t+1}] * [f'(k_{t+1}) - δ] + 1 }\n",
    "    \"\"\"\n",
    "    return ((1 + τ_ct) / (1 + τ_ctp1)) * (\n",
    "        (1 - τ_ktp1) * (f_prime(k_tp1, model) - model.δ) + 1)"
   ]
  },
  {
   "cell_type": "code",
   "execution_count": null,
   "id": "d2ef6647",
   "metadata": {
    "hide-output": false
   },
   "outputs": [],
   "source": [
    "def compute_R_bar_path(shocks, k_path, model, S=100):\n",
    "    \"\"\"\n",
    "    Compute R_bar path over time.\n",
    "    \"\"\"\n",
    "    R_bar_path = np.zeros(S + 1)\n",
    "    for t in range(S):\n",
    "        R_bar_path[t] = compute_R_bar(\n",
    "            shocks['τ_c'][t], shocks['τ_c'][t + 1], shocks['τ_k'][t + 1],\n",
    "            k_path[t + 1], model)\n",
    "    R_bar_path[S] = R_bar_path[S - 1]\n",
    "    return R_bar_path"
   ]
  },
  {
   "cell_type": "markdown",
   "id": "7fc0ae4a",
   "metadata": {},
   "source": [
    "*One-period discount factor:*\n",
    "\n",
    "\n",
    "<a id='equation-eq-equil-bigr'></a>\n",
    "$$\n",
    "R^{-1}_{t, t+1} = \\frac{q_{t+1}}{q_{t}} = m_{t, t+1} = \\beta \\frac{u'(c_{t+1})}{u'(c_t)} \\frac{(1 + \\tau_{ct})}{(1 + \\tau_{ct+1})} \\tag{49.22}\n",
    "$$\n",
    "\n",
    "*Net one-period rate of interest:*\n",
    "\n",
    "\n",
    "<a id='equation-eq-equil-r'></a>\n",
    "$$\n",
    "r_{t, t+1} \\equiv R_{t, t+1} - 1 = (1 - \\tau_{k, t+1})(f'(k_{t+1}) - \\delta) \\tag{49.23}\n",
    "$$\n",
    "\n",
    "By [(49.22)](#equation-eq-equil-bigr) and $ r_{t, t+1} = - \\ln(\\frac{q_{t+1}}{q_t}) $, we have\n",
    "\n",
    "$$\n",
    "R_{t, t+s} = e^{s \\cdot r_{t, t+s}}.\n",
    "$$\n",
    "\n",
    "Then by [(49.23)](#equation-eq-equil-r), we have\n",
    "\n",
    "$$\n",
    "\\frac{q_{t+s}}{q_t} = e^{-s \\cdot r_{t, t+s}}.\n",
    "$$\n",
    "\n",
    "Rearranging the above equation, we have\n",
    "\n",
    "$$\n",
    "r_{t, t+s} = -\\frac{1}{s} \\ln\\left(\\frac{q_{t+s}}{q_t}\\right).\n",
    "$$"
   ]
  },
  {
   "cell_type": "code",
   "execution_count": null,
   "id": "d2074946",
   "metadata": {
    "hide-output": false
   },
   "outputs": [],
   "source": [
    "def compute_rts_path(q_path, S, t):\n",
    "    \"\"\"\n",
    "    Compute r path:\n",
    "    r_t,t+s = - (1/s) * ln(q_{t+s} / q_t)\n",
    "    \"\"\"\n",
    "    s = np.arange(1, S + 1) \n",
    "    q_path = np.array([float(q) for q in q_path]) \n",
    "    \n",
    "    with np.errstate(divide='ignore', invalid='ignore'):\n",
    "        rts_path = - np.log(q_path[t + s] / q_path[t]) / s\n",
    "    return rts_path"
   ]
  },
  {
   "cell_type": "markdown",
   "id": "c8108f87",
   "metadata": {},
   "source": [
    "## Some functional forms\n",
    "\n",
    "We assume that  the representative household’ period utility has  the following CRRA (constant relative risk aversion) form\n",
    "\n",
    "$$\n",
    "u(c) = \\frac{c^{1 - \\gamma}}{1 - \\gamma}\n",
    "$$"
   ]
  },
  {
   "cell_type": "code",
   "execution_count": null,
   "id": "7d1b2f80",
   "metadata": {
    "hide-output": false
   },
   "outputs": [],
   "source": [
    "def u_prime(c, model, A_t=1):\n",
    "    \"\"\"\n",
    "    Marginal utility: u'(c) = c^{-γ}\n",
    "    with optional technology adjustment: u'(cA) = (cA)^{-γ}\n",
    "    \"\"\"\n",
    "    return (c * A_t) ** (-model.γ)"
   ]
  },
  {
   "cell_type": "markdown",
   "id": "02d5d8c0",
   "metadata": {},
   "source": [
    "By substituting [(49.21)](#equation-eq-gross-rate) into [(49.17)](#equation-eq-diff-second), we obtain\n",
    "\n",
    "\n",
    "<a id='equation-eq-consume-r'></a>\n",
    "$$\n",
    "c_{t+1} = c_t \\left[ \\beta \\frac{(1 + \\tau_{ct})}{(1 + \\tau_{ct+1})} \\left[(1 - \\tau_{k, t+1})(f'(k_{t+1}) - \\delta) + 1 \\right] \\right]^{\\frac{1}{\\gamma}} = c_t \\left[ \\beta \\overline{R}_{t+1} \\right]^{\\frac{1}{\\gamma}} \\tag{49.24}\n",
    "$$"
   ]
  },
  {
   "cell_type": "code",
   "execution_count": null,
   "id": "7d66a5c3",
   "metadata": {
    "hide-output": false
   },
   "outputs": [],
   "source": [
    "def next_c(c_t, R_bar, model, μ_t=1):\n",
    "    \"\"\"\n",
    "    Consumption next period: c_{t+1} = c_t * (β * R̄)^{1/γ}\n",
    "    with optional growth adjustment: c_{t+1} = c_t * (β * R_bar)^{1/γ} * μ_{t+1}^{-1}\n",
    "    \"\"\"\n",
    "    return c_t * (model.β * R_bar) ** (1 / model.γ) / μ_t"
   ]
  },
  {
   "cell_type": "markdown",
   "id": "b6d5abfb",
   "metadata": {},
   "source": [
    "For the production function we assume a Cobb-Douglas form:\n",
    "\n",
    "$$\n",
    "F(k, 1) = A k^\\alpha\n",
    "$$"
   ]
  },
  {
   "cell_type": "code",
   "execution_count": null,
   "id": "c469c283",
   "metadata": {
    "hide-output": false
   },
   "outputs": [],
   "source": [
    "def f(k, model, A=1): \n",
    "    \"\"\"\n",
    "    Production function: f(k) = A * k^{α}\n",
    "    \"\"\"\n",
    "    return A * k ** model.α\n",
    "\n",
    "def f_prime(k, model, A=1):\n",
    "    \"\"\"\n",
    "    Marginal product of capital: f'(k) = α * A * k^{α - 1}\n",
    "    \"\"\"\n",
    "    return model.α * A * k ** (model.α - 1)"
   ]
  },
  {
   "cell_type": "markdown",
   "id": "3e912d74",
   "metadata": {},
   "source": [
    "## Computation\n",
    "\n",
    "We describe  two ways to compute an equilibrium:\n",
    "\n",
    "- a shooting algorithm  \n",
    "- a residual-minimization method that focuses on imposing  Euler equation [(49.17)](#equation-eq-diff-second) and the  feasibility condition [(49.15)](#equation-eq-feasi-capital).  "
   ]
  },
  {
   "cell_type": "markdown",
   "id": "8917ac20",
   "metadata": {},
   "source": [
    "### Shooting Algorithm\n",
    "\n",
    "This algorithm deploys the following steps.\n",
    "\n",
    "1. Solve the equation [(49.19)](#equation-eq-diff-second-steady) for the terminal steady-state capital $ \\bar{k} $ that corresponds to the permanent policy vector $ \\bar{z} $.  \n",
    "1. Select a large time index $ S \\gg T $, guess an initial consumption rate $ c_0 $, and use the equation [(49.15)](#equation-eq-feasi-capital) to solve for $ k_1 $.  \n",
    "1. Use the equation [(49.24)](#equation-eq-consume-r) to determine $ c_{t+1} $. Then, apply the equation [(49.15)](#equation-eq-feasi-capital) to compute $ k_{t+2} $.  \n",
    "1. Iterate step 3 to compute candidate values $ \\hat{k}_t $ for $ t = 1, \\dots, S $.  \n",
    "1. Compute the difference $ \\hat{k}_S - \\bar{k} $. If $ \\left| \\hat{k}_S - \\bar{k} \\right| > \\epsilon $ for some small $ \\epsilon $, adjust $ c_0 $ and repeat steps 2-5.  \n",
    "1. Adjust $ c_0 $ iteratively using the bisection method to find a value that ensures $ \\left| \\hat{k}_S - \\bar{k} \\right| < \\epsilon $.  \n",
    "\n",
    "\n",
    "The following code implements these steps."
   ]
  },
  {
   "cell_type": "code",
   "execution_count": null,
   "id": "1b2c0389",
   "metadata": {
    "hide-output": false
   },
   "outputs": [],
   "source": [
    "# Steady-state calculation\n",
    "def steady_states(model, g_ss, τ_k_ss=0.0, μ_ss=None):\n",
    "    \"\"\"\n",
    "    Calculate steady state values for capital and \n",
    "    consumption with optional A_path for growth models.\n",
    "    \"\"\"\n",
    "\n",
    "    β, δ, α, γ = model.β, model.δ, model.α, model.γ\n",
    "\n",
    "    A = model.A or 1.0\n",
    "\n",
    "    # growth‐adjustment in the numerator: μ^γ or 1\n",
    "    μ_eff = μ_ss**γ if μ_ss is not None else 1.0\n",
    "\n",
    "    num = δ + (μ_eff/β - 1) / (1 - τ_k_ss)\n",
    "    k_ss = (num / (α * A)) ** (1 / (α - 1))\n",
    "\n",
    "    c_ss = (\n",
    "        A * k_ss**α - δ * k_ss - g_ss\n",
    "        if μ_ss is None\n",
    "        else k_ss**α + (1 - δ - μ_ss) * k_ss - g_ss\n",
    "    )\n",
    "\n",
    "    return k_ss, c_ss\n",
    "\n",
    "def shooting_algorithm(\n",
    "    c0, k0, shocks, S, model, A_path=None):\n",
    "    \"\"\"\n",
    "    Shooting algorithm for given initial c0 and k0\n",
    "    with optional A_path for growth models.\n",
    "    \"\"\"\n",
    "    # unpack & mpf‐ify shocks, fill μ with ones if missing\n",
    "    g = np.array(list(map(mpf, shocks['g'])), dtype=object)\n",
    "    τ_c = np.array(list(map(mpf, shocks['τ_c'])), dtype=object)\n",
    "    τ_k = np.array(list(map(mpf, shocks['τ_k'])), dtype=object)\n",
    "    μ = (np.array(list(map(mpf, shocks['μ'])), dtype=object)\n",
    "              if 'μ' in shocks else np.ones_like(g))\n",
    "    A = np.ones_like(g) if A_path is None else A_path\n",
    "\n",
    "    k_path = np.empty(S+1, dtype=object)\n",
    "    c_path = np.empty(S+1, dtype=object)\n",
    "    k_path[0], c_path[0] = mpf(k0), mpf(c0)\n",
    "\n",
    "    for t in range(S):\n",
    "        k_t, c_t = k_path[t], c_path[t]\n",
    "        k_tp1 = next_k(k_t, g[t], c_t, model, μ[t+1])\n",
    "        if k_tp1 < 0:\n",
    "            return None, None\n",
    "        k_path[t+1] = k_tp1\n",
    "\n",
    "        R_bar = compute_R_bar(\n",
    "            τ_c[t], τ_c[t+1], τ_k[t+1], k_tp1, model\n",
    "        )\n",
    "        c_tp1 = next_c(c_t, R_bar, model, μ[t+1])\n",
    "        if c_tp1 < 0:\n",
    "            return None, None\n",
    "        c_path[t+1] = c_tp1\n",
    "\n",
    "    return k_path, c_path\n",
    "\n",
    "\n",
    "def bisection_c0(\n",
    "    c0_guess, k0, shocks, S, model, tol=mpf('1e-6'), \n",
    "    max_iter=1000, verbose=False, A_path=None):\n",
    "    \"\"\"\n",
    "    Bisection method to find initial c0\n",
    "    \"\"\"\n",
    "    # steady‐state uses last shocks (μ=1 if missing)\n",
    "    g_last    = mpf(shocks['g'][-1])\n",
    "    τ_k_last  = mpf(shocks['τ_k'][-1])\n",
    "    μ_last    = mpf(shocks['μ'][-1]) if 'μ' in shocks else mpf('1')\n",
    "    k_ss_fin, _ = steady_states(model, g_last, τ_k_last, μ_last)\n",
    "\n",
    "    c0_lo, c0_hi = mpf('0'), f(k_ss_fin, model)\n",
    "    c0 = mpf(c0_guess)\n",
    "\n",
    "    for i in range(1, max_iter+1):\n",
    "        k_path, _ = shooting_algorithm(c0, k0, shocks, S, model, A_path)\n",
    "        if k_path is None:\n",
    "            if verbose:\n",
    "                print(f\"[{i}] shoot failed at c0={c0}\")\n",
    "            c0_hi = c0\n",
    "        else:\n",
    "            err = k_path[-1] - k_ss_fin\n",
    "            if verbose and i % 100 == 0:\n",
    "                print(f\"[{i}] c0={c0}, err={err}\")\n",
    "            if abs(err) < tol:\n",
    "                if verbose:\n",
    "                    print(f\"Converged after {i} iter\")\n",
    "                return c0\n",
    "            # update bounds in one line\n",
    "            c0_lo, c0_hi = (c0, c0_hi) if err > 0 else (c0_lo, c0)\n",
    "        c0 = (c0_lo + c0_hi) / mpf('2')\n",
    "\n",
    "    warn(f\"bisection did not converge after {max_iter} iters; returning c0={c0}\")\n",
    "    return c0\n",
    "\n",
    "\n",
    "def run_shooting(\n",
    "    shocks, S, model, A_path=None, \n",
    "    c0_finder=bisection_c0, shooter=shooting_algorithm):\n",
    "    \"\"\"\n",
    "    Compute initial SS, find c0, and return [k,c] paths\n",
    "    with optional A_path for growth models.\n",
    "    \"\"\"\n",
    "    # initial SS at t=0 (μ=1 if missing)\n",
    "    g0    = mpf(shocks['g'][0])\n",
    "    τ_k0  = mpf(shocks['τ_k'][0])\n",
    "    μ0    = mpf(shocks['μ'][0]) if 'μ' in shocks else mpf('1')\n",
    "    k0, c0 = steady_states(model, g0, τ_k0, μ0)\n",
    "\n",
    "    optimal_c0 = c0_finder(c0, k0, shocks, S, model, A_path=A_path)\n",
    "    print(f\"Model: {model}\\nOptimal initial consumption c0 = {mpf(optimal_c0)}\")\n",
    "\n",
    "    k_path, c_path = shooter(optimal_c0, k0, shocks, S, model, A_path)\n",
    "    return np.column_stack([k_path, c_path])"
   ]
  },
  {
   "cell_type": "markdown",
   "id": "e08189c4",
   "metadata": {},
   "source": [
    "\n",
    "<a id='cf-experiments'></a>"
   ]
  },
  {
   "cell_type": "markdown",
   "id": "6f1b1a3c",
   "metadata": {},
   "source": [
    "### Experiments\n",
    "\n",
    "Let’s run some  experiments.\n",
    "\n",
    "1. A foreseen once-and-for-all increase in $ g $ from 0.2 to 0.4 occurring in period 10,  \n",
    "1. A foreseen once-and-for-all increase in $ \\tau_c $ from 0.0 to 0.2 occurring in period 10,  \n",
    "1. A foreseen once-and-for-all increase in $ \\tau_k $ from 0.0 to 0.2 occurring in period 10, and  \n",
    "1. A foreseen one-time increase in $ g $ from 0.2 to 0.4 in period 10, after which $ g $ reverts to 0.2 permanently.  \n",
    "\n",
    "\n",
    "To start, we  prepare  sequences that we’ll  used to initialize our iterative algorithm.\n",
    "\n",
    "We will start from an initial  steady state and  apply shocks at an the indicated  time."
   ]
  },
  {
   "cell_type": "code",
   "execution_count": null,
   "id": "a72195b5",
   "metadata": {
    "hide-output": false
   },
   "outputs": [],
   "source": [
    "def plot_results(\n",
    "    solution, k_ss, c_ss, shocks, shock_param, axes, model,\n",
    "    A_path=None, label='', linestyle='-', T=40):\n",
    "    \"\"\"\n",
    "    Plot simulation results (k, c, R, η, and a policy shock)\n",
    "    with optional A_path for growth models.\n",
    "    \"\"\"\n",
    "    k_path = solution[:, 0]\n",
    "    c_path = solution[:, 1]\n",
    "    T = min(T, k_path.size)\n",
    "\n",
    "    # handle growth parameters\n",
    "    μ0 = shocks['μ'][0] if 'μ' in shocks else 1.0\n",
    "    A0 = A_path[0] if A_path is not None else (model.A or 1.0)\n",
    "\n",
    "    # steady‐state lines\n",
    "    R_bar_ss = (1 / model.β) * (μ0**model.γ)\n",
    "    η_ss     = model.α * A0 * k_ss**(model.α - 1)\n",
    "\n",
    "    # plot k\n",
    "    axes[0].plot(k_path[:T], linestyle=linestyle, label=label)\n",
    "    axes[0].axhline(k_ss, linestyle='--', color='black')\n",
    "    axes[0].set_title('k')\n",
    "\n",
    "    # plot c\n",
    "    axes[1].plot(c_path[:T], linestyle=linestyle, label=label)\n",
    "    axes[1].axhline(c_ss, linestyle='--', color='black')\n",
    "    axes[1].set_title('c')\n",
    "\n",
    "    # plot R bar\n",
    "    S_full    = k_path.size - 1\n",
    "    R_bar_path = compute_R_bar_path(shocks, k_path, model, S_full)\n",
    "    axes[2].plot(R_bar_path[:T], linestyle=linestyle, label=label)\n",
    "    axes[2].axhline(R_bar_ss, linestyle='--', color='black')\n",
    "    axes[2].set_title(r'$\\bar{R}$')\n",
    "\n",
    "    # plot η\n",
    "    η_path = compute_η_path(k_path, model, S_full)\n",
    "    axes[3].plot(η_path[:T], linestyle=linestyle, label=label)\n",
    "    axes[3].axhline(η_ss, linestyle='--', color='black')\n",
    "    axes[3].set_title(r'$\\eta$')\n",
    "\n",
    "    # plot shock\n",
    "    shock_series = np.array(shocks[shock_param], dtype=object)\n",
    "    axes[4].plot(shock_series[:T], linestyle=linestyle, label=label)\n",
    "    axes[4].axhline(shock_series[0], linestyle='--', color='black')\n",
    "    axes[4].set_title(rf'${shock_param}$')\n",
    "\n",
    "    if label:\n",
    "        for ax in axes[:5]:\n",
    "            ax.legend()"
   ]
  },
  {
   "cell_type": "markdown",
   "id": "346bff3f",
   "metadata": {},
   "source": [
    "**Experiment 1: Foreseen once-and-for-all increase in $ g $ from 0.2 to 0.4 in period 10**\n",
    "\n",
    "The figure below shows consequences of a foreseen permanent increase in $ g $ at $ t = T = 10 $ that is financed by an increase in lump-sum taxes"
   ]
  },
  {
   "cell_type": "code",
   "execution_count": null,
   "id": "6657169f",
   "metadata": {
    "hide-output": false
   },
   "outputs": [],
   "source": [
    "# Define shocks as a dictionary\n",
    "shocks = {\n",
    "    'g': np.concatenate(\n",
    "        (np.repeat(0.2, 10), np.repeat(0.4, S - 9))\n",
    "    ),\n",
    "    'τ_c': np.repeat(0.0, S + 1),\n",
    "    'τ_k': np.repeat(0.0, S + 1)\n",
    "}\n",
    "\n",
    "k_ss_initial, c_ss_initial = steady_states(model, \n",
    "                                           shocks['g'][0], \n",
    "                                           shocks['τ_k'][0])\n",
    "\n",
    "print(f\"Steady-state capital: {k_ss_initial:.4f}\")\n",
    "print(f\"Steady-state consumption: {c_ss_initial:.4f}\")\n",
    "\n",
    "solution = run_shooting(shocks, S, model)\n",
    "\n",
    "fig, axes = plt.subplots(2, 3, figsize=(10, 8))\n",
    "axes = axes.flatten()\n",
    "\n",
    "plot_results(solution, k_ss_initial, \n",
    "             c_ss_initial, shocks, 'g', axes, model, T=40)\n",
    "\n",
    "for ax in axes[5:]:\n",
    "    fig.delaxes(ax)\n",
    "\n",
    "plt.tight_layout()\n",
    "plt.show()"
   ]
  },
  {
   "cell_type": "markdown",
   "id": "cae0a42a",
   "metadata": {},
   "source": [
    "The above figures indicate that an equilibrium **consumption smoothing** mechanism is at work, driven by the representative consumer’s preference for smooth consumption paths coming from the curvature of its one-period utility function.\n",
    "\n",
    "- The steady-state value of the capital stock remains unaffected:  \n",
    "  - This follows from the fact that $ g $ disappears from the steady state version of the Euler equation ([(49.19)](#equation-eq-diff-second-steady)).  \n",
    "- Consumption begins to decline gradually before time $ T $ due to increased government consumption:  \n",
    "  - Households reduce consumption to offset government spending, which is financed through increased lump-sum taxes.  \n",
    "  - The competitive economy signals households to consume less through an increase in the stream of lump-sum taxes.  \n",
    "  - Households, caring about the present value rather than the timing of taxes, experience an adverse wealth effect on consumption, leading to an immediate response.  \n",
    "- Capital gradually accumulates between time $ 0 $ and $ T $ due to increased savings and reduces gradually after time $ T $:  \n",
    "  - This temporal variation in capital stock smooths consumption over time, driven by the representative consumer’s consumption-smoothing motive.  \n",
    "\n",
    "\n",
    "Let’s collect the procedures used above into a function that runs the solver and draws  plots for a given experiment"
   ]
  },
  {
   "cell_type": "code",
   "execution_count": null,
   "id": "c45ad0e7",
   "metadata": {
    "hide-output": false
   },
   "outputs": [],
   "source": [
    "def experiment_model(\n",
    "    shocks, S, model, A_path=None, solver=run_shooting, \n",
    "    plot_func=plot_results, policy_shock='g', T=40):\n",
    "    \"\"\"\n",
    "    Run the shooting algorithm and plot results.\n",
    "    \"\"\"\n",
    "    # initial steady state (μ0=None if no growth)\n",
    "    g0   = mpf(shocks['g'][0])\n",
    "    τk0  = mpf(shocks['τ_k'][0])\n",
    "    μ0   = mpf(shocks['μ'][0]) if 'μ' in shocks else None\n",
    "    k_ss, c_ss = steady_states(model, g0, τk0, μ0)\n",
    "\n",
    "    print(f\"Steady-state capital: {float(k_ss):.4f}\")\n",
    "    print(f\"Steady-state consumption: {float(c_ss):.4f}\")\n",
    "    print('-'*64)\n",
    "\n",
    "    fig, axes = plt.subplots(2, 3, figsize=(10, 8))\n",
    "    axes = axes.flatten()\n",
    "\n",
    "    sol = solver(shocks, S, model, A_path)\n",
    "    plot_func(\n",
    "        sol, k_ss, c_ss, shocks, policy_shock, axes, model,\n",
    "        A_path=A_path, T=T\n",
    "    )\n",
    "\n",
    "    # remove unused axes\n",
    "    for ax in axes[5:]:\n",
    "        fig.delaxes(ax)\n",
    "\n",
    "    plt.tight_layout()\n",
    "    plt.show()"
   ]
  },
  {
   "cell_type": "markdown",
   "id": "37380b05",
   "metadata": {},
   "source": [
    "The following figure compares responses to a foreseen increase in $ g $ at $ t = 10 $ for\n",
    "two economies:\n",
    "\n",
    "- our original economy with $ \\gamma = 2 $, shown in the solid line, and  \n",
    "- an otherwise identical economy with $ \\gamma = 0.2 $.  \n",
    "\n",
    "\n",
    "This comparison interest us because the  utility curvature parameter $ \\gamma $ governs the household’s willingness to substitute consumption over time, and thus it preferences about smoothness of consumption paths over time."
   ]
  },
  {
   "cell_type": "code",
   "execution_count": null,
   "id": "085f6ed7",
   "metadata": {
    "hide-output": false
   },
   "outputs": [],
   "source": [
    "# Solve the model using shooting\n",
    "solution = run_shooting(shocks, S, model)\n",
    "\n",
    "# Compute the initial steady states\n",
    "k_ss_initial, c_ss_initial = steady_states(model, \n",
    "                                           shocks['g'][0], \n",
    "                                           shocks['τ_k'][0])\n",
    "\n",
    "# Plot the solution for γ=2\n",
    "fig, axes = plt.subplots(2, 3, figsize=(10, 8))\n",
    "axes = axes.flatten()\n",
    "\n",
    "label = fr\"$\\gamma = {model.γ}$\"\n",
    "plot_results(solution, k_ss_initial, c_ss_initial, \n",
    "             shocks, 'g', axes, model, label=label, \n",
    "             T=40)\n",
    "\n",
    "# Solve and plot the result for γ=0.2\n",
    "model_γ2 = create_model(γ=0.2)\n",
    "solution = run_shooting(shocks, S, model_γ2)\n",
    "\n",
    "plot_results(solution, k_ss_initial, c_ss_initial, \n",
    "             shocks, 'g', axes, model_γ2, \n",
    "             label=fr\"$\\gamma = {model_γ2.γ}$\", \n",
    "             linestyle='-.', T=40)\n",
    "\n",
    "handles, labels = axes[0].get_legend_handles_labels()  \n",
    "fig.legend(handles, labels, loc='lower right', \n",
    "           ncol=3, fontsize=14, bbox_to_anchor=(1, 0.1))  \n",
    "\n",
    "for ax in axes[5:]:\n",
    "    fig.delaxes(ax)\n",
    "    \n",
    "plt.tight_layout()\n",
    "plt.show()"
   ]
  },
  {
   "cell_type": "markdown",
   "id": "f03865b9",
   "metadata": {},
   "source": [
    "The outcomes indicate that lowering $ \\gamma $ affects both the consumption and capital stock paths because - it increases the representative consumer’s willingness to substitute consumption across time:\n",
    "\n",
    "- Consumption path:  \n",
    "  - When $ \\gamma = 0.2 $, consumption becomes less smooth compared to $ \\gamma = 2 $.  \n",
    "  - For $ \\gamma = 0.2 $, consumption mirrors the government expenditure path more closely, staying higher until $ t = 10 $.  \n",
    "- Capital stock path:  \n",
    "  - With $ \\gamma = 0.2 $, there are smaller build-ups and drawdowns of capital stock.  \n",
    "  - There are also smaller fluctuations in $ \\bar{R} $ and $ \\eta $.  \n",
    "\n",
    "\n",
    "Let’s write another function that runs the solver and draws plots for these two experiments"
   ]
  },
  {
   "cell_type": "code",
   "execution_count": null,
   "id": "7c1668b3",
   "metadata": {
    "hide-output": false
   },
   "outputs": [],
   "source": [
    "def experiment_two_models(\n",
    "    shocks, S, model_1, model_2, solver=run_shooting, plot_func=plot_results, \n",
    "    policy_shock='g', legend_label_fun=None, T=40, A_path=None):\n",
    "    \"\"\"\n",
    "    Compare and plot the shooting algorithm paths for two models.\n",
    "    \"\"\"\n",
    "    is_growth = 'μ' in shocks\n",
    "    μ0 = mpf(shocks['μ'][0]) if is_growth else None\n",
    "\n",
    "    # initial steady states for both models\n",
    "    g0   = mpf(shocks['g'][0])\n",
    "    τk0  = mpf(shocks['τ_k'][0])\n",
    "    k_ss1, c_ss1 = steady_states(model_1, g0, τk0, μ0)\n",
    "    k_ss2, c_ss2 = steady_states(model_2, g0, τk0, μ0)\n",
    "\n",
    "    # print both    \n",
    "    print(f\"Model 1 (γ={model_1.γ}): steady state k={float(k_ss1):.4f}, c={float(c_ss1):.4f}\")\n",
    "    print(f\"Model 2 (γ={model_2.γ}): steady state k={float(k_ss2):.4f}, c={float(c_ss2):.4f}\")\n",
    "    print('-'*64)\n",
    "\n",
    "    # default legend labels\n",
    "    if legend_label_fun is None:\n",
    "        legend_label_fun = lambda m: fr\"$\\gamma = {m.γ}$\"\n",
    "\n",
    "    # prepare figure\n",
    "    fig, axes = plt.subplots(2, 3, figsize=(10, 8))\n",
    "    axes = axes.flatten()\n",
    "\n",
    "    # loop over (model, steady‐state, linestyle)\n",
    "    for model, (k_ss, c_ss), ls in [\n",
    "        (model_1, (k_ss1, c_ss1), '-'),\n",
    "        (model_2, (k_ss2, c_ss2), '-.')\n",
    "    ]:\n",
    "        sol = solver(shocks, S, model, A_path)\n",
    "        plot_func(sol, k_ss, c_ss, shocks, policy_shock, axes, \n",
    "                  model, A_path=A_path, \n",
    "                  label=legend_label_fun(model), \n",
    "                  linestyle=ls, T=T)\n",
    "\n",
    "    # shared legend in lower‐right\n",
    "    handles, labels = axes[0].get_legend_handles_labels()\n",
    "    fig.legend(\n",
    "        handles, labels, loc='lower right', ncol=2, \n",
    "        fontsize=12, bbox_to_anchor=(1, 0.1))\n",
    "\n",
    "    # drop the unused subplot\n",
    "    for ax in axes[5:]:\n",
    "        fig.delaxes(ax)\n",
    "\n",
    "    plt.tight_layout()\n",
    "    plt.show()"
   ]
  },
  {
   "cell_type": "markdown",
   "id": "846b25da",
   "metadata": {},
   "source": [
    "Now we plot other equilibrium quantities:"
   ]
  },
  {
   "cell_type": "code",
   "execution_count": null,
   "id": "9c40dcb8",
   "metadata": {
    "hide-output": false
   },
   "outputs": [],
   "source": [
    "def plot_prices(solution, c_ss, shock_param, axes,\n",
    "                model, label='', linestyle='-', T=40):\n",
    "    \"\"\"\n",
    "    Compares and plots prices\n",
    "    \"\"\"\n",
    "    α, β, δ, γ, A = model.α, model.β, model.δ, model.γ, model.A\n",
    "    \n",
    "    k_path = solution[:, 0]\n",
    "    c_path = solution[:, 1]\n",
    "\n",
    "    # Plot for c\n",
    "    axes[0].plot(c_path[:T], linestyle=linestyle, label=label)\n",
    "    axes[0].axhline(c_ss, linestyle='--', color='black')\n",
    "    axes[0].set_title('c')\n",
    "    \n",
    "    # Plot for q\n",
    "    q_path = compute_q_path(c_path, model, S=S)\n",
    "    axes[1].plot(q_path[:T], linestyle=linestyle, label=label)\n",
    "    axes[1].plot(β**np.arange(T), linestyle='--', color='black')\n",
    "    axes[1].set_title('q')\n",
    "    \n",
    "    # Plot for r_{t,t+1}\n",
    "    R_bar_path = compute_R_bar_path(shocks, k_path, model, S)\n",
    "    axes[2].plot(R_bar_path[:T] - 1, linestyle=linestyle, label=label)\n",
    "    axes[2].axhline(1 / β - 1, linestyle='--', color='black')\n",
    "    axes[2].set_title('$r_{t,t+1}$')\n",
    "\n",
    "    # Plot for r_{t,t+s}\n",
    "    for style, s in zip(['-', '-.', '--'], [0, 10, 60]):\n",
    "        rts_path = compute_rts_path(q_path, T, s)\n",
    "        axes[3].plot(rts_path, linestyle=style, \n",
    "                     color='black' if style == '--' else None,\n",
    "                     label=f'$t={s}$')\n",
    "        axes[3].set_xlabel('s')\n",
    "        axes[3].set_title('$r_{t,t+s}$')\n",
    "\n",
    "    # Plot for g\n",
    "    axes[4].plot(shocks[shock_param][:T], linestyle=linestyle, label=label)\n",
    "    axes[4].axhline(shocks[shock_param][0], linestyle='--', color='black')\n",
    "    axes[4].set_title(shock_param)"
   ]
  },
  {
   "cell_type": "markdown",
   "id": "020afbfa",
   "metadata": {},
   "source": [
    "For $ \\gamma = 2 $ again, the next figure describes the response of $ q_t $ and the term\n",
    "structure of interest rates to a foreseen increase in $ g_t $ at $ t = 10 $"
   ]
  },
  {
   "cell_type": "code",
   "execution_count": null,
   "id": "e2a27f2e",
   "metadata": {
    "hide-output": false
   },
   "outputs": [],
   "source": [
    "solution = run_shooting(shocks, S, model)\n",
    "\n",
    "fig, axes = plt.subplots(2, 3, figsize=(10, 8))\n",
    "axes = axes.flatten()\n",
    "\n",
    "plot_prices(solution, c_ss_initial, 'g', axes, model, T=40)\n",
    "\n",
    "for ax in axes[5:]:\n",
    "    fig.delaxes(ax)\n",
    "\n",
    "handles, labels = axes[3].get_legend_handles_labels()  \n",
    "fig.legend(handles, labels, title=r\"$r_{t,t+s}$ with \", loc='lower right', \n",
    "           ncol=3, fontsize=10, bbox_to_anchor=(1, 0.1))  \n",
    "plt.tight_layout()\n",
    "plt.show()"
   ]
  },
  {
   "cell_type": "markdown",
   "id": "352522e3",
   "metadata": {},
   "source": [
    "The second panel on the top compares $ q_t $ for the initial steady state with $ q_t $ after the\n",
    "increase in $ g $ is foreseen at $ t = 0 $, while the third panel compares the implied\n",
    "short rate $ r_t $.\n",
    "\n",
    "The fourth panel shows the term structure of interest rates at $ t=0 $, $ t=10 $, and $ t=60 $.\n",
    "\n",
    "Notice that, by $ t = 60 $, the system has converged to the new steady state, and the term structure of interest rates becomes flat.\n",
    "\n",
    "At $ t = 10 $, the term structure of interest rates is upward sloping.\n",
    "\n",
    "This upward slope reflects the expected increase in the rate of growth of consumption over time, as shown in the consumption panel.\n",
    "\n",
    "At $ t = 0 $, the term structure of interest rates exhibits a “U-shaped” pattern:\n",
    "\n",
    "- It declines until maturity at $ s = 10 $.  \n",
    "- After $ s = 10 $, it increases for longer maturities.  \n",
    "\n",
    "\n",
    "This pattern aligns with the pattern of consumption growth in the first two figures,\n",
    "which declines at an increasing rate until $ t = 10 $ and then declines at a decreasing rate afterward.\n",
    "\n",
    "**Experiment 2: Foreseen once-and-for-all increase in $ \\tau_c $ from 0.0 to 0.2 in period 10**\n",
    "\n",
    "With an inelastic labor supply, the Euler equation [(49.16)](#equation-eq-euler-house)\n",
    "and the other equilibrium conditions show that\n",
    "\n",
    "- constant consumption taxes do not distort decisions, but  \n",
    "- anticipated changes in them do.  \n",
    "\n",
    "\n",
    "Indeed, [(49.16)](#equation-eq-euler-house) or [(49.17)](#equation-eq-diff-second) indicates that a foreseen in-\n",
    "crease in $ \\tau_{ct} $ (i.e., a decrease in $ (1+\\tau_{ct}) $\n",
    "$ (1+\\tau_{ct+1}) $) operates like an increase in $ \\tau_{kt} $.\n",
    "\n",
    "The following figure portrays the response to a foreseen increase in the consumption tax $ \\tau_c $."
   ]
  },
  {
   "cell_type": "code",
   "execution_count": null,
   "id": "1032a2d5",
   "metadata": {
    "hide-output": false
   },
   "outputs": [],
   "source": [
    "shocks = {\n",
    "    'g': np.repeat(0.2, S + 1),\n",
    "    'τ_c': np.concatenate((np.repeat(0.0, 10), np.repeat(0.2, S - 9))),\n",
    "    'τ_k': np.repeat(0.0, S + 1)\n",
    "}\n",
    "\n",
    "experiment_model(shocks, S, model, \n",
    "                 solver=run_shooting, \n",
    "                 plot_func=plot_results,  \n",
    "                 policy_shock='τ_c')"
   ]
  },
  {
   "cell_type": "markdown",
   "id": "526ca7d6",
   "metadata": {},
   "source": [
    "Evidently  all variables in the figures above eventually return to their initial\n",
    "steady-state values.\n",
    "\n",
    "The anticipated increase in $ \\tau_{ct} $ leads to variations in consumption\n",
    "and capital stock across time:\n",
    "\n",
    "- At $ t = 0 $:  \n",
    "  - Anticipation of the increase in $ \\tau_c $ causes an *immediate jump in consumption*.  \n",
    "  - This is followed by a *consumption binge* that sends the capital stock downward until $ t = T = 10 $.  \n",
    "- Between $ t = 0 $ and $ t = T = 10 $:  \n",
    "  - The decline in the capital stock raises $ \\bar{R} $ over time.  \n",
    "  - The equilibrium conditions require the growth rate of consumption to rise until $ t = T $.  \n",
    "- At $ t = T = 10 $:  \n",
    "  - The jump in $ \\tau_c $ depresses $ \\bar{R} $ below $ 1 $, causing a *sharp drop in consumption*.  \n",
    "- After $ T = 10 $:  \n",
    "  - The effects of anticipated distortion are over, and the economy gradually adjusts to the lower capital stock.  \n",
    "  - Capital must now rise, requiring *austerity* —consumption plummets after $ t = T $,  indicated by  lower levels of consumption.  \n",
    "  - The interest rate gradually declines, and consumption grows at a diminishing rate along the path to the terminal steady-state.  \n",
    "\n",
    "\n",
    "**Experiment 3: Foreseen once-and-for-all increase in $ \\tau_k $ from 0.0 to 0.2 in period 10**\n",
    "\n",
    "For the two $ \\gamma $ values 2 and 0.2, the next figure shows the\n",
    "response to a foreseen permanent jump in $ \\tau_{kt} $ at $ t = T = 10 $."
   ]
  },
  {
   "cell_type": "code",
   "execution_count": null,
   "id": "2c62b8ee",
   "metadata": {
    "hide-output": false
   },
   "outputs": [],
   "source": [
    "shocks = {\n",
    "    'g': np.repeat(0.2, S + 1),\n",
    "    'τ_c': np.repeat(0.0, S + 1),\n",
    "    'τ_k': np.concatenate((np.repeat(0.0, 10), np.repeat(0.2, S - 9))) \n",
    "}\n",
    "\n",
    "experiment_two_models(shocks, S, model, model_γ2, \n",
    "                solver=run_shooting, \n",
    "                 plot_func=plot_results,  \n",
    "                 policy_shock='τ_k')"
   ]
  },
  {
   "cell_type": "markdown",
   "id": "13a4296b",
   "metadata": {},
   "source": [
    "The path of government expenditures remains fixed\n",
    "\n",
    "- the increase in $ \\tau_{kt} $ is offset by a reduction in the present value of lump-sum taxes to keep the budget balanced.  \n",
    "\n",
    "\n",
    "The  figure shows that:\n",
    "\n",
    "- Anticipation of the increase in $ \\tau_{kt} $ leads to immediate decline in capital stock due to increased current consumption and a growing consumption flow.  \n",
    "- $ \\bar{R} $ starts rising at $ t = 0 $ and peaks at $ t = 9 $, and at $ t = 10 $, $ \\bar{R} $ drops sharply due to the tax change.  \n",
    "  - Variations in $ \\bar{R} $ align with  the impact of the tax increase at $ t = 10 $ on consumption across time.  \n",
    "- Transition dynamics push $ k_t $ (capital stock) toward a new, lower steady-state level. In the new steady state:  \n",
    "  - Consumption is lower due to reduced output from the lower capital stock.  \n",
    "  - Smoother consumption paths occur when $ \\gamma = 2 $ than when $ \\gamma = 0.2 $.  \n",
    "\n",
    "\n",
    "So far we have explored consequences of foreseen once-and-for-all changes\n",
    "in government policy. Next we describe some experiments in which there is a\n",
    "foreseen one-time change in a policy variable (a “pulse”).\n",
    "\n",
    "**Experiment 4: Foreseen one-time increase in $ g $ from 0.2 to 0.4 in period 10, after which $ g $ returns to 0.2 forever**"
   ]
  },
  {
   "cell_type": "code",
   "execution_count": null,
   "id": "fe3ade7b",
   "metadata": {
    "hide-output": false
   },
   "outputs": [],
   "source": [
    "g_path = np.repeat(0.2, S + 1)\n",
    "g_path[10] = 0.4\n",
    "\n",
    "shocks = {\n",
    "    'g': g_path,\n",
    "    'τ_c': np.repeat(0.0, S + 1),\n",
    "    'τ_k': np.repeat(0.0, S + 1)\n",
    "}\n",
    "\n",
    "experiment_model(shocks, S, model,\n",
    "                 solver=run_shooting, \n",
    "                 plot_func=plot_results,  \n",
    "                 policy_shock='g')"
   ]
  },
  {
   "cell_type": "markdown",
   "id": "fe225803",
   "metadata": {},
   "source": [
    "The figure indicates how:\n",
    "\n",
    "- Consumption:  \n",
    "  - Drops immediately upon  announcement of the policy and continues to decline over time in anticipation of the one-time surge in $ g $.  \n",
    "  - After the shock at $ t = 10 $, consumption begins to recover, rising at a diminishing rate toward its steady-state value.  \n",
    "- Capital and $ \\bar{R} $:  \n",
    "  - Before $ t = 10 $, capital accumulates as interest rate changes induce households to prepare for the anticipated increase in government spending.  \n",
    "  - At $ t = 10 $, the capital stock sharply decreases as the government consumes part of it.  \n",
    "  - $ \\bar{R} $ jumps above its steady-state value due to the capital reduction and then gradually declines toward its steady-state level.  "
   ]
  },
  {
   "cell_type": "markdown",
   "id": "9b3e781e",
   "metadata": {},
   "source": [
    "### Method 2: Residual Minimization\n",
    "\n",
    "The second method involves minimizing residuals (i.e., deviations from equalities) of the following equations:\n",
    "\n",
    "- The Euler equation [(49.17)](#equation-eq-diff-second):  \n",
    "  $$\n",
    "  1 = \\beta \\left(\\frac{c_{t+1}}{c_t}\\right)^{-\\gamma} \\frac{(1+\\tau_{ct})}{(1+\\tau_{ct+1})} \\left[(1 - \\tau_{kt+1})(\\alpha A k_{t+1}^{\\alpha-1} - \\delta) + 1 \\right]\n",
    "  $$\n",
    "- The feasibility condition [(49.15)](#equation-eq-feasi-capital):  \n",
    "  $$\n",
    "  k_{t+1} = A k_{t}^{\\alpha} + (1 - \\delta) k_t - g_t - c_t.\n",
    "  $$"
   ]
  },
  {
   "cell_type": "code",
   "execution_count": null,
   "id": "0a2795bb",
   "metadata": {
    "hide-output": false
   },
   "outputs": [],
   "source": [
    "# Euler's equation and feasibility condition \n",
    "def euler_residual(c_t, c_tp1, τ_c_t, τ_c_tp1, τ_k_tp1, k_tp1, model, μ_tp1=1):\n",
    "    \"\"\"\n",
    "    Computes the residuals for Euler's equation \n",
    "    with optional growth model parameters μ_tp1.\n",
    "    \"\"\"\n",
    "    R_bar = compute_R_bar(τ_c_t, τ_c_tp1, τ_k_tp1, k_tp1, model)\n",
    "    \n",
    "    c_expected = next_c(c_t, R_bar, model, μ_tp1)\n",
    "\n",
    "    return c_expected / c_tp1 - 1.0\n",
    "\n",
    "def feasi_residual(k_t, k_tm1, c_tm1, g_t, model, μ_t=1):\n",
    "    \"\"\"\n",
    "    Computes the residuals for feasibility condition \n",
    "    with optional growth model parameter μ_t.\n",
    "    \"\"\"\n",
    "    k_t_expected = next_k(k_tm1, g_t, c_tm1, model, μ_t)\n",
    "    return k_t_expected - k_t"
   ]
  },
  {
   "cell_type": "markdown",
   "id": "8c95c345",
   "metadata": {},
   "source": [
    "The algorithm proceeds follows:\n",
    "\n",
    "1. Find initial steady state $ k_0 $ based on the government plan at $ t=0 $.  \n",
    "1. Initialize a sequence of initial guesses $ \\{\\hat{c}_t, \\hat{k}_t\\}_{t=0}^{S} $.  \n",
    "1. Compute residuals $ l_a $ and $ l_k $ for $ t = 0, \\dots, S $, as well as $ l_{k_0} $ for $ t = 0 $ and $ l_{k_S} $ for $ t = S $:  \n",
    "  - Compute the Euler equation residual for $ t = 0, \\dots, S $ using [(49.17)](#equation-eq-diff-second):  \n",
    "    $$\n",
    "    l_{ta} = \\beta u'(c_{t+1}) \\frac{(1 + \\tau_{ct})}{(1 + \\tau_{ct+1})} \\left[(1 - \\tau_{kt+1})(f'(k_{t+1}) - \\delta) + 1 \\right] - 1\n",
    "    $$\n",
    "  - Compute the feasibility condition residual for $ t = 1, \\dots, S-1 $ using [(49.15)](#equation-eq-feasi-capital):  \n",
    "    $$\n",
    "    l_{tk} = k_{t+1} - f(k_t) - (1 - \\delta)k_t + g_t + c_t\n",
    "    $$\n",
    "  - Compute the residual for the initial condition for $ k_0 $ using [(49.19)](#equation-eq-diff-second-steady) and the initial capital $ k_0 $:  \n",
    "    $$\n",
    "    l_{k_0} = 1 - \\beta \\left[ (1 - \\tau_{k0}) \\left(f'(k_0) - \\delta \\right) + 1 \\right]\n",
    "    $$\n",
    "  - Compute the residual for the terminal condition for $ t = S $ using [(49.17)](#equation-eq-diff-second) under the assumptions $ c_t = c_{t+1} = c_S $, $ k_t = k_{t+1} = k_S $, $ \\tau_{ct} = \\tau_{ct+1} = \\tau_{c_s} $, and $ \\tau_{kt} = \\tau_{kt+1} = \\tau_{k_s} $:  \n",
    "    $$\n",
    "    l_{k_S} = \\beta u'(c_S) \\frac{(1 + \\tau_{c_s})}{(1 + \\tau_{c_s})} \\left[(1 - \\tau_{k_s})(f'(k_S) - \\delta) + 1 \\right] - 1\n",
    "    $$\n",
    "1. Iteratively adjust  guesses for $ \\{\\hat{c}_t, \\hat{k}_t\\}_{t=0}^{S} $ to minimize  residuals $ l_{k_0} $, $ l_{ta} $, $ l_{tk} $, and $ l_{k_S} $ for $ t = 0, \\dots, S $.  "
   ]
  },
  {
   "cell_type": "code",
   "execution_count": null,
   "id": "36372006",
   "metadata": {
    "hide-output": false
   },
   "outputs": [],
   "source": [
    "def compute_residuals(vars_flat, k_init, S, shock_paths, model):\n",
    "    \"\"\"\n",
    "    Compute the residuals for the Euler equation and feasibility condition.\n",
    "    \"\"\"\n",
    "    g, τ_c, τ_k, μ = (shock_paths[key] for key in ('g','τ_c','τ_k','μ'))\n",
    "    k, c = vars_flat.reshape((S+1, 2)).T\n",
    "    res = np.empty(2*S+2, dtype=float)\n",
    "\n",
    "    # boundary condition on initial capital\n",
    "    res[0] = k[0] - k_init\n",
    "\n",
    "    # interior Euler and feasibility\n",
    "    for t in range(S):\n",
    "        res[2*t + 1] = euler_residual(\n",
    "            c[t],    c[t+1],\n",
    "            τ_c[t],  τ_c[t+1],\n",
    "            τ_k[t+1],k[t+1],\n",
    "            model, μ[t+1])\n",
    "        res[2*t + 2] = feasi_residual(\n",
    "            k[t+1], k[t], c[t],\n",
    "            g[t],  model,\n",
    "            μ[t+1])\n",
    "\n",
    "    # terminal Euler condition at t=S\n",
    "    res[-1] = euler_residual(\n",
    "        c[S],   c[S],\n",
    "        τ_c[S], τ_c[S],\n",
    "        τ_k[S], k[S],\n",
    "        model,\n",
    "        μ[S])\n",
    "\n",
    "    return res\n",
    "\n",
    "\n",
    "def run_min(shocks, S, model, A_path=None):\n",
    "    \"\"\"\n",
    "    Solve for the full (k,c) path by root‐finding the residuals.\n",
    "    \"\"\"\n",
    "    shocks['μ'] = shocks['μ'] if 'μ' in shocks else np.ones_like(shocks['g'])\n",
    "\n",
    "    # compute the steady‐state to serve as both initial capital and guess\n",
    "    k_ss, c_ss = steady_states(\n",
    "        model,\n",
    "        shocks['g'][0],\n",
    "        shocks['τ_k'][0],\n",
    "        shocks['μ'][0]  # =1 if no growth\n",
    "    )\n",
    "\n",
    "    # initial guess: flat at the steady‐state\n",
    "    guess = np.column_stack([\n",
    "        np.full(S+1, k_ss),\n",
    "        np.full(S+1, c_ss)\n",
    "    ]).flatten()\n",
    "\n",
    "    sol = root(\n",
    "        compute_residuals,\n",
    "        guess,\n",
    "        args=(k_ss, S, shocks, model),\n",
    "        tol=1e-8\n",
    "    )\n",
    "\n",
    "    return sol.x.reshape((S+1, 2))"
   ]
  },
  {
   "cell_type": "markdown",
   "id": "c7d381b2",
   "metadata": {},
   "source": [
    "We found that  method 2 did  not encounter numerical stability issues, so using  `mp.mpf` is not necessary.\n",
    "\n",
    "We leave as exercises replicating some of our experiments by using the second method."
   ]
  },
  {
   "cell_type": "markdown",
   "id": "15acd1ef",
   "metadata": {},
   "source": [
    "### Exercise 49.1\n",
    "\n",
    "Replicate the plots of our four experiments  using the second method of residual minimization:\n",
    "\n",
    "1. A foreseen once-and-for-all increase in $ g $ from 0.2 to 0.4 occurring in period 10,  \n",
    "1. A foreseen once-and-for-all increase in $ \\tau_c $ from 0.0 to 0.2 occurring in period 10,  \n",
    "1. A foreseen once-and-for-all increase in $ \\tau_k $ from 0.0 to 0.2 occurring in period 10, and  \n",
    "1. A foreseen one-time increase in $ g $ from 0.2 to 0.4 in period 10, after which $ g $ reverts to 0.2 permanently,  "
   ]
  },
  {
   "cell_type": "markdown",
   "id": "295bb031",
   "metadata": {},
   "source": [
    "### Solution to[ Exercise 49.1](https://python.quantecon.org/#cass_fiscal_ex1)\n",
    "\n",
    "Here is one solution:\n",
    "\n",
    "**Experiment 1: Foreseen once-and-for-all increase in $ g $ from 0.2 to 0.4 in period 10**"
   ]
  },
  {
   "cell_type": "code",
   "execution_count": null,
   "id": "9e1f7d78",
   "metadata": {
    "hide-output": false
   },
   "outputs": [],
   "source": [
    "shocks = {\n",
    "    'g': np.concatenate((np.repeat(0.2, 10), np.repeat(0.4, S - 9))),\n",
    "    'τ_c': np.repeat(0.0, S + 1),\n",
    "    'τ_k': np.repeat(0.0, S + 1)\n",
    "}\n",
    "\n",
    "experiment_model(shocks, S, model, solver=run_min, \n",
    "                 plot_func=plot_results,  \n",
    "                 policy_shock='g')"
   ]
  },
  {
   "cell_type": "code",
   "execution_count": null,
   "id": "20909575",
   "metadata": {
    "hide-output": false
   },
   "outputs": [],
   "source": [
    "experiment_two_models(shocks, S, model, model_γ2, \n",
    "                run_min, plot_results, 'g')"
   ]
  },
  {
   "cell_type": "code",
   "execution_count": null,
   "id": "ea8ca403",
   "metadata": {
    "hide-output": false
   },
   "outputs": [],
   "source": [
    "solution = run_min(shocks, S, model)\n",
    "\n",
    "fig, axes = plt.subplots(2, 3, figsize=(10, 8))\n",
    "axes = axes.flatten()\n",
    "\n",
    "plot_prices(solution, c_ss_initial, 'g', axes, model, T=40)\n",
    "\n",
    "for ax in axes[5:]:\n",
    "    fig.delaxes(ax)\n",
    "\n",
    "handles, labels = axes[3].get_legend_handles_labels()  \n",
    "fig.legend(handles, labels, title=r\"$r_{t,t+s}$ with \", loc='lower right', ncol=3, fontsize=10, bbox_to_anchor=(1, 0.1))  \n",
    "plt.tight_layout()\n",
    "plt.show()"
   ]
  },
  {
   "cell_type": "markdown",
   "id": "9a602c2d",
   "metadata": {},
   "source": [
    "**Experiment 2: Foreseen once-and-for-all increase in $ \\tau_c $ from 0.0 to 0.2 in period 10.**"
   ]
  },
  {
   "cell_type": "code",
   "execution_count": null,
   "id": "06a4e7dc",
   "metadata": {
    "hide-output": false
   },
   "outputs": [],
   "source": [
    "shocks = {\n",
    "    'g': np.repeat(0.2, S + 1),\n",
    "    'τ_c': np.concatenate((np.repeat(0.0, 10), np.repeat(0.2, S - 9))),\n",
    "    'τ_k': np.repeat(0.0, S + 1)\n",
    "}\n",
    "\n",
    "experiment_model(shocks, S, model, solver=run_min, \n",
    "                 plot_func=plot_results,  \n",
    "                 policy_shock='τ_c')"
   ]
  },
  {
   "cell_type": "markdown",
   "id": "6fdd16aa",
   "metadata": {},
   "source": [
    "**Experiment 3: Foreseen once-and-for-all increase in $ \\tau_k $ from 0.0 to 0.2 in period 10.**"
   ]
  },
  {
   "cell_type": "code",
   "execution_count": null,
   "id": "8942f2fd",
   "metadata": {
    "hide-output": false
   },
   "outputs": [],
   "source": [
    "shocks = {\n",
    "    'g': np.repeat(0.2, S + 1),\n",
    "    'τ_c': np.repeat(0.0, S + 1),\n",
    "    'τ_k': np.concatenate((np.repeat(0.0, 10), np.repeat(0.2, S - 9))) \n",
    "}\n",
    "\n",
    "experiment_two_models(shocks, S, model, model_γ2, \n",
    "                solver=run_min, \n",
    "                 plot_func=plot_results,  \n",
    "                 policy_shock='τ_k')"
   ]
  },
  {
   "cell_type": "markdown",
   "id": "bab0df12",
   "metadata": {},
   "source": [
    "**Experiment 4: Foreseen one-time increase in $ g $ from 0.2 to 0.4 in period 10, after which $ g $ returns to 0.2 forever**"
   ]
  },
  {
   "cell_type": "code",
   "execution_count": null,
   "id": "402a6d68",
   "metadata": {
    "hide-output": false
   },
   "outputs": [],
   "source": [
    "g_path = np.repeat(0.2, S + 1)\n",
    "g_path[10] = 0.4\n",
    "\n",
    "shocks = {\n",
    "    'g': g_path,\n",
    "    'τ_c': np.repeat(0.0, S + 1),\n",
    "    'τ_k': np.repeat(0.0, S + 1)\n",
    "}\n",
    "\n",
    "experiment_model(shocks, S, model, solver=run_min, \n",
    "                 plot_func=plot_results,  \n",
    "                 policy_shock='g')"
   ]
  },
  {
   "cell_type": "markdown",
   "id": "f4bfb2a2",
   "metadata": {},
   "source": [
    "### Exercise 49.2\n",
    "\n",
    "Design a new experiment where the government expenditure $ g $ increases from $ 0.2 $ to $ 0.4 $ in period $ 10 $,\n",
    "and then decreases to $ 0.1 $ in period $ 20 $ permanently."
   ]
  },
  {
   "cell_type": "markdown",
   "id": "a33eab28",
   "metadata": {},
   "source": [
    "### Solution to[ Exercise 49.2](https://python.quantecon.org/#cass_fiscal_ex2)\n",
    "\n",
    "Here is one solution:"
   ]
  },
  {
   "cell_type": "code",
   "execution_count": null,
   "id": "9220107e",
   "metadata": {
    "hide-output": false
   },
   "outputs": [],
   "source": [
    "g_path = np.repeat(0.2, S + 1)\n",
    "g_path[10:20] = 0.4\n",
    "g_path[20:] = 0.1\n",
    "\n",
    "shocks = {\n",
    "    'g': g_path,\n",
    "    'τ_c': np.repeat(0.0, S + 1),\n",
    "    'τ_k': np.repeat(0.0, S + 1)\n",
    "}\n",
    "\n",
    "experiment_model(shocks, S, model, solver=run_min, \n",
    "                 plot_func=plot_results,  \n",
    "                 policy_shock='g')"
   ]
  },
  {
   "cell_type": "markdown",
   "id": "16b98d28",
   "metadata": {},
   "source": [
    "\n",
    "<a id='growth-model'></a>"
   ]
  },
  {
   "cell_type": "markdown",
   "id": "a5084d98",
   "metadata": {},
   "source": [
    "## Exogenous growth\n",
    "\n",
    "In the previous section, we considered a model without exogenous growth.\n",
    "\n",
    "We set the term $ A_t $ in the production function to a constant by\n",
    "setting $ A_t = 1 $ for all $ t $.\n",
    "\n",
    "Now we are ready to consider growth.\n",
    "\n",
    "To incorporate growth, we modify the production function to be\n",
    "\n",
    "$$\n",
    "Y_t = F(K_t, A_tn_t)\n",
    "$$\n",
    "\n",
    "where $ Y_t $ is aggregate output, $ N_t $ is total employment, $ A_t $ is labor-augmenting technical change,\n",
    "and $ F(K, AN) $ is the same linearly homogeneous production function as before.\n",
    "\n",
    "We assume that $ A_t $ follows the process\n",
    "\n",
    "\n",
    "<a id='equation-eq-growth'></a>\n",
    "$$\n",
    "A_{t+1} = \\mu_{t+1}A_t \\tag{49.25}\n",
    "$$\n",
    "\n",
    "and that $ \\mu_{t+1}=\\bar{\\mu}>1 $."
   ]
  },
  {
   "cell_type": "code",
   "execution_count": null,
   "id": "f2cd3032",
   "metadata": {
    "hide-output": false
   },
   "outputs": [],
   "source": [
    "# Set the constant A parameter to None\n",
    "model = create_model(A=None)"
   ]
  },
  {
   "cell_type": "code",
   "execution_count": null,
   "id": "8081f30b",
   "metadata": {
    "hide-output": false
   },
   "outputs": [],
   "source": [
    "def compute_A_path(A0, shocks, S=100):\n",
    "    \"\"\"\n",
    "    Compute A path over time.\n",
    "    \"\"\"\n",
    "    A_path = np.full(S + 1, A0)\n",
    "    for t in range(1, S + 1):\n",
    "        A_path[t] = A_path[t-1] * shocks['μ'][t-1]\n",
    "    return A_path"
   ]
  },
  {
   "cell_type": "markdown",
   "id": "c6fcdb8c",
   "metadata": {},
   "source": [
    "### Inelastic Labor Supply\n",
    "\n",
    "By linear homogeneity, the production function can be expressed as\n",
    "\n",
    "$$\n",
    "y_t=f(k_t)\n",
    "$$\n",
    "\n",
    "where $ f(k)=F(k,1) = k^\\alpha $ and $ k_t=\\frac{K_t}{n_tA_t} $, $ y_t=\\frac{Y_t}{n_tA_t} $.\n",
    "\n",
    "$ k_t $ and $ y_t $ are measured per unit of “effective labor” $ A_tn_t $.\n",
    "\n",
    "We also let $ c_t=\\frac{C_t}{A_tn_t} $ and $ g_t=\\frac{G_t}{A_tn_t} $, where $ C_t $ and $ G_t $ are total consumption and total government expenditures.\n",
    "\n",
    "We continue to consider the case of inelastic labor supply.\n",
    "\n",
    "Based on this, feasibility can be summarized by the following modified version\n",
    "of equation [(49.15)](#equation-eq-feasi-capital):\n",
    "\n",
    "\n",
    "<a id='equation-eq-feasi-mod'></a>\n",
    "$$\n",
    "k_{t+1}=\\mu_{t+1}^{-1}[f(k_t)+(1-\\delta)k_t-g_t-c_t] \\tag{49.26}\n",
    "$$\n",
    "\n",
    "Again, by the properties of a linearly homogeneous production function, we have\n",
    "\n",
    "$$\n",
    "\\eta_t = F_k(k_t, 1) = f'(k_t), w_t = F_n(k_t, 1) = f(k_t) - f'(k_t)k_t\n",
    "$$\n",
    "\n",
    "Since per capita consumption is now $ c_tA_t $, the counterpart to the Euler equation [(49.17)](#equation-eq-diff-second) is\n",
    "\n",
    "\n",
    "<a id='equation-eq-diff-mod'></a>\n",
    "$$\n",
    "\\begin{aligned}\n",
    "u'(c_tA_t) = \\beta u'(c_{t+1}A_{t+1}) \\frac{(1 + \\tau_{ct})}{(1 + \\tau_{ct+1})} [(1 - \\tau_{kt+1})(f'(k_{t+1}) - \\delta) + 1].\n",
    "\\end{aligned} \\tag{49.27}\n",
    "$$\n",
    "\n",
    "$ \\bar{R}_{t+1} $ continues to be defined by [(49.21)](#equation-eq-gross-rate), except that now $ k_t $ is capital per effective unit of labor.\n",
    "\n",
    "Thus, substituting [(49.21)](#equation-eq-gross-rate), [(49.27)](#equation-eq-diff-mod) becomes\n",
    "\n",
    "$$\n",
    "u'(c_tA_t) = \\beta u'(c_{t+1}A_{t+1})\\bar{R}_{t+1}\n",
    "$$\n",
    "\n",
    "Assuming that the household’s utility function is the same as before, we have\n",
    "\n",
    "$$\n",
    "(c_tA_t)^{-\\gamma} = \\beta (c_{t+1}A_{t+1})^{-\\gamma} \\bar{R}_{t+1}\n",
    "$$\n",
    "\n",
    "Thus, the counterpart to [(49.24)](#equation-eq-consume-r) is\n",
    "\n",
    "\n",
    "<a id='equation-eq-consume-r-mod'></a>\n",
    "$$\n",
    "c_{t+1} = c_t \\left[ \\beta \\bar{R}_{t+1} \\right]^{\\frac{1}{\\gamma}}\\mu_{t+1}^{-1} \\tag{49.28}\n",
    "$$"
   ]
  },
  {
   "cell_type": "markdown",
   "id": "7d8517eb",
   "metadata": {},
   "source": [
    "### Steady State\n",
    "\n",
    "In a steady state, $ c_{t+1} = c_t $. Then [(49.27)](#equation-eq-diff-mod) becomes\n",
    "\n",
    "\n",
    "<a id='equation-eq-diff-mod-st'></a>\n",
    "$$\n",
    "1=\\mu^{-\\gamma}\\beta[(1-\\tau_k)(f'(k)-\\delta)+1] \\tag{49.29}\n",
    "$$\n",
    "\n",
    "from which we can compute that the steady-state level of capital per unit of effective labor satisfies\n",
    "\n",
    "\n",
    "<a id='equation-eq-cap-mod-st'></a>\n",
    "$$\n",
    "f'(k)=\\delta + (\\frac{\\frac{1}{\\beta}\\mu^{\\gamma}-1}{1-\\tau_k}) \\tag{49.30}\n",
    "$$\n",
    "\n",
    "and that\n",
    "\n",
    "\n",
    "<a id='equation-eq-rbar-mod-st'></a>\n",
    "$$\n",
    "\\bar{R}=\\frac{\\mu^{\\gamma}}{\\beta} \\tag{49.31}\n",
    "$$\n",
    "\n",
    "The steady-state level of consumption per unit of effective labor can be found using [(49.26)](#equation-eq-feasi-mod):\n",
    "\n",
    "$$\n",
    "c = f(k)+(1-\\delta-\\mu)k-g\n",
    "$$\n",
    "\n",
    "Since the algorithm and plotting routines are the same as before, we include the steady-state calculations and\n",
    "shooting routine in the section [Python Code](#cass-fiscal-shooting)."
   ]
  },
  {
   "cell_type": "markdown",
   "id": "cab374ef",
   "metadata": {},
   "source": [
    "### Shooting Algorithm\n",
    "\n",
    "Now we can apply the shooting algorithm to compute equilibrium. We augment the vector of shock variables by including $ \\mu_t $, then proceed as before."
   ]
  },
  {
   "cell_type": "markdown",
   "id": "5a6beec3",
   "metadata": {},
   "source": [
    "### Experiments\n",
    "\n",
    "Let’s run some experiments:\n",
    "\n",
    "1. A foreseen once-and-for-all increase in $ \\mu $ from 1.02 to 1.025 in period 10  \n",
    "1. An unforeseen once-and-for-all increase in $ \\mu $ to 1.025 in period 0  "
   ]
  },
  {
   "cell_type": "markdown",
   "id": "59a3a388",
   "metadata": {},
   "source": [
    "#### Experiment 1: A foreseen increase in $ \\mu $ from 1.02 to 1.025 at t=10\n",
    "\n",
    "The figures below show the effects of a permanent increase in productivity growth $ \\mu $ from 1.02 to 1.025 at t=10.\n",
    "\n",
    "They now measure $ c $ and $ k $ in effective units of labor."
   ]
  },
  {
   "cell_type": "code",
   "execution_count": null,
   "id": "a7530cc8",
   "metadata": {
    "hide-output": false
   },
   "outputs": [],
   "source": [
    "shocks = {\n",
    "    'g': np.repeat(0.2, S + 1),\n",
    "    'τ_c': np.repeat(0.0, S + 1),\n",
    "    'τ_k': np.repeat(0.0, S + 1),\n",
    "    'μ': np.concatenate((np.repeat(1.02, 10), np.repeat(1.025, S - 9)))\n",
    "}\n",
    "\n",
    "A_path = compute_A_path(1.0, shocks, S)\n",
    "\n",
    "k_ss_initial, c_ss_initial = steady_states(model, \n",
    "                                         shocks['g'][0],\n",
    "                                         shocks['τ_k'][0],\n",
    "                                         shocks['μ'][0]\n",
    "                                        )\n",
    "\n",
    "print(f\"Steady-state capital: {k_ss_initial:.4f}\")\n",
    "print(f\"Steady-state consumption: {c_ss_initial:.4f}\")\n",
    "\n",
    "# Run the shooting algorithm with the A_path parameter\n",
    "solution = run_shooting(shocks, S, model, A_path)\n",
    "\n",
    "fig, axes = plt.subplots(2, 3, figsize=(10, 8))\n",
    "axes = axes.flatten()\n",
    "\n",
    "plot_results(solution, k_ss_initial, \n",
    "             c_ss_initial, shocks, 'μ', axes, model, \n",
    "             A_path, T=40)\n",
    "\n",
    "for ax in axes[5:]:\n",
    "    fig.delaxes(ax)\n",
    "\n",
    "plt.tight_layout()\n",
    "plt.show()"
   ]
  },
  {
   "cell_type": "markdown",
   "id": "7725d91e",
   "metadata": {},
   "source": [
    "The results in the figures are mainly driven by [(49.29)](#equation-eq-diff-mod-st)\n",
    "and imply that a permanent increase in\n",
    "$ \\mu $ will lead to a decrease in the steady-state value of capital per unit of effective\n",
    "labor.\n",
    "\n",
    "The figures indicate the following:\n",
    "\n",
    "- As capital becomes more efficient, even with less of it, consumption per\n",
    "  capita can be raised.  \n",
    "- Consumption smoothing drives an *immediate jump in consumption* in anticipation of the increase in $ \\mu $.  \n",
    "- The increased productivity of capital leads to an increase in the gross return\n",
    "  $ \\bar R $.  \n",
    "- Perfect foresight makes the effects of the increase in the growth of capital\n",
    "  precede it, with the effect visible at $ t=0 $.  "
   ]
  },
  {
   "cell_type": "markdown",
   "id": "d24ec231",
   "metadata": {},
   "source": [
    "#### Experiment 2: An unforeseen increase in $ \\mu $ from 1.02 to 1.025 at t=0\n",
    "\n",
    "The figures below show the effects of an immediate jump in $ \\mu $ to 1.025 at t=0."
   ]
  },
  {
   "cell_type": "code",
   "execution_count": null,
   "id": "ecf88e9c",
   "metadata": {
    "hide-output": false
   },
   "outputs": [],
   "source": [
    "shocks = {\n",
    "    'g': np.repeat(0.2, S + 1),\n",
    "    'τ_c': np.repeat(0.0, S + 1),\n",
    "    'τ_k': np.repeat(0.0, S + 1),\n",
    "    'μ': np.concatenate((np.repeat(1.02, 1), np.repeat(1.025, S)))\n",
    "}\n",
    "\n",
    "A_path = compute_A_path(1.0, shocks, S)\n",
    "\n",
    "k_ss_initial, c_ss_initial = steady_states(model, \n",
    "                                           shocks['g'][0],\n",
    "                                           shocks['τ_k'][0],\n",
    "                                           shocks['μ'][0]\n",
    "                                          )\n",
    "\n",
    "print(f\"Steady-state capital: {k_ss_initial:.4f}\")\n",
    "print(f\"Steady-state consumption: {c_ss_initial:.4f}\")\n",
    "\n",
    "# Run the shooting algorithm with the A_path parameter\n",
    "solution = run_shooting(shocks, S, model, A_path)\n",
    "\n",
    "fig, axes = plt.subplots(2, 3, figsize=(10, 8))\n",
    "axes = axes.flatten()\n",
    "\n",
    "plot_results(solution, k_ss_initial, \n",
    "             c_ss_initial, shocks, 'μ', axes, model, A_path, T=40)\n",
    "\n",
    "for ax in axes[5:]:\n",
    "    fig.delaxes(ax)\n",
    "\n",
    "plt.tight_layout()\n",
    "plt.show()"
   ]
  },
  {
   "cell_type": "markdown",
   "id": "23907337",
   "metadata": {},
   "source": [
    "Again, we can collect the procedures used above into a function that runs the solver and draws plots for a given experiment."
   ]
  },
  {
   "cell_type": "code",
   "execution_count": null,
   "id": "0f93620b",
   "metadata": {
    "hide-output": false
   },
   "outputs": [],
   "source": [
    "def experiment_model(shocks, S, model, A_path, solver, plot_func, policy_shock, T=40):\n",
    "    \"\"\"\n",
    "    Run the shooting algorithm given a model and plot the results.\n",
    "    \"\"\"\n",
    "    k0, c0 = steady_states(model, shocks['g'][0], shocks['τ_k'][0], shocks['μ'][0])\n",
    "    \n",
    "    print(f\"Steady-state capital: {k0:.4f}\")\n",
    "    print(f\"Steady-state consumption: {c0:.4f}\")\n",
    "    print('-'*64)\n",
    "    \n",
    "    fig, axes = plt.subplots(2, 3, figsize=(10, 8))\n",
    "    axes = axes.flatten()\n",
    "\n",
    "    solution = solver(shocks, S, model, A_path)\n",
    "    plot_func(solution, k0, c0, \n",
    "              shocks, policy_shock, axes, model, A_path, T=T)\n",
    "\n",
    "    for ax in axes[5:]:\n",
    "        fig.delaxes(ax)\n",
    "\n",
    "    plt.tight_layout()\n",
    "    plt.show()"
   ]
  },
  {
   "cell_type": "code",
   "execution_count": null,
   "id": "f55f4c04",
   "metadata": {
    "hide-output": false
   },
   "outputs": [],
   "source": [
    "shocks = {\n",
    "    'g': np.repeat(0.2, S + 1),\n",
    "    'τ_c': np.repeat(0.0, S + 1),\n",
    "    'τ_k': np.repeat(0.0, S + 1),\n",
    "    'μ': np.concatenate((np.repeat(1.02, 1), np.repeat(1.025, S)))\n",
    "}\n",
    "\n",
    "experiment_model(shocks, S, model, A_path, run_shooting, plot_results, 'μ')"
   ]
  },
  {
   "cell_type": "markdown",
   "id": "c377c195",
   "metadata": {},
   "source": [
    "The figures show that:\n",
    "\n",
    "- The paths of all variables are now smooth due to the absence of feedforward effects.  \n",
    "- Capital per effective unit of labor gradually declines to a lower steady-state level.  \n",
    "- Consumption per effective unit of labor jumps immediately and then declines smoothly toward its lower steady-state value.  \n",
    "- The after-tax gross return $ \\bar{R} $ once again co-moves with the consumption growth rate, verifying the Euler equation [(49.29)](#equation-eq-diff-mod-st).  "
   ]
  },
  {
   "cell_type": "markdown",
   "id": "d77d557e",
   "metadata": {},
   "source": [
    "#### Exercise 49.3\n",
    "\n",
    "Replicate the plots of our two experiments using the second method of residual minimization:\n",
    "\n",
    "1. A foreseen increase in $ \\mu $ from 1.02 to 1.025\\$ at t=10  \n",
    "1. An unforeseen increase in $ \\mu $ from 1.02 to 1.025\\$ at t=0  "
   ]
  },
  {
   "cell_type": "markdown",
   "id": "1990fdd7",
   "metadata": {},
   "source": [
    "#### Solution to[ Exercise 49.3](https://python.quantecon.org/#cass_fiscal_ex3)\n",
    "\n",
    "Here is one solution:\n",
    "\n",
    "**Experiment 1:  A foreseen increase in $ \\mu $ from 1.02 to 1.025 at $ t=10 $**"
   ]
  },
  {
   "cell_type": "code",
   "execution_count": null,
   "id": "171f54f2",
   "metadata": {
    "hide-output": false
   },
   "outputs": [],
   "source": [
    "shocks = {\n",
    "    'g': np.repeat(0.2, S + 1),\n",
    "    'τ_c': np.repeat(0.0, S + 1),\n",
    "    'τ_k': np.repeat(0.0, S + 1),\n",
    "    'μ': np.concatenate((np.repeat(1.02, 10), np.repeat(1.025, S - 9)))\n",
    "}\n",
    "\n",
    "A_path = compute_A_path(1.0, shocks, S)\n",
    "\n",
    "experiment_model(shocks, S, model, A_path, run_min, plot_results, 'μ')"
   ]
  },
  {
   "cell_type": "markdown",
   "id": "cbb3dc4a",
   "metadata": {},
   "source": [
    "**Experiment 2:  An unforeseen increase in $ \\mu $ from 1.02 to 1.025 at $ t=0 $**"
   ]
  },
  {
   "cell_type": "code",
   "execution_count": null,
   "id": "ff041cec",
   "metadata": {
    "hide-output": false
   },
   "outputs": [],
   "source": [
    "shocks = {\n",
    "    'g': np.repeat(0.2, S + 1),\n",
    "    'τ_c': np.repeat(0.0, S + 1),\n",
    "    'τ_k': np.repeat(0.0, S + 1),\n",
    "    'μ': np.concatenate((np.repeat(1.02, 1), np.repeat(1.025, S)))\n",
    "}\n",
    "\n",
    "experiment_model(shocks, S, model, A_path, run_min, plot_results, 'μ')"
   ]
  },
  {
   "cell_type": "markdown",
   "id": "e84996d0",
   "metadata": {},
   "source": [
    "In this this sequel [Two-Country Model with Distorting Taxes](https://python.quantecon.org/cass_fiscal_2.html), we  study a two-country version of our one-country model  that is closely related to  Mendoza and Tesar [[1998](https://python.quantecon.org/zreferences.html#id6)]."
   ]
  }
 ],
 "metadata": {
  "date": 1753917520.6596498,
  "filename": "cass_fiscal.md",
  "kernelspec": {
   "display_name": "Python",
   "language": "python3",
   "name": "python3"
  },
  "title": "Cass-Koopmans Model with Distorting Taxes"
 },
 "nbformat": 4,
 "nbformat_minor": 5
}