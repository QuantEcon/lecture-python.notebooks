{
 "cells": [
  {
   "cell_type": "markdown",
   "id": "82bec43f",
   "metadata": {},
   "source": [
    "# A Long-Lived, Heterogeneous Agent, Overlapping Generations Model\n",
    "\n",
    "In addition to what’s in Anaconda, this lecture will need the following library"
   ]
  },
  {
   "cell_type": "code",
   "execution_count": null,
   "id": "936bf895",
   "metadata": {
    "hide-output": false
   },
   "outputs": [],
   "source": [
    "!pip install jax"
   ]
  },
  {
   "cell_type": "markdown",
   "id": "d5a0d017",
   "metadata": {},
   "source": [
    "## Overview\n",
    "\n",
    "This lecture describes an  overlapping generations model with these features:\n",
    "\n",
    "- A competitive equilibrium with incomplete markets determines prices and quantities  \n",
    "- Agents live many periods as in   [[Auerbach and Kotlikoff, 1987](https://python.quantecon.org/zreferences.html#id268)]  \n",
    "- Agents receive idiosyncratic labor productivity shocks that cannot be fully insured as in  [[Aiyagari, 1994](https://python.quantecon.org/zreferences.html#id149)]  \n",
    "- Government fiscal policy instruments include tax rates, debt, and transfers as in chapter 2 of [[Auerbach and Kotlikoff, 1987](https://python.quantecon.org/zreferences.html#id268)] and [Transitions in an Overlapping Generations Model](https://python.quantecon.org/ak2.html)  \n",
    "- Among other equilibrium objects, a competitive equilibrium determines a sequence of cross-section densities of heterogeneous agents’ consumptions, labor incomes, and savings  \n",
    "\n",
    "\n",
    "We use the model to study:\n",
    "\n",
    "- How fiscal policies affect different generations  \n",
    "- How market incompleteness promotes precautionary savings  \n",
    "- How life-cycle savings and buffer-stock savings motives interact  \n",
    "- How fiscal policies  redistribute resources across and within generations  \n",
    "\n",
    "\n",
    "As prerequisites for this lecture, we recommend two quantecon lectures:\n",
    "\n",
    "1. [Discrete State Dynamic Programming](https://python-advanced.quantecon.org/discrete_dp.html)  \n",
    "1. [Transitions in an Overlapping Generations Model](https://python.quantecon.org/ak2.html)  \n",
    "\n",
    "\n",
    "as well as the optional reading [The Aiyagari Model](https://python.quantecon.org/aiyagari.html)\n",
    "\n",
    "As usual, let’s start by importing some Python modules"
   ]
  },
  {
   "cell_type": "code",
   "execution_count": null,
   "id": "014937e2",
   "metadata": {
    "hide-output": false
   },
   "outputs": [],
   "source": [
    "from collections import namedtuple\n",
    "import numpy as np\n",
    "import matplotlib.pyplot as plt\n",
    "import jax.numpy as jnp\n",
    "import jax.scipy as jsp\n",
    "import jax"
   ]
  },
  {
   "cell_type": "markdown",
   "id": "e4a56554",
   "metadata": {},
   "source": [
    "## Environment\n",
    "\n",
    "We start by introducing the economic environment we are operating in."
   ]
  },
  {
   "cell_type": "markdown",
   "id": "55200c48",
   "metadata": {},
   "source": [
    "### Demographics and time\n",
    "\n",
    "We work in discrete time indexed by $ t = 0, 1, 2, ... $.\n",
    "\n",
    "Each agent lives for $ J = 50 $ periods and faces no mortality risk.\n",
    "\n",
    "We index age by $ j = 0, 1, ..., 49 $, and the population size remains fixed at $ 1/J $."
   ]
  },
  {
   "cell_type": "markdown",
   "id": "f92298fb",
   "metadata": {},
   "source": [
    "### Individuals’ state variables\n",
    "\n",
    "Each agent $ i $ of age $ j $ at time $ t $ is characterized by two state variables: asset holdings $ a_{i,j,t} $ and idiosyncratic labor productivity $ \\gamma_{i,j,t} $.\n",
    "\n",
    "The idiosyncratic labor productivity process follows a two-state Markov chain that takes values $ \\gamma_l $ and $ \\gamma_h $ with transition matrix $ \\Pi $.\n",
    "\n",
    "Newborn agents begin with an initial distribution $ \\pi = [0.5, 0.5] $ over these productivity states."
   ]
  },
  {
   "cell_type": "markdown",
   "id": "7255237f",
   "metadata": {},
   "source": [
    "### Labor supply\n",
    "\n",
    "An agent with productivity $ \\gamma_{i,j,t} $ supplies $ l(j)\\gamma_{i,j,t} $ efficiency units of labor.\n",
    "\n",
    "$ l(j) $ is a deterministic age-specific labor efficiency units profile.\n",
    "\n",
    "An agent’s effective labor supply depends on a life-cycle efficiency profile and an idiosyncratic stochastic process."
   ]
  },
  {
   "cell_type": "markdown",
   "id": "5e6c3473",
   "metadata": {},
   "source": [
    "### Initial conditions\n",
    "\n",
    "Newborns start with zero assets $ a_{i,0,t} = 0 $.\n",
    "\n",
    "Initial idiosyncratic productivities are drawn from distribution $ \\pi $.\n",
    "\n",
    "Agents leave no bequests and have  terminal value function $ V_J(a) = 0 $."
   ]
  },
  {
   "cell_type": "markdown",
   "id": "3003b5bf",
   "metadata": {},
   "source": [
    "## Production\n",
    "\n",
    "A representative firm operates a constant returns to scale Cobb-Douglas production:\n",
    "\n",
    "$$\n",
    "Y_t = Z_t K_t^\\alpha L_t^{1-\\alpha}\n",
    "$$\n",
    "\n",
    "where:\n",
    "\n",
    "- $ K_t $ is aggregate capital  \n",
    "- $ L_t $ is aggregate efficiency units of  labor  \n",
    "- $ Z_t $ is total factor productivity  \n",
    "- $ \\alpha $ is the capital share  "
   ]
  },
  {
   "cell_type": "markdown",
   "id": "37d52d1f",
   "metadata": {},
   "source": [
    "## Government\n",
    "\n",
    "The government follows a fiscal policy that includes debt, taxes, transfers, and government spending.\n",
    "\n",
    "The government issues one-period debt $ D_t $ to finance its operations and collects revenues through a flat-rate tax $ \\tau_t $ on both labor and capital income.\n",
    "\n",
    "The government also implements age-specific lump-sum taxes or transfers $ \\delta_{j,t} $ that can redistribute resources across different age groups.\n",
    "\n",
    "Additionally, it makes government purchases $ G_t $ for public goods and services.\n",
    "\n",
    "The government budget constraint at time $ t $ is\n",
    "\n",
    "$$\n",
    "D_{t+1} - D_t = r_t D_t + G_t - T_t\n",
    "$$\n",
    "\n",
    "where total tax revenues $ T_t $ satisfy\n",
    "\n",
    "$$\n",
    "T_t = \\tau_t w_t L_t + \\tau_t r_t(D_t + K_t) + \\sum_j \\delta_{j,t}\n",
    "$$"
   ]
  },
  {
   "cell_type": "markdown",
   "id": "5341e80f",
   "metadata": {},
   "source": [
    "## Activities in factor markets\n",
    "\n",
    "At each time $ t \\geq 0 $, agents supply labor and capital."
   ]
  },
  {
   "cell_type": "markdown",
   "id": "92515944",
   "metadata": {},
   "source": [
    "### Age-specific labor supplies\n",
    "\n",
    "Agents of age $ j \\in \\{0,1,...,J-1\\} $ supply labor according to:\n",
    "\n",
    "- Their deterministic age-efficiency profile $ l(j) $  \n",
    "- Their current idiosyncratic productivity shock $ \\gamma_{i,j,t} $  \n",
    "\n",
    "\n",
    "Each agent supplies $ l(j)\\gamma_{i,j,t} $ effective units of labor and earns a competitive wage $ w_t $ per effective unit, subject to a flat tax rate $ \\tau_t $ on labor earnings."
   ]
  },
  {
   "cell_type": "markdown",
   "id": "a7e3974e",
   "metadata": {},
   "source": [
    "### Asset market participation\n",
    "\n",
    "Summarizing activities in the asset market, all agents, regardless of age $ j \\in \\{0,1,...,J-1\\} $, can:\n",
    "\n",
    "- Hold assets $ a_{i,j,t} $ (subject to borrowing constraints)  \n",
    "- Earn a risk-free one-period return $ r_t $ on savings  \n",
    "- Pay capital income taxes at flat rate $ \\tau_t $  \n",
    "- Receive or pay age-specific transfers $ \\delta_{j,t} $  "
   ]
  },
  {
   "cell_type": "markdown",
   "id": "80b7601b",
   "metadata": {},
   "source": [
    "### Key features\n",
    "\n",
    "*Lifecycle patterns* shape economic behavior across ages:\n",
    "\n",
    "- Labor productivity varies systematically with age according to the profile $ l(j) $, while asset holdings typically follow a lifecycle pattern of accumulation during working years and decumulation during retirement.  \n",
    "- Age-specific fiscal transfers $ \\delta_{j,t} $ redistribute resources across generations.  \n",
    "\n",
    "\n",
    "*Within-cohort heterogeneity* creates dispersion among agents of the same age:\n",
    "\n",
    "- Agents of the same age differ in their asset holdings $ a_{i,j,t} $ due to different histories of idiosyncratic productivity shocks, their current productivities $ \\gamma_{i,j,t} $, and consequently their labor incomes and financial wealth.  \n",
    "\n",
    "\n",
    "*Cross-cohort interactions* determine equilibrium outcomes through market aggregation:\n",
    "\n",
    "- All cohorts participate together in factor markets, with asset supplies from all cohorts determining aggregate capital and effective labor supplies from all cohorts determining aggregate labor.  \n",
    "- Equilibrium prices reflect both lifecycle and redistributive forces.  "
   ]
  },
  {
   "cell_type": "markdown",
   "id": "66b27514",
   "metadata": {},
   "source": [
    "## Representative firm’s problem\n",
    "\n",
    "A representative firm chooses capital and effective labor to maximize profits\n",
    "\n",
    "$$\n",
    "\\max_{K,L} Z_t K_t^\\alpha L_t^{1-\\alpha} - r_t K_t - w_t L_t\n",
    "$$\n",
    "\n",
    "First-order necessary conditions imply that\n",
    "\n",
    "$$\n",
    "w_t = (1-\\alpha)Z_t(K_t/L_t)^\\alpha\n",
    "$$\n",
    "\n",
    "and\n",
    "\n",
    "$$\n",
    "r_t = \\alpha Z_t(K_t/L_t)^{\\alpha-1}\n",
    "$$"
   ]
  },
  {
   "cell_type": "markdown",
   "id": "4bfdbdb5",
   "metadata": {},
   "source": [
    "## Households’ problems\n",
    "\n",
    "A household’s value function satisfies a Bellman equation\n",
    "\n",
    "$$\n",
    "V_{j,t}(a, \\gamma) = \\max_{c,a'} \\{u(c) + \\beta\\mathbb{E}[V_{j+1,t+1}(a', \\gamma')]\\}\n",
    "$$\n",
    "\n",
    "where maximization is subject to\n",
    "\n",
    "$$\n",
    "c + a' = (1 + r_t(1-\\tau_t))a + (1-\\tau_t)w_t l(j)\\gamma - \\delta_{j,t}\n",
    "$$\n",
    "\n",
    "$$\n",
    "c \\geq 0\n",
    "$$\n",
    "\n",
    "and a terminal condition\n",
    "$ V_{J,t}(a, \\gamma) = 0 $"
   ]
  },
  {
   "cell_type": "markdown",
   "id": "c719c09e",
   "metadata": {},
   "source": [
    "## Population dynamics\n",
    "\n",
    "The joint probability density function $ \\mu_{j,t}(a,\\gamma) $ of asset holdings and idiosyncratic labor productivity evolves according to\n",
    "\n",
    "- For newborns $ (j=0) $:  \n",
    "\n",
    "\n",
    "$$\n",
    "\\mu_{0,t+1}(a',\\gamma') =\\begin{cases}\n",
    "\\pi(\\gamma') &\\text{ if }a'=0\\text{, }\\\\\n",
    "\t\t    0, & \\text{otherwise}\n",
    "\t\t \\end{cases}\n",
    "$$\n",
    "\n",
    "- For other cohorts:  \n",
    "  $$\n",
    "  \\mu_{j+1,t+1}(a',\\gamma') = \\int {\\bf 1}_{\\sigma_{j,t}(a,\\gamma)=a'}\\Pi(\\gamma,\\gamma')\\mu_{j,t}(a,\\gamma)d(a,\\gamma)\n",
    "  $$\n",
    "\n",
    "\n",
    "where $ \\sigma_{j,t}(a,\\gamma) $ is the optimal saving policy function."
   ]
  },
  {
   "cell_type": "markdown",
   "id": "d86fd4ef",
   "metadata": {},
   "source": [
    "## Equilibrium\n",
    "\n",
    "An equilibrium consists of:\n",
    "\n",
    "- Value functions $ V_{j,t} $  \n",
    "- Policy functions $ \\sigma_{j,t} $  \n",
    "- Joint probability distributions $ \\mu_{j,t} $  \n",
    "- Prices $ r_t, w_t $  \n",
    "- Government policies $ \\tau_t, D_t, \\delta_{j,t}, G_t $  \n",
    "\n",
    "\n",
    "that satisfy the following conditions\n",
    "\n",
    "- Given prices and government policies, value and policy functions solve  households’ problems  \n",
    "- Given prices, the representative firm maximizes profits  \n",
    "- Government budget constraints are satisfied  \n",
    "- Markets clear:  \n",
    "  - Asset market: $ K_t = \\sum_j \\int a \\mu_{j,t}(a,\\gamma)d(a,\\gamma) - D_t $  \n",
    "  - Labor market: $ L_t = \\sum_j \\int l(j)\\gamma \\mu_{j,t}(a,\\gamma)d(a,\\gamma) $  \n",
    "\n",
    "\n",
    "Relative to the  model presented in [Transitions in an Overlapping Generations Model](https://python.quantecon.org/ak2.html), the present  model adds\n",
    "\n",
    "- Heterogeneity within generations due to productivity shocks  \n",
    "- A precautionary savings motive  \n",
    "- More re-distributional effects  \n",
    "- More complicated transition dynamics  "
   ]
  },
  {
   "cell_type": "markdown",
   "id": "4ec40939",
   "metadata": {},
   "source": [
    "## Implementation\n",
    "\n",
    "Using tools in  [Discrete State Dynamic Programming](https://python-advanced.quantecon.org/discrete_dp.html), we solve our model by combining value function iteration with equilibrium price determination.\n",
    "\n",
    "A sensible  approach is  to nest a discrete DP solver inside an outer loop that searches for market-clearing prices.\n",
    "\n",
    "For a candidate sequence  of prices interest rates $ r_t $ and wages $ w_t $, we can solve individual households’ dynamic programming problems using either value function iteration or policy iteration to obtain optimal policy functions.\n",
    "\n",
    "We then deduce associated stationary joint probability distributions of asset holdings and idiosyncratic labor efficiency units for each age cohort.\n",
    "\n",
    "This will give us an aggregate capital supply (from household savings) and a labor supply (from the age-efficiency profile and productivity shocks).\n",
    "\n",
    "We can then compare these with capital and labor demand from firms, compute deviations between factor market supplies and demands, then  update  price guesses until we find market-clearing prices.\n",
    "\n",
    "To construct transition dynamics, we can compute sequences of time-varying prices by using *backward induction* to compute value and policy functions, and *forward iteration* for the distributions of agents across states:\n",
    "\n",
    "1. Outer loop (market clearing)  \n",
    "  - Guess initial prices ($ r_t, w_t $)  \n",
    "  - Iterate until asset and labor markets clear  \n",
    "  - Use firms’ first-order necessary conditions to update prices  \n",
    "1. Inner loop (individual dynamic programming)  \n",
    "  - For each age cohort:  \n",
    "    - Discretize asset and productivity state space  \n",
    "    - Use value function iteration or policy iteration  \n",
    "    - Solve for optimal savings policies  \n",
    "    - Compute stationary distributions  \n",
    "1. Aggregation  \n",
    "  - Sum across individual states within each cohort  \n",
    "  - Sum across cohorts both  \n",
    "    - Aggregate capital supply, and  \n",
    "    - Aggregate effective labor supply  \n",
    "  - Take into account  population weights $ 1/J $  \n",
    "1. Transition dynamics  \n",
    "  - Backward induction:  \n",
    "    - Start from final steady state  \n",
    "    - Solve sequence of value functions  \n",
    "  - Forward iteration:  \n",
    "    - Start from initial distribution  \n",
    "    - Track cohort distributions over time  \n",
    "  - Market clearing in each period:  \n",
    "    - Solve for price sequences  \n",
    "    - Update until all markets clear in all periods  \n",
    "\n",
    "\n",
    "We  start coding by defining helper functions that describe preferences, firms, and  government budget constraints."
   ]
  },
  {
   "cell_type": "code",
   "execution_count": null,
   "id": "637cb513",
   "metadata": {
    "hide-output": false
   },
   "outputs": [],
   "source": [
    "ϕ, k_bar = 0., 0.\n",
    "\n",
    "@jax.jit\n",
    "def V_bar(a):\n",
    "    \"Terminal value function depending on the asset holding.\"\n",
    "\n",
    "    return - ϕ * (a - k_bar) ** 2"
   ]
  },
  {
   "cell_type": "code",
   "execution_count": null,
   "id": "9245fee7",
   "metadata": {
    "hide-output": false
   },
   "outputs": [],
   "source": [
    "ν = 0.5\n",
    "\n",
    "@jax.jit\n",
    "def u(c):\n",
    "    \"Utility from consumption.\"\n",
    "\n",
    "    return c ** (1 - ν) / (1 - ν)\n",
    "\n",
    "l1, l2, l3 = 0.5, 0.05, -0.0008\n",
    "\n",
    "@jax.jit\n",
    "def l(j):\n",
    "    \"Age-specific wage profile.\"\n",
    "\n",
    "    return l1 + l2 * j + l3 * j ** 2"
   ]
  },
  {
   "cell_type": "markdown",
   "id": "ecc7ea79",
   "metadata": {},
   "source": [
    "Let’s define a `Firm` namedtuple that contains parameters governing the production technology."
   ]
  },
  {
   "cell_type": "code",
   "execution_count": null,
   "id": "6525e421",
   "metadata": {
    "hide-output": false
   },
   "outputs": [],
   "source": [
    "Firm = namedtuple(\"Firm\", (\"α\", \"Z\"))\n",
    "\n",
    "def create_firm(α=0.3, Z=1):\n",
    "\n",
    "    return Firm(α=α, Z=Z)"
   ]
  },
  {
   "cell_type": "code",
   "execution_count": null,
   "id": "f30ac052",
   "metadata": {
    "hide-output": false
   },
   "outputs": [],
   "source": [
    "firm = create_firm()"
   ]
  },
  {
   "cell_type": "markdown",
   "id": "e4bf2051",
   "metadata": {},
   "source": [
    "The following helper functions link aggregates ($ K, L $) and prices ($ w, r $) that emerge from the representative firm’s first-order necessary conditions."
   ]
  },
  {
   "cell_type": "code",
   "execution_count": null,
   "id": "193b00bd",
   "metadata": {
    "hide-output": false
   },
   "outputs": [],
   "source": [
    "@jax.jit\n",
    "def KL_to_r(K, L, firm):\n",
    "\n",
    "    α, Z = firm\n",
    "\n",
    "    return Z * α * (K / L) ** (α - 1)\n",
    "\n",
    "@jax.jit\n",
    "def KL_to_w(K, L, firm):\n",
    "\n",
    "    α, Z = firm\n",
    "\n",
    "    return Z * (1 - α) * (K / L) ** α"
   ]
  },
  {
   "cell_type": "markdown",
   "id": "f4445386",
   "metadata": {},
   "source": [
    "We use a function `find_τ` to find flat tax rates that balance the government budget constraint given other policy variables that include debt levels, government spending, and transfers."
   ]
  },
  {
   "cell_type": "code",
   "execution_count": null,
   "id": "be71a8bd",
   "metadata": {
    "hide-output": false
   },
   "outputs": [],
   "source": [
    "@jax.jit\n",
    "def find_τ(policy, price, aggs):\n",
    "\n",
    "    D, D_next, G, δ = policy\n",
    "    r, w = price\n",
    "    K, L = aggs\n",
    "\n",
    "    num = r * D + G - D_next + D - δ.sum(axis=-1)\n",
    "    denom = w * L + r * (D + K)\n",
    "\n",
    "    return num / denom"
   ]
  },
  {
   "cell_type": "markdown",
   "id": "b5ec47ee",
   "metadata": {},
   "source": [
    "We use a namedtuple `Household` to store parameters that characterize households’ problems."
   ]
  },
  {
   "cell_type": "code",
   "execution_count": null,
   "id": "7543a7f8",
   "metadata": {
    "hide-output": false
   },
   "outputs": [],
   "source": [
    "Household = namedtuple(\"Household\", (\"j_grid\", \"a_grid\", \"γ_grid\",\n",
    "                                     \"Π\", \"β\", \"init_μ\", \"VJ\"))\n",
    "\n",
    "def create_household(\n",
    "        a_min=0., a_max=10, a_size=200,\n",
    "        Π=[[0.9, 0.1], [0.1, 0.9]],\n",
    "        γ_grid=[0.5, 1.5],\n",
    "        β=0.96, J=50\n",
    "    ):\n",
    "\n",
    "    j_grid = jnp.arange(J)\n",
    "\n",
    "    a_grid = jnp.linspace(a_min, a_max, a_size)\n",
    "\n",
    "    γ_grid, Π = map(jnp.array, (γ_grid, Π))\n",
    "    γ_size = len(γ_grid)\n",
    "\n",
    "    # Population distribution of new borns\n",
    "    init_μ = jnp.zeros((a_size * γ_size))\n",
    "\n",
    "    # Newborns are endowed with zero asset\n",
    "    # and equal probability of γ\n",
    "    init_μ = init_μ.at[:γ_size].set(1 / γ_size)\n",
    "\n",
    "    # Terminal value V_bar(a)\n",
    "    VJ = jnp.empty(a_size * γ_size)\n",
    "    for a_i in range(a_size):\n",
    "        a = a_grid[a_i]\n",
    "        VJ = VJ.at[a_i*γ_size:(a_i+1)*γ_size].set(V_bar(a))\n",
    "\n",
    "    return Household(j_grid=j_grid, a_grid=a_grid, γ_grid=γ_grid,\n",
    "                     Π=Π, β=β, init_μ=init_μ, VJ=VJ)"
   ]
  },
  {
   "cell_type": "code",
   "execution_count": null,
   "id": "4c2c9010",
   "metadata": {
    "hide-output": false
   },
   "outputs": [],
   "source": [
    "hh = create_household()"
   ]
  },
  {
   "cell_type": "markdown",
   "id": "1954a61b",
   "metadata": {},
   "source": [
    "We apply discrete state dynamic programming tools.\n",
    "\n",
    "Initial steps involve preparing rewards and transition matrices $ R $ and $ Q $ for our  discretized Bellman equations."
   ]
  },
  {
   "cell_type": "code",
   "execution_count": null,
   "id": "172daf03",
   "metadata": {
    "hide-output": false
   },
   "outputs": [],
   "source": [
    "@jax.jit\n",
    "def populate_Q(household):\n",
    "\n",
    "    j_grid, a_grid, γ_grid, Π, β, init_μ, VJ = household\n",
    "\n",
    "    num_state = a_grid.size * γ_grid.size\n",
    "    num_action = a_grid.size\n",
    "\n",
    "    Q = jsp.linalg.block_diag(*[Π]*a_grid.size)\n",
    "    Q = Q.reshape((num_state, num_action, γ_grid.size))\n",
    "    Q = jnp.tile(Q, a_grid.size).T\n",
    "\n",
    "    return Q\n",
    "\n",
    "@jax.jit\n",
    "def populate_R(j, r, w, τ, δ, household):\n",
    "\n",
    "    j_grid, a_grid, γ_grid, Π, β, init_μ, VJ = household\n",
    "\n",
    "    num_state = a_grid.size * γ_grid.size\n",
    "    num_action = a_grid.size\n",
    "\n",
    "    a = jnp.reshape(a_grid, (a_grid.size, 1, 1))\n",
    "    γ = jnp.reshape(γ_grid, (1, γ_grid.size, 1))\n",
    "    ap = jnp.reshape(a_grid, (1, 1, a_grid.size))\n",
    "    c = (1 + r*(1-τ)) * a + (1-τ) * w * l(j) * γ - δ[j] - ap\n",
    "\n",
    "    return jnp.reshape(jnp.where(c > 0, u(c), -jnp.inf),\n",
    "                      (num_state, num_action))"
   ]
  },
  {
   "cell_type": "markdown",
   "id": "8fffe1cf",
   "metadata": {},
   "source": [
    "## Computing a steady state\n",
    "\n",
    "We first compute a steady state.\n",
    "\n",
    "Given  guesses of prices and taxes, we can use backwards induction to solve for  value functions and optimal consumption and saving policies  at all  ages.\n",
    "\n",
    "The function `backwards_opt` solves for optimal values by applying the discretized bellman operator backwards.\n",
    "\n",
    "We use `jax.lax.scan` to facilitate sequential and recurrent computations efficiently."
   ]
  },
  {
   "cell_type": "code",
   "execution_count": null,
   "id": "9876f8c1",
   "metadata": {
    "hide-output": false
   },
   "outputs": [],
   "source": [
    "@jax.jit\n",
    "def backwards_opt(prices, taxes, household, Q):\n",
    "\n",
    "    r, w = prices\n",
    "    τ, δ = taxes\n",
    "\n",
    "    j_grid, a_grid, γ_grid, Π, β, init_μ, VJ = household\n",
    "    J = j_grid.size\n",
    "\n",
    "    num_state = a_grid.size * γ_grid.size\n",
    "    num_action = a_grid.size\n",
    "\n",
    "    def bellman_operator_j(V_next, j):\n",
    "        \"Solve household optimization problem at age j given Vj+1\"\n",
    "\n",
    "        Rj = populate_R(j, r, w, τ, δ, household)\n",
    "        vals = Rj + β * Q.dot(V_next)\n",
    "        σ_j = jnp.argmax(vals, axis=1)\n",
    "        V_j = vals[jnp.arange(num_state), σ_j]\n",
    "\n",
    "        return V_j, (V_j, σ_j)\n",
    "\n",
    "    js = jnp.arange(J-1, -1, -1)\n",
    "    init_V = VJ\n",
    "\n",
    "    # Iterate from age J to 1\n",
    "    _, outputs = jax.lax.scan(bellman_operator_j, init_V, js)\n",
    "    V, σ = outputs\n",
    "    V = V[::-1]\n",
    "    σ = σ[::-1]\n",
    "\n",
    "    return V, σ"
   ]
  },
  {
   "cell_type": "code",
   "execution_count": null,
   "id": "c39cdc1c",
   "metadata": {
    "hide-output": false
   },
   "outputs": [],
   "source": [
    "r, w = 0.05, 1\n",
    "τ, δ = 0.15, np.zeros(hh.j_grid.size)\n",
    "\n",
    "Q = populate_Q(hh)"
   ]
  },
  {
   "cell_type": "code",
   "execution_count": null,
   "id": "3598f437",
   "metadata": {
    "hide-output": false
   },
   "outputs": [],
   "source": [
    "V, σ = backwards_opt([r, w], [τ, δ], hh, Q)"
   ]
  },
  {
   "cell_type": "markdown",
   "id": "12332548",
   "metadata": {},
   "source": [
    "Let’s time the computation with `block_until_ready()` to ensure that all JAX operations are complete"
   ]
  },
  {
   "cell_type": "code",
   "execution_count": null,
   "id": "8613a8e6",
   "metadata": {
    "hide-output": false
   },
   "outputs": [],
   "source": [
    "%time backwards_opt([r, w], [τ, δ], hh, Q)[0].block_until_ready();"
   ]
  },
  {
   "cell_type": "markdown",
   "id": "bb121579",
   "metadata": {},
   "source": [
    "From the optimal consumption and saving choices by each cohort, we can compute a joint probability distribution of asset levels and idiosyncratic productivity levels in a steady state."
   ]
  },
  {
   "cell_type": "code",
   "execution_count": null,
   "id": "38304d73",
   "metadata": {
    "hide-output": false
   },
   "outputs": [],
   "source": [
    "@jax.jit\n",
    "def popu_dist(σ, household, Q):\n",
    "\n",
    "    j_grid, a_grid, γ_grid, Π, β, init_μ, VJ = household\n",
    "\n",
    "    J = hh.j_grid.size\n",
    "    num_state = hh.a_grid.size * hh.γ_grid.size\n",
    "\n",
    "    def update_popu_j(μ_j, j):\n",
    "        \"Update population distribution from age j to j+1\"\n",
    "\n",
    "        Qσ = Q[jnp.arange(num_state), σ[j]]\n",
    "        μ_next = μ_j @ Qσ\n",
    "\n",
    "        return μ_next, μ_next\n",
    "\n",
    "    js = jnp.arange(J-1)\n",
    "\n",
    "    # iterate from age 1 to J\n",
    "    _, μ = jax.lax.scan(update_popu_j, init_μ, js)\n",
    "    μ = jnp.concatenate([init_μ[jnp.newaxis], μ], axis=0)\n",
    "\n",
    "    return μ"
   ]
  },
  {
   "cell_type": "code",
   "execution_count": null,
   "id": "fc69d93c",
   "metadata": {
    "hide-output": false
   },
   "outputs": [],
   "source": [
    "μ = popu_dist(σ, hh, Q)"
   ]
  },
  {
   "cell_type": "markdown",
   "id": "45a419f7",
   "metadata": {},
   "source": [
    "Let’s time the computation"
   ]
  },
  {
   "cell_type": "code",
   "execution_count": null,
   "id": "d9a442c9",
   "metadata": {
    "hide-output": false
   },
   "outputs": [],
   "source": [
    "%time popu_dist(σ, hh, Q)[0].block_until_ready();"
   ]
  },
  {
   "cell_type": "markdown",
   "id": "8b464608",
   "metadata": {},
   "source": [
    "Below we plot the marginal  distribution of  savings for  each age group."
   ]
  },
  {
   "cell_type": "code",
   "execution_count": null,
   "id": "5342e765",
   "metadata": {
    "hide-output": false
   },
   "outputs": [],
   "source": [
    "for j in [0, 5, 20, 45, 49]:\n",
    "    plt.plot(hh.a_grid, jnp.sum(μ[j].reshape((hh.a_grid.size, hh.γ_grid.size)), axis=1), label=f'j={j}')\n",
    "\n",
    "plt.legend()\n",
    "plt.xlabel('a')\n",
    "\n",
    "plt.title(r'marginal distribution over a, $\\sum_\\gamma \\mu_j(a, \\gamma)$')\n",
    "plt.xlim([0, 8])\n",
    "plt.ylim([0, 0.1])\n",
    "\n",
    "plt.show()"
   ]
  },
  {
   "cell_type": "markdown",
   "id": "2de98043",
   "metadata": {},
   "source": [
    "These marginal distributions confirm that new agents enter the economy with no asset holdings.\n",
    "\n",
    "- the blue $ j=0 $ distribution has mass only at $ a=0 $.  \n",
    "\n",
    "\n",
    "As agents age, at first they gradually accumulate assets.\n",
    "\n",
    "- the orange $ j=5 $ distribution puts positive mass on positive but low asset levels  \n",
    "- the green $ j=20 $ distribution puts positive mass on a much wider range of asset levels.  \n",
    "- the red $ j=45 $ distribution is even wider  \n",
    "\n",
    "\n",
    "At a later   age, they gradually  deplete their asset holdings.\n",
    "\n",
    "- the purple $ j=49 $ distribution illustrates this  \n",
    "\n",
    "\n",
    "At the end of life, they will have drawn down all of their assets.\n",
    "\n",
    "Let’s now look at age-specific  optimal saving policies  that generate the preceding marginal\n",
    "distributions of assets at different ages.\n",
    "\n",
    "We’ll  plot  some saving functions with the following Python code."
   ]
  },
  {
   "cell_type": "code",
   "execution_count": null,
   "id": "8e470bd9",
   "metadata": {
    "hide-output": false
   },
   "outputs": [],
   "source": [
    "σ_reshaped = σ.reshape(hh.j_grid.size, hh.a_grid.size, hh.γ_grid.size)\n",
    "j_labels = [f'j={j}' for j in [0, 5, 20, 45, 49]]\n",
    "\n",
    "fig, axs = plt.subplots(1, 2, figsize=(14, 5))\n",
    "\n",
    "axs[0].plot(hh.a_grid, hh.a_grid[σ_reshaped[[0, 5, 20, 45, 49], :, 0].T])\n",
    "axs[0].plot(hh.a_grid, hh.a_grid, '--')\n",
    "axs[0].set_xlabel(\"$a_{j}$\")\n",
    "axs[0].set_ylabel(\"$a^*_{j+1}$\")\n",
    "axs[0].legend(j_labels+['45 degree line'])\n",
    "axs[0].set_title(r\"Optimal saving policy, low $\\gamma$\")\n",
    "\n",
    "axs[1].plot(hh.a_grid, hh.a_grid[σ_reshaped[[0, 5, 20, 45, 49], :, 1].T])\n",
    "axs[1].plot(hh.a_grid, hh.a_grid, '--')\n",
    "axs[1].set_xlabel(\"$a_{j}$\")\n",
    "axs[1].set_ylabel(\"$a^*_{j+1}$\")\n",
    "axs[1].legend(j_labels+['45 degree line'])\n",
    "axs[1].set_title(r\"Optimal saving policy, high $\\gamma$\")\n",
    "\n",
    "plt.show()"
   ]
  },
  {
   "cell_type": "markdown",
   "id": "aa9cbd0b",
   "metadata": {},
   "source": [
    "From an  implied stationary population distribution, we can compute the aggregate labor supply $ L $ and private savings $ A $."
   ]
  },
  {
   "cell_type": "code",
   "execution_count": null,
   "id": "6836df95",
   "metadata": {
    "hide-output": false
   },
   "outputs": [],
   "source": [
    "@jax.jit\n",
    "def compute_aggregates(μ, household):\n",
    "\n",
    "    j_grid, a_grid, γ_grid, Π, β, init_μ, VJ = household\n",
    "\n",
    "    J, a_size, γ_size = j_grid.size, a_grid.size, γ_grid.size\n",
    "\n",
    "    μ = μ.reshape((J, hh.a_grid.size, hh.γ_grid.size))\n",
    "\n",
    "    # Compute private savings\n",
    "    a = a_grid.reshape((1, a_size, 1))\n",
    "    A = (a * μ).sum() / J\n",
    "\n",
    "    γ = γ_grid.reshape((1, 1, γ_size))\n",
    "    lj = l(j_grid).reshape((J, 1, 1))\n",
    "    L = (lj * γ * μ).sum() / J\n",
    "\n",
    "    return A, L"
   ]
  },
  {
   "cell_type": "code",
   "execution_count": null,
   "id": "7a5aaf89",
   "metadata": {
    "hide-output": false
   },
   "outputs": [],
   "source": [
    "A, L = compute_aggregates(μ, hh)\n",
    "A, L"
   ]
  },
  {
   "cell_type": "markdown",
   "id": "9f6d35d7",
   "metadata": {},
   "source": [
    "The capital stock in this economy equals $ A-D $."
   ]
  },
  {
   "cell_type": "code",
   "execution_count": null,
   "id": "661b2a59",
   "metadata": {
    "hide-output": false
   },
   "outputs": [],
   "source": [
    "D = 0\n",
    "K = A - D"
   ]
  },
  {
   "cell_type": "markdown",
   "id": "0205d621",
   "metadata": {},
   "source": [
    "The firm’s optimality conditions imply  interest rate $ r $ and wage rate $ w $."
   ]
  },
  {
   "cell_type": "code",
   "execution_count": null,
   "id": "697d5860",
   "metadata": {
    "hide-output": false
   },
   "outputs": [],
   "source": [
    "KL_to_r(K, L, firm), KL_to_w(K, L, firm)"
   ]
  },
  {
   "cell_type": "markdown",
   "id": "4acb7df4",
   "metadata": {},
   "source": [
    "The implied prices $ (r,w) $ differ from our guesses, so we must update our guesses and iterate until we find a fixed point.\n",
    "\n",
    "This is our outer loop."
   ]
  },
  {
   "cell_type": "code",
   "execution_count": null,
   "id": "dffa34e4",
   "metadata": {
    "hide-output": false
   },
   "outputs": [],
   "source": [
    "@jax.jit\n",
    "def find_ss(household, firm, pol_target, Q, tol=1e-6, verbose=False):\n",
    "\n",
    "    j_grid, a_grid, γ_grid, Π, β, init_μ, VJ = household\n",
    "    J = j_grid.size\n",
    "    num_state = a_grid.size * γ_grid.size\n",
    "\n",
    "    D, G, δ = pol_target\n",
    "\n",
    "    # Initial guesses of prices\n",
    "    r, w = 0.05, 1.\n",
    "\n",
    "    # Initial guess of τ\n",
    "    τ = 0.15\n",
    "\n",
    "    def cond_fn(state):\n",
    "        \"The convergence criteria.\"\n",
    "\n",
    "        V, σ, μ, K, L, r, w, τ, D, G, δ, r_old, w_old = state\n",
    "\n",
    "        error = (r - r_old) ** 2 + (w - w_old) ** 2\n",
    "\n",
    "        return error > tol\n",
    "\n",
    "    def body_fn(state):\n",
    "        \"The main body of iteration.\"\n",
    "\n",
    "        V, σ, μ, K, L, r, w, τ, D, G, δ, r_old, w_old = state\n",
    "        r_old, w_old, τ_old = r, w, τ\n",
    "\n",
    "        # Household optimal decisions and values\n",
    "        V, σ = backwards_opt([r, w], [τ, δ], hh, Q)\n",
    "\n",
    "        # Compute the stationary distribution\n",
    "        μ = popu_dist(σ, hh, Q)\n",
    "\n",
    "        # Compute aggregates\n",
    "        A, L = compute_aggregates(μ, hh)\n",
    "        K = A - D\n",
    "\n",
    "        # Update prices\n",
    "        r, w = KL_to_r(K, L, firm), KL_to_w(K, L, firm)\n",
    "\n",
    "        # Find τ\n",
    "        D_next = D\n",
    "        τ = find_τ([D, D_next, G, δ],\n",
    "                   [r, w],\n",
    "                   [K, L])\n",
    "\n",
    "        r = (r + r_old) / 2\n",
    "        w = (w + w_old) / 2\n",
    "\n",
    "        return V, σ, μ, K, L, r, w, τ, D, G, δ, r_old, w_old\n",
    "\n",
    "    # Initial state\n",
    "    V = jnp.empty((J, num_state), dtype=float)\n",
    "    σ = jnp.empty((J, num_state), dtype=int)\n",
    "    μ = jnp.empty((J, num_state), dtype=float)\n",
    "\n",
    "    K, L = 1., 1.\n",
    "    initial_state = (V, σ, μ, K, L, r, w, τ, D, G, δ, r-1, w-1)\n",
    "    V, σ, μ, K, L, r, w, τ, D, G, δ, _, _ = jax.lax.while_loop(\n",
    "                                    cond_fn, body_fn, initial_state)\n",
    "\n",
    "    return V, σ, μ, K, L, r, w, τ, D, G, δ"
   ]
  },
  {
   "cell_type": "code",
   "execution_count": null,
   "id": "d8f8333f",
   "metadata": {
    "hide-output": false
   },
   "outputs": [],
   "source": [
    "ss1 = find_ss(hh, firm, [0, 0.1, np.zeros(hh.j_grid.size)], Q, verbose=True)"
   ]
  },
  {
   "cell_type": "markdown",
   "id": "4577d182",
   "metadata": {},
   "source": [
    "Let’s time the computation"
   ]
  },
  {
   "cell_type": "code",
   "execution_count": null,
   "id": "f12b91e9",
   "metadata": {
    "hide-output": false
   },
   "outputs": [],
   "source": [
    "%time find_ss(hh, firm, [0, 0.1, np.zeros(hh.j_grid.size)], Q)[0].block_until_ready();"
   ]
  },
  {
   "cell_type": "code",
   "execution_count": null,
   "id": "f5e9e7fe",
   "metadata": {
    "hide-output": false
   },
   "outputs": [],
   "source": [
    "hh_out_ss1 = ss1[:3]\n",
    "quant_ss1 = ss1[3:5]\n",
    "price_ss1 = ss1[5:7]\n",
    "policy_ss1 = ss1[7:11]"
   ]
  },
  {
   "cell_type": "code",
   "execution_count": null,
   "id": "93a15980",
   "metadata": {
    "hide-output": false
   },
   "outputs": [],
   "source": [
    "# V, σ, μ\n",
    "V_ss1, σ_ss1, μ_ss1 = hh_out_ss1"
   ]
  },
  {
   "cell_type": "code",
   "execution_count": null,
   "id": "9be89e8b",
   "metadata": {
    "hide-output": false
   },
   "outputs": [],
   "source": [
    "# K, L\n",
    "K_ss1, L_ss1 = quant_ss1\n",
    "\n",
    "K_ss1, L_ss1"
   ]
  },
  {
   "cell_type": "code",
   "execution_count": null,
   "id": "8fe86abc",
   "metadata": {
    "hide-output": false
   },
   "outputs": [],
   "source": [
    "# r, w\n",
    "r_ss1, w_ss1 = price_ss1\n",
    "\n",
    "r_ss1, w_ss1"
   ]
  },
  {
   "cell_type": "code",
   "execution_count": null,
   "id": "c758e559",
   "metadata": {
    "hide-output": false
   },
   "outputs": [],
   "source": [
    "# τ, D, G, δ\n",
    "τ_ss1, D_ss1, G_ss1, δ_ss1 = policy_ss1\n",
    "\n",
    "τ_ss1, D_ss1, G_ss1, δ_ss1"
   ]
  },
  {
   "cell_type": "markdown",
   "id": "809d684a",
   "metadata": {},
   "source": [
    "## Transition dynamics\n",
    "\n",
    "We compute transition dynamics using a function `path_iteration`.\n",
    "\n",
    "In an outer loop, we iterate over guesses of prices and taxes.\n",
    "\n",
    "In an inner loop, we  compute the optimal consumption and saving choices by each cohort $ j $ in each time $ t $, then find the implied  evolution of the joint distribution of assets and productivities.\n",
    "\n",
    "We then  update our  guesses of prices and taxes given the aggregate labor supply and capital stock in the economy.\n",
    "\n",
    "We use `solve_backwards` to solve for optimal saving choices given  price and tax sequences and `simulate_forward` to compute the  evolution of the joint distributions.\n",
    "\n",
    "We require two steady states as inputs: the initial steady state to provide the initial condition for `simulate_forward`, and the final steady state to provide continuation values for `solve_backwards`."
   ]
  },
  {
   "cell_type": "code",
   "execution_count": null,
   "id": "04278bea",
   "metadata": {
    "hide-output": false
   },
   "outputs": [],
   "source": [
    "@jax.jit\n",
    "def bellman_operator(prices, taxes, V_next, household, Q):\n",
    "\n",
    "    r, w = prices\n",
    "    τ, δ = taxes\n",
    "\n",
    "    j_grid, a_grid, γ_grid, Π, β, init_μ, VJ = household\n",
    "    J = j_grid.size\n",
    "\n",
    "    num_state = a_grid.size * γ_grid.size\n",
    "    num_action = a_grid.size\n",
    "\n",
    "    def bellman_operator_j(j):\n",
    "        Rj = populate_R(j, r, w, τ, δ, household)\n",
    "        vals = Rj + β * Q.dot(V_next[j+1])\n",
    "        σ_j = jnp.argmax(vals, axis=1)\n",
    "        V_j = vals[jnp.arange(num_state), σ_j]\n",
    "\n",
    "        return V_j, σ_j\n",
    "\n",
    "    V, σ = jax.vmap(bellman_operator_j, (0,))(jnp.arange(J-1))\n",
    "\n",
    "    # The last life stage\n",
    "    j = J-1\n",
    "    Rj = populate_R(j, r, w, τ, δ, household)\n",
    "    vals = Rj + β * Q.dot(VJ)\n",
    "    σ = jnp.concatenate([σ, jnp.argmax(vals, axis=1)[jnp.newaxis]])\n",
    "    V = jnp.concatenate([V, vals[jnp.arange(num_state), σ[j]][jnp.newaxis]])\n",
    "\n",
    "    return V, σ"
   ]
  },
  {
   "cell_type": "code",
   "execution_count": null,
   "id": "95623866",
   "metadata": {
    "hide-output": false
   },
   "outputs": [],
   "source": [
    "@jax.jit\n",
    "def solve_backwards(V_ss2, σ_ss2, household, firm, price_seq, pol_seq, Q):\n",
    "\n",
    "    j_grid, a_grid, γ_grid, Π, β, init_μ, VJ = household\n",
    "    J = j_grid.size\n",
    "    num_state = a_grid.size * γ_grid.size\n",
    "\n",
    "    τ_seq, D_seq, G_seq, δ_seq = pol_seq\n",
    "    r_seq, w_seq = price_seq\n",
    "\n",
    "    T = r_seq.size\n",
    "\n",
    "    def solve_backwards_t(V_next, t):\n",
    "\n",
    "        prices = (r_seq[t], w_seq[t])\n",
    "        taxes = (τ_seq[t], δ_seq[t])\n",
    "        V, σ = bellman_operator(prices, taxes, V_next, household, Q)\n",
    "\n",
    "        return V, (V,σ)\n",
    "\n",
    "    ts = jnp.arange(T-2, -1, -1)\n",
    "    init_V = V_ss2\n",
    "\n",
    "    _, outputs = jax.lax.scan(solve_backwards_t, init_V, ts)\n",
    "    V_seq, σ_seq = outputs\n",
    "    V_seq = V_seq[::-1]\n",
    "    σ_seq = σ_seq[::-1]\n",
    "\n",
    "    V_seq = jnp.concatenate([V_seq, V_ss2[jnp.newaxis]])\n",
    "    σ_seq = jnp.concatenate([σ_seq, σ_ss2[jnp.newaxis]])\n",
    "\n",
    "    return V_seq, σ_seq"
   ]
  },
  {
   "cell_type": "code",
   "execution_count": null,
   "id": "9dfa18a2",
   "metadata": {
    "hide-output": false
   },
   "outputs": [],
   "source": [
    "@jax.jit\n",
    "def population_evolution(σt, μt, household, Q):\n",
    "\n",
    "    j_grid, a_grid, γ_grid, Π, β, init_μ, VJ = household\n",
    "\n",
    "    J = hh.j_grid.size\n",
    "    num_state = hh.a_grid.size * hh.γ_grid.size\n",
    "\n",
    "    def population_evolution_j(j):\n",
    "\n",
    "        Qσ = Q[jnp.arange(num_state), σt[j]]\n",
    "        μ_next = μt[j] @ Qσ\n",
    "\n",
    "        return μ_next\n",
    "\n",
    "    μ_next = jax.vmap(population_evolution_j, (0,))(jnp.arange(J-1))\n",
    "    μ_next = jnp.concatenate([init_μ[jnp.newaxis], μ_next])\n",
    "\n",
    "    return μ_next"
   ]
  },
  {
   "cell_type": "code",
   "execution_count": null,
   "id": "56e28840",
   "metadata": {
    "hide-output": false
   },
   "outputs": [],
   "source": [
    "@jax.jit\n",
    "def simulate_forwards(σ_seq, D_seq, μ_ss1, K_ss1, L_ss1, household, Q):\n",
    "\n",
    "    j_grid, a_grid, γ_grid, Π, β, init_μ, VJ = household\n",
    "\n",
    "    J, num_state = μ_ss1.shape\n",
    "\n",
    "    T = σ_seq.shape[0]\n",
    "\n",
    "    def simulate_forwards_t(μ, t):\n",
    "\n",
    "        μ_next = population_evolution(σ_seq[t], μ, household, Q)\n",
    "\n",
    "        A, L = compute_aggregates(μ_next, household)\n",
    "        K = A - D_seq[t+1]\n",
    "\n",
    "        return μ_next, (μ_next, K, L)\n",
    "\n",
    "    ts = jnp.arange(T-1)\n",
    "    init_μ = μ_ss1\n",
    "\n",
    "    _, outputs = jax.lax.scan(simulate_forwards_t, init_μ, ts)\n",
    "    μ_seq, K_seq, L_seq = outputs\n",
    "\n",
    "    μ_seq = jnp.concatenate([μ_ss1[jnp.newaxis], μ_seq])\n",
    "    K_seq = jnp.concatenate([K_ss1[jnp.newaxis], K_seq])\n",
    "    L_seq = jnp.concatenate([L_ss1[jnp.newaxis], L_seq])\n",
    "\n",
    "    return μ_seq, K_seq, L_seq"
   ]
  },
  {
   "cell_type": "markdown",
   "id": "ab255ee9",
   "metadata": {},
   "source": [
    "The following algorithm describes the path iteration procedure:"
   ]
  },
  {
   "cell_type": "markdown",
   "id": "330b84f7",
   "metadata": {},
   "source": [
    "##  (AK-Aiyagari transition path algorithm)\n",
    "\n",
    "**Inputs** Given initial steady state $ ss_1 $, final steady state $ ss_2 $, time horizon $ T $, and policy sequences $ (D, G, \\delta) $\n",
    "\n",
    "**Output** Compute equilibrium transition paths for value functions $ V $, policy functions $ \\sigma $, distributions $ \\mu $, and prices $ (r, w, \\tau) $\n",
    "\n",
    "1. Initialize from steady states:  \n",
    "  - $ (V_1, \\sigma_1, \\mu_1) \\leftarrow ss_1 $ *(Initial steady state)*  \n",
    "  - $ (V_2, \\sigma_2, \\mu_2) \\leftarrow ss_2 $ *(Final steady state)*  \n",
    "  - $ (r, w, \\tau) \\leftarrow initialize\\_prices(T) $ *(Linear interpolation)*  \n",
    "  - $ error \\leftarrow \\infty $, $ i \\leftarrow 0 $  \n",
    "1. **While** $ error > \\varepsilon $ or $ i \\leq max\\_iter $:  \n",
    "  1. $ i \\leftarrow i + 1 $  \n",
    "  1. $ (r_{\\text{old}}, w_{\\text{old}}, \\tau_{\\text{old}}) \\leftarrow (r, w, \\tau) $  \n",
    "  1. **Backward induction:** For $ t \\in [T, 1] $:  \n",
    "    - For $ j \\in [0, J-1] $ *(age groups)*:  \n",
    "      - $ V[t,j] \\leftarrow \\max_{a'} \\{u(c) + \\beta\\mathbb{E}[V[t+1,j+1]]\\} $  \n",
    "      - $ \\sigma[t,j] \\leftarrow \\arg\\max_{a'} \\{u(c) + \\beta\\mathbb{E}[V[t+1,j+1]]\\} $  \n",
    "  1. **Forward simulation:** For $ t \\in [1, T] $:  \n",
    "    - $ \\mu[t] \\leftarrow \\Gamma(\\sigma[t], \\mu[t-1]) $ *(Distribution evolution)*  \n",
    "    - $ K[t] \\leftarrow \\int a \\, d\\mu[t] - D[t] $ *(Aggregate capital)*  \n",
    "    - $ L[t] \\leftarrow \\int l(j)\\gamma \\, d\\mu[t] $ *(Aggregate labor)*  \n",
    "    - $ r[t] \\leftarrow \\alpha Z(K[t]/L[t])^{\\alpha-1} $ *(Interest rate)*  \n",
    "    - $ w[t] \\leftarrow (1-\\alpha)Z(K[t]/L[t])^{\\alpha} $ *(Wage rate)*  \n",
    "    - $ \\tau[t] \\leftarrow solve\\_budget(r[t],w[t],K[t],L[t],D[t],G[t]) $  \n",
    "  1. Compute convergence metric:  \n",
    "    - $ error \\leftarrow \\|r - r_{\\text{old}}\\| + \\|w - w_{\\text{old}}\\| + \\|\\tau - \\tau_{\\text{old}}\\| $  \n",
    "  1. Update prices with dampening:  \n",
    "    - $ r \\leftarrow \\lambda r + (1-\\lambda)r_{\\text{old}} $  \n",
    "    - $ w \\leftarrow \\lambda w + (1-\\lambda)w_{\\text{old}} $  \n",
    "    - $ \\tau \\leftarrow \\lambda \\tau + (1-\\lambda)\\tau_{\\text{old}} $  \n",
    "1. **Return** $ (V, \\sigma, \\mu, r, w, \\tau) $  "
   ]
  },
  {
   "cell_type": "code",
   "execution_count": null,
   "id": "da281350",
   "metadata": {
    "hide-output": false
   },
   "outputs": [],
   "source": [
    "def path_iteration(ss1, ss2, pol_target, household, firm, Q, tol=1e-4, verbose=False):\n",
    "\n",
    "    # Starting point: initial steady state\n",
    "    V_ss1, σ_ss1, μ_ss1 = ss1[:3]\n",
    "    K_ss1, L_ss1 = ss1[3:5]\n",
    "    r_ss1, w_ss1 = ss1[5:7]\n",
    "    τ_ss1, D_ss1, G_ss1, δ_ss1 = ss1[7:11]\n",
    "\n",
    "    # Ending point: converging new steady state\n",
    "    V_ss2, σ_ss2, μ_ss2 = ss2[:3]\n",
    "    K_ss2, L_ss2 = ss2[3:5]\n",
    "    r_ss2, w_ss2 = ss2[5:7]\n",
    "    τ_ss2, D_ss2, G_ss2, δ_ss2 = ss2[7:11]\n",
    "\n",
    "    # The given policies: D, G, δ\n",
    "    D_seq, G_seq, δ_seq = pol_target\n",
    "    T = G_seq.shape[0]\n",
    "\n",
    "    # Initial guesses of prices\n",
    "    r_seq = jnp.linspace(0, 1, T) * (r_ss2 - r_ss1) + r_ss1\n",
    "    w_seq = jnp.linspace(0, 1, T) * (w_ss2 - w_ss1) + w_ss1\n",
    "\n",
    "    # Initial guess of policy\n",
    "    τ_seq = jnp.linspace(0, 1, T) * (τ_ss2 - τ_ss1) + τ_ss1\n",
    "\n",
    "    error = 1\n",
    "    num_iter = 0\n",
    "\n",
    "    if verbose:\n",
    "        fig, axs = plt.subplots(1, 3, figsize=(14, 3))\n",
    "        axs[0].plot(jnp.arange(T), r_seq)\n",
    "        axs[1].plot(jnp.arange(T), w_seq)\n",
    "        axs[2].plot(jnp.arange(T), τ_seq, label=f'iter {num_iter}')\n",
    "\n",
    "    while error > tol:\n",
    "        # Repeat until finding the fixed point\n",
    "\n",
    "        r_old, w_old, τ_old = r_seq, w_seq, τ_seq\n",
    "\n",
    "        pol_seq = (τ_seq, D_seq, G_seq, δ_seq)\n",
    "        price_seq = (r_seq, w_seq)\n",
    "\n",
    "        # Solve optimal policies backwards\n",
    "        V_seq, σ_seq = solve_backwards(\n",
    "            V_ss2, σ_ss2, hh, firm, price_seq, pol_seq, Q)\n",
    "\n",
    "        # Compute population evolution forwards\n",
    "        μ_seq, K_seq, L_seq = simulate_forwards(\n",
    "            σ_seq, D_seq, μ_ss1, K_ss1, L_ss1, household, Q)\n",
    "\n",
    "        # Update prices by aggregate capital and labor supply\n",
    "        r_seq = KL_to_r(K_seq, L_seq, firm)\n",
    "        w_seq = KL_to_w(K_seq, L_seq, firm)\n",
    "\n",
    "        # Find taxes that balance the government budget constraint\n",
    "        τ_seq = find_τ([D_seq[:-1], D_seq[1:], G_seq, δ_seq],\n",
    "                       [r_seq, w_seq],\n",
    "                       [K_seq, L_seq])\n",
    "\n",
    "        # Distance between new and old guesses\n",
    "        error = jnp.sum((r_old - r_seq) ** 2) + \\\n",
    "                jnp.sum((w_old - w_seq) ** 2) + \\\n",
    "                jnp.sum((τ_old - τ_seq) ** 2)\n",
    "\n",
    "        num_iter += 1\n",
    "        if verbose:\n",
    "            print(f\"Iteration {num_iter:3d}: error = {error:.6e}\")\n",
    "            axs[0].plot(jnp.arange(T), r_seq)\n",
    "            axs[1].plot(jnp.arange(T), w_seq)\n",
    "            axs[2].plot(jnp.arange(T), τ_seq, label=f'iter {num_iter}')\n",
    "\n",
    "        r_seq = (r_seq + r_old) / 2\n",
    "        w_seq = (w_seq + w_old) / 2\n",
    "        τ_seq = (τ_seq + τ_old) / 2\n",
    "\n",
    "    if verbose:\n",
    "        axs[0].set_xlabel('t')\n",
    "        axs[1].set_xlabel('t')\n",
    "        axs[2].set_xlabel('t')\n",
    "\n",
    "        axs[0].set_title('r')\n",
    "        axs[1].set_title('w')\n",
    "        axs[2].set_title('τ')\n",
    "\n",
    "        axs[2].legend(loc='center left', bbox_to_anchor=(1, 0.5))\n",
    "\n",
    "    return V_seq, σ_seq, μ_seq, K_seq, L_seq, r_seq, w_seq, \\\n",
    "            τ_seq, D_seq, G_seq, δ_seq"
   ]
  },
  {
   "cell_type": "markdown",
   "id": "32b1d128",
   "metadata": {},
   "source": [
    "We can now   compute  equilibrium transitions that are  ignited by fiscal policy reforms."
   ]
  },
  {
   "cell_type": "markdown",
   "id": "744d644a",
   "metadata": {},
   "source": [
    "## Experiment 1: Immediate tax cut\n",
    "\n",
    "Assume that the government cuts the tax rate and immediately balances its budget by issuing debt.\n",
    "\n",
    "At $ t=0 $, the government unexpectedly announces an immediate tax cut.\n",
    "\n",
    "From $ t=0 $ to $ 19 $, the government  issues debt, so debt  $ D_{t+1} $  increases linearly for $ 20 $ periods.\n",
    "\n",
    "The government sets a target for its new debt level $ D_{20} =D_0 + 1 = \\bar{D} + 1 $.\n",
    "\n",
    "Government spending $ \\bar{G} $ and transfers $ \\bar{\\delta}_j $ remain constant.\n",
    "\n",
    "The government adjusts $ \\tau_t $ to balance the budget along the transition.\n",
    "\n",
    "We want to compute the equilibrium transition path.\n",
    "\n",
    "Our first step is to prepare appropriate policy variable arrays `D_seq`, `G_seq`, `δ_seq`\n",
    "\n",
    "We’ll compute a `τ_seq` that balances government budgets."
   ]
  },
  {
   "cell_type": "code",
   "execution_count": null,
   "id": "7a64784d",
   "metadata": {
    "hide-output": false
   },
   "outputs": [],
   "source": [
    "T = 150\n",
    "\n",
    "D_seq = jnp.ones(T+1) * D_ss1\n",
    "D_seq = D_seq.at[:21].set(D_ss1 + jnp.linspace(0, 1, 21))\n",
    "D_seq = D_seq.at[21:].set(D_seq[20])\n",
    "\n",
    "G_seq = jnp.ones(T) * G_ss1\n",
    "\n",
    "δ_seq = jnp.repeat(δ_ss1, T).reshape((T, δ_ss1.size))"
   ]
  },
  {
   "cell_type": "markdown",
   "id": "f9f0bdea",
   "metadata": {},
   "source": [
    "In order to iterate the path, we need to first find its destination, which is the new steady state under the new fiscal policy."
   ]
  },
  {
   "cell_type": "code",
   "execution_count": null,
   "id": "133dd146",
   "metadata": {
    "hide-output": false
   },
   "outputs": [],
   "source": [
    "ss2 = find_ss(hh, firm, [D_seq[-1], G_seq[-1], δ_seq[-1]], Q)"
   ]
  },
  {
   "cell_type": "markdown",
   "id": "2f21591c",
   "metadata": {},
   "source": [
    "We can use `path_iteration` to find equilibrium transition dynamics.\n",
    "\n",
    "Setting the key argument `verbose=True` tells the function `path_iteration` to display convergence information."
   ]
  },
  {
   "cell_type": "code",
   "execution_count": null,
   "id": "361b4f65",
   "metadata": {
    "hide-output": false
   },
   "outputs": [],
   "source": [
    "paths = path_iteration(ss1, ss2, [D_seq, G_seq, δ_seq], hh, firm, Q, verbose=True)"
   ]
  },
  {
   "cell_type": "markdown",
   "id": "a553b752",
   "metadata": {},
   "source": [
    "Having successfully computed transition dynamics, let’s study them."
   ]
  },
  {
   "cell_type": "code",
   "execution_count": null,
   "id": "6ee75c06",
   "metadata": {
    "hide-output": false
   },
   "outputs": [],
   "source": [
    "V_seq, σ_seq, μ_seq = paths[:3]\n",
    "K_seq, L_seq = paths[3:5]\n",
    "r_seq, w_seq = paths[5:7]\n",
    "τ_seq, D_seq, G_seq, δ_seq = paths[7:11]"
   ]
  },
  {
   "cell_type": "code",
   "execution_count": null,
   "id": "ff3c2609",
   "metadata": {
    "hide-output": false
   },
   "outputs": [],
   "source": [
    "ap = hh.a_grid[σ_seq[0]]"
   ]
  },
  {
   "cell_type": "code",
   "execution_count": null,
   "id": "8221ea7c",
   "metadata": {
    "hide-output": false
   },
   "outputs": [],
   "source": [
    "j = jnp.reshape(hh.j_grid, (hh.j_grid.size, 1, 1))\n",
    "lj = l(j)\n",
    "a = jnp.reshape(hh.a_grid, (1, hh.a_grid.size, 1))\n",
    "γ = jnp.reshape(hh.γ_grid, (1, 1, hh.γ_grid.size))"
   ]
  },
  {
   "cell_type": "code",
   "execution_count": null,
   "id": "88c5e3ff",
   "metadata": {
    "hide-output": false
   },
   "outputs": [],
   "source": [
    "t = 0\n",
    "\n",
    "ap = hh.a_grid[σ_seq[t]]\n",
    "δ = δ_seq[t].reshape((hh.j_grid.size, 1, 1))\n",
    "\n",
    "inc = (1 + r_seq[t]*(1-τ_seq[t])) * a \\\n",
    "        + (1-τ_seq[t]) * w_seq[t] * lj * γ - δ\n",
    "inc = inc.reshape((hh.j_grid.size, hh.a_grid.size * hh.γ_grid.size))\n",
    "\n",
    "c = inc - ap\n",
    "\n",
    "c_mean0 = (c * μ_seq[t]).sum(axis=1)"
   ]
  },
  {
   "cell_type": "markdown",
   "id": "1ac17c17",
   "metadata": {},
   "source": [
    "We care about how the policy change affects  consumption across   cohorts and across time.\n",
    "\n",
    "We can study  age-specific average consumption levels."
   ]
  },
  {
   "cell_type": "code",
   "execution_count": null,
   "id": "6e4b272c",
   "metadata": {
    "hide-output": false
   },
   "outputs": [],
   "source": [
    "for t in [1, 10, 20, 50, 149]:\n",
    "\n",
    "    ap = hh.a_grid[σ_seq[t]]\n",
    "    δ = δ_seq[t].reshape((hh.j_grid.size, 1, 1))\n",
    "\n",
    "    inc = (1 + r_seq[t]*(1-τ_seq[t])) * a + (1-τ_seq[t]) * w_seq[t] * lj * γ - δ\n",
    "    inc = inc.reshape((hh.j_grid.size, hh.a_grid.size * hh.γ_grid.size))\n",
    "\n",
    "    c = inc - ap\n",
    "\n",
    "    c_mean = (c * μ_seq[t]).sum(axis=1)\n",
    "\n",
    "    plt.plot(range(hh.j_grid.size), c_mean-c_mean0, label=f't={t}')\n",
    "\n",
    "plt.legend()\n",
    "plt.xlabel(r'j')\n",
    "plt.title(r'$\\Delta mean(C(j))$')\n",
    "plt.show()"
   ]
  },
  {
   "cell_type": "markdown",
   "id": "cac8b1b2",
   "metadata": {},
   "source": [
    "To summarize the transition, we can plot paths as we did in [Transitions in an Overlapping Generations Model](https://python.quantecon.org/ak2.html).\n",
    "\n",
    "But unlike the setup in that two-period lived overlapping generations model, we no longer have representative old and young agents.\n",
    "\n",
    "- now we have 50 cohorts of different ages at each time  \n",
    "\n",
    "\n",
    "To proceed, we construct two age groups of equal size – young and old.\n",
    "\n",
    "- at age 25, someone moves from being young to becoming old  "
   ]
  },
  {
   "cell_type": "code",
   "execution_count": null,
   "id": "2c3bebee",
   "metadata": {
    "hide-output": false
   },
   "outputs": [],
   "source": [
    "ap = hh.a_grid[σ_ss1]\n",
    "J = hh.j_grid.size\n",
    "δ = δ_ss1.reshape((hh.j_grid.size, 1, 1))\n",
    "\n",
    "inc = (1 + r_ss1*(1-τ_ss1)) * a + (1-τ_ss1) * w_ss1 * lj * γ - δ\n",
    "inc = inc.reshape((hh.j_grid.size, hh.a_grid.size * hh.γ_grid.size))\n",
    "\n",
    "c = inc - ap\n",
    "\n",
    "Cy_ss1 = (c[:J//2] * μ_ss1[:J//2]).sum() / (J // 2)\n",
    "Co_ss1 = (c[J//2:] * μ_ss1[J//2:]).sum() / (J // 2)"
   ]
  },
  {
   "cell_type": "code",
   "execution_count": null,
   "id": "6bf8781f",
   "metadata": {
    "hide-output": false
   },
   "outputs": [],
   "source": [
    "T = σ_seq.shape[0]\n",
    "J = σ_seq.shape[1]\n",
    "\n",
    "Cy_seq = np.empty(T)\n",
    "Co_seq = np.empty(T)\n",
    "\n",
    "for t in range(T):\n",
    "    ap = hh.a_grid[σ_seq[t]]\n",
    "    δ = δ_seq[t].reshape((hh.j_grid.size, 1, 1))\n",
    "\n",
    "    inc = (1 + r_seq[t]*(1-τ_seq[t])) * a + (1-τ_seq[t]) * w_seq[t] * lj * γ - δ\n",
    "    inc = inc.reshape((hh.j_grid.size, hh.a_grid.size * hh.γ_grid.size))\n",
    "\n",
    "    c = inc - ap\n",
    "\n",
    "    Cy_seq[t] = (c[:J//2] * μ_seq[t, :J//2]).sum() / (J // 2)\n",
    "    Co_seq[t] = (c[J//2:] * μ_seq[t, J//2:]).sum() / (J // 2)"
   ]
  },
  {
   "cell_type": "code",
   "execution_count": null,
   "id": "a692cb77",
   "metadata": {
    "hide-output": false
   },
   "outputs": [],
   "source": [
    "fig, axs = plt.subplots(3, 3, figsize=(14, 10))\n",
    "\n",
    "# Cy (j=0-24)\n",
    "axs[0, 0].plot(Cy_seq)\n",
    "axs[0, 0].hlines(Cy_ss1, 0, T, color='r', linestyle='--')\n",
    "axs[0, 0].set_title('Cy (j < 25)')\n",
    "\n",
    "# Cy (j=25-49)\n",
    "axs[0, 1].plot(Co_seq)\n",
    "axs[0, 1].hlines(Co_ss1, 0, T, color='r', linestyle='--')\n",
    "axs[0, 1].set_title(r'Co (j $\\geq$ 25)')\n",
    "\n",
    "names = ['K', 'L', 'r', 'w', 'τ', 'D', 'G']\n",
    "for i in range(len(names)):\n",
    "    i_var = i + 3\n",
    "    i_axes = i + 2\n",
    "\n",
    "    row_i = i_axes // 3\n",
    "    col_i = i_axes % 3\n",
    "\n",
    "    axs[row_i, col_i].plot(paths[i_var])\n",
    "    axs[row_i, col_i].hlines(ss1[i_var], 0, T, color='r', linestyle='--')\n",
    "    axs[row_i, col_i].set_title(names[i])\n",
    "\n",
    "# ylims\n",
    "axs[1, 0].set_ylim([ss1[4]-0.1, ss1[4]+0.1])\n",
    "axs[2, 2].set_ylim([ss1[9]-0.1, ss1[9]+0.1])\n",
    "\n",
    "plt.show()"
   ]
  },
  {
   "cell_type": "markdown",
   "id": "3fc2e8ff",
   "metadata": {},
   "source": [
    "Now let’s compute the mean and variance of consumption conditional on age at each time $ t $."
   ]
  },
  {
   "cell_type": "code",
   "execution_count": null,
   "id": "d12d0267",
   "metadata": {
    "hide-output": false
   },
   "outputs": [],
   "source": [
    "Cmean_seq = np.empty((T, J))\n",
    "Cvar_seq = np.empty((T, J))\n",
    "\n",
    "for t in range(T):\n",
    "    ap = hh.a_grid[σ_seq[t]]\n",
    "    δ = δ_seq[t].reshape((hh.j_grid.size, 1, 1))\n",
    "\n",
    "    inc = (1 + r_seq[t]*(1-τ_seq[t])) * a + (1-τ_seq[t]) * w_seq[t] * lj * γ - δ\n",
    "    inc = inc.reshape((hh.j_grid.size, hh.a_grid.size * hh.γ_grid.size))\n",
    "\n",
    "    c = inc - ap\n",
    "\n",
    "    Cmean_seq[t] = (c * μ_seq[t]).sum(axis=1)\n",
    "    Cvar_seq[t] = ((c - Cmean_seq[t].reshape((J, 1))) ** 2 * μ_seq[t]).sum(axis=1)"
   ]
  },
  {
   "cell_type": "code",
   "execution_count": null,
   "id": "eb247160",
   "metadata": {
    "hide-output": false
   },
   "outputs": [],
   "source": [
    "J_seq, T_range = np.meshgrid(np.arange(J), np.arange(T))\n",
    "\n",
    "fig = plt.figure(figsize=[20, 20])\n",
    "\n",
    "# Plot the consumption mean over age and time\n",
    "ax1 = fig.add_subplot(121, projection='3d')\n",
    "ax1.plot_surface(T_range, J_seq, Cmean_seq, rstride=1, cstride=1,\n",
    "                cmap='viridis', edgecolor='none')\n",
    "ax1.set_title(r\"Mean of consumption\")\n",
    "ax1.set_xlabel(r\"t\")\n",
    "ax1.set_ylabel(r\"j\")\n",
    "\n",
    "# plot the consumption variance over age and time\n",
    "ax2 = fig.add_subplot(122, projection='3d')\n",
    "ax2.plot_surface(T_range, J_seq, Cvar_seq, rstride=1, cstride=1,\n",
    "                cmap='viridis', edgecolor='none')\n",
    "ax2.set_title(r\"Variance of consumption\")\n",
    "ax2.set_xlabel(r\"t\")\n",
    "ax2.set_ylabel(r\"j\")\n",
    "\n",
    "plt.show()"
   ]
  },
  {
   "cell_type": "markdown",
   "id": "99c7425a",
   "metadata": {},
   "source": [
    "## Experiment 2: Preannounced tax cut\n",
    "\n",
    "Now the government announces a permanent tax rate cut at time $ 0 $ but implements it only after 20 periods.\n",
    "\n",
    "We will use the same key toolkit `path_iteration`.\n",
    "\n",
    "We must specify `D_seq` appropriately."
   ]
  },
  {
   "cell_type": "code",
   "execution_count": null,
   "id": "2031744e",
   "metadata": {
    "hide-output": false
   },
   "outputs": [],
   "source": [
    "T = 150\n",
    "\n",
    "D_t = 20\n",
    "D_seq = jnp.ones(T+1) * D_ss1\n",
    "D_seq = D_seq.at[D_t:D_t+21].set(D_ss1 + jnp.linspace(0, 1, 21))\n",
    "D_seq = D_seq.at[D_t+21:].set(D_seq[D_t+20])\n",
    "\n",
    "G_seq = jnp.ones(T) * G_ss1\n",
    "\n",
    "δ_seq = jnp.repeat(δ_ss1, T).reshape((T, δ_ss1.size))"
   ]
  },
  {
   "cell_type": "code",
   "execution_count": null,
   "id": "cf64509d",
   "metadata": {
    "hide-output": false
   },
   "outputs": [],
   "source": [
    "ss2 = find_ss(hh, firm, [D_seq[-1], G_seq[-1], δ_seq[-1]], Q)"
   ]
  },
  {
   "cell_type": "code",
   "execution_count": null,
   "id": "404eb203",
   "metadata": {
    "hide-output": false
   },
   "outputs": [],
   "source": [
    "paths = path_iteration(ss1, ss2, [D_seq, G_seq, δ_seq], \n",
    "                    hh, firm, Q, verbose=True)"
   ]
  },
  {
   "cell_type": "code",
   "execution_count": null,
   "id": "6219c475",
   "metadata": {
    "hide-output": false
   },
   "outputs": [],
   "source": [
    "V_seq, σ_seq, μ_seq = paths[:3]\n",
    "K_seq, L_seq = paths[3:5]\n",
    "r_seq, w_seq = paths[5:7]\n",
    "τ_seq, D_seq, G_seq, δ_seq = paths[7:11]"
   ]
  },
  {
   "cell_type": "code",
   "execution_count": null,
   "id": "fa4723ce",
   "metadata": {
    "hide-output": false
   },
   "outputs": [],
   "source": [
    "T = σ_seq.shape[0]\n",
    "J = σ_seq.shape[1]\n",
    "\n",
    "Cy_seq = np.empty(T)\n",
    "Co_seq = np.empty(T)\n",
    "\n",
    "for t in range(T):\n",
    "    ap = hh.a_grid[σ_seq[t]]\n",
    "    δ = δ_seq[t].reshape((hh.j_grid.size, 1, 1))\n",
    "\n",
    "    inc = (1 + r_seq[t]*(1-τ_seq[t])) * a + (1-τ_seq[t]) * w_seq[t] * lj * γ - δ\n",
    "    inc = inc.reshape((hh.j_grid.size, hh.a_grid.size * hh.γ_grid.size))\n",
    "\n",
    "    c = inc - ap\n",
    "\n",
    "    Cy_seq[t] = (c[:J//2] * μ_seq[t, :J//2]).sum() / (J // 2)\n",
    "    Co_seq[t] = (c[J//2:] * μ_seq[t, J//2:]).sum() / (J // 2)"
   ]
  },
  {
   "cell_type": "markdown",
   "id": "b52f7803",
   "metadata": {},
   "source": [
    "Below we plot the transition paths of the economy."
   ]
  },
  {
   "cell_type": "code",
   "execution_count": null,
   "id": "f6278846",
   "metadata": {
    "hide-output": false
   },
   "outputs": [],
   "source": [
    "fig, axs = plt.subplots(3, 3, figsize=(14, 10))\n",
    "\n",
    "# Cy (j=0-24)\n",
    "axs[0, 0].plot(Cy_seq)\n",
    "axs[0, 0].hlines(Cy_ss1, 0, T, color='r', linestyle='--')\n",
    "axs[0, 0].set_title('Cy (j < 25)')\n",
    "\n",
    "# Cy (j=25-49)\n",
    "axs[0, 1].plot(Co_seq)\n",
    "axs[0, 1].hlines(Co_ss1, 0, T, color='r', linestyle='--')\n",
    "axs[0, 1].set_title(r'Co (j $\\geq$ 25)')\n",
    "\n",
    "names = ['K', 'L', 'r', 'w', 'τ', 'D', 'G']\n",
    "for i in range(len(names)):\n",
    "    i_var = i + 3\n",
    "    i_axes = i + 2\n",
    "\n",
    "    row_i = i_axes // 3\n",
    "    col_i = i_axes % 3\n",
    "\n",
    "    axs[row_i, col_i].plot(paths[i_var])\n",
    "    axs[row_i, col_i].hlines(ss1[i_var], 0, T, color='r', linestyle='--')\n",
    "    axs[row_i, col_i].set_title(names[i])\n",
    "\n",
    "# ylims\n",
    "axs[1, 0].set_ylim([ss1[4]-0.1, ss1[4]+0.1])\n",
    "axs[2, 2].set_ylim([ss1[9]-0.1, ss1[9]+0.1])\n",
    "\n",
    "plt.show()"
   ]
  },
  {
   "cell_type": "markdown",
   "id": "f2a9882c",
   "metadata": {},
   "source": [
    "Notice how prices and quantities  respond immediately to the anticipated tax rate increase.\n",
    "\n",
    "Let’s zoom in on how the capital stock  responds."
   ]
  },
  {
   "cell_type": "code",
   "execution_count": null,
   "id": "5ede9546",
   "metadata": {
    "hide-output": false
   },
   "outputs": [],
   "source": [
    "# K\n",
    "i_var = 3\n",
    "\n",
    "plt.plot(paths[i_var][:25])\n",
    "plt.hlines(ss1[i_var], 0, 25, color='r', linestyle='--')\n",
    "plt.vlines(20, 6, 7, color='k', linestyle='--', linewidth=0.5)\n",
    "plt.text(17, 6.56, r'tax cut')\n",
    "plt.ylim([6.52, 6.65])\n",
    "plt.title(\"K\")\n",
    "plt.xlabel(\"t\")\n",
    "plt.show()"
   ]
  },
  {
   "cell_type": "markdown",
   "id": "b3265686",
   "metadata": {},
   "source": [
    "After the tax cut policy is implemented at $ t=20 $, the aggregate capital will decrease because of the crowding out effect.\n",
    "\n",
    "Having foreseen an increase in the interest rate, individuals a few periods before $ t=20 $ start saving more.\n",
    "\n",
    "Because that increases the capital, a temporary decrease in the interest rate ensues.\n",
    "\n",
    "For agents living in much earlier periods, that lower interest rate causes them to save less.\n",
    "\n",
    "We can also plot evolutions of means and variances of consumption by different cohorts along a transition path."
   ]
  },
  {
   "cell_type": "code",
   "execution_count": null,
   "id": "24e50d93",
   "metadata": {
    "hide-output": false
   },
   "outputs": [],
   "source": [
    "Cmean_seq = np.empty((T, J))\n",
    "Cvar_seq = np.empty((T, J))\n",
    "\n",
    "for t in range(T):\n",
    "    ap = hh.a_grid[σ_seq[t]]\n",
    "    δ = δ_seq[t].reshape((hh.j_grid.size, 1, 1))\n",
    "\n",
    "    inc = (1 + r_seq[t]*(1-τ_seq[t])) * a + (1-τ_seq[t]) * w_seq[t] * lj * γ - δ\n",
    "    inc = inc.reshape((hh.j_grid.size, hh.a_grid.size * hh.γ_grid.size))\n",
    "\n",
    "    c = inc - ap\n",
    "\n",
    "    Cmean_seq[t] = (c * μ_seq[t]).sum(axis=1)\n",
    "    Cvar_seq[t] = (\n",
    "        (c - Cmean_seq[t].reshape((J, 1))) ** 2 * μ_seq[t]).sum(axis=1)"
   ]
  },
  {
   "cell_type": "code",
   "execution_count": null,
   "id": "33cb8d23",
   "metadata": {
    "hide-output": false
   },
   "outputs": [],
   "source": [
    "J_seq, T_range = np.meshgrid(np.arange(J), np.arange(T))\n",
    "\n",
    "fig = plt.figure(figsize=[20, 20])\n",
    "\n",
    "# Plot the consumption mean over age and time\n",
    "ax1 = fig.add_subplot(121, projection='3d')\n",
    "ax1.plot_surface(T_range, J_seq, Cmean_seq, rstride=1, cstride=1,\n",
    "                cmap='viridis', edgecolor='none')\n",
    "ax1.set_title(r\"Mean of consumption\")\n",
    "ax1.set_xlabel(r\"t\")\n",
    "ax1.set_ylabel(r\"j\")\n",
    "\n",
    "# Plot the consumption variance over age and time\n",
    "ax2 = fig.add_subplot(122, projection='3d')\n",
    "ax2.plot_surface(T_range, J_seq, Cvar_seq, rstride=1, cstride=1,\n",
    "                cmap='viridis', edgecolor='none')\n",
    "ax2.set_title(r\"Variance of consumption\")\n",
    "ax2.set_xlabel(r\"t\")\n",
    "ax2.set_ylabel(r\"j\")\n",
    "\n",
    "plt.show()"
   ]
  }
 ],
 "metadata": {
  "date": 1757648504.609568,
  "filename": "ak_aiyagari.md",
  "kernelspec": {
   "display_name": "Python",
   "language": "python3",
   "name": "python3"
  },
  "title": "A Long-Lived, Heterogeneous Agent, Overlapping Generations Model"
 },
 "nbformat": 4,
 "nbformat_minor": 5
}